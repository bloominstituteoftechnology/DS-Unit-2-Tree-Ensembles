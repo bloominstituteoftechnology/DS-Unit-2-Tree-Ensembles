{
 "cells": [
  {
   "cell_type": "markdown",
   "metadata": {
    "colab_type": "text",
    "id": "7NQhCv9N9NCo"
   },
   "source": [
    "_Lambda School Data Science, Unit 2_\n",
    " \n",
    "# Sprint Challenge: Predict Steph Curry's shots 🏀\n",
    "\n",
    "For your Sprint Challenge, you'll use a dataset with all Steph Curry's NBA field goal attempts. (Regular season and playoff games, from October 28, 2009, through June 5, 2019.) \n",
    "\n",
    "You'll use information about the shot and the game to predict whether the shot was made. This is hard to predict! Try for an accuracy score in the high 50's or low 60's. The dataset was collected with the [nba_api](https://github.com/swar/nba_api) Python library."
   ]
  },
  {
   "cell_type": "code",
   "execution_count": 245,
   "metadata": {
    "colab": {},
    "colab_type": "code",
    "id": "5RDEWI9c9NCr"
   },
   "outputs": [],
   "source": [
    "import pandas as pd\n",
    "url = 'https://drive.google.com/uc?export=download&id=1fL7KPyxgGYfQDsuJoBWHIWwCAf-HTFpX'\n",
    "df = pd.read_csv(url, parse_dates=['game_date']).set_index('game_date')\n",
    "assert df.shape == (13958, 19)"
   ]
  },
  {
   "cell_type": "code",
   "execution_count": 246,
   "metadata": {},
   "outputs": [],
   "source": [
    "import category_encoders as ce\n",
    "import matplotlib.pyplot as plt\n",
    "import numpy as np\n",
    "import seaborn as sns\n",
    "from sklearn.impute import SimpleImputer\n",
    "from sklearn.metrics import accuracy_score\n",
    "from sklearn.model_selection import train_test_split\n",
    "from sklearn.pipeline import make_pipeline\n",
    "from sklearn.ensemble import RandomForestClassifier\n",
    "from sklearn.pipeline import Pipeline\n",
    "from sklearn.preprocessing import StandardScaler\n",
    "from sklearn.compose import ColumnTransformer\n",
    "from sklearn.metrics import classification_report"
   ]
  },
  {
   "cell_type": "markdown",
   "metadata": {
    "colab_type": "text",
    "id": "gWRX4uaY9NCw"
   },
   "source": [
    "This Sprint Challenge has two parts. To demonstrate mastery on each part, do all the required, numbered instructions. To earn a score of \"3\" for the part, also do the stretch goals.\n",
    "\n",
    "## Part 1. Prepare to model\n",
    "\n",
    "### Required\n",
    "\n",
    "1. **Do train/validate/test split.** Use the 2009-10 season through 2016-17 season to train, the 2017-18 season to validate, and the 2018-19 season to test. NBA seasons begin in October and end in June. You'll know you've split the data correctly when your train set has 11081 observations, your validation set has 1168 observations, and your test set has 1709 observations.\n",
    "2. **Begin with baselines for classification.** Your target to predict is `shot_made_flag`. What is the baseline accuracy for the validation set, if you guessed the majority class for every prediction?\n",
    "3. **Use Ordinal Encoding _or_ One-Hot Encoding,** for the categorical features you select.\n",
    "4. **Train a Random Forest _or_ Logistic Regression** with the features you select.\n",
    "\n",
    "### Stretch goals\n",
    "Engineer at least 4 of these 5 features:\n",
    "\n",
    "- **Homecourt Advantage**: Is the home team (`htm`) the Golden State Warriors (`GSW`) ?\n",
    "- **Opponent**: Who is the other team playing the Golden State Warriors?\n",
    "- **Seconds remaining in the period**: Combine minutes remaining with seconds remaining, to get the total number of seconds remaining in the period.\n",
    "- **Seconds remaining in the game**: Combine period, and seconds remaining in the period, to get the total number of seconds remaining in the game. A basketball game has 4 periods, each 12 minutes long.\n",
    "- **Made previous shot**: Was Steph Curry's previous shot successful?\n",
    "    \n",
    "\n",
    "## Part 2. Evaluate models\n",
    "\n",
    "### Required\n",
    "1. Get your model's **validation accuracy.** (Multiple times if you try multiple iterations.)\n",
    "2. Get your model's **test accuracy.** (One time, at the end.)\n",
    "3. Get and plot your Random Forest's **feature importances** _or_ your Logistic Regression's **coefficients.**\n",
    "4. Imagine this is the confusion matrix for a binary classification model. **Calculate accuracy, precision, and recall for this confusion matrix:**\n",
    "\n",
    "<table>\n",
    "  <tr>\n",
    "    <td colspan=\"2\" rowspan=\"2\"></td>\n",
    "    <td colspan=\"2\">Predicted</td>\n",
    "  </tr>\n",
    "  <tr>\n",
    "    <td>Negative</td>\n",
    "    <td>Positive</td>\n",
    "  </tr>\n",
    "  <tr>\n",
    "    <td rowspan=\"2\">Actual</td>\n",
    "    <td>Negative</td>\n",
    "    <td style=\"border: solid\">85</td>\n",
    "    <td style=\"border: solid\">58</td>\n",
    "  </tr>\n",
    "  <tr>\n",
    "    <td>Positive</td>\n",
    "    <td style=\"border: solid\">8</td>\n",
    "    <td style=\"border: solid\"> 36</td>\n",
    "  </tr>\n",
    "</table>\n",
    "\n",
    "\n",
    "### Stretch goals\n",
    "- Calculate F1 score for the provided, imaginary confusion matrix.\n",
    "- Plot a real confusion matrix for your basketball model, with row and column labels.\n",
    "- Print the classification report for your model."
   ]
  },
  {
   "cell_type": "code",
   "execution_count": 247,
   "metadata": {},
   "outputs": [
    {
     "data": {
      "text/html": [
       "<div>\n",
       "<style scoped>\n",
       "    .dataframe tbody tr th:only-of-type {\n",
       "        vertical-align: middle;\n",
       "    }\n",
       "\n",
       "    .dataframe tbody tr th {\n",
       "        vertical-align: top;\n",
       "    }\n",
       "\n",
       "    .dataframe thead th {\n",
       "        text-align: right;\n",
       "    }\n",
       "</style>\n",
       "<table border=\"1\" class=\"dataframe\">\n",
       "  <thead>\n",
       "    <tr style=\"text-align: right;\">\n",
       "      <th></th>\n",
       "      <th>game_id</th>\n",
       "      <th>game_event_id</th>\n",
       "      <th>player_name</th>\n",
       "      <th>period</th>\n",
       "      <th>minutes_remaining</th>\n",
       "      <th>seconds_remaining</th>\n",
       "      <th>action_type</th>\n",
       "      <th>shot_type</th>\n",
       "      <th>shot_zone_basic</th>\n",
       "      <th>shot_zone_area</th>\n",
       "      <th>shot_zone_range</th>\n",
       "      <th>shot_distance</th>\n",
       "      <th>loc_x</th>\n",
       "      <th>loc_y</th>\n",
       "      <th>shot_made_flag</th>\n",
       "      <th>htm</th>\n",
       "      <th>vtm</th>\n",
       "      <th>season_type</th>\n",
       "      <th>scoremargin_before_shot</th>\n",
       "    </tr>\n",
       "    <tr>\n",
       "      <th>game_date</th>\n",
       "      <th></th>\n",
       "      <th></th>\n",
       "      <th></th>\n",
       "      <th></th>\n",
       "      <th></th>\n",
       "      <th></th>\n",
       "      <th></th>\n",
       "      <th></th>\n",
       "      <th></th>\n",
       "      <th></th>\n",
       "      <th></th>\n",
       "      <th></th>\n",
       "      <th></th>\n",
       "      <th></th>\n",
       "      <th></th>\n",
       "      <th></th>\n",
       "      <th></th>\n",
       "      <th></th>\n",
       "      <th></th>\n",
       "    </tr>\n",
       "  </thead>\n",
       "  <tbody>\n",
       "    <tr>\n",
       "      <th>2019-01-16</th>\n",
       "      <td>21800663</td>\n",
       "      <td>323</td>\n",
       "      <td>Stephen Curry</td>\n",
       "      <td>2</td>\n",
       "      <td>3</td>\n",
       "      <td>48</td>\n",
       "      <td>Jump Shot</td>\n",
       "      <td>3PT Field Goal</td>\n",
       "      <td>Above the Break 3</td>\n",
       "      <td>Center(C)</td>\n",
       "      <td>24+ ft.</td>\n",
       "      <td>27</td>\n",
       "      <td>-36</td>\n",
       "      <td>268</td>\n",
       "      <td>0</td>\n",
       "      <td>GSW</td>\n",
       "      <td>NOP</td>\n",
       "      <td>Regular Season</td>\n",
       "      <td>-9.0</td>\n",
       "    </tr>\n",
       "    <tr>\n",
       "      <th>2017-06-09</th>\n",
       "      <td>41600404</td>\n",
       "      <td>144</td>\n",
       "      <td>Stephen Curry</td>\n",
       "      <td>1</td>\n",
       "      <td>2</td>\n",
       "      <td>21</td>\n",
       "      <td>Jump Shot</td>\n",
       "      <td>3PT Field Goal</td>\n",
       "      <td>Above the Break 3</td>\n",
       "      <td>Left Side Center(LC)</td>\n",
       "      <td>24+ ft.</td>\n",
       "      <td>25</td>\n",
       "      <td>-222</td>\n",
       "      <td>124</td>\n",
       "      <td>0</td>\n",
       "      <td>CLE</td>\n",
       "      <td>GSW</td>\n",
       "      <td>Playoffs</td>\n",
       "      <td>-9.0</td>\n",
       "    </tr>\n",
       "    <tr>\n",
       "      <th>2017-11-08</th>\n",
       "      <td>21700163</td>\n",
       "      <td>61</td>\n",
       "      <td>Stephen Curry</td>\n",
       "      <td>1</td>\n",
       "      <td>6</td>\n",
       "      <td>22</td>\n",
       "      <td>Driving Floating Jump Shot</td>\n",
       "      <td>2PT Field Goal</td>\n",
       "      <td>In The Paint (Non-RA)</td>\n",
       "      <td>Center(C)</td>\n",
       "      <td>8-16 ft.</td>\n",
       "      <td>11</td>\n",
       "      <td>16</td>\n",
       "      <td>115</td>\n",
       "      <td>1</td>\n",
       "      <td>GSW</td>\n",
       "      <td>MIN</td>\n",
       "      <td>Regular Season</td>\n",
       "      <td>-5.0</td>\n",
       "    </tr>\n",
       "    <tr>\n",
       "      <th>2017-02-25</th>\n",
       "      <td>21600873</td>\n",
       "      <td>527</td>\n",
       "      <td>Stephen Curry</td>\n",
       "      <td>4</td>\n",
       "      <td>2</td>\n",
       "      <td>31</td>\n",
       "      <td>Pullup Jump shot</td>\n",
       "      <td>3PT Field Goal</td>\n",
       "      <td>Above the Break 3</td>\n",
       "      <td>Center(C)</td>\n",
       "      <td>24+ ft.</td>\n",
       "      <td>25</td>\n",
       "      <td>-19</td>\n",
       "      <td>259</td>\n",
       "      <td>1</td>\n",
       "      <td>GSW</td>\n",
       "      <td>BKN</td>\n",
       "      <td>Regular Season</td>\n",
       "      <td>11.0</td>\n",
       "    </tr>\n",
       "    <tr>\n",
       "      <th>2013-03-27</th>\n",
       "      <td>21201069</td>\n",
       "      <td>230</td>\n",
       "      <td>Stephen Curry</td>\n",
       "      <td>2</td>\n",
       "      <td>1</td>\n",
       "      <td>20</td>\n",
       "      <td>Layup Shot</td>\n",
       "      <td>2PT Field Goal</td>\n",
       "      <td>Restricted Area</td>\n",
       "      <td>Center(C)</td>\n",
       "      <td>Less Than 8 ft.</td>\n",
       "      <td>2</td>\n",
       "      <td>2</td>\n",
       "      <td>23</td>\n",
       "      <td>0</td>\n",
       "      <td>GSW</td>\n",
       "      <td>SAC</td>\n",
       "      <td>Regular Season</td>\n",
       "      <td>-1.0</td>\n",
       "    </tr>\n",
       "    <tr>\n",
       "      <th>2016-01-14</th>\n",
       "      <td>21500592</td>\n",
       "      <td>279</td>\n",
       "      <td>Stephen Curry</td>\n",
       "      <td>2</td>\n",
       "      <td>0</td>\n",
       "      <td>20</td>\n",
       "      <td>Jump Shot</td>\n",
       "      <td>3PT Field Goal</td>\n",
       "      <td>Left Corner 3</td>\n",
       "      <td>Left Side(L)</td>\n",
       "      <td>24+ ft.</td>\n",
       "      <td>23</td>\n",
       "      <td>-235</td>\n",
       "      <td>47</td>\n",
       "      <td>0</td>\n",
       "      <td>GSW</td>\n",
       "      <td>LAL</td>\n",
       "      <td>Regular Season</td>\n",
       "      <td>3.0</td>\n",
       "    </tr>\n",
       "    <tr>\n",
       "      <th>2013-03-01</th>\n",
       "      <td>21200867</td>\n",
       "      <td>143</td>\n",
       "      <td>Stephen Curry</td>\n",
       "      <td>2</td>\n",
       "      <td>11</td>\n",
       "      <td>48</td>\n",
       "      <td>Jump Shot</td>\n",
       "      <td>3PT Field Goal</td>\n",
       "      <td>Above the Break 3</td>\n",
       "      <td>Right Side Center(RC)</td>\n",
       "      <td>24+ ft.</td>\n",
       "      <td>25</td>\n",
       "      <td>230</td>\n",
       "      <td>102</td>\n",
       "      <td>1</td>\n",
       "      <td>BOS</td>\n",
       "      <td>GSW</td>\n",
       "      <td>Regular Season</td>\n",
       "      <td>-11.0</td>\n",
       "    </tr>\n",
       "    <tr>\n",
       "      <th>2010-11-08</th>\n",
       "      <td>21000097</td>\n",
       "      <td>70</td>\n",
       "      <td>Stephen Curry</td>\n",
       "      <td>1</td>\n",
       "      <td>3</td>\n",
       "      <td>14</td>\n",
       "      <td>Driving Finger Roll Layup Shot</td>\n",
       "      <td>2PT Field Goal</td>\n",
       "      <td>Restricted Area</td>\n",
       "      <td>Center(C)</td>\n",
       "      <td>Less Than 8 ft.</td>\n",
       "      <td>1</td>\n",
       "      <td>12</td>\n",
       "      <td>15</td>\n",
       "      <td>0</td>\n",
       "      <td>TOR</td>\n",
       "      <td>GSW</td>\n",
       "      <td>Regular Season</td>\n",
       "      <td>4.0</td>\n",
       "    </tr>\n",
       "    <tr>\n",
       "      <th>2018-01-17</th>\n",
       "      <td>21700657</td>\n",
       "      <td>348</td>\n",
       "      <td>Stephen Curry</td>\n",
       "      <td>3</td>\n",
       "      <td>11</td>\n",
       "      <td>49</td>\n",
       "      <td>Jump Shot</td>\n",
       "      <td>3PT Field Goal</td>\n",
       "      <td>Above the Break 3</td>\n",
       "      <td>Center(C)</td>\n",
       "      <td>24+ ft.</td>\n",
       "      <td>24</td>\n",
       "      <td>73</td>\n",
       "      <td>235</td>\n",
       "      <td>0</td>\n",
       "      <td>CHI</td>\n",
       "      <td>GSW</td>\n",
       "      <td>Regular Season</td>\n",
       "      <td>-3.0</td>\n",
       "    </tr>\n",
       "    <tr>\n",
       "      <th>2013-03-13</th>\n",
       "      <td>21200966</td>\n",
       "      <td>221</td>\n",
       "      <td>Stephen Curry</td>\n",
       "      <td>3</td>\n",
       "      <td>10</td>\n",
       "      <td>56</td>\n",
       "      <td>Step Back Jump shot</td>\n",
       "      <td>2PT Field Goal</td>\n",
       "      <td>Mid-Range</td>\n",
       "      <td>Right Side Center(RC)</td>\n",
       "      <td>16-24 ft.</td>\n",
       "      <td>20</td>\n",
       "      <td>86</td>\n",
       "      <td>186</td>\n",
       "      <td>1</td>\n",
       "      <td>GSW</td>\n",
       "      <td>DET</td>\n",
       "      <td>Regular Season</td>\n",
       "      <td>0.0</td>\n",
       "    </tr>\n",
       "  </tbody>\n",
       "</table>\n",
       "</div>"
      ],
      "text/plain": [
       "             game_id  game_event_id    player_name  period  minutes_remaining  \\\n",
       "game_date                                                                       \n",
       "2019-01-16  21800663            323  Stephen Curry       2                  3   \n",
       "2017-06-09  41600404            144  Stephen Curry       1                  2   \n",
       "2017-11-08  21700163             61  Stephen Curry       1                  6   \n",
       "2017-02-25  21600873            527  Stephen Curry       4                  2   \n",
       "2013-03-27  21201069            230  Stephen Curry       2                  1   \n",
       "2016-01-14  21500592            279  Stephen Curry       2                  0   \n",
       "2013-03-01  21200867            143  Stephen Curry       2                 11   \n",
       "2010-11-08  21000097             70  Stephen Curry       1                  3   \n",
       "2018-01-17  21700657            348  Stephen Curry       3                 11   \n",
       "2013-03-13  21200966            221  Stephen Curry       3                 10   \n",
       "\n",
       "            seconds_remaining                     action_type       shot_type  \\\n",
       "game_date                                                                       \n",
       "2019-01-16                 48                       Jump Shot  3PT Field Goal   \n",
       "2017-06-09                 21                       Jump Shot  3PT Field Goal   \n",
       "2017-11-08                 22      Driving Floating Jump Shot  2PT Field Goal   \n",
       "2017-02-25                 31                Pullup Jump shot  3PT Field Goal   \n",
       "2013-03-27                 20                      Layup Shot  2PT Field Goal   \n",
       "2016-01-14                 20                       Jump Shot  3PT Field Goal   \n",
       "2013-03-01                 48                       Jump Shot  3PT Field Goal   \n",
       "2010-11-08                 14  Driving Finger Roll Layup Shot  2PT Field Goal   \n",
       "2018-01-17                 49                       Jump Shot  3PT Field Goal   \n",
       "2013-03-13                 56             Step Back Jump shot  2PT Field Goal   \n",
       "\n",
       "                  shot_zone_basic         shot_zone_area  shot_zone_range  \\\n",
       "game_date                                                                   \n",
       "2019-01-16      Above the Break 3              Center(C)          24+ ft.   \n",
       "2017-06-09      Above the Break 3   Left Side Center(LC)          24+ ft.   \n",
       "2017-11-08  In The Paint (Non-RA)              Center(C)         8-16 ft.   \n",
       "2017-02-25      Above the Break 3              Center(C)          24+ ft.   \n",
       "2013-03-27        Restricted Area              Center(C)  Less Than 8 ft.   \n",
       "2016-01-14          Left Corner 3           Left Side(L)          24+ ft.   \n",
       "2013-03-01      Above the Break 3  Right Side Center(RC)          24+ ft.   \n",
       "2010-11-08        Restricted Area              Center(C)  Less Than 8 ft.   \n",
       "2018-01-17      Above the Break 3              Center(C)          24+ ft.   \n",
       "2013-03-13              Mid-Range  Right Side Center(RC)        16-24 ft.   \n",
       "\n",
       "            shot_distance  loc_x  loc_y  shot_made_flag  htm  vtm  \\\n",
       "game_date                                                           \n",
       "2019-01-16             27    -36    268               0  GSW  NOP   \n",
       "2017-06-09             25   -222    124               0  CLE  GSW   \n",
       "2017-11-08             11     16    115               1  GSW  MIN   \n",
       "2017-02-25             25    -19    259               1  GSW  BKN   \n",
       "2013-03-27              2      2     23               0  GSW  SAC   \n",
       "2016-01-14             23   -235     47               0  GSW  LAL   \n",
       "2013-03-01             25    230    102               1  BOS  GSW   \n",
       "2010-11-08              1     12     15               0  TOR  GSW   \n",
       "2018-01-17             24     73    235               0  CHI  GSW   \n",
       "2013-03-13             20     86    186               1  GSW  DET   \n",
       "\n",
       "               season_type  scoremargin_before_shot  \n",
       "game_date                                            \n",
       "2019-01-16  Regular Season                     -9.0  \n",
       "2017-06-09        Playoffs                     -9.0  \n",
       "2017-11-08  Regular Season                     -5.0  \n",
       "2017-02-25  Regular Season                     11.0  \n",
       "2013-03-27  Regular Season                     -1.0  \n",
       "2016-01-14  Regular Season                      3.0  \n",
       "2013-03-01  Regular Season                    -11.0  \n",
       "2010-11-08  Regular Season                      4.0  \n",
       "2018-01-17  Regular Season                     -3.0  \n",
       "2013-03-13  Regular Season                      0.0  "
      ]
     },
     "execution_count": 247,
     "metadata": {},
     "output_type": "execute_result"
    }
   ],
   "source": [
    "df.sample(10)"
   ]
  },
  {
   "cell_type": "code",
   "execution_count": 248,
   "metadata": {},
   "outputs": [
    {
     "data": {
      "text/plain": [
       "Index(['game_id', 'game_event_id', 'player_name', 'period',\n",
       "       'minutes_remaining', 'seconds_remaining', 'action_type', 'shot_type',\n",
       "       'shot_zone_basic', 'shot_zone_area', 'shot_zone_range', 'shot_distance',\n",
       "       'loc_x', 'loc_y', 'shot_made_flag', 'htm', 'vtm', 'season_type',\n",
       "       'scoremargin_before_shot'],\n",
       "      dtype='object')"
      ]
     },
     "execution_count": 248,
     "metadata": {},
     "output_type": "execute_result"
    }
   ],
   "source": [
    "df.columns"
   ]
  },
  {
   "cell_type": "code",
   "execution_count": 249,
   "metadata": {},
   "outputs": [
    {
     "data": {
      "text/plain": [
       "game_id                    0\n",
       "game_event_id              0\n",
       "player_name                0\n",
       "period                     0\n",
       "minutes_remaining          0\n",
       "seconds_remaining          0\n",
       "action_type                0\n",
       "shot_type                  0\n",
       "shot_zone_basic            0\n",
       "shot_zone_area             0\n",
       "shot_zone_range            0\n",
       "shot_distance              0\n",
       "loc_x                      0\n",
       "loc_y                      0\n",
       "shot_made_flag             0\n",
       "htm                        0\n",
       "vtm                        0\n",
       "season_type                0\n",
       "scoremargin_before_shot    0\n",
       "dtype: int64"
      ]
     },
     "execution_count": 249,
     "metadata": {},
     "output_type": "execute_result"
    }
   ],
   "source": [
    "df.isnull().sum()"
   ]
  },
  {
   "cell_type": "markdown",
   "metadata": {},
   "source": [
    "*****Feature Engineering*****"
   ]
  },
  {
   "cell_type": "code",
   "execution_count": 250,
   "metadata": {},
   "outputs": [],
   "source": [
    "# drop player_name since whole df is for curry's shots, game ID and Game event ID are just \n",
    "# unique identifiers which won't add much info and will increase computation time\n",
    "\n",
    "df = df.drop(columns=['player_name','game_id','game_event_id'])"
   ]
  },
  {
   "cell_type": "code",
   "execution_count": 251,
   "metadata": {},
   "outputs": [],
   "source": [
    "# Home team advantage feature addition\n",
    "df['htm_adv'] = df['htm'].apply(lambda x: 1 if x == 'GSW' else 0)"
   ]
  },
  {
   "cell_type": "code",
   "execution_count": 252,
   "metadata": {},
   "outputs": [],
   "source": [
    "#Seconds remaining in the period \n",
    "df['sec_rem_period'] = df['minutes_remaining']*60 + df['seconds_remaining'] "
   ]
  },
  {
   "cell_type": "code",
   "execution_count": 253,
   "metadata": {},
   "outputs": [],
   "source": [
    "#Seconds remaining in the game\n",
    "df['sec_rem_game'] = df['sec_rem_period'] + (df['period'].apply(lambda x:(3*12*60) if x ==1 \n",
    "                                                               else (2*12*60) if x ==2\n",
    "                                                                else (12*60) if x ==3\n",
    "                                                                else 0))"
   ]
  },
  {
   "cell_type": "code",
   "execution_count": 254,
   "metadata": {},
   "outputs": [],
   "source": [
    "# opponent\n",
    "\n",
    "df['opponent'] = df['htm'].apply(lambda x: x if x != 'GSW' else 0)\n",
    "# df['opponent'] = df['opponent'].apply(lambda x: x if x != 0 else df['htm'])\n",
    "df['opponent'] = df['opponent'].replace(0, df['vtm'])\n",
    "\n",
    "# df.loc[df.htm == 'GSW', df.opponent] = 'GSW'\n",
    "# #team_finder = lambda x: \n",
    "#for row in range(len(df['htm'])):\n",
    "#    if df['htm'] == 'GSW':\n",
    "#        df['opponent'] = df['vtm']\n",
    "#    else:\n",
    "#        df['opponent'] = df['htm']"
   ]
  },
  {
   "cell_type": "code",
   "execution_count": 255,
   "metadata": {},
   "outputs": [
    {
     "data": {
      "text/html": [
       "<div>\n",
       "<style scoped>\n",
       "    .dataframe tbody tr th:only-of-type {\n",
       "        vertical-align: middle;\n",
       "    }\n",
       "\n",
       "    .dataframe tbody tr th {\n",
       "        vertical-align: top;\n",
       "    }\n",
       "\n",
       "    .dataframe thead th {\n",
       "        text-align: right;\n",
       "    }\n",
       "</style>\n",
       "<table border=\"1\" class=\"dataframe\">\n",
       "  <thead>\n",
       "    <tr style=\"text-align: right;\">\n",
       "      <th></th>\n",
       "      <th>period</th>\n",
       "      <th>minutes_remaining</th>\n",
       "      <th>seconds_remaining</th>\n",
       "      <th>action_type</th>\n",
       "      <th>shot_type</th>\n",
       "      <th>shot_zone_basic</th>\n",
       "      <th>shot_zone_area</th>\n",
       "      <th>shot_zone_range</th>\n",
       "      <th>shot_distance</th>\n",
       "      <th>loc_x</th>\n",
       "      <th>loc_y</th>\n",
       "      <th>shot_made_flag</th>\n",
       "      <th>htm</th>\n",
       "      <th>vtm</th>\n",
       "      <th>season_type</th>\n",
       "      <th>scoremargin_before_shot</th>\n",
       "      <th>htm_adv</th>\n",
       "      <th>sec_rem_period</th>\n",
       "      <th>sec_rem_game</th>\n",
       "      <th>opponent</th>\n",
       "    </tr>\n",
       "    <tr>\n",
       "      <th>game_date</th>\n",
       "      <th></th>\n",
       "      <th></th>\n",
       "      <th></th>\n",
       "      <th></th>\n",
       "      <th></th>\n",
       "      <th></th>\n",
       "      <th></th>\n",
       "      <th></th>\n",
       "      <th></th>\n",
       "      <th></th>\n",
       "      <th></th>\n",
       "      <th></th>\n",
       "      <th></th>\n",
       "      <th></th>\n",
       "      <th></th>\n",
       "      <th></th>\n",
       "      <th></th>\n",
       "      <th></th>\n",
       "      <th></th>\n",
       "      <th></th>\n",
       "    </tr>\n",
       "  </thead>\n",
       "  <tbody>\n",
       "    <tr>\n",
       "      <th>2013-04-15</th>\n",
       "      <td>1</td>\n",
       "      <td>3</td>\n",
       "      <td>55</td>\n",
       "      <td>Pullup Jump shot</td>\n",
       "      <td>2PT Field Goal</td>\n",
       "      <td>Mid-Range</td>\n",
       "      <td>Right Side(R)</td>\n",
       "      <td>16-24 ft.</td>\n",
       "      <td>16</td>\n",
       "      <td>160</td>\n",
       "      <td>52</td>\n",
       "      <td>1</td>\n",
       "      <td>GSW</td>\n",
       "      <td>SAS</td>\n",
       "      <td>Regular Season</td>\n",
       "      <td>4.0</td>\n",
       "      <td>1</td>\n",
       "      <td>235</td>\n",
       "      <td>2395</td>\n",
       "      <td>SAS</td>\n",
       "    </tr>\n",
       "    <tr>\n",
       "      <th>2010-02-06</th>\n",
       "      <td>3</td>\n",
       "      <td>4</td>\n",
       "      <td>48</td>\n",
       "      <td>Pullup Jump shot</td>\n",
       "      <td>2PT Field Goal</td>\n",
       "      <td>Mid-Range</td>\n",
       "      <td>Right Side Center(RC)</td>\n",
       "      <td>16-24 ft.</td>\n",
       "      <td>19</td>\n",
       "      <td>116</td>\n",
       "      <td>151</td>\n",
       "      <td>1</td>\n",
       "      <td>GSW</td>\n",
       "      <td>OKC</td>\n",
       "      <td>Regular Season</td>\n",
       "      <td>-11.0</td>\n",
       "      <td>1</td>\n",
       "      <td>288</td>\n",
       "      <td>1008</td>\n",
       "      <td>OKC</td>\n",
       "    </tr>\n",
       "    <tr>\n",
       "      <th>2012-12-19</th>\n",
       "      <td>4</td>\n",
       "      <td>6</td>\n",
       "      <td>50</td>\n",
       "      <td>Jump Shot</td>\n",
       "      <td>3PT Field Goal</td>\n",
       "      <td>Above the Break 3</td>\n",
       "      <td>Center(C)</td>\n",
       "      <td>24+ ft.</td>\n",
       "      <td>24</td>\n",
       "      <td>-49</td>\n",
       "      <td>244</td>\n",
       "      <td>1</td>\n",
       "      <td>SAC</td>\n",
       "      <td>GSW</td>\n",
       "      <td>Regular Season</td>\n",
       "      <td>-5.0</td>\n",
       "      <td>0</td>\n",
       "      <td>410</td>\n",
       "      <td>410</td>\n",
       "      <td>SAC</td>\n",
       "    </tr>\n",
       "    <tr>\n",
       "      <th>2019-01-31</th>\n",
       "      <td>1</td>\n",
       "      <td>10</td>\n",
       "      <td>38</td>\n",
       "      <td>Cutting Layup Shot</td>\n",
       "      <td>2PT Field Goal</td>\n",
       "      <td>Restricted Area</td>\n",
       "      <td>Center(C)</td>\n",
       "      <td>Less Than 8 ft.</td>\n",
       "      <td>3</td>\n",
       "      <td>-1</td>\n",
       "      <td>31</td>\n",
       "      <td>1</td>\n",
       "      <td>GSW</td>\n",
       "      <td>PHI</td>\n",
       "      <td>Regular Season</td>\n",
       "      <td>-3.0</td>\n",
       "      <td>1</td>\n",
       "      <td>638</td>\n",
       "      <td>2798</td>\n",
       "      <td>PHI</td>\n",
       "    </tr>\n",
       "    <tr>\n",
       "      <th>2017-01-08</th>\n",
       "      <td>1</td>\n",
       "      <td>0</td>\n",
       "      <td>2</td>\n",
       "      <td>Jump Shot</td>\n",
       "      <td>2PT Field Goal</td>\n",
       "      <td>Mid-Range</td>\n",
       "      <td>Right Side(R)</td>\n",
       "      <td>16-24 ft.</td>\n",
       "      <td>18</td>\n",
       "      <td>176</td>\n",
       "      <td>38</td>\n",
       "      <td>0</td>\n",
       "      <td>SAC</td>\n",
       "      <td>GSW</td>\n",
       "      <td>Regular Season</td>\n",
       "      <td>-9.0</td>\n",
       "      <td>0</td>\n",
       "      <td>2</td>\n",
       "      <td>2162</td>\n",
       "      <td>SAC</td>\n",
       "    </tr>\n",
       "    <tr>\n",
       "      <th>2013-12-01</th>\n",
       "      <td>3</td>\n",
       "      <td>10</td>\n",
       "      <td>26</td>\n",
       "      <td>Jump Shot</td>\n",
       "      <td>3PT Field Goal</td>\n",
       "      <td>Above the Break 3</td>\n",
       "      <td>Left Side Center(LC)</td>\n",
       "      <td>24+ ft.</td>\n",
       "      <td>25</td>\n",
       "      <td>-138</td>\n",
       "      <td>211</td>\n",
       "      <td>0</td>\n",
       "      <td>SAC</td>\n",
       "      <td>GSW</td>\n",
       "      <td>Regular Season</td>\n",
       "      <td>4.0</td>\n",
       "      <td>0</td>\n",
       "      <td>626</td>\n",
       "      <td>1346</td>\n",
       "      <td>SAC</td>\n",
       "    </tr>\n",
       "    <tr>\n",
       "      <th>2013-03-30</th>\n",
       "      <td>4</td>\n",
       "      <td>6</td>\n",
       "      <td>55</td>\n",
       "      <td>Jump Shot</td>\n",
       "      <td>3PT Field Goal</td>\n",
       "      <td>Above the Break 3</td>\n",
       "      <td>Right Side Center(RC)</td>\n",
       "      <td>24+ ft.</td>\n",
       "      <td>27</td>\n",
       "      <td>140</td>\n",
       "      <td>238</td>\n",
       "      <td>1</td>\n",
       "      <td>GSW</td>\n",
       "      <td>POR</td>\n",
       "      <td>Regular Season</td>\n",
       "      <td>20.0</td>\n",
       "      <td>1</td>\n",
       "      <td>415</td>\n",
       "      <td>415</td>\n",
       "      <td>POR</td>\n",
       "    </tr>\n",
       "    <tr>\n",
       "      <th>2015-11-27</th>\n",
       "      <td>1</td>\n",
       "      <td>5</td>\n",
       "      <td>48</td>\n",
       "      <td>Step Back Jump shot</td>\n",
       "      <td>3PT Field Goal</td>\n",
       "      <td>Above the Break 3</td>\n",
       "      <td>Left Side Center(LC)</td>\n",
       "      <td>24+ ft.</td>\n",
       "      <td>25</td>\n",
       "      <td>-117</td>\n",
       "      <td>223</td>\n",
       "      <td>1</td>\n",
       "      <td>PHX</td>\n",
       "      <td>GSW</td>\n",
       "      <td>Regular Season</td>\n",
       "      <td>11.0</td>\n",
       "      <td>0</td>\n",
       "      <td>348</td>\n",
       "      <td>2508</td>\n",
       "      <td>PHX</td>\n",
       "    </tr>\n",
       "    <tr>\n",
       "      <th>2016-06-02</th>\n",
       "      <td>3</td>\n",
       "      <td>0</td>\n",
       "      <td>0</td>\n",
       "      <td>Turnaround Bank shot</td>\n",
       "      <td>3PT Field Goal</td>\n",
       "      <td>Above the Break 3</td>\n",
       "      <td>Right Side Center(RC)</td>\n",
       "      <td>24+ ft.</td>\n",
       "      <td>37</td>\n",
       "      <td>176</td>\n",
       "      <td>326</td>\n",
       "      <td>0</td>\n",
       "      <td>GSW</td>\n",
       "      <td>CLE</td>\n",
       "      <td>Playoffs</td>\n",
       "      <td>6.0</td>\n",
       "      <td>1</td>\n",
       "      <td>0</td>\n",
       "      <td>720</td>\n",
       "      <td>CLE</td>\n",
       "    </tr>\n",
       "    <tr>\n",
       "      <th>2010-11-19</th>\n",
       "      <td>3</td>\n",
       "      <td>3</td>\n",
       "      <td>21</td>\n",
       "      <td>Jump Shot</td>\n",
       "      <td>2PT Field Goal</td>\n",
       "      <td>Mid-Range</td>\n",
       "      <td>Right Side Center(RC)</td>\n",
       "      <td>16-24 ft.</td>\n",
       "      <td>17</td>\n",
       "      <td>77</td>\n",
       "      <td>156</td>\n",
       "      <td>0</td>\n",
       "      <td>GSW</td>\n",
       "      <td>NYK</td>\n",
       "      <td>Regular Season</td>\n",
       "      <td>-17.0</td>\n",
       "      <td>1</td>\n",
       "      <td>201</td>\n",
       "      <td>921</td>\n",
       "      <td>NYK</td>\n",
       "    </tr>\n",
       "  </tbody>\n",
       "</table>\n",
       "</div>"
      ],
      "text/plain": [
       "            period  minutes_remaining  seconds_remaining  \\\n",
       "game_date                                                  \n",
       "2013-04-15       1                  3                 55   \n",
       "2010-02-06       3                  4                 48   \n",
       "2012-12-19       4                  6                 50   \n",
       "2019-01-31       1                 10                 38   \n",
       "2017-01-08       1                  0                  2   \n",
       "2013-12-01       3                 10                 26   \n",
       "2013-03-30       4                  6                 55   \n",
       "2015-11-27       1                  5                 48   \n",
       "2016-06-02       3                  0                  0   \n",
       "2010-11-19       3                  3                 21   \n",
       "\n",
       "                     action_type       shot_type    shot_zone_basic  \\\n",
       "game_date                                                             \n",
       "2013-04-15      Pullup Jump shot  2PT Field Goal          Mid-Range   \n",
       "2010-02-06      Pullup Jump shot  2PT Field Goal          Mid-Range   \n",
       "2012-12-19             Jump Shot  3PT Field Goal  Above the Break 3   \n",
       "2019-01-31    Cutting Layup Shot  2PT Field Goal    Restricted Area   \n",
       "2017-01-08             Jump Shot  2PT Field Goal          Mid-Range   \n",
       "2013-12-01             Jump Shot  3PT Field Goal  Above the Break 3   \n",
       "2013-03-30             Jump Shot  3PT Field Goal  Above the Break 3   \n",
       "2015-11-27   Step Back Jump shot  3PT Field Goal  Above the Break 3   \n",
       "2016-06-02  Turnaround Bank shot  3PT Field Goal  Above the Break 3   \n",
       "2010-11-19             Jump Shot  2PT Field Goal          Mid-Range   \n",
       "\n",
       "                   shot_zone_area  shot_zone_range  shot_distance  loc_x  \\\n",
       "game_date                                                                  \n",
       "2013-04-15          Right Side(R)        16-24 ft.             16    160   \n",
       "2010-02-06  Right Side Center(RC)        16-24 ft.             19    116   \n",
       "2012-12-19              Center(C)          24+ ft.             24    -49   \n",
       "2019-01-31              Center(C)  Less Than 8 ft.              3     -1   \n",
       "2017-01-08          Right Side(R)        16-24 ft.             18    176   \n",
       "2013-12-01   Left Side Center(LC)          24+ ft.             25   -138   \n",
       "2013-03-30  Right Side Center(RC)          24+ ft.             27    140   \n",
       "2015-11-27   Left Side Center(LC)          24+ ft.             25   -117   \n",
       "2016-06-02  Right Side Center(RC)          24+ ft.             37    176   \n",
       "2010-11-19  Right Side Center(RC)        16-24 ft.             17     77   \n",
       "\n",
       "            loc_y  shot_made_flag  htm  vtm     season_type  \\\n",
       "game_date                                                     \n",
       "2013-04-15     52               1  GSW  SAS  Regular Season   \n",
       "2010-02-06    151               1  GSW  OKC  Regular Season   \n",
       "2012-12-19    244               1  SAC  GSW  Regular Season   \n",
       "2019-01-31     31               1  GSW  PHI  Regular Season   \n",
       "2017-01-08     38               0  SAC  GSW  Regular Season   \n",
       "2013-12-01    211               0  SAC  GSW  Regular Season   \n",
       "2013-03-30    238               1  GSW  POR  Regular Season   \n",
       "2015-11-27    223               1  PHX  GSW  Regular Season   \n",
       "2016-06-02    326               0  GSW  CLE        Playoffs   \n",
       "2010-11-19    156               0  GSW  NYK  Regular Season   \n",
       "\n",
       "            scoremargin_before_shot  htm_adv  sec_rem_period  sec_rem_game  \\\n",
       "game_date                                                                    \n",
       "2013-04-15                      4.0        1             235          2395   \n",
       "2010-02-06                    -11.0        1             288          1008   \n",
       "2012-12-19                     -5.0        0             410           410   \n",
       "2019-01-31                     -3.0        1             638          2798   \n",
       "2017-01-08                     -9.0        0               2          2162   \n",
       "2013-12-01                      4.0        0             626          1346   \n",
       "2013-03-30                     20.0        1             415           415   \n",
       "2015-11-27                     11.0        0             348          2508   \n",
       "2016-06-02                      6.0        1               0           720   \n",
       "2010-11-19                    -17.0        1             201           921   \n",
       "\n",
       "           opponent  \n",
       "game_date            \n",
       "2013-04-15      SAS  \n",
       "2010-02-06      OKC  \n",
       "2012-12-19      SAC  \n",
       "2019-01-31      PHI  \n",
       "2017-01-08      SAC  \n",
       "2013-12-01      SAC  \n",
       "2013-03-30      POR  \n",
       "2015-11-27      PHX  \n",
       "2016-06-02      CLE  \n",
       "2010-11-19      NYK  "
      ]
     },
     "execution_count": 255,
     "metadata": {},
     "output_type": "execute_result"
    }
   ],
   "source": [
    "df.sample(10)"
   ]
  },
  {
   "cell_type": "markdown",
   "metadata": {},
   "source": [
    "***Train/Split***"
   ]
  },
  {
   "cell_type": "code",
   "execution_count": 256,
   "metadata": {},
   "outputs": [],
   "source": [
    "df = df.reset_index()\n"
   ]
  },
  {
   "cell_type": "code",
   "execution_count": 257,
   "metadata": {},
   "outputs": [
    {
     "data": {
      "text/html": [
       "<div>\n",
       "<style scoped>\n",
       "    .dataframe tbody tr th:only-of-type {\n",
       "        vertical-align: middle;\n",
       "    }\n",
       "\n",
       "    .dataframe tbody tr th {\n",
       "        vertical-align: top;\n",
       "    }\n",
       "\n",
       "    .dataframe thead th {\n",
       "        text-align: right;\n",
       "    }\n",
       "</style>\n",
       "<table border=\"1\" class=\"dataframe\">\n",
       "  <thead>\n",
       "    <tr style=\"text-align: right;\">\n",
       "      <th></th>\n",
       "      <th>game_date</th>\n",
       "      <th>period</th>\n",
       "      <th>minutes_remaining</th>\n",
       "      <th>seconds_remaining</th>\n",
       "      <th>action_type</th>\n",
       "      <th>shot_type</th>\n",
       "      <th>shot_zone_basic</th>\n",
       "      <th>shot_zone_area</th>\n",
       "      <th>shot_zone_range</th>\n",
       "      <th>shot_distance</th>\n",
       "      <th>...</th>\n",
       "      <th>loc_y</th>\n",
       "      <th>shot_made_flag</th>\n",
       "      <th>htm</th>\n",
       "      <th>vtm</th>\n",
       "      <th>season_type</th>\n",
       "      <th>scoremargin_before_shot</th>\n",
       "      <th>htm_adv</th>\n",
       "      <th>sec_rem_period</th>\n",
       "      <th>sec_rem_game</th>\n",
       "      <th>opponent</th>\n",
       "    </tr>\n",
       "  </thead>\n",
       "  <tbody>\n",
       "    <tr>\n",
       "      <th>0</th>\n",
       "      <td>2009-10-28</td>\n",
       "      <td>1</td>\n",
       "      <td>11</td>\n",
       "      <td>25</td>\n",
       "      <td>Jump Shot</td>\n",
       "      <td>3PT Field Goal</td>\n",
       "      <td>Above the Break 3</td>\n",
       "      <td>Right Side Center(RC)</td>\n",
       "      <td>24+ ft.</td>\n",
       "      <td>26</td>\n",
       "      <td>...</td>\n",
       "      <td>249</td>\n",
       "      <td>0</td>\n",
       "      <td>GSW</td>\n",
       "      <td>HOU</td>\n",
       "      <td>Regular Season</td>\n",
       "      <td>2.0</td>\n",
       "      <td>1</td>\n",
       "      <td>685</td>\n",
       "      <td>2845</td>\n",
       "      <td>HOU</td>\n",
       "    </tr>\n",
       "    <tr>\n",
       "      <th>1</th>\n",
       "      <td>2009-10-28</td>\n",
       "      <td>1</td>\n",
       "      <td>9</td>\n",
       "      <td>31</td>\n",
       "      <td>Step Back Jump shot</td>\n",
       "      <td>2PT Field Goal</td>\n",
       "      <td>Mid-Range</td>\n",
       "      <td>Left Side Center(LC)</td>\n",
       "      <td>16-24 ft.</td>\n",
       "      <td>18</td>\n",
       "      <td>...</td>\n",
       "      <td>145</td>\n",
       "      <td>1</td>\n",
       "      <td>GSW</td>\n",
       "      <td>HOU</td>\n",
       "      <td>Regular Season</td>\n",
       "      <td>0.0</td>\n",
       "      <td>1</td>\n",
       "      <td>571</td>\n",
       "      <td>2731</td>\n",
       "      <td>HOU</td>\n",
       "    </tr>\n",
       "    <tr>\n",
       "      <th>2</th>\n",
       "      <td>2009-10-28</td>\n",
       "      <td>1</td>\n",
       "      <td>6</td>\n",
       "      <td>2</td>\n",
       "      <td>Jump Shot</td>\n",
       "      <td>2PT Field Goal</td>\n",
       "      <td>In The Paint (Non-RA)</td>\n",
       "      <td>Center(C)</td>\n",
       "      <td>8-16 ft.</td>\n",
       "      <td>14</td>\n",
       "      <td>...</td>\n",
       "      <td>129</td>\n",
       "      <td>0</td>\n",
       "      <td>GSW</td>\n",
       "      <td>HOU</td>\n",
       "      <td>Regular Season</td>\n",
       "      <td>-4.0</td>\n",
       "      <td>1</td>\n",
       "      <td>362</td>\n",
       "      <td>2522</td>\n",
       "      <td>HOU</td>\n",
       "    </tr>\n",
       "    <tr>\n",
       "      <th>3</th>\n",
       "      <td>2009-10-28</td>\n",
       "      <td>2</td>\n",
       "      <td>9</td>\n",
       "      <td>49</td>\n",
       "      <td>Jump Shot</td>\n",
       "      <td>2PT Field Goal</td>\n",
       "      <td>Mid-Range</td>\n",
       "      <td>Left Side(L)</td>\n",
       "      <td>16-24 ft.</td>\n",
       "      <td>19</td>\n",
       "      <td>...</td>\n",
       "      <td>82</td>\n",
       "      <td>0</td>\n",
       "      <td>GSW</td>\n",
       "      <td>HOU</td>\n",
       "      <td>Regular Season</td>\n",
       "      <td>-4.0</td>\n",
       "      <td>1</td>\n",
       "      <td>589</td>\n",
       "      <td>2029</td>\n",
       "      <td>HOU</td>\n",
       "    </tr>\n",
       "    <tr>\n",
       "      <th>4</th>\n",
       "      <td>2009-10-28</td>\n",
       "      <td>2</td>\n",
       "      <td>2</td>\n",
       "      <td>19</td>\n",
       "      <td>Jump Shot</td>\n",
       "      <td>2PT Field Goal</td>\n",
       "      <td>Mid-Range</td>\n",
       "      <td>Left Side Center(LC)</td>\n",
       "      <td>16-24 ft.</td>\n",
       "      <td>16</td>\n",
       "      <td>...</td>\n",
       "      <td>148</td>\n",
       "      <td>0</td>\n",
       "      <td>GSW</td>\n",
       "      <td>HOU</td>\n",
       "      <td>Regular Season</td>\n",
       "      <td>0.0</td>\n",
       "      <td>1</td>\n",
       "      <td>139</td>\n",
       "      <td>1579</td>\n",
       "      <td>HOU</td>\n",
       "    </tr>\n",
       "  </tbody>\n",
       "</table>\n",
       "<p>5 rows × 21 columns</p>\n",
       "</div>"
      ],
      "text/plain": [
       "   game_date  period  minutes_remaining  seconds_remaining  \\\n",
       "0 2009-10-28       1                 11                 25   \n",
       "1 2009-10-28       1                  9                 31   \n",
       "2 2009-10-28       1                  6                  2   \n",
       "3 2009-10-28       2                  9                 49   \n",
       "4 2009-10-28       2                  2                 19   \n",
       "\n",
       "           action_type       shot_type        shot_zone_basic  \\\n",
       "0            Jump Shot  3PT Field Goal      Above the Break 3   \n",
       "1  Step Back Jump shot  2PT Field Goal              Mid-Range   \n",
       "2            Jump Shot  2PT Field Goal  In The Paint (Non-RA)   \n",
       "3            Jump Shot  2PT Field Goal              Mid-Range   \n",
       "4            Jump Shot  2PT Field Goal              Mid-Range   \n",
       "\n",
       "          shot_zone_area shot_zone_range  shot_distance  ...  loc_y  \\\n",
       "0  Right Side Center(RC)         24+ ft.             26  ...    249   \n",
       "1   Left Side Center(LC)       16-24 ft.             18  ...    145   \n",
       "2              Center(C)        8-16 ft.             14  ...    129   \n",
       "3           Left Side(L)       16-24 ft.             19  ...     82   \n",
       "4   Left Side Center(LC)       16-24 ft.             16  ...    148   \n",
       "\n",
       "   shot_made_flag  htm  vtm     season_type scoremargin_before_shot  htm_adv  \\\n",
       "0               0  GSW  HOU  Regular Season                     2.0        1   \n",
       "1               1  GSW  HOU  Regular Season                     0.0        1   \n",
       "2               0  GSW  HOU  Regular Season                    -4.0        1   \n",
       "3               0  GSW  HOU  Regular Season                    -4.0        1   \n",
       "4               0  GSW  HOU  Regular Season                     0.0        1   \n",
       "\n",
       "   sec_rem_period  sec_rem_game  opponent  \n",
       "0             685          2845       HOU  \n",
       "1             571          2731       HOU  \n",
       "2             362          2522       HOU  \n",
       "3             589          2029       HOU  \n",
       "4             139          1579       HOU  \n",
       "\n",
       "[5 rows x 21 columns]"
      ]
     },
     "execution_count": 257,
     "metadata": {},
     "output_type": "execute_result"
    }
   ],
   "source": [
    "df.head()"
   ]
  },
  {
   "cell_type": "code",
   "execution_count": 258,
   "metadata": {},
   "outputs": [],
   "source": [
    "train = df[df['game_date'] < '2017-07-01']\n",
    "val = df[(df['game_date'] >'2017-07-01') & (df['game_date'] < '2018-07-01')]\n",
    "test = df[df['game_date'] > '2018-07-01']"
   ]
  },
  {
   "cell_type": "code",
   "execution_count": 259,
   "metadata": {},
   "outputs": [
    {
     "data": {
      "text/plain": [
       "((11081, 21), (1709, 21), (1168, 21))"
      ]
     },
     "execution_count": 259,
     "metadata": {},
     "output_type": "execute_result"
    }
   ],
   "source": [
    "train.shape, test.shape, val.shape"
   ]
  },
  {
   "cell_type": "markdown",
   "metadata": {},
   "source": [
    "***baselines for classification***"
   ]
  },
  {
   "cell_type": "code",
   "execution_count": 260,
   "metadata": {},
   "outputs": [
    {
     "data": {
      "text/plain": [
       "0    5842\n",
       "1    5239\n",
       "Name: shot_made_flag, dtype: int64"
      ]
     },
     "execution_count": 260,
     "metadata": {},
     "output_type": "execute_result"
    }
   ],
   "source": [
    "train['shot_made_flag'].value_counts() "
   ]
  },
  {
   "cell_type": "code",
   "execution_count": 261,
   "metadata": {},
   "outputs": [],
   "source": [
    "y_pred = np.full_like(y_val, fill_value=train['shot_made_flag'].mean())"
   ]
  },
  {
   "cell_type": "code",
   "execution_count": 262,
   "metadata": {},
   "outputs": [],
   "source": [
    "y_val = val['shot_made_flag']"
   ]
  },
  {
   "cell_type": "code",
   "execution_count": 263,
   "metadata": {},
   "outputs": [],
   "source": [
    "baseline_accuracy = accuracy_score(y_val, y_pred)"
   ]
  },
  {
   "cell_type": "code",
   "execution_count": 264,
   "metadata": {},
   "outputs": [
    {
     "name": "stdout",
     "output_type": "stream",
     "text": [
      "0.5162671232876712\n"
     ]
    }
   ],
   "source": [
    "print (baseline_accuracy)"
   ]
  },
  {
   "cell_type": "markdown",
   "metadata": {},
   "source": [
    "***Ordinal Encoding or One-Hot Encoding***"
   ]
  },
  {
   "cell_type": "code",
   "execution_count": 265,
   "metadata": {},
   "outputs": [],
   "source": [
    "categorical_features = train.select_dtypes(exclude=[np.number]).columns.to_list()\n",
    "numerical_features = train.select_dtypes(include=[np.number]).columns.to_list()"
   ]
  },
  {
   "cell_type": "code",
   "execution_count": 266,
   "metadata": {},
   "outputs": [],
   "source": [
    "numerical_features = list(set(numerical_features) - set(['shot_made_flag']))"
   ]
  },
  {
   "cell_type": "code",
   "execution_count": 267,
   "metadata": {},
   "outputs": [],
   "source": [
    "categorical_features = list(set(categorical_features) - set(['game_date']))"
   ]
  },
  {
   "cell_type": "code",
   "execution_count": null,
   "metadata": {},
   "outputs": [],
   "source": []
  },
  {
   "cell_type": "code",
   "execution_count": 268,
   "metadata": {},
   "outputs": [
    {
     "data": {
      "text/plain": [
       "['shot_zone_area',\n",
       " 'htm',\n",
       " 'shot_zone_basic',\n",
       " 'season_type',\n",
       " 'shot_zone_range',\n",
       " 'opponent',\n",
       " 'shot_type',\n",
       " 'action_type',\n",
       " 'vtm']"
      ]
     },
     "execution_count": 268,
     "metadata": {},
     "output_type": "execute_result"
    }
   ],
   "source": [
    "categorical_features"
   ]
  },
  {
   "cell_type": "code",
   "execution_count": 269,
   "metadata": {},
   "outputs": [
    {
     "data": {
      "text/plain": [
       "['shot_distance',\n",
       " 'loc_y',\n",
       " 'minutes_remaining',\n",
       " 'period',\n",
       " 'sec_rem_period',\n",
       " 'loc_x',\n",
       " 'sec_rem_game',\n",
       " 'seconds_remaining',\n",
       " 'htm_adv',\n",
       " 'scoremargin_before_shot']"
      ]
     },
     "execution_count": 269,
     "metadata": {},
     "output_type": "execute_result"
    }
   ],
   "source": [
    "numerical_features"
   ]
  },
  {
   "cell_type": "code",
   "execution_count": 270,
   "metadata": {},
   "outputs": [],
   "source": [
    "features = categorical_features + numerical_features "
   ]
  },
  {
   "cell_type": "code",
   "execution_count": 271,
   "metadata": {},
   "outputs": [],
   "source": [
    "target = ['shot_made_flag']"
   ]
  },
  {
   "cell_type": "code",
   "execution_count": 272,
   "metadata": {},
   "outputs": [],
   "source": [
    "X_train = train[features]\n",
    "y_train = train[target]\n",
    "X_val = val[features]\n",
    "y_val = val[target]\n",
    "X_test = test[features]\n",
    "y_test = test[target]"
   ]
  },
  {
   "cell_type": "code",
   "execution_count": 273,
   "metadata": {},
   "outputs": [],
   "source": [
    "numeric_transformer = Pipeline(steps=[\n",
    "    ('imputer', SimpleImputer(strategy='mean')),\n",
    "    ('scaler', StandardScaler())])\n",
    "ordinal_transformer = Pipeline(steps=[\n",
    "    ('imputer', SimpleImputer(strategy='constant', fill_value='missing')),\n",
    "    ('ord', ce.OrdinalEncoder())]) \n",
    "preprocessor = ColumnTransformer(\n",
    "    transformers=[\n",
    "        ('num', numeric_transformer, numerical_features),\n",
    "        ('ord', ordinal_transformer, categorical_features)])"
   ]
  },
  {
   "cell_type": "code",
   "execution_count": 274,
   "metadata": {},
   "outputs": [],
   "source": [
    "rf = RandomForestClassifier(n_estimators=200, min_samples_split=3,\n",
    "                             criterion='gini', max_features='auto', oob_score=True,\n",
    "                             random_state=5, n_jobs=-1)"
   ]
  },
  {
   "cell_type": "code",
   "execution_count": 275,
   "metadata": {},
   "outputs": [],
   "source": [
    "classification = Pipeline(steps=[('preprocessor', preprocessor),\n",
    "                      ('rf', RandomForestClassifier(max_depth=15))])"
   ]
  },
  {
   "cell_type": "code",
   "execution_count": 276,
   "metadata": {},
   "outputs": [
    {
     "name": "stderr",
     "output_type": "stream",
     "text": [
      "/Users/karthikmahendra/anaconda3/lib/python3.7/site-packages/sklearn/ensemble/forest.py:246: FutureWarning: The default value of n_estimators will change from 10 in version 0.20 to 100 in 0.22.\n",
      "  \"10 in version 0.20 to 100 in 0.22.\", FutureWarning)\n",
      "/Users/karthikmahendra/anaconda3/lib/python3.7/site-packages/sklearn/pipeline.py:267: DataConversionWarning: A column-vector y was passed when a 1d array was expected. Please change the shape of y to (n_samples,), for example using ravel().\n",
      "  self._final_estimator.fit(Xt, y, **fit_params)\n"
     ]
    },
    {
     "data": {
      "text/plain": [
       "Pipeline(memory=None,\n",
       "     steps=[('preprocessor', ColumnTransformer(n_jobs=None, remainder='drop', sparse_threshold=0.3,\n",
       "         transformer_weights=None,\n",
       "         transformers=[('num', Pipeline(memory=None,\n",
       "     steps=[('imputer', SimpleImputer(copy=True, fill_value=None, missing_values=nan, strategy='mean',\n",
       "       verbose...obs=None,\n",
       "            oob_score=False, random_state=None, verbose=0,\n",
       "            warm_start=False))])"
      ]
     },
     "execution_count": 276,
     "metadata": {},
     "output_type": "execute_result"
    }
   ],
   "source": [
    "classification.fit(X_train, y_train)"
   ]
  },
  {
   "cell_type": "code",
   "execution_count": 277,
   "metadata": {},
   "outputs": [
    {
     "name": "stdout",
     "output_type": "stream",
     "text": [
      "Training score: 0.888\n"
     ]
    }
   ],
   "source": [
    "print(\"Training score: %.3f\" % classification.score(X_train, y_train))"
   ]
  },
  {
   "cell_type": "markdown",
   "metadata": {},
   "source": [
    "***Validation Accuracy***"
   ]
  },
  {
   "cell_type": "code",
   "execution_count": 278,
   "metadata": {},
   "outputs": [
    {
     "name": "stdout",
     "output_type": "stream",
     "text": [
      "Validation score: 0.585\n"
     ]
    }
   ],
   "source": [
    "y_pred = classification.predict(X_val)\n",
    "print(\"Validation score: %.3f\" % accuracy_score(y_pred, y_val))"
   ]
  },
  {
   "cell_type": "markdown",
   "metadata": {},
   "source": [
    "***Test Accuracy***"
   ]
  },
  {
   "cell_type": "code",
   "execution_count": 279,
   "metadata": {},
   "outputs": [
    {
     "name": "stdout",
     "output_type": "stream",
     "text": [
      "Test score: 0.610\n"
     ]
    }
   ],
   "source": [
    "y_pred = classification.predict(X_test)\n",
    "print(\"Test score: %.3f\" % classification.score(X_test, y_test))"
   ]
  },
  {
   "cell_type": "markdown",
   "metadata": {},
   "source": [
    "***Feature Importances***"
   ]
  },
  {
   "cell_type": "code",
   "execution_count": 280,
   "metadata": {},
   "outputs": [
    {
     "data": {
      "image/png": "[encoded data removed]",
      "text/plain": [
       "<Figure size 432x288 with 1 Axes>"
      ]
     },
     "metadata": {
      "needs_background": "light"
     },
     "output_type": "display_data"
    }
   ],
   "source": [
    "rf = classification.named_steps['rf']\n",
    "feat_importances = pd.Series(rf.feature_importances_, index=X_train.columns)\n",
    "feat_importances.sort_values().plot(kind='barh')\n",
    "plt.show()"
   ]
  },
  {
   "cell_type": "markdown",
   "metadata": {},
   "source": [
    "***Accuracy , precision and recall***"
   ]
  },
  {
   "cell_type": "code",
   "execution_count": 281,
   "metadata": {},
   "outputs": [
    {
     "name": "stdout",
     "output_type": "stream",
     "text": [
      "Accuracy: 0.6470588235294118\n"
     ]
    }
   ],
   "source": [
    "print(\"Accuracy:\", (85+36)/(85+36+8+58))"
   ]
  },
  {
   "cell_type": "code",
   "execution_count": 282,
   "metadata": {},
   "outputs": [
    {
     "name": "stdout",
     "output_type": "stream",
     "text": [
      "Precision: 0.3829787234042553\n"
     ]
    }
   ],
   "source": [
    "Precision = (36)/(36+58)\n",
    "print(\"Precision:\", (36)/(36+58))"
   ]
  },
  {
   "cell_type": "code",
   "execution_count": 283,
   "metadata": {},
   "outputs": [
    {
     "name": "stdout",
     "output_type": "stream",
     "text": [
      "Recall: 0.8181818181818182\n"
     ]
    }
   ],
   "source": [
    "Recall = (36)/(36+8)\n",
    "print(\"Recall:\", (36)/(36+8))"
   ]
  },
  {
   "cell_type": "markdown",
   "metadata": {},
   "source": [
    "***F1 Score***"
   ]
  },
  {
   "cell_type": "code",
   "execution_count": 284,
   "metadata": {},
   "outputs": [
    {
     "name": "stdout",
     "output_type": "stream",
     "text": [
      "F1 Score: 0.5217391304347826\n"
     ]
    }
   ],
   "source": [
    "F1 = (2*(Precision*Recall))/(Precision+Recall)\n",
    "print(\"F1 Score:\", F1)"
   ]
  },
  {
   "cell_type": "markdown",
   "metadata": {},
   "source": [
    "***Classification report*** "
   ]
  },
  {
   "cell_type": "code",
   "execution_count": 285,
   "metadata": {},
   "outputs": [
    {
     "name": "stdout",
     "output_type": "stream",
     "text": [
      "Validation score: 0.585\n"
     ]
    }
   ],
   "source": [
    "y_pred = classification.predict(X_val)\n",
    "print(\"Validation score: %.3f\" % accuracy_score(y_pred, y_val))"
   ]
  },
  {
   "cell_type": "code",
   "execution_count": 286,
   "metadata": {},
   "outputs": [
    {
     "name": "stdout",
     "output_type": "stream",
     "text": [
      "              precision    recall  f1-score   support\n",
      "\n",
      "           0       0.59      0.62      0.61       603\n",
      "           1       0.57      0.55      0.56       565\n",
      "\n",
      "   micro avg       0.58      0.58      0.58      1168\n",
      "   macro avg       0.58      0.58      0.58      1168\n",
      "weighted avg       0.58      0.58      0.58      1168\n",
      "\n"
     ]
    }
   ],
   "source": [
    "print(classification_report(y_val, y_pred))"
   ]
  },
  {
   "cell_type": "code",
   "execution_count": null,
   "metadata": {},
   "outputs": [],
   "source": []
  }
 ],
 "metadata": {
  "colab": {
   "name": "DS_Sprint_Challenge_7_Classification_1.ipynb",
   "provenance": [],
   "version": "0.3.2"
  },
  "kernelspec": {
   "display_name": "Python 3",
   "language": "python",
   "name": "python3"
  },
  "language_info": {
   "codemirror_mode": {
    "name": "ipython",
    "version": 3
   },
   "file_extension": ".py",
   "mimetype": "text/x-python",
   "name": "python",
   "nbconvert_exporter": "python",
   "pygments_lexer": "ipython3",
   "version": "3.7.3"
  }
 },
 "nbformat": 4,
 "nbformat_minor": 1
}
