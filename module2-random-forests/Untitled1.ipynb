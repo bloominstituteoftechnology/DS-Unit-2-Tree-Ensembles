{
 "cells": [
  {
   "cell_type": "code",
   "execution_count": 4,
   "metadata": {},
   "outputs": [],
   "source": [
    "import pandas as pd\n",
    "\n",
    "files = [\n",
    "    'submission-rf-features-randomGrid.csv',\n",
    "    'submission-rf-features2.csv',\n",
    "    'submission-rf-test.csv',\n",
    "    'submission-rf-oversample.csv',\n",
    "    'submission-rf-ordinal.csv',\n",
    "    'rf_submission.csv'\n",
    "]\n",
    "\n",
    "target_name = 'status_group'\n",
    "\n",
    "submissions = (pd.read_csv(file)[[target_name]] for file in files)\n",
    "\n",
    "ensemble = pd.concat(submissions, axis='columns')\n",
    "\n",
    "majority_vote = ensemble.mode(axis='columns')[0]\n",
    "\n",
    "sample_submission = pd.read_csv('sample_submission.csv')\n",
    "submission = sample_submission.copy()\n",
    "submission[target_name] = majority_vote\n",
    "submission.to_csv('my-ultimate-ensemble-submission.csv', index=False)"
   ]
  }
 ],
 "metadata": {
  "kernelspec": {
   "display_name": "Python 3",
   "language": "python",
   "name": "python3"
  },
  "language_info": {
   "codemirror_mode": {
    "name": "ipython",
    "version": 3
   },
   "file_extension": ".py",
   "mimetype": "text/x-python",
   "name": "python",
   "nbconvert_exporter": "python",
   "pygments_lexer": "ipython3",
   "version": "3.7.3"
  }
 },
 "nbformat": 4,
 "nbformat_minor": 2
}
