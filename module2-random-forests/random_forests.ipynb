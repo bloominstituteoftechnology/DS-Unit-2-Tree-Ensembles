{
 "cells": [
  {
   "cell_type": "markdown",
   "metadata": {},
   "source": [
    "_Lambda School Data Science — Tree Ensembles_ \n",
    "\n",
    "This sprint, your project is about water pumps in Tanzania. Can you predict which water pumps are faulty?\n",
    "\n",
    "# Random Forests, Ordinal Encoding"
   ]
  },
  {
   "cell_type": "markdown",
   "metadata": {},
   "source": [
    "### Objectives\n",
    "- do feature engineering with dates\n",
    "- use scikit-learn for random forests\n",
    "- understand how tree ensembles reduce overfitting compared to a single decision tree with unlimited depth\n",
    "- do ordinal encoding with high-cardinality categoricals\n",
    "- understand how categorical encodings affect trees differently compared to linear models"
   ]
  },
  {
   "cell_type": "markdown",
   "metadata": {},
   "source": [
    "### Summary \n",
    "\n",
    "#### Try Tree Ensembles when you do machine learning with labeled, tabular data\n",
    "- \"Tree Ensembles\" means Random Forest or Gradient Boosting models. \n",
    "- [Tree Ensembles often have the best predictive accuracy](https://arxiv.org/abs/1708.05070) with labeled, tabular data.\n",
    "- Why? Because trees can fit non-linear, non-[monotonic](https://en.wikipedia.org/wiki/Monotonic_function) relationships, and [interactions](https://christophm.github.io/interpretable-ml-book/interaction.html) between features.\n",
    "- A single decision tree, grown to unlimited depth, will [overfit](http://www.r2d3.us/visual-intro-to-machine-learning-part-1/). We solve this problem by ensembling trees, with bagging (Random Forest) or boosting (Gradient Boosting).\n",
    "- Random Forest's advantage: may be less sensitive to hyperparameters. Gradient Boosting's advantage: may get better predictive accuracy.\n",
    "\n",
    "#### One-hot encoding isn’t the only way, and may not be the best way, of categorical encoding for tree ensembles.\n",
    "- For example, tree ensembles can work with arbitrary \"ordinal\" encoding! (Randomly assigning an integer to each category.) Compared to one-hot encoding, the dimensionality will be lower, and the predictive accuracy may be just as good or even better.\n"
   ]
  },
  {
   "cell_type": "markdown",
   "metadata": {},
   "source": [
    "### Libraries\n",
    "\n",
    "#### category_encoders\n",
    "- Local, Anaconda: `conda install -c conda-forge category_encoders`\n",
    "- Google Colab: `pip install category_encoders`\n",
    "\n",
    "#### graphviz\n",
    "- Local, Anaconda: `conda install python-graphviz`\n",
    "- Google Colab:  `!pip install graphviz` `!apt-get install graphviz`"
   ]
  },
  {
   "cell_type": "markdown",
   "metadata": {},
   "source": [
    "## Solution example\n",
    "- Do feature engineering with dates\n",
    "- Clean data with outliers\n",
    "- Impute missing values\n",
    "- Use scikit-learn for decision trees\n",
    "- Get and interpret feature importances of a tree-based model"
   ]
  },
  {
   "cell_type": "code",
   "execution_count": 1,
   "metadata": {},
   "outputs": [],
   "source": [
    "%matplotlib inline\n",
    "import category_encoders as ce\n",
    "import matplotlib.pyplot as plt\n",
    "import numpy as np\n",
    "import pandas as pd\n",
    "import seaborn as sns\n",
    "from sklearn.impute import SimpleImputer\n",
    "from sklearn.model_selection import train_test_split\n",
    "from sklearn.pipeline import make_pipeline\n",
    "from sklearn.preprocessing import RobustScaler\n",
    "from sklearn.tree import DecisionTreeClassifier\n",
    "\n",
    "LOCAL = '../data/tanzania/'\n",
    "WEB = 'https://raw.githubusercontent.com/LambdaSchool/DS-Unit-2-Tree-Ensembles/master/data/tanzania/'\n",
    "source = WEB\n",
    "\n",
    "# Merge train_features.csv & train_labels.csv\n",
    "train = pd.merge(pd.read_csv(source + 'train_features.csv'), \n",
    "                 pd.read_csv(source + 'train_labels.csv'))\n",
    "\n",
    "# Read test_features.csv & sample_submission.csv\n",
    "test = pd.read_csv(source + 'test_features.csv')\n",
    "sample_submission = pd.read_csv(source + 'sample_submission.csv')\n",
    "\n",
    "# Split train into train & val\n",
    "train, val = train_test_split(train, train_size=0.80, test_size=0.20, \n",
    "                              stratify=train['status_group'], random_state=42)\n",
    "\n",
    "\n",
    "def wrangle(X):\n",
    "    \"\"\"Wrangles train, validate, and test sets in the same way\"\"\"\n",
    "    X = X.copy()\n",
    "\n",
    "    # Convert date_recorded to datetime\n",
    "    X['date_recorded'] = pd.to_datetime(X['date_recorded'], infer_datetime_format=True)\n",
    "    \n",
    "    # Extract components from date_recorded, then drop the original column\n",
    "    X['year_recorded'] = X['date_recorded'].dt.year\n",
    "    X['month_recorded'] = X['date_recorded'].dt.month\n",
    "    X['day_recorded'] = X['date_recorded'].dt.day\n",
    "    X = X.drop(columns='date_recorded')\n",
    "    \n",
    "    # Engineer feature: how many years from construction_year to date_recorded\n",
    "    X['years'] = X['year_recorded'] - X['construction_year']    \n",
    "    \n",
    "    # Drop recorded_by (never varies) and id (always varies, random)\n",
    "    X = X.drop(columns=['recorded_by', 'id'])\n",
    "    \n",
    "    # Drop duplicate columns\n",
    "    duplicate_columns = ['quantity_group']\n",
    "    X = X.drop(columns=duplicate_columns)\n",
    "    \n",
    "    # About 3% of the time, latitude has small values near zero,\n",
    "    # outside Tanzania, so we'll treat these like null values\n",
    "    X['latitude'] = X['latitude'].replace(-2e-08, np.nan)\n",
    "    \n",
    "    # Group the lat and long\n",
    "    #step = 20\n",
    "    #to_bin = lambda x: np.floor(x / step) * step\n",
    "    #X['latgroup'] = X.latitude.map(to_bin)\n",
    "    #X['longroup'] = X.longitude.map(to_bin)\n",
    "    #X.drop(['latitude', 'longitude'], inplace=True)\n",
    "    \n",
    "    # Ordinal encode\n",
    "    #ordinal = ce.OrdinalEncoder()\n",
    "    #ordinal.fit(X)\n",
    "    #X = ordinal.transform(X)\n",
    "    \n",
    "    # When columns have zeros and shouldn't, they are like null values\n",
    "    cols_with_zeros = ['construction_year', 'longitude', 'latitude', 'gps_height', 'population']\n",
    "    for col in cols_with_zeros:\n",
    "        X[col] = X[col].replace(0, np.NaN)\n",
    "\n",
    "    return X\n",
    "\n",
    "\n",
    "train = wrangle(train)\n",
    "val = wrangle(val)\n",
    "test = wrangle(test)"
   ]
  },
  {
   "cell_type": "code",
   "execution_count": null,
   "metadata": {},
   "outputs": [],
   "source": []
  },
  {
   "cell_type": "code",
   "execution_count": 2,
   "metadata": {},
   "outputs": [],
   "source": [
    "# The status_group column is the target\n",
    "target = 'status_group'\n",
    "\n",
    "# Get a dataframe with all train columns except the target\n",
    "train_features = train.drop(columns=[target])\n",
    "\n",
    "# Get a list of the numeric features\n",
    "numeric_features = train_features.select_dtypes(include='number').columns.tolist()\n",
    "\n",
    "# Get a series with the cardinality of the nonnumeric features\n",
    "cardinality = train_features.select_dtypes(exclude='number').nunique()\n",
    "\n",
    "# Get a list of all categorical features with cardinality <= 50\n",
    "categorical_features = cardinality[cardinality <= 50].index.tolist()\n",
    "\n",
    "# Combine the lists \n",
    "features = numeric_features + categorical_features"
   ]
  },
  {
   "cell_type": "code",
   "execution_count": 4,
   "metadata": {},
   "outputs": [
    {
     "name": "stdout",
     "output_type": "stream",
     "text": [
      "Validation Accuracy 0.7705387205387205\n"
     ]
    }
   ],
   "source": [
    "# Arrange data into X features matrix and y target vector \n",
    "X_train = train[features]\n",
    "y_train = train[target]\n",
    "X_val = val[features]\n",
    "y_val = val[target]\n",
    "X_test = test[features]\n",
    "\n",
    "# Make pipeline!\n",
    "pipeline = make_pipeline(\n",
    "    ce.OneHotEncoder(use_cat_names=True), \n",
    "    SimpleImputer(strategy='median'), \n",
    "    DecisionTreeClassifier(max_depth=20, random_state=42)\n",
    ")\n",
    "\n",
    "# Fit on train, score on val, predict on test\n",
    "pipeline.fit(X_train, y_train)\n",
    "print('Validation Accuracy', pipeline.score(X_val, y_val))\n",
    "y_pred = pipeline.predict(X_test)\n",
    "\n",
    "# Write submission csv file\n",
    "submission = sample_submission.copy()\n",
    "submission['status_group'] = y_pred\n",
    "submission.to_csv('submission-03.csv', index=False)"
   ]
  },
  {
   "cell_type": "code",
   "execution_count": null,
   "metadata": {},
   "outputs": [],
   "source": []
  },
  {
   "cell_type": "code",
   "execution_count": 5,
   "metadata": {},
   "outputs": [
    {
     "data": {
      "image/png": "[encoded data removed]",
      "text/plain": [
       "<Figure size 720x720 with 1 Axes>"
      ]
     },
     "metadata": {
      "needs_background": "light"
     },
     "output_type": "display_data"
    }
   ],
   "source": [
    "# Get feature importances\n",
    "encoder = pipeline.named_steps['onehotencoder']\n",
    "tree = pipeline.named_steps['decisiontreeclassifier']\n",
    "feature_names = encoder.transform(X_val).columns\n",
    "importances = pd.Series(tree.feature_importances_, feature_names)\n",
    "\n",
    "# Plot feature importances\n",
    "n = 20\n",
    "plt.figure(figsize=(10,n/2))\n",
    "plt.title(f'Top {n} features')\n",
    "importances.sort_values()[-n:].plot.barh(color='grey');"
   ]
  },
  {
   "cell_type": "code",
   "execution_count": 6,
   "metadata": {},
   "outputs": [
    {
     "data": {
      "image/svg+xml": [
       "<?xml version=\"1.0\" encoding=\"UTF-8\" standalone=\"no\"?>\n",
       "<!DOCTYPE svg PUBLIC \"-//W3C//DTD SVG 1.1//EN\"\n",
       " \"http://www.w3.org/Graphics/SVG/1.1/DTD/svg11.dtd\">\n",
       "<!-- Generated by graphviz version 2.40.1 (20161225.0304)\n",
       " -->\n",
       "<!-- Title: Tree Pages: 1 -->\n",
       "<svg width=\"797pt\" height=\"422pt\"\n",
       " viewBox=\"0.00 0.00 797.00 422.00\" xmlns=\"http://www.w3.org/2000/svg\" xmlns:xlink=\"http://www.w3.org/1999/xlink\">\n",
       "<g id=\"graph0\" class=\"graph\" transform=\"scale(1 1) rotate(0) translate(4 418)\">\n",
       "<title>Tree</title>\n",
       "<polygon fill=\"#ffffff\" stroke=\"transparent\" points=\"-4,4 -4,-418 793,-418 793,4 -4,4\"/>\n",
       "<!-- 0 -->\n",
       "<g id=\"node1\" class=\"node\">\n",
       "<title>0</title>\n",
       "<path fill=\"#e58139\" fill-opacity=\"0.258824\" stroke=\"#000000\" d=\"M182,-247C182,-247 12,-247 12,-247 6,-247 0,-241 0,-235 0,-235 0,-191 0,-191 0,-185 6,-179 12,-179 12,-179 182,-179 182,-179 188,-179 194,-185 194,-191 194,-191 194,-235 194,-235 194,-241 188,-247 182,-247\"/>\n",
       "<text text-anchor=\"middle\" x=\"97\" y=\"-231.8\" font-family=\"Helvetica,sans-Serif\" font-size=\"14.00\" fill=\"#000000\">quantity_dry &lt;= 0.5</text>\n",
       "<text text-anchor=\"middle\" x=\"97\" y=\"-216.8\" font-family=\"Helvetica,sans-Serif\" font-size=\"14.00\" fill=\"#000000\">samples = 100.0%</text>\n",
       "<text text-anchor=\"middle\" x=\"97\" y=\"-201.8\" font-family=\"Helvetica,sans-Serif\" font-size=\"14.00\" fill=\"#000000\">value = [0.543, 0.073, 0.384]</text>\n",
       "<text text-anchor=\"middle\" x=\"97\" y=\"-186.8\" font-family=\"Helvetica,sans-Serif\" font-size=\"14.00\" fill=\"#000000\">class = functional</text>\n",
       "</g>\n",
       "<!-- 1 -->\n",
       "<g id=\"node2\" class=\"node\">\n",
       "<title>1</title>\n",
       "<path fill=\"#e58139\" fill-opacity=\"0.419608\" stroke=\"#000000\" d=\"M417,-287C417,-287 242,-287 242,-287 236,-287 230,-281 230,-275 230,-275 230,-231 230,-231 230,-225 236,-219 242,-219 242,-219 417,-219 417,-219 423,-219 429,-225 429,-231 429,-231 429,-275 429,-275 429,-281 423,-287 417,-287\"/>\n",
       "<text text-anchor=\"middle\" x=\"329.5\" y=\"-271.8\" font-family=\"Helvetica,sans-Serif\" font-size=\"14.00\" fill=\"#000000\">waterpoint_type_other &lt;= 0.5</text>\n",
       "<text text-anchor=\"middle\" x=\"329.5\" y=\"-256.8\" font-family=\"Helvetica,sans-Serif\" font-size=\"14.00\" fill=\"#000000\">samples = 89.6%</text>\n",
       "<text text-anchor=\"middle\" x=\"329.5\" y=\"-241.8\" font-family=\"Helvetica,sans-Serif\" font-size=\"14.00\" fill=\"#000000\">value = [0.603, 0.08, 0.317]</text>\n",
       "<text text-anchor=\"middle\" x=\"329.5\" y=\"-226.8\" font-family=\"Helvetica,sans-Serif\" font-size=\"14.00\" fill=\"#000000\">class = functional</text>\n",
       "</g>\n",
       "<!-- 0&#45;&gt;1 -->\n",
       "<g id=\"edge1\" class=\"edge\">\n",
       "<title>0&#45;&gt;1</title>\n",
       "<path fill=\"none\" stroke=\"#000000\" d=\"M194.2538,-229.7318C202.661,-231.1782 211.2044,-232.6481 219.7017,-234.11\"/>\n",
       "<polygon fill=\"#000000\" stroke=\"#000000\" points=\"219.196,-237.5743 229.6447,-235.8206 220.383,-230.6757 219.196,-237.5743\"/>\n",
       "<text text-anchor=\"middle\" x=\"209.2257\" y=\"-246.545\" font-family=\"Helvetica,sans-Serif\" font-size=\"14.00\" fill=\"#000000\">True</text>\n",
       "</g>\n",
       "<!-- 8902 -->\n",
       "<g id=\"node9\" class=\"node\">\n",
       "<title>8902</title>\n",
       "<path fill=\"#8139e5\" fill-opacity=\"0.968627\" stroke=\"#000000\" d=\"M414.5,-198C414.5,-198 244.5,-198 244.5,-198 238.5,-198 232.5,-192 232.5,-186 232.5,-186 232.5,-142 232.5,-142 232.5,-136 238.5,-130 244.5,-130 244.5,-130 414.5,-130 414.5,-130 420.5,-130 426.5,-136 426.5,-142 426.5,-142 426.5,-186 426.5,-186 426.5,-192 420.5,-198 414.5,-198\"/>\n",
       "<text text-anchor=\"middle\" x=\"329.5\" y=\"-182.8\" font-family=\"Helvetica,sans-Serif\" font-size=\"14.00\" fill=\"#000000\">region_Mwanza &lt;= 0.5</text>\n",
       "<text text-anchor=\"middle\" x=\"329.5\" y=\"-167.8\" font-family=\"Helvetica,sans-Serif\" font-size=\"14.00\" fill=\"#000000\">samples = 10.4%</text>\n",
       "<text text-anchor=\"middle\" x=\"329.5\" y=\"-152.8\" font-family=\"Helvetica,sans-Serif\" font-size=\"14.00\" fill=\"#000000\">value = [0.026, 0.006, 0.968]</text>\n",
       "<text text-anchor=\"middle\" x=\"329.5\" y=\"-137.8\" font-family=\"Helvetica,sans-Serif\" font-size=\"14.00\" fill=\"#000000\">class = non functional</text>\n",
       "</g>\n",
       "<!-- 0&#45;&gt;8902 -->\n",
       "<g id=\"edge8\" class=\"edge\">\n",
       "<title>0&#45;&gt;8902</title>\n",
       "<path fill=\"none\" stroke=\"#000000\" d=\"M194.2538,-192.5035C203.4834,-190.5583 212.8772,-188.5786 222.194,-186.615\"/>\n",
       "<polygon fill=\"#000000\" stroke=\"#000000\" points=\"223.1987,-189.9802 232.262,-184.4932 221.7551,-183.1307 223.1987,-189.9802\"/>\n",
       "<text text-anchor=\"middle\" x=\"211.3188\" y=\"-167.141\" font-family=\"Helvetica,sans-Serif\" font-size=\"14.00\" fill=\"#000000\">False</text>\n",
       "</g>\n",
       "<!-- 2 -->\n",
       "<g id=\"node3\" class=\"node\">\n",
       "<title>2</title>\n",
       "<path fill=\"#e58139\" fill-opacity=\"0.521569\" stroke=\"#000000\" d=\"M667,-376C667,-376 497,-376 497,-376 491,-376 485,-370 485,-364 485,-364 485,-320 485,-320 485,-314 491,-308 497,-308 497,-308 667,-308 667,-308 673,-308 679,-314 679,-320 679,-320 679,-364 679,-364 679,-370 673,-376 667,-376\"/>\n",
       "<text text-anchor=\"middle\" x=\"582\" y=\"-360.8\" font-family=\"Helvetica,sans-Serif\" font-size=\"14.00\" fill=\"#000000\">amount_tsh &lt;= 1.5</text>\n",
       "<text text-anchor=\"middle\" x=\"582\" y=\"-345.8\" font-family=\"Helvetica,sans-Serif\" font-size=\"14.00\" fill=\"#000000\">samples = 81.1%</text>\n",
       "<text text-anchor=\"middle\" x=\"582\" y=\"-330.8\" font-family=\"Helvetica,sans-Serif\" font-size=\"14.00\" fill=\"#000000\">value = [0.649, 0.083, 0.268]</text>\n",
       "<text text-anchor=\"middle\" x=\"582\" y=\"-315.8\" font-family=\"Helvetica,sans-Serif\" font-size=\"14.00\" fill=\"#000000\">class = functional</text>\n",
       "</g>\n",
       "<!-- 1&#45;&gt;2 -->\n",
       "<g id=\"edge2\" class=\"edge\">\n",
       "<title>1&#45;&gt;2</title>\n",
       "<path fill=\"none\" stroke=\"#000000\" d=\"M426.0402,-287.028C442.3336,-292.771 459.3268,-298.7607 475.8488,-304.5843\"/>\n",
       "<polygon fill=\"#000000\" stroke=\"#000000\" points=\"474.9185,-307.9674 485.5133,-307.9908 477.2455,-301.3655 474.9185,-307.9674\"/>\n",
       "</g>\n",
       "<!-- 7859 -->\n",
       "<g id=\"node6\" class=\"node\">\n",
       "<title>7859</title>\n",
       "<path fill=\"#8139e5\" fill-opacity=\"0.737255\" stroke=\"#000000\" d=\"M687,-287C687,-287 477,-287 477,-287 471,-287 465,-281 465,-275 465,-275 465,-231 465,-231 465,-225 471,-219 477,-219 477,-219 687,-219 687,-219 693,-219 699,-225 699,-231 699,-231 699,-275 699,-275 699,-281 693,-287 687,-287\"/>\n",
       "<text text-anchor=\"middle\" x=\"582\" y=\"-271.8\" font-family=\"Helvetica,sans-Serif\" font-size=\"14.00\" fill=\"#000000\">extraction_type_class_other &lt;= 0.5</text>\n",
       "<text text-anchor=\"middle\" x=\"582\" y=\"-256.8\" font-family=\"Helvetica,sans-Serif\" font-size=\"14.00\" fill=\"#000000\">samples = 8.5%</text>\n",
       "<text text-anchor=\"middle\" x=\"582\" y=\"-241.8\" font-family=\"Helvetica,sans-Serif\" font-size=\"14.00\" fill=\"#000000\">value = [0.162, 0.057, 0.781]</text>\n",
       "<text text-anchor=\"middle\" x=\"582\" y=\"-226.8\" font-family=\"Helvetica,sans-Serif\" font-size=\"14.00\" fill=\"#000000\">class = non functional</text>\n",
       "</g>\n",
       "<!-- 1&#45;&gt;7859 -->\n",
       "<g id=\"edge5\" class=\"edge\">\n",
       "<title>1&#45;&gt;7859</title>\n",
       "<path fill=\"none\" stroke=\"#000000\" d=\"M429.2947,-253C437.7163,-253 446.3024,-253 454.8938,-253\"/>\n",
       "<polygon fill=\"#000000\" stroke=\"#000000\" points=\"454.9722,-256.5001 464.9722,-253 454.9721,-249.5001 454.9722,-256.5001\"/>\n",
       "</g>\n",
       "<!-- 3 -->\n",
       "<g id=\"node4\" class=\"node\">\n",
       "<title>3</title>\n",
       "<path fill=\"#c0c0c0\" stroke=\"#000000\" d=\"M777,-414C777,-414 747,-414 747,-414 741,-414 735,-408 735,-402 735,-402 735,-390 735,-390 735,-384 741,-378 747,-378 747,-378 777,-378 777,-378 783,-378 789,-384 789,-390 789,-390 789,-402 789,-402 789,-408 783,-414 777,-414\"/>\n",
       "<text text-anchor=\"middle\" x=\"762\" y=\"-392.3\" font-family=\"Helvetica,sans-Serif\" font-size=\"14.00\" fill=\"#000000\">(...)</text>\n",
       "</g>\n",
       "<!-- 2&#45;&gt;3 -->\n",
       "<g id=\"edge3\" class=\"edge\">\n",
       "<title>2&#45;&gt;3</title>\n",
       "<path fill=\"none\" stroke=\"#000000\" d=\"M679.1125,-371.1338C695.3879,-376.0164 711.3511,-380.8053 724.8553,-384.8566\"/>\n",
       "<polygon fill=\"#000000\" stroke=\"#000000\" points=\"724.0832,-388.279 734.6672,-387.8002 726.0947,-381.5742 724.0832,-388.279\"/>\n",
       "</g>\n",
       "<!-- 4638 -->\n",
       "<g id=\"node5\" class=\"node\">\n",
       "<title>4638</title>\n",
       "<path fill=\"#c0c0c0\" stroke=\"#000000\" d=\"M777,-360C777,-360 747,-360 747,-360 741,-360 735,-354 735,-348 735,-348 735,-336 735,-336 735,-330 741,-324 747,-324 747,-324 777,-324 777,-324 783,-324 789,-330 789,-336 789,-336 789,-348 789,-348 789,-354 783,-360 777,-360\"/>\n",
       "<text text-anchor=\"middle\" x=\"762\" y=\"-338.3\" font-family=\"Helvetica,sans-Serif\" font-size=\"14.00\" fill=\"#000000\">(...)</text>\n",
       "</g>\n",
       "<!-- 2&#45;&gt;4638 -->\n",
       "<g id=\"edge4\" class=\"edge\">\n",
       "<title>2&#45;&gt;4638</title>\n",
       "<path fill=\"none\" stroke=\"#000000\" d=\"M679.1125,-342C695.2283,-342 711.0381,-342 724.4574,-342\"/>\n",
       "<polygon fill=\"#000000\" stroke=\"#000000\" points=\"724.6673,-345.5001 734.6672,-342 724.6672,-338.5001 724.6673,-345.5001\"/>\n",
       "</g>\n",
       "<!-- 7860 -->\n",
       "<g id=\"node7\" class=\"node\">\n",
       "<title>7860</title>\n",
       "<path fill=\"#c0c0c0\" stroke=\"#000000\" d=\"M777,-306C777,-306 747,-306 747,-306 741,-306 735,-300 735,-294 735,-294 735,-282 735,-282 735,-276 741,-270 747,-270 747,-270 777,-270 777,-270 783,-270 789,-276 789,-282 789,-282 789,-294 789,-294 789,-300 783,-306 777,-306\"/>\n",
       "<text text-anchor=\"middle\" x=\"762\" y=\"-284.3\" font-family=\"Helvetica,sans-Serif\" font-size=\"14.00\" fill=\"#000000\">(...)</text>\n",
       "</g>\n",
       "<!-- 7859&#45;&gt;7860 -->\n",
       "<g id=\"edge6\" class=\"edge\">\n",
       "<title>7859&#45;&gt;7860</title>\n",
       "<path fill=\"none\" stroke=\"#000000\" d=\"M699.0447,-275.7587C708.1958,-277.5381 716.9356,-279.2375 724.8347,-280.7734\"/>\n",
       "<polygon fill=\"#000000\" stroke=\"#000000\" points=\"724.2143,-284.2183 734.6986,-282.6914 725.5505,-277.347 724.2143,-284.2183\"/>\n",
       "</g>\n",
       "<!-- 8299 -->\n",
       "<g id=\"node8\" class=\"node\">\n",
       "<title>8299</title>\n",
       "<path fill=\"#c0c0c0\" stroke=\"#000000\" d=\"M777,-252C777,-252 747,-252 747,-252 741,-252 735,-246 735,-240 735,-240 735,-228 735,-228 735,-222 741,-216 747,-216 747,-216 777,-216 777,-216 783,-216 789,-222 789,-228 789,-228 789,-240 789,-240 789,-246 783,-252 777,-252\"/>\n",
       "<text text-anchor=\"middle\" x=\"762\" y=\"-230.3\" font-family=\"Helvetica,sans-Serif\" font-size=\"14.00\" fill=\"#000000\">(...)</text>\n",
       "</g>\n",
       "<!-- 7859&#45;&gt;8299 -->\n",
       "<g id=\"edge7\" class=\"edge\">\n",
       "<title>7859&#45;&gt;8299</title>\n",
       "<path fill=\"none\" stroke=\"#000000\" d=\"M699.0447,-240.6453C708.0929,-239.6902 716.7391,-238.7775 724.5681,-237.9511\"/>\n",
       "<polygon fill=\"#000000\" stroke=\"#000000\" points=\"725.1212,-241.4123 734.6986,-236.8818 724.3864,-234.451 725.1212,-241.4123\"/>\n",
       "</g>\n",
       "<!-- 8903 -->\n",
       "<g id=\"node10\" class=\"node\">\n",
       "<title>8903</title>\n",
       "<path fill=\"#8139e5\" fill-opacity=\"0.972549\" stroke=\"#000000\" d=\"M667,-198C667,-198 497,-198 497,-198 491,-198 485,-192 485,-186 485,-186 485,-142 485,-142 485,-136 491,-130 497,-130 497,-130 667,-130 667,-130 673,-130 679,-136 679,-142 679,-142 679,-186 679,-186 679,-192 673,-198 667,-198\"/>\n",
       "<text text-anchor=\"middle\" x=\"582\" y=\"-182.8\" font-family=\"Helvetica,sans-Serif\" font-size=\"14.00\" fill=\"#000000\">construction_year &lt;= 2011.5</text>\n",
       "<text text-anchor=\"middle\" x=\"582\" y=\"-167.8\" font-family=\"Helvetica,sans-Serif\" font-size=\"14.00\" fill=\"#000000\">samples = 9.7%</text>\n",
       "<text text-anchor=\"middle\" x=\"582\" y=\"-152.8\" font-family=\"Helvetica,sans-Serif\" font-size=\"14.00\" fill=\"#000000\">value = [0.019, 0.006, 0.974]</text>\n",
       "<text text-anchor=\"middle\" x=\"582\" y=\"-137.8\" font-family=\"Helvetica,sans-Serif\" font-size=\"14.00\" fill=\"#000000\">class = non functional</text>\n",
       "</g>\n",
       "<!-- 8902&#45;&gt;8903 -->\n",
       "<g id=\"edge9\" class=\"edge\">\n",
       "<title>8902&#45;&gt;8903</title>\n",
       "<path fill=\"none\" stroke=\"#000000\" d=\"M426.7619,-164C442.3748,-164 458.613,-164 474.4497,-164\"/>\n",
       "<polygon fill=\"#000000\" stroke=\"#000000\" points=\"474.7882,-167.5001 484.7882,-164 474.7881,-160.5001 474.7882,-167.5001\"/>\n",
       "</g>\n",
       "<!-- 9202 -->\n",
       "<g id=\"node13\" class=\"node\">\n",
       "<title>9202</title>\n",
       "<path fill=\"#8139e5\" fill-opacity=\"0.843137\" stroke=\"#000000\" d=\"M667,-106C667,-106 497,-106 497,-106 491,-106 485,-100 485,-94 485,-94 485,-50 485,-50 485,-44 491,-38 497,-38 497,-38 667,-38 667,-38 673,-38 679,-44 679,-50 679,-50 679,-94 679,-94 679,-100 673,-106 667,-106\"/>\n",
       "<text text-anchor=\"middle\" x=\"582\" y=\"-90.8\" font-family=\"Helvetica,sans-Serif\" font-size=\"14.00\" fill=\"#000000\">longitude &lt;= 32.736</text>\n",
       "<text text-anchor=\"middle\" x=\"582\" y=\"-75.8\" font-family=\"Helvetica,sans-Serif\" font-size=\"14.00\" fill=\"#000000\">samples = 0.6%</text>\n",
       "<text text-anchor=\"middle\" x=\"582\" y=\"-60.8\" font-family=\"Helvetica,sans-Serif\" font-size=\"14.00\" fill=\"#000000\">value = [0.132, 0.003, 0.864]</text>\n",
       "<text text-anchor=\"middle\" x=\"582\" y=\"-45.8\" font-family=\"Helvetica,sans-Serif\" font-size=\"14.00\" fill=\"#000000\">class = non functional</text>\n",
       "</g>\n",
       "<!-- 8902&#45;&gt;9202 -->\n",
       "<g id=\"edge12\" class=\"edge\">\n",
       "<title>8902&#45;&gt;9202</title>\n",
       "<path fill=\"none\" stroke=\"#000000\" d=\"M423.1629,-129.8733C441.3293,-123.2543 460.4621,-116.2831 478.9116,-109.5609\"/>\n",
       "<polygon fill=\"#000000\" stroke=\"#000000\" points=\"480.2909,-112.7835 488.4884,-106.0715 477.8945,-106.2065 480.2909,-112.7835\"/>\n",
       "</g>\n",
       "<!-- 8904 -->\n",
       "<g id=\"node11\" class=\"node\">\n",
       "<title>8904</title>\n",
       "<path fill=\"#c0c0c0\" stroke=\"#000000\" d=\"M777,-198C777,-198 747,-198 747,-198 741,-198 735,-192 735,-186 735,-186 735,-174 735,-174 735,-168 741,-162 747,-162 747,-162 777,-162 777,-162 783,-162 789,-168 789,-174 789,-174 789,-186 789,-186 789,-192 783,-198 777,-198\"/>\n",
       "<text text-anchor=\"middle\" x=\"762\" y=\"-176.3\" font-family=\"Helvetica,sans-Serif\" font-size=\"14.00\" fill=\"#000000\">(...)</text>\n",
       "</g>\n",
       "<!-- 8903&#45;&gt;8904 -->\n",
       "<g id=\"edge10\" class=\"edge\">\n",
       "<title>8903&#45;&gt;8904</title>\n",
       "<path fill=\"none\" stroke=\"#000000\" d=\"M679.1125,-172.6322C695.2283,-174.0647 711.0381,-175.47 724.4574,-176.6629\"/>\n",
       "<polygon fill=\"#000000\" stroke=\"#000000\" points=\"724.3966,-180.1712 734.6672,-177.5704 725.0164,-173.1987 724.3966,-180.1712\"/>\n",
       "</g>\n",
       "<!-- 9191 -->\n",
       "<g id=\"node12\" class=\"node\">\n",
       "<title>9191</title>\n",
       "<path fill=\"#c0c0c0\" stroke=\"#000000\" d=\"M777,-144C777,-144 747,-144 747,-144 741,-144 735,-138 735,-132 735,-132 735,-120 735,-120 735,-114 741,-108 747,-108 747,-108 777,-108 777,-108 783,-108 789,-114 789,-120 789,-120 789,-132 789,-132 789,-138 783,-144 777,-144\"/>\n",
       "<text text-anchor=\"middle\" x=\"762\" y=\"-122.3\" font-family=\"Helvetica,sans-Serif\" font-size=\"14.00\" fill=\"#000000\">(...)</text>\n",
       "</g>\n",
       "<!-- 8903&#45;&gt;9191 -->\n",
       "<g id=\"edge11\" class=\"edge\">\n",
       "<title>8903&#45;&gt;9191</title>\n",
       "<path fill=\"none\" stroke=\"#000000\" d=\"M679.1125,-143.4985C695.3879,-140.0626 711.3511,-136.6925 724.8553,-133.8417\"/>\n",
       "<polygon fill=\"#000000\" stroke=\"#000000\" points=\"725.6059,-137.2604 734.6672,-131.7703 724.1599,-130.4114 725.6059,-137.2604\"/>\n",
       "</g>\n",
       "<!-- 9203 -->\n",
       "<g id=\"node14\" class=\"node\">\n",
       "<title>9203</title>\n",
       "<path fill=\"#c0c0c0\" stroke=\"#000000\" d=\"M777,-90C777,-90 747,-90 747,-90 741,-90 735,-84 735,-78 735,-78 735,-66 735,-66 735,-60 741,-54 747,-54 747,-54 777,-54 777,-54 783,-54 789,-60 789,-66 789,-66 789,-78 789,-78 789,-84 783,-90 777,-90\"/>\n",
       "<text text-anchor=\"middle\" x=\"762\" y=\"-68.3\" font-family=\"Helvetica,sans-Serif\" font-size=\"14.00\" fill=\"#000000\">(...)</text>\n",
       "</g>\n",
       "<!-- 9202&#45;&gt;9203 -->\n",
       "<g id=\"edge13\" class=\"edge\">\n",
       "<title>9202&#45;&gt;9203</title>\n",
       "<path fill=\"none\" stroke=\"#000000\" d=\"M679.1125,-72C695.2283,-72 711.0381,-72 724.4574,-72\"/>\n",
       "<polygon fill=\"#000000\" stroke=\"#000000\" points=\"724.6673,-75.5001 734.6672,-72 724.6672,-68.5001 724.6673,-75.5001\"/>\n",
       "</g>\n",
       "<!-- 9242 -->\n",
       "<g id=\"node15\" class=\"node\">\n",
       "<title>9242</title>\n",
       "<path fill=\"#c0c0c0\" stroke=\"#000000\" d=\"M777,-36C777,-36 747,-36 747,-36 741,-36 735,-30 735,-24 735,-24 735,-12 735,-12 735,-6 741,0 747,0 747,0 777,0 777,0 783,0 789,-6 789,-12 789,-12 789,-24 789,-24 789,-30 783,-36 777,-36\"/>\n",
       "<text text-anchor=\"middle\" x=\"762\" y=\"-14.3\" font-family=\"Helvetica,sans-Serif\" font-size=\"14.00\" fill=\"#000000\">(...)</text>\n",
       "</g>\n",
       "<!-- 9202&#45;&gt;9242 -->\n",
       "<g id=\"edge14\" class=\"edge\">\n",
       "<title>9202&#45;&gt;9242</title>\n",
       "<path fill=\"none\" stroke=\"#000000\" d=\"M679.1125,-42.8662C695.3879,-37.9836 711.3511,-33.1947 724.8553,-29.1434\"/>\n",
       "<polygon fill=\"#000000\" stroke=\"#000000\" points=\"726.0947,-32.4258 734.6672,-26.1998 724.0832,-25.721 726.0947,-32.4258\"/>\n",
       "</g>\n",
       "</g>\n",
       "</svg>\n"
      ],
      "text/plain": [
       "<graphviz.files.Source at 0x1a2000ec50>"
      ]
     },
     "execution_count": 6,
     "metadata": {},
     "output_type": "execute_result"
    }
   ],
   "source": [
    "import graphviz\n",
    "from sklearn.tree import export_graphviz\n",
    "\n",
    "dot_data = export_graphviz(tree, \n",
    "                           out_file=None, \n",
    "                           max_depth=2, \n",
    "                           feature_names=feature_names, \n",
    "                           class_names=tree.classes_, \n",
    "                           impurity=False, \n",
    "                           filled=True, \n",
    "                           proportion=True, \n",
    "                           rotate=True, \n",
    "                           rounded=True)\n",
    "\n",
    "graphviz.Source(dot_data)"
   ]
  },
  {
   "cell_type": "markdown",
   "metadata": {},
   "source": [
    "## Use scikit-learn for random forests\n",
    "\n",
    "[Scikit-Learn User Guide: Random Forests](https://scikit-learn.org/stable/modules/ensemble.html#random-forests) "
   ]
  },
  {
   "cell_type": "code",
   "execution_count": 7,
   "metadata": {},
   "outputs": [
    {
     "name": "stderr",
     "output_type": "stream",
     "text": [
      "/Users/ericchiyembekeza/anaconda3/lib/python3.7/site-packages/sklearn/ensemble/forest.py:246: FutureWarning: The default value of n_estimators will change from 10 in version 0.20 to 100 in 0.22.\n",
      "  \"10 in version 0.20 to 100 in 0.22.\", FutureWarning)\n"
     ]
    },
    {
     "name": "stdout",
     "output_type": "stream",
     "text": [
      "Validation Accuracy 0.79503367003367\n"
     ]
    }
   ],
   "source": [
    "from sklearn.ensemble import RandomForestClassifier\n",
    "pipeline = make_pipeline(\n",
    "    ce.OneHotEncoder(use_cat_names=True), \n",
    "    SimpleImputer(strategy='median'), \n",
    "    RandomForestClassifier(max_depth=100, random_state=42, n_jobs=-1)\n",
    ")\n",
    "# Fit on train, score on val, predict on test\n",
    "pipeline.fit(X_train, y_train)\n",
    "print('Validation Accuracy', pipeline.score(X_val, y_val))\n",
    "y_pred = pipeline.predict(X_test)\n",
    "\n",
    "# Write submission csv file\n",
    "submission = sample_submission.copy()\n",
    "submission['status_group'] = y_pred\n",
    "submission.to_csv('submission-04.csv', index=False)"
   ]
  },
  {
   "cell_type": "code",
   "execution_count": 8,
   "metadata": {},
   "outputs": [
    {
     "name": "stdout",
     "output_type": "stream",
     "text": [
      "(47520, 203) (47520, 33)\n"
     ]
    }
   ],
   "source": [
    "encoder = pipeline.named_steps['onehotencoder']\n",
    "encoded_shape = encoder.transform(X_train).shape\n",
    "print(encoded_shape, X_train.shape)"
   ]
  },
  {
   "cell_type": "markdown",
   "metadata": {},
   "source": [
    "## Do ordinal encoding with high-cardinality categoricals\n",
    "\n",
    "http://contrib.scikit-learn.org/categorical-encoding/ordinal.html"
   ]
  },
  {
   "cell_type": "code",
   "execution_count": 9,
   "metadata": {},
   "outputs": [],
   "source": [
    "X_train = train.drop(columns=target)\n",
    "y_train = train[target]\n",
    "\n",
    "X_val = val.drop(columns=target)\n",
    "y_val  = val[target]\n",
    "\n",
    "X_test = test"
   ]
  },
  {
   "cell_type": "code",
   "execution_count": 10,
   "metadata": {},
   "outputs": [
    {
     "data": {
      "text/plain": [
       "(47520, 40)"
      ]
     },
     "execution_count": 10,
     "metadata": {},
     "output_type": "execute_result"
    }
   ],
   "source": [
    "X_train.shape"
   ]
  },
  {
   "cell_type": "code",
   "execution_count": 14,
   "metadata": {},
   "outputs": [
    {
     "name": "stderr",
     "output_type": "stream",
     "text": [
      "/Users/ericchiyembekeza/anaconda3/lib/python3.7/site-packages/sklearn/ensemble/forest.py:246: FutureWarning: The default value of n_estimators will change from 10 in version 0.20 to 100 in 0.22.\n",
      "  \"10 in version 0.20 to 100 in 0.22.\", FutureWarning)\n"
     ]
    },
    {
     "name": "stdout",
     "output_type": "stream",
     "text": [
      "Val Accuracy:0.7915824915824916\n"
     ]
    }
   ],
   "source": [
    "pipeline = make_pipeline(\n",
    "    ce.OrdinalEncoder(), \n",
    "    SimpleImputer(strategy='median'), \n",
    "    RandomForestClassifier(max_depth=100, random_state=42, n_jobs=-1)\n",
    ")\n",
    "pipeline.fit(X_train, y_train)\n",
    "print(f\"Val Accuracy:{pipeline.score(X_val,y_val)}\")"
   ]
  },
  {
   "cell_type": "markdown",
   "metadata": {},
   "source": [
    "## Understand how tree ensembles reduce overfitting compared to a single decision tree with unlimited depth"
   ]
  },
  {
   "cell_type": "markdown",
   "metadata": {},
   "source": [
    "### Interlude: [predicting golf putts](https://statmodeling.stat.columbia.edu/2008/12/04/the_golf_puttin/)\n",
    "(1 feature, non-linear, regression)"
   ]
  },
  {
   "cell_type": "code",
   "execution_count": null,
   "metadata": {},
   "outputs": [],
   "source": [
    "putts = pd.DataFrame(\n",
    "    columns=['distance', 'tries', 'successes'], \n",
    "    data = [[2, 1443, 1346],\n",
    "            [3, 694, 577],\n",
    "            [4, 455, 337],\n",
    "            [5, 353, 208],\n",
    "            [6, 272, 149],\n",
    "            [7, 256, 136],\n",
    "            [8, 240, 111],\n",
    "            [9, 217, 69],\n",
    "            [10, 200, 67],\n",
    "            [11, 237, 75],\n",
    "            [12, 202, 52],\n",
    "            [13, 192, 46],\n",
    "            [14, 174, 54],\n",
    "            [15, 167, 28],\n",
    "            [16, 201, 27],\n",
    "            [17, 195, 31],\n",
    "            [18, 191, 33],\n",
    "            [19, 147, 20],\n",
    "            [20, 152, 24]]\n",
    ")\n",
    "\n",
    "putts['rate of success'] = putts['successes'] / putts['tries']\n",
    "putts_X = putts[['distance']]\n",
    "putts_y = putts['rate of success']"
   ]
  },
  {
   "cell_type": "code",
   "execution_count": null,
   "metadata": {},
   "outputs": [],
   "source": [
    "from ipywidgets import interact\n",
    "from sklearn.ensemble import RandomForestRegressor\n",
    "from sklearn.tree import DecisionTreeRegressor\n",
    "\n",
    "def putt_trees(max_depth=1, n_estimators=1):\n",
    "    models = [DecisionTreeRegressor(max_depth=max_depth), \n",
    "              RandomForestRegressor(max_depth=max_depth, n_estimators=n_estimators)]\n",
    "    \n",
    "    for model in models:\n",
    "        name = model.__class__.__name__\n",
    "        model.fit(putts_X, putts_y)\n",
    "        ax = putts.plot('distance', 'rate of success', kind='scatter', title=name)\n",
    "        ax.step(putts_X, model.predict(putts_X), where='mid')\n",
    "        plt.show()\n",
    "        \n",
    "interact(putt_trees, max_depth=(1,6,1), n_estimators=(10,40,10));"
   ]
  },
  {
   "cell_type": "markdown",
   "metadata": {},
   "source": [
    "### What's \"random\" about random forests?\n",
    "1. Each tree trains on a random bootstrap sample of the data. (In scikit-learn, for `RandomForestRegressor` and `RandomForestClassifier`, the `bootstrap` parameter's default is `True`.) This type of ensembling is called Bagging.\n",
    "2. Each split considers a random subset of the features. (In scikit-learn, when the `max_features` parameter is not `None`.) \n",
    "\n",
    "For extra randomness, you can try [\"extremely randomized trees\"](https://scikit-learn.org/stable/modules/ensemble.html#extremely-randomized-trees)!\n",
    "\n",
    ">In extremely randomized trees (see [ExtraTreesClassifier](https://scikit-learn.org/stable/modules/generated/sklearn.ensemble.ExtraTreesClassifier.html) and [ExtraTreesRegressor](https://scikit-learn.org/stable/modules/generated/sklearn.ensemble.ExtraTreesRegressor.html) classes), randomness goes one step further in the way splits are computed. As in random forests, a random subset of candidate features is used, but instead of looking for the most discriminative thresholds, thresholds are drawn at random for each candidate feature and the best of these randomly-generated thresholds is picked as the splitting rule. This usually allows to reduce the variance of the model a bit more, at the expense of a slightly greater increase in bias"
   ]
  },
  {
   "cell_type": "markdown",
   "metadata": {},
   "source": [
    "### Bagging demo, with golf putts data\n",
    "https://pandas.pydata.org/pandas-docs/stable/reference/api/pandas.DataFrame.sample.html"
   ]
  },
  {
   "cell_type": "code",
   "execution_count": null,
   "metadata": {
    "scrolled": false
   },
   "outputs": [],
   "source": [
    "# Do-it-yourself Bagging Ensemble of Decision Trees (like a Random Forest)\n",
    "def diy_bagging(max_depth=1, n_estimators=1):\n",
    "    y_preds = []\n",
    "    for i in range(n_estimators):\n",
    "        title = f'Tree {i+1}'\n",
    "        bootstrap_sample = putts.sample(n=len(putts), replace=True).sort_values(by='distance')\n",
    "        bootstrap_X = bootstrap_sample[['distance']]\n",
    "        bootstrap_y = bootstrap_sample['rate of success']\n",
    "        tree = DecisionTreeRegressor(max_depth=max_depth)\n",
    "        tree.fit(bootstrap_X, bootstrap_y)\n",
    "        y_pred = tree.predict(bootstrap_X)\n",
    "        y_preds.append(y_pred)\n",
    "        ax = bootstrap_sample.plot('distance', 'rate of success', kind='scatter', title=title)\n",
    "        ax.step(bootstrap_X, y_pred, where='mid')\n",
    "        plt.show()\n",
    "        \n",
    "    ensembled = np.vstack(y_preds).mean(axis=0)\n",
    "    title = f'Ensemble of {n_estimators} trees, with max_depth={max_depth}'\n",
    "    ax = putts.plot('distance', 'rate of success', kind='scatter', title=title)\n",
    "    ax.step(putts_X, ensembled, where='mid')\n",
    "    plt.show()\n",
    "    \n",
    "interact(diy_bagging, max_depth=(1,6,1), n_estimators=(2,5,1));"
   ]
  },
  {
   "cell_type": "markdown",
   "metadata": {},
   "source": [
    "### Go back to Tanzania Waterpumps ...\n",
    "\n",
    "#### viz2D helper function"
   ]
  },
  {
   "cell_type": "code",
   "execution_count": null,
   "metadata": {},
   "outputs": [],
   "source": [
    "def viz2D(fitted_model, X, feature1, feature2, num=100, title=''):\n",
    "    \"\"\"\n",
    "    Visualize model predictions as a 2D heatmap\n",
    "    For regression or binary classification models, fitted on 2 features\n",
    "    \n",
    "    Parameters\n",
    "    ----------\n",
    "    fitted_model : scikit-learn model, already fitted\n",
    "    X : pandas dataframe, which was used to fit model\n",
    "    feature1 : string, name of feature 1\n",
    "    feature2 : string, name of feature 2\n",
    "    target : string, name of target\n",
    "    num : int, number of grid points for each feature\n",
    "    \n",
    "    Returns\n",
    "    -------\n",
    "    predictions: numpy array, predictions/predicted probabilities at each grid point\n",
    "    \n",
    "    References\n",
    "    ----------\n",
    "    https://scikit-learn.org/stable/auto_examples/classification/plot_classification_probability.html\n",
    "    https://jakevdp.github.io/PythonDataScienceHandbook/04.04-density-and-contour-plots.html\n",
    "    \"\"\"\n",
    "    x1 = np.linspace(X[feature1].min(), X[feature1].max(), num)\n",
    "    x2 = np.linspace(X[feature2].min(), X[feature2].max(), num)\n",
    "    X1, X2 = np.meshgrid(x1, x2)\n",
    "    X = np.c_[X1.flatten(), X2.flatten()]\n",
    "    if hasattr(fitted_model, 'predict_proba'):\n",
    "        predicted = fitted_model.predict_proba(X)[:,0]\n",
    "    else:\n",
    "        predicted = fitted_model.predict(X)\n",
    "    \n",
    "    plt.imshow(predicted.reshape(num, num), cmap='viridis')\n",
    "    plt.title(title)\n",
    "    plt.xlabel(feature1)\n",
    "    plt.ylabel(feature2)\n",
    "    plt.xticks([])\n",
    "    plt.yticks([])\n",
    "    plt.colorbar()\n",
    "    plt.show()\n",
    "    return predicted"
   ]
  },
  {
   "cell_type": "markdown",
   "metadata": {},
   "source": [
    "### Compare Decision Tree, Random Forest, Logistic Regression"
   ]
  },
  {
   "cell_type": "code",
   "execution_count": null,
   "metadata": {},
   "outputs": [],
   "source": [
    "# Instructions\n",
    "# 1. Choose two features\n",
    "# 2. Run this code cell\n",
    "# 3. Interact with the widget sliders\n",
    "feature1 = 'longitude'\n",
    "feature2 = 'latitude'\n",
    "\n",
    "from sklearn.linear_model import LogisticRegression\n",
    "\n",
    "def get_X_y(df, feature1, feature2, target):\n",
    "    features = [feature1, feature2]\n",
    "    X = df[features]\n",
    "    y = df[target]\n",
    "    X = X.fillna(X.median())\n",
    "    X = ce.OrdinalEncoder().fit_transform(X)\n",
    "    return X, y\n",
    "\n",
    "def compare_models(max_depth=1, n_estimators=1):\n",
    "    models = [DecisionTreeClassifier(max_depth=max_depth), \n",
    "              RandomForestClassifier(max_depth=max_depth, n_estimators=n_estimators), \n",
    "              LogisticRegression(solver='lbfgs', multi_class='auto')]\n",
    "    \n",
    "    for model in models:\n",
    "        name = model.__class__.__name__\n",
    "        model.fit(X, y)\n",
    "        viz2D(model, X, feature1, feature2, title=name)\n",
    "\n",
    "X, y = get_X_y(train, feature1, feature2, target='status_group')\n",
    "interact(compare_models, max_depth=(1,6,1), n_estimators=(10,40,10));"
   ]
  },
  {
   "cell_type": "markdown",
   "metadata": {},
   "source": [
    "### Bagging"
   ]
  },
  {
   "cell_type": "code",
   "execution_count": null,
   "metadata": {},
   "outputs": [],
   "source": [
    "# Do-it-yourself Bagging Ensemble of Decision Trees (like a Random Forest)\n",
    "\n",
    "# Instructions\n",
    "# 1. Choose two features\n",
    "# 2. Run this code cell\n",
    "# 3. Interact with the widget sliders\n",
    "\n",
    "feature1 = 'longitude'\n",
    "feature2 = 'latitude'\n",
    "\n",
    "def waterpumps_bagging(max_depth=1, n_estimators=1):\n",
    "    predicteds = []\n",
    "    for i in range(n_estimators):\n",
    "        title = f'Tree {i+1}'\n",
    "        bootstrap_sample = train.sample(n=len(train), replace=True)\n",
    "        X, y = get_X_y(bootstrap_sample, feature1, feature2, target='status_group')\n",
    "        tree = DecisionTreeClassifier(max_depth=max_depth)\n",
    "        tree.fit(X, y)\n",
    "        predicted = viz2D(tree, X, feature1, feature2, title=title)\n",
    "        predicteds.append(predicted)\n",
    "    \n",
    "    ensembled = np.vstack(predicteds).mean(axis=0)\n",
    "    title = f'Ensemble of {n_estimators} trees, with max_depth={max_depth}'\n",
    "    plt.imshow(ensembled.reshape(100, 100), cmap='viridis')\n",
    "    plt.title(title)\n",
    "    plt.xlabel(feature1)\n",
    "    plt.ylabel(feature2)\n",
    "    plt.xticks([])\n",
    "    plt.yticks([])\n",
    "    plt.colorbar()\n",
    "    plt.show()\n",
    "        \n",
    "interact(waterpumps_bagging, max_depth=(1,6,1), n_estimators=(2,5,1));"
   ]
  },
  {
   "cell_type": "markdown",
   "metadata": {},
   "source": [
    "## Understand how categorical encodings affect trees differently compared to linear models"
   ]
  },
  {
   "cell_type": "markdown",
   "metadata": {},
   "source": [
    "### Categorical exploration, 1 feature at a time\n",
    "\n",
    "Change `feature`, then re-run these cells!"
   ]
  },
  {
   "cell_type": "code",
   "execution_count": null,
   "metadata": {},
   "outputs": [],
   "source": [
    "feature = 'quantity'"
   ]
  },
  {
   "cell_type": "code",
   "execution_count": null,
   "metadata": {},
   "outputs": [],
   "source": [
    "X_train[feature].value_counts()"
   ]
  },
  {
   "cell_type": "code",
   "execution_count": null,
   "metadata": {},
   "outputs": [],
   "source": [
    "sns.barplot(x=train[feature], \n",
    "            y=train['status_group']=='functional');"
   ]
  },
  {
   "cell_type": "code",
   "execution_count": null,
   "metadata": {},
   "outputs": [],
   "source": [
    "X_train[feature].head()"
   ]
  },
  {
   "cell_type": "markdown",
   "metadata": {},
   "source": [
    "### [One Hot Encoding](http://contrib.scikit-learn.org/categorical-encoding/onehot.html)\n",
    "\n",
    "> Onehot (or dummy) coding for categorical features, produces one feature per category, each binary.\n",
    "\n",
    "Warning: May run slow, or run out of memory, with high cardinality categoricals!"
   ]
  },
  {
   "cell_type": "code",
   "execution_count": null,
   "metadata": {},
   "outputs": [],
   "source": [
    "encoder = ce.OneHotEncoder(use_cat_names=True)\n",
    "encoded = encoder.fit_transform(X_train[[feature]])\n",
    "print(f'{len(encoded.columns)} columns')\n",
    "encoded.head()"
   ]
  },
  {
   "cell_type": "markdown",
   "metadata": {},
   "source": [
    "### [Ordinal Encoding](http://contrib.scikit-learn.org/categorical-encoding/ordinal.html)\n",
    "\n",
    "> Ordinal encoding uses a single column of integers to represent the classes. An optional mapping dict can be passed in; in this case, we use the knowledge that there is some true order to the classes themselves. Otherwise, the classes are assumed to have no true order and integers are selected at random."
   ]
  },
  {
   "cell_type": "code",
   "execution_count": null,
   "metadata": {},
   "outputs": [],
   "source": [
    "encoder = ce.OrdinalEncoder()\n",
    "encoded = encoder.fit_transform(X_train[[feature]])\n",
    "print(f'1 column, {encoded[feature].nunique()} unique values')\n",
    "encoded.head()"
   ]
  },
  {
   "cell_type": "markdown",
   "metadata": {},
   "source": [
    "# Assignment\n",
    "- Start a clean notebook, or continue with yesterday's assignment notebook.\n",
    "- Continue to participate in our Kaggle competition with the Tanzania Waterpumps data. \n",
    "- Do more exploratory data analysis, data cleaning, feature engineering, and feature selection.\n",
    "- Try a Random Forest Classifier. \n",
    "- Try Ordinal Encoding.\n",
    "- Submit new predictions.\n",
    "- Commit your notebook to your fork of the GitHub repo.\n",
    "\n",
    "## Stretch Goals\n",
    "- Create visualizations and share on Slack.\n",
    "- Read more about decision trees and tree ensembles. You can start with the links at the top & bottom of this notebook:"
   ]
  },
  {
   "cell_type": "markdown",
   "metadata": {},
   "source": [
    "### Post-read links\n",
    "\n",
    "#### Decision Trees\n",
    "- A Visual Introduction to Machine Learning, [Part 1: A Decision Tree](http://www.r2d3.us/visual-intro-to-machine-learning-part-1/),  and [Part 2: Bias and Variance](http://www.r2d3.us/visual-intro-to-machine-learning-part-2/)\n",
    "- [Decision Trees: Advantages & Disadvantages](https://christophm.github.io/interpretable-ml-book/tree.html#advantages-2)\n",
    "- [How a Russian mathematician constructed a decision tree — by hand — to solve a medical problem](http://fastml.com/how-a-russian-mathematician-constructed-a-decision-tree-by-hand-to-solve-a-medical-problem/)\n",
    "- [How decision trees work](https://brohrer.github.io/how_decision_trees_work.html)\n",
    "- [Let’s Write a Decision Tree Classifier from Scratch](https://www.youtube.com/watch?v=LDRbO9a6XPU)\n",
    "\n",
    "#### Random Forests\n",
    "- [_An Introduction to Statistical Learning_](http://www-bcf.usc.edu/~gareth/ISL/), Chapter 8: Tree-Based Methods\n",
    "- [Coloring with Random Forests](http://structuringtheunstructured.blogspot.com/2017/11/coloring-with-random-forests.html)\n",
    "- [Random Forests for Complete Beginners: The definitive guide to Random Forests and Decision Trees](https://victorzhou.com/blog/intro-to-random-forests/)\n",
    "\n",
    "#### Categorical encoding for trees\n",
    "- [Are categorical variables getting lost in your random forests?](https://roamanalytics.com/2016/10/28/are-categorical-variables-getting-lost-in-your-random-forests/)\n",
    "- [Beyond One-Hot: An Exploration of Categorical Variables](http://www.willmcginnis.com/2015/11/29/beyond-one-hot-an-exploration-of-categorical-variables/)\n",
    "- [Categorical Features and Encoding in Decision Trees](https://medium.com/data-design/visiting-categorical-features-and-encoding-in-decision-trees-53400fa65931)\n",
    "- [Coursera — How to Win a Data Science Competition: Learn from Top Kagglers — Concept of mean encoding](https://www.coursera.org/lecture/competitive-data-science/concept-of-mean-encoding-b5Gxv)\n",
    "- [Mean (likelihood) encodings: a comprehensive study](https://www.kaggle.com/vprokopev/mean-likelihood-encodings-a-comprehensive-study)\n",
    "- [The Mechanics of Machine Learning, Chapter 6: Categorically Speaking](https://mlbook.explained.ai/catvars.html)"
   ]
  }
 ],
 "metadata": {
  "kernelspec": {
   "display_name": "Python 3",
   "language": "python",
   "name": "python3"
  },
  "language_info": {
   "codemirror_mode": {
    "name": "ipython",
    "version": 3
   },
   "file_extension": ".py",
   "mimetype": "text/x-python",
   "name": "python",
   "nbconvert_exporter": "python",
   "pygments_lexer": "ipython3",
   "version": "3.7.3"
  }
 },
 "nbformat": 4,
 "nbformat_minor": 2
}
