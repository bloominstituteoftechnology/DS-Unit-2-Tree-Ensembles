{
 "cells": [
  {
   "cell_type": "markdown",
   "metadata": {},
   "source": [
    "_Lambda School Data Science — Tree Ensembles_ \n",
    "\n",
    "This sprint, your project is about water pumps in Tanzania. Can you predict which water pumps are faulty?\n",
    "\n",
    "# Random Forests, Ordinal Encoding"
   ]
  },
  {
   "cell_type": "markdown",
   "metadata": {},
   "source": [
    "### Objectives\n",
    "- do feature engineering with dates\n",
    "- use scikit-learn for random forests\n",
    "- understand how tree ensembles reduce overfitting compared to a single decision tree with unlimited depth\n",
    "- do ordinal encoding with high-cardinality categoricals\n",
    "- understand how categorical encodings affect trees differently compared to linear models"
   ]
  },
  {
   "cell_type": "markdown",
   "metadata": {},
   "source": [
    "### Summary \n",
    "\n",
    "#### Try Tree Ensembles when you do machine learning with labeled, tabular data\n",
    "- \"Tree Ensembles\" means Random Forest or Gradient Boosting models. \n",
    "- [Tree Ensembles often have the best predictive accuracy](https://arxiv.org/abs/1708.05070) with labeled, tabular data.\n",
    "- Why? Because trees can fit non-linear, non-[monotonic](https://en.wikipedia.org/wiki/Monotonic_function) relationships, and [interactions](https://christophm.github.io/interpretable-ml-book/interaction.html) between features.\n",
    "- A single decision tree, grown to unlimited depth, will [overfit](http://www.r2d3.us/visual-intro-to-machine-learning-part-1/). We solve this problem by ensembling trees, with bagging (Random Forest) or boosting (Gradient Boosting).\n",
    "- Random Forest's advantage: may be less sensitive to hyperparameters. Gradient Boosting's advantage: may get better predictive accuracy.\n",
    "\n",
    "#### One-hot encoding isn’t the only way, and may not be the best way, of categorical encoding for tree ensembles.\n",
    "- For example, tree ensembles can work with arbitrary \"ordinal\" encoding! (Randomly assigning an integer to each category.) Compared to one-hot encoding, the dimensionality will be lower, and the predictive accuracy may be just as good or even better.\n"
   ]
  },
  {
   "cell_type": "markdown",
   "metadata": {},
   "source": [
    "### Libraries\n",
    "\n",
    "#### category_encoders\n",
    "- Local, Anaconda: `conda install -c conda-forge category_encoders`\n",
    "- Google Colab: `pip install category_encoders`\n",
    "\n",
    "#### graphviz\n",
    "- Local, Anaconda: `conda install python-graphviz`\n",
    "- Google Colab:  `!pip install graphviz` `!apt-get install graphviz`"
   ]
  },
  {
   "cell_type": "markdown",
   "metadata": {},
   "source": [
    "## Solution example\n",
    "- Do feature engineering with dates\n",
    "- Clean data with outliers\n",
    "- Impute missing values\n",
    "- Use scikit-learn for decision trees\n",
    "- Get and interpret feature importances of a tree-based model"
   ]
  },
  {
   "cell_type": "code",
   "execution_count": 1,
   "metadata": {},
   "outputs": [],
   "source": [
    "%matplotlib inline\n",
    "import category_encoders as ce\n",
    "import matplotlib.pyplot as plt\n",
    "import numpy as np\n",
    "import pandas as pd\n",
    "import seaborn as sns\n",
    "from sklearn.impute import SimpleImputer\n",
    "from sklearn.model_selection import train_test_split\n",
    "from sklearn.pipeline import make_pipeline\n",
    "from sklearn.preprocessing import RobustScaler\n",
    "from sklearn.tree import DecisionTreeClassifier\n",
    "\n",
    "LOCAL = '../data/tanzania/'\n",
    "WEB = 'https://raw.githubusercontent.com/LambdaSchool/DS-Unit-2-Tree-Ensembles/master/data/tanzania/'\n",
    "source = WEB\n",
    "\n",
    "# Merge train_features.csv & train_labels.csv\n",
    "train = pd.merge(pd.read_csv(source + 'train_features.csv'), \n",
    "                 pd.read_csv(source + 'train_labels.csv'))\n",
    "\n",
    "# Read test_features.csv & sample_submission.csv\n",
    "test = pd.read_csv(source + 'test_features.csv')\n",
    "sample_submission = pd.read_csv(source + 'sample_submission.csv')\n",
    "\n",
    "# Split train into train & val\n",
    "train, val = train_test_split(train, train_size=0.80, test_size=0.20, \n",
    "                              stratify=train['status_group'], random_state=42)\n",
    "\n",
    "\n",
    "def wrangle(X):\n",
    "    \"\"\"Wrangles train, validate, and test sets in the same way\"\"\"\n",
    "    X = X.copy()\n",
    "\n",
    "    # Convert date_recorded to datetime\n",
    "    X['date_recorded'] = pd.to_datetime(X['date_recorded'], infer_datetime_format=True)\n",
    "    \n",
    "    # Extract components from date_recorded, then drop the original column\n",
    "    X['year_recorded'] = X['date_recorded'].dt.year\n",
    "    X['month_recorded'] = X['date_recorded'].dt.month\n",
    "    X['day_recorded'] = X['date_recorded'].dt.day\n",
    "    X = X.drop(columns='date_recorded')\n",
    "    \n",
    "    # Engineer feature: how many years from construction_year to date_recorded\n",
    "    X['years'] = X['year_recorded'] - X['construction_year']    \n",
    "    \n",
    "    # Drop recorded_by (never varies) and id (always varies, random)\n",
    "    X = X.drop(columns=['recorded_by', 'id'])\n",
    "    \n",
    "    # Drop duplicate columns\n",
    "    duplicate_columns = ['quantity_group']\n",
    "    X = X.drop(columns=duplicate_columns)\n",
    "    \n",
    "    # About 3% of the time, latitude has small values near zero,\n",
    "    # outside Tanzania, so we'll treat these like null values\n",
    "    X['latitude'] = X['latitude'].replace(-2e-08, np.nan)\n",
    "    \n",
    "    # When columns have zeros and shouldn't, they are like null values\n",
    "    cols_with_zeros = ['construction_year', 'longitude', 'latitude', 'gps_height', 'population']\n",
    "    for col in cols_with_zeros:\n",
    "        X[col] = X[col].replace(0, np.nan)\n",
    "\n",
    "    return X\n",
    "\n",
    "\n",
    "train = wrangle(train)\n",
    "val = wrangle(val)\n",
    "test = wrangle(test)"
   ]
  },
  {
   "cell_type": "code",
   "execution_count": 2,
   "metadata": {},
   "outputs": [],
   "source": [
    "# The status_group column is the target\n",
    "target = 'status_group'\n",
    "\n",
    "# Get a dataframe with all train columns except the target\n",
    "train_features = train.drop(columns=[target])\n",
    "\n",
    "# Get a list of the numeric features\n",
    "numeric_features = train_features.select_dtypes(include='number').columns.tolist()\n",
    "\n",
    "# Get a series with the cardinality of the nonnumeric features\n",
    "cardinality = train_features.select_dtypes(exclude='number').nunique()\n",
    "\n",
    "# Get a list of all categorical features with cardinality <= 50\n",
    "categorical_features = cardinality[cardinality <= 50].index.tolist()\n",
    "\n",
    "# Combine the lists \n",
    "features = numeric_features + categorical_features"
   ]
  },
  {
   "cell_type": "code",
   "execution_count": 3,
   "metadata": {},
   "outputs": [
    {
     "name": "stdout",
     "output_type": "stream",
     "text": [
      "Validation Accuracy 0.7712121212121212\n"
     ]
    }
   ],
   "source": [
    "# Arrange data into X features matrix and y target vector \n",
    "X_train = train[features]\n",
    "y_train = train[target]\n",
    "X_val = val[features]\n",
    "y_val = val[target]\n",
    "X_test = test[features]\n",
    "\n",
    "# Make pipeline!\n",
    "pipeline = make_pipeline(\n",
    "    ce.OneHotEncoder(use_cat_names=True), \n",
    "    SimpleImputer(strategy='median'), \n",
    "    DecisionTreeClassifier(max_depth=20, random_state=42)\n",
    ")\n",
    "\n",
    "# Fit on train, score on val, predict on test\n",
    "pipeline.fit(X_train, y_train)\n",
    "print('Validation Accuracy', pipeline.score(X_val, y_val))\n",
    "y_pred = pipeline.predict(X_test)\n",
    "\n",
    "# Write submission csv file\n",
    "submission = sample_submission.copy()\n",
    "submission['status_group'] = y_pred\n",
    "submission.to_csv('submission-03.csv', index=False)"
   ]
  },
  {
   "cell_type": "code",
   "execution_count": 4,
   "metadata": {},
   "outputs": [
    {
     "data": {
      "image/png": "[encoded data removed]",
      "text/plain": [
       "<Figure size 720x720 with 1 Axes>"
      ]
     },
     "metadata": {
      "needs_background": "light"
     },
     "output_type": "display_data"
    }
   ],
   "source": [
    "# Get feature importances\n",
    "encoder = pipeline.named_steps['onehotencoder']\n",
    "tree = pipeline.named_steps['decisiontreeclassifier']\n",
    "feature_names = encoder.transform(X_val).columns\n",
    "importances = pd.Series(tree.feature_importances_, feature_names)\n",
    "\n",
    "# Plot feature importances\n",
    "n = 20\n",
    "plt.figure(figsize=(10,n/2))\n",
    "plt.title(f'Top {n} features')\n",
    "importances.sort_values()[-n:].plot.barh(color='grey');"
   ]
  },
  {
   "cell_type": "code",
   "execution_count": 5,
   "metadata": {},
   "outputs": [
    {
     "data": {
      "image/svg+xml": [
       "<?xml version=\"1.0\" encoding=\"UTF-8\" standalone=\"no\"?>\n",
       "<!DOCTYPE svg PUBLIC \"-//W3C//DTD SVG 1.1//EN\"\n",
       " \"http://www.w3.org/Graphics/SVG/1.1/DTD/svg11.dtd\">\n",
       "<!-- Generated by graphviz version 2.40.1 (20161225.0304)\n",
       " -->\n",
       "<!-- Title: Tree Pages: 1 -->\n",
       "<svg width=\"844pt\" height=\"422pt\"\n",
       " viewBox=\"0.00 0.00 844.00 422.00\" xmlns=\"http://www.w3.org/2000/svg\" xmlns:xlink=\"http://www.w3.org/1999/xlink\">\n",
       "<g id=\"graph0\" class=\"graph\" transform=\"scale(1 1) rotate(0) translate(4 418)\">\n",
       "<title>Tree</title>\n",
       "<polygon fill=\"#ffffff\" stroke=\"transparent\" points=\"-4,4 -4,-418 840,-418 840,4 -4,4\"/>\n",
       "<!-- 0 -->\n",
       "<g id=\"node1\" class=\"node\">\n",
       "<title>0</title>\n",
       "<path fill=\"#f8decc\" stroke=\"#000000\" d=\"M182,-247C182,-247 12,-247 12,-247 6,-247 0,-241 0,-235 0,-235 0,-191 0,-191 0,-185 6,-179 12,-179 12,-179 182,-179 182,-179 188,-179 194,-185 194,-191 194,-191 194,-235 194,-235 194,-241 188,-247 182,-247\"/>\n",
       "<text text-anchor=\"middle\" x=\"97\" y=\"-231.8\" font-family=\"Helvetica,sans-Serif\" font-size=\"14.00\" fill=\"#000000\">quantity_dry &lt;= 0.5</text>\n",
       "<text text-anchor=\"middle\" x=\"97\" y=\"-216.8\" font-family=\"Helvetica,sans-Serif\" font-size=\"14.00\" fill=\"#000000\">samples = 100.0%</text>\n",
       "<text text-anchor=\"middle\" x=\"97\" y=\"-201.8\" font-family=\"Helvetica,sans-Serif\" font-size=\"14.00\" fill=\"#000000\">value = [0.543, 0.073, 0.384]</text>\n",
       "<text text-anchor=\"middle\" x=\"97\" y=\"-186.8\" font-family=\"Helvetica,sans-Serif\" font-size=\"14.00\" fill=\"#000000\">class = functional</text>\n",
       "</g>\n",
       "<!-- 1 -->\n",
       "<g id=\"node2\" class=\"node\">\n",
       "<title>1</title>\n",
       "<path fill=\"#f4caac\" stroke=\"#000000\" d=\"M460,-287C460,-287 242,-287 242,-287 236,-287 230,-281 230,-275 230,-275 230,-231 230,-231 230,-225 236,-219 242,-219 242,-219 460,-219 460,-219 466,-219 472,-225 472,-231 472,-231 472,-275 472,-275 472,-281 466,-287 460,-287\"/>\n",
       "<text text-anchor=\"middle\" x=\"351\" y=\"-271.8\" font-family=\"Helvetica,sans-Serif\" font-size=\"14.00\" fill=\"#000000\">waterpoint_type_group_other &lt;= 0.5</text>\n",
       "<text text-anchor=\"middle\" x=\"351\" y=\"-256.8\" font-family=\"Helvetica,sans-Serif\" font-size=\"14.00\" fill=\"#000000\">samples = 89.6%</text>\n",
       "<text text-anchor=\"middle\" x=\"351\" y=\"-241.8\" font-family=\"Helvetica,sans-Serif\" font-size=\"14.00\" fill=\"#000000\">value = [0.603, 0.08, 0.317]</text>\n",
       "<text text-anchor=\"middle\" x=\"351\" y=\"-226.8\" font-family=\"Helvetica,sans-Serif\" font-size=\"14.00\" fill=\"#000000\">class = functional</text>\n",
       "</g>\n",
       "<!-- 0&#45;&gt;1 -->\n",
       "<g id=\"edge1\" class=\"edge\">\n",
       "<title>0&#45;&gt;1</title>\n",
       "<path fill=\"none\" stroke=\"#000000\" d=\"M194.1137,-228.2935C202.4685,-229.6092 211.0063,-230.9537 219.5709,-232.3025\"/>\n",
       "<polygon fill=\"#000000\" stroke=\"#000000\" points=\"219.2053,-235.788 229.6281,-233.8863 220.2943,-228.8732 219.2053,-235.788\"/>\n",
       "<text text-anchor=\"middle\" x=\"209.4157\" y=\"-244.8988\" font-family=\"Helvetica,sans-Serif\" font-size=\"14.00\" fill=\"#000000\">True</text>\n",
       "</g>\n",
       "<!-- 8928 -->\n",
       "<g id=\"node9\" class=\"node\">\n",
       "<title>8928</title>\n",
       "<path fill=\"#8540e6\" stroke=\"#000000\" d=\"M436,-198C436,-198 266,-198 266,-198 260,-198 254,-192 254,-186 254,-186 254,-142 254,-142 254,-136 260,-130 266,-130 266,-130 436,-130 436,-130 442,-130 448,-136 448,-142 448,-142 448,-186 448,-186 448,-192 442,-198 436,-198\"/>\n",
       "<text text-anchor=\"middle\" x=\"351\" y=\"-182.8\" font-family=\"Helvetica,sans-Serif\" font-size=\"14.00\" fill=\"#000000\">region_Mwanza &lt;= 0.5</text>\n",
       "<text text-anchor=\"middle\" x=\"351\" y=\"-167.8\" font-family=\"Helvetica,sans-Serif\" font-size=\"14.00\" fill=\"#000000\">samples = 10.4%</text>\n",
       "<text text-anchor=\"middle\" x=\"351\" y=\"-152.8\" font-family=\"Helvetica,sans-Serif\" font-size=\"14.00\" fill=\"#000000\">value = [0.026, 0.006, 0.968]</text>\n",
       "<text text-anchor=\"middle\" x=\"351\" y=\"-137.8\" font-family=\"Helvetica,sans-Serif\" font-size=\"14.00\" fill=\"#000000\">class = non functional</text>\n",
       "</g>\n",
       "<!-- 0&#45;&gt;8928 -->\n",
       "<g id=\"edge8\" class=\"edge\">\n",
       "<title>0&#45;&gt;8928</title>\n",
       "<path fill=\"none\" stroke=\"#000000\" d=\"M194.1137,-194.2655C210.3507,-191.1331 227.2786,-187.8675 243.752,-184.6896\"/>\n",
       "<polygon fill=\"#000000\" stroke=\"#000000\" points=\"244.7841,-188.0551 253.9401,-182.7242 243.4581,-181.1818 244.7841,-188.0551\"/>\n",
       "<text text-anchor=\"middle\" x=\"233.234\" y=\"-165.015\" font-family=\"Helvetica,sans-Serif\" font-size=\"14.00\" fill=\"#000000\">False</text>\n",
       "</g>\n",
       "<!-- 2 -->\n",
       "<g id=\"node3\" class=\"node\">\n",
       "<title>2</title>\n",
       "<path fill=\"#f1bd98\" stroke=\"#000000\" d=\"M712,-376C712,-376 542,-376 542,-376 536,-376 530,-370 530,-364 530,-364 530,-320 530,-320 530,-314 536,-308 542,-308 542,-308 712,-308 712,-308 718,-308 724,-314 724,-320 724,-320 724,-364 724,-364 724,-370 718,-376 712,-376\"/>\n",
       "<text text-anchor=\"middle\" x=\"627\" y=\"-360.8\" font-family=\"Helvetica,sans-Serif\" font-size=\"14.00\" fill=\"#000000\">amount_tsh &lt;= 1.5</text>\n",
       "<text text-anchor=\"middle\" x=\"627\" y=\"-345.8\" font-family=\"Helvetica,sans-Serif\" font-size=\"14.00\" fill=\"#000000\">samples = 81.1%</text>\n",
       "<text text-anchor=\"middle\" x=\"627\" y=\"-330.8\" font-family=\"Helvetica,sans-Serif\" font-size=\"14.00\" fill=\"#000000\">value = [0.649, 0.083, 0.268]</text>\n",
       "<text text-anchor=\"middle\" x=\"627\" y=\"-315.8\" font-family=\"Helvetica,sans-Serif\" font-size=\"14.00\" fill=\"#000000\">class = functional</text>\n",
       "</g>\n",
       "<!-- 1&#45;&gt;2 -->\n",
       "<g id=\"edge2\" class=\"edge\">\n",
       "<title>1&#45;&gt;2</title>\n",
       "<path fill=\"none\" stroke=\"#000000\" d=\"M456.5252,-287.028C477.3761,-293.7517 499.2757,-300.8136 520.1695,-307.551\"/>\n",
       "<polygon fill=\"#000000\" stroke=\"#000000\" points=\"519.0996,-310.8834 529.6912,-310.6214 521.248,-304.2213 519.0996,-310.8834\"/>\n",
       "</g>\n",
       "<!-- 7881 -->\n",
       "<g id=\"node6\" class=\"node\">\n",
       "<title>7881</title>\n",
       "<path fill=\"#a26dec\" stroke=\"#000000\" d=\"M734,-287C734,-287 520,-287 520,-287 514,-287 508,-281 508,-275 508,-275 508,-231 508,-231 508,-225 514,-219 520,-219 520,-219 734,-219 734,-219 740,-219 746,-225 746,-231 746,-231 746,-275 746,-275 746,-281 740,-287 734,-287\"/>\n",
       "<text text-anchor=\"middle\" x=\"627\" y=\"-271.8\" font-family=\"Helvetica,sans-Serif\" font-size=\"14.00\" fill=\"#000000\">extraction_type_group_other &lt;= 0.5</text>\n",
       "<text text-anchor=\"middle\" x=\"627\" y=\"-256.8\" font-family=\"Helvetica,sans-Serif\" font-size=\"14.00\" fill=\"#000000\">samples = 8.5%</text>\n",
       "<text text-anchor=\"middle\" x=\"627\" y=\"-241.8\" font-family=\"Helvetica,sans-Serif\" font-size=\"14.00\" fill=\"#000000\">value = [0.162, 0.057, 0.781]</text>\n",
       "<text text-anchor=\"middle\" x=\"627\" y=\"-226.8\" font-family=\"Helvetica,sans-Serif\" font-size=\"14.00\" fill=\"#000000\">class = non functional</text>\n",
       "</g>\n",
       "<!-- 1&#45;&gt;7881 -->\n",
       "<g id=\"edge5\" class=\"edge\">\n",
       "<title>1&#45;&gt;7881</title>\n",
       "<path fill=\"none\" stroke=\"#000000\" d=\"M472.0576,-253C480.5941,-253 489.2184,-253 497.7971,-253\"/>\n",
       "<polygon fill=\"#000000\" stroke=\"#000000\" points=\"497.839,-256.5001 507.839,-253 497.8389,-249.5001 497.839,-256.5001\"/>\n",
       "</g>\n",
       "<!-- 3 -->\n",
       "<g id=\"node4\" class=\"node\">\n",
       "<title>3</title>\n",
       "<path fill=\"#c0c0c0\" stroke=\"#000000\" d=\"M824,-414C824,-414 794,-414 794,-414 788,-414 782,-408 782,-402 782,-402 782,-390 782,-390 782,-384 788,-378 794,-378 794,-378 824,-378 824,-378 830,-378 836,-384 836,-390 836,-390 836,-402 836,-402 836,-408 830,-414 824,-414\"/>\n",
       "<text text-anchor=\"middle\" x=\"809\" y=\"-392.3\" font-family=\"Helvetica,sans-Serif\" font-size=\"14.00\" fill=\"#000000\">(...)</text>\n",
       "</g>\n",
       "<!-- 2&#45;&gt;3 -->\n",
       "<g id=\"edge3\" class=\"edge\">\n",
       "<title>2&#45;&gt;3</title>\n",
       "<path fill=\"none\" stroke=\"#000000\" d=\"M724.1277,-370.8181C741.1677,-375.8739 757.9199,-380.8444 771.9798,-385.016\"/>\n",
       "<polygon fill=\"#000000\" stroke=\"#000000\" points=\"771.1249,-388.4131 781.7074,-387.9022 773.1161,-381.7022 771.1249,-388.4131\"/>\n",
       "</g>\n",
       "<!-- 4652 -->\n",
       "<g id=\"node5\" class=\"node\">\n",
       "<title>4652</title>\n",
       "<path fill=\"#c0c0c0\" stroke=\"#000000\" d=\"M824,-360C824,-360 794,-360 794,-360 788,-360 782,-354 782,-348 782,-348 782,-336 782,-336 782,-330 788,-324 794,-324 794,-324 824,-324 824,-324 830,-324 836,-330 836,-336 836,-336 836,-348 836,-348 836,-354 830,-360 824,-360\"/>\n",
       "<text text-anchor=\"middle\" x=\"809\" y=\"-338.3\" font-family=\"Helvetica,sans-Serif\" font-size=\"14.00\" fill=\"#000000\">(...)</text>\n",
       "</g>\n",
       "<!-- 2&#45;&gt;4652 -->\n",
       "<g id=\"edge4\" class=\"edge\">\n",
       "<title>2&#45;&gt;4652</title>\n",
       "<path fill=\"none\" stroke=\"#000000\" d=\"M724.1277,-342C741.0023,-342 757.5946,-342 771.5696,-342\"/>\n",
       "<polygon fill=\"#000000\" stroke=\"#000000\" points=\"771.7074,-345.5001 781.7074,-342 771.7074,-338.5001 771.7074,-345.5001\"/>\n",
       "</g>\n",
       "<!-- 7882 -->\n",
       "<g id=\"node7\" class=\"node\">\n",
       "<title>7882</title>\n",
       "<path fill=\"#c0c0c0\" stroke=\"#000000\" d=\"M824,-306C824,-306 794,-306 794,-306 788,-306 782,-300 782,-294 782,-294 782,-282 782,-282 782,-276 788,-270 794,-270 794,-270 824,-270 824,-270 830,-270 836,-276 836,-282 836,-282 836,-294 836,-294 836,-300 830,-306 824,-306\"/>\n",
       "<text text-anchor=\"middle\" x=\"809\" y=\"-284.3\" font-family=\"Helvetica,sans-Serif\" font-size=\"14.00\" fill=\"#000000\">(...)</text>\n",
       "</g>\n",
       "<!-- 7881&#45;&gt;7882 -->\n",
       "<g id=\"edge6\" class=\"edge\">\n",
       "<title>7881&#45;&gt;7882</title>\n",
       "<path fill=\"none\" stroke=\"#000000\" d=\"M746.1111,-275.906C755.2726,-277.6678 764.0126,-279.3486 771.9064,-280.8666\"/>\n",
       "<polygon fill=\"#000000\" stroke=\"#000000\" points=\"771.2794,-284.3101 781.7604,-282.7616 772.6014,-277.436 771.2794,-284.3101\"/>\n",
       "</g>\n",
       "<!-- 8325 -->\n",
       "<g id=\"node8\" class=\"node\">\n",
       "<title>8325</title>\n",
       "<path fill=\"#c0c0c0\" stroke=\"#000000\" d=\"M824,-252C824,-252 794,-252 794,-252 788,-252 782,-246 782,-240 782,-240 782,-228 782,-228 782,-222 788,-216 794,-216 794,-216 824,-216 824,-216 830,-216 836,-222 836,-228 836,-228 836,-240 836,-240 836,-246 830,-252 824,-252\"/>\n",
       "<text text-anchor=\"middle\" x=\"809\" y=\"-230.3\" font-family=\"Helvetica,sans-Serif\" font-size=\"14.00\" fill=\"#000000\">(...)</text>\n",
       "</g>\n",
       "<!-- 7881&#45;&gt;8325 -->\n",
       "<g id=\"edge7\" class=\"edge\">\n",
       "<title>7881&#45;&gt;8325</title>\n",
       "<path fill=\"none\" stroke=\"#000000\" d=\"M746.1111,-240.5653C755.1697,-239.6196 763.8162,-238.717 771.64,-237.9002\"/>\n",
       "<polygon fill=\"#000000\" stroke=\"#000000\" points=\"772.1779,-241.3632 781.7604,-236.8437 771.4511,-234.401 772.1779,-241.3632\"/>\n",
       "</g>\n",
       "<!-- 8929 -->\n",
       "<g id=\"node10\" class=\"node\">\n",
       "<title>8929</title>\n",
       "<path fill=\"#843ee6\" stroke=\"#000000\" d=\"M712,-198C712,-198 542,-198 542,-198 536,-198 530,-192 530,-186 530,-186 530,-142 530,-142 530,-136 536,-130 542,-130 542,-130 712,-130 712,-130 718,-130 724,-136 724,-142 724,-142 724,-186 724,-186 724,-192 718,-198 712,-198\"/>\n",
       "<text text-anchor=\"middle\" x=\"627\" y=\"-182.8\" font-family=\"Helvetica,sans-Serif\" font-size=\"14.00\" fill=\"#000000\">construction_year &lt;= 2011.5</text>\n",
       "<text text-anchor=\"middle\" x=\"627\" y=\"-167.8\" font-family=\"Helvetica,sans-Serif\" font-size=\"14.00\" fill=\"#000000\">samples = 9.7%</text>\n",
       "<text text-anchor=\"middle\" x=\"627\" y=\"-152.8\" font-family=\"Helvetica,sans-Serif\" font-size=\"14.00\" fill=\"#000000\">value = [0.019, 0.006, 0.974]</text>\n",
       "<text text-anchor=\"middle\" x=\"627\" y=\"-137.8\" font-family=\"Helvetica,sans-Serif\" font-size=\"14.00\" fill=\"#000000\">class = non functional</text>\n",
       "</g>\n",
       "<!-- 8928&#45;&gt;8929 -->\n",
       "<g id=\"edge9\" class=\"edge\">\n",
       "<title>8928&#45;&gt;8929</title>\n",
       "<path fill=\"none\" stroke=\"#000000\" d=\"M448.3073,-164C471.2901,-164 495.9267,-164 519.3377,-164\"/>\n",
       "<polygon fill=\"#000000\" stroke=\"#000000\" points=\"519.6412,-167.5001 529.6412,-164 519.6411,-160.5001 519.6412,-167.5001\"/>\n",
       "</g>\n",
       "<!-- 9226 -->\n",
       "<g id=\"node13\" class=\"node\">\n",
       "<title>9226</title>\n",
       "<path fill=\"#9558e9\" stroke=\"#000000\" d=\"M712,-106C712,-106 542,-106 542,-106 536,-106 530,-100 530,-94 530,-94 530,-50 530,-50 530,-44 536,-38 542,-38 542,-38 712,-38 712,-38 718,-38 724,-44 724,-50 724,-50 724,-94 724,-94 724,-100 718,-106 712,-106\"/>\n",
       "<text text-anchor=\"middle\" x=\"627\" y=\"-90.8\" font-family=\"Helvetica,sans-Serif\" font-size=\"14.00\" fill=\"#000000\">longitude &lt;= 32.736</text>\n",
       "<text text-anchor=\"middle\" x=\"627\" y=\"-75.8\" font-family=\"Helvetica,sans-Serif\" font-size=\"14.00\" fill=\"#000000\">samples = 0.6%</text>\n",
       "<text text-anchor=\"middle\" x=\"627\" y=\"-60.8\" font-family=\"Helvetica,sans-Serif\" font-size=\"14.00\" fill=\"#000000\">value = [0.132, 0.003, 0.864]</text>\n",
       "<text text-anchor=\"middle\" x=\"627\" y=\"-45.8\" font-family=\"Helvetica,sans-Serif\" font-size=\"14.00\" fill=\"#000000\">class = non functional</text>\n",
       "</g>\n",
       "<!-- 8928&#45;&gt;9226 -->\n",
       "<g id=\"edge12\" class=\"edge\">\n",
       "<title>8928&#45;&gt;9226</title>\n",
       "<path fill=\"none\" stroke=\"#000000\" d=\"M448.3073,-131.5642C471.4962,-123.8346 496.3687,-115.5438 519.9673,-107.6776\"/>\n",
       "<polygon fill=\"#000000\" stroke=\"#000000\" points=\"521.2611,-110.9357 529.6412,-104.4529 519.0475,-104.2949 521.2611,-110.9357\"/>\n",
       "</g>\n",
       "<!-- 8930 -->\n",
       "<g id=\"node11\" class=\"node\">\n",
       "<title>8930</title>\n",
       "<path fill=\"#c0c0c0\" stroke=\"#000000\" d=\"M824,-198C824,-198 794,-198 794,-198 788,-198 782,-192 782,-186 782,-186 782,-174 782,-174 782,-168 788,-162 794,-162 794,-162 824,-162 824,-162 830,-162 836,-168 836,-174 836,-174 836,-186 836,-186 836,-192 830,-198 824,-198\"/>\n",
       "<text text-anchor=\"middle\" x=\"809\" y=\"-176.3\" font-family=\"Helvetica,sans-Serif\" font-size=\"14.00\" fill=\"#000000\">(...)</text>\n",
       "</g>\n",
       "<!-- 8929&#45;&gt;8930 -->\n",
       "<g id=\"edge10\" class=\"edge\">\n",
       "<title>8929&#45;&gt;8930</title>\n",
       "<path fill=\"none\" stroke=\"#000000\" d=\"M724.1277,-172.5387C741.0023,-174.0222 757.5946,-175.4808 771.5696,-176.7094\"/>\n",
       "<polygon fill=\"#000000\" stroke=\"#000000\" points=\"771.4393,-180.2114 781.7074,-177.6006 772.0524,-173.2383 771.4393,-180.2114\"/>\n",
       "</g>\n",
       "<!-- 9215 -->\n",
       "<g id=\"node12\" class=\"node\">\n",
       "<title>9215</title>\n",
       "<path fill=\"#c0c0c0\" stroke=\"#000000\" d=\"M824,-144C824,-144 794,-144 794,-144 788,-144 782,-138 782,-132 782,-132 782,-120 782,-120 782,-114 788,-108 794,-108 794,-108 824,-108 824,-108 830,-108 836,-114 836,-120 836,-120 836,-132 836,-132 836,-138 830,-144 824,-144\"/>\n",
       "<text text-anchor=\"middle\" x=\"809\" y=\"-122.3\" font-family=\"Helvetica,sans-Serif\" font-size=\"14.00\" fill=\"#000000\">(...)</text>\n",
       "</g>\n",
       "<!-- 8929&#45;&gt;9215 -->\n",
       "<g id=\"edge11\" class=\"edge\">\n",
       "<title>8929&#45;&gt;9215</title>\n",
       "<path fill=\"none\" stroke=\"#000000\" d=\"M724.1277,-143.7206C741.0023,-140.1973 757.5946,-136.733 771.5696,-133.8151\"/>\n",
       "<polygon fill=\"#000000\" stroke=\"#000000\" points=\"772.6339,-137.1685 781.7074,-131.6985 771.2031,-130.3163 772.6339,-137.1685\"/>\n",
       "</g>\n",
       "<!-- 9227 -->\n",
       "<g id=\"node14\" class=\"node\">\n",
       "<title>9227</title>\n",
       "<path fill=\"#c0c0c0\" stroke=\"#000000\" d=\"M824,-90C824,-90 794,-90 794,-90 788,-90 782,-84 782,-78 782,-78 782,-66 782,-66 782,-60 788,-54 794,-54 794,-54 824,-54 824,-54 830,-54 836,-60 836,-66 836,-66 836,-78 836,-78 836,-84 830,-90 824,-90\"/>\n",
       "<text text-anchor=\"middle\" x=\"809\" y=\"-68.3\" font-family=\"Helvetica,sans-Serif\" font-size=\"14.00\" fill=\"#000000\">(...)</text>\n",
       "</g>\n",
       "<!-- 9226&#45;&gt;9227 -->\n",
       "<g id=\"edge13\" class=\"edge\">\n",
       "<title>9226&#45;&gt;9227</title>\n",
       "<path fill=\"none\" stroke=\"#000000\" d=\"M724.1277,-72C741.0023,-72 757.5946,-72 771.5696,-72\"/>\n",
       "<polygon fill=\"#000000\" stroke=\"#000000\" points=\"771.7074,-75.5001 781.7074,-72 771.7074,-68.5001 771.7074,-75.5001\"/>\n",
       "</g>\n",
       "<!-- 9268 -->\n",
       "<g id=\"node15\" class=\"node\">\n",
       "<title>9268</title>\n",
       "<path fill=\"#c0c0c0\" stroke=\"#000000\" d=\"M824,-36C824,-36 794,-36 794,-36 788,-36 782,-30 782,-24 782,-24 782,-12 782,-12 782,-6 788,0 794,0 794,0 824,0 824,0 830,0 836,-6 836,-12 836,-12 836,-24 836,-24 836,-30 830,-36 824,-36\"/>\n",
       "<text text-anchor=\"middle\" x=\"809\" y=\"-14.3\" font-family=\"Helvetica,sans-Serif\" font-size=\"14.00\" fill=\"#000000\">(...)</text>\n",
       "</g>\n",
       "<!-- 9226&#45;&gt;9268 -->\n",
       "<g id=\"edge14\" class=\"edge\">\n",
       "<title>9226&#45;&gt;9268</title>\n",
       "<path fill=\"none\" stroke=\"#000000\" d=\"M724.1277,-43.1819C741.1677,-38.1261 757.9199,-33.1556 771.9798,-28.984\"/>\n",
       "<polygon fill=\"#000000\" stroke=\"#000000\" points=\"773.1161,-32.2978 781.7074,-26.0978 771.1249,-25.5869 773.1161,-32.2978\"/>\n",
       "</g>\n",
       "</g>\n",
       "</svg>\n"
      ],
      "text/plain": [
       "<graphviz.files.Source at 0x104780278>"
      ]
     },
     "execution_count": 5,
     "metadata": {},
     "output_type": "execute_result"
    }
   ],
   "source": [
    "import graphviz\n",
    "from sklearn.tree import export_graphviz\n",
    "\n",
    "dot_data = export_graphviz(tree, \n",
    "                           out_file=None, \n",
    "                           max_depth=2, \n",
    "                           feature_names=feature_names, \n",
    "                           class_names=tree.classes_, \n",
    "                           impurity=False, \n",
    "                           filled=True, \n",
    "                           proportion=True, \n",
    "                           rotate=True, \n",
    "                           rounded=True)\n",
    "\n",
    "graphviz.Source(dot_data)"
   ]
  },
  {
   "cell_type": "markdown",
   "metadata": {},
   "source": [
    "## Use scikit-learn for random forests\n",
    "\n",
    "[Scikit-Learn User Guide: Random Forests](https://scikit-learn.org/stable/modules/ensemble.html#random-forests) "
   ]
  },
  {
   "cell_type": "code",
   "execution_count": 6,
   "metadata": {},
   "outputs": [],
   "source": [
    "# TODO"
   ]
  },
  {
   "cell_type": "markdown",
   "metadata": {},
   "source": [
    "## Do ordinal encoding with high-cardinality categoricals\n",
    "\n",
    "http://contrib.scikit-learn.org/categorical-encoding/ordinal.html"
   ]
  },
  {
   "cell_type": "code",
   "execution_count": 7,
   "metadata": {},
   "outputs": [],
   "source": [
    "# TODO"
   ]
  },
  {
   "cell_type": "markdown",
   "metadata": {},
   "source": [
    "## Understand how tree ensembles reduce overfitting compared to a single decision tree with unlimited depth"
   ]
  },
  {
   "cell_type": "markdown",
   "metadata": {},
   "source": [
    "### Interlude: [predicting golf putts](https://statmodeling.stat.columbia.edu/2008/12/04/the_golf_puttin/)\n",
    "(1 feature, non-linear, regression)"
   ]
  },
  {
   "cell_type": "code",
   "execution_count": 8,
   "metadata": {},
   "outputs": [],
   "source": [
    "putts = pd.DataFrame(\n",
    "    columns=['distance', 'tries', 'successes'], \n",
    "    data = [[2, 1443, 1346],\n",
    "            [3, 694, 577],\n",
    "            [4, 455, 337],\n",
    "            [5, 353, 208],\n",
    "            [6, 272, 149],\n",
    "            [7, 256, 136],\n",
    "            [8, 240, 111],\n",
    "            [9, 217, 69],\n",
    "            [10, 200, 67],\n",
    "            [11, 237, 75],\n",
    "            [12, 202, 52],\n",
    "            [13, 192, 46],\n",
    "            [14, 174, 54],\n",
    "            [15, 167, 28],\n",
    "            [16, 201, 27],\n",
    "            [17, 195, 31],\n",
    "            [18, 191, 33],\n",
    "            [19, 147, 20],\n",
    "            [20, 152, 24]]\n",
    ")\n",
    "\n",
    "putts['rate of success'] = putts['successes'] / putts['tries']\n",
    "putts_X = putts[['distance']]\n",
    "putts_y = putts['rate of success']"
   ]
  },
  {
   "cell_type": "code",
   "execution_count": 9,
   "metadata": {},
   "outputs": [
    {
     "data": {
      "application/vnd.jupyter.widget-view+json": {
       "model_id": "950124473917424085b74b75d979cb67",
       "version_major": 2,
       "version_minor": 0
      },
      "text/plain": [
       "interactive(children=(IntSlider(value=1, description='max_depth', max=6, min=1), IntSlider(value=10, descripti…"
      ]
     },
     "metadata": {},
     "output_type": "display_data"
    }
   ],
   "source": [
    "from ipywidgets import interact\n",
    "from sklearn.ensemble import RandomForestRegressor\n",
    "from sklearn.tree import DecisionTreeRegressor\n",
    "\n",
    "def putt_trees(max_depth=1, n_estimators=1):\n",
    "    models = [DecisionTreeRegressor(max_depth=max_depth), \n",
    "              RandomForestRegressor(max_depth=max_depth, n_estimators=n_estimators)]\n",
    "    \n",
    "    for model in models:\n",
    "        name = model.__class__.__name__\n",
    "        model.fit(putts_X, putts_y)\n",
    "        ax = putts.plot('distance', 'rate of success', kind='scatter', title=name)\n",
    "        ax.step(putts_X, model.predict(putts_X), where='mid')\n",
    "        plt.show()\n",
    "        \n",
    "interact(putt_trees, max_depth=(1,6,1), n_estimators=(10,40,10));"
   ]
  },
  {
   "cell_type": "markdown",
   "metadata": {},
   "source": [
    "### What's \"random\" about random forests?\n",
    "1. Each tree trains on a random bootstrap sample of the data. (In scikit-learn, for `RandomForestRegressor` and `RandomForestClassifier`, the `bootstrap` parameter's default is `True`.) This type of ensembling is called Bagging.\n",
    "2. Each split considers a random subset of the features. (In scikit-learn, when the `max_features` parameter is not `None`.) \n",
    "\n",
    "For extra randomness, you can try [\"extremely randomized trees\"](https://scikit-learn.org/stable/modules/ensemble.html#extremely-randomized-trees)!\n",
    "\n",
    ">In extremely randomized trees (see [ExtraTreesClassifier](https://scikit-learn.org/stable/modules/generated/sklearn.ensemble.ExtraTreesClassifier.html) and [ExtraTreesRegressor](https://scikit-learn.org/stable/modules/generated/sklearn.ensemble.ExtraTreesRegressor.html) classes), randomness goes one step further in the way splits are computed. As in random forests, a random subset of candidate features is used, but instead of looking for the most discriminative thresholds, thresholds are drawn at random for each candidate feature and the best of these randomly-generated thresholds is picked as the splitting rule. This usually allows to reduce the variance of the model a bit more, at the expense of a slightly greater increase in bias"
   ]
  },
  {
   "cell_type": "markdown",
   "metadata": {},
   "source": [
    "### Bagging demo, with golf putts data\n",
    "https://pandas.pydata.org/pandas-docs/stable/reference/api/pandas.DataFrame.sample.html"
   ]
  },
  {
   "cell_type": "code",
   "execution_count": 10,
   "metadata": {
    "scrolled": false
   },
   "outputs": [
    {
     "data": {
      "application/vnd.jupyter.widget-view+json": {
       "model_id": "39761a6810b0441e854c53dcb8ed1028",
       "version_major": 2,
       "version_minor": 0
      },
      "text/plain": [
       "interactive(children=(IntSlider(value=1, description='max_depth', max=6, min=1), IntSlider(value=2, descriptio…"
      ]
     },
     "metadata": {},
     "output_type": "display_data"
    }
   ],
   "source": [
    "# Do-it-yourself Bagging Ensemble of Decision Trees (like a Random Forest)\n",
    "def diy_bagging(max_depth=1, n_estimators=1):\n",
    "    y_preds = []\n",
    "    for i in range(n_estimators):\n",
    "        title = f'Tree {i+1}'\n",
    "        bootstrap_sample = putts.sample(n=len(putts), replace=True).sort_values(by='distance')\n",
    "        bootstrap_X = bootstrap_sample[['distance']]\n",
    "        bootstrap_y = bootstrap_sample['rate of success']\n",
    "        tree = DecisionTreeRegressor(max_depth=max_depth)\n",
    "        tree.fit(bootstrap_X, bootstrap_y)\n",
    "        y_pred = tree.predict(bootstrap_X)\n",
    "        y_preds.append(y_pred)\n",
    "        ax = bootstrap_sample.plot('distance', 'rate of success', kind='scatter', title=title)\n",
    "        ax.step(bootstrap_X, y_pred, where='mid')\n",
    "        plt.show()\n",
    "        \n",
    "    ensembled = np.vstack(y_preds).mean(axis=0)\n",
    "    title = f'Ensemble of {n_estimators} trees, with max_depth={max_depth}'\n",
    "    ax = putts.plot('distance', 'rate of success', kind='scatter', title=title)\n",
    "    ax.step(putts_X, ensembled, where='mid')\n",
    "    plt.show()\n",
    "    \n",
    "interact(diy_bagging, max_depth=(1,6,1), n_estimators=(2,5,1));"
   ]
  },
  {
   "cell_type": "markdown",
   "metadata": {},
   "source": [
    "### Go back to Tanzania Waterpumps ...\n",
    "\n",
    "#### viz2D helper function"
   ]
  },
  {
   "cell_type": "code",
   "execution_count": 11,
   "metadata": {},
   "outputs": [],
   "source": [
    "def viz2D(fitted_model, X, feature1, feature2, num=100, title=''):\n",
    "    \"\"\"\n",
    "    Visualize model predictions as a 2D heatmap\n",
    "    For regression or binary classification models, fitted on 2 features\n",
    "    \n",
    "    Parameters\n",
    "    ----------\n",
    "    fitted_model : scikit-learn model, already fitted\n",
    "    X : pandas dataframe, which was used to fit model\n",
    "    feature1 : string, name of feature 1\n",
    "    feature2 : string, name of feature 2\n",
    "    target : string, name of target\n",
    "    num : int, number of grid points for each feature\n",
    "    \n",
    "    Returns\n",
    "    -------\n",
    "    predictions: numpy array, predictions/predicted probabilities at each grid point\n",
    "    \n",
    "    References\n",
    "    ----------\n",
    "    https://scikit-learn.org/stable/auto_examples/classification/plot_classification_probability.html\n",
    "    https://jakevdp.github.io/PythonDataScienceHandbook/04.04-density-and-contour-plots.html\n",
    "    \"\"\"\n",
    "    x1 = np.linspace(X[feature1].min(), X[feature1].max(), num)\n",
    "    x2 = np.linspace(X[feature2].min(), X[feature2].max(), num)\n",
    "    X1, X2 = np.meshgrid(x1, x2)\n",
    "    X = np.c_[X1.flatten(), X2.flatten()]\n",
    "    if hasattr(fitted_model, 'predict_proba'):\n",
    "        predicted = fitted_model.predict_proba(X)[:,0]\n",
    "    else:\n",
    "        predicted = fitted_model.predict(X)\n",
    "    \n",
    "    plt.imshow(predicted.reshape(num, num), cmap='viridis')\n",
    "    plt.title(title)\n",
    "    plt.xlabel(feature1)\n",
    "    plt.ylabel(feature2)\n",
    "    plt.xticks([])\n",
    "    plt.yticks([])\n",
    "    plt.colorbar()\n",
    "    plt.show()\n",
    "    return predicted"
   ]
  },
  {
   "cell_type": "markdown",
   "metadata": {},
   "source": [
    "### Compare Decision Tree, Random Forest, Logistic Regression"
   ]
  },
  {
   "cell_type": "code",
   "execution_count": 12,
   "metadata": {},
   "outputs": [
    {
     "data": {
      "application/vnd.jupyter.widget-view+json": {
       "model_id": "01c7a904dcc74cfd93b84b735f237b82",
       "version_major": 2,
       "version_minor": 0
      },
      "text/plain": [
       "interactive(children=(IntSlider(value=1, description='max_depth', max=6, min=1), IntSlider(value=10, descripti…"
      ]
     },
     "metadata": {},
     "output_type": "display_data"
    }
   ],
   "source": [
    "# Instructions\n",
    "# 1. Choose two features\n",
    "# 2. Run this code cell\n",
    "# 3. Interact with the widget sliders\n",
    "feature1 = 'longitude'\n",
    "feature2 = 'latitude'\n",
    "\n",
    "from sklearn.linear_model import LogisticRegression\n",
    "\n",
    "def get_X_y(df, feature1, feature2, target):\n",
    "    features = [feature1, feature2]\n",
    "    X = df[features]\n",
    "    y = df[target]\n",
    "    X = X.fillna(X.median())\n",
    "    X = ce.OrdinalEncoder().fit_transform(X)\n",
    "    return X, y\n",
    "\n",
    "def compare_models(max_depth=1, n_estimators=1):\n",
    "    models = [DecisionTreeClassifier(max_depth=max_depth), \n",
    "              RandomForestClassifier(max_depth=max_depth, n_estimators=n_estimators), \n",
    "              LogisticRegression(solver='lbfgs', multi_class='auto')]\n",
    "    \n",
    "    for model in models:\n",
    "        name = model.__class__.__name__\n",
    "        model.fit(X, y)\n",
    "        viz2D(model, X, feature1, feature2, title=name)\n",
    "\n",
    "X, y = get_X_y(train, feature1, feature2, target='status_group')\n",
    "interact(compare_models, max_depth=(1,6,1), n_estimators=(10,40,10));"
   ]
  },
  {
   "cell_type": "markdown",
   "metadata": {},
   "source": [
    "### Bagging"
   ]
  },
  {
   "cell_type": "code",
   "execution_count": 13,
   "metadata": {},
   "outputs": [
    {
     "data": {
      "application/vnd.jupyter.widget-view+json": {
       "model_id": "ba3b796cbdc446e9b583a612599c9056",
       "version_major": 2,
       "version_minor": 0
      },
      "text/plain": [
       "interactive(children=(IntSlider(value=1, description='max_depth', max=6, min=1), IntSlider(value=2, descriptio…"
      ]
     },
     "metadata": {},
     "output_type": "display_data"
    }
   ],
   "source": [
    "# Do-it-yourself Bagging Ensemble of Decision Trees (like a Random Forest)\n",
    "\n",
    "# Instructions\n",
    "# 1. Choose two features\n",
    "# 2. Run this code cell\n",
    "# 3. Interact with the widget sliders\n",
    "\n",
    "feature1 = 'longitude'\n",
    "feature2 = 'latitude'\n",
    "\n",
    "def waterpumps_bagging(max_depth=1, n_estimators=1):\n",
    "    predicteds = []\n",
    "    for i in range(n_estimators):\n",
    "        title = f'Tree {i+1}'\n",
    "        bootstrap_sample = train.sample(n=len(train), replace=True)\n",
    "        X, y = get_X_y(bootstrap_sample, feature1, feature2, target='status_group')\n",
    "        tree = DecisionTreeClassifier(max_depth=max_depth)\n",
    "        tree.fit(X, y)\n",
    "        predicted = viz2D(tree, X, feature1, feature2, title=title)\n",
    "        predicteds.append(predicted)\n",
    "    \n",
    "    ensembled = np.vstack(predicteds).mean(axis=0)\n",
    "    title = f'Ensemble of {n_estimators} trees, with max_depth={max_depth}'\n",
    "    plt.imshow(ensembled.reshape(100, 100), cmap='viridis')\n",
    "    plt.title(title)\n",
    "    plt.xlabel(feature1)\n",
    "    plt.ylabel(feature2)\n",
    "    plt.xticks([])\n",
    "    plt.yticks([])\n",
    "    plt.colorbar()\n",
    "    plt.show()\n",
    "        \n",
    "interact(waterpumps_bagging, max_depth=(1,6,1), n_estimators=(2,5,1));"
   ]
  },
  {
   "cell_type": "markdown",
   "metadata": {},
   "source": [
    "## Understand how categorical encodings affect trees differently compared to linear models"
   ]
  },
  {
   "cell_type": "markdown",
   "metadata": {},
   "source": [
    "### Categorical exploration, 1 feature at a time\n",
    "\n",
    "Change `feature`, then re-run these cells!"
   ]
  },
  {
   "cell_type": "code",
   "execution_count": 14,
   "metadata": {},
   "outputs": [],
   "source": [
    "feature = 'quantity'"
   ]
  },
  {
   "cell_type": "code",
   "execution_count": 15,
   "metadata": {},
   "outputs": [
    {
     "data": {
      "text/plain": [
       "enough          26567\n",
       "insufficient    12153\n",
       "dry              4921\n",
       "seasonal         3244\n",
       "unknown           635\n",
       "Name: quantity, dtype: int64"
      ]
     },
     "execution_count": 15,
     "metadata": {},
     "output_type": "execute_result"
    }
   ],
   "source": [
    "X_train[feature].value_counts()"
   ]
  },
  {
   "cell_type": "code",
   "execution_count": 16,
   "metadata": {},
   "outputs": [
    {
     "data": {
      "image/png": "[encoded data removed]",
      "text/plain": [
       "<Figure size 432x288 with 1 Axes>"
      ]
     },
     "metadata": {
      "needs_background": "light"
     },
     "output_type": "display_data"
    }
   ],
   "source": [
    "sns.barplot(x=train[feature], \n",
    "            y=train['status_group']=='functional');"
   ]
  },
  {
   "cell_type": "code",
   "execution_count": 17,
   "metadata": {},
   "outputs": [
    {
     "data": {
      "text/plain": [
       "43360    insufficient\n",
       "7263           enough\n",
       "2486     insufficient\n",
       "313            enough\n",
       "52726          enough\n",
       "Name: quantity, dtype: object"
      ]
     },
     "execution_count": 17,
     "metadata": {},
     "output_type": "execute_result"
    }
   ],
   "source": [
    "X_train[feature].head()"
   ]
  },
  {
   "cell_type": "markdown",
   "metadata": {},
   "source": [
    "### [One Hot Encoding](http://contrib.scikit-learn.org/categorical-encoding/onehot.html)\n",
    "\n",
    "> Onehot (or dummy) coding for categorical features, produces one feature per category, each binary.\n",
    "\n",
    "Warning: May run slow, or run out of memory, with high cardinality categoricals!"
   ]
  },
  {
   "cell_type": "code",
   "execution_count": 18,
   "metadata": {},
   "outputs": [
    {
     "name": "stdout",
     "output_type": "stream",
     "text": [
      "5 columns\n"
     ]
    },
    {
     "data": {
      "text/html": [
       "<div>\n",
       "<style scoped>\n",
       "    .dataframe tbody tr th:only-of-type {\n",
       "        vertical-align: middle;\n",
       "    }\n",
       "\n",
       "    .dataframe tbody tr th {\n",
       "        vertical-align: top;\n",
       "    }\n",
       "\n",
       "    .dataframe thead th {\n",
       "        text-align: right;\n",
       "    }\n",
       "</style>\n",
       "<table border=\"1\" class=\"dataframe\">\n",
       "  <thead>\n",
       "    <tr style=\"text-align: right;\">\n",
       "      <th></th>\n",
       "      <th>quantity_insufficient</th>\n",
       "      <th>quantity_enough</th>\n",
       "      <th>quantity_dry</th>\n",
       "      <th>quantity_seasonal</th>\n",
       "      <th>quantity_unknown</th>\n",
       "    </tr>\n",
       "  </thead>\n",
       "  <tbody>\n",
       "    <tr>\n",
       "      <th>43360</th>\n",
       "      <td>1</td>\n",
       "      <td>0</td>\n",
       "      <td>0</td>\n",
       "      <td>0</td>\n",
       "      <td>0</td>\n",
       "    </tr>\n",
       "    <tr>\n",
       "      <th>7263</th>\n",
       "      <td>0</td>\n",
       "      <td>1</td>\n",
       "      <td>0</td>\n",
       "      <td>0</td>\n",
       "      <td>0</td>\n",
       "    </tr>\n",
       "    <tr>\n",
       "      <th>2486</th>\n",
       "      <td>1</td>\n",
       "      <td>0</td>\n",
       "      <td>0</td>\n",
       "      <td>0</td>\n",
       "      <td>0</td>\n",
       "    </tr>\n",
       "    <tr>\n",
       "      <th>313</th>\n",
       "      <td>0</td>\n",
       "      <td>1</td>\n",
       "      <td>0</td>\n",
       "      <td>0</td>\n",
       "      <td>0</td>\n",
       "    </tr>\n",
       "    <tr>\n",
       "      <th>52726</th>\n",
       "      <td>0</td>\n",
       "      <td>1</td>\n",
       "      <td>0</td>\n",
       "      <td>0</td>\n",
       "      <td>0</td>\n",
       "    </tr>\n",
       "  </tbody>\n",
       "</table>\n",
       "</div>"
      ],
      "text/plain": [
       "       quantity_insufficient  quantity_enough  quantity_dry  \\\n",
       "43360                      1                0             0   \n",
       "7263                       0                1             0   \n",
       "2486                       1                0             0   \n",
       "313                        0                1             0   \n",
       "52726                      0                1             0   \n",
       "\n",
       "       quantity_seasonal  quantity_unknown  \n",
       "43360                  0                 0  \n",
       "7263                   0                 0  \n",
       "2486                   0                 0  \n",
       "313                    0                 0  \n",
       "52726                  0                 0  "
      ]
     },
     "execution_count": 18,
     "metadata": {},
     "output_type": "execute_result"
    }
   ],
   "source": [
    "encoder = ce.OneHotEncoder(use_cat_names=True)\n",
    "encoded = encoder.fit_transform(X_train[[feature]])\n",
    "print(f'{len(encoded.columns)} columns')\n",
    "encoded.head()"
   ]
  },
  {
   "cell_type": "markdown",
   "metadata": {},
   "source": [
    "### [Ordinal Encoding](http://contrib.scikit-learn.org/categorical-encoding/ordinal.html)\n",
    "\n",
    "> Ordinal encoding uses a single column of integers to represent the classes. An optional mapping dict can be passed in; in this case, we use the knowledge that there is some true order to the classes themselves. Otherwise, the classes are assumed to have no true order and integers are selected at random."
   ]
  },
  {
   "cell_type": "code",
   "execution_count": 19,
   "metadata": {},
   "outputs": [
    {
     "name": "stdout",
     "output_type": "stream",
     "text": [
      "1 column, 5 unique values\n"
     ]
    },
    {
     "data": {
      "text/html": [
       "<div>\n",
       "<style scoped>\n",
       "    .dataframe tbody tr th:only-of-type {\n",
       "        vertical-align: middle;\n",
       "    }\n",
       "\n",
       "    .dataframe tbody tr th {\n",
       "        vertical-align: top;\n",
       "    }\n",
       "\n",
       "    .dataframe thead th {\n",
       "        text-align: right;\n",
       "    }\n",
       "</style>\n",
       "<table border=\"1\" class=\"dataframe\">\n",
       "  <thead>\n",
       "    <tr style=\"text-align: right;\">\n",
       "      <th></th>\n",
       "      <th>quantity</th>\n",
       "    </tr>\n",
       "  </thead>\n",
       "  <tbody>\n",
       "    <tr>\n",
       "      <th>43360</th>\n",
       "      <td>1</td>\n",
       "    </tr>\n",
       "    <tr>\n",
       "      <th>7263</th>\n",
       "      <td>2</td>\n",
       "    </tr>\n",
       "    <tr>\n",
       "      <th>2486</th>\n",
       "      <td>1</td>\n",
       "    </tr>\n",
       "    <tr>\n",
       "      <th>313</th>\n",
       "      <td>2</td>\n",
       "    </tr>\n",
       "    <tr>\n",
       "      <th>52726</th>\n",
       "      <td>2</td>\n",
       "    </tr>\n",
       "  </tbody>\n",
       "</table>\n",
       "</div>"
      ],
      "text/plain": [
       "       quantity\n",
       "43360         1\n",
       "7263          2\n",
       "2486          1\n",
       "313           2\n",
       "52726         2"
      ]
     },
     "execution_count": 19,
     "metadata": {},
     "output_type": "execute_result"
    }
   ],
   "source": [
    "encoder = ce.OrdinalEncoder()\n",
    "encoded = encoder.fit_transform(X_train[[feature]])\n",
    "print(f'1 column, {encoded[feature].nunique()} unique values')\n",
    "encoded.head()"
   ]
  },
  {
   "cell_type": "markdown",
   "metadata": {},
   "source": [
    "# Assignment\n",
    "- Start a clean notebook, or continue with yesterday's assignment notebook.\n",
    "- Continue to participate in our Kaggle competition with the Tanzania Waterpumps data. \n",
    "- Do more exploratory data analysis, data cleaning, feature engineering, and feature selection.\n",
    "- Try a Random Forest Classifier. \n",
    "- Try Ordinal Encoding.\n",
    "- Submit new predictions.\n",
    "- Commit your notebook to your fork of the GitHub repo.\n",
    "\n",
    "## Stretch Goals\n",
    "- Create visualizations and share on Slack.\n",
    "- Read more about decision trees and tree ensembles. You can start with the links at the top & bottom of this notebook:"
   ]
  },
  {
   "cell_type": "markdown",
   "metadata": {},
   "source": [
    "### Post-read links\n",
    "\n",
    "#### Decision Trees\n",
    "- A Visual Introduction to Machine Learning, [Part 1: A Decision Tree](http://www.r2d3.us/visual-intro-to-machine-learning-part-1/),  and [Part 2: Bias and Variance](http://www.r2d3.us/visual-intro-to-machine-learning-part-2/)\n",
    "- [Decision Trees: Advantages & Disadvantages](https://christophm.github.io/interpretable-ml-book/tree.html#advantages-2)\n",
    "- [How a Russian mathematician constructed a decision tree — by hand — to solve a medical problem](http://fastml.com/how-a-russian-mathematician-constructed-a-decision-tree-by-hand-to-solve-a-medical-problem/)\n",
    "- [How decision trees work](https://brohrer.github.io/how_decision_trees_work.html)\n",
    "- [Let’s Write a Decision Tree Classifier from Scratch](https://www.youtube.com/watch?v=LDRbO9a6XPU)\n",
    "\n",
    "#### Random Forests\n",
    "- [_An Introduction to Statistical Learning_](http://www-bcf.usc.edu/~gareth/ISL/), Chapter 8: Tree-Based Methods\n",
    "- [Coloring with Random Forests](http://structuringtheunstructured.blogspot.com/2017/11/coloring-with-random-forests.html)\n",
    "- [Random Forests for Complete Beginners: The definitive guide to Random Forests and Decision Trees](https://victorzhou.com/blog/intro-to-random-forests/)\n",
    "\n",
    "#### Categorical encoding for trees\n",
    "- [Are categorical variables getting lost in your random forests?](https://roamanalytics.com/2016/10/28/are-categorical-variables-getting-lost-in-your-random-forests/)\n",
    "- [Beyond One-Hot: An Exploration of Categorical Variables](http://www.willmcginnis.com/2015/11/29/beyond-one-hot-an-exploration-of-categorical-variables/)\n",
    "- [Categorical Features and Encoding in Decision Trees](https://medium.com/data-design/visiting-categorical-features-and-encoding-in-decision-trees-53400fa65931)\n",
    "- [Coursera — How to Win a Data Science Competition: Learn from Top Kagglers — Concept of mean encoding](https://www.coursera.org/lecture/competitive-data-science/concept-of-mean-encoding-b5Gxv)\n",
    "- [Mean (likelihood) encodings: a comprehensive study](https://www.kaggle.com/vprokopev/mean-likelihood-encodings-a-comprehensive-study)\n",
    "- [The Mechanics of Machine Learning, Chapter 6: Categorically Speaking](https://mlbook.explained.ai/catvars.html)"
   ]
  }
 ],
 "metadata": {
  "kernelspec": {
   "display_name": "Python 3",
   "language": "python",
   "name": "python3"
  },
  "language_info": {
   "codemirror_mode": {
    "name": "ipython",
    "version": 3
   },
   "file_extension": ".py",
   "mimetype": "text/x-python",
   "name": "python",
   "nbconvert_exporter": "python",
   "pygments_lexer": "ipython3",
   "version": "3.7.3"
  }
 },
 "nbformat": 4,
 "nbformat_minor": 2
}
