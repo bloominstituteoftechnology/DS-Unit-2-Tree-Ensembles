{
  "nbformat": 4,
  "nbformat_minor": 0,
  "metadata": {
    "kernelspec": {
      "display_name": "Python 3",
      "language": "python",
      "name": "python3"
    },
    "language_info": {
      "codemirror_mode": {
        "name": "ipython",
        "version": 3
      },
      "file_extension": ".py",
      "mimetype": "text/x-python",
      "name": "python",
      "nbconvert_exporter": "python",
      "pygments_lexer": "ipython3",
      "version": "3.7.3"
    },
    "colab": {
      "name": "Random Forests - Assignment Notebook.ipynb",
      "version": "0.3.2",
      "provenance": [],
      "include_colab_link": true
    }
  },
  "cells": [
    {
      "cell_type": "markdown",
      "metadata": {
        "id": "view-in-github",
        "colab_type": "text"
      },
      "source": [
        "<a href=\"https://colab.research.google.com/github/ElisabethShah/DS-Unit-2-Tree-Ensembles/blob/master/module2-random-forests/Random%20Forests%20-%20Assignment%20Notebook.ipynb\" target=\"_parent\"><img src=\"https://colab.research.google.com/assets/colab-badge.svg\" alt=\"Open In Colab\"/></a>"
      ]
    },
    {
      "cell_type": "markdown",
      "metadata": {
        "id": "f6Pi_RIxZ8j4",
        "colab_type": "text"
      },
      "source": [
        "_Lambda School Data Science — Tree Ensembles_ \n",
        "\n",
        "This sprint, your project is about water pumps in Tanzania. Can you predict which water pumps are faulty?"
      ]
    },
    {
      "cell_type": "markdown",
      "metadata": {
        "id": "8Yz_j5X1Z8j6",
        "colab_type": "text"
      },
      "source": [
        "# Random Forests, Ordinal Encoding"
      ]
    },
    {
      "cell_type": "markdown",
      "metadata": {
        "id": "h0kI6KGPhmoy",
        "colab_type": "text"
      },
      "source": [
        "## Objectives\n",
        "\n",
        "* do feature engineering with dates\n",
        "* clean data with outliers\n",
        "* impute missing values\n",
        "* do ordinal encoding with high-cardinality categoricals\n",
        "* use scikit-learn for decision trees & random forests\n",
        "* get and interpret feature importances of a tree-based model\n",
        "* understand how tree ensembles reduce overfitting compared to a single decision tree with unlimited depth\n",
        "* understand how categorical encodings affect trees differently compared to linear models\n",
        "\n"
      ]
    },
    {
      "cell_type": "markdown",
      "metadata": {
        "id": "cMHBgrLXiGRx",
        "colab_type": "text"
      },
      "source": [
        "## Summary \n",
        "\n",
        "**Try Tree Ensembles when you do machine learning with labeled, tabular data**\n",
        "- \"Tree Ensembles\" means Random Forest or Gradient Boosting models. \n",
        "- [Tree Ensembles often have the best predictive accuracy](https://arxiv.org/abs/1708.05070) with labeled, tabular data.\n",
        "- Why? Because trees can fit non-linear, non-[monotonic](https://en.wikipedia.org/wiki/Monotonic_function) relationships, and [interactions](https://christophm.github.io/interpretable-ml-book/interaction.html) between features.\n",
        "- A single decision tree, grown to unlimited depth, will [overfit](http://www.r2d3.us/visual-intro-to-machine-learning-part-1/). We solve this problem by ensembling trees, with bagging (Random Forest) or boosting (Gradient Boosting).\n",
        "- Random Forest's advantage: may be less sensitive to hyperparameters. Gradient Boosting's advantage: may get better predictive accuracy.\n",
        "\n",
        "**One-hot encoding isn’t the only way, and may not be the best way, of categorical encoding for tree ensembles.**\n",
        "- For example, tree ensembles can work with arbitrary \"ordinal\" encoding! (Randomly assigning an integer to each category.) Compared to one-hot encoding, the dimensionality will be lower, and the predictive accuracy may be just as good or even better.\n"
      ]
    },
    {
      "cell_type": "markdown",
      "metadata": {
        "id": "ZCtLrUVlrjOY",
        "colab_type": "text"
      },
      "source": [
        "### Features\n",
        "\n",
        "Your goal is to predict the operating condition of a waterpoint for each record in the dataset. You are provided the following set of information about the waterpoints:\n",
        "\n",
        "- `amount_tsh` : Total static head (amount water available to waterpoint)\n",
        "- `date_recorded` : The date the row was entered\n",
        "- `funder` : Who funded the well\n",
        "- `gps_height` : Altitude of the well\n",
        "- `installer` : Organization that installed the well\n",
        "- `longitude` : GPS coordinate\n",
        "- `latitude` : GPS coordinate\n",
        "- `wpt_name` : Name of the waterpoint if there is one\n",
        "- `num_private` :  \n",
        "- `basin` : Geographic water basin\n",
        "- `subvillage` : Geographic location\n",
        "- `region` : Geographic location\n",
        "- `region_code` : Geographic location (coded)\n",
        "- `district_code` : Geographic location (coded)\n",
        "- `lga` : Geographic location\n",
        "- `ward` : Geographic location\n",
        "- `population` : Population around the well\n",
        "- `public_meeting` : True/False\n",
        "- `recorded_by` : Group entering this row of data\n",
        "- `scheme_management` : Who operates the waterpoint\n",
        "- `scheme_name` : Who operates the waterpoint\n",
        "- `permit` : If the waterpoint is permitted\n",
        "- `construction_year` : Year the waterpoint was constructed\n",
        "- `extraction_type` : The kind of extraction the waterpoint uses\n",
        "- `extraction_type_group` : The kind of extraction the waterpoint uses\n",
        "- `extraction_type_class` : The kind of extraction the waterpoint uses\n",
        "- `management` : How the waterpoint is managed\n",
        "- `management_group` : How the waterpoint is managed\n",
        "- `payment` : What the water costs\n",
        "- `payment_type` : What the water costs\n",
        "- `water_quality` : The quality of the water\n",
        "- `quality_group` : The quality of the water\n",
        "- `quantity` : The quantity of water\n",
        "- `quantity_group` : The quantity of water\n",
        "- `source` : The source of the water\n",
        "- `source_type` : The source of the water\n",
        "- `source_class` : The source of the water\n",
        "- `waterpoint_type` : The kind of waterpoint\n",
        "- `waterpoint_type_group` : The kind of waterpoint"
      ]
    },
    {
      "cell_type": "markdown",
      "metadata": {
        "id": "wxDD2UEjrwGQ",
        "colab_type": "text"
      },
      "source": [
        "### Labels\n",
        "\n",
        "There are three possible values:\n",
        "\n",
        "- `functional` : the waterpoint is operational and there are no repairs needed\n",
        "- `functional needs repair` : the waterpoint is operational, but needs repairs\n",
        "- `non functional` : the waterpoint is not operational"
      ]
    },
    {
      "cell_type": "markdown",
      "metadata": {
        "id": "4sI0bdWjkMjz",
        "colab_type": "text"
      },
      "source": [
        "## Set up environment"
      ]
    },
    {
      "cell_type": "code",
      "metadata": {
        "id": "BWB_1N04kCRk",
        "colab_type": "code",
        "outputId": "7a9f8565-d0b1-4f43-f1c8-9a5f98f7799d",
        "colab": {
          "base_uri": "https://localhost:8080/",
          "height": 239
        }
      },
      "source": [
        "# Install dependencies.\n",
        "!pip install category_encoders"
      ],
      "execution_count": 1,
      "outputs": [
        {
          "output_type": "stream",
          "text": [
            "Requirement already satisfied: category_encoders in /usr/local/lib/python3.6/dist-packages (2.0.0)\n",
            "Requirement already satisfied: scipy>=0.19.0 in /usr/local/lib/python3.6/dist-packages (from category_encoders) (1.3.0)\n",
            "Requirement already satisfied: scikit-learn>=0.20.0 in /usr/local/lib/python3.6/dist-packages (from category_encoders) (0.21.2)\n",
            "Requirement already satisfied: patsy>=0.4.1 in /usr/local/lib/python3.6/dist-packages (from category_encoders) (0.5.1)\n",
            "Requirement already satisfied: pandas>=0.21.1 in /usr/local/lib/python3.6/dist-packages (from category_encoders) (0.24.2)\n",
            "Requirement already satisfied: numpy>=1.11.3 in /usr/local/lib/python3.6/dist-packages (from category_encoders) (1.16.4)\n",
            "Requirement already satisfied: statsmodels>=0.6.1 in /usr/local/lib/python3.6/dist-packages (from category_encoders) (0.10.0)\n",
            "Requirement already satisfied: joblib>=0.11 in /usr/local/lib/python3.6/dist-packages (from scikit-learn>=0.20.0->category_encoders) (0.13.2)\n",
            "Requirement already satisfied: six in /usr/local/lib/python3.6/dist-packages (from patsy>=0.4.1->category_encoders) (1.12.0)\n",
            "Requirement already satisfied: python-dateutil>=2.5.0 in /usr/local/lib/python3.6/dist-packages (from pandas>=0.21.1->category_encoders) (2.5.3)\n",
            "Requirement already satisfied: pytz>=2011k in /usr/local/lib/python3.6/dist-packages (from pandas>=0.21.1->category_encoders) (2018.9)\n"
          ],
          "name": "stdout"
        }
      ]
    },
    {
      "cell_type": "code",
      "metadata": {
        "id": "LQUATuIbZ8j9",
        "colab_type": "code",
        "colab": {}
      },
      "source": [
        "# Import libraries.\n",
        "%matplotlib inline\n",
        "\n",
        "import category_encoders as ce\n",
        "import matplotlib.pyplot as plt\n",
        "import numpy as np\n",
        "import pandas as pd\n",
        "import seaborn as sns\n",
        "\n",
        "from sklearn.ensemble import RandomForestClassifier\n",
        "from sklearn.impute import SimpleImputer\n",
        "from sklearn.model_selection import train_test_split\n",
        "from sklearn.pipeline import make_pipeline\n",
        "from sklearn.preprocessing import RobustScaler\n",
        "from sklearn.tree import DecisionTreeClassifier"
      ],
      "execution_count": 0,
      "outputs": []
    },
    {
      "cell_type": "markdown",
      "metadata": {
        "id": "h7vz7rT-kW3T",
        "colab_type": "text"
      },
      "source": [
        "## Load data"
      ]
    },
    {
      "cell_type": "code",
      "metadata": {
        "id": "6lXNb3R9j-Vu",
        "colab_type": "code",
        "colab": {}
      },
      "source": [
        "# Define data source location.\n",
        "LOCAL = '../data/tanzania/'\n",
        "WEB = ('https://raw.githubusercontent.com/LambdaSchool/'\n",
        "       'DS-Unit-2-Tree-Ensembles/master/data/tanzania/')\n",
        "source = WEB\n",
        "\n",
        "# Merge train_features.csv & train_labels.csv.\n",
        "train = pd.merge(pd.read_csv(source + 'train_features.csv'), \n",
        "                 pd.read_csv(source + 'train_labels.csv'))\n",
        "\n",
        "# Read test_features.csv & sample_submission.csv.\n",
        "test = pd.read_csv(source + 'test_features.csv')\n",
        "sample_submission = pd.read_csv(source + 'sample_submission.csv')\n",
        "\n",
        "# Split train into train & val.\n",
        "train, val = train_test_split(train, train_size=0.80, test_size=0.20, \n",
        "                              stratify=train['status_group'], random_state=0)"
      ],
      "execution_count": 0,
      "outputs": []
    },
    {
      "cell_type": "code",
      "metadata": {
        "id": "S0eogtyKrWLI",
        "colab_type": "code",
        "outputId": "af0ac395-ab5e-491f-9002-27031c0872dd",
        "colab": {
          "base_uri": "https://localhost:8080/",
          "height": 35
        }
      },
      "source": [
        "# Check data dimensions.\n",
        "train.shape, val.shape, test.shape"
      ],
      "execution_count": 4,
      "outputs": [
        {
          "output_type": "execute_result",
          "data": {
            "text/plain": [
              "((47520, 41), (11880, 41), (14358, 40))"
            ]
          },
          "metadata": {
            "tags": []
          },
          "execution_count": 4
        }
      ]
    },
    {
      "cell_type": "markdown",
      "metadata": {
        "id": "E3euI8AclvOM",
        "colab_type": "text"
      },
      "source": [
        "## Clean and wrangle data"
      ]
    },
    {
      "cell_type": "code",
      "metadata": {
        "id": "IKcTH0BorQmp",
        "colab_type": "code",
        "colab": {}
      },
      "source": [
        "def generate_location_cols(X, grouping, latitude, longitude):\n",
        "  locations = X[[grouping, latitude, longitude]]\n",
        "  locations = locations.groupby([grouping]).mean()\n",
        "  locations = locations.to_dict()\n",
        "  \n",
        "  mean_latitudes = X[grouping].replace(locations['latitude'])\n",
        "  mean_longitudes = X[grouping].replace(locations['longitude'])\n",
        "  \n",
        "  return (mean_latitudes, mean_longitudes)"
      ],
      "execution_count": 0,
      "outputs": []
    },
    {
      "cell_type": "code",
      "metadata": {
        "id": "O0nQw-7DkqVc",
        "colab_type": "code",
        "colab": {}
      },
      "source": [
        "def wrangle(X):\n",
        "    \"\"\"Wrangles train, validate, and test sets in the same way\"\"\"\n",
        "    X = X.copy()\n",
        "\n",
        "    # Convert date_recorded to datetime.\n",
        "    X['date_recorded'] = pd.to_datetime(X['date_recorded'], \n",
        "                                        infer_datetime_format=True)\n",
        "    \n",
        "    # Extract components from date_recorded, then drop the original column.\n",
        "    X['year_recorded'] = X['date_recorded'].dt.year\n",
        "    X['month_recorded'] = X['date_recorded'].dt.month\n",
        "    X['day_recorded'] = X['date_recorded'].dt.day\n",
        "    X = X.drop(columns='date_recorded')\n",
        "    \n",
        "    # Engineer feature: how many years from construction_year to date_recorded.\n",
        "    X['pump_age'] = X['year_recorded'] - X['construction_year']    \n",
        "    \n",
        "    # Drop recorded_by (never varies) and id (always varies, random).\n",
        "    X = X.drop(columns=['recorded_by', 'id'])\n",
        "    \n",
        "    # Drop duplicate columns.\n",
        "    duplicate_columns = ['quantity_group']\n",
        "    X = X.drop(columns=duplicate_columns)\n",
        "    \n",
        "    # About 3% of the time, latitude has small values near zero,\n",
        "    # outside Tanzania, so we'll treat these like null values.\n",
        "    X['latitude'] = X['latitude'].replace(-2e-08, np.nan)\n",
        "    \n",
        "    # When columns have zeros and shouldn't, they are like null values.\n",
        "    cols_with_zeros = ['construction_year', \n",
        "                       'longitude', \n",
        "                       'latitude', \n",
        "                       'gps_height', \n",
        "                       'population']\n",
        "    for col in cols_with_zeros:\n",
        "        X[col] = X[col].replace(0, np.nan)\n",
        "        \n",
        "    # Add mean latitude and longtitude values for geographic groupings.\n",
        "    X['ward_lat'], X['ward_long'] = generate_location_cols(X, \n",
        "                                                           'ward',\n",
        "                                                           'latitude',\n",
        "                                                           'longitude')\n",
        "    X['lga_lat'], X['lga_long'] = generate_location_cols(X, \n",
        "                                                         'lga',\n",
        "                                                         'latitude',\n",
        "                                                         'longitude')\n",
        "    X['region_lat'], X['region_long'] = generate_location_cols(X, \n",
        "                                                               'region',\n",
        "                                                               'latitude',\n",
        "                                                               'longitude')\n",
        "    \n",
        "    # Impute missing latitude values.\n",
        "    X['latitude'] = X['latitude'].fillna(X['ward_lat'])\n",
        "    X['latitude'] = X['latitude'].fillna(X['lga_lat'])\n",
        "    X['latitude'] = X['latitude'].fillna(X['region_lat'])\n",
        "    X['latitude'] = X['latitude'].mean()\n",
        "    \n",
        "    # Impute missing longitude values.\n",
        "    X['longitude'] = X['longitude'].fillna(X['ward_long'])\n",
        "    X['longitude'] = X['longitude'].fillna(X['lga_long'])\n",
        "    X['longitude'] = X['longitude'].fillna(X['region_long'])\n",
        "    X['longitude'] = X['longitude'].mean()\n",
        "\n",
        "    # Drop now redundant mean latitude and longitude columns.\n",
        "    X = X.drop(columns=['ward_lat', 'ward_long', \n",
        "                        'lga_lat', 'lga_long', \n",
        "                        'region_lat', 'region_long'])\n",
        "        \n",
        "    return X"
      ],
      "execution_count": 0,
      "outputs": []
    },
    {
      "cell_type": "code",
      "metadata": {
        "id": "mRY2axovlt0M",
        "colab_type": "code",
        "colab": {}
      },
      "source": [
        "train = wrangle(train)\n",
        "val = wrangle(val)\n",
        "test = wrangle(test)"
      ],
      "execution_count": 0,
      "outputs": []
    },
    {
      "cell_type": "code",
      "metadata": {
        "id": "FeT6-gptl2zr",
        "colab_type": "code",
        "colab": {}
      },
      "source": [
        "# The status_group column is the target\n",
        "target = 'status_group'\n",
        "\n",
        "# Get a dataframe with all train columns except the target\n",
        "train_features = train.drop(columns=[target])\n",
        "\n",
        "# Get a list of the numeric features\n",
        "numeric_features = train_features.select_dtypes(include='number').columns.tolist()\n",
        "\n",
        "# Get a series with the cardinality of the nonnumeric features\n",
        "cardinality = train_features.select_dtypes(exclude='number').nunique()\n",
        "\n",
        "# Get a list of all categorical features with cardinality <= 50\n",
        "categorical_features = cardinality[cardinality <= 50].index.tolist()\n",
        "\n",
        "# Combine the lists \n",
        "features = numeric_features + categorical_features"
      ],
      "execution_count": 0,
      "outputs": []
    },
    {
      "cell_type": "code",
      "metadata": {
        "id": "XqUYzDAWysu7",
        "colab_type": "code",
        "colab": {}
      },
      "source": [
        "# Arrange data into X features matrix and y target vector \n",
        "X_train = train[features]\n",
        "y_train = train[target]\n",
        "\n",
        "X_val = val[features]\n",
        "y_val = val[target]\n",
        "\n",
        "X_test = test[features]"
      ],
      "execution_count": 0,
      "outputs": []
    },
    {
      "cell_type": "markdown",
      "metadata": {
        "id": "gKUVyQRbpWy1",
        "colab_type": "text"
      },
      "source": [
        "## Build and run pipelines"
      ]
    },
    {
      "cell_type": "markdown",
      "metadata": {
        "id": "eyc2IvU6pcXm",
        "colab_type": "text"
      },
      "source": [
        "### One-hot encoding"
      ]
    },
    {
      "cell_type": "code",
      "metadata": {
        "id": "iXob206OxpcN",
        "colab_type": "code",
        "outputId": "83038c96-2ba4-4f89-8466-67a9772f5001",
        "colab": {
          "base_uri": "https://localhost:8080/",
          "height": 35
        }
      },
      "source": [
        "pipeline = make_pipeline(\n",
        "    ce.OneHotEncoder(use_cat_names=True), \n",
        "    SimpleImputer(strategy='median'), \n",
        "    RandomForestClassifier(n_estimators=100, random_state=0, n_jobs=-1)\n",
        ")\n",
        "\n",
        "# Fit on train, score on val, predict on test\n",
        "pipeline.fit(X_train, y_train)\n",
        "print('Validation Accuracy', pipeline.score(X_val, y_val))\n",
        "y_pred = pipeline.predict(X_test)\n",
        "\n",
        "# Write submission csv file\n",
        "submission = sample_submission.copy()\n",
        "submission['status_group'] = y_pred\n",
        "submission.to_csv('RF_baseline_submission.csv', index=False)"
      ],
      "execution_count": 10,
      "outputs": [
        {
          "output_type": "stream",
          "text": [
            "Validation Accuracy 0.7966329966329966\n"
          ],
          "name": "stdout"
        }
      ]
    },
    {
      "cell_type": "code",
      "metadata": {
        "id": "CCL1ApkNxqK8",
        "colab_type": "code",
        "outputId": "84fe869f-360d-467f-b9c2-1d73fe363b92",
        "colab": {
          "base_uri": "https://localhost:8080/",
          "height": 607
        }
      },
      "source": [
        "# Get feature importances.\n",
        "encoder = pipeline.named_steps['onehotencoder']\n",
        "tree = pipeline.named_steps['randomforestclassifier']\n",
        "\n",
        "feature_names = encoder.transform(X_val).columns\n",
        "\n",
        "importances = pd.Series(tree.feature_importances_, feature_names)\n",
        "\n",
        "# Plot feature importances.\n",
        "n = 20\n",
        "plt.figure(figsize=(10,n/2))\n",
        "plt.title(f'Top {n} features')\n",
        "importances.sort_values()[-n:].plot.barh();"
      ],
      "execution_count": 11,
      "outputs": [
        {
          "output_type": "display_data",
          "data": {
            "image/png": "[encoded data removed]",
            "text/plain": [
              "<Figure size 720x720 with 1 Axes>"
            ]
          },
          "metadata": {
            "tags": []
          }
        }
      ]
    },
    {
      "cell_type": "markdown",
      "metadata": {
        "id": "ZuI5GrBMphfv",
        "colab_type": "text"
      },
      "source": [
        "### Ordinal encoding"
      ]
    },
    {
      "cell_type": "code",
      "metadata": {
        "id": "OfBaKPPv8wFx",
        "colab_type": "code",
        "outputId": "5b77f586-8b01-44e9-86db-770b902f180f",
        "colab": {
          "base_uri": "https://localhost:8080/",
          "height": 35
        }
      },
      "source": [
        "pipeline = make_pipeline(\n",
        "    ce.OrdinalEncoder(), \n",
        "    SimpleImputer(strategy='mean'), \n",
        "    RandomForestClassifier(n_estimators=100, random_state=0, n_jobs=-1)\n",
        ")\n",
        "\n",
        "# Fit on train, score on val, predict on test\n",
        "pipeline.fit(X_train, y_train)\n",
        "print('Validation Accuracy', pipeline.score(X_val, y_val))\n",
        "y_pred = pipeline.predict(X_test)\n",
        "\n",
        "# Write submission csv file\n",
        "submission = sample_submission.copy()\n",
        "submission['status_group'] = y_pred\n",
        "submission.to_csv('RF_baseline_submission.csv', index=False)"
      ],
      "execution_count": 12,
      "outputs": [
        {
          "output_type": "stream",
          "text": [
            "Validation Accuracy 0.7988215488215489\n"
          ],
          "name": "stdout"
        }
      ]
    },
    {
      "cell_type": "code",
      "metadata": {
        "id": "vAgLw6mvrPBX",
        "colab_type": "code",
        "outputId": "eb42eeda-3f81-45ab-98fb-40737f8f19ee",
        "colab": {
          "base_uri": "https://localhost:8080/",
          "height": 607
        }
      },
      "source": [
        "# Get feature importances.\n",
        "encoder = pipeline.named_steps['ordinalencoder']\n",
        "imputer = pipeline.named_steps['simpleimputer']\n",
        "tree = pipeline.named_steps['randomforestclassifier']\n",
        "\n",
        "feature_names = encoder.transform(X_val).columns\n",
        "\n",
        "importances = pd.Series(tree.feature_importances_, feature_names)\n",
        "\n",
        "# Plot feature importances.\n",
        "n = 20\n",
        "plt.figure(figsize=(10,n/2))\n",
        "plt.title(f'Top {n} features')\n",
        "importances.sort_values()[-n:].plot.barh();"
      ],
      "execution_count": 13,
      "outputs": [
        {
          "output_type": "display_data",
          "data": {
            "image/png": "[encoded data removed]",
            "text/plain": [
              "<Figure size 720x720 with 1 Axes>"
            ]
          },
          "metadata": {
            "tags": []
          }
        }
      ]
    },
    {
      "cell_type": "code",
      "metadata": {
        "id": "SMMBmjPVrark",
        "colab_type": "code",
        "colab": {
          "base_uri": "https://localhost:8080/",
          "height": 329
        },
        "outputId": "e175bcac-f686-495e-def6-17ce7faa2dd9"
      },
      "source": [
        "tree.get_params()"
      ],
      "execution_count": 14,
      "outputs": [
        {
          "output_type": "execute_result",
          "data": {
            "text/plain": [
              "{'bootstrap': True,\n",
              " 'class_weight': None,\n",
              " 'criterion': 'gini',\n",
              " 'max_depth': None,\n",
              " 'max_features': 'auto',\n",
              " 'max_leaf_nodes': None,\n",
              " 'min_impurity_decrease': 0.0,\n",
              " 'min_impurity_split': None,\n",
              " 'min_samples_leaf': 1,\n",
              " 'min_samples_split': 2,\n",
              " 'min_weight_fraction_leaf': 0.0,\n",
              " 'n_estimators': 100,\n",
              " 'n_jobs': -1,\n",
              " 'oob_score': False,\n",
              " 'random_state': 0,\n",
              " 'verbose': 0,\n",
              " 'warm_start': False}"
            ]
          },
          "metadata": {
            "tags": []
          },
          "execution_count": 14
        }
      ]
    },
    {
      "cell_type": "markdown",
      "metadata": {
        "id": "7fYdQU4O0R0Q",
        "colab_type": "text"
      },
      "source": [
        "## Explore hyperparameters"
      ]
    },
    {
      "cell_type": "code",
      "metadata": {
        "id": "tRE9idUOqNx_",
        "colab_type": "code",
        "colab": {}
      },
      "source": [
        "from sklearn.model_selection import RandomizedSearchCV"
      ],
      "execution_count": 0,
      "outputs": []
    },
    {
      "cell_type": "code",
      "metadata": {
        "id": "3PDUgtDkqTYn",
        "colab_type": "code",
        "colab": {}
      },
      "source": [
        "# Create parameter grid.\n",
        "n_estimators = [10, 100, 200]\n",
        "criterion = ['gini', 'entropy']\n",
        "max_depth = [10, 15, 20, 25]\n",
        "max_depth.append(None)\n",
        "min_samples_split = [2, 5, 10]\n",
        "min_samples_leaf = [1, 2, 4]\n",
        "max_features = [int(x) for x in np.linspace(1, 10, num=10)]\n",
        "max_features.append(None)\n",
        "bootstrap = [True, False]\n",
        "\n",
        "random_grid = {'n_estimators': n_estimators,\n",
        "               'criterion': criterion,\n",
        "               'max_depth': max_depth,\n",
        "               'min_samples_split': min_samples_split,\n",
        "               'min_samples_leaf': min_samples_leaf,\n",
        "               'max_features': max_features,\n",
        "               'bootstrap': bootstrap\n",
        "              }"
      ],
      "execution_count": 0,
      "outputs": []
    },
    {
      "cell_type": "code",
      "metadata": {
        "id": "DHrAsjR_rcOu",
        "colab_type": "code",
        "colab": {}
      },
      "source": [
        "rf = RandomForestClassifier()\n",
        "rf_random = RandomizedSearchCV(estimator=rf,\n",
        "                               param_distributions=random_grid,\n",
        "                               n_iter=10,\n",
        "                               cv=3,\n",
        "                               verbose=2,\n",
        "                               random_state=0,\n",
        "                               n_jobs=-1)"
      ],
      "execution_count": 0,
      "outputs": []
    },
    {
      "cell_type": "code",
      "metadata": {
        "id": "UZnyKG5YtPJn",
        "colab_type": "code",
        "colab": {}
      },
      "source": [
        "X_train_encoded = encoder.fit_transform(X_train)\n",
        "X_train_imputed = pd.DataFrame(imputer.fit_transform(X_train_encoded))"
      ],
      "execution_count": 0,
      "outputs": []
    },
    {
      "cell_type": "code",
      "metadata": {
        "id": "6qQltgG3tdW4",
        "colab_type": "code",
        "colab": {
          "base_uri": "https://localhost:8080/",
          "height": 550
        },
        "outputId": "c0c768da-ca39-40c3-8b46-c1c2303e1c76"
      },
      "source": [
        "rf_random.fit(X_train_imputed, y_train)"
      ],
      "execution_count": 19,
      "outputs": [
        {
          "output_type": "stream",
          "text": [
            "Fitting 3 folds for each of 10 candidates, totalling 30 fits\n"
          ],
          "name": "stdout"
        },
        {
          "output_type": "stream",
          "text": [
            "[Parallel(n_jobs=-1)]: Using backend LokyBackend with 2 concurrent workers.\n",
            "[Parallel(n_jobs=-1)]: Done  30 out of  30 | elapsed:  3.0min finished\n"
          ],
          "name": "stderr"
        },
        {
          "output_type": "execute_result",
          "data": {
            "text/plain": [
              "RandomizedSearchCV(cv=3, error_score='raise-deprecating',\n",
              "                   estimator=RandomForestClassifier(bootstrap=True,\n",
              "                                                    class_weight=None,\n",
              "                                                    criterion='gini',\n",
              "                                                    max_depth=None,\n",
              "                                                    max_features='auto',\n",
              "                                                    max_leaf_nodes=None,\n",
              "                                                    min_impurity_decrease=0.0,\n",
              "                                                    min_impurity_split=None,\n",
              "                                                    min_samples_leaf=1,\n",
              "                                                    min_samples_split=2,\n",
              "                                                    min_weight_fraction_leaf=0.0,\n",
              "                                                    n_estimators='warn',\n",
              "                                                    n_jobs=None,\n",
              "                                                    oob_sc...\n",
              "                   iid='warn', n_iter=10, n_jobs=-1,\n",
              "                   param_distributions={'bootstrap': [True, False],\n",
              "                                        'criterion': ['gini', 'entropy'],\n",
              "                                        'max_depth': [10, 15, 20, 25, None],\n",
              "                                        'max_features': [1, 2, 3, 4, 5, 6, 7, 8,\n",
              "                                                         9, 10, None],\n",
              "                                        'min_samples_leaf': [1, 2, 4],\n",
              "                                        'min_samples_split': [2, 5, 10],\n",
              "                                        'n_estimators': [10, 100, 200]},\n",
              "                   pre_dispatch='2*n_jobs', random_state=0, refit=True,\n",
              "                   return_train_score=False, scoring=None, verbose=2)"
            ]
          },
          "metadata": {
            "tags": []
          },
          "execution_count": 19
        }
      ]
    },
    {
      "cell_type": "code",
      "metadata": {
        "id": "H41GYcXrti0P",
        "colab_type": "code",
        "colab": {
          "base_uri": "https://localhost:8080/",
          "height": 146
        },
        "outputId": "0ee48753-51ad-40ec-d7e5-339e3201f19a"
      },
      "source": [
        "rf_random.best_params_"
      ],
      "execution_count": 20,
      "outputs": [
        {
          "output_type": "execute_result",
          "data": {
            "text/plain": [
              "{'bootstrap': True,\n",
              " 'criterion': 'gini',\n",
              " 'max_depth': 25,\n",
              " 'max_features': 6,\n",
              " 'min_samples_leaf': 1,\n",
              " 'min_samples_split': 10,\n",
              " 'n_estimators': 100}"
            ]
          },
          "metadata": {
            "tags": []
          },
          "execution_count": 20
        }
      ]
    },
    {
      "cell_type": "code",
      "metadata": {
        "id": "u7uY9J-L0r_o",
        "colab_type": "code",
        "colab": {
          "base_uri": "https://localhost:8080/",
          "height": 54
        },
        "outputId": "99f41c3a-dc2b-4118-ceec-46cb7cc2952c"
      },
      "source": [
        "pipeline = make_pipeline(\n",
        "    ce.OrdinalEncoder(), \n",
        "    SimpleImputer(strategy='mean'), \n",
        "    RandomForestClassifier(bootstrap=True,\n",
        "                           n_estimators=100,\n",
        "                           max_depth=18,\n",
        "                           max_features=6,\n",
        "                           min_samples_leaf=1,\n",
        "                           min_samples_split=10,\n",
        "                           random_state=0,\n",
        "                           n_jobs=-1)\n",
        ")\n",
        "\n",
        "# Fit on train, score on val, predict on test\n",
        "pipeline.fit(X_train, y_train)\n",
        "print('Train Accuracy', pipeline.score(X_train, y_train))\n",
        "print('Validation Accuracy', pipeline.score(X_val, y_val))\n",
        "y_pred = pipeline.predict(X_test)\n",
        "\n",
        "# Write submission csv file\n",
        "submission = sample_submission.copy()\n",
        "submission['status_group'] = y_pred\n",
        "submission.to_csv('RF_params_set_submission.csv', index=False)"
      ],
      "execution_count": 24,
      "outputs": [
        {
          "output_type": "stream",
          "text": [
            "Train Accuracy 0.8622474747474748\n",
            "Validation Accuracy 0.8067340067340067\n"
          ],
          "name": "stdout"
        }
      ]
    }
  ]
}