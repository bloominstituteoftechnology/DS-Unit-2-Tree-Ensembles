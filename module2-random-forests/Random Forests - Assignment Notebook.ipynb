{
  "nbformat": 4,
  "nbformat_minor": 0,
  "metadata": {
    "kernelspec": {
      "display_name": "Python 3",
      "language": "python",
      "name": "python3"
    },
    "language_info": {
      "codemirror_mode": {
        "name": "ipython",
        "version": 3
      },
      "file_extension": ".py",
      "mimetype": "text/x-python",
      "name": "python",
      "nbconvert_exporter": "python",
      "pygments_lexer": "ipython3",
      "version": "3.7.3"
    },
    "colab": {
      "name": "Random Forests - Assignment Notebook.ipynb",
      "version": "0.3.2",
      "provenance": [],
      "include_colab_link": true
    }
  },
  "cells": [
    {
      "cell_type": "markdown",
      "metadata": {
        "id": "view-in-github",
        "colab_type": "text"
      },
      "source": [
        "<a href=\"https://colab.research.google.com/github/ElisabethShah/DS-Unit-2-Tree-Ensembles/blob/master/module2-random-forests/Random%20Forests%20-%20Assignment%20Notebook.ipynb\" target=\"_parent\"><img src=\"https://colab.research.google.com/assets/colab-badge.svg\" alt=\"Open In Colab\"/></a>"
      ]
    },
    {
      "cell_type": "markdown",
      "metadata": {
        "id": "f6Pi_RIxZ8j4",
        "colab_type": "text"
      },
      "source": [
        "_Lambda School Data Science — Tree Ensembles_ \n",
        "\n",
        "This sprint, your project is about water pumps in Tanzania. Can you predict which water pumps are faulty?"
      ]
    },
    {
      "cell_type": "markdown",
      "metadata": {
        "id": "8Yz_j5X1Z8j6",
        "colab_type": "text"
      },
      "source": [
        "# Random Forests, Ordinal Encoding"
      ]
    },
    {
      "cell_type": "markdown",
      "metadata": {
        "id": "h0kI6KGPhmoy",
        "colab_type": "text"
      },
      "source": [
        "## Objectives\n",
        "\n",
        "* do feature engineering with dates\n",
        "* clean data with outliers\n",
        "* impute missing values\n",
        "* do ordinal encoding with high-cardinality categoricals\n",
        "* use scikit-learn for decision trees & random forests\n",
        "* get and interpret feature importances of a tree-based model\n",
        "* understand how tree ensembles reduce overfitting compared to a single decision tree with unlimited depth\n",
        "* understand how categorical encodings affect trees differently compared to linear models\n",
        "\n"
      ]
    },
    {
      "cell_type": "markdown",
      "metadata": {
        "id": "cMHBgrLXiGRx",
        "colab_type": "text"
      },
      "source": [
        "## Summary \n",
        "\n",
        "**Try Tree Ensembles when you do machine learning with labeled, tabular data**\n",
        "- \"Tree Ensembles\" means Random Forest or Gradient Boosting models. \n",
        "- [Tree Ensembles often have the best predictive accuracy](https://arxiv.org/abs/1708.05070) with labeled, tabular data.\n",
        "- Why? Because trees can fit non-linear, non-[monotonic](https://en.wikipedia.org/wiki/Monotonic_function) relationships, and [interactions](https://christophm.github.io/interpretable-ml-book/interaction.html) between features.\n",
        "- A single decision tree, grown to unlimited depth, will [overfit](http://www.r2d3.us/visual-intro-to-machine-learning-part-1/). We solve this problem by ensembling trees, with bagging (Random Forest) or boosting (Gradient Boosting).\n",
        "- Random Forest's advantage: may be less sensitive to hyperparameters. Gradient Boosting's advantage: may get better predictive accuracy.\n",
        "\n",
        "**One-hot encoding isn’t the only way, and may not be the best way, of categorical encoding for tree ensembles.**\n",
        "- For example, tree ensembles can work with arbitrary \"ordinal\" encoding! (Randomly assigning an integer to each category.) Compared to one-hot encoding, the dimensionality will be lower, and the predictive accuracy may be just as good or even better.\n"
      ]
    },
    {
      "cell_type": "markdown",
      "metadata": {
        "id": "ZCtLrUVlrjOY",
        "colab_type": "text"
      },
      "source": [
        "### Features\n",
        "\n",
        "Your goal is to predict the operating condition of a waterpoint for each record in the dataset. You are provided the following set of information about the waterpoints:\n",
        "\n",
        "- `amount_tsh` : Total static head (amount water available to waterpoint)\n",
        "- `date_recorded` : The date the row was entered\n",
        "- `funder` : Who funded the well\n",
        "- `gps_height` : Altitude of the well\n",
        "- `installer` : Organization that installed the well\n",
        "- `longitude` : GPS coordinate\n",
        "- `latitude` : GPS coordinate\n",
        "- `wpt_name` : Name of the waterpoint if there is one\n",
        "- `num_private` :  \n",
        "- `basin` : Geographic water basin\n",
        "- `subvillage` : Geographic location\n",
        "- `region` : Geographic location\n",
        "- `region_code` : Geographic location (coded)\n",
        "- `district_code` : Geographic location (coded)\n",
        "- `lga` : Geographic location\n",
        "- `ward` : Geographic location\n",
        "- `population` : Population around the well\n",
        "- `public_meeting` : True/False\n",
        "- `recorded_by` : Group entering this row of data\n",
        "- `scheme_management` : Who operates the waterpoint\n",
        "- `scheme_name` : Who operates the waterpoint\n",
        "- `permit` : If the waterpoint is permitted\n",
        "- `construction_year` : Year the waterpoint was constructed\n",
        "- `extraction_type` : The kind of extraction the waterpoint uses\n",
        "- `extraction_type_group` : The kind of extraction the waterpoint uses\n",
        "- `extraction_type_class` : The kind of extraction the waterpoint uses\n",
        "- `management` : How the waterpoint is managed\n",
        "- `management_group` : How the waterpoint is managed\n",
        "- `payment` : What the water costs\n",
        "- `payment_type` : What the water costs\n",
        "- `water_quality` : The quality of the water\n",
        "- `quality_group` : The quality of the water\n",
        "- `quantity` : The quantity of water\n",
        "- `quantity_group` : The quantity of water\n",
        "- `source` : The source of the water\n",
        "- `source_type` : The source of the water\n",
        "- `source_class` : The source of the water\n",
        "- `waterpoint_type` : The kind of waterpoint\n",
        "- `waterpoint_type_group` : The kind of waterpoint"
      ]
    },
    {
      "cell_type": "markdown",
      "metadata": {
        "id": "wxDD2UEjrwGQ",
        "colab_type": "text"
      },
      "source": [
        "### Labels\n",
        "\n",
        "There are three possible values:\n",
        "\n",
        "- `functional` : the waterpoint is operational and there are no repairs needed\n",
        "- `functional needs repair` : the waterpoint is operational, but needs repairs\n",
        "- `non functional` : the waterpoint is not operational"
      ]
    },
    {
      "cell_type": "markdown",
      "metadata": {
        "id": "4sI0bdWjkMjz",
        "colab_type": "text"
      },
      "source": [
        "## Set up environment"
      ]
    },
    {
      "cell_type": "code",
      "metadata": {
        "id": "BWB_1N04kCRk",
        "colab_type": "code",
        "colab": {
          "base_uri": "https://localhost:8080/",
          "height": 239
        },
        "outputId": "373dc2ad-4188-44ae-9d88-3fd9fad1d9ad"
      },
      "source": [
        "# Install dependencies.\n",
        "!pip install category_encoders"
      ],
      "execution_count": 1,
      "outputs": [
        {
          "output_type": "stream",
          "text": [
            "Requirement already satisfied: category_encoders in /usr/local/lib/python3.6/dist-packages (2.0.0)\n",
            "Requirement already satisfied: numpy>=1.11.3 in /usr/local/lib/python3.6/dist-packages (from category_encoders) (1.16.4)\n",
            "Requirement already satisfied: patsy>=0.4.1 in /usr/local/lib/python3.6/dist-packages (from category_encoders) (0.5.1)\n",
            "Requirement already satisfied: scipy>=0.19.0 in /usr/local/lib/python3.6/dist-packages (from category_encoders) (1.3.0)\n",
            "Requirement already satisfied: scikit-learn>=0.20.0 in /usr/local/lib/python3.6/dist-packages (from category_encoders) (0.21.2)\n",
            "Requirement already satisfied: pandas>=0.21.1 in /usr/local/lib/python3.6/dist-packages (from category_encoders) (0.24.2)\n",
            "Requirement already satisfied: statsmodels>=0.6.1 in /usr/local/lib/python3.6/dist-packages (from category_encoders) (0.10.0)\n",
            "Requirement already satisfied: six in /usr/local/lib/python3.6/dist-packages (from patsy>=0.4.1->category_encoders) (1.12.0)\n",
            "Requirement already satisfied: joblib>=0.11 in /usr/local/lib/python3.6/dist-packages (from scikit-learn>=0.20.0->category_encoders) (0.13.2)\n",
            "Requirement already satisfied: python-dateutil>=2.5.0 in /usr/local/lib/python3.6/dist-packages (from pandas>=0.21.1->category_encoders) (2.5.3)\n",
            "Requirement already satisfied: pytz>=2011k in /usr/local/lib/python3.6/dist-packages (from pandas>=0.21.1->category_encoders) (2018.9)\n"
          ],
          "name": "stdout"
        }
      ]
    },
    {
      "cell_type": "code",
      "metadata": {
        "id": "LQUATuIbZ8j9",
        "colab_type": "code",
        "colab": {}
      },
      "source": [
        "# Import libraries.\n",
        "%matplotlib inline\n",
        "\n",
        "import category_encoders as ce\n",
        "import matplotlib.pyplot as plt\n",
        "import numpy as np\n",
        "import pandas as pd\n",
        "import seaborn as sns\n",
        "\n",
        "from sklearn.impute import SimpleImputer\n",
        "from sklearn.model_selection import train_test_split\n",
        "from sklearn.pipeline import make_pipeline\n",
        "from sklearn.preprocessing import RobustScaler\n",
        "from sklearn.tree import DecisionTreeClassifier"
      ],
      "execution_count": 0,
      "outputs": []
    },
    {
      "cell_type": "markdown",
      "metadata": {
        "id": "h7vz7rT-kW3T",
        "colab_type": "text"
      },
      "source": [
        "## Load data"
      ]
    },
    {
      "cell_type": "code",
      "metadata": {
        "id": "6lXNb3R9j-Vu",
        "colab_type": "code",
        "colab": {}
      },
      "source": [
        "# Define data source location.\n",
        "LOCAL = '../data/tanzania/'\n",
        "WEB = ('https://raw.githubusercontent.com/LambdaSchool/'\n",
        "       'DS-Unit-2-Tree-Ensembles/master/data/tanzania/')\n",
        "source = WEB\n",
        "\n",
        "# Merge train_features.csv & train_labels.csv.\n",
        "train = pd.merge(pd.read_csv(source + 'train_features.csv'), \n",
        "                 pd.read_csv(source + 'train_labels.csv'))\n",
        "\n",
        "# Read test_features.csv & sample_submission.csv.\n",
        "test = pd.read_csv(source + 'test_features.csv')\n",
        "sample_submission = pd.read_csv(source + 'sample_submission.csv')\n",
        "\n",
        "# Split train into train & val.\n",
        "train, val = train_test_split(train, train_size=0.80, test_size=0.20, \n",
        "                              stratify=train['status_group'], random_state=0)"
      ],
      "execution_count": 0,
      "outputs": []
    },
    {
      "cell_type": "code",
      "metadata": {
        "id": "S0eogtyKrWLI",
        "colab_type": "code",
        "colab": {
          "base_uri": "https://localhost:8080/",
          "height": 35
        },
        "outputId": "61eb116a-1586-4991-ca53-bf59b3b362d7"
      },
      "source": [
        "# Check data dimensions.\n",
        "train.shape, val.shape, test.shape"
      ],
      "execution_count": 4,
      "outputs": [
        {
          "output_type": "execute_result",
          "data": {
            "text/plain": [
              "((47520, 41), (11880, 41), (14358, 40))"
            ]
          },
          "metadata": {
            "tags": []
          },
          "execution_count": 4
        }
      ]
    },
    {
      "cell_type": "markdown",
      "metadata": {
        "id": "E3euI8AclvOM",
        "colab_type": "text"
      },
      "source": [
        "## Clean and wrangle data"
      ]
    },
    {
      "cell_type": "code",
      "metadata": {
        "id": "IKcTH0BorQmp",
        "colab_type": "code",
        "colab": {}
      },
      "source": [
        "def generate_location_cols(X, grouping, latitude, longitude):\n",
        "  locations = X[[grouping, latitude, longitude]]\n",
        "  locations = locations.groupby([grouping]).mean()\n",
        "  locations = locations.to_dict()\n",
        "  \n",
        "  mean_latitudes = X[grouping].replace(locations['latitude'])\n",
        "  mean_longitudes = X[grouping].replace(locations['longitude'])\n",
        "  \n",
        "  return (mean_latitudes, mean_longitudes)"
      ],
      "execution_count": 0,
      "outputs": []
    },
    {
      "cell_type": "code",
      "metadata": {
        "id": "O0nQw-7DkqVc",
        "colab_type": "code",
        "colab": {}
      },
      "source": [
        "def wrangle(X):\n",
        "    \"\"\"Wrangles train, validate, and test sets in the same way\"\"\"\n",
        "    X = X.copy()\n",
        "\n",
        "    # Convert date_recorded to datetime.\n",
        "    X['date_recorded'] = pd.to_datetime(X['date_recorded'], \n",
        "                                        infer_datetime_format=True)\n",
        "    \n",
        "    # Extract components from date_recorded, then drop the original column.\n",
        "    X['year_recorded'] = X['date_recorded'].dt.year\n",
        "    X['month_recorded'] = X['date_recorded'].dt.month\n",
        "    X['day_recorded'] = X['date_recorded'].dt.day\n",
        "    X = X.drop(columns='date_recorded')\n",
        "    \n",
        "    # Engineer feature: how many years from construction_year to date_recorded.\n",
        "    X['pump_age'] = X['year_recorded'] - X['construction_year']    \n",
        "    \n",
        "    # Drop recorded_by (never varies) and id (always varies, random).\n",
        "    X = X.drop(columns=['recorded_by', 'id'])\n",
        "    \n",
        "    # Drop duplicate columns.\n",
        "    duplicate_columns = ['quantity_group']\n",
        "    X = X.drop(columns=duplicate_columns)\n",
        "    \n",
        "    # About 3% of the time, latitude has small values near zero,\n",
        "    # outside Tanzania, so we'll treat these like null values.\n",
        "    X['latitude'] = X['latitude'].replace(-2e-08, np.nan)\n",
        "    \n",
        "    # When columns have zeros and shouldn't, they are like null values.\n",
        "    cols_with_zeros = ['construction_year', \n",
        "                       'longitude', \n",
        "                       'latitude', \n",
        "                       'gps_height', \n",
        "                       'population']\n",
        "    for col in cols_with_zeros:\n",
        "        X[col] = X[col].replace(0, np.nan)\n",
        "        \n",
        "    # Add median latitude and longtitude values for geographic groupings.\n",
        "    X['ward_lat'], X['ward_long'] = generate_location_cols(X, \n",
        "                                                           'ward',\n",
        "                                                           'latitude',\n",
        "                                                           'longitude')\n",
        "    X['lga_lat'], X['lga_long'] = generate_location_cols(X, \n",
        "                                                         'lga',\n",
        "                                                         'latitude',\n",
        "                                                         'longitude')\n",
        "    X['region_lat'], X['region_long'] = generate_location_cols(X, \n",
        "                                                               'region',\n",
        "                                                               'latitude',\n",
        "                                                               'longitude')\n",
        "    \n",
        "    # Impute missing latitude values.\n",
        "    X['latitude'] = X['latitude'].fillna(X['ward_lat'])\n",
        "    X['latitude'] = X['latitude'].fillna(X['lga_lat'])\n",
        "    X['latitude'] = X['latitude'].fillna(X['region_lat'])\n",
        "    X['latitude'] = X['latitude'].mean()\n",
        "    \n",
        "    # Impute missing longitude values.\n",
        "    X['longitude'] = X['longitude'].fillna(X['ward_long'])\n",
        "    X['longitude'] = X['longitude'].fillna(X['lga_long'])\n",
        "    X['longitude'] = X['longitude'].fillna(X['region_long'])\n",
        "    X['longitude'] = X['longitude'].mean()\n",
        "\n",
        "    return X"
      ],
      "execution_count": 0,
      "outputs": []
    },
    {
      "cell_type": "code",
      "metadata": {
        "id": "mRY2axovlt0M",
        "colab_type": "code",
        "colab": {}
      },
      "source": [
        "train = wrangle(train)\n",
        "val = wrangle(val)\n",
        "test = wrangle(test)"
      ],
      "execution_count": 0,
      "outputs": []
    },
    {
      "cell_type": "code",
      "metadata": {
        "id": "FeT6-gptl2zr",
        "colab_type": "code",
        "colab": {}
      },
      "source": [
        ""
      ],
      "execution_count": 0,
      "outputs": []
    }
  ]
}