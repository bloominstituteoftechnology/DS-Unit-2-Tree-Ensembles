{
 "cells": [
  {
   "cell_type": "code",
   "execution_count": 2,
   "metadata": {},
   "outputs": [],
   "source": [
    "%matplotlib inline\n",
    "import category_encoders as ce\n",
    "import matplotlib.pyplot as plt\n",
    "import numpy as np\n",
    "import pandas as pd\n",
    "#import seaborn as sns\n",
    "#import graphviz\n",
    "from sklearn.impute import SimpleImputer\n",
    "from sklearn.model_selection import train_test_split\n",
    "from sklearn.pipeline import make_pipeline\n",
    "#from sklearn.preprocessing import RobustScaler\n",
    "from sklearn.tree import DecisionTreeClassifier\n",
    "#from sklearn.tree import export_graphviz\n",
    "from sklearn.ensemble import RandomForestClassifier\n",
    "from sklearn.pipeline import make_pipeline"
   ]
  },
  {
   "cell_type": "code",
   "execution_count": 3,
   "metadata": {},
   "outputs": [],
   "source": [
    "LOCAL = '../data/tanzania/'\n",
    "source = LOCAL\n",
    "\n",
    "# Merge train_features.csv & train_labels.csv\n",
    "train = pd.merge(pd.read_csv(source + 'train_features.csv'), \n",
    "                 pd.read_csv(source + 'train_labels.csv'))\n",
    "\n",
    "# Read test_features.csv & sample_submission.csv\n",
    "test = pd.read_csv(source + 'test_features.csv')\n",
    "sample_submission = pd.read_csv(source + 'sample_submission.csv')\n",
    "\n",
    "# Split train into train & val\n",
    "train, val = train_test_split(train, train_size=0.80, test_size=0.20, \n",
    "                              stratify=train['status_group'], random_state=42)\n"
   ]
  },
  {
   "cell_type": "code",
   "execution_count": 4,
   "metadata": {},
   "outputs": [],
   "source": [
    "def wrangle(x):\n",
    "    \n",
    "    x = x.copy()\n",
    "\n",
    "    # Convert date_recorded to datetime\n",
    "    x['date_recorded_ts'] = pd.to_datetime(x['date_recorded'], infer_datetime_format=True)\n",
    "    \n",
    "    # Extract components from date_recorded, then drop the original column\n",
    "    x['year'] = x['date_recorded_ts'].dt.year\n",
    "    x['month'] = x['date_recorded_ts'].dt.month\n",
    "    x['day'] = x['date_recorded_ts'].dt.day\n",
    "    \n",
    "    \n",
    "    # Engineer feature: how many years from construction_year to date_recorded\n",
    "    x['age'] = x['year'] - x['construction_year']    \n",
    "    \n",
    "    # Drop recorded_by (never varies) and id (always varies, random)\n",
    "    x = x.drop(columns=['recorded_by', 'id'])\n",
    "    \n",
    "    # Drop duplicate columns\n",
    "    duplicate_columns = ['quantity_group']\n",
    "    x = x.drop(columns=duplicate_columns)\n",
    "    \n",
    "    # About 3% of the time, latitude has small values near zero,\n",
    "    # outside Tanzania, so we'll treat these like null values\n",
    "    x['latitude'] = x['latitude'].replace(-2e-08, np.nan)\n",
    "    \n",
    "    # When columns have zeros and shouldn't, they are like null values\n",
    "    cols_with_zeros = ['construction_year', 'longitude', 'latitude', 'gps_height', 'population']\n",
    "    for col in cols_with_zeros:\n",
    "        x[col] = x[col].replace(0, np.nan)\n",
    "\n",
    "    return x\n",
    "\n",
    "train = wrangle(train)\n",
    "val = wrangle(val)\n",
    "test = wrangle(test)"
   ]
  },
  {
   "cell_type": "code",
   "execution_count": 5,
   "metadata": {},
   "outputs": [
    {
     "data": {
      "text/plain": [
       "Index(['amount_tsh', 'date_recorded', 'funder', 'gps_height', 'installer',\n",
       "       'longitude', 'latitude', 'wpt_name', 'num_private', 'basin',\n",
       "       'subvillage', 'region', 'region_code', 'district_code', 'lga', 'ward',\n",
       "       'population', 'public_meeting', 'scheme_management', 'scheme_name',\n",
       "       'permit', 'construction_year', 'extraction_type',\n",
       "       'extraction_type_group', 'extraction_type_class', 'management',\n",
       "       'management_group', 'payment', 'payment_type', 'water_quality',\n",
       "       'quality_group', 'quantity', 'source', 'source_type', 'source_class',\n",
       "       'waterpoint_type', 'waterpoint_type_group', 'status_group',\n",
       "       'date_recorded_ts', 'year', 'month', 'day', 'age'],\n",
       "      dtype='object')"
      ]
     },
     "execution_count": 5,
     "metadata": {},
     "output_type": "execute_result"
    }
   ],
   "source": [
    "train.columns"
   ]
  },
  {
   "cell_type": "code",
   "execution_count": 6,
   "metadata": {},
   "outputs": [
    {
     "data": {
      "text/plain": [
       "'wpt_name                 30661\\nsubvillage               17231\\nscheme_name               2563\\nward                      2082\\ninstaller                 1929\\nfunder                    1716\\ndate_recorded              349\\nlga                        124\\n'"
      ]
     },
     "execution_count": 6,
     "metadata": {},
     "output_type": "execute_result"
    }
   ],
   "source": [
    "# The status_group column is the target\n",
    "target = 'status_group'\n",
    "\n",
    "\n",
    "\n",
    "features = ['amount_tsh', 'date_recorded', 'funder', 'gps_height', 'installer',\n",
    "       'longitude', 'latitude', 'wpt_name', 'num_private', 'basin',\n",
    "       'subvillage', 'region', 'region_code', 'district_code', 'lga', 'ward',\n",
    "       'population', 'public_meeting', 'scheme_management', 'scheme_name',\n",
    "       'permit', 'construction_year', 'extraction_type',\n",
    "       'extraction_type_group', 'extraction_type_class', 'management',\n",
    "       'management_group', 'payment', 'payment_type', 'water_quality',\n",
    "       'quality_group', 'quantity', 'source', 'source_type', 'source_class',\n",
    "       'waterpoint_type', 'waterpoint_type_group', \n",
    "       'year', 'month', 'day', 'age']\n",
    "\n",
    "     \n",
    "#Excluded # RF doesent support ts var date_recorded_ts , status_group\n",
    "\n",
    "\n",
    "#High cardinality\n",
    "'''wpt_name                 30661\n",
    "subvillage               17231\n",
    "scheme_name               2563\n",
    "ward                      2082\n",
    "installer                 1929\n",
    "funder                    1716\n",
    "date_recorded              349\n",
    "lga                        124\n",
    "'''"
   ]
  },
  {
   "cell_type": "code",
   "execution_count": 7,
   "metadata": {},
   "outputs": [],
   "source": [
    "x_train = train[features]\n",
    "y_train = train[target]\n",
    "x_val = val[features]\n",
    "y_val = val[target]\n",
    "x_test = test[features]"
   ]
  },
  {
   "cell_type": "code",
   "execution_count": 8,
   "metadata": {},
   "outputs": [],
   "source": [
    "\n",
    "pipeline = make_pipeline(\n",
    "    ce.OrdinalEncoder(), \n",
    "    SimpleImputer(strategy='median'), \n",
    "    RandomForestClassifier(n_estimators=1000,  n_jobs=-1))\n",
    "# all 0.8135521885521886 0.8144781144781145 .8146464646464646 0.8142255892255892 0.8136363636363636\n"
   ]
  },
  {
   "cell_type": "code",
   "execution_count": 9,
   "metadata": {},
   "outputs": [
    {
     "name": "stdout",
     "output_type": "stream",
     "text": [
      "Validation Accuracy 0.8143939393939394\n",
      "CPU times: user 2min 44s, sys: 1.29 s, total: 2min 45s\n",
      "Wall time: 13.3 s\n"
     ]
    }
   ],
   "source": [
    "%%time\n",
    "\n",
    "# Fit on train, score on val\n",
    "pipeline.fit(x_train, y_train)\n",
    "\n",
    "print('Validation Accuracy', pipeline.score(x_val, y_val))\n",
    "\n"
   ]
  },
  {
   "cell_type": "code",
   "execution_count": 10,
   "metadata": {},
   "outputs": [
    {
     "data": {
      "image/png": "[encoded data removed]",
      "text/plain": [
       "<Figure size 720x1476 with 1 Axes>"
      ]
     },
     "metadata": {
      "needs_background": "light"
     },
     "output_type": "display_data"
    }
   ],
   "source": [
    "# TODO\n",
    "\n",
    "# Get feature importances\n",
    "rf = pipeline.named_steps['randomforestclassifier']\n",
    "importances = pd.Series(rf.feature_importances_, x_train.columns)\n",
    "\n",
    "# Plot feature importances\n",
    "n = 41\n",
    "plt.figure(figsize=(10,n/2))\n",
    "plt.title(f'Top {n} features')\n",
    "importances.sort_values()[-n:].plot.barh(color='grey');\n"
   ]
  },
  {
   "cell_type": "code",
   "execution_count": 11,
   "metadata": {},
   "outputs": [
    {
     "data": {
      "text/plain": [
       "wpt_name                 30661\n",
       "subvillage               17231\n",
       "scheme_name               2563\n",
       "ward                      2082\n",
       "installer                 1929\n",
       "funder                    1716\n",
       "date_recorded              349\n",
       "lga                        124\n",
       "region                      21\n",
       "extraction_type             18\n",
       "extraction_type_group       13\n",
       "scheme_management           12\n",
       "management                  12\n",
       "source                      10\n",
       "basin                        9\n",
       "water_quality                8\n",
       "payment_type                 7\n",
       "extraction_type_class        7\n",
       "waterpoint_type              7\n",
       "source_type                  7\n",
       "payment                      7\n",
       "waterpoint_type_group        6\n",
       "quality_group                6\n",
       "quantity                     5\n",
       "management_group             5\n",
       "source_class                 3\n",
       "public_meeting               2\n",
       "permit                       2\n",
       "dtype: int64"
      ]
     },
     "execution_count": 11,
     "metadata": {},
     "output_type": "execute_result"
    }
   ],
   "source": [
    "x_train.select_dtypes(exclude='number').nunique().sort_values(ascending=False)"
   ]
  },
  {
   "cell_type": "code",
   "execution_count": 13,
   "metadata": {},
   "outputs": [],
   "source": [
    "\n",
    "y_pred = pipeline.predict(x_test)\n",
    "\n",
    "# Write submission csv file\n",
    "submission = sample_submission.copy()\n",
    "submission['status_group'] = y_pred\n",
    "submission.to_csv('submission-05.csv', index=False)"
   ]
  },
  {
   "cell_type": "code",
   "execution_count": 15,
   "metadata": {},
   "outputs": [
    {
     "name": "stdout",
     "output_type": "stream",
     "text": [
      "100%|████████████████████████████████████████| 264k/264k [00:03<00:00, 75.5kB/s]\n",
      "Successfully submitted to DS5 Predictive Modeling Challenge"
     ]
    }
   ],
   "source": [
    "! kaggle competitions submit -c ds5-predictive-modeling-challenge -f submission-05.csv -m \"Random Forest\"\n"
   ]
  },
  {
   "cell_type": "code",
   "execution_count": null,
   "metadata": {},
   "outputs": [],
   "source": []
  }
 ],
 "metadata": {
  "kernelspec": {
   "display_name": "Python 3",
   "language": "python",
   "name": "python3"
  },
  "language_info": {
   "codemirror_mode": {
    "name": "ipython",
    "version": 3
   },
   "file_extension": ".py",
   "mimetype": "text/x-python",
   "name": "python",
   "nbconvert_exporter": "python",
   "pygments_lexer": "ipython3",
   "version": "3.7.3"
  }
 },
 "nbformat": 4,
 "nbformat_minor": 2
}
