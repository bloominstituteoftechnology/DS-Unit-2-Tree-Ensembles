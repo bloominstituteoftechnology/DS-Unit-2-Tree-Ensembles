{
  "nbformat": 4,
  "nbformat_minor": 0,
  "metadata": {
    "colab": {
      "name": "gh_222_kaggle_random_forests.ipynb",
      "version": "0.3.2",
      "provenance": []
    },
    "kernelspec": {
      "name": "python3",
      "display_name": "Python 3"
    },
    "accelerator": "GPU"
  },
  "cells": [
    {
      "cell_type": "markdown",
      "metadata": {
        "id": "7-t2a0xWjy8n",
        "colab_type": "text"
      },
      "source": [
        "# Assignment\n",
        "- Start a clean notebook, or continue with yesterday's assignment notebook.\n",
        "- Continue to participate in our Kaggle competition with the Tanzania Waterpumps data. \n",
        "- Do more exploratory data analysis, data cleaning, feature engineering, and feature selection.\n",
        "- Try a Random Forest Classifier. \n",
        "- Try Ordinal Encoding.\n",
        "- Submit new predictions.\n",
        "- Commit your notebook to your fork of the GitHub repo.\n",
        "\n",
        "## Stretch Goals\n",
        "- Create visualizations and share on Slack.\n",
        "- Read more about decision trees and tree ensembles. You can start with the links at the top & bottom of this notebook:"
      ]
    },
    {
      "cell_type": "code",
      "metadata": {
        "id": "8B-JMFSvo1bl",
        "colab_type": "code",
        "colab": {
          "base_uri": "https://localhost:8080/",
          "height": 202
        },
        "outputId": "021da71b-fc3a-45aa-f658-d3907baa60a2"
      },
      "source": [
        "!pip install category_encoders"
      ],
      "execution_count": 1,
      "outputs": [
        {
          "output_type": "stream",
          "text": [
            "Requirement already satisfied: category_encoders in /usr/local/lib/python3.6/dist-packages (2.0.0)\n",
            "Requirement already satisfied: numpy>=1.11.3 in /usr/local/lib/python3.6/dist-packages (from category_encoders) (1.16.4)\n",
            "Requirement already satisfied: scipy>=0.19.0 in /usr/local/lib/python3.6/dist-packages (from category_encoders) (1.3.0)\n",
            "Requirement already satisfied: statsmodels>=0.6.1 in /usr/local/lib/python3.6/dist-packages (from category_encoders) (0.10.0)\n",
            "Requirement already satisfied: patsy>=0.4.1 in /usr/local/lib/python3.6/dist-packages (from category_encoders) (0.5.1)\n",
            "Requirement already satisfied: pandas>=0.21.1 in /usr/local/lib/python3.6/dist-packages (from category_encoders) (0.24.2)\n",
            "Requirement already satisfied: scikit-learn>=0.20.0 in /usr/local/lib/python3.6/dist-packages (from category_encoders) (0.21.2)\n",
            "Requirement already satisfied: six in /usr/local/lib/python3.6/dist-packages (from patsy>=0.4.1->category_encoders) (1.12.0)\n",
            "Requirement already satisfied: pytz>=2011k in /usr/local/lib/python3.6/dist-packages (from pandas>=0.21.1->category_encoders) (2018.9)\n",
            "Requirement already satisfied: python-dateutil>=2.5.0 in /usr/local/lib/python3.6/dist-packages (from pandas>=0.21.1->category_encoders) (2.5.3)\n",
            "Requirement already satisfied: joblib>=0.11 in /usr/local/lib/python3.6/dist-packages (from scikit-learn>=0.20.0->category_encoders) (0.13.2)\n"
          ],
          "name": "stdout"
        }
      ]
    },
    {
      "cell_type": "code",
      "metadata": {
        "id": "P0-aLz8QpJD0",
        "colab_type": "code",
        "colab": {
          "base_uri": "https://localhost:8080/",
          "height": 34
        },
        "outputId": "64c4680c-3bed-49d3-a356-9b537479ab03"
      },
      "source": [
        "!pip install graphviz"
      ],
      "execution_count": 2,
      "outputs": [
        {
          "output_type": "stream",
          "text": [
            "Requirement already satisfied: graphviz in /usr/local/lib/python3.6/dist-packages (0.10.1)\n"
          ],
          "name": "stdout"
        }
      ]
    },
    {
      "cell_type": "code",
      "metadata": {
        "id": "41wSF1WDpLsE",
        "colab_type": "code",
        "colab": {
          "base_uri": "https://localhost:8080/",
          "height": 151
        },
        "outputId": "35f86e46-bb3b-41d7-de58-47e0e114d671"
      },
      "source": [
        "!apt-get install graphviz"
      ],
      "execution_count": 3,
      "outputs": [
        {
          "output_type": "stream",
          "text": [
            "Reading package lists... Done\n",
            "Building dependency tree       \n",
            "Reading state information... Done\n",
            "graphviz is already the newest version (2.40.1-2).\n",
            "The following package was automatically installed and is no longer required:\n",
            "  libnvidia-common-410\n",
            "Use 'apt autoremove' to remove it.\n",
            "0 upgraded, 0 newly installed, 0 to remove and 4 not upgraded.\n"
          ],
          "name": "stdout"
        }
      ]
    },
    {
      "cell_type": "code",
      "metadata": {
        "id": "ADn0SSfcpREE",
        "colab_type": "code",
        "colab": {}
      },
      "source": [
        "%matplotlib inline\n",
        "import category_encoders as ce\n",
        "import matplotlib.pyplot as plt\n",
        "import numpy as np\n",
        "import pandas as pd\n",
        "import seaborn as sns\n",
        "from sklearn.impute import SimpleImputer\n",
        "from sklearn.model_selection import train_test_split\n",
        "from sklearn.pipeline import make_pipeline\n",
        "from sklearn.preprocessing import RobustScaler\n",
        "from sklearn.tree import DecisionTreeClassifier\n",
        "from sklearn.ensemble import RandomForestClassifier\n",
        "from sklearn.feature_selection import RFE"
      ],
      "execution_count": 0,
      "outputs": []
    },
    {
      "cell_type": "code",
      "metadata": {
        "id": "dr9StXMzpNm2",
        "colab_type": "code",
        "colab": {}
      },
      "source": [
        "LOCAL = '../data/tanzania/'\n",
        "WEB = 'https://raw.githubusercontent.com/LambdaSchool/DS-Unit-2-Tree-Ensembles/master/data/tanzania/'\n",
        "\n",
        "# Merge train_features.csv & train_labels.csv\n",
        "train = pd.merge(pd.read_csv(WEB + 'train_features.csv'), \n",
        "                 pd.read_csv(WEB + 'train_labels.csv'))\n",
        "\n",
        "# Read test_features.csv & sample_submission.csv\n",
        "test = pd.read_csv(WEB + 'test_features.csv')\n",
        "sample_submission = pd.read_csv(WEB + 'sample_submission.csv')\n",
        "\n",
        "# Split train into train & val\n",
        "train, val = train_test_split(train, train_size=0.80, test_size=0.20, \n",
        "                              stratify=train['status_group'], random_state=42)"
      ],
      "execution_count": 0,
      "outputs": []
    },
    {
      "cell_type": "code",
      "metadata": {
        "id": "8RA7VhCspaBr",
        "colab_type": "code",
        "colab": {}
      },
      "source": [
        "def wrangle(X):\n",
        "    \"\"\"Wrangles train, validate, and test sets in the same way\"\"\"\n",
        "    X = X.copy()\n",
        "    \n",
        "    # Convert date_recorded to datetime\n",
        "    X['date_recorded'] = pd.to_datetime(X['date_recorded'], infer_datetime_format=True)    \n",
        "    # Extract components from date_recorded\n",
        "    X['year_recorded'] = X['date_recorded'].dt.year\n",
        "    X['month_recorded'] = X['date_recorded'].dt.month\n",
        "    X['day_recorded'] = X['date_recorded'].dt.day\n",
        "    \n",
        "    # Engineer feature: how many years from construction_year to date_recorded\n",
        "    X['years'] = X['year_recorded'] - X['construction_year']    \n",
        "    \n",
        "    # About 3% of the time, latitude has small values near zero,\n",
        "    # outside Tanzania, so we'll treat these like null values\n",
        "    X['latitude'] = X['latitude'].replace(-2e-08, np.nan)\n",
        "    \n",
        "    # When columns have zeros and shouldn't, they are like null values\n",
        "    cols_with_zeros = ['construction_year', 'longitude', 'latitude', 'gps_height', 'population']\n",
        "    for col in cols_with_zeros:\n",
        "        X[col] = X[col].replace(0, np.nan)\n",
        "    \n",
        "    # Drop recorded_by (never varies) and id (always varies, random)\n",
        "    # Drop quantity_group (duplicate columns)\n",
        "    # Drop date_recorded (datetime doesn't get work well in analysis)\n",
        "    X = X.drop(columns=['recorded_by', 'id','date_recorded','quantity_group'])\n",
        "    \n",
        "    return X\n",
        "\n",
        "train = wrangle(train)\n",
        "val = wrangle(val)\n",
        "test = wrangle(test)"
      ],
      "execution_count": 0,
      "outputs": []
    },
    {
      "cell_type": "code",
      "metadata": {
        "id": "0a4_GFISqHVE",
        "colab_type": "code",
        "colab": {}
      },
      "source": [
        "# The status_group column is the target\n",
        "target = 'status_group'\n",
        "\n",
        "# Get a dataframe with all train columns except the target\n",
        "train_features = train.drop(columns=[target])\n",
        "\n",
        "# Get a list of the numeric features\n",
        "numeric_features = train_features.select_dtypes(include='number').columns.tolist()\n",
        "\n",
        "# Get a series with the cardinality of the nonnumeric features\n",
        "cardinality = train_features.select_dtypes(exclude='number').nunique()\n",
        "\n",
        "# Get a list of all categorical features with cardinality <= 50\n",
        "categorical_features = cardinality[cardinality <= 50].index.tolist()\n",
        "\n",
        "# Combine the lists \n",
        "features = numeric_features + categorical_features"
      ],
      "execution_count": 0,
      "outputs": []
    },
    {
      "cell_type": "markdown",
      "metadata": {
        "id": "6Xwd0K9QuWlF",
        "colab_type": "text"
      },
      "source": [
        "## DecisionTreeClassifier & OneHotEncoder"
      ]
    },
    {
      "cell_type": "code",
      "metadata": {
        "id": "lRB5kU2mrYW7",
        "colab_type": "code",
        "colab": {
          "base_uri": "https://localhost:8080/",
          "height": 67
        },
        "outputId": "db2538fa-9e89-4262-dd35-b01c47da3c77"
      },
      "source": [
        "%%time\n",
        "target = 'status_group'\n",
        "train_features = train.drop(columns=[target])\n",
        "numeric_features = train_features.select_dtypes(include='number').columns.tolist()\n",
        "categorical_features = train_features.describe(exclude='number').T.query('unique <= 50').index.tolist()\n",
        "features = numeric_features + categorical_features\n",
        "\n",
        "# Make pipeline!\n",
        "pipeline = make_pipeline(\n",
        "    ce.OneHotEncoder(use_cat_names=True), \n",
        "    SimpleImputer(strategy='median'), \n",
        "    DecisionTreeClassifier(max_depth=20, random_state=42)\n",
        ")\n",
        "\n",
        "# Arrange data into X features matrix and y target vector \n",
        "X_train = train[features]\n",
        "y_train = train[target]\n",
        "X_val = val[features]\n",
        "y_val = val[target]\n",
        "X_test = test[features]\n",
        "\n",
        "# Fit on train, score on val, predict on test\n",
        "pipeline.fit(X_train, y_train)\n",
        "print('Validation Accuracy', pipeline.score(X_val, y_val))\n",
        "y_pred = pipeline.predict(X_test)"
      ],
      "execution_count": 42,
      "outputs": [
        {
          "output_type": "stream",
          "text": [
            "Validation Accuracy 0.7712121212121212\n",
            "CPU times: user 6.41 s, sys: 151 ms, total: 6.56 s\n",
            "Wall time: 6.57 s\n"
          ],
          "name": "stdout"
        }
      ]
    },
    {
      "cell_type": "code",
      "metadata": {
        "id": "iOGz0k8VsS7H",
        "colab_type": "code",
        "colab": {
          "base_uri": "https://localhost:8080/",
          "height": 607
        },
        "outputId": "e0422c81-286c-4c04-b270-c5f02f1abd36"
      },
      "source": [
        "# Get feature importances\n",
        "encoder = pipeline.named_steps['onehotencoder']\n",
        "tree = pipeline.named_steps['decisiontreeclassifier']\n",
        "feature_names = encoder.transform(X_val).columns\n",
        "importances = pd.Series(tree.feature_importances_, feature_names)\n",
        "\n",
        "# Plot feature importances\n",
        "n = 20\n",
        "plt.figure(figsize=(10,n/2))\n",
        "plt.title(f'Top {n} features')\n",
        "importances.sort_values()[-n:].plot.barh(color='grey');"
      ],
      "execution_count": 23,
      "outputs": [
        {
          "output_type": "display_data",
          "data": {
            "image/png": "[encoded data removed]",
            "text/plain": [
              "<Figure size 720x720 with 1 Axes>"
            ]
          },
          "metadata": {
            "tags": []
          }
        }
      ]
    },
    {
      "cell_type": "code",
      "metadata": {
        "id": "dlNh3QLoucfV",
        "colab_type": "code",
        "colab": {
          "base_uri": "https://localhost:8080/",
          "height": 584
        },
        "outputId": "b1d33614-829b-4b24-b13d-7fc02136d7fb"
      },
      "source": [
        "import graphviz\n",
        "from sklearn.tree import export_graphviz\n",
        "\n",
        "dot_data = export_graphviz(tree, \n",
        "                           out_file=None, \n",
        "                           max_depth=2, \n",
        "                           feature_names=feature_names, \n",
        "                           class_names=tree.classes_, \n",
        "                           impurity=False, \n",
        "                           filled=True, \n",
        "                           proportion=True, \n",
        "                           rotate=True, \n",
        "                           rounded=True)\n",
        "\n",
        "graphviz.Source(dot_data)"
      ],
      "execution_count": 43,
      "outputs": [
        {
          "output_type": "execute_result",
          "data": {
            "text/plain": [
              "<graphviz.files.Source at 0x7f896a4be160>"
            ],
            "image/svg+xml": "<?xml version=\"1.0\" encoding=\"UTF-8\" standalone=\"no\"?>\n<!DOCTYPE svg PUBLIC \"-//W3C//DTD SVG 1.1//EN\"\n \"http://www.w3.org/Graphics/SVG/1.1/DTD/svg11.dtd\">\n<!-- Generated by graphviz version 2.40.1 (20161225.0304)\n -->\n<!-- Title: Tree Pages: 1 -->\n<svg width=\"868pt\" height=\"422pt\"\n viewBox=\"0.00 0.00 868.00 422.00\" xmlns=\"http://www.w3.org/2000/svg\" xmlns:xlink=\"http://www.w3.org/1999/xlink\">\n<g id=\"graph0\" class=\"graph\" transform=\"scale(1 1) rotate(0) translate(4 418)\">\n<title>Tree</title>\n<polygon fill=\"#ffffff\" stroke=\"transparent\" points=\"-4,4 -4,-418 864,-418 864,4 -4,4\"/>\n<!-- 0 -->\n<g id=\"node1\" class=\"node\">\n<title>0</title>\n<path fill=\"#f8decc\" stroke=\"#000000\" d=\"M188,-247C188,-247 12,-247 12,-247 6,-247 0,-241 0,-235 0,-235 0,-191 0,-191 0,-185 6,-179 12,-179 12,-179 188,-179 188,-179 194,-179 200,-185 200,-191 200,-191 200,-235 200,-235 200,-241 194,-247 188,-247\"/>\n<text text-anchor=\"middle\" x=\"100\" y=\"-231.8\" font-family=\"Helvetica,sans-Serif\" font-size=\"14.00\" fill=\"#000000\">quantity_dry &lt;= 0.5</text>\n<text text-anchor=\"middle\" x=\"100\" y=\"-216.8\" font-family=\"Helvetica,sans-Serif\" font-size=\"14.00\" fill=\"#000000\">samples = 100.0%</text>\n<text text-anchor=\"middle\" x=\"100\" y=\"-201.8\" font-family=\"Helvetica,sans-Serif\" font-size=\"14.00\" fill=\"#000000\">value = [0.543, 0.073, 0.384]</text>\n<text text-anchor=\"middle\" x=\"100\" y=\"-186.8\" font-family=\"Helvetica,sans-Serif\" font-size=\"14.00\" fill=\"#000000\">class = functional</text>\n</g>\n<!-- 1 -->\n<g id=\"node2\" class=\"node\">\n<title>1</title>\n<path fill=\"#f4caac\" stroke=\"#000000\" d=\"M475,-287C475,-287 248,-287 248,-287 242,-287 236,-281 236,-275 236,-275 236,-231 236,-231 236,-225 242,-219 248,-219 248,-219 475,-219 475,-219 481,-219 487,-225 487,-231 487,-231 487,-275 487,-275 487,-281 481,-287 475,-287\"/>\n<text text-anchor=\"middle\" x=\"361.5\" y=\"-271.8\" font-family=\"Helvetica,sans-Serif\" font-size=\"14.00\" fill=\"#000000\">waterpoint_type_group_other &lt;= 0.5</text>\n<text text-anchor=\"middle\" x=\"361.5\" y=\"-256.8\" font-family=\"Helvetica,sans-Serif\" font-size=\"14.00\" fill=\"#000000\">samples = 89.6%</text>\n<text text-anchor=\"middle\" x=\"361.5\" y=\"-241.8\" font-family=\"Helvetica,sans-Serif\" font-size=\"14.00\" fill=\"#000000\">value = [0.603, 0.08, 0.317]</text>\n<text text-anchor=\"middle\" x=\"361.5\" y=\"-226.8\" font-family=\"Helvetica,sans-Serif\" font-size=\"14.00\" fill=\"#000000\">class = functional</text>\n</g>\n<!-- 0&#45;&gt;1 -->\n<g id=\"edge1\" class=\"edge\">\n<title>0&#45;&gt;1</title>\n<path fill=\"none\" stroke=\"#000000\" d=\"M200.3549,-228.3506C208.7402,-229.6333 217.3022,-230.943 225.8921,-232.2569\"/>\n<polygon fill=\"#000000\" stroke=\"#000000\" points=\"225.5656,-235.7476 235.9799,-233.8 226.6241,-228.8281 225.5656,-235.7476\"/>\n<text text-anchor=\"middle\" x=\"215.8325\" y=\"-244.9014\" font-family=\"Helvetica,sans-Serif\" font-size=\"14.00\" fill=\"#000000\">True</text>\n</g>\n<!-- 8560 -->\n<g id=\"node9\" class=\"node\">\n<title>8560</title>\n<path fill=\"#8540e6\" stroke=\"#000000\" d=\"M449.5,-198C449.5,-198 273.5,-198 273.5,-198 267.5,-198 261.5,-192 261.5,-186 261.5,-186 261.5,-142 261.5,-142 261.5,-136 267.5,-130 273.5,-130 273.5,-130 449.5,-130 449.5,-130 455.5,-130 461.5,-136 461.5,-142 461.5,-142 461.5,-186 461.5,-186 461.5,-192 455.5,-198 449.5,-198\"/>\n<text text-anchor=\"middle\" x=\"361.5\" y=\"-182.8\" font-family=\"Helvetica,sans-Serif\" font-size=\"14.00\" fill=\"#000000\">region_Mwanza &lt;= 0.5</text>\n<text text-anchor=\"middle\" x=\"361.5\" y=\"-167.8\" font-family=\"Helvetica,sans-Serif\" font-size=\"14.00\" fill=\"#000000\">samples = 10.4%</text>\n<text text-anchor=\"middle\" x=\"361.5\" y=\"-152.8\" font-family=\"Helvetica,sans-Serif\" font-size=\"14.00\" fill=\"#000000\">value = [0.026, 0.006, 0.968]</text>\n<text text-anchor=\"middle\" x=\"361.5\" y=\"-137.8\" font-family=\"Helvetica,sans-Serif\" font-size=\"14.00\" fill=\"#000000\">class = non functional</text>\n</g>\n<!-- 0&#45;&gt;8560 -->\n<g id=\"edge8\" class=\"edge\">\n<title>0&#45;&gt;8560</title>\n<path fill=\"none\" stroke=\"#000000\" d=\"M200.3549,-194.1955C217.0907,-191.0595 234.5299,-187.7917 251.4912,-184.6135\"/>\n<polygon fill=\"#000000\" stroke=\"#000000\" points=\"252.2294,-188.0362 261.4137,-182.7542 250.9401,-181.1559 252.2294,-188.0362\"/>\n<text text-anchor=\"middle\" x=\"240.7826\" y=\"-164.9347\" font-family=\"Helvetica,sans-Serif\" font-size=\"14.00\" fill=\"#000000\">False</text>\n</g>\n<!-- 2 -->\n<g id=\"node3\" class=\"node\">\n<title>2</title>\n<path fill=\"#f1bd98\" stroke=\"#000000\" d=\"M734.5,-376C734.5,-376 558.5,-376 558.5,-376 552.5,-376 546.5,-370 546.5,-364 546.5,-364 546.5,-320 546.5,-320 546.5,-314 552.5,-308 558.5,-308 558.5,-308 734.5,-308 734.5,-308 740.5,-308 746.5,-314 746.5,-320 746.5,-320 746.5,-364 746.5,-364 746.5,-370 740.5,-376 734.5,-376\"/>\n<text text-anchor=\"middle\" x=\"646.5\" y=\"-360.8\" font-family=\"Helvetica,sans-Serif\" font-size=\"14.00\" fill=\"#000000\">years &lt;= 26.5</text>\n<text text-anchor=\"middle\" x=\"646.5\" y=\"-345.8\" font-family=\"Helvetica,sans-Serif\" font-size=\"14.00\" fill=\"#000000\">samples = 81.1%</text>\n<text text-anchor=\"middle\" x=\"646.5\" y=\"-330.8\" font-family=\"Helvetica,sans-Serif\" font-size=\"14.00\" fill=\"#000000\">value = [0.649, 0.083, 0.268]</text>\n<text text-anchor=\"middle\" x=\"646.5\" y=\"-315.8\" font-family=\"Helvetica,sans-Serif\" font-size=\"14.00\" fill=\"#000000\">class = functional</text>\n</g>\n<!-- 1&#45;&gt;2 -->\n<g id=\"edge2\" class=\"edge\">\n<title>1&#45;&gt;2</title>\n<path fill=\"none\" stroke=\"#000000\" d=\"M470.4662,-287.028C492.231,-293.8248 515.1022,-300.967 536.8886,-307.7705\"/>\n<polygon fill=\"#000000\" stroke=\"#000000\" points=\"535.8935,-311.1264 546.4822,-310.7664 537.9801,-304.4446 535.8935,-311.1264\"/>\n</g>\n<!-- 7495 -->\n<g id=\"node6\" class=\"node\">\n<title>7495</title>\n<path fill=\"#a26dec\" stroke=\"#000000\" d=\"M758,-287C758,-287 535,-287 535,-287 529,-287 523,-281 523,-275 523,-275 523,-231 523,-231 523,-225 529,-219 535,-219 535,-219 758,-219 758,-219 764,-219 770,-225 770,-231 770,-231 770,-275 770,-275 770,-281 764,-287 758,-287\"/>\n<text text-anchor=\"middle\" x=\"646.5\" y=\"-271.8\" font-family=\"Helvetica,sans-Serif\" font-size=\"14.00\" fill=\"#000000\">extraction_type_group_other &lt;= 0.5</text>\n<text text-anchor=\"middle\" x=\"646.5\" y=\"-256.8\" font-family=\"Helvetica,sans-Serif\" font-size=\"14.00\" fill=\"#000000\">samples = 8.5%</text>\n<text text-anchor=\"middle\" x=\"646.5\" y=\"-241.8\" font-family=\"Helvetica,sans-Serif\" font-size=\"14.00\" fill=\"#000000\">value = [0.162, 0.057, 0.781]</text>\n<text text-anchor=\"middle\" x=\"646.5\" y=\"-226.8\" font-family=\"Helvetica,sans-Serif\" font-size=\"14.00\" fill=\"#000000\">class = non functional</text>\n</g>\n<!-- 1&#45;&gt;7495 -->\n<g id=\"edge5\" class=\"edge\">\n<title>1&#45;&gt;7495</title>\n<path fill=\"none\" stroke=\"#000000\" d=\"M487.3348,-253C495.7097,-253 504.1626,-253 512.5754,-253\"/>\n<polygon fill=\"#000000\" stroke=\"#000000\" points=\"512.8095,-256.5001 522.8094,-253 512.8094,-249.5001 512.8095,-256.5001\"/>\n</g>\n<!-- 3 -->\n<g id=\"node4\" class=\"node\">\n<title>3</title>\n<path fill=\"#c0c0c0\" stroke=\"#000000\" d=\"M848,-414C848,-414 818,-414 818,-414 812,-414 806,-408 806,-402 806,-402 806,-390 806,-390 806,-384 812,-378 818,-378 818,-378 848,-378 848,-378 854,-378 860,-384 860,-390 860,-390 860,-402 860,-402 860,-408 854,-414 848,-414\"/>\n<text text-anchor=\"middle\" x=\"833\" y=\"-392.3\" font-family=\"Helvetica,sans-Serif\" font-size=\"14.00\" fill=\"#000000\">(...)</text>\n</g>\n<!-- 2&#45;&gt;3 -->\n<g id=\"edge3\" class=\"edge\">\n<title>2&#45;&gt;3</title>\n<path fill=\"none\" stroke=\"#000000\" d=\"M746.5744,-370.976C764.097,-376.0495 781.2966,-381.0296 795.6803,-385.1943\"/>\n<polygon fill=\"#000000\" stroke=\"#000000\" points=\"795.0417,-388.6531 805.6206,-388.0725 796.9886,-381.9293 795.0417,-388.6531\"/>\n</g>\n<!-- 5706 -->\n<g id=\"node5\" class=\"node\">\n<title>5706</title>\n<path fill=\"#c0c0c0\" stroke=\"#000000\" d=\"M848,-360C848,-360 818,-360 818,-360 812,-360 806,-354 806,-348 806,-348 806,-336 806,-336 806,-330 812,-324 818,-324 818,-324 848,-324 848,-324 854,-324 860,-330 860,-336 860,-336 860,-348 860,-348 860,-354 854,-360 848,-360\"/>\n<text text-anchor=\"middle\" x=\"833\" y=\"-338.3\" font-family=\"Helvetica,sans-Serif\" font-size=\"14.00\" fill=\"#000000\">(...)</text>\n</g>\n<!-- 2&#45;&gt;5706 -->\n<g id=\"edge4\" class=\"edge\">\n<title>2&#45;&gt;5706</title>\n<path fill=\"none\" stroke=\"#000000\" d=\"M746.5744,-342C763.9269,-342 780.9626,-342 795.2606,-342\"/>\n<polygon fill=\"#000000\" stroke=\"#000000\" points=\"795.6206,-345.5001 805.6206,-342 795.6206,-338.5001 795.6206,-345.5001\"/>\n</g>\n<!-- 7496 -->\n<g id=\"node7\" class=\"node\">\n<title>7496</title>\n<path fill=\"#c0c0c0\" stroke=\"#000000\" d=\"M848,-306C848,-306 818,-306 818,-306 812,-306 806,-300 806,-294 806,-294 806,-282 806,-282 806,-276 812,-270 818,-270 818,-270 848,-270 848,-270 854,-270 860,-276 860,-282 860,-282 860,-294 860,-294 860,-300 854,-306 848,-306\"/>\n<text text-anchor=\"middle\" x=\"833\" y=\"-284.3\" font-family=\"Helvetica,sans-Serif\" font-size=\"14.00\" fill=\"#000000\">(...)</text>\n</g>\n<!-- 7495&#45;&gt;7496 -->\n<g id=\"edge6\" class=\"edge\">\n<title>7495&#45;&gt;7496</title>\n<path fill=\"none\" stroke=\"#000000\" d=\"M770.1196,-276.1994C779.3199,-277.926 788.0774,-279.5695 795.976,-281.0518\"/>\n<polygon fill=\"#000000\" stroke=\"#000000\" points=\"795.3558,-284.4964 805.8299,-282.901 796.647,-277.6165 795.3558,-284.4964\"/>\n</g>\n<!-- 7937 -->\n<g id=\"node8\" class=\"node\">\n<title>7937</title>\n<path fill=\"#c0c0c0\" stroke=\"#000000\" d=\"M848,-252C848,-252 818,-252 818,-252 812,-252 806,-246 806,-240 806,-240 806,-228 806,-228 806,-222 812,-216 818,-216 818,-216 848,-216 848,-216 854,-216 860,-222 860,-228 860,-228 860,-240 860,-240 860,-246 854,-252 848,-252\"/>\n<text text-anchor=\"middle\" x=\"833\" y=\"-230.3\" font-family=\"Helvetica,sans-Serif\" font-size=\"14.00\" fill=\"#000000\">(...)</text>\n</g>\n<!-- 7495&#45;&gt;7937 -->\n<g id=\"edge7\" class=\"edge\">\n<title>7495&#45;&gt;7937</title>\n<path fill=\"none\" stroke=\"#000000\" d=\"M770.1196,-240.406C779.2165,-239.4793 787.8806,-238.5966 795.7095,-237.799\"/>\n<polygon fill=\"#000000\" stroke=\"#000000\" points=\"796.2361,-241.2636 805.8299,-236.768 795.5266,-234.2996 796.2361,-241.2636\"/>\n</g>\n<!-- 8561 -->\n<g id=\"node10\" class=\"node\">\n<title>8561</title>\n<path fill=\"#843ee6\" stroke=\"#000000\" d=\"M735,-198C735,-198 558,-198 558,-198 552,-198 546,-192 546,-186 546,-186 546,-142 546,-142 546,-136 552,-130 558,-130 558,-130 735,-130 735,-130 741,-130 747,-136 747,-142 747,-142 747,-186 747,-186 747,-192 741,-198 735,-198\"/>\n<text text-anchor=\"middle\" x=\"646.5\" y=\"-182.8\" font-family=\"Helvetica,sans-Serif\" font-size=\"14.00\" fill=\"#000000\">construction_year &lt;= 2011.5</text>\n<text text-anchor=\"middle\" x=\"646.5\" y=\"-167.8\" font-family=\"Helvetica,sans-Serif\" font-size=\"14.00\" fill=\"#000000\">samples = 9.7%</text>\n<text text-anchor=\"middle\" x=\"646.5\" y=\"-152.8\" font-family=\"Helvetica,sans-Serif\" font-size=\"14.00\" fill=\"#000000\">value = [0.019, 0.006, 0.974]</text>\n<text text-anchor=\"middle\" x=\"646.5\" y=\"-137.8\" font-family=\"Helvetica,sans-Serif\" font-size=\"14.00\" fill=\"#000000\">class = non functional</text>\n</g>\n<!-- 8560&#45;&gt;8561 -->\n<g id=\"edge9\" class=\"edge\">\n<title>8560&#45;&gt;8561</title>\n<path fill=\"none\" stroke=\"#000000\" d=\"M461.5796,-164C485.5442,-164 511.27,-164 535.6882,-164\"/>\n<polygon fill=\"#000000\" stroke=\"#000000\" points=\"535.6986,-167.5001 545.6985,-164 535.6985,-160.5001 535.6986,-167.5001\"/>\n</g>\n<!-- 8860 -->\n<g id=\"node13\" class=\"node\">\n<title>8860</title>\n<path fill=\"#9558e9\" stroke=\"#000000\" d=\"M734.5,-106C734.5,-106 558.5,-106 558.5,-106 552.5,-106 546.5,-100 546.5,-94 546.5,-94 546.5,-50 546.5,-50 546.5,-44 552.5,-38 558.5,-38 558.5,-38 734.5,-38 734.5,-38 740.5,-38 746.5,-44 746.5,-50 746.5,-50 746.5,-94 746.5,-94 746.5,-100 740.5,-106 734.5,-106\"/>\n<text text-anchor=\"middle\" x=\"646.5\" y=\"-90.8\" font-family=\"Helvetica,sans-Serif\" font-size=\"14.00\" fill=\"#000000\">longitude &lt;= 32.736</text>\n<text text-anchor=\"middle\" x=\"646.5\" y=\"-75.8\" font-family=\"Helvetica,sans-Serif\" font-size=\"14.00\" fill=\"#000000\">samples = 0.6%</text>\n<text text-anchor=\"middle\" x=\"646.5\" y=\"-60.8\" font-family=\"Helvetica,sans-Serif\" font-size=\"14.00\" fill=\"#000000\">value = [0.132, 0.003, 0.864]</text>\n<text text-anchor=\"middle\" x=\"646.5\" y=\"-45.8\" font-family=\"Helvetica,sans-Serif\" font-size=\"14.00\" fill=\"#000000\">class = non functional</text>\n</g>\n<!-- 8560&#45;&gt;8860 -->\n<g id=\"edge12\" class=\"edge\">\n<title>8560&#45;&gt;8860</title>\n<path fill=\"none\" stroke=\"#000000\" d=\"M461.5796,-131.6936C485.7923,-123.8776 511.8028,-115.4812 536.4461,-107.5262\"/>\n<polygon fill=\"#000000\" stroke=\"#000000\" points=\"537.7389,-110.7868 546.1802,-104.3839 535.5885,-104.1252 537.7389,-110.7868\"/>\n</g>\n<!-- 8562 -->\n<g id=\"node11\" class=\"node\">\n<title>8562</title>\n<path fill=\"#c0c0c0\" stroke=\"#000000\" d=\"M848,-198C848,-198 818,-198 818,-198 812,-198 806,-192 806,-186 806,-186 806,-174 806,-174 806,-168 812,-162 818,-162 818,-162 848,-162 848,-162 854,-162 860,-168 860,-174 860,-174 860,-186 860,-186 860,-192 854,-198 848,-198\"/>\n<text text-anchor=\"middle\" x=\"833\" y=\"-176.3\" font-family=\"Helvetica,sans-Serif\" font-size=\"14.00\" fill=\"#000000\">(...)</text>\n</g>\n<!-- 8561&#45;&gt;8562 -->\n<g id=\"edge10\" class=\"edge\">\n<title>8561&#45;&gt;8562</title>\n<path fill=\"none\" stroke=\"#000000\" d=\"M747.1194,-172.6322C764.3937,-174.1142 781.3287,-175.5671 795.5332,-176.7857\"/>\n<polygon fill=\"#000000\" stroke=\"#000000\" points=\"795.561,-180.3008 805.8236,-177.6685 796.1594,-173.3265 795.561,-180.3008\"/>\n</g>\n<!-- 8849 -->\n<g id=\"node12\" class=\"node\">\n<title>8849</title>\n<path fill=\"#c0c0c0\" stroke=\"#000000\" d=\"M848,-144C848,-144 818,-144 818,-144 812,-144 806,-138 806,-132 806,-132 806,-120 806,-120 806,-114 812,-108 818,-108 818,-108 848,-108 848,-108 854,-108 860,-114 860,-120 860,-120 860,-132 860,-132 860,-138 854,-144 848,-144\"/>\n<text text-anchor=\"middle\" x=\"833\" y=\"-122.3\" font-family=\"Helvetica,sans-Serif\" font-size=\"14.00\" fill=\"#000000\">(...)</text>\n</g>\n<!-- 8561&#45;&gt;8849 -->\n<g id=\"edge11\" class=\"edge\">\n<title>8561&#45;&gt;8849</title>\n<path fill=\"none\" stroke=\"#000000\" d=\"M747.1194,-143.4985C764.5631,-139.9442 781.6607,-136.4605 795.9502,-133.549\"/>\n<polygon fill=\"#000000\" stroke=\"#000000\" points=\"796.7238,-136.9634 805.8236,-131.5373 795.3261,-130.1043 796.7238,-136.9634\"/>\n</g>\n<!-- 8861 -->\n<g id=\"node14\" class=\"node\">\n<title>8861</title>\n<path fill=\"#c0c0c0\" stroke=\"#000000\" d=\"M848,-90C848,-90 818,-90 818,-90 812,-90 806,-84 806,-78 806,-78 806,-66 806,-66 806,-60 812,-54 818,-54 818,-54 848,-54 848,-54 854,-54 860,-60 860,-66 860,-66 860,-78 860,-78 860,-84 854,-90 848,-90\"/>\n<text text-anchor=\"middle\" x=\"833\" y=\"-68.3\" font-family=\"Helvetica,sans-Serif\" font-size=\"14.00\" fill=\"#000000\">(...)</text>\n</g>\n<!-- 8860&#45;&gt;8861 -->\n<g id=\"edge13\" class=\"edge\">\n<title>8860&#45;&gt;8861</title>\n<path fill=\"none\" stroke=\"#000000\" d=\"M746.5744,-72C763.9269,-72 780.9626,-72 795.2606,-72\"/>\n<polygon fill=\"#000000\" stroke=\"#000000\" points=\"795.6206,-75.5001 805.6206,-72 795.6206,-68.5001 795.6206,-75.5001\"/>\n</g>\n<!-- 8900 -->\n<g id=\"node15\" class=\"node\">\n<title>8900</title>\n<path fill=\"#c0c0c0\" stroke=\"#000000\" d=\"M848,-36C848,-36 818,-36 818,-36 812,-36 806,-30 806,-24 806,-24 806,-12 806,-12 806,-6 812,0 818,0 818,0 848,0 848,0 854,0 860,-6 860,-12 860,-12 860,-24 860,-24 860,-30 854,-36 848,-36\"/>\n<text text-anchor=\"middle\" x=\"833\" y=\"-14.3\" font-family=\"Helvetica,sans-Serif\" font-size=\"14.00\" fill=\"#000000\">(...)</text>\n</g>\n<!-- 8860&#45;&gt;8900 -->\n<g id=\"edge14\" class=\"edge\">\n<title>8860&#45;&gt;8900</title>\n<path fill=\"none\" stroke=\"#000000\" d=\"M746.5744,-43.024C764.097,-37.9505 781.2966,-32.9704 795.6803,-28.8057\"/>\n<polygon fill=\"#000000\" stroke=\"#000000\" points=\"796.9886,-32.0707 805.6206,-25.9275 795.0417,-25.3469 796.9886,-32.0707\"/>\n</g>\n</g>\n</svg>\n"
          },
          "metadata": {
            "tags": []
          },
          "execution_count": 43
        }
      ]
    },
    {
      "cell_type": "markdown",
      "metadata": {
        "id": "G8GW5ZYcuer0",
        "colab_type": "text"
      },
      "source": [
        "## RandomForestClassifier & OneHotEncoder"
      ]
    },
    {
      "cell_type": "code",
      "metadata": {
        "id": "_PGuL6_xurx1",
        "colab_type": "code",
        "colab": {
          "base_uri": "https://localhost:8080/",
          "height": 67
        },
        "outputId": "128217dc-bbef-41ff-ce4e-f403c37fe2b1"
      },
      "source": [
        "%%time\n",
        "pipeline = make_pipeline(\n",
        "    ce.OneHotEncoder(use_cat_names='True'), \n",
        "    SimpleImputer(strategy='median'), \n",
        "    RandomForestClassifier(n_estimators=100, random_state=42, n_jobs=-1)\n",
        ")\n",
        "\n",
        "target = 'status_group'\n",
        "train_features = train.drop(columns=[target])\n",
        "numeric_features = train_features.select_dtypes(include='number').columns.tolist()\n",
        "categorical_features = train_features.describe(exclude='number').T.query('unique <= 50').index.tolist()\n",
        "features = categorical_features + numeric_features\n",
        "\n",
        "# Arrange data into X features matrix and y target vector \n",
        "X_train = train[features]\n",
        "y_train = train[target]\n",
        "X_val = val[features]\n",
        "y_val = val[target]\n",
        "X_test = test[features]\n",
        "\n",
        "# Fit on train, score on val\n",
        "pipeline.fit(X_train, y_train)\n",
        "print('Validation Accuracy', pipeline.score(X_val, y_val))"
      ],
      "execution_count": 81,
      "outputs": [
        {
          "output_type": "stream",
          "text": [
            "Validation Accuracy 0.8075757575757576\n",
            "CPU times: user 22.6 s, sys: 153 ms, total: 22.8 s\n",
            "Wall time: 14 s\n"
          ],
          "name": "stdout"
        }
      ]
    },
    {
      "cell_type": "code",
      "metadata": {
        "id": "aYuCN4MOvLLO",
        "colab_type": "code",
        "colab": {
          "base_uri": "https://localhost:8080/",
          "height": 50
        },
        "outputId": "d23b64c9-f5b9-48a1-c86d-9079a5783615"
      },
      "source": [
        "print('X_train shape before encoding', X_train.shape)\n",
        "\n",
        "encoder = pipeline.named_steps['onehotencoder']\n",
        "shape = encoder.transform(X_train).shape\n",
        "print('X_train shape after encoding', shape)"
      ],
      "execution_count": 46,
      "outputs": [
        {
          "output_type": "stream",
          "text": [
            "X_train shape before encoding (47520, 33)\n",
            "X_train shape after encoding (47520, 183)\n"
          ],
          "name": "stdout"
        }
      ]
    },
    {
      "cell_type": "markdown",
      "metadata": {
        "id": "GGC07Ac6vPOT",
        "colab_type": "text"
      },
      "source": [
        "## RandomForestClassifier & OrdinalEncoder"
      ]
    },
    {
      "cell_type": "code",
      "metadata": {
        "colab_type": "code",
        "outputId": "d309b7ff-ae5e-4ac8-9f70-686e7cf034ab",
        "id": "Z0KyLLHyJQby",
        "colab": {
          "base_uri": "https://localhost:8080/",
          "height": 202
        }
      },
      "source": [
        "train.describe(exclude='number').sort_values(by='unique', axis=1)"
      ],
      "execution_count": 122,
      "outputs": [
        {
          "output_type": "execute_result",
          "data": {
            "text/html": [
              "<div>\n",
              "<style scoped>\n",
              "    .dataframe tbody tr th:only-of-type {\n",
              "        vertical-align: middle;\n",
              "    }\n",
              "\n",
              "    .dataframe tbody tr th {\n",
              "        vertical-align: top;\n",
              "    }\n",
              "\n",
              "    .dataframe thead th {\n",
              "        text-align: right;\n",
              "    }\n",
              "</style>\n",
              "<table border=\"1\" class=\"dataframe\">\n",
              "  <thead>\n",
              "    <tr style=\"text-align: right;\">\n",
              "      <th></th>\n",
              "      <th>public_meeting</th>\n",
              "      <th>permit</th>\n",
              "      <th>status_group</th>\n",
              "      <th>source_class</th>\n",
              "      <th>quantity</th>\n",
              "      <th>management_group</th>\n",
              "      <th>quality_group</th>\n",
              "      <th>waterpoint_type_group</th>\n",
              "      <th>source_type</th>\n",
              "      <th>waterpoint_type</th>\n",
              "      <th>payment_type</th>\n",
              "      <th>extraction_type_class</th>\n",
              "      <th>payment</th>\n",
              "      <th>water_quality</th>\n",
              "      <th>basin</th>\n",
              "      <th>source</th>\n",
              "      <th>scheme_management</th>\n",
              "      <th>management</th>\n",
              "      <th>extraction_type_group</th>\n",
              "      <th>extraction_type</th>\n",
              "      <th>region</th>\n",
              "      <th>lga</th>\n",
              "      <th>funder</th>\n",
              "      <th>installer</th>\n",
              "      <th>ward</th>\n",
              "      <th>scheme_name</th>\n",
              "      <th>subvillage</th>\n",
              "      <th>wpt_name</th>\n",
              "    </tr>\n",
              "  </thead>\n",
              "  <tbody>\n",
              "    <tr>\n",
              "      <th>count</th>\n",
              "      <td>44876</td>\n",
              "      <td>45077</td>\n",
              "      <td>47520</td>\n",
              "      <td>47520</td>\n",
              "      <td>47520</td>\n",
              "      <td>47520</td>\n",
              "      <td>47520</td>\n",
              "      <td>47520</td>\n",
              "      <td>47520</td>\n",
              "      <td>47520</td>\n",
              "      <td>47520</td>\n",
              "      <td>47520</td>\n",
              "      <td>47520</td>\n",
              "      <td>47520</td>\n",
              "      <td>47520</td>\n",
              "      <td>47520</td>\n",
              "      <td>44392</td>\n",
              "      <td>47520</td>\n",
              "      <td>47520</td>\n",
              "      <td>47520</td>\n",
              "      <td>47520</td>\n",
              "      <td>47520</td>\n",
              "      <td>44616</td>\n",
              "      <td>44603</td>\n",
              "      <td>47520</td>\n",
              "      <td>24988</td>\n",
              "      <td>47234</td>\n",
              "      <td>47520</td>\n",
              "    </tr>\n",
              "    <tr>\n",
              "      <th>unique</th>\n",
              "      <td>2</td>\n",
              "      <td>2</td>\n",
              "      <td>3</td>\n",
              "      <td>3</td>\n",
              "      <td>5</td>\n",
              "      <td>5</td>\n",
              "      <td>6</td>\n",
              "      <td>6</td>\n",
              "      <td>7</td>\n",
              "      <td>7</td>\n",
              "      <td>7</td>\n",
              "      <td>7</td>\n",
              "      <td>7</td>\n",
              "      <td>8</td>\n",
              "      <td>9</td>\n",
              "      <td>10</td>\n",
              "      <td>12</td>\n",
              "      <td>12</td>\n",
              "      <td>13</td>\n",
              "      <td>18</td>\n",
              "      <td>21</td>\n",
              "      <td>124</td>\n",
              "      <td>1716</td>\n",
              "      <td>1929</td>\n",
              "      <td>2082</td>\n",
              "      <td>2563</td>\n",
              "      <td>17231</td>\n",
              "      <td>30661</td>\n",
              "    </tr>\n",
              "    <tr>\n",
              "      <th>top</th>\n",
              "      <td>True</td>\n",
              "      <td>True</td>\n",
              "      <td>functional</td>\n",
              "      <td>groundwater</td>\n",
              "      <td>enough</td>\n",
              "      <td>user-group</td>\n",
              "      <td>good</td>\n",
              "      <td>communal standpipe</td>\n",
              "      <td>spring</td>\n",
              "      <td>communal standpipe</td>\n",
              "      <td>never pay</td>\n",
              "      <td>gravity</td>\n",
              "      <td>never pay</td>\n",
              "      <td>soft</td>\n",
              "      <td>Lake Victoria</td>\n",
              "      <td>spring</td>\n",
              "      <td>VWC</td>\n",
              "      <td>vwc</td>\n",
              "      <td>gravity</td>\n",
              "      <td>gravity</td>\n",
              "      <td>Iringa</td>\n",
              "      <td>Njombe</td>\n",
              "      <td>Government Of Tanzania</td>\n",
              "      <td>DWE</td>\n",
              "      <td>Igosi</td>\n",
              "      <td>K</td>\n",
              "      <td>Shuleni</td>\n",
              "      <td>none</td>\n",
              "    </tr>\n",
              "    <tr>\n",
              "      <th>freq</th>\n",
              "      <td>40838</td>\n",
              "      <td>31071</td>\n",
              "      <td>25807</td>\n",
              "      <td>36638</td>\n",
              "      <td>26567</td>\n",
              "      <td>42027</td>\n",
              "      <td>40598</td>\n",
              "      <td>27642</td>\n",
              "      <td>13620</td>\n",
              "      <td>22778</td>\n",
              "      <td>20287</td>\n",
              "      <td>21448</td>\n",
              "      <td>20287</td>\n",
              "      <td>40598</td>\n",
              "      <td>8137</td>\n",
              "      <td>13620</td>\n",
              "      <td>29470</td>\n",
              "      <td>32449</td>\n",
              "      <td>21448</td>\n",
              "      <td>21448</td>\n",
              "      <td>4250</td>\n",
              "      <td>2003</td>\n",
              "      <td>7321</td>\n",
              "      <td>13978</td>\n",
              "      <td>257</td>\n",
              "      <td>548</td>\n",
              "      <td>420</td>\n",
              "      <td>2879</td>\n",
              "    </tr>\n",
              "  </tbody>\n",
              "</table>\n",
              "</div>"
            ],
            "text/plain": [
              "       public_meeting permit status_group  ... scheme_name subvillage wpt_name\n",
              "count           44876  45077        47520  ...       24988      47234    47520\n",
              "unique              2      2            3  ...        2563      17231    30661\n",
              "top              True   True   functional  ...           K    Shuleni     none\n",
              "freq            40838  31071        25807  ...         548        420     2879\n",
              "\n",
              "[4 rows x 28 columns]"
            ]
          },
          "metadata": {
            "tags": []
          },
          "execution_count": 122
        }
      ]
    },
    {
      "cell_type": "code",
      "metadata": {
        "id": "HbsVX0cHvR0a",
        "colab_type": "code",
        "colab": {
          "base_uri": "https://localhost:8080/",
          "height": 67
        },
        "outputId": "5a0adaeb-b179-473f-d8dd-9f8111180449"
      },
      "source": [
        "%%time\n",
        "pipeline = make_pipeline(\n",
        "    ce.OrdinalEncoder(), \n",
        "    SimpleImputer(strategy='median'), \n",
        "    RandomForestClassifier(n_estimators=100, random_state=42, n_jobs=-1)\n",
        ")\n",
        "\n",
        "target = 'status_group'\n",
        "train_features = train.drop(columns=[target])\n",
        "categorical_features = train_features.describe(exclude='number').T.index.tolist()\n",
        "numeric_features = train_features.select_dtypes(include='number').columns.tolist()\n",
        "features = numeric_features + categorical_features\n",
        "\n",
        "# Arrange data into X features matrix and y target vector \n",
        "X_train = train[features]\n",
        "y_train = train[target]\n",
        "X_val = val[features]\n",
        "y_val = val[target]\n",
        "X_test = test[features]\n",
        "\n",
        "# Fit on train, score on val\n",
        "pipeline.fit(X_train, y_train)\n",
        "val_score = pipeline.score(X_val, y_val)\n",
        "print('Validation Accuracy', val_score*100)"
      ],
      "execution_count": 133,
      "outputs": [
        {
          "output_type": "stream",
          "text": [
            "Validation Accuracy 80.93434343434343\n",
            "CPU times: user 18.2 s, sys: 79.8 ms, total: 18.3 s\n",
            "Wall time: 10.1 s\n"
          ],
          "name": "stdout"
        }
      ]
    },
    {
      "cell_type": "code",
      "metadata": {
        "id": "zxvYURAeJfzV",
        "colab_type": "code",
        "colab": {}
      },
      "source": [
        "# Get feature importances\n",
        "rf = pipeline.named_steps['randomforestclassifier']\n",
        "importances = pd.Series(rf.feature_importances_, X_train.columns)\n",
        "\n",
        "# features = importances.sort_values()[-37:].index.tolist()\n",
        "# features"
      ],
      "execution_count": 0,
      "outputs": []
    },
    {
      "cell_type": "code",
      "metadata": {
        "id": "svstzqGhFwj1",
        "colab_type": "code",
        "colab": {
          "base_uri": "https://localhost:8080/",
          "height": 286
        },
        "outputId": "ba5855f1-e1f7-46eb-fc35-29ba8cf2f8ae"
      },
      "source": [
        "new_f_score = []\n",
        "new_f = importances.sort_values().index.tolist()\n",
        "for x in range(30, len(new_f)+1):\n",
        "  new_f = importances.sort_values()[-x:].index.tolist()\n",
        "  \n",
        "  pipeline = make_pipeline(\n",
        "    ce.OrdinalEncoder(), \n",
        "    SimpleImputer(strategy='median'), \n",
        "    RandomForestClassifier(n_estimators=100, random_state=42, n_jobs=-1)\n",
        "  )\n",
        "  \n",
        "  X_train_subset = train[new_f]\n",
        "  X_val_subset = val[new_f]\n",
        "\n",
        "  pipeline.fit(X_train_subset, y_train)\n",
        "  print(x, pipeline.score(X_val_subset, y_val)*100)\n",
        "  if pipeline.score(X_val_subset, y_val) > val_score:\n",
        "    val_score = pipeline.score(X_val_subset, y_val)\n",
        "    new_f_score = [x, val_score]\n",
        "new_f_score"
      ],
      "execution_count": 135,
      "outputs": [
        {
          "output_type": "stream",
          "text": [
            "25 80.8080808080808\n",
            "26 80.78282828282828\n",
            "27 80.47138047138047\n",
            "28 80.9006734006734\n",
            "29 81.01851851851852\n",
            "30 80.79124579124579\n",
            "31 80.85016835016835\n",
            "32 81.01851851851852\n",
            "33 81.0942760942761\n",
            "34 80.95959595959596\n",
            "35 80.77441077441078\n",
            "36 81.01010101010101\n",
            "37 81.12794612794613\n",
            "38 80.91750841750842\n",
            "39 80.84175084175084\n"
          ],
          "name": "stdout"
        },
        {
          "output_type": "execute_result",
          "data": {
            "text/plain": [
              "[37, 0.8112794612794613]"
            ]
          },
          "metadata": {
            "tags": []
          },
          "execution_count": 135
        }
      ]
    },
    {
      "cell_type": "code",
      "metadata": {
        "id": "K9DJ6ocWD-J_",
        "colab_type": "code",
        "colab": {
          "base_uri": "https://localhost:8080/",
          "height": 67
        },
        "outputId": "9e309844-1a08-4cd0-a5cd-5e2f087f1806"
      },
      "source": [
        "%%time\n",
        "pipeline = make_pipeline(\n",
        "    ce.OrdinalEncoder(), \n",
        "    SimpleImputer(strategy='median'), \n",
        "    RandomForestClassifier(n_estimators=100, random_state=42, n_jobs=-1)\n",
        ")\n",
        "\n",
        "target = 'status_group'\n",
        "features = importances.sort_values()[-37:].index.tolist()\n",
        "\n",
        "# Arrange data into X features matrix and y target vector \n",
        "X_train = train[features]\n",
        "y_train = train[target]\n",
        "X_val = val[features]\n",
        "y_val = val[target]\n",
        "X_test = test[features]\n",
        "\n",
        "# Fit on train, score on val\n",
        "pipeline.fit(X_train, y_train)\n",
        "val_score = pipeline.score(X_val, y_val)\n",
        "print('Validation Accuracy', val_score*100)"
      ],
      "execution_count": 138,
      "outputs": [
        {
          "output_type": "stream",
          "text": [
            "Validation Accuracy 81.12794612794613\n",
            "CPU times: user 18.2 s, sys: 69.9 ms, total: 18.3 s\n",
            "Wall time: 10 s\n"
          ],
          "name": "stdout"
        }
      ]
    },
    {
      "cell_type": "code",
      "metadata": {
        "id": "7hbqcJNK6Y6o",
        "colab_type": "code",
        "colab": {}
      },
      "source": [
        "# model = RandomForestClassifier(n_estimators=100, random_state=42, n_jobs=-1)\n",
        "# rfe = RFE(model, 33)\n",
        "# fit = rfe.fit(X_train, y_train)"
      ],
      "execution_count": 0,
      "outputs": []
    },
    {
      "cell_type": "code",
      "metadata": {
        "id": "FuefQsOmwA-L",
        "colab_type": "code",
        "colab": {
          "base_uri": "https://localhost:8080/",
          "height": 50
        },
        "outputId": "89cb3b45-cf4b-41e7-af88-237a0dcbeaf7"
      },
      "source": [
        "print('X_train shape before encoding', X_train.shape)\n",
        "\n",
        "encoder = pipeline.named_steps['ordinalencoder']\n",
        "shape = encoder.transform(X_train).shape\n",
        "print('X_train shape after encoding', shape)"
      ],
      "execution_count": 51,
      "outputs": [
        {
          "output_type": "stream",
          "text": [
            "X_train shape before encoding (47520, 40)\n",
            "X_train shape after encoding (47520, 40)\n"
          ],
          "name": "stdout"
        }
      ]
    },
    {
      "cell_type": "code",
      "metadata": {
        "id": "C5bM9NXLwD57",
        "colab_type": "code",
        "colab": {
          "base_uri": "https://localhost:8080/",
          "height": 607
        },
        "outputId": "406c4946-fe8a-4927-cfcc-51cde7436c9d"
      },
      "source": [
        "# TODO\n",
        "\n",
        "# Get feature importances\n",
        "rf = pipeline.named_steps['randomforestclassifier']\n",
        "importances = pd.Series(rf.feature_importances_, X_train.columns)\n",
        "\n",
        "# Plot feature importances\n",
        "n = 20\n",
        "plt.figure(figsize=(10,n/2))\n",
        "plt.title(f'Top {n} features')\n",
        "importances.sort_values()[-n:].plot.barh(color='grey');"
      ],
      "execution_count": 139,
      "outputs": [
        {
          "output_type": "display_data",
          "data": {
            "image/png": "[encoded data removed]",
            "text/plain": [
              "<Figure size 720x720 with 1 Axes>"
            ]
          },
          "metadata": {
            "tags": []
          }
        }
      ]
    },
    {
      "cell_type": "markdown",
      "metadata": {
        "id": "L_-GEGLNwcM3",
        "colab_type": "text"
      },
      "source": [
        "# Write submission csv file"
      ]
    },
    {
      "cell_type": "code",
      "metadata": {
        "id": "7K6WFlplrfjx",
        "colab_type": "code",
        "colab": {}
      },
      "source": [
        "y_pred = pipeline.predict(X_test)\n",
        "\n",
        "submission = sample_submission.copy()\n",
        "submission['status_group'] = y_pred\n",
        "submission.to_csv('submission-05.csv', index=False)"
      ],
      "execution_count": 0,
      "outputs": []
    },
    {
      "cell_type": "markdown",
      "metadata": {
        "id": "HiI0-boZjy8p",
        "colab_type": "text"
      },
      "source": [
        "### Post-read links\n",
        "\n",
        "#### Decision Trees\n",
        "- A Visual Introduction to Machine Learning, [Part 1: A Decision Tree](http://www.r2d3.us/visual-intro-to-machine-learning-part-1/),  and [Part 2: Bias and Variance](http://www.r2d3.us/visual-intro-to-machine-learning-part-2/)\n",
        "- [Decision Trees: Advantages & Disadvantages](https://christophm.github.io/interpretable-ml-book/tree.html#advantages-2)\n",
        "- [How a Russian mathematician constructed a decision tree — by hand — to solve a medical problem](http://fastml.com/how-a-russian-mathematician-constructed-a-decision-tree-by-hand-to-solve-a-medical-problem/)\n",
        "- [How decision trees work](https://brohrer.github.io/how_decision_trees_work.html)\n",
        "- [Let’s Write a Decision Tree Classifier from Scratch](https://www.youtube.com/watch?v=LDRbO9a6XPU)\n",
        "\n",
        "#### Random Forests\n",
        "- [_An Introduction to Statistical Learning_](http://www-bcf.usc.edu/~gareth/ISL/), Chapter 8: Tree-Based Methods\n",
        "- [Coloring with Random Forests](http://structuringtheunstructured.blogspot.com/2017/11/coloring-with-random-forests.html)\n",
        "- [Random Forests for Complete Beginners: The definitive guide to Random Forests and Decision Trees](https://victorzhou.com/blog/intro-to-random-forests/)\n",
        "\n",
        "#### Categorical encoding for trees\n",
        "- [Are categorical variables getting lost in your random forests?](https://roamanalytics.com/2016/10/28/are-categorical-variables-getting-lost-in-your-random-forests/)\n",
        "- [Beyond One-Hot: An Exploration of Categorical Variables](http://www.willmcginnis.com/2015/11/29/beyond-one-hot-an-exploration-of-categorical-variables/)\n",
        "- [Categorical Features and Encoding in Decision Trees](https://medium.com/data-design/visiting-categorical-features-and-encoding-in-decision-trees-53400fa65931)\n",
        "- [Coursera — How to Win a Data Science Competition: Learn from Top Kagglers — Concept of mean encoding](https://www.coursera.org/lecture/competitive-data-science/concept-of-mean-encoding-b5Gxv)\n",
        "- [Mean (likelihood) encodings: a comprehensive study](https://www.kaggle.com/vprokopev/mean-likelihood-encodings-a-comprehensive-study)\n",
        "- [The Mechanics of Machine Learning, Chapter 6: Categorically Speaking](https://mlbook.explained.ai/catvars.html)"
      ]
    }
  ]
}