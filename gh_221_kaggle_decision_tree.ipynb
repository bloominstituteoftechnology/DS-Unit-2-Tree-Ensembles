{
  "nbformat": 4,
  "nbformat_minor": 0,
  "metadata": {
    "colab": {
      "name": "gh_221_kaggle_decision_tree.ipynb",
      "version": "0.3.2",
      "provenance": []
    },
    "kernelspec": {
      "name": "python3",
      "display_name": "Python 3"
    }
  },
  "cells": [
    {
      "cell_type": "markdown",
      "metadata": {
        "colab_type": "text",
        "id": "oOgglh_kCt_c"
      },
      "source": [
        "# Assignment\n",
        "- Start a clean notebook, or continue with last module's assignment notebook.\n",
        "- Continue to participate in our Kaggle competition with the Tanzania Waterpumps data. \n",
        "- Do more exploratory data analysis, data cleaning, feature engineering, and feature selection.\n",
        "- Try a Decision Tree Classifier. \n",
        "- Submit new predictions.\n",
        "- Commit your notebook to your fork of the GitHub repo.\n",
        "\n",
        "\n",
        "## Stretch Goals\n",
        "- Create visualizations and share on Slack.\n",
        "- Read more about decision trees and tree ensembles. You can start with the links at the top of this notebook.\n",
        "- Try [scikit-learn pipelines](https://scikit-learn.org/stable/modules/compose.html):\n",
        "\n",
        "> Pipeline can be used to chain multiple estimators into one. This is useful as there is often a fixed sequence of steps in processing the data, for example feature selection, normalization and classification. Pipeline serves multiple purposes here:\n",
        "\n",
        "> - **Convenience and encapsulation.** You only have to call fit and predict once on your data to fit a whole sequence of estimators.\n",
        "> - **Joint parameter selection.** You can grid search over parameters of all estimators in the pipeline at once.\n",
        "> - **Safety.** Pipelines help avoid leaking statistics from your test data into the trained model in cross-validation, by ensuring that the same samples are used to train the transformers and predictors.\n"
      ]
    },
    {
      "cell_type": "code",
      "metadata": {
        "id": "xxMUn7GwWdzS",
        "colab_type": "code",
        "colab": {}
      },
      "source": [
        "!pip install category_encoders"
      ],
      "execution_count": 0,
      "outputs": []
    },
    {
      "cell_type": "code",
      "metadata": {
        "id": "x5VmliQYWu29",
        "colab_type": "code",
        "colab": {}
      },
      "source": [
        "import numpy as np\n",
        "import pandas as pd\n",
        "from math import sqrt\n",
        "import pandas_profiling\n",
        "import category_encoders as ce\n",
        "import matplotlib.pyplot as plt\n",
        "from sklearn.metrics import accuracy_score\n",
        "from sklearn.tree import DecisionTreeClassifier\n",
        "from sklearn.preprocessing import StandardScaler, RobustScaler\n",
        "from sklearn.model_selection import train_test_split"
      ],
      "execution_count": 0,
      "outputs": []
    },
    {
      "cell_type": "code",
      "metadata": {
        "id": "HS43IJiQW242",
        "colab_type": "code",
        "colab": {
          "base_uri": "https://localhost:8080/",
          "height": 34
        },
        "outputId": "a763a0da-98ed-4fc0-b311-b091eab346c5"
      },
      "source": [
        "LOCAL = '../data/tanzania/'\n",
        "WEB = 'https://raw.githubusercontent.com/LambdaSchool/DS-Unit-2-Linear-Models/master/data/tanzania/'\n",
        "\n",
        "train = pd.merge(pd.read_csv(WEB + 'train_features.csv'), \n",
        "                 pd.read_csv(WEB + 'train_labels.csv'))\n",
        "test = pd.read_csv(WEB + 'test_features.csv')\n",
        "sample_submission = pd.read_csv(WEB + 'sample_submission.csv')\n",
        "\n",
        "# Split train into train & val\n",
        "train, val = train_test_split(train, train_size=0.80, test_size=0.20, \n",
        "                              stratify=train['status_group'], random_state=42)\n",
        "\n",
        "train.shape, val.shape, test.shape"
      ],
      "execution_count": 92,
      "outputs": [
        {
          "output_type": "execute_result",
          "data": {
            "text/plain": [
              "((47520, 41), (11880, 41), (14358, 40))"
            ]
          },
          "metadata": {
            "tags": []
          },
          "execution_count": 92
        }
      ]
    },
    {
      "cell_type": "code",
      "metadata": {
        "id": "qUMNLmxcdvaE",
        "colab_type": "code",
        "colab": {}
      },
      "source": [
        "train.isnull().sum()"
      ],
      "execution_count": 0,
      "outputs": []
    },
    {
      "cell_type": "code",
      "metadata": {
        "id": "g7XZ0-BHsVOT",
        "colab_type": "code",
        "colab": {}
      },
      "source": [
        "train['scheme_name'].value_counts()"
      ],
      "execution_count": 0,
      "outputs": []
    },
    {
      "cell_type": "code",
      "metadata": {
        "id": "9I-zZqrtsv_O",
        "colab_type": "code",
        "colab": {
          "base_uri": "https://localhost:8080/",
          "height": 252
        },
        "outputId": "55791e56-e838-454d-8a4b-ce462677be1b"
      },
      "source": [
        "train['scheme_management'].value_counts()"
      ],
      "execution_count": 107,
      "outputs": [
        {
          "output_type": "execute_result",
          "data": {
            "text/plain": [
              "VWC                 29470\n",
              "WUG                  4164\n",
              "MISSING              3128\n",
              "Water authority      2507\n",
              "WUA                  2334\n",
              "Water Board          2197\n",
              "Parastatal           1320\n",
              "Private operator      836\n",
              "Company               824\n",
              "Other                 603\n",
              "SWC                    78\n",
              "Trust                  58\n",
              "None                    1\n",
              "Name: scheme_management, dtype: int64"
            ]
          },
          "metadata": {
            "tags": []
          },
          "execution_count": 107
        }
      ]
    },
    {
      "cell_type": "code",
      "metadata": {
        "id": "sYHQ2IPGXzfk",
        "colab_type": "code",
        "colab": {}
      },
      "source": [
        "def wrangle(X):\n",
        "    \"\"\"Wrangles train, validate, and test sets in the same way\"\"\"\n",
        "    X = X.copy()\n",
        "    \n",
        "    # About 3% of the time, latitude has small values near zero,\n",
        "    # outside Tanzania, so we'll treat these values like zero.\n",
        "    X['latitude'] = X['latitude'].replace(-2e-08, 0)\n",
        "    \n",
        "    # When columns have zeros and shouldn't, they are like null values.\n",
        "    # So we will replace them with the column mean.\n",
        "    cols_with_zeros = ['construction_year', 'longitude', 'latitude']\n",
        "    for col in cols_with_zeros:\n",
        "        X[col] = X[col].replace(0, np.nan)\n",
        "        X[col] = X[col].fillna(X[col].mean())\n",
        "        \n",
        "    # Convert date_recorded to datetime\n",
        "    X['datetime_recorded'] = pd.to_datetime(X['date_recorded'], infer_datetime_format=True)\n",
        "    \n",
        "    # Extract year from date_recorded\n",
        "    X['year_recorded'] = X['datetime_recorded'].dt.year\n",
        "    \n",
        "    # quantity & quantity_group are duplicates, so drop one\n",
        "    X = X.drop(columns=['id','quantity_group','recorded_by','datetime_recorded'])\n",
        "    \n",
        "    # for categoricals with missing values, fill with the category 'MISSING'\n",
        "    categoricals = X.select_dtypes(exclude='number').columns\n",
        "    for col in categoricals:\n",
        "        X[col] = X[col].fillna('MISSING')\n",
        "    \n",
        "    X['gov_funder'] = X['funder']=='Government Of Tanzania'\n",
        "    X['dwe_funder'] = X['funder']=='Dwe'\n",
        "    X['missing_funder'] = X['funder']=='MISSING'\n",
        "    X['gov_installer'] = X['installer']=='Government'\n",
        "    X['dwe_installer'] = X['installer']=='DWE'\n",
        "    X['missing_installer'] = X['installer']=='MISSING'\n",
        "    X['Igosi_ward'] = X['ward']=='Igosi'\n",
        "    X['Imalinyi_ward'] = X['ward']=='Imalinyi'\n",
        "#     X['Siha_ward'] = X['ward']=='Siha Kati'\n",
        "    X['none_scheme_name'] = (X['scheme_name']=='None')|(X['scheme_name']=='MISSING')\n",
        "    X['gov_scheme_name'] = X['scheme_name']=='Government'\n",
        "    X['Madukani_subvillage'] = X['subvillage']=='Madukani'\n",
        "    X['Shuleni_subvillage'] = X['subvillage']=='Shuleni'\n",
        "    X['Majengo_subvillage'] = X['subvillage']=='Majengo'\n",
        "    X['none_wpt'] = (X['wpt_name']=='none')|(X['wpt_name']=='MISSING')\n",
        "    X['Shuleni_wpt'] = X['wpt_name']=='Shuleni'\n",
        "    \n",
        "    return X\n",
        "\n",
        "\n",
        "train = wrangle(train)\n",
        "val = wrangle(val)\n",
        "test = wrangle(test)"
      ],
      "execution_count": 0,
      "outputs": []
    },
    {
      "cell_type": "code",
      "metadata": {
        "id": "r4wYuHPsY4Jv",
        "colab_type": "code",
        "colab": {}
      },
      "source": [
        "# categorical_features = X_train.describe(exclude='number').T.query('unique <= 2000').index.drop(['water_quality']).tolist()\n",
        "# numeric_features = X_train.select_dtypes('number').columns.drop(['region_code','district_code']).tolist()\n",
        "# features = categorical_features + numeric_features"
      ],
      "execution_count": 0,
      "outputs": []
    },
    {
      "cell_type": "code",
      "metadata": {
        "id": "zPNAVTWnklnE",
        "colab_type": "code",
        "colab": {
          "base_uri": "https://localhost:8080/",
          "height": 284
        },
        "outputId": "8cdbe2fc-cbcc-43f2-9f5d-d0f688316875"
      },
      "source": [
        "train.describe()"
      ],
      "execution_count": 94,
      "outputs": [
        {
          "output_type": "execute_result",
          "data": {
            "text/html": [
              "<div>\n",
              "<style scoped>\n",
              "    .dataframe tbody tr th:only-of-type {\n",
              "        vertical-align: middle;\n",
              "    }\n",
              "\n",
              "    .dataframe tbody tr th {\n",
              "        vertical-align: top;\n",
              "    }\n",
              "\n",
              "    .dataframe thead th {\n",
              "        text-align: right;\n",
              "    }\n",
              "</style>\n",
              "<table border=\"1\" class=\"dataframe\">\n",
              "  <thead>\n",
              "    <tr style=\"text-align: right;\">\n",
              "      <th></th>\n",
              "      <th>amount_tsh</th>\n",
              "      <th>gps_height</th>\n",
              "      <th>longitude</th>\n",
              "      <th>latitude</th>\n",
              "      <th>num_private</th>\n",
              "      <th>region_code</th>\n",
              "      <th>district_code</th>\n",
              "      <th>population</th>\n",
              "      <th>construction_year</th>\n",
              "      <th>year_recorded</th>\n",
              "    </tr>\n",
              "  </thead>\n",
              "  <tbody>\n",
              "    <tr>\n",
              "      <th>count</th>\n",
              "      <td>47520.000000</td>\n",
              "      <td>47520.000000</td>\n",
              "      <td>47520.000000</td>\n",
              "      <td>47520.000000</td>\n",
              "      <td>47520.000000</td>\n",
              "      <td>47520.000000</td>\n",
              "      <td>47520.000000</td>\n",
              "      <td>47520.000000</td>\n",
              "      <td>47520.000000</td>\n",
              "      <td>47520.000000</td>\n",
              "    </tr>\n",
              "    <tr>\n",
              "      <th>mean</th>\n",
              "      <td>321.925261</td>\n",
              "      <td>669.567656</td>\n",
              "      <td>35.149033</td>\n",
              "      <td>-5.884512</td>\n",
              "      <td>0.477736</td>\n",
              "      <td>15.258291</td>\n",
              "      <td>5.616751</td>\n",
              "      <td>179.805513</td>\n",
              "      <td>1996.825469</td>\n",
              "      <td>2011.921907</td>\n",
              "    </tr>\n",
              "    <tr>\n",
              "      <th>std</th>\n",
              "      <td>3197.240487</td>\n",
              "      <td>693.005745</td>\n",
              "      <td>2.564423</td>\n",
              "      <td>2.762702</td>\n",
              "      <td>13.312977</td>\n",
              "      <td>17.530228</td>\n",
              "      <td>9.621230</td>\n",
              "      <td>463.081564</td>\n",
              "      <td>10.095900</td>\n",
              "      <td>0.959690</td>\n",
              "    </tr>\n",
              "    <tr>\n",
              "      <th>min</th>\n",
              "      <td>0.000000</td>\n",
              "      <td>-63.000000</td>\n",
              "      <td>29.607122</td>\n",
              "      <td>-11.649440</td>\n",
              "      <td>0.000000</td>\n",
              "      <td>1.000000</td>\n",
              "      <td>0.000000</td>\n",
              "      <td>0.000000</td>\n",
              "      <td>1960.000000</td>\n",
              "      <td>2002.000000</td>\n",
              "    </tr>\n",
              "    <tr>\n",
              "      <th>25%</th>\n",
              "      <td>0.000000</td>\n",
              "      <td>0.000000</td>\n",
              "      <td>33.353813</td>\n",
              "      <td>-8.528215</td>\n",
              "      <td>0.000000</td>\n",
              "      <td>5.000000</td>\n",
              "      <td>2.000000</td>\n",
              "      <td>0.000000</td>\n",
              "      <td>1996.000000</td>\n",
              "      <td>2011.000000</td>\n",
              "    </tr>\n",
              "    <tr>\n",
              "      <th>50%</th>\n",
              "      <td>0.000000</td>\n",
              "      <td>372.500000</td>\n",
              "      <td>35.149033</td>\n",
              "      <td>-5.429301</td>\n",
              "      <td>0.000000</td>\n",
              "      <td>12.000000</td>\n",
              "      <td>3.000000</td>\n",
              "      <td>25.000000</td>\n",
              "      <td>1996.825469</td>\n",
              "      <td>2012.000000</td>\n",
              "    </tr>\n",
              "    <tr>\n",
              "      <th>75%</th>\n",
              "      <td>25.000000</td>\n",
              "      <td>1320.000000</td>\n",
              "      <td>37.170578</td>\n",
              "      <td>-3.400154</td>\n",
              "      <td>0.000000</td>\n",
              "      <td>17.000000</td>\n",
              "      <td>5.000000</td>\n",
              "      <td>215.000000</td>\n",
              "      <td>2004.000000</td>\n",
              "      <td>2013.000000</td>\n",
              "    </tr>\n",
              "    <tr>\n",
              "      <th>max</th>\n",
              "      <td>350000.000000</td>\n",
              "      <td>2770.000000</td>\n",
              "      <td>40.344301</td>\n",
              "      <td>-0.998464</td>\n",
              "      <td>1776.000000</td>\n",
              "      <td>99.000000</td>\n",
              "      <td>80.000000</td>\n",
              "      <td>15300.000000</td>\n",
              "      <td>2013.000000</td>\n",
              "      <td>2013.000000</td>\n",
              "    </tr>\n",
              "  </tbody>\n",
              "</table>\n",
              "</div>"
            ],
            "text/plain": [
              "          amount_tsh    gps_height  ...  construction_year  year_recorded\n",
              "count   47520.000000  47520.000000  ...       47520.000000   47520.000000\n",
              "mean      321.925261    669.567656  ...        1996.825469    2011.921907\n",
              "std      3197.240487    693.005745  ...          10.095900       0.959690\n",
              "min         0.000000    -63.000000  ...        1960.000000    2002.000000\n",
              "25%         0.000000      0.000000  ...        1996.000000    2011.000000\n",
              "50%         0.000000    372.500000  ...        1996.825469    2012.000000\n",
              "75%        25.000000   1320.000000  ...        2004.000000    2013.000000\n",
              "max    350000.000000   2770.000000  ...        2013.000000    2013.000000\n",
              "\n",
              "[8 rows x 10 columns]"
            ]
          },
          "metadata": {
            "tags": []
          },
          "execution_count": 94
        }
      ]
    },
    {
      "cell_type": "code",
      "metadata": {
        "id": "5B-EjEB_Z6SC",
        "colab_type": "code",
        "colab": {
          "base_uri": "https://localhost:8080/",
          "height": 202
        },
        "outputId": "bb6236b3-db99-4a01-fbf3-edc4b51d8bd2"
      },
      "source": [
        "train.describe(exclude='number').sort_values(by='unique', axis=1)"
      ],
      "execution_count": 95,
      "outputs": [
        {
          "output_type": "execute_result",
          "data": {
            "text/html": [
              "<div>\n",
              "<style scoped>\n",
              "    .dataframe tbody tr th:only-of-type {\n",
              "        vertical-align: middle;\n",
              "    }\n",
              "\n",
              "    .dataframe tbody tr th {\n",
              "        vertical-align: top;\n",
              "    }\n",
              "\n",
              "    .dataframe thead th {\n",
              "        text-align: right;\n",
              "    }\n",
              "</style>\n",
              "<table border=\"1\" class=\"dataframe\">\n",
              "  <thead>\n",
              "    <tr style=\"text-align: right;\">\n",
              "      <th></th>\n",
              "      <th>Shuleni_wpt</th>\n",
              "      <th>gov_funder</th>\n",
              "      <th>dwe_funder</th>\n",
              "      <th>missing_funder</th>\n",
              "      <th>gov_installer</th>\n",
              "      <th>missing_installer</th>\n",
              "      <th>Igosi_ward</th>\n",
              "      <th>dwe_installer</th>\n",
              "      <th>none_scheme_name</th>\n",
              "      <th>gov_scheme_name</th>\n",
              "      <th>Madukani_subvillage</th>\n",
              "      <th>Shuleni_subvillage</th>\n",
              "      <th>Majengo_subvillage</th>\n",
              "      <th>Imalinyi_ward</th>\n",
              "      <th>none_wpt</th>\n",
              "      <th>public_meeting</th>\n",
              "      <th>permit</th>\n",
              "      <th>status_group</th>\n",
              "      <th>source_class</th>\n",
              "      <th>quantity</th>\n",
              "      <th>management_group</th>\n",
              "      <th>waterpoint_type_group</th>\n",
              "      <th>quality_group</th>\n",
              "      <th>source_type</th>\n",
              "      <th>payment_type</th>\n",
              "      <th>waterpoint_type</th>\n",
              "      <th>payment</th>\n",
              "      <th>extraction_type_class</th>\n",
              "      <th>water_quality</th>\n",
              "      <th>basin</th>\n",
              "      <th>source</th>\n",
              "      <th>management</th>\n",
              "      <th>scheme_management</th>\n",
              "      <th>extraction_type_group</th>\n",
              "      <th>extraction_type</th>\n",
              "      <th>region</th>\n",
              "      <th>lga</th>\n",
              "      <th>date_recorded</th>\n",
              "      <th>funder</th>\n",
              "      <th>installer</th>\n",
              "      <th>ward</th>\n",
              "      <th>scheme_name</th>\n",
              "      <th>subvillage</th>\n",
              "      <th>wpt_name</th>\n",
              "    </tr>\n",
              "  </thead>\n",
              "  <tbody>\n",
              "    <tr>\n",
              "      <th>count</th>\n",
              "      <td>47520</td>\n",
              "      <td>47520</td>\n",
              "      <td>47520</td>\n",
              "      <td>47520</td>\n",
              "      <td>47520</td>\n",
              "      <td>47520</td>\n",
              "      <td>47520</td>\n",
              "      <td>47520</td>\n",
              "      <td>47520</td>\n",
              "      <td>47520</td>\n",
              "      <td>47520</td>\n",
              "      <td>47520</td>\n",
              "      <td>47520</td>\n",
              "      <td>47520</td>\n",
              "      <td>47520</td>\n",
              "      <td>47520</td>\n",
              "      <td>47520</td>\n",
              "      <td>47520</td>\n",
              "      <td>47520</td>\n",
              "      <td>47520</td>\n",
              "      <td>47520</td>\n",
              "      <td>47520</td>\n",
              "      <td>47520</td>\n",
              "      <td>47520</td>\n",
              "      <td>47520</td>\n",
              "      <td>47520</td>\n",
              "      <td>47520</td>\n",
              "      <td>47520</td>\n",
              "      <td>47520</td>\n",
              "      <td>47520</td>\n",
              "      <td>47520</td>\n",
              "      <td>47520</td>\n",
              "      <td>47520</td>\n",
              "      <td>47520</td>\n",
              "      <td>47520</td>\n",
              "      <td>47520</td>\n",
              "      <td>47520</td>\n",
              "      <td>47520</td>\n",
              "      <td>47520</td>\n",
              "      <td>47520</td>\n",
              "      <td>47520</td>\n",
              "      <td>47520</td>\n",
              "      <td>47520</td>\n",
              "      <td>47520</td>\n",
              "    </tr>\n",
              "    <tr>\n",
              "      <th>unique</th>\n",
              "      <td>2</td>\n",
              "      <td>2</td>\n",
              "      <td>2</td>\n",
              "      <td>2</td>\n",
              "      <td>2</td>\n",
              "      <td>2</td>\n",
              "      <td>2</td>\n",
              "      <td>2</td>\n",
              "      <td>2</td>\n",
              "      <td>2</td>\n",
              "      <td>2</td>\n",
              "      <td>2</td>\n",
              "      <td>2</td>\n",
              "      <td>2</td>\n",
              "      <td>2</td>\n",
              "      <td>3</td>\n",
              "      <td>3</td>\n",
              "      <td>3</td>\n",
              "      <td>3</td>\n",
              "      <td>5</td>\n",
              "      <td>5</td>\n",
              "      <td>6</td>\n",
              "      <td>6</td>\n",
              "      <td>7</td>\n",
              "      <td>7</td>\n",
              "      <td>7</td>\n",
              "      <td>7</td>\n",
              "      <td>7</td>\n",
              "      <td>8</td>\n",
              "      <td>9</td>\n",
              "      <td>10</td>\n",
              "      <td>12</td>\n",
              "      <td>13</td>\n",
              "      <td>13</td>\n",
              "      <td>18</td>\n",
              "      <td>21</td>\n",
              "      <td>124</td>\n",
              "      <td>349</td>\n",
              "      <td>1717</td>\n",
              "      <td>1930</td>\n",
              "      <td>2082</td>\n",
              "      <td>2564</td>\n",
              "      <td>17232</td>\n",
              "      <td>30661</td>\n",
              "    </tr>\n",
              "    <tr>\n",
              "      <th>top</th>\n",
              "      <td>False</td>\n",
              "      <td>False</td>\n",
              "      <td>False</td>\n",
              "      <td>False</td>\n",
              "      <td>False</td>\n",
              "      <td>False</td>\n",
              "      <td>False</td>\n",
              "      <td>False</td>\n",
              "      <td>False</td>\n",
              "      <td>False</td>\n",
              "      <td>False</td>\n",
              "      <td>False</td>\n",
              "      <td>False</td>\n",
              "      <td>False</td>\n",
              "      <td>False</td>\n",
              "      <td>True</td>\n",
              "      <td>True</td>\n",
              "      <td>functional</td>\n",
              "      <td>groundwater</td>\n",
              "      <td>enough</td>\n",
              "      <td>user-group</td>\n",
              "      <td>communal standpipe</td>\n",
              "      <td>good</td>\n",
              "      <td>spring</td>\n",
              "      <td>never pay</td>\n",
              "      <td>communal standpipe</td>\n",
              "      <td>never pay</td>\n",
              "      <td>gravity</td>\n",
              "      <td>soft</td>\n",
              "      <td>Lake Victoria</td>\n",
              "      <td>spring</td>\n",
              "      <td>vwc</td>\n",
              "      <td>VWC</td>\n",
              "      <td>gravity</td>\n",
              "      <td>gravity</td>\n",
              "      <td>Iringa</td>\n",
              "      <td>Njombe</td>\n",
              "      <td>2011-03-17</td>\n",
              "      <td>Government Of Tanzania</td>\n",
              "      <td>DWE</td>\n",
              "      <td>Igosi</td>\n",
              "      <td>MISSING</td>\n",
              "      <td>Shuleni</td>\n",
              "      <td>none</td>\n",
              "    </tr>\n",
              "    <tr>\n",
              "      <th>freq</th>\n",
              "      <td>46104</td>\n",
              "      <td>40199</td>\n",
              "      <td>47130</td>\n",
              "      <td>44616</td>\n",
              "      <td>46062</td>\n",
              "      <td>44603</td>\n",
              "      <td>47263</td>\n",
              "      <td>33542</td>\n",
              "      <td>24470</td>\n",
              "      <td>47269</td>\n",
              "      <td>47116</td>\n",
              "      <td>47100</td>\n",
              "      <td>47111</td>\n",
              "      <td>47311</td>\n",
              "      <td>44641</td>\n",
              "      <td>40838</td>\n",
              "      <td>31071</td>\n",
              "      <td>25807</td>\n",
              "      <td>36638</td>\n",
              "      <td>26567</td>\n",
              "      <td>42027</td>\n",
              "      <td>27642</td>\n",
              "      <td>40598</td>\n",
              "      <td>13620</td>\n",
              "      <td>20287</td>\n",
              "      <td>22778</td>\n",
              "      <td>20287</td>\n",
              "      <td>21448</td>\n",
              "      <td>40598</td>\n",
              "      <td>8137</td>\n",
              "      <td>13620</td>\n",
              "      <td>32449</td>\n",
              "      <td>29470</td>\n",
              "      <td>21448</td>\n",
              "      <td>21448</td>\n",
              "      <td>4250</td>\n",
              "      <td>2003</td>\n",
              "      <td>474</td>\n",
              "      <td>7321</td>\n",
              "      <td>13978</td>\n",
              "      <td>257</td>\n",
              "      <td>22532</td>\n",
              "      <td>420</td>\n",
              "      <td>2879</td>\n",
              "    </tr>\n",
              "  </tbody>\n",
              "</table>\n",
              "</div>"
            ],
            "text/plain": [
              "       Shuleni_wpt gov_funder dwe_funder  ... scheme_name subvillage wpt_name\n",
              "count        47520      47520      47520  ...       47520      47520    47520\n",
              "unique           2          2          2  ...        2564      17232    30661\n",
              "top          False      False      False  ...     MISSING    Shuleni     none\n",
              "freq         46104      40199      47130  ...       22532        420     2879\n",
              "\n",
              "[4 rows x 44 columns]"
            ]
          },
          "metadata": {
            "tags": []
          },
          "execution_count": 95
        }
      ]
    },
    {
      "cell_type": "code",
      "metadata": {
        "id": "g2Mz2scydqAV",
        "colab_type": "code",
        "colab": {}
      },
      "source": [
        "train_features.sample(1)"
      ],
      "execution_count": 0,
      "outputs": []
    },
    {
      "cell_type": "code",
      "metadata": {
        "id": "-6z2TlYPw4rc",
        "colab_type": "code",
        "colab": {
          "base_uri": "https://localhost:8080/",
          "height": 252
        },
        "outputId": "aa9f982e-1930-4a21-f9d3-d32e6e36dbc2"
      },
      "source": [
        "train['extraction_type_group'].value_counts()"
      ],
      "execution_count": 104,
      "outputs": [
        {
          "output_type": "execute_result",
          "data": {
            "text/plain": [
              "gravity            21448\n",
              "nira/tanira         6526\n",
              "other               5193\n",
              "submersible         4894\n",
              "swn 80              2930\n",
              "mono                2261\n",
              "india mark ii       1928\n",
              "afridev             1435\n",
              "rope pump            353\n",
              "other handpump       292\n",
              "other motorpump       94\n",
              "wind-powered          93\n",
              "india mark iii        73\n",
              "Name: extraction_type_group, dtype: int64"
            ]
          },
          "metadata": {
            "tags": []
          },
          "execution_count": 104
        }
      ]
    },
    {
      "cell_type": "code",
      "metadata": {
        "id": "NN55s4LYYgYD",
        "colab_type": "code",
        "colab": {
          "base_uri": "https://localhost:8080/",
          "height": 50
        },
        "outputId": "43b48235-8a43-4196-f8df-7fb37962a53a"
      },
      "source": [
        "target = 'status_group'\n",
        "train_features = train.drop(columns=[target])\n",
        "numeric_features = train_features.select_dtypes(include='number').columns.tolist()\n",
        "categorical_features = train_features.describe(exclude='number').T.query(\n",
        "    'unique <= 200').drop(\n",
        "    ['public_meeting','extraction_type_group','water_quality','quality_group']).index.tolist()\n",
        "features = numeric_features + categorical_features\n",
        "\n",
        "X_train = train[features]\n",
        "y_train = train[target]\n",
        "X_val = val[features]\n",
        "y_val = val[target]\n",
        "X_test = test[features]\n",
        "\n",
        "X_train_subset = X_train[features]\n",
        "X_val_subset = X_val[features]\n",
        "\n",
        "encoder = ce.OneHotEncoder(use_cat_names=True)\n",
        "X_train_encoded = encoder.fit_transform(X_train_subset)\n",
        "X_val_encoded = encoder.transform(X_val_subset)\n",
        "\n",
        "# scaler = StandardScaler()\n",
        "# X_train_scaled = scaler.fit_transform(X_train_encoded)\n",
        "# X_val_scaled = scaler.transform(X_val_encoded)\n",
        "\n",
        "model_dt = DecisionTreeClassifier(min_samples_leaf=27, random_state=42)\n",
        "model_dt.fit(X_train_encoded, y_train)\n",
        "train_score = model_dt.score(X_train_encoded, y_train)\n",
        "val_score = model_dt.score(X_val_encoded, y_val)\n",
        "print('Train Accuracy: {:5.4f}%'.format(train_score*100))\n",
        "print('Validation Accuracy: {:5.4f}%'.format(val_score*100))"
      ],
      "execution_count": 113,
      "outputs": [
        {
          "output_type": "stream",
          "text": [
            "Train Accuracy: 79.9053%\n",
            "Validation Accuracy: 77.5000%\n"
          ],
          "name": "stdout"
        }
      ]
    },
    {
      "cell_type": "markdown",
      "metadata": {
        "id": "KJLiSA9KoqC0",
        "colab_type": "text"
      },
      "source": [
        "0. Original\n",
        "- Train Accuracy: 79.9095%\n",
        "- Validation Accuracy: 77.3990%\n",
        "1. public_meeting\n",
        "  - Train Accuracy: 79.8843%\n",
        "  - Validation Accuracy: 77.4242%\n",
        "2. extraction_type_group\n",
        "  - Train Accuracy: 79.8843%\n",
        "  - Validation Accuracy: 77.4327%\n",
        "3. water_quality\n",
        "  - Train Accuracy: 79.8927%\n",
        "  - Validation Accuracy: 77.4579%\n",
        "4. quality_group\n",
        "  - Train Accuracy: 79.9053%\n",
        "  - Validation Accuracy: 77.5000%"
      ]
    },
    {
      "cell_type": "code",
      "metadata": {
        "id": "o1qjq7EAfby2",
        "colab_type": "code",
        "colab": {
          "base_uri": "https://localhost:8080/",
          "height": 739
        },
        "outputId": "62232a7d-c7f6-477d-8873-cb1861edae6f"
      },
      "source": [
        "new_f_score = []\n",
        "for feature in features:\n",
        "  f_drop = features.copy()\n",
        "  f_drop.remove(feature)\n",
        "  X_train_subset = X_train[f_drop]\n",
        "  X_val_subset = X_val[f_drop]\n",
        "\n",
        "  encoder = ce.OneHotEncoder(use_cat_names=True)\n",
        "  X_train_encoded = encoder.fit_transform(X_train_subset)\n",
        "  X_val_encoded = encoder.transform(X_val_subset)\n",
        "\n",
        "  scaler = RobustScaler()\n",
        "  X_train_scaled = scaler.fit_transform(X_train_encoded)\n",
        "  X_val_scaled = scaler.transform(X_val_encoded)\n",
        "\n",
        "  model_dt_drop = DecisionTreeClassifier(min_samples_leaf=27, random_state=42)\n",
        "  model_dt_drop.fit(X_train_scaled, y_train)\n",
        "  print(feature, model_dt_drop.score(X_val_scaled, y_val)*100)\n",
        "  if model_dt_drop.score(X_val_scaled, y_val) > val_score:\n",
        "    val_score = model_dt_drop.score(X_val_scaled, y_val)\n",
        "    new_f_score = [feature, val_score]\n",
        "new_f_score"
      ],
      "execution_count": 114,
      "outputs": [
        {
          "output_type": "stream",
          "text": [
            "amount_tsh 76.27946127946129\n",
            "gps_height 77.24747474747474\n",
            "longitude 76.86868686868686\n",
            "latitude 77.16329966329967\n",
            "num_private 77.52525252525253\n",
            "region_code 77.33164983164983\n",
            "district_code 77.28956228956228\n",
            "population 76.75925925925927\n",
            "construction_year 76.69191919191918\n",
            "year_recorded 77.35690235690235\n",
            "basin 76.91919191919192\n",
            "region 77.08754208754208\n",
            "lga 76.65824915824916\n",
            "scheme_management 77.5\n",
            "permit 77.35690235690235\n",
            "extraction_type 77.28956228956228\n",
            "extraction_type_class 77.28114478114479\n",
            "management 77.46632996632997\n",
            "management_group 77.51683501683502\n",
            "payment 77.5\n",
            "payment_type 77.5\n",
            "quantity 72.38215488215488\n",
            "source 77.46632996632997\n",
            "source_type 77.49158249158249\n",
            "source_class 77.32323232323233\n",
            "waterpoint_type 76.68350168350169\n",
            "waterpoint_type_group 77.52525252525253\n",
            "gov_funder 77.28114478114479\n",
            "dwe_funder 77.52525252525253\n",
            "missing_funder 77.5\n",
            "gov_installer 77.39057239057239\n",
            "dwe_installer 77.39057239057239\n",
            "missing_installer 77.52525252525253\n",
            "Igosi_ward 77.52525252525253\n",
            "Imalinyi_ward 77.5\n",
            "none_scheme_name 77.50841750841751\n",
            "gov_scheme_name 77.5\n",
            "Madukani_subvillage 77.52525252525253\n",
            "Shuleni_subvillage 77.52525252525253\n",
            "Majengo_subvillage 77.5\n",
            "none_wpt 77.52525252525253\n",
            "Shuleni_wpt 77.52525252525253\n"
          ],
          "name": "stdout"
        },
        {
          "output_type": "execute_result",
          "data": {
            "text/plain": [
              "['num_private', 0.7752525252525253]"
            ]
          },
          "metadata": {
            "tags": []
          },
          "execution_count": 114
        }
      ]
    },
    {
      "cell_type": "markdown",
      "metadata": {
        "id": "vV5dlPPwgdaA",
        "colab_type": "text"
      },
      "source": [
        "### RobustScaler\n",
        "\n",
        "Decision Tree Classifier (min_samples_leaf=27)\n",
        "- Train Accuracy: 79.7917%\n",
        "- Validation Accuracy: 77.0202%\n"
      ]
    },
    {
      "cell_type": "markdown",
      "metadata": {
        "colab_type": "text",
        "id": "ZhUzucgPr_he"
      },
      "source": [
        "## Submit to predictive modeling competition\n",
        "\n",
        "\n",
        "### Write submission CSV file\n",
        "\n",
        "The format for the submission file is simply the row id and the predicted label (for an example, see `sample_submission.csv` on the data download page.\n",
        "\n",
        "For example, if you just predicted that all the waterpoints were functional you would have the following predictions:\n",
        "\n",
        "<pre>id,status_group\n",
        "50785,functional\n",
        "51630,functional\n",
        "17168,functional\n",
        "45559,functional\n",
        "49871,functional\n",
        "</pre>\n",
        "\n",
        "Your code to generate a submission file may look like this: \n",
        "<pre># estimator is your scikit-learn estimator, which you've fit on X_train\n",
        "\n",
        "# X_test is your pandas dataframe or numpy array, \n",
        "# with the same number of rows, in the same order, as test_features.csv, \n",
        "# and the same number of columns, in the same order, as X_train\n",
        "\n",
        "y_pred = estimator.predict(X_test)\n",
        "\n",
        "\n",
        "# Makes a dataframe with two columns, id and status_group, \n",
        "# and writes to a csv file, without the index\n",
        "\n",
        "sample_submission = pd.read_csv('sample_submission.csv')\n",
        "submission = sample_submission.copy()\n",
        "submission['status_group'] = y_pred\n",
        "submission.to_csv('your-submission-filename.csv', index=False)\n",
        "</pre>"
      ]
    },
    {
      "cell_type": "code",
      "metadata": {
        "colab_type": "code",
        "id": "yRitgZ_ULx6K",
        "outputId": "725582f2-847a-4d2c-b060-913356dd61c1",
        "colab": {
          "base_uri": "https://localhost:8080/",
          "height": 34
        }
      },
      "source": [
        "X_test_subset = test[features]\n",
        "X_test_encoded = encoder.transform(X_test_subset)\n",
        "X_test_scaled = scaler.transform(X_test_encoded)\n",
        "all(X_test_encoded.columns == X_train_encoded.columns)"
      ],
      "execution_count": 77,
      "outputs": [
        {
          "output_type": "execute_result",
          "data": {
            "text/plain": [
              "True"
            ]
          },
          "metadata": {
            "tags": []
          },
          "execution_count": 77
        }
      ]
    },
    {
      "cell_type": "code",
      "metadata": {
        "id": "uDw0PBCeJO3d",
        "colab_type": "code",
        "colab": {}
      },
      "source": [
        "y_pred = model_dt.predict(X_test_scaled)\n",
        "submission = sample_submission.copy()\n",
        "submission['status_group'] = y_pred\n",
        "submission.to_csv('submission-03.csv', index=False)"
      ],
      "execution_count": 0,
      "outputs": []
    },
    {
      "cell_type": "code",
      "metadata": {
        "id": "nL0G_S3OJQwd",
        "colab_type": "code",
        "outputId": "452510c0-c9f4-4edf-9131-17115447999c",
        "colab": {
          "base_uri": "https://localhost:8080/",
          "height": 185
        }
      },
      "source": [
        "!head submission-03.csv"
      ],
      "execution_count": 80,
      "outputs": [
        {
          "output_type": "stream",
          "text": [
            "id,status_group\n",
            "50785,functional\n",
            "51630,functional\n",
            "17168,functional\n",
            "45559,non functional\n",
            "49871,functional\n",
            "52449,functional\n",
            "24806,non functional\n",
            "28965,non functional\n",
            "36301,non functional\n"
          ],
          "name": "stdout"
        }
      ]
    },
    {
      "cell_type": "code",
      "metadata": {
        "id": "lsEprjuOwWcR",
        "colab_type": "code",
        "colab": {}
      },
      "source": [
        "# submission-01: 71.9% 'unique <= 3000' non-scaler"
      ],
      "execution_count": 0,
      "outputs": []
    },
    {
      "cell_type": "markdown",
      "metadata": {
        "colab_type": "text",
        "id": "PpG9knom1FN7"
      },
      "source": [
        "### Send submission CSV file to Kaggle\n",
        "\n",
        "#### Option 1. Kaggle web UI\n",
        " \n",
        "Go to our Kaggle InClass competition webpage. Use the blue **Submit Predictions** button to upload your CSV file.\n",
        "\n",
        "\n",
        "#### Option 2. Kaggle API\n",
        "\n",
        "Use the Kaggle API to upload your CSV file."
      ]
    }
  ]
}