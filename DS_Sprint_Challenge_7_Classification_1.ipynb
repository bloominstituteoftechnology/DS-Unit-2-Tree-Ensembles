{
  "nbformat": 4,
  "nbformat_minor": 0,
  "metadata": {
    "colab": {
      "name": "DS_Sprint_Challenge_7_Classification_1.ipynb",
      "version": "0.3.2",
      "provenance": [],
      "include_colab_link": true
    },
    "kernelspec": {
      "display_name": "Python 3",
      "language": "python",
      "name": "python3"
    },
    "language_info": {
      "codemirror_mode": {
        "name": "ipython",
        "version": 3
      },
      "file_extension": ".py",
      "mimetype": "text/x-python",
      "name": "python",
      "nbconvert_exporter": "python",
      "pygments_lexer": "ipython3",
      "version": "3.7.1"
    }
  },
  "cells": [
    {
      "cell_type": "markdown",
      "metadata": {
        "id": "view-in-github",
        "colab_type": "text"
      },
      "source": [
        "<a href=\"https://colab.research.google.com/github/ElisabethShah/DS-Unit-2-Tree-Ensembles/blob/master/DS_Sprint_Challenge_7_Classification_1.ipynb\" target=\"_parent\"><img src=\"https://colab.research.google.com/assets/colab-badge.svg\" alt=\"Open In Colab\"/></a>"
      ]
    },
    {
      "cell_type": "markdown",
      "metadata": {
        "colab_type": "text",
        "id": "7NQhCv9N9NCo"
      },
      "source": [
        "_Lambda School Data Science, Unit 2_\n",
        " \n",
        "# Sprint Challenge: Predict Steph Curry's shots 🏀\n",
        "\n",
        "For your Sprint Challenge, you'll use a dataset with all Steph Curry's NBA field goal attempts. (Regular season and playoff games, from October 28, 2009, through June 5, 2019.) \n",
        "\n",
        "You'll use information about the shot and the game to predict whether the shot was made. This is hard to predict! Try for an accuracy score in the high 50's or low 60's. The dataset was collected with the [nba_api](https://github.com/swar/nba_api) Python library."
      ]
    },
    {
      "cell_type": "code",
      "metadata": {
        "id": "ScHReEEvTZO5",
        "colab_type": "code",
        "colab": {}
      },
      "source": [
        "# General imports.\n",
        "import numpy as np\n",
        "import pandas as pd\n",
        "import pandas_profiling as pp\n",
        "\n",
        "# Scikit-learn imports.\n",
        "from sklearn.metrics import accuracy_score"
      ],
      "execution_count": 0,
      "outputs": []
    },
    {
      "cell_type": "code",
      "metadata": {
        "colab_type": "code",
        "id": "5RDEWI9c9NCr",
        "colab": {}
      },
      "source": [
        "# Load data.\n",
        "url = ('https://drive.google.com/uc?export=download'\n",
        "       '&id=1fL7KPyxgGYfQDsuJoBWHIWwCAf-HTFpX')\n",
        "df = pd.read_csv(url, parse_dates=['game_date']).set_index('game_date')\n",
        "assert df.shape == (13958, 19)"
      ],
      "execution_count": 0,
      "outputs": []
    },
    {
      "cell_type": "markdown",
      "metadata": {
        "colab_type": "text",
        "id": "gWRX4uaY9NCw"
      },
      "source": [
        "## Overview\n",
        "\n",
        "This Sprint Challenge has two parts. To demonstrate mastery on each part, do all the required, numbered instructions. To earn a score of \"3\" for the part, also do the stretch goals.\n",
        "\n",
        "## Part 1. Prepare to model\n",
        "\n",
        "### Required\n",
        "\n",
        "1. **Do train/validate/test split.** Use the 2009-10 season through 2016-17 season to train, the 2017-18 season to validate, and the 2018-19 season to test. NBA seasons begin in October and end in June. You'll know you've split the data correctly when your train set has 11081 observations, your validation set has 1168 observations, and your test set has 1709 observations.\n",
        "2. **Begin with baselines for classification.** Your target to predict is `shot_made_flag`. What is the baseline accuracy for the validation set, if you guessed the majority class for every prediction?\n",
        "3. **Use Ordinal Encoding _or_ One-Hot Encoding,** for the categorical features you select.\n",
        "4. **Train a Random Forest _or_ Logistic Regression** with the features you select.\n",
        "\n",
        "### Stretch goals\n",
        "Engineer at least 4 of these 5 features:\n",
        "\n",
        "- **Homecourt Advantage**: Is the home team (`htm`) the Golden State Warriors (`GSW`) ?\n",
        "- **Opponent**: Who is the other team playing the Golden State Warriors?\n",
        "- **Seconds remaining in the period**: Combine minutes remaining with seconds remaining, to get the total number of seconds remaining in the period.\n",
        "- **Seconds remaining in the game**: Combine period, and seconds remaining in the period, to get the total number of seconds remaining in the game. A basketball game has 4 periods, each 12 minutes long.\n",
        "- **Made previous shot**: Was Steph Curry's previous shot successful?\n",
        "    \n",
        "\n",
        "## Part 2. Evaluate models\n",
        "\n",
        "### Required\n",
        "1. Get your model's **validation accuracy.** (Multiple times if you try multiple iterations.)\n",
        "2. Get your model's **test accuracy.** (One time, at the end.)\n",
        "3. Get and plot your Random Forest's **feature importances** _or_ your Logistic Regression's **coefficients.**\n",
        "4. Imagine this is the confusion matrix for a binary classification model. **Calculate accuracy, precision, and recall for this confusion matrix:**\n",
        "\n",
        "<table>\n",
        "  <tr>\n",
        "    <td colspan=\"2\" rowspan=\"2\"></td>\n",
        "    <td colspan=\"2\">Predicted</td>\n",
        "  </tr>\n",
        "  <tr>\n",
        "    <td>Negative</td>\n",
        "    <td>Positive</td>\n",
        "  </tr>\n",
        "  <tr>\n",
        "    <td rowspan=\"2\">Actual</td>\n",
        "    <td>Negative</td>\n",
        "    <td style=\"border: solid\">85</td>\n",
        "    <td style=\"border: solid\">58</td>\n",
        "  </tr>\n",
        "  <tr>\n",
        "    <td>Positive</td>\n",
        "    <td style=\"border: solid\">8</td>\n",
        "    <td style=\"border: solid\"> 36</td>\n",
        "  </tr>\n",
        "</table>\n",
        "\n",
        "\n",
        "### Stretch goals\n",
        "- Calculate F1 score for the provided, imaginary confusion matrix.\n",
        "- Plot a real confusion matrix for your basketball model, with row and column labels.\n",
        "- Print the classification report for your model."
      ]
    },
    {
      "cell_type": "markdown",
      "metadata": {
        "id": "Y-0B02bGT_wI",
        "colab_type": "text"
      },
      "source": [
        "## Part 1"
      ]
    },
    {
      "cell_type": "markdown",
      "metadata": {
        "id": "sDysjxNBUGXQ",
        "colab_type": "text"
      },
      "source": [
        "### Required"
      ]
    },
    {
      "cell_type": "markdown",
      "metadata": {
        "id": "gCsCyADBUJsI",
        "colab_type": "text"
      },
      "source": [
        "#### 1. Do train/validate/test split\n",
        "\n",
        "Use the 2009-10 season through 2016-17 season to train, the 2017-18 season to validate, and the 2018-19 season to test. NBA seasons begin in October and end in June. You'll know you've split the data correctly when your train set has 11081 observations, your validation set has 1168 observations, and your test set has 1709 observations."
      ]
    },
    {
      "cell_type": "code",
      "metadata": {
        "id": "eTc_I0p5T7GY",
        "colab_type": "code",
        "colab": {}
      },
      "source": [
        "# Move game date from index position to column.\n",
        "df = df.reset_index()"
      ],
      "execution_count": 0,
      "outputs": []
    },
    {
      "cell_type": "code",
      "metadata": {
        "id": "7uZzGHipUx0E",
        "colab_type": "code",
        "colab": {}
      },
      "source": [
        "# Split training, validation, and testing sets. There should be no games from \n",
        "# July through September, so split dates anywhere in that range should work \n",
        "# equivalently.\n",
        "train = df[df['game_date'] < '2017-09-01']\n",
        "val = df[df['game_date'].between('2017-09-01', '2018-09-01')]\n",
        "test = df[df['game_date'] > '2018-09-01']"
      ],
      "execution_count": 0,
      "outputs": []
    },
    {
      "cell_type": "code",
      "metadata": {
        "id": "BWf7FV-pU5gE",
        "colab_type": "code",
        "colab": {
          "base_uri": "https://localhost:8080/",
          "height": 35
        },
        "outputId": "83d725c7-3c59-4a8f-ca1b-4fcc1ffdc260"
      },
      "source": [
        "# Check dataset dimensions.\n",
        "train.shape, val.shape, test.shape"
      ],
      "execution_count": 5,
      "outputs": [
        {
          "output_type": "execute_result",
          "data": {
            "text/plain": [
              "((11081, 20), (1168, 20), (1709, 20))"
            ]
          },
          "metadata": {
            "tags": []
          },
          "execution_count": 5
        }
      ]
    },
    {
      "cell_type": "markdown",
      "metadata": {
        "id": "eKraq4yoUN9w",
        "colab_type": "text"
      },
      "source": [
        "#### 2. Begin with baselines for classification\n",
        "\n",
        "Your target to predict is shot_made_flag. What is the baseline accuracy for the validation set, if you guessed the majority class for every prediction?"
      ]
    },
    {
      "cell_type": "code",
      "metadata": {
        "id": "VN57y1JfT7oR",
        "colab_type": "code",
        "colab": {}
      },
      "source": [
        "# Split datasets into target vectors and feature matrices.\n",
        "target = 'shot_made_flag'\n",
        "\n",
        "y_train = train[target]\n",
        "y_val = val[target]\n",
        "y_test = test[target]\n",
        "\n",
        "X_train = train.drop(columns=[target])\n",
        "X_val = val.drop(columns=[target])\n",
        "X_test = test.drop(columns=[target])"
      ],
      "execution_count": 0,
      "outputs": []
    },
    {
      "cell_type": "code",
      "metadata": {
        "id": "1TkBrSFXVU7w",
        "colab_type": "code",
        "colab": {
          "base_uri": "https://localhost:8080/",
          "height": 72
        },
        "outputId": "efafdc8b-62a3-448e-a213-2094d9bde1f8"
      },
      "source": [
        "# Find majority class.\n",
        "y_train.value_counts(normalize=True)"
      ],
      "execution_count": 7,
      "outputs": [
        {
          "output_type": "execute_result",
          "data": {
            "text/plain": [
              "0    0.527209\n",
              "1    0.472791\n",
              "Name: shot_made_flag, dtype: float64"
            ]
          },
          "metadata": {
            "tags": []
          },
          "execution_count": 7
        }
      ]
    },
    {
      "cell_type": "code",
      "metadata": {
        "id": "fwxWEo4qVW7j",
        "colab_type": "code",
        "colab": {}
      },
      "source": [
        "# Make predictions on validation set.\n",
        "y_pred = np.full_like(y_val, y_train.mode())"
      ],
      "execution_count": 0,
      "outputs": []
    },
    {
      "cell_type": "code",
      "metadata": {
        "id": "723LpmQiVcBY",
        "colab_type": "code",
        "colab": {
          "base_uri": "https://localhost:8080/",
          "height": 35
        },
        "outputId": "41b2a298-0374-47f0-d686-fde4e0e03e5d"
      },
      "source": [
        "# Evaluate predictions on validation set.\n",
        "accuracy_score(y_val, y_pred)"
      ],
      "execution_count": 9,
      "outputs": [
        {
          "output_type": "execute_result",
          "data": {
            "text/plain": [
              "0.5162671232876712"
            ]
          },
          "metadata": {
            "tags": []
          },
          "execution_count": 9
        }
      ]
    },
    {
      "cell_type": "markdown",
      "metadata": {
        "id": "b6IkoWuNUP8w",
        "colab_type": "text"
      },
      "source": [
        "#### 3. Use ordinal encoding or one-hot encoding"
      ]
    },
    {
      "cell_type": "code",
      "metadata": {
        "id": "4putmrkWUSNw",
        "colab_type": "code",
        "colab": {}
      },
      "source": [
        ""
      ],
      "execution_count": 0,
      "outputs": []
    },
    {
      "cell_type": "markdown",
      "metadata": {
        "id": "nc8gcEfQUUrY",
        "colab_type": "text"
      },
      "source": [
        "#### 4. Scale data"
      ]
    },
    {
      "cell_type": "code",
      "metadata": {
        "id": "_qMtK-XLUVr4",
        "colab_type": "code",
        "colab": {}
      },
      "source": [
        ""
      ],
      "execution_count": 0,
      "outputs": []
    },
    {
      "cell_type": "markdown",
      "metadata": {
        "id": "3asbCC9tUXsB",
        "colab_type": "text"
      },
      "source": [
        "#### 5. Train a random forest or logistic regression classifier"
      ]
    },
    {
      "cell_type": "code",
      "metadata": {
        "id": "wN8KCB2oUgeA",
        "colab_type": "code",
        "colab": {}
      },
      "source": [
        ""
      ],
      "execution_count": 0,
      "outputs": []
    },
    {
      "cell_type": "markdown",
      "metadata": {
        "id": "nyyTPeJhUk1Z",
        "colab_type": "text"
      },
      "source": [
        ""
      ]
    }
  ]
}