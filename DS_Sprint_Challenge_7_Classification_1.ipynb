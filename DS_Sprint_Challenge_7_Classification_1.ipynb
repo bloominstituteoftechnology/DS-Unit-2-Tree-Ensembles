{
  "nbformat": 4,
  "nbformat_minor": 0,
  "metadata": {
    "colab": {
      "name": "DS_Sprint_Challenge_7_Classification_1.ipynb",
      "version": "0.3.2",
      "provenance": [],
      "include_colab_link": true
    },
    "kernelspec": {
      "display_name": "Python 3",
      "language": "python",
      "name": "python3"
    },
    "language_info": {
      "codemirror_mode": {
        "name": "ipython",
        "version": 3
      },
      "file_extension": ".py",
      "mimetype": "text/x-python",
      "name": "python",
      "nbconvert_exporter": "python",
      "pygments_lexer": "ipython3",
      "version": "3.7.1"
    }
  },
  "cells": [
    {
      "cell_type": "markdown",
      "metadata": {
        "id": "view-in-github",
        "colab_type": "text"
      },
      "source": [
        "<a href=\"https://colab.research.google.com/github/zevan07/DS-Unit-2-Tree-Ensembles/blob/master/DS_Sprint_Challenge_7_Classification_1.ipynb\" target=\"_parent\"><img src=\"https://colab.research.google.com/assets/colab-badge.svg\" alt=\"Open In Colab\"/></a>"
      ]
    },
    {
      "cell_type": "markdown",
      "metadata": {
        "colab_type": "text",
        "id": "7NQhCv9N9NCo"
      },
      "source": [
        "_Lambda School Data Science, Unit 2_\n",
        " \n",
        "# Sprint Challenge: Predict Steph Curry's shots 🏀\n",
        "\n",
        "For your Sprint Challenge, you'll use a dataset with all Steph Curry's NBA field goal attempts. (Regular season and playoff games, from October 28, 2009, through June 5, 2019.) \n",
        "\n",
        "You'll use information about the shot and the game to predict whether the shot was made. This is hard to predict! Try for an accuracy score in the high 50's or low 60's. The dataset was collected with the [nba_api](https://github.com/swar/nba_api) Python library."
      ]
    },
    {
      "cell_type": "markdown",
      "metadata": {
        "colab_type": "text",
        "id": "gWRX4uaY9NCw"
      },
      "source": [
        "This Sprint Challenge has two parts. To demonstrate mastery on each part, do all the required, numbered instructions. To earn a score of \"3\" for the part, also do the stretch goals.\n",
        "\n",
        "## Part 1. Prepare to model\n",
        "\n",
        "### Required\n",
        "\n",
        "1. **Do train/validate/test split.** Use the 2009-10 season through 2016-17 season to train, the 2017-18 season to validate, and the 2018-19 season to test. NBA seasons begin in October and end in June. You'll know you've split the data correctly when your train set has 11081 observations, your validation set has 1168 observations, and your test set has 1709 observations.\n",
        "2. **Begin with baselines for classification.** Your target to predict is `shot_made_flag`. What is the baseline accuracy for the validation set, if you guessed the majority class for every prediction?\n",
        "3. **Use Ordinal Encoding _or_ One-Hot Encoding,** for the categorical features you select.\n",
        "4. **Train a Random Forest _or_ Logistic Regression** with the features you select.\n",
        "\n",
        "### Stretch goals\n",
        "Engineer at least 4 of these 5 features:\n",
        "\n",
        "- **Homecourt Advantage**: Is the home team (`htm`) the Golden State Warriors (`GSW`) ?\n",
        "- **Opponent**: Who is the other team playing the Golden State Warriors?\n",
        "- **Seconds remaining in the period**: Combine minutes remaining with seconds remaining, to get the total number of seconds remaining in the period.\n",
        "- **Seconds remaining in the game**: Combine period, and seconds remaining in the period, to get the total number of seconds remaining in the game. A basketball game has 4 periods, each 12 minutes long.\n",
        "- **Made previous shot**: Was Steph Curry's previous shot successful?\n",
        "    \n",
        "\n",
        "## Part 2. Evaluate models\n",
        "\n",
        "### Required\n",
        "1. Get your model's **validation accuracy.** (Multiple times if you try multiple iterations.)\n",
        "2. Get your model's **test accuracy.** (One time, at the end.)\n",
        "3. Get and plot your Random Forest's **feature importances** _or_ your Logistic Regression's **coefficients.**\n",
        "4. Imagine this is the confusion matrix for a binary classification model. **Calculate accuracy, precision, and recall for this confusion matrix:**\n",
        "\n",
        "<table>\n",
        "  <tr>\n",
        "    <td colspan=\"2\" rowspan=\"2\"></td>\n",
        "    <td colspan=\"2\">Predicted</td>\n",
        "  </tr>\n",
        "  <tr>\n",
        "    <td>Negative</td>\n",
        "    <td>Positive</td>\n",
        "  </tr>\n",
        "  <tr>\n",
        "    <td rowspan=\"2\">Actual</td>\n",
        "    <td>Negative</td>\n",
        "    <td style=\"border: solid\">85</td>\n",
        "    <td style=\"border: solid\">58</td>\n",
        "  </tr>\n",
        "  <tr>\n",
        "    <td>Positive</td>\n",
        "    <td style=\"border: solid\">8</td>\n",
        "    <td style=\"border: solid\"> 36</td>\n",
        "  </tr>\n",
        "</table>\n",
        "\n",
        "\n",
        "### Stretch goals\n",
        "- Calculate F1 score for the provided, imaginary confusion matrix.\n",
        "- Plot a real confusion matrix for your basketball model, with row and column labels.\n",
        "- Print the classification report for your model."
      ]
    },
    {
      "cell_type": "code",
      "metadata": {
        "id": "EwNdoimxwa1o",
        "colab_type": "code",
        "colab": {
          "base_uri": "https://localhost:8080/",
          "height": 334
        },
        "outputId": "d8509b24-e6f2-4446-ce8a-6499b6da34dd"
      },
      "source": [
        "!pip install category_encoders"
      ],
      "execution_count": 1,
      "outputs": [
        {
          "output_type": "stream",
          "text": [
            "Collecting category_encoders\n",
            "\u001b[?25l  Downloading https://files.pythonhosted.org/packages/6e/a1/f7a22f144f33be78afeb06bfa78478e8284a64263a3c09b1ef54e673841e/category_encoders-2.0.0-py2.py3-none-any.whl (87kB)\n",
            "\u001b[K     |████████████████████████████████| 92kB 3.5MB/s \n",
            "\u001b[?25hRequirement already satisfied: pandas>=0.21.1 in /usr/local/lib/python3.6/dist-packages (from category_encoders) (0.24.2)\n",
            "Requirement already satisfied: scikit-learn>=0.20.0 in /usr/local/lib/python3.6/dist-packages (from category_encoders) (0.21.2)\n",
            "Requirement already satisfied: statsmodels>=0.6.1 in /usr/local/lib/python3.6/dist-packages (from category_encoders) (0.10.0)\n",
            "Requirement already satisfied: scipy>=0.19.0 in /usr/local/lib/python3.6/dist-packages (from category_encoders) (1.3.0)\n",
            "Requirement already satisfied: patsy>=0.4.1 in /usr/local/lib/python3.6/dist-packages (from category_encoders) (0.5.1)\n",
            "Requirement already satisfied: numpy>=1.11.3 in /usr/local/lib/python3.6/dist-packages (from category_encoders) (1.16.4)\n",
            "Requirement already satisfied: python-dateutil>=2.5.0 in /usr/local/lib/python3.6/dist-packages (from pandas>=0.21.1->category_encoders) (2.5.3)\n",
            "Requirement already satisfied: pytz>=2011k in /usr/local/lib/python3.6/dist-packages (from pandas>=0.21.1->category_encoders) (2018.9)\n",
            "Requirement already satisfied: joblib>=0.11 in /usr/local/lib/python3.6/dist-packages (from scikit-learn>=0.20.0->category_encoders) (0.13.2)\n",
            "Requirement already satisfied: six in /usr/local/lib/python3.6/dist-packages (from patsy>=0.4.1->category_encoders) (1.12.0)\n",
            "Installing collected packages: category-encoders\n",
            "Successfully installed category-encoders-2.0.0\n"
          ],
          "name": "stdout"
        }
      ]
    },
    {
      "cell_type": "code",
      "metadata": {
        "colab_type": "code",
        "id": "5RDEWI9c9NCr",
        "colab": {}
      },
      "source": [
        "import pandas as pd\n",
        "url = 'https://drive.google.com/uc?export=download&id=1fL7KPyxgGYfQDsuJoBWHIWwCAf-HTFpX'\n",
        "df = pd.read_csv(url, parse_dates=['game_date'])\n",
        "assert df.shape == (13958, 20)"
      ],
      "execution_count": 0,
      "outputs": []
    },
    {
      "cell_type": "code",
      "metadata": {
        "id": "DQ7uh0iM8-nN",
        "colab_type": "code",
        "colab": {
          "base_uri": "https://localhost:8080/",
          "height": 374
        },
        "outputId": "2a78c2e9-5efb-4035-8e2b-159ecb136f26"
      },
      "source": [
        "# check for null values\n",
        "df.isnull().sum()"
      ],
      "execution_count": 70,
      "outputs": [
        {
          "output_type": "execute_result",
          "data": {
            "text/plain": [
              "game_id                    0\n",
              "game_event_id              0\n",
              "player_name                0\n",
              "period                     0\n",
              "minutes_remaining          0\n",
              "seconds_remaining          0\n",
              "action_type                0\n",
              "shot_type                  0\n",
              "shot_zone_basic            0\n",
              "shot_zone_area             0\n",
              "shot_zone_range            0\n",
              "shot_distance              0\n",
              "loc_x                      0\n",
              "loc_y                      0\n",
              "shot_made_flag             0\n",
              "game_date                  0\n",
              "htm                        0\n",
              "vtm                        0\n",
              "season_type                0\n",
              "scoremargin_before_shot    0\n",
              "dtype: int64"
            ]
          },
          "metadata": {
            "tags": []
          },
          "execution_count": 70
        }
      ]
    },
    {
      "cell_type": "code",
      "metadata": {
        "id": "kW489OtGwn4c",
        "colab_type": "code",
        "colab": {
          "base_uri": "https://localhost:8080/",
          "height": 314
        },
        "outputId": "9b30d361-0a7a-4fcb-f77c-78fb6d3fb64b"
      },
      "source": [
        "df.head()"
      ],
      "execution_count": 71,
      "outputs": [
        {
          "output_type": "execute_result",
          "data": {
            "text/html": [
              "<div>\n",
              "<style scoped>\n",
              "    .dataframe tbody tr th:only-of-type {\n",
              "        vertical-align: middle;\n",
              "    }\n",
              "\n",
              "    .dataframe tbody tr th {\n",
              "        vertical-align: top;\n",
              "    }\n",
              "\n",
              "    .dataframe thead th {\n",
              "        text-align: right;\n",
              "    }\n",
              "</style>\n",
              "<table border=\"1\" class=\"dataframe\">\n",
              "  <thead>\n",
              "    <tr style=\"text-align: right;\">\n",
              "      <th></th>\n",
              "      <th>game_id</th>\n",
              "      <th>game_event_id</th>\n",
              "      <th>player_name</th>\n",
              "      <th>period</th>\n",
              "      <th>minutes_remaining</th>\n",
              "      <th>seconds_remaining</th>\n",
              "      <th>action_type</th>\n",
              "      <th>shot_type</th>\n",
              "      <th>shot_zone_basic</th>\n",
              "      <th>shot_zone_area</th>\n",
              "      <th>shot_zone_range</th>\n",
              "      <th>shot_distance</th>\n",
              "      <th>loc_x</th>\n",
              "      <th>loc_y</th>\n",
              "      <th>shot_made_flag</th>\n",
              "      <th>game_date</th>\n",
              "      <th>htm</th>\n",
              "      <th>vtm</th>\n",
              "      <th>season_type</th>\n",
              "      <th>scoremargin_before_shot</th>\n",
              "    </tr>\n",
              "  </thead>\n",
              "  <tbody>\n",
              "    <tr>\n",
              "      <th>0</th>\n",
              "      <td>20900015</td>\n",
              "      <td>4</td>\n",
              "      <td>Stephen Curry</td>\n",
              "      <td>1</td>\n",
              "      <td>11</td>\n",
              "      <td>25</td>\n",
              "      <td>Jump Shot</td>\n",
              "      <td>3PT Field Goal</td>\n",
              "      <td>Above the Break 3</td>\n",
              "      <td>Right Side Center(RC)</td>\n",
              "      <td>24+ ft.</td>\n",
              "      <td>26</td>\n",
              "      <td>99</td>\n",
              "      <td>249</td>\n",
              "      <td>0</td>\n",
              "      <td>2009-10-28</td>\n",
              "      <td>GSW</td>\n",
              "      <td>HOU</td>\n",
              "      <td>Regular Season</td>\n",
              "      <td>2.0</td>\n",
              "    </tr>\n",
              "    <tr>\n",
              "      <th>1</th>\n",
              "      <td>20900015</td>\n",
              "      <td>17</td>\n",
              "      <td>Stephen Curry</td>\n",
              "      <td>1</td>\n",
              "      <td>9</td>\n",
              "      <td>31</td>\n",
              "      <td>Step Back Jump shot</td>\n",
              "      <td>2PT Field Goal</td>\n",
              "      <td>Mid-Range</td>\n",
              "      <td>Left Side Center(LC)</td>\n",
              "      <td>16-24 ft.</td>\n",
              "      <td>18</td>\n",
              "      <td>-122</td>\n",
              "      <td>145</td>\n",
              "      <td>1</td>\n",
              "      <td>2009-10-28</td>\n",
              "      <td>GSW</td>\n",
              "      <td>HOU</td>\n",
              "      <td>Regular Season</td>\n",
              "      <td>0.0</td>\n",
              "    </tr>\n",
              "    <tr>\n",
              "      <th>2</th>\n",
              "      <td>20900015</td>\n",
              "      <td>53</td>\n",
              "      <td>Stephen Curry</td>\n",
              "      <td>1</td>\n",
              "      <td>6</td>\n",
              "      <td>2</td>\n",
              "      <td>Jump Shot</td>\n",
              "      <td>2PT Field Goal</td>\n",
              "      <td>In The Paint (Non-RA)</td>\n",
              "      <td>Center(C)</td>\n",
              "      <td>8-16 ft.</td>\n",
              "      <td>14</td>\n",
              "      <td>-60</td>\n",
              "      <td>129</td>\n",
              "      <td>0</td>\n",
              "      <td>2009-10-28</td>\n",
              "      <td>GSW</td>\n",
              "      <td>HOU</td>\n",
              "      <td>Regular Season</td>\n",
              "      <td>-4.0</td>\n",
              "    </tr>\n",
              "    <tr>\n",
              "      <th>3</th>\n",
              "      <td>20900015</td>\n",
              "      <td>141</td>\n",
              "      <td>Stephen Curry</td>\n",
              "      <td>2</td>\n",
              "      <td>9</td>\n",
              "      <td>49</td>\n",
              "      <td>Jump Shot</td>\n",
              "      <td>2PT Field Goal</td>\n",
              "      <td>Mid-Range</td>\n",
              "      <td>Left Side(L)</td>\n",
              "      <td>16-24 ft.</td>\n",
              "      <td>19</td>\n",
              "      <td>-172</td>\n",
              "      <td>82</td>\n",
              "      <td>0</td>\n",
              "      <td>2009-10-28</td>\n",
              "      <td>GSW</td>\n",
              "      <td>HOU</td>\n",
              "      <td>Regular Season</td>\n",
              "      <td>-4.0</td>\n",
              "    </tr>\n",
              "    <tr>\n",
              "      <th>4</th>\n",
              "      <td>20900015</td>\n",
              "      <td>249</td>\n",
              "      <td>Stephen Curry</td>\n",
              "      <td>2</td>\n",
              "      <td>2</td>\n",
              "      <td>19</td>\n",
              "      <td>Jump Shot</td>\n",
              "      <td>2PT Field Goal</td>\n",
              "      <td>Mid-Range</td>\n",
              "      <td>Left Side Center(LC)</td>\n",
              "      <td>16-24 ft.</td>\n",
              "      <td>16</td>\n",
              "      <td>-68</td>\n",
              "      <td>148</td>\n",
              "      <td>0</td>\n",
              "      <td>2009-10-28</td>\n",
              "      <td>GSW</td>\n",
              "      <td>HOU</td>\n",
              "      <td>Regular Season</td>\n",
              "      <td>0.0</td>\n",
              "    </tr>\n",
              "  </tbody>\n",
              "</table>\n",
              "</div>"
            ],
            "text/plain": [
              "    game_id  game_event_id  ...     season_type  scoremargin_before_shot\n",
              "0  20900015              4  ...  Regular Season                      2.0\n",
              "1  20900015             17  ...  Regular Season                      0.0\n",
              "2  20900015             53  ...  Regular Season                     -4.0\n",
              "3  20900015            141  ...  Regular Season                     -4.0\n",
              "4  20900015            249  ...  Regular Season                      0.0\n",
              "\n",
              "[5 rows x 20 columns]"
            ]
          },
          "metadata": {
            "tags": []
          },
          "execution_count": 71
        }
      ]
    },
    {
      "cell_type": "code",
      "metadata": {
        "id": "0GlorhPdw4YZ",
        "colab_type": "code",
        "colab": {}
      },
      "source": [
        "df['game_date'] = pd.to_datetime(df['game_date'], infer_datetime_format=True)\n",
        "df['game_month'] = df['game_date'].dt.month\n",
        "df['game_day'] = df['game_date'].dt.day\n",
        "df['game_year'] = df['game_date'].dt.year\n",
        "\n",
        "# add home advantage\n",
        "df['home_adv'] = df['htm'] == 'GSW'\n",
        "\n",
        "# more feature engineering\n",
        "df['opponent'] = (df['vtm'].replace('GSW', '') + df['htm'].replace('GSW', ''))\n",
        "\n",
        "df['sec_remain_period'] = (df['minutes_remaining'] * 60) + df['seconds_remaining']\n",
        "\n",
        "df['sec_remain_game'] = (df['minutes_remaining'] * 60) + df['seconds_remaining'] + ((4-df['period']) * 12 * 60)\n"
      ],
      "execution_count": 0,
      "outputs": []
    },
    {
      "cell_type": "code",
      "metadata": {
        "id": "9hFxq_omxEGY",
        "colab_type": "code",
        "colab": {}
      },
      "source": [
        "#train, test, val split\n",
        "train = df[(df['game_date'] >= '2009-10-1') & (df['game_date'] <= '2017-6-30')]\n",
        "test = df[(df['game_date'] >= '2017-10-1') & (df['game_date'] <= '2018-6-30')]\n",
        "val = df[(df['game_date'] >= '2018-10-1') & (df['game_date'] <= '2019-6-30')]"
      ],
      "execution_count": 0,
      "outputs": []
    },
    {
      "cell_type": "code",
      "metadata": {
        "id": "9YKLJr-T2VsY",
        "colab_type": "code",
        "colab": {
          "base_uri": "https://localhost:8080/",
          "height": 34
        },
        "outputId": "77a154f4-cf9a-4a31-9912-c0d1d185749c"
      },
      "source": [
        "train.shape, test.shape, val.shape"
      ],
      "execution_count": 148,
      "outputs": [
        {
          "output_type": "execute_result",
          "data": {
            "text/plain": [
              "((11081, 28), (1168, 28), (1709, 28))"
            ]
          },
          "metadata": {
            "tags": []
          },
          "execution_count": 148
        }
      ]
    },
    {
      "cell_type": "code",
      "metadata": {
        "id": "zasJxJ2V_GSO",
        "colab_type": "code",
        "colab": {}
      },
      "source": [
        "target = 'shot_made_flag'"
      ],
      "execution_count": 0,
      "outputs": []
    },
    {
      "cell_type": "code",
      "metadata": {
        "id": "DmCTiRQU65XP",
        "colab_type": "code",
        "colab": {
          "base_uri": "https://localhost:8080/",
          "height": 68
        },
        "outputId": "e09d0de4-c956-4666-ea61-6c96c1740d6e"
      },
      "source": [
        "y_train = train[target]\n",
        "y_train.value_counts(normalize=True)"
      ],
      "execution_count": 150,
      "outputs": [
        {
          "output_type": "execute_result",
          "data": {
            "text/plain": [
              "0    0.527209\n",
              "1    0.472791\n",
              "Name: shot_made_flag, dtype: float64"
            ]
          },
          "metadata": {
            "tags": []
          },
          "execution_count": 150
        }
      ]
    },
    {
      "cell_type": "code",
      "metadata": {
        "id": "BFjdf_4a8JIZ",
        "colab_type": "code",
        "colab": {}
      },
      "source": [
        "majority_class = y_train.mode()[0]\n",
        "y_pred = [majority_class] * len(y_train)"
      ],
      "execution_count": 0,
      "outputs": []
    },
    {
      "cell_type": "code",
      "metadata": {
        "id": "f-Uq1c3U8Z5b",
        "colab_type": "code",
        "colab": {
          "base_uri": "https://localhost:8080/",
          "height": 34
        },
        "outputId": "38f86228-a19b-40ef-a251-c6d7ecf1e073"
      },
      "source": [
        "from sklearn.metrics import accuracy_score\n",
        "accuracy_score(y_train, y_pred)"
      ],
      "execution_count": 152,
      "outputs": [
        {
          "output_type": "execute_result",
          "data": {
            "text/plain": [
              "0.5272087356736757"
            ]
          },
          "metadata": {
            "tags": []
          },
          "execution_count": 152
        }
      ]
    },
    {
      "cell_type": "code",
      "metadata": {
        "id": "qdM0YDcN9tmo",
        "colab_type": "code",
        "colab": {}
      },
      "source": [
        "features = df.columns.tolist()"
      ],
      "execution_count": 0,
      "outputs": []
    },
    {
      "cell_type": "code",
      "metadata": {
        "id": "jDShsFqu-s90",
        "colab_type": "code",
        "colab": {}
      },
      "source": [
        "features.remove('player_name')\n",
        "features.remove('game_date')\n",
        "features.remove('shot_made_flag')"
      ],
      "execution_count": 0,
      "outputs": []
    },
    {
      "cell_type": "code",
      "metadata": {
        "id": "bFmHgCGu_VnI",
        "colab_type": "code",
        "colab": {}
      },
      "source": [
        "from sklearn.pipeline import make_pipeline\n",
        "import category_encoders as ce\n",
        "from sklearn.ensemble import RandomForestClassifier"
      ],
      "execution_count": 0,
      "outputs": []
    },
    {
      "cell_type": "code",
      "metadata": {
        "id": "vp--QbEs8fZr",
        "colab_type": "code",
        "colab": {
          "base_uri": "https://localhost:8080/",
          "height": 34
        },
        "outputId": "cd9be016-3f5c-47f9-d8cb-6af44de06deb"
      },
      "source": [
        "X_train = train[features]\n",
        "y_train = train[target]\n",
        "X_val = val[features]\n",
        "y_val = val[target]\n",
        "X_test = test[features]\n",
        "\n",
        "pipeline = make_pipeline(ce.OrdinalEncoder()\n",
        "                        , RandomForestClassifier(n_estimators=100, random_state=42, n_jobs=1))\n",
        "\n",
        "pipeline.fit(X_train, y_train)\n",
        "print('Validation Accuracy', pipeline.score(X_val, y_val))"
      ],
      "execution_count": 156,
      "outputs": [
        {
          "output_type": "stream",
          "text": [
            "Validation Accuracy 0.6266822703335284\n"
          ],
          "name": "stdout"
        }
      ]
    },
    {
      "cell_type": "markdown",
      "metadata": {
        "id": "eC-2nbjZBqr2",
        "colab_type": "text"
      },
      "source": [
        "## Part 2"
      ]
    },
    {
      "cell_type": "code",
      "metadata": {
        "id": "UeObMq-U9ra7",
        "colab_type": "code",
        "colab": {
          "base_uri": "https://localhost:8080/",
          "height": 34
        },
        "outputId": "ccdfe240-7c96-42b1-8838-e8909e2ea5a5"
      },
      "source": [
        "print('Validation Accuracy', pipeline.score(X_val, y_val))"
      ],
      "execution_count": 157,
      "outputs": [
        {
          "output_type": "stream",
          "text": [
            "Validation Accuracy 0.6266822703335284\n"
          ],
          "name": "stdout"
        }
      ]
    },
    {
      "cell_type": "code",
      "metadata": {
        "id": "ZzVWCRVyB__9",
        "colab_type": "code",
        "colab": {
          "base_uri": "https://localhost:8080/",
          "height": 34
        },
        "outputId": "cd44ade2-dd6d-42fb-f144-1464b1e54299"
      },
      "source": [
        "y_test = test[target]\n",
        "print('Test Accuracy', pipeline.score(X_test, y_test))"
      ],
      "execution_count": 158,
      "outputs": [
        {
          "output_type": "stream",
          "text": [
            "Test Accuracy 0.5967465753424658\n"
          ],
          "name": "stdout"
        }
      ]
    },
    {
      "cell_type": "code",
      "metadata": {
        "id": "uRuAeNZzD8hm",
        "colab_type": "code",
        "colab": {}
      },
      "source": [
        "%matplotlib inline\n",
        "import matplotlib.pyplot as plt"
      ],
      "execution_count": 0,
      "outputs": []
    },
    {
      "cell_type": "code",
      "metadata": {
        "id": "kwyZO-3PC__w",
        "colab_type": "code",
        "colab": {
          "base_uri": "https://localhost:8080/",
          "height": 680
        },
        "outputId": "731c3f12-375a-4540-a1b4-eb57f97823fb"
      },
      "source": [
        "# get feature importances\n",
        "rf = pipeline.named_steps['randomforestclassifier']\n",
        "importances = pd.Series(rf.feature_importances_, X_train.columns)\n",
        "\n",
        "n = 10\n",
        "plt.figure(figsize = (10, n/2))\n",
        "plt.title(f'Top {n} features')\n",
        "importances.sort_values()[-n:].plot.barh(color='grey')\n",
        "\n",
        "n = 10\n",
        "plt.figure(figsize = (10, n/2))\n",
        "plt.title(f'Bottom {n} features')\n",
        "importances.sort_values()[:n].plot.barh(color='grey');"
      ],
      "execution_count": 121,
      "outputs": [
        {
          "output_type": "display_data",
          "data": {
            "image/png": "[encoded data removed]",
            "text/plain": [
              "<Figure size 720x360 with 1 Axes>"
            ]
          },
          "metadata": {
            "tags": []
          }
        },
        {
          "output_type": "display_data",
          "data": {
            "image/png": "[encoded data removed]",
            "text/plain": [
              "<Figure size 720x360 with 1 Axes>"
            ]
          },
          "metadata": {
            "tags": []
          }
        }
      ]
    },
    {
      "cell_type": "code",
      "metadata": {
        "id": "xO_xZbCAD6ow",
        "colab_type": "code",
        "colab": {}
      },
      "source": [
        ""
      ],
      "execution_count": 0,
      "outputs": []
    },
    {
      "cell_type": "markdown",
      "metadata": {
        "id": "t2AcrFEVFPoj",
        "colab_type": "text"
      },
      "source": [
        "### Confusion Matrix\n",
        "<table>\n",
        "  <tr>\n",
        "    <td colspan=\"2\" rowspan=\"2\"></td>\n",
        "    <td colspan=\"2\">Predicted</td>\n",
        "  </tr>\n",
        "  <tr>\n",
        "    <td>Negative</td>\n",
        "    <td>Positive</td>\n",
        "  </tr>\n",
        "  <tr>\n",
        "    <td rowspan=\"2\">Actual</td>\n",
        "    <td>Negative</td>\n",
        "    <td style=\"border: solid\">85</td>\n",
        "    <td style=\"border: solid\">58</td>\n",
        "  </tr>\n",
        "  <tr>\n",
        "    <td>Positive</td>\n",
        "    <td style=\"border: solid\">8</td>\n",
        "    <td style=\"border: solid\"> 36</td>\n",
        "  </tr>\n",
        "</table>"
      ]
    },
    {
      "cell_type": "code",
      "metadata": {
        "id": "rhguZezxFk4E",
        "colab_type": "code",
        "colab": {
          "base_uri": "https://localhost:8080/",
          "height": 85
        },
        "outputId": "ecf47116-3f11-4d44-f0a7-bc4d6a01c326"
      },
      "source": [
        "total = 85 + 58 + 8 + 36\n",
        "print('Accuracy:',(36+85)/total)\n",
        "precision = 36/(36+58)\n",
        "print('Precision:', precision)\n",
        "recall = 36/(36+8)\n",
        "print('Recall:', recall)\n",
        "print('F1:', 2*(recall * precision) / (recall + precision))"
      ],
      "execution_count": 160,
      "outputs": [
        {
          "output_type": "stream",
          "text": [
            "Accuracy: 0.6470588235294118\n",
            "Precision: 0.3829787234042553\n",
            "Recall: 0.8181818181818182\n",
            "F1: 0.5217391304347826\n"
          ],
          "name": "stdout"
        }
      ]
    },
    {
      "cell_type": "code",
      "metadata": {
        "id": "LsOtG9hdOn1m",
        "colab_type": "code",
        "colab": {}
      },
      "source": [
        "from sklearn.metrics import confusion_matrix\n",
        "from sklearn.utils.multiclass import unique_labels\n",
        "import seaborn as sns"
      ],
      "execution_count": 0,
      "outputs": []
    },
    {
      "cell_type": "code",
      "metadata": {
        "id": "FyfCBpJYPPVz",
        "colab_type": "code",
        "colab": {}
      },
      "source": [
        "y_pred = pipeline.predict(X_test)"
      ],
      "execution_count": 0,
      "outputs": []
    },
    {
      "cell_type": "code",
      "metadata": {
        "id": "6VEwvvg-OXqY",
        "colab_type": "code",
        "colab": {
          "base_uri": "https://localhost:8080/",
          "height": 269
        },
        "outputId": "7ade3d64-2e6a-4eea-ee2c-ebd59b100a34"
      },
      "source": [
        "def plot_confusion_matrix(y_true, y_pred):\n",
        "    labels = unique_labels(y_true)\n",
        "    columns = [f'Predicted {label}' for label in labels]\n",
        "    index = [f'Actual {label}'  for label in labels]\n",
        "    table = pd.DataFrame(confusion_matrix(y_true, y_pred), \n",
        "                         columns=columns, index=index)\n",
        "    return sns.heatmap(table, annot=True, fmt='d', cmap='viridis')\n",
        "\n",
        "plot_confusion_matrix(y_test, y_pred);"
      ],
      "execution_count": 175,
      "outputs": [
        {
          "output_type": "display_data",
          "data": {
            "image/png": "[encoded data removed]",
            "text/plain": [
              "<Figure size 432x288 with 2 Axes>"
            ]
          },
          "metadata": {
            "tags": []
          }
        }
      ]
    },
    {
      "cell_type": "code",
      "metadata": {
        "id": "geEtDV1lOlVZ",
        "colab_type": "code",
        "colab": {
          "base_uri": "https://localhost:8080/",
          "height": 170
        },
        "outputId": "35fea9b7-3332-4303-a7ad-7da127b1918a"
      },
      "source": [
        "from sklearn.metrics import classification_report\n",
        "print(classification_report(y_test, y_pred))"
      ],
      "execution_count": 176,
      "outputs": [
        {
          "output_type": "stream",
          "text": [
            "              precision    recall  f1-score   support\n",
            "\n",
            "           0       0.60      0.67      0.63       603\n",
            "           1       0.60      0.52      0.55       565\n",
            "\n",
            "    accuracy                           0.60      1168\n",
            "   macro avg       0.60      0.59      0.59      1168\n",
            "weighted avg       0.60      0.60      0.59      1168\n",
            "\n"
          ],
          "name": "stdout"
        }
      ]
    },
    {
      "cell_type": "code",
      "metadata": {
        "id": "5fBptshAQusw",
        "colab_type": "code",
        "colab": {
          "base_uri": "https://localhost:8080/",
          "height": 34
        },
        "outputId": "6d955c0e-c480-4175-8ce6-d129a6106240"
      },
      "source": [
        "from sklearn.linear_model import LogisticRegression\n",
        "\n",
        "X_train = train[features]\n",
        "y_train = train[target]\n",
        "X_val = val[features]\n",
        "y_val = val[target]\n",
        "X_test = test[features]\n",
        "\n",
        "pipeline = make_pipeline(ce.OneHotEncoder()\n",
        "                        , LogisticRegression(solver='lbfgs', multi_class='auto', max_iter=500))\n",
        "\n",
        "pipeline.fit(X_train, y_train)\n",
        "print('Validation Accuracy', pipeline.score(X_val, y_val))"
      ],
      "execution_count": 178,
      "outputs": [
        {
          "output_type": "stream",
          "text": [
            "Validation Accuracy 0.5336454066705676\n"
          ],
          "name": "stdout"
        }
      ]
    },
    {
      "cell_type": "code",
      "metadata": {
        "id": "RJ6pzhRkRf4Y",
        "colab_type": "code",
        "colab": {}
      },
      "source": [
        ""
      ],
      "execution_count": 0,
      "outputs": []
    }
  ]
}