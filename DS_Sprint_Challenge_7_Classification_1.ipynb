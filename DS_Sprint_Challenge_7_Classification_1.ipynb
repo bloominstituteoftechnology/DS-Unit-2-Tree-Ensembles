{
  "nbformat": 4,
  "nbformat_minor": 0,
  "metadata": {
    "colab": {
      "name": "DS_Sprint_Challenge_7_Classification_1.ipynb",
      "version": "0.3.2",
      "provenance": [],
      "include_colab_link": true
    },
    "kernelspec": {
      "display_name": "Python 3",
      "language": "python",
      "name": "python3"
    },
    "language_info": {
      "codemirror_mode": {
        "name": "ipython",
        "version": 3
      },
      "file_extension": ".py",
      "mimetype": "text/x-python",
      "name": "python",
      "nbconvert_exporter": "python",
      "pygments_lexer": "ipython3",
      "version": "3.7.3"
    }
  },
  "cells": [
    {
      "cell_type": "markdown",
      "metadata": {
        "id": "view-in-github",
        "colab_type": "text"
      },
      "source": [
        "<a href=\"https://colab.research.google.com/github/rgolds5/DS-Unit-2-Tree-Ensembles/blob/master/DS_Sprint_Challenge_7_Classification_1.ipynb\" target=\"_parent\"><img src=\"https://colab.research.google.com/assets/colab-badge.svg\" alt=\"Open In Colab\"/></a>"
      ]
    },
    {
      "cell_type": "markdown",
      "metadata": {
        "colab_type": "text",
        "id": "7NQhCv9N9NCo"
      },
      "source": [
        "_Lambda School Data Science, Unit 2_\n",
        " \n",
        "# Sprint Challenge: Predict Steph Curry's shots 🏀\n",
        "\n",
        "For your Sprint Challenge, you'll use a dataset with all Steph Curry's NBA field goal attempts. (Regular season and playoff games, from October 28, 2009, through June 5, 2019.) \n",
        "\n",
        "You'll use information about the shot and the game to predict whether the shot was made. This is hard to predict! Try for an accuracy score in the high 50's or low 60's. The dataset was collected with the [nba_api](https://github.com/swar/nba_api) Python library."
      ]
    },
    {
      "cell_type": "code",
      "metadata": {
        "colab_type": "code",
        "id": "5RDEWI9c9NCr",
        "colab": {}
      },
      "source": [
        "import pandas as pd\n",
        "url = 'https://drive.google.com/uc?export=download&id=1fL7KPyxgGYfQDsuJoBWHIWwCAf-HTFpX'\n",
        "df = pd.read_csv(url, parse_dates=['game_date'])\n",
        "assert df.shape == (13958, 20)"
      ],
      "execution_count": 0,
      "outputs": []
    },
    {
      "cell_type": "markdown",
      "metadata": {
        "colab_type": "text",
        "id": "gWRX4uaY9NCw"
      },
      "source": [
        "This Sprint Challenge has two parts. To demonstrate mastery on each part, do all the required, numbered instructions. To earn a score of \"3\" for the part, also do the stretch goals.\n",
        "\n",
        "## Part 1. Prepare to model\n",
        "\n",
        "### Required\n",
        "\n",
        "1. **Do train/validate/test split.** Use the 2009-10 season through 2016-17 season to train, the 2017-18 season to validate, and the 2018-19 season to test. NBA seasons begin in October and end in June. You'll know you've split the data correctly when your train set has 11081 observations, your validation set has 1168 observations, and your test set has 1709 observations.\n",
        "2. **Begin with baselines for classification.** Your target to predict is `shot_made_flag`. What is the baseline accuracy for the validation set, if you guessed the majority class for every prediction?\n",
        "3. **Use Ordinal Encoding _or_ One-Hot Encoding,** for the categorical features you select.\n",
        "4. **Train a Random Forest _or_ Logistic Regression** with the features you select.\n",
        "\n",
        "### Stretch goals\n",
        "Engineer at least 4 of these 5 features:\n",
        "\n",
        "- **Homecourt Advantage**: Is the home team (`htm`) the Golden State Warriors (`GSW`) ?\n",
        "- **Opponent**: Who is the other team playing the Golden State Warriors?\n",
        "- **Seconds remaining in the period**: Combine minutes remaining with seconds remaining, to get the total number of seconds remaining in the period.\n",
        "- **Seconds remaining in the game**: Combine period, and seconds remaining in the period, to get the total number of seconds remaining in the game. A basketball game has 4 periods, each 12 minutes long.\n",
        "- **Made previous shot**: Was Steph Curry's previous shot successful?\n",
        "    \n",
        "\n",
        "## Part 2. Evaluate models\n",
        "\n",
        "### Required\n",
        "1. Get your model's **validation accuracy.** (Multiple times if you try multiple iterations.)\n",
        "2. Get your model's **test accuracy.** (One time, at the end.)\n",
        "3. Get and plot your Random Forest's **feature importances** _or_ your Logistic Regression's **coefficients.**\n",
        "4. Imagine this is the confusion matrix for a binary classification model. **Calculate accuracy, precision, and recall for this confusion matrix:**\n",
        "\n",
        "<table>\n",
        "  <tr>\n",
        "    <td colspan=\"2\" rowspan=\"2\"></td>\n",
        "    <td colspan=\"2\">Predicted</td>\n",
        "  </tr>\n",
        "  <tr>\n",
        "    <td>Negative</td>\n",
        "    <td>Positive</td>\n",
        "  </tr>\n",
        "  <tr>\n",
        "    <td rowspan=\"2\">Actual</td>\n",
        "    <td>Negative</td>\n",
        "    <td style=\"border: solid\">85</td>\n",
        "    <td style=\"border: solid\">58</td>\n",
        "  </tr>\n",
        "  <tr>\n",
        "    <td>Positive</td>\n",
        "    <td style=\"border: solid\">8</td>\n",
        "    <td style=\"border: solid\"> 36</td>\n",
        "  </tr>\n",
        "</table>\n",
        "\n",
        "\n",
        "### Stretch goals\n",
        "- Calculate F1 score for the provided, imaginary confusion matrix.\n",
        "- Plot a real confusion matrix for your basketball model, with row and column labels.\n",
        "- Print the classification report for your model."
      ]
    },
    {
      "cell_type": "code",
      "metadata": {
        "id": "0r346g2-iZso",
        "colab_type": "code",
        "colab": {
          "base_uri": "https://localhost:8080/",
          "height": 309
        },
        "outputId": "16824be1-539e-4b0d-8165-7f6c41b8992a"
      },
      "source": [
        "df.head()"
      ],
      "execution_count": 2,
      "outputs": [
        {
          "output_type": "execute_result",
          "data": {
            "text/html": [
              "<div>\n",
              "<style scoped>\n",
              "    .dataframe tbody tr th:only-of-type {\n",
              "        vertical-align: middle;\n",
              "    }\n",
              "\n",
              "    .dataframe tbody tr th {\n",
              "        vertical-align: top;\n",
              "    }\n",
              "\n",
              "    .dataframe thead th {\n",
              "        text-align: right;\n",
              "    }\n",
              "</style>\n",
              "<table border=\"1\" class=\"dataframe\">\n",
              "  <thead>\n",
              "    <tr style=\"text-align: right;\">\n",
              "      <th></th>\n",
              "      <th>game_id</th>\n",
              "      <th>game_event_id</th>\n",
              "      <th>player_name</th>\n",
              "      <th>period</th>\n",
              "      <th>minutes_remaining</th>\n",
              "      <th>seconds_remaining</th>\n",
              "      <th>action_type</th>\n",
              "      <th>shot_type</th>\n",
              "      <th>shot_zone_basic</th>\n",
              "      <th>shot_zone_area</th>\n",
              "      <th>shot_zone_range</th>\n",
              "      <th>shot_distance</th>\n",
              "      <th>loc_x</th>\n",
              "      <th>loc_y</th>\n",
              "      <th>shot_made_flag</th>\n",
              "      <th>game_date</th>\n",
              "      <th>htm</th>\n",
              "      <th>vtm</th>\n",
              "      <th>season_type</th>\n",
              "      <th>scoremargin_before_shot</th>\n",
              "    </tr>\n",
              "  </thead>\n",
              "  <tbody>\n",
              "    <tr>\n",
              "      <th>0</th>\n",
              "      <td>20900015</td>\n",
              "      <td>4</td>\n",
              "      <td>Stephen Curry</td>\n",
              "      <td>1</td>\n",
              "      <td>11</td>\n",
              "      <td>25</td>\n",
              "      <td>Jump Shot</td>\n",
              "      <td>3PT Field Goal</td>\n",
              "      <td>Above the Break 3</td>\n",
              "      <td>Right Side Center(RC)</td>\n",
              "      <td>24+ ft.</td>\n",
              "      <td>26</td>\n",
              "      <td>99</td>\n",
              "      <td>249</td>\n",
              "      <td>0</td>\n",
              "      <td>2009-10-28</td>\n",
              "      <td>GSW</td>\n",
              "      <td>HOU</td>\n",
              "      <td>Regular Season</td>\n",
              "      <td>2.0</td>\n",
              "    </tr>\n",
              "    <tr>\n",
              "      <th>1</th>\n",
              "      <td>20900015</td>\n",
              "      <td>17</td>\n",
              "      <td>Stephen Curry</td>\n",
              "      <td>1</td>\n",
              "      <td>9</td>\n",
              "      <td>31</td>\n",
              "      <td>Step Back Jump shot</td>\n",
              "      <td>2PT Field Goal</td>\n",
              "      <td>Mid-Range</td>\n",
              "      <td>Left Side Center(LC)</td>\n",
              "      <td>16-24 ft.</td>\n",
              "      <td>18</td>\n",
              "      <td>-122</td>\n",
              "      <td>145</td>\n",
              "      <td>1</td>\n",
              "      <td>2009-10-28</td>\n",
              "      <td>GSW</td>\n",
              "      <td>HOU</td>\n",
              "      <td>Regular Season</td>\n",
              "      <td>0.0</td>\n",
              "    </tr>\n",
              "    <tr>\n",
              "      <th>2</th>\n",
              "      <td>20900015</td>\n",
              "      <td>53</td>\n",
              "      <td>Stephen Curry</td>\n",
              "      <td>1</td>\n",
              "      <td>6</td>\n",
              "      <td>2</td>\n",
              "      <td>Jump Shot</td>\n",
              "      <td>2PT Field Goal</td>\n",
              "      <td>In The Paint (Non-RA)</td>\n",
              "      <td>Center(C)</td>\n",
              "      <td>8-16 ft.</td>\n",
              "      <td>14</td>\n",
              "      <td>-60</td>\n",
              "      <td>129</td>\n",
              "      <td>0</td>\n",
              "      <td>2009-10-28</td>\n",
              "      <td>GSW</td>\n",
              "      <td>HOU</td>\n",
              "      <td>Regular Season</td>\n",
              "      <td>-4.0</td>\n",
              "    </tr>\n",
              "    <tr>\n",
              "      <th>3</th>\n",
              "      <td>20900015</td>\n",
              "      <td>141</td>\n",
              "      <td>Stephen Curry</td>\n",
              "      <td>2</td>\n",
              "      <td>9</td>\n",
              "      <td>49</td>\n",
              "      <td>Jump Shot</td>\n",
              "      <td>2PT Field Goal</td>\n",
              "      <td>Mid-Range</td>\n",
              "      <td>Left Side(L)</td>\n",
              "      <td>16-24 ft.</td>\n",
              "      <td>19</td>\n",
              "      <td>-172</td>\n",
              "      <td>82</td>\n",
              "      <td>0</td>\n",
              "      <td>2009-10-28</td>\n",
              "      <td>GSW</td>\n",
              "      <td>HOU</td>\n",
              "      <td>Regular Season</td>\n",
              "      <td>-4.0</td>\n",
              "    </tr>\n",
              "    <tr>\n",
              "      <th>4</th>\n",
              "      <td>20900015</td>\n",
              "      <td>249</td>\n",
              "      <td>Stephen Curry</td>\n",
              "      <td>2</td>\n",
              "      <td>2</td>\n",
              "      <td>19</td>\n",
              "      <td>Jump Shot</td>\n",
              "      <td>2PT Field Goal</td>\n",
              "      <td>Mid-Range</td>\n",
              "      <td>Left Side Center(LC)</td>\n",
              "      <td>16-24 ft.</td>\n",
              "      <td>16</td>\n",
              "      <td>-68</td>\n",
              "      <td>148</td>\n",
              "      <td>0</td>\n",
              "      <td>2009-10-28</td>\n",
              "      <td>GSW</td>\n",
              "      <td>HOU</td>\n",
              "      <td>Regular Season</td>\n",
              "      <td>0.0</td>\n",
              "    </tr>\n",
              "  </tbody>\n",
              "</table>\n",
              "</div>"
            ],
            "text/plain": [
              "    game_id  game_event_id  ...     season_type  scoremargin_before_shot\n",
              "0  20900015              4  ...  Regular Season                      2.0\n",
              "1  20900015             17  ...  Regular Season                      0.0\n",
              "2  20900015             53  ...  Regular Season                     -4.0\n",
              "3  20900015            141  ...  Regular Season                     -4.0\n",
              "4  20900015            249  ...  Regular Season                      0.0\n",
              "\n",
              "[5 rows x 20 columns]"
            ]
          },
          "metadata": {
            "tags": []
          },
          "execution_count": 2
        }
      ]
    },
    {
      "cell_type": "code",
      "metadata": {
        "id": "58Br-lNXiZtL",
        "colab_type": "code",
        "colab": {}
      },
      "source": [
        "train = df[df['game_date'] < '2017-10-01']\n",
        "val = df[(df['game_date'] >= '2017-10-01') & (df['game_date'] < '2018-10-01')]\n",
        "test = df[df['game_date'] >= '2018-10-01']\n",
        "\n",
        "assert train.shape == (11081, 20)\n",
        "assert val.shape == (1168, 20)\n",
        "assert test.shape == (1709, 20)"
      ],
      "execution_count": 0,
      "outputs": []
    },
    {
      "cell_type": "code",
      "metadata": {
        "id": "5o-_SrdMiZtd",
        "colab_type": "code",
        "colab": {}
      },
      "source": [
        "import pandas as pd\n",
        "\n",
        "def wrangle(X):\n",
        "    X = X.copy()\n",
        "    X['game_year'] = X['game_date'].dt.year\n",
        "    X['game_month'] = X['game_date'].dt.month\n",
        "    X['game_day'] = X['game_date'].dt.day\n",
        "    X = X.drop(columns = 'game_date')\n",
        "    return X\n",
        "\n",
        "train = wrangle(train)\n",
        "val = wrangle(val)\n",
        "test = wrangle(test)\n",
        "\n",
        "target = 'shot_made_flag'\n",
        "train_features = train.drop(columns = target)\n",
        "features = train_features.columns.tolist()\n",
        "\n",
        "X_train = train[features]\n",
        "y_train = train[target]\n",
        "X_val = val[features]\n",
        "y_val = val[target]\n",
        "X_test = test[features]\n",
        "y_test = test[target]"
      ],
      "execution_count": 0,
      "outputs": []
    },
    {
      "cell_type": "code",
      "metadata": {
        "id": "EtEShE0CiZts",
        "colab_type": "code",
        "colab": {
          "base_uri": "https://localhost:8080/",
          "height": 34
        },
        "outputId": "6869598b-d6f8-4b78-fde5-d6c0d481f39d"
      },
      "source": [
        "baseline = 1 - y_train.mean()\n",
        "print(f'Baseline: {baseline:.3f}')"
      ],
      "execution_count": 5,
      "outputs": [
        {
          "output_type": "stream",
          "text": [
            "Baseline: 0.527\n"
          ],
          "name": "stdout"
        }
      ]
    },
    {
      "cell_type": "code",
      "metadata": {
        "id": "WKbfBpzOiZt6",
        "colab_type": "code",
        "colab": {
          "base_uri": "https://localhost:8080/",
          "height": 34
        },
        "outputId": "be67f230-3518-4032-835b-eaeaa8dcd7a6"
      },
      "source": [
        "import numpy as np\n",
        "from sklearn.metrics import accuracy_score\n",
        "y_pred = np.zeros(len(y_val))\n",
        "print(f'Validation Baseline Accuracy: {accuracy_score(y_val, y_pred):3f}')"
      ],
      "execution_count": 6,
      "outputs": [
        {
          "output_type": "stream",
          "text": [
            "Validation Baseline Accuracy: 0.516267\n"
          ],
          "name": "stdout"
        }
      ]
    },
    {
      "cell_type": "code",
      "metadata": {
        "id": "KWFIFSHymdMI",
        "colab_type": "code",
        "colab": {
          "base_uri": "https://localhost:8080/",
          "height": 272
        },
        "outputId": "bc2ef462-fd29-4e9b-b343-12d3d30ec850"
      },
      "source": [
        "!pip install category_encoders"
      ],
      "execution_count": 8,
      "outputs": [
        {
          "output_type": "stream",
          "text": [
            "Collecting category_encoders\n",
            "\u001b[?25l  Downloading https://files.pythonhosted.org/packages/6e/a1/f7a22f144f33be78afeb06bfa78478e8284a64263a3c09b1ef54e673841e/category_encoders-2.0.0-py2.py3-none-any.whl (87kB)\n",
            "\r\u001b[K     |███▊                            | 10kB 14.6MB/s eta 0:00:01\r\u001b[K     |███████▌                        | 20kB 3.3MB/s eta 0:00:01\r\u001b[K     |███████████▏                    | 30kB 4.7MB/s eta 0:00:01\r\u001b[K     |███████████████                 | 40kB 3.1MB/s eta 0:00:01\r\u001b[K     |██████████████████▋             | 51kB 3.8MB/s eta 0:00:01\r\u001b[K     |██████████████████████▍         | 61kB 4.5MB/s eta 0:00:01\r\u001b[K     |██████████████████████████▏     | 71kB 5.1MB/s eta 0:00:01\r\u001b[K     |█████████████████████████████▉  | 81kB 5.8MB/s eta 0:00:01\r\u001b[K     |████████████████████████████████| 92kB 5.0MB/s \n",
            "\u001b[?25hRequirement already satisfied: patsy>=0.4.1 in /usr/local/lib/python3.6/dist-packages (from category_encoders) (0.5.1)\n",
            "Requirement already satisfied: scipy>=0.19.0 in /usr/local/lib/python3.6/dist-packages (from category_encoders) (1.3.0)\n",
            "Requirement already satisfied: pandas>=0.21.1 in /usr/local/lib/python3.6/dist-packages (from category_encoders) (0.24.2)\n",
            "Requirement already satisfied: numpy>=1.11.3 in /usr/local/lib/python3.6/dist-packages (from category_encoders) (1.16.4)\n",
            "Requirement already satisfied: scikit-learn>=0.20.0 in /usr/local/lib/python3.6/dist-packages (from category_encoders) (0.21.3)\n",
            "Requirement already satisfied: statsmodels>=0.6.1 in /usr/local/lib/python3.6/dist-packages (from category_encoders) (0.10.1)\n",
            "Requirement already satisfied: six in /usr/local/lib/python3.6/dist-packages (from patsy>=0.4.1->category_encoders) (1.12.0)\n",
            "Requirement already satisfied: python-dateutil>=2.5.0 in /usr/local/lib/python3.6/dist-packages (from pandas>=0.21.1->category_encoders) (2.5.3)\n",
            "Requirement already satisfied: pytz>=2011k in /usr/local/lib/python3.6/dist-packages (from pandas>=0.21.1->category_encoders) (2018.9)\n",
            "Requirement already satisfied: joblib>=0.11 in /usr/local/lib/python3.6/dist-packages (from scikit-learn>=0.20.0->category_encoders) (0.13.2)\n",
            "Installing collected packages: category-encoders\n",
            "Successfully installed category-encoders-2.0.0\n"
          ],
          "name": "stdout"
        }
      ]
    },
    {
      "cell_type": "code",
      "metadata": {
        "id": "qkPBZTBiiZuG",
        "colab_type": "code",
        "colab": {}
      },
      "source": [
        "import category_encoders as ce\n",
        "\n",
        "OrdinalEncoder = ce.OrdinalEncoder\n",
        "OneHotEncoder = ce.OneHotEncoder"
      ],
      "execution_count": 0,
      "outputs": []
    },
    {
      "cell_type": "code",
      "metadata": {
        "id": "WBI4ylEBiZuR",
        "colab_type": "code",
        "colab": {}
      },
      "source": [
        "from sklearn_pandas import DataFrameMapper, gen_features\n",
        "\n",
        "ordinal_encode = gen_features(\n",
        "    columns = [['action_type'], ['htm'], ['vtm']],\n",
        "    classes = [OrdinalEncoder]\n",
        ")\n",
        "no_encode = gen_features(\n",
        "    columns = [['game_year'], ['game_month'], ['game_day'], ['game_id'], ['game_event_id'],\n",
        "              ['period'], ['minutes_remaining'], ['seconds_remaining'], ['shot_distance'],\n",
        "              ['loc_x'], ['loc_y'], ['scoremargin_before_shot']],\n",
        "    classes = None\n",
        ")\n",
        "\n",
        "mapped_features = (ordinal_encode + no_encode)\n",
        "mapper = DataFrameMapper(mapped_features, df_out = True)"
      ],
      "execution_count": 0,
      "outputs": []
    },
    {
      "cell_type": "code",
      "metadata": {
        "id": "SZraNyO-iZue",
        "colab_type": "code",
        "colab": {
          "base_uri": "https://localhost:8080/",
          "height": 34
        },
        "outputId": "9535ddfe-ba94-44f4-d499-de711c031136"
      },
      "source": [
        "from sklearn.pipeline import make_pipeline\n",
        "from sklearn.ensemble import RandomForestClassifier\n",
        "\n",
        "pipeline = make_pipeline(\n",
        "    mapper,\n",
        "    RandomForestClassifier(n_estimators = 100,\n",
        "                          n_jobs = -1,\n",
        "                          random_state = 42)\n",
        ")\n",
        "\n",
        "pipeline.fit(X_train, y_train)\n",
        "print(f'Validation Score: {pipeline.score(X_val, y_val):.3f}')"
      ],
      "execution_count": 12,
      "outputs": [
        {
          "output_type": "stream",
          "text": [
            "Validation Score: 0.589\n"
          ],
          "name": "stdout"
        }
      ]
    },
    {
      "cell_type": "code",
      "metadata": {
        "id": "AVE2Yl9giZun",
        "colab_type": "code",
        "colab": {
          "base_uri": "https://localhost:8080/",
          "height": 617
        },
        "outputId": "ea32cb28-dcaa-4009-c026-83e22778d389"
      },
      "source": [
        "feature_importances = np.array(pipeline.named_steps['randomforestclassifier'].feature_importances_)\n",
        "feature_names = np.array(pipeline.named_steps['dataframemapper'].transformed_names_)\n",
        "\n",
        "importances_df = pd.DataFrame({'Feature': feature_names, 'Importance': feature_importances})\n",
        "importances_df.sort_values(by = 'Importance', ascending = False).plot.bar(x = 'Feature', y = 'Importance', figsize = (16, 8));"
      ],
      "execution_count": 13,
      "outputs": [
        {
          "output_type": "display_data",
          "data": {
            "image/png": "[encoded data removed]",
            "text/plain": [
              "<Figure size 1152x576 with 1 Axes>"
            ]
          },
          "metadata": {
            "tags": []
          }
        }
      ]
    },
    {
      "cell_type": "code",
      "metadata": {
        "id": "sBFMCV29iZu0",
        "colab_type": "code",
        "colab": {}
      },
      "source": [
        "def create_features(X):\n",
        "    X = X.copy()\n",
        "    X['home_court_advantage'] = np.where(X['htm'] == 'GSW', 1, 0)\n",
        "    X['opponent'] = np.where(X['home_court_advantage'] == 1, X['vtm'], X['htm'])\n",
        "    X['seconds_remaining_period'] = X['minutes_remaining'] * 60 + X['seconds_remaining']\n",
        "    X['seconds_remaining_game'] = ((4 - X['period']) * 720) + X['seconds_remaining_period']\n",
        "    return X\n",
        "\n",
        "X_train = create_features(X_train)\n",
        "X_val = create_features(X_val)\n",
        "X_test = create_features(X_test)"
      ],
      "execution_count": 0,
      "outputs": []
    },
    {
      "cell_type": "code",
      "metadata": {
        "id": "rdaVdkXeiZu_",
        "colab_type": "code",
        "colab": {}
      },
      "source": [
        "ordinal_encode = gen_features(\n",
        "    columns = [['action_type'], ['opponent']],\n",
        "    classes = [OrdinalEncoder]\n",
        ")\n",
        "no_encode = gen_features(\n",
        "    columns = [['game_year'], ['game_month'], ['game_day'], ['game_id'], ['game_event_id'],\n",
        "              ['period'], ['shot_distance'], ['home_court_advantage'], ['seconds_remaining_period'],\n",
        "              ['seconds_remaining_game'], ['loc_x'], ['loc_y'], ['scoremargin_before_shot']],\n",
        "    classes = None\n",
        ")\n",
        "\n",
        "mapped_features = (ordinal_encode + no_encode)\n",
        "mapper = DataFrameMapper(mapped_features, df_out = True)"
      ],
      "execution_count": 0,
      "outputs": []
    },
    {
      "cell_type": "code",
      "metadata": {
        "id": "j9uklZX6iZvF",
        "colab_type": "code",
        "colab": {
          "base_uri": "https://localhost:8080/",
          "height": 34
        },
        "outputId": "6ff3c4cc-02ca-4d86-d138-5ab8ce825cbe"
      },
      "source": [
        "pipeline = make_pipeline(\n",
        "    mapper,\n",
        "    RandomForestClassifier(n_estimators = 100,\n",
        "                          n_jobs = -1)\n",
        ")\n",
        "\n",
        "pipeline.fit(X_train, y_train)\n",
        "print(f'Validation Score: {pipeline.score(X_val, y_val):.3f}')"
      ],
      "execution_count": 16,
      "outputs": [
        {
          "output_type": "stream",
          "text": [
            "Validation Score: 0.594\n"
          ],
          "name": "stdout"
        }
      ]
    },
    {
      "cell_type": "code",
      "metadata": {
        "id": "4T3FgnnIiZvN",
        "colab_type": "code",
        "colab": {
          "base_uri": "https://localhost:8080/",
          "height": 624
        },
        "outputId": "81a95559-ae7e-4340-be02-3382a7541017"
      },
      "source": [
        "feature_importances = np.array(pipeline.named_steps['randomforestclassifier'].feature_importances_)\n",
        "feature_names = np.array(pipeline.named_steps['dataframemapper'].transformed_names_)\n",
        "\n",
        "importances_df = pd.DataFrame({'Feature': feature_names, 'Importance': feature_importances})\n",
        "importances_df.sort_values(by = 'Importance', ascending = False).plot.bar(x = 'Feature', y = 'Importance', figsize = (16, 8));"
      ],
      "execution_count": 17,
      "outputs": [
        {
          "output_type": "display_data",
          "data": {
            "image/png": "[encoded data removed]",
            "text/plain": [
              "<Figure size 1152x576 with 1 Axes>"
            ]
          },
          "metadata": {
            "tags": []
          }
        }
      ]
    },
    {
      "cell_type": "code",
      "metadata": {
        "id": "ntP5dVLeiZvU",
        "colab_type": "code",
        "colab": {
          "base_uri": "https://localhost:8080/",
          "height": 34
        },
        "outputId": "953d8618-abb7-44d8-937b-209f17e2bd81"
      },
      "source": [
        "print(f'Test Validation Score: {pipeline.score(X_test, y_test):.3f}')"
      ],
      "execution_count": 18,
      "outputs": [
        {
          "output_type": "stream",
          "text": [
            "Test Validation Score: 0.623\n"
          ],
          "name": "stdout"
        }
      ]
    },
    {
      "cell_type": "code",
      "metadata": {
        "id": "U3nuEkl-iZva",
        "colab_type": "code",
        "colab": {
          "base_uri": "https://localhost:8080/",
          "height": 323
        },
        "outputId": "4c24c661-a791-48a6-979e-5c6811d9e921"
      },
      "source": [
        "!pip install pycm==2.4"
      ],
      "execution_count": 19,
      "outputs": [
        {
          "output_type": "stream",
          "text": [
            "Collecting pycm==2.4\n",
            "\u001b[?25l  Downloading https://files.pythonhosted.org/packages/25/10/6525c8fd14aac2ab582506c830c98fe9835299c9ffe7f0d53f76848b5b6e/pycm-2.4-py2.py3-none-any.whl (48kB)\n",
            "\u001b[K     |████████████████████████████████| 51kB 3.4MB/s \n",
            "\u001b[?25hRequirement already satisfied: numpy>=1.9.0 in /usr/local/lib/python3.6/dist-packages (from pycm==2.4) (1.16.4)\n",
            "Collecting art>=1.8 (from pycm==2.4)\n",
            "\u001b[?25l  Downloading https://files.pythonhosted.org/packages/fb/ee/f8ee3c9ff194b30c07d85746fdcc78103de63e23fce868a704b98294f7e2/art-3.8-py2.py3-none-any.whl (489kB)\n",
            "\u001b[K     |████████████████████████████████| 491kB 13.7MB/s \n",
            "\u001b[?25hCollecting coverage>=4.1 (from art>=1.8->pycm==2.4)\n",
            "\u001b[?25l  Downloading https://files.pythonhosted.org/packages/51/b1/13609068fff1c8c056f0c4601ad6985cf5c1bbfc529196ab08bd2a57dc39/coverage-4.5.4-cp36-cp36m-manylinux1_x86_64.whl (205kB)\n",
            "\u001b[K     |████████████████████████████████| 215kB 48.3MB/s \n",
            "\u001b[31mERROR: datascience 0.10.6 has requirement coverage==3.7.1, but you'll have coverage 4.5.4 which is incompatible.\u001b[0m\n",
            "\u001b[31mERROR: datascience 0.10.6 has requirement folium==0.2.1, but you'll have folium 0.8.3 which is incompatible.\u001b[0m\n",
            "\u001b[31mERROR: coveralls 0.5 has requirement coverage<3.999,>=3.6, but you'll have coverage 4.5.4 which is incompatible.\u001b[0m\n",
            "\u001b[?25hInstalling collected packages: coverage, art, pycm\n",
            "  Found existing installation: coverage 3.7.1\n",
            "    Uninstalling coverage-3.7.1:\n",
            "      Successfully uninstalled coverage-3.7.1\n",
            "Successfully installed art-3.8 coverage-4.5.4 pycm-2.4\n"
          ],
          "name": "stdout"
        }
      ]
    },
    {
      "cell_type": "code",
      "metadata": {
        "id": "-5AbT3Q9iZvj",
        "colab_type": "code",
        "colab": {}
      },
      "source": [
        "from pycm import *"
      ],
      "execution_count": 0,
      "outputs": []
    },
    {
      "cell_type": "code",
      "metadata": {
        "id": "EuNtozkRiZvo",
        "colab_type": "code",
        "colab": {
          "base_uri": "https://localhost:8080/",
          "height": 1000
        },
        "outputId": "a3c92a76-9dbe-4198-fdf6-2d23ec2cebfa"
      },
      "source": [
        "y_pred = pipeline.predict(X_test)\n",
        "cm = ConfusionMatrix(actual_vector = np.array(y_test), predict_vector = np.array(y_pred))\n",
        "cm.relabel(mapping = {0: 'Shot Not Made', 1: 'Shot Made'})\n",
        "print(cm)"
      ],
      "execution_count": 21,
      "outputs": [
        {
          "output_type": "stream",
          "text": [
            "Predict             Shot Not Made       Shot Made           \n",
            "Actual\n",
            "Shot Made           459                 338                 \n",
            "\n",
            "Shot Not Made       307                 605                 \n",
            "\n",
            "\n",
            "\n",
            "\n",
            "\n",
            "Overall Statistics : \n",
            "\n",
            "95% CI                                                            (0.5996,0.64557)\n",
            "ACC Macro                                                         0.62259\n",
            "AUNP                                                              0.61964\n",
            "AUNU                                                              0.61964\n",
            "Bennett S                                                         0.24517\n",
            "CBA                                                               0.60874\n",
            "Chi-Squared                                                       98.46739\n",
            "Chi-Squared DF                                                    1\n",
            "Conditional Entropy                                               0.95035\n",
            "Cramer V                                                          0.24004\n",
            "Cross Entropy                                                     0.99769\n",
            "F1 Macro                                                          0.61981\n",
            "F1 Micro                                                          0.62259\n",
            "Gwet AC1                                                          0.25064\n",
            "Hamming Loss                                                      0.37741\n",
            "Joint Entropy                                                     1.94708\n",
            "KL Divergence                                                     0.00096\n",
            "Kappa                                                             0.23988\n",
            "Kappa 95% CI                                                      (0.19359,0.28616)\n",
            "Kappa No Prevalence                                               0.24517\n",
            "Kappa Standard Error                                              0.02362\n",
            "Kappa Unbiased                                                    0.23962\n",
            "Lambda A                                                          0.19072\n",
            "Lambda B                                                          0.15796\n",
            "Mutual Information                                                0.0419\n",
            "NIR                                                               0.53365\n",
            "Overall ACC                                                       0.62259\n",
            "Overall CEN                                                       0.90535\n",
            "Overall J                                                         (0.89976,0.44988)\n",
            "Overall MCC                                                       0.24004\n",
            "Overall MCEN                                                      0.70323\n",
            "Overall RACC                                                      0.50348\n",
            "Overall RACCU                                                     0.50365\n",
            "P-Value                                                           None\n",
            "PPV Macro                                                         0.62039\n",
            "PPV Micro                                                         0.62259\n",
            "Pearson C                                                         0.23341\n",
            "Phi-Squared                                                       0.05762\n",
            "RCI                                                               0.04203\n",
            "RR                                                                854.5\n",
            "Reference Entropy                                                 0.99673\n",
            "Response Entropy                                                  0.99225\n",
            "SOA1(Landis & Koch)                                               Fair\n",
            "SOA2(Fleiss)                                                      Poor\n",
            "SOA3(Altman)                                                      Fair\n",
            "SOA4(Cicchetti)                                                   Poor\n",
            "SOA5(Cramer)                                                      Moderate\n",
            "SOA6(Matthews)                                                    Negligible\n",
            "Scott PI                                                          0.23962\n",
            "Standard Error                                                    0.01173\n",
            "TPR Macro                                                         0.61964\n",
            "TPR Micro                                                         0.62259\n",
            "Zero-one Loss                                                     645\n",
            "\n",
            "Class Statistics :\n",
            "\n",
            "Classes                                                           Shot Made         Shot Not Made     \n",
            "ACC(Accuracy)                                                     0.62259           0.62259           \n",
            "AGF(Adjusted F-score)                                             0.61225           0.62582           \n",
            "AGM(Adjusted geometric mean)                                      0.63385           0.60468           \n",
            "AM(Difference between automatic and manual classification)        -31               31                \n",
            "AUC(Area under the ROC curve)                                     0.61964           0.61964           \n",
            "AUCI(AUC value interpretation)                                    Fair              Fair              \n",
            "AUPR(Area under the PR curve)                                     0.58756           0.65247           \n",
            "BCD(Bray-Curtis dissimilarity)                                    0.00907           0.00907           \n",
            "BM(Informedness or bookmaker informedness)                        0.23929           0.23929           \n",
            "CEN(Confusion entropy)                                            0.93894           0.87705           \n",
            "DOR(Diagnostic odds ratio)                                        2.67617           2.67617           \n",
            "DP(Discriminant power)                                            0.2357            0.2357            \n",
            "DPI(Discriminant power interpretation)                            Poor              Poor              \n",
            "ERR(Error rate)                                                   0.37741           0.37741           \n",
            "F0.5(F0.5 score)                                                  0.59441           0.64582           \n",
            "F1(F1 score - harmonic mean of precision and sensitivity)         0.58733           0.65229           \n",
            "F2(F2 score)                                                      0.58042           0.6589            \n",
            "FDR(False discovery rate)                                         0.40078           0.35843           \n",
            "FN(False negative/miss/type 2 error)                              338               307               \n",
            "FNR(Miss rate or false negative rate)                             0.42409           0.33662           \n",
            "FOR(False omission rate)                                          0.35843           0.40078           \n",
            "FP(False positive/type 1 error/false alarm)                       307               338               \n",
            "FPR(Fall-out or false positive rate)                              0.33662           0.42409           \n",
            "G(G-measure geometric mean of precision and sensitivity)          0.58745           0.65238           \n",
            "GI(Gini index)                                                    0.23929           0.23929           \n",
            "GM(G-mean geometric mean of specificity and sensitivity)          0.6181            0.6181            \n",
            "IBA(Index of balanced accuracy)                                   0.34863           0.41546           \n",
            "IS(Information score)                                             0.36165           0.26572           \n",
            "J(Jaccard index)                                                  0.41576           0.484             \n",
            "LS(Lift score)                                                    1.2849            1.20224           \n",
            "MCC(Matthews correlation coefficient)                             0.24004           0.24004           \n",
            "MCCI(Matthews correlation coefficient interpretation)             Negligible        Negligible        \n",
            "MCEN(Modified confusion entropy)                                  1.03627           1.00769           \n",
            "MK(Markedness)                                                    0.24079           0.24079           \n",
            "N(Condition negative)                                             912               797               \n",
            "NLR(Negative likelihood ratio)                                    0.63929           0.58451           \n",
            "NLRI(Negative likelihood ratio interpretation)                    Negligible        Negligible        \n",
            "NPV(Negative predictive value)                                    0.64157           0.59922           \n",
            "OC(Overlap coefficient)                                           0.59922           0.66338           \n",
            "OOC(Otsuka-Ochiai coefficient)                                    0.58745           0.65238           \n",
            "OP(Optimized precision)                                           0.55201           0.55201           \n",
            "P(Condition positive or support)                                  797               912               \n",
            "PLR(Positive likelihood ratio)                                    1.71085           1.56424           \n",
            "PLRI(Positive likelihood ratio interpretation)                    Poor              Poor              \n",
            "POP(Population)                                                   1709              1709              \n",
            "PPV(Precision or positive predictive value)                       0.59922           0.64157           \n",
            "PRE(Prevalence)                                                   0.46635           0.53365           \n",
            "Q(Yule Q - coefficient of colligation)                            0.45595           0.45595           \n",
            "RACC(Random accuracy)                                             0.20903           0.29446           \n",
            "RACCU(Random accuracy unbiased)                                   0.20911           0.29454           \n",
            "TN(True negative/correct rejection)                               605               459               \n",
            "TNR(Specificity or true negative rate)                            0.66338           0.57591           \n",
            "TON(Test outcome negative)                                        943               766               \n",
            "TOP(Test outcome positive)                                        766               943               \n",
            "TP(True positive/hit)                                             459               605               \n",
            "TPR(Sensitivity, recall, hit rate, or true positive rate)         0.57591           0.66338           \n",
            "Y(Youden index)                                                   0.23929           0.23929           \n",
            "dInd(Distance index)                                              0.54145           0.54145           \n",
            "sInd(Similarity index)                                            0.61714           0.61714           \n",
            "\n"
          ],
          "name": "stdout"
        }
      ]
    },
    {
      "cell_type": "code",
      "metadata": {
        "id": "7Z8VpibZiZvv",
        "colab_type": "code",
        "colab": {
          "base_uri": "https://localhost:8080/",
          "height": 136
        },
        "outputId": "1acf536c-44f3-4507-cae7-cbfb3aed3e39"
      },
      "source": [
        "cm2 = ConfusionMatrix(matrix = {\"Negative\": {\"Negative\": 85, \"Positive\": 58, }, \n",
        "                                \"Positive\": {\"Negative\": 8, \"Positive\": 36}})\n",
        "\n",
        "cm2.print_matrix()"
      ],
      "execution_count": 22,
      "outputs": [
        {
          "output_type": "stream",
          "text": [
            "Predict        Negative       Positive       \n",
            "Actual\n",
            "Negative       85             58             \n",
            "\n",
            "Positive       8              36             \n",
            "\n",
            "\n"
          ],
          "name": "stdout"
        }
      ]
    },
    {
      "cell_type": "code",
      "metadata": {
        "id": "6fOjSdMJiZv4",
        "colab_type": "code",
        "colab": {
          "base_uri": "https://localhost:8080/",
          "height": 34
        },
        "outputId": "6b1d171a-c551-45a5-c134-33014eadb78d"
      },
      "source": [
        "cm2_accuracy = (85 + 36) / (85 + 36 + 8 + 58)\n",
        "print(f'Accuracy: {cm2_accuracy:.3f}')"
      ],
      "execution_count": 23,
      "outputs": [
        {
          "output_type": "stream",
          "text": [
            "Accuracy: 0.647\n"
          ],
          "name": "stdout"
        }
      ]
    },
    {
      "cell_type": "code",
      "metadata": {
        "id": "ECk-w_OfiZwb",
        "colab_type": "code",
        "colab": {
          "base_uri": "https://localhost:8080/",
          "height": 34
        },
        "outputId": "68745aaa-294a-4937-8ec0-1f216a7e997b"
      },
      "source": [
        "cm2_precision = 36 / (36 + 58)\n",
        "print(f'Precision: {cm2_precision:.3f}')"
      ],
      "execution_count": 24,
      "outputs": [
        {
          "output_type": "stream",
          "text": [
            "Precision: 0.383\n"
          ],
          "name": "stdout"
        }
      ]
    },
    {
      "cell_type": "code",
      "metadata": {
        "id": "qmpYKhHyiZws",
        "colab_type": "code",
        "colab": {
          "base_uri": "https://localhost:8080/",
          "height": 34
        },
        "outputId": "e22d08ee-9d83-499d-e581-dac6a3a5d065"
      },
      "source": [
        "cm2_recall = 36 / (36 + 8)\n",
        "print(f'Recall: {cm2_recall:.3f}')"
      ],
      "execution_count": 25,
      "outputs": [
        {
          "output_type": "stream",
          "text": [
            "Recall: 0.818\n"
          ],
          "name": "stdout"
        }
      ]
    },
    {
      "cell_type": "code",
      "metadata": {
        "id": "JOAYgOjeiZw1",
        "colab_type": "code",
        "colab": {
          "base_uri": "https://localhost:8080/",
          "height": 34
        },
        "outputId": "d19d8674-b898-48f6-abbc-e9b92bf61374"
      },
      "source": [
        "cm2_F1 = 2 * ((cm2_precision * cm2_recall) / (cm2_precision + cm2_recall))\n",
        "print(f'F1 Score: {cm2_F1:.3f}')"
      ],
      "execution_count": 26,
      "outputs": [
        {
          "output_type": "stream",
          "text": [
            "F1 Score: 0.522\n"
          ],
          "name": "stdout"
        }
      ]
    },
    {
      "cell_type": "code",
      "metadata": {
        "id": "L9AeTwG6iZw9",
        "colab_type": "code",
        "colab": {}
      },
      "source": [
        ""
      ],
      "execution_count": 0,
      "outputs": []
    }
  ]
}