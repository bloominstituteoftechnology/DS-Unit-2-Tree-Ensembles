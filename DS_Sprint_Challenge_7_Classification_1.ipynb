{
 "cells": [
  {
   "cell_type": "markdown",
   "metadata": {
    "colab_type": "text",
    "id": "7NQhCv9N9NCo"
   },
   "source": [
    "_Lambda School Data Science, Unit 2_\n",
    " \n",
    "# Sprint Challenge: Predict Steph Curry's shots 🏀\n",
    "\n",
    "For your Sprint Challenge, you'll use a dataset with all Steph Curry's NBA field goal attempts. (Regular season and playoff games, from October 28, 2009, through June 5, 2019.) \n",
    "\n",
    "You'll use information about the shot and the game to predict whether the shot was made. This is hard to predict! Try for an accuracy score in the high 50's or low 60's. The dataset was collected with the [nba_api](https://github.com/swar/nba_api) Python library."
   ]
  },
  {
   "cell_type": "code",
   "execution_count": 1,
   "metadata": {
    "colab": {},
    "colab_type": "code",
    "id": "5RDEWI9c9NCr"
   },
   "outputs": [],
   "source": [
    "import pandas as pd\n",
    "url = 'https://drive.google.com/uc?export=download&id=1fL7KPyxgGYfQDsuJoBWHIWwCAf-HTFpX'\n",
    "df = pd.read_csv(url, parse_dates=['game_date'])\n",
    "assert df.shape == (13958, 20)"
   ]
  },
  {
   "cell_type": "markdown",
   "metadata": {
    "colab_type": "text",
    "id": "gWRX4uaY9NCw"
   },
   "source": [
    "This Sprint Challenge has two parts. To demonstrate mastery on each part, do all the required, numbered instructions. To earn a score of \"3\" for the part, also do the stretch goals.\n",
    "\n",
    "## Part 1. Prepare to model\n",
    "\n",
    "### Required\n",
    "\n",
    "1. **Do train/validate/test split.** Use the 2009-10 season through 2016-17 season to train, the 2017-18 season to validate, and the 2018-19 season to test. NBA seasons begin in October and end in June. You'll know you've split the data correctly when your train set has 11081 observations, your validation set has 1168 observations, and your test set has 1709 observations.\n",
    "2. **Begin with baselines for classification.** Your target to predict is `shot_made_flag`. What is the baseline accuracy for the validation set, if you guessed the majority class for every prediction?\n",
    "3. **Use Ordinal Encoding _or_ One-Hot Encoding,** for the categorical features you select.\n",
    "4. **Train a Random Forest _or_ Logistic Regression** with the features you select.\n",
    "\n",
    "### Stretch goals\n",
    "Engineer at least 4 of these 5 features:\n",
    "\n",
    "- **Homecourt Advantage**: Is the home team (`htm`) the Golden State Warriors (`GSW`) ?\n",
    "- **Opponent**: Who is the other team playing the Golden State Warriors?\n",
    "- **Seconds remaining in the period**: Combine minutes remaining with seconds remaining, to get the total number of seconds remaining in the period.\n",
    "- **Seconds remaining in the game**: Combine period, and seconds remaining in the period, to get the total number of seconds remaining in the game. A basketball game has 4 periods, each 12 minutes long.\n",
    "- **Made previous shot**: Was Steph Curry's previous shot successful?\n",
    "    \n",
    "\n",
    "## Part 2. Evaluate models\n",
    "\n",
    "### Required\n",
    "1. Get your model's **validation accuracy.** (Multiple times if you try multiple iterations.)\n",
    "2. Get your model's **test accuracy.** (One time, at the end.)\n",
    "3. Get and plot your Random Forest's **feature importances** _or_ your Logistic Regression's **coefficients.**\n",
    "4. Imagine this is the confusion matrix for a binary classification model. **Calculate accuracy, precision, and recall for this confusion matrix:**\n",
    "\n",
    "<table>\n",
    "  <tr>\n",
    "    <td colspan=\"2\" rowspan=\"2\"></td>\n",
    "    <td colspan=\"2\">Predicted</td>\n",
    "  </tr>\n",
    "  <tr>\n",
    "    <td>Negative</td>\n",
    "    <td>Positive</td>\n",
    "  </tr>\n",
    "  <tr>\n",
    "    <td rowspan=\"2\">Actual</td>\n",
    "    <td>Negative</td>\n",
    "    <td style=\"border: solid\">85</td>\n",
    "    <td style=\"border: solid\">58</td>\n",
    "  </tr>\n",
    "  <tr>\n",
    "    <td>Positive</td>\n",
    "    <td style=\"border: solid\">8</td>\n",
    "    <td style=\"border: solid\"> 36</td>\n",
    "  </tr>\n",
    "</table>\n",
    "\n",
    "\n",
    "### Stretch goals\n",
    "- Calculate F1 score for the provided, imaginary confusion matrix.\n",
    "- Plot a real confusion matrix for your basketball model, with row and column labels.\n",
    "- Print the classification report for your model."
   ]
  },
  {
   "cell_type": "code",
   "execution_count": 2,
   "metadata": {},
   "outputs": [
    {
     "data": {
      "text/html": [
       "<div>\n",
       "<style scoped>\n",
       "    .dataframe tbody tr th:only-of-type {\n",
       "        vertical-align: middle;\n",
       "    }\n",
       "\n",
       "    .dataframe tbody tr th {\n",
       "        vertical-align: top;\n",
       "    }\n",
       "\n",
       "    .dataframe thead th {\n",
       "        text-align: right;\n",
       "    }\n",
       "</style>\n",
       "<table border=\"1\" class=\"dataframe\">\n",
       "  <thead>\n",
       "    <tr style=\"text-align: right;\">\n",
       "      <th></th>\n",
       "      <th>game_id</th>\n",
       "      <th>game_event_id</th>\n",
       "      <th>player_name</th>\n",
       "      <th>period</th>\n",
       "      <th>minutes_remaining</th>\n",
       "      <th>seconds_remaining</th>\n",
       "      <th>action_type</th>\n",
       "      <th>shot_type</th>\n",
       "      <th>shot_zone_basic</th>\n",
       "      <th>shot_zone_area</th>\n",
       "      <th>shot_zone_range</th>\n",
       "      <th>shot_distance</th>\n",
       "      <th>loc_x</th>\n",
       "      <th>loc_y</th>\n",
       "      <th>shot_made_flag</th>\n",
       "      <th>game_date</th>\n",
       "      <th>htm</th>\n",
       "      <th>vtm</th>\n",
       "      <th>season_type</th>\n",
       "      <th>scoremargin_before_shot</th>\n",
       "    </tr>\n",
       "  </thead>\n",
       "  <tbody>\n",
       "    <tr>\n",
       "      <th>0</th>\n",
       "      <td>20900015</td>\n",
       "      <td>4</td>\n",
       "      <td>Stephen Curry</td>\n",
       "      <td>1</td>\n",
       "      <td>11</td>\n",
       "      <td>25</td>\n",
       "      <td>Jump Shot</td>\n",
       "      <td>3PT Field Goal</td>\n",
       "      <td>Above the Break 3</td>\n",
       "      <td>Right Side Center(RC)</td>\n",
       "      <td>24+ ft.</td>\n",
       "      <td>26</td>\n",
       "      <td>99</td>\n",
       "      <td>249</td>\n",
       "      <td>0</td>\n",
       "      <td>2009-10-28</td>\n",
       "      <td>GSW</td>\n",
       "      <td>HOU</td>\n",
       "      <td>Regular Season</td>\n",
       "      <td>2.0</td>\n",
       "    </tr>\n",
       "    <tr>\n",
       "      <th>1</th>\n",
       "      <td>20900015</td>\n",
       "      <td>17</td>\n",
       "      <td>Stephen Curry</td>\n",
       "      <td>1</td>\n",
       "      <td>9</td>\n",
       "      <td>31</td>\n",
       "      <td>Step Back Jump shot</td>\n",
       "      <td>2PT Field Goal</td>\n",
       "      <td>Mid-Range</td>\n",
       "      <td>Left Side Center(LC)</td>\n",
       "      <td>16-24 ft.</td>\n",
       "      <td>18</td>\n",
       "      <td>-122</td>\n",
       "      <td>145</td>\n",
       "      <td>1</td>\n",
       "      <td>2009-10-28</td>\n",
       "      <td>GSW</td>\n",
       "      <td>HOU</td>\n",
       "      <td>Regular Season</td>\n",
       "      <td>0.0</td>\n",
       "    </tr>\n",
       "    <tr>\n",
       "      <th>2</th>\n",
       "      <td>20900015</td>\n",
       "      <td>53</td>\n",
       "      <td>Stephen Curry</td>\n",
       "      <td>1</td>\n",
       "      <td>6</td>\n",
       "      <td>2</td>\n",
       "      <td>Jump Shot</td>\n",
       "      <td>2PT Field Goal</td>\n",
       "      <td>In The Paint (Non-RA)</td>\n",
       "      <td>Center(C)</td>\n",
       "      <td>8-16 ft.</td>\n",
       "      <td>14</td>\n",
       "      <td>-60</td>\n",
       "      <td>129</td>\n",
       "      <td>0</td>\n",
       "      <td>2009-10-28</td>\n",
       "      <td>GSW</td>\n",
       "      <td>HOU</td>\n",
       "      <td>Regular Season</td>\n",
       "      <td>-4.0</td>\n",
       "    </tr>\n",
       "    <tr>\n",
       "      <th>3</th>\n",
       "      <td>20900015</td>\n",
       "      <td>141</td>\n",
       "      <td>Stephen Curry</td>\n",
       "      <td>2</td>\n",
       "      <td>9</td>\n",
       "      <td>49</td>\n",
       "      <td>Jump Shot</td>\n",
       "      <td>2PT Field Goal</td>\n",
       "      <td>Mid-Range</td>\n",
       "      <td>Left Side(L)</td>\n",
       "      <td>16-24 ft.</td>\n",
       "      <td>19</td>\n",
       "      <td>-172</td>\n",
       "      <td>82</td>\n",
       "      <td>0</td>\n",
       "      <td>2009-10-28</td>\n",
       "      <td>GSW</td>\n",
       "      <td>HOU</td>\n",
       "      <td>Regular Season</td>\n",
       "      <td>-4.0</td>\n",
       "    </tr>\n",
       "    <tr>\n",
       "      <th>4</th>\n",
       "      <td>20900015</td>\n",
       "      <td>249</td>\n",
       "      <td>Stephen Curry</td>\n",
       "      <td>2</td>\n",
       "      <td>2</td>\n",
       "      <td>19</td>\n",
       "      <td>Jump Shot</td>\n",
       "      <td>2PT Field Goal</td>\n",
       "      <td>Mid-Range</td>\n",
       "      <td>Left Side Center(LC)</td>\n",
       "      <td>16-24 ft.</td>\n",
       "      <td>16</td>\n",
       "      <td>-68</td>\n",
       "      <td>148</td>\n",
       "      <td>0</td>\n",
       "      <td>2009-10-28</td>\n",
       "      <td>GSW</td>\n",
       "      <td>HOU</td>\n",
       "      <td>Regular Season</td>\n",
       "      <td>0.0</td>\n",
       "    </tr>\n",
       "  </tbody>\n",
       "</table>\n",
       "</div>"
      ],
      "text/plain": [
       "    game_id  game_event_id    player_name  period  minutes_remaining  \\\n",
       "0  20900015              4  Stephen Curry       1                 11   \n",
       "1  20900015             17  Stephen Curry       1                  9   \n",
       "2  20900015             53  Stephen Curry       1                  6   \n",
       "3  20900015            141  Stephen Curry       2                  9   \n",
       "4  20900015            249  Stephen Curry       2                  2   \n",
       "\n",
       "   seconds_remaining          action_type       shot_type  \\\n",
       "0                 25            Jump Shot  3PT Field Goal   \n",
       "1                 31  Step Back Jump shot  2PT Field Goal   \n",
       "2                  2            Jump Shot  2PT Field Goal   \n",
       "3                 49            Jump Shot  2PT Field Goal   \n",
       "4                 19            Jump Shot  2PT Field Goal   \n",
       "\n",
       "         shot_zone_basic         shot_zone_area shot_zone_range  \\\n",
       "0      Above the Break 3  Right Side Center(RC)         24+ ft.   \n",
       "1              Mid-Range   Left Side Center(LC)       16-24 ft.   \n",
       "2  In The Paint (Non-RA)              Center(C)        8-16 ft.   \n",
       "3              Mid-Range           Left Side(L)       16-24 ft.   \n",
       "4              Mid-Range   Left Side Center(LC)       16-24 ft.   \n",
       "\n",
       "   shot_distance  loc_x  loc_y  shot_made_flag  game_date  htm  vtm  \\\n",
       "0             26     99    249               0 2009-10-28  GSW  HOU   \n",
       "1             18   -122    145               1 2009-10-28  GSW  HOU   \n",
       "2             14    -60    129               0 2009-10-28  GSW  HOU   \n",
       "3             19   -172     82               0 2009-10-28  GSW  HOU   \n",
       "4             16    -68    148               0 2009-10-28  GSW  HOU   \n",
       "\n",
       "      season_type  scoremargin_before_shot  \n",
       "0  Regular Season                      2.0  \n",
       "1  Regular Season                      0.0  \n",
       "2  Regular Season                     -4.0  \n",
       "3  Regular Season                     -4.0  \n",
       "4  Regular Season                      0.0  "
      ]
     },
     "execution_count": 2,
     "metadata": {},
     "output_type": "execute_result"
    }
   ],
   "source": [
    "df.head()"
   ]
  },
  {
   "cell_type": "code",
   "execution_count": 3,
   "metadata": {},
   "outputs": [],
   "source": [
    "train = df[df['game_date'] < '2017-10-01']\n",
    "val = df[(df['game_date'] >= '2017-10-01') & (df['game_date'] < '2018-10-01')]\n",
    "test = df[df['game_date'] >= '2018-10-01']\n",
    "\n",
    "assert train.shape == (11081, 20)\n",
    "assert val.shape == (1168, 20)\n",
    "assert test.shape == (1709, 20)"
   ]
  },
  {
   "cell_type": "code",
   "execution_count": 4,
   "metadata": {},
   "outputs": [],
   "source": [
    "import pandas as pd\n",
    "\n",
    "def wrangle(X):\n",
    "    X = X.copy()\n",
    "    X['game_year'] = X['game_date'].dt.year\n",
    "    X['game_month'] = X['game_date'].dt.month\n",
    "    X['game_day'] = X['game_date'].dt.day\n",
    "    X = X.drop(columns = 'game_date')\n",
    "    return X\n",
    "\n",
    "train = wrangle(train)\n",
    "val = wrangle(val)\n",
    "test = wrangle(test)\n",
    "\n",
    "target = 'shot_made_flag'\n",
    "train_features = train.drop(columns = target)\n",
    "features = train_features.columns.tolist()\n",
    "\n",
    "X_train = train[features]\n",
    "y_train = train[target]\n",
    "X_val = val[features]\n",
    "y_val = val[target]\n",
    "X_test = test[features]\n",
    "y_test = test[target]"
   ]
  },
  {
   "cell_type": "code",
   "execution_count": 17,
   "metadata": {},
   "outputs": [
    {
     "name": "stdout",
     "output_type": "stream",
     "text": [
      "Baseline: 0.473\n"
     ]
    }
   ],
   "source": [
    "baseline = y_train.mean()\n",
    "print(f'Baseline: {baseline:.3f}')"
   ]
  },
  {
   "cell_type": "code",
   "execution_count": 27,
   "metadata": {},
   "outputs": [
    {
     "name": "stdout",
     "output_type": "stream",
     "text": [
      "Validation Baseline Accuracy: 0.483733\n"
     ]
    }
   ],
   "source": [
    "import numpy as np\n",
    "from sklearn.metrics import accuracy_score\n",
    "y_pred = np.ones(len(y_val))\n",
    "print(f'Validation Baseline Accuracy: {accuracy_score(y_val, y_pred):3f}')"
   ]
  },
  {
   "cell_type": "code",
   "execution_count": 32,
   "metadata": {},
   "outputs": [],
   "source": [
    "OrdinalEncoder = ce.OrdinalEncoder\n",
    "OneHotEncoder = ce.OneHotEncoder"
   ]
  },
  {
   "cell_type": "code",
   "execution_count": 49,
   "metadata": {},
   "outputs": [],
   "source": [
    "from sklearn_pandas import DataFrameMapper, gen_features\n",
    "\n",
    "ordinal_encode = gen_features(\n",
    "    columns = [['action_type'], ['htm'], ['vtm']],\n",
    "    classes = [OrdinalEncoder]\n",
    ")\n",
    "no_encode = gen_features(\n",
    "    columns = [['game_year'], ['game_month'], ['game_day'], ['game_id'], ['game_event_id'],\n",
    "              ['period'], ['minutes_remaining'], ['seconds_remaining'], ['shot_distance'],\n",
    "              ['loc_x'], ['loc_y'], ['scoremargin_before_shot']],\n",
    "    classes = None\n",
    ")\n",
    "\n",
    "mapped_features = (ordinal_encode + no_encode)\n",
    "mapper = DataFrameMapper(mapped_features, df_out = True)"
   ]
  },
  {
   "cell_type": "code",
   "execution_count": 50,
   "metadata": {},
   "outputs": [
    {
     "name": "stdout",
     "output_type": "stream",
     "text": [
      "Validation Score: 0.589\n"
     ]
    }
   ],
   "source": [
    "from sklearn.pipeline import make_pipeline\n",
    "from sklearn.ensemble import RandomForestClassifier\n",
    "\n",
    "pipeline = make_pipeline(\n",
    "    mapper,\n",
    "    RandomForestClassifier(n_estimators = 100,\n",
    "                          n_jobs = -1,\n",
    "                          random_state = 42)\n",
    ")\n",
    "\n",
    "pipeline.fit(X_train, y_train)\n",
    "print(f'Validation Score: {pipeline.score(X_val, y_val):.3f}')"
   ]
  },
  {
   "cell_type": "code",
   "execution_count": 51,
   "metadata": {},
   "outputs": [
    {
     "data": {
      "image/png": "[encoded data removed]",
      "text/plain": [
       "<Figure size 1152x576 with 1 Axes>"
      ]
     },
     "metadata": {
      "needs_background": "light"
     },
     "output_type": "display_data"
    }
   ],
   "source": [
    "feature_importances = np.array(pipeline.named_steps['randomforestclassifier'].feature_importances_)\n",
    "feature_names = np.array(pipeline.named_steps['dataframemapper'].transformed_names_)\n",
    "\n",
    "importances_df = pd.DataFrame({'Feature': feature_names, 'Importance': feature_importances})\n",
    "importances_df.sort_values(by = 'Importance', ascending = False).plot.bar(x = 'Feature', y = 'Importance', figsize = (16, 8));"
   ]
  },
  {
   "cell_type": "code",
   "execution_count": 54,
   "metadata": {},
   "outputs": [],
   "source": [
    "def create_features(X):\n",
    "    X = X.copy()\n",
    "    X['home_court_advantage'] = np.where(X['htm'] == 'GSW', 1, 0)\n",
    "    X['opponent'] = np.where(X['home_court_advantage'] == 1, X['vtm'], X['htm'])\n",
    "    X['seconds_remaining_period'] = X['minutes_remaining'] * 60 + X['seconds_remaining']\n",
    "    X['seconds_remaining_game'] = ((4 - X['period']) * 600) + X['seconds_remaining_period']\n",
    "    return X\n",
    "\n",
    "X_train = create_features(X_train)\n",
    "X_val = create_features(X_val)\n",
    "X_test = create_features(X_test)"
   ]
  },
  {
   "cell_type": "code",
   "execution_count": 62,
   "metadata": {},
   "outputs": [],
   "source": [
    "ordinal_encode = gen_features(\n",
    "    columns = [['action_type'], ['opponent']],\n",
    "    classes = [OrdinalEncoder]\n",
    ")\n",
    "no_encode = gen_features(\n",
    "    columns = [['game_year'], ['game_month'], ['game_day'], ['game_id'], ['game_event_id'],\n",
    "              ['period'], ['shot_distance'], ['home_court_advantage'], ['seconds_remaining_period'],\n",
    "              ['seconds_remaining_game'], ['loc_x'], ['loc_y'], ['scoremargin_before_shot']],\n",
    "    classes = None\n",
    ")\n",
    "\n",
    "mapped_features = (ordinal_encode + no_encode)\n",
    "mapper = DataFrameMapper(mapped_features, df_out = True)"
   ]
  },
  {
   "cell_type": "code",
   "execution_count": 63,
   "metadata": {},
   "outputs": [
    {
     "name": "stdout",
     "output_type": "stream",
     "text": [
      "Validation Score: 0.614\n"
     ]
    }
   ],
   "source": [
    "pipeline = make_pipeline(\n",
    "    mapper,\n",
    "    RandomForestClassifier(n_estimators = 100,\n",
    "                          n_jobs = -1)\n",
    ")\n",
    "\n",
    "pipeline.fit(X_train, y_train)\n",
    "print(f'Validation Score: {pipeline.score(X_val, y_val):.3f}')"
   ]
  },
  {
   "cell_type": "code",
   "execution_count": 64,
   "metadata": {},
   "outputs": [
    {
     "data": {
      "image/png": "[encoded data removed]",
      "text/plain": [
       "<Figure size 1152x576 with 1 Axes>"
      ]
     },
     "metadata": {
      "needs_background": "light"
     },
     "output_type": "display_data"
    }
   ],
   "source": [
    "feature_importances = np.array(pipeline.named_steps['randomforestclassifier'].feature_importances_)\n",
    "feature_names = np.array(pipeline.named_steps['dataframemapper'].transformed_names_)\n",
    "\n",
    "importances_df = pd.DataFrame({'Feature': feature_names, 'Importance': feature_importances})\n",
    "importances_df.sort_values(by = 'Importance', ascending = False).plot.bar(x = 'Feature', y = 'Importance', figsize = (16, 8));"
   ]
  },
  {
   "cell_type": "code",
   "execution_count": 65,
   "metadata": {},
   "outputs": [
    {
     "name": "stdout",
     "output_type": "stream",
     "text": [
      "Test Validation Score: 0.621\n"
     ]
    }
   ],
   "source": [
    "print(f'Test Validation Score: {pipeline.score(X_test, y_test):.3f}')"
   ]
  },
  {
   "cell_type": "code",
   "execution_count": 73,
   "metadata": {},
   "outputs": [
    {
     "name": "stdout",
     "output_type": "stream",
     "text": [
      "Collecting pycm==2.4\n",
      "  Downloading https://files.pythonhosted.org/packages/25/10/6525c8fd14aac2ab582506c830c98fe9835299c9ffe7f0d53f76848b5b6e/pycm-2.4-py2.py3-none-any.whl (48kB)\n",
      "Requirement already satisfied: numpy>=1.9.0 in c:\\programdata\\anaconda3_\\lib\\site-packages (from pycm==2.4) (1.16.2)\n",
      "Collecting art>=1.8 (from pycm==2.4)\n",
      "  Downloading https://files.pythonhosted.org/packages/fb/ee/f8ee3c9ff194b30c07d85746fdcc78103de63e23fce868a704b98294f7e2/art-3.8-py2.py3-none-any.whl (489kB)\n",
      "Collecting coverage>=4.1 (from art>=1.8->pycm==2.4)\n",
      "  Downloading https://files.pythonhosted.org/packages/38/eb/252f991555d408528ad927d0e8ab9e9f14c85daefa81bc73c9ad1e0ed706/coverage-4.5.4-cp37-cp37m-win_amd64.whl (183kB)\n",
      "Installing collected packages: coverage, art, pycm\n",
      "Successfully installed art-3.8 coverage-4.5.4 pycm-2.4\n"
     ]
    }
   ],
   "source": [
    "!pip install pycm==2.4"
   ]
  },
  {
   "cell_type": "code",
   "execution_count": 74,
   "metadata": {},
   "outputs": [],
   "source": [
    "from pycm import *"
   ]
  },
  {
   "cell_type": "code",
   "execution_count": 80,
   "metadata": {},
   "outputs": [
    {
     "name": "stdout",
     "output_type": "stream",
     "text": [
      "Predict             Shot Not Made       Shot Made           \n",
      "Actual\n",
      "Shot Made           437                 360                 \n",
      "\n",
      "Shot Not Made       287                 625                 \n",
      "\n",
      "\n",
      "\n",
      "\n",
      "\n",
      "Overall Statistics : \n",
      "\n",
      "95% CI                                                            (0.59842,0.64441)\n",
      "ACC Macro                                                         0.62142\n",
      "AUNP                                                              0.61681\n",
      "AUNU                                                              0.61681\n",
      "Bennett S                                                         0.24283\n",
      "CBA                                                               0.59141\n",
      "Chi-Squared                                                       95.06377\n",
      "Chi-Squared DF                                                    1\n",
      "Conditional Entropy                                               0.9427\n",
      "Cramer V                                                          0.23585\n",
      "Cross Entropy                                                     1.00208\n",
      "F1 Macro                                                          0.61678\n",
      "F1 Micro                                                          0.62142\n",
      "Gwet AC1                                                          0.25189\n",
      "Hamming Loss                                                      0.37858\n",
      "Joint Entropy                                                     1.93943\n",
      "KL Divergence                                                     0.00535\n",
      "Kappa                                                             0.23497\n",
      "Kappa 95% CI                                                      (0.1885,0.28144)\n",
      "Kappa No Prevalence                                               0.24283\n",
      "Kappa Standard Error                                              0.02371\n",
      "Kappa Unbiased                                                    0.23356\n",
      "Lambda A                                                          0.18821\n",
      "Lambda B                                                          0.10635\n",
      "Mutual Information                                                0.04041\n",
      "NIR                                                               0.53365\n",
      "Overall ACC                                                       0.62142\n",
      "Overall CEN                                                       0.90229\n",
      "Overall J                                                         (0.89449,0.44724)\n",
      "Overall MCC                                                       0.23585\n",
      "Overall MCEN                                                      0.70064\n",
      "Overall RACC                                                      0.50514\n",
      "Overall RACCU                                                     0.50605\n",
      "P-Value                                                           None\n",
      "PPV Macro                                                         0.61905\n",
      "PPV Micro                                                         0.62142\n",
      "Pearson C                                                         0.22955\n",
      "Phi-Squared                                                       0.05563\n",
      "RCI                                                               0.04054\n",
      "RR                                                                854.5\n",
      "Reference Entropy                                                 0.99673\n",
      "Response Entropy                                                  0.98311\n",
      "SOA1(Landis & Koch)                                               Fair\n",
      "SOA2(Fleiss)                                                      Poor\n",
      "SOA3(Altman)                                                      Fair\n",
      "SOA4(Cicchetti)                                                   Poor\n",
      "SOA5(Cramer)                                                      Moderate\n",
      "SOA6(Matthews)                                                    Negligible\n",
      "Scott PI                                                          0.23356\n",
      "Standard Error                                                    0.01173\n",
      "TPR Macro                                                         0.61681\n",
      "TPR Micro                                                         0.62142\n",
      "Zero-one Loss                                                     647\n",
      "\n",
      "Class Statistics :\n",
      "\n",
      "Classes                                                           Shot Made         Shot Not Made     \n",
      "ACC(Accuracy)                                                     0.62142           0.62142           \n",
      "AGF(Adjusted F-score)                                             0.59978           0.63173           \n",
      "AGM(Adjusted geometric mean)                                      0.63815           0.59242           \n",
      "AM(Difference between automatic and manual classification)        -73               73                \n",
      "AUC(Area under the ROC curve)                                     0.61681           0.61681           \n",
      "AUCI(AUC value interpretation)                                    Fair              Fair              \n",
      "AUPR(Area under the PR curve)                                     0.57595           0.65991           \n",
      "BCD(Bray-Curtis dissimilarity)                                    0.02136           0.02136           \n",
      "BM(Informedness or bookmaker informedness)                        0.23361           0.23361           \n",
      "CEN(Confusion entropy)                                            0.94603           0.86722           \n",
      "DOR(Diagnostic odds ratio)                                        2.64349           2.64349           \n",
      "DP(Discriminant power)                                            0.23276           0.23276           \n",
      "DPI(Discriminant power interpretation)                            Poor              Poor              \n",
      "ERR(Error rate)                                                   0.37858           0.37858           \n",
      "F0.5(F0.5 score)                                                  0.59166           0.64406           \n",
      "F1(F1 score - harmonic mean of precision and sensitivity)         0.57462           0.65894           \n",
      "F2(F2 score)                                                      0.55854           0.67451           \n",
      "FDR(False discovery rate)                                         0.39641           0.36548           \n",
      "FN(False negative/miss/type 2 error)                              360               287               \n",
      "FNR(Miss rate or false negative rate)                             0.45169           0.31469           \n",
      "FOR(False omission rate)                                          0.36548           0.39641           \n",
      "FP(False positive/type 1 error/false alarm)                       287               360               \n",
      "FPR(Fall-out or false positive rate)                              0.31469           0.45169           \n",
      "G(G-measure geometric mean of precision and sensitivity)          0.57528           0.65942           \n",
      "GI(Gini index)                                                    0.23361           0.23361           \n",
      "GM(G-mean geometric mean of specificity and sensitivity)          0.61299           0.61299           \n",
      "IBA(Index of balanced accuracy)                                   0.32428           0.42724           \n",
      "IS(Information score)                                             0.37214           0.24978           \n",
      "J(Jaccard index)                                                  0.40314           0.49135           \n",
      "LS(Lift score)                                                    1.29428           1.18903           \n",
      "MCC(Matthews correlation coefficient)                             0.23585           0.23585           \n",
      "MCCI(Matthews correlation coefficient interpretation)             Negligible        Negligible        \n",
      "MCEN(Modified confusion entropy)                                  1.03575           1.00003           \n",
      "MK(Markedness)                                                    0.23811           0.23811           \n",
      "N(Condition negative)                                             912               797               \n",
      "NLR(Negative likelihood ratio)                                    0.65911           0.57394           \n",
      "NLRI(Negative likelihood ratio interpretation)                    Negligible        Negligible        \n",
      "NPV(Negative predictive value)                                    0.63452           0.60359           \n",
      "OC(Overlap coefficient)                                           0.60359           0.68531           \n",
      "OOC(Otsuka-Ochiai coefficient)                                    0.57528           0.65942           \n",
      "OP(Optimized precision)                                           0.51036           0.51036           \n",
      "P(Condition positive or support)                                  797               912               \n",
      "PLR(Positive likelihood ratio)                                    1.74235           1.51719           \n",
      "PLRI(Positive likelihood ratio interpretation)                    Poor              Poor              \n",
      "POP(Population)                                                   1709              1709              \n",
      "PPV(Precision or positive predictive value)                       0.60359           0.63452           \n",
      "PRE(Prevalence)                                                   0.46635           0.53365           \n",
      "Q(Yule Q - coefficient of colligation)                            0.45108           0.45108           \n",
      "RACC(Random accuracy)                                             0.19757           0.30757           \n",
      "RACCU(Random accuracy unbiased)                                   0.19802           0.30803           \n",
      "TN(True negative/correct rejection)                               625               437               \n",
      "TNR(Specificity or true negative rate)                            0.68531           0.54831           \n",
      "TON(Test outcome negative)                                        985               724               \n",
      "TOP(Test outcome positive)                                        724               985               \n",
      "TP(True positive/hit)                                             437               625               \n",
      "TPR(Sensitivity, recall, hit rate, or true positive rate)         0.54831           0.68531           \n",
      "Y(Youden index)                                                   0.23361           0.23361           \n",
      "dInd(Distance index)                                              0.55051           0.55051           \n",
      "sInd(Similarity index)                                            0.61073           0.61073           \n",
      "\n"
     ]
    }
   ],
   "source": [
    "y_pred = pipeline.predict(X_test)\n",
    "cm = ConfusionMatrix(actual_vector = np.array(y_test), predict_vector = np.array(y_pred))\n",
    "cm.relabel(mapping = {0: 'Shot Not Made', 1: 'Shot Made'})\n",
    "print(cm)"
   ]
  },
  {
   "cell_type": "code",
   "execution_count": 81,
   "metadata": {},
   "outputs": [
    {
     "name": "stdout",
     "output_type": "stream",
     "text": [
      "Predict        Negative       Positive       \n",
      "Actual\n",
      "Negative       85             58             \n",
      "\n",
      "Positive       8              36             \n",
      "\n",
      "\n"
     ]
    }
   ],
   "source": [
    "cm2 = ConfusionMatrix(matrix = {\"Negative\": {\"Negative\": 85, \"Positive\": 58, }, \n",
    "                                \"Positive\": {\"Negative\": 8, \"Positive\": 36}})\n",
    "\n",
    "cm2.print_matrix()"
   ]
  },
  {
   "cell_type": "code",
   "execution_count": 82,
   "metadata": {},
   "outputs": [
    {
     "name": "stdout",
     "output_type": "stream",
     "text": [
      "Accuracy: 0.647\n"
     ]
    }
   ],
   "source": [
    "cm2_accuracy = (85 + 36) / (85 + 36 + 8 + 58)\n",
    "print(f'Accuracy: {cm2_accuracy:.3f}')"
   ]
  },
  {
   "cell_type": "code",
   "execution_count": 83,
   "metadata": {},
   "outputs": [
    {
     "name": "stdout",
     "output_type": "stream",
     "text": [
      "Precision: 0.383\n"
     ]
    }
   ],
   "source": [
    "cm2_precision = 36 / (36 + 58)\n",
    "print(f'Precision: {cm2_precision:.3f}')"
   ]
  },
  {
   "cell_type": "code",
   "execution_count": 84,
   "metadata": {},
   "outputs": [
    {
     "name": "stdout",
     "output_type": "stream",
     "text": [
      "Recall: 0.818\n"
     ]
    }
   ],
   "source": [
    "cm2_recall = 36 / (36 + 8)\n",
    "print(f'Recall: {cm2_recall:.3f}')"
   ]
  },
  {
   "cell_type": "code",
   "execution_count": 87,
   "metadata": {},
   "outputs": [
    {
     "name": "stdout",
     "output_type": "stream",
     "text": [
      "F1 Score: 0.522\n"
     ]
    }
   ],
   "source": [
    "cm2_F1 = 2 * ((cm2_precision * cm2_recall) / (cm2_precision + cm2_recall))\n",
    "print(f'F1 Score: {cm2_F1:.3f}')"
   ]
  },
  {
   "cell_type": "code",
   "execution_count": null,
   "metadata": {},
   "outputs": [],
   "source": []
  }
 ],
 "metadata": {
  "colab": {
   "name": "DS_Sprint_Challenge_7_Classification_1.ipynb",
   "provenance": [],
   "version": "0.3.2"
  },
  "kernelspec": {
   "display_name": "Python 3",
   "language": "python",
   "name": "python3"
  },
  "language_info": {
   "codemirror_mode": {
    "name": "ipython",
    "version": 3
   },
   "file_extension": ".py",
   "mimetype": "text/x-python",
   "name": "python",
   "nbconvert_exporter": "python",
   "pygments_lexer": "ipython3",
   "version": "3.7.3"
  }
 },
 "nbformat": 4,
 "nbformat_minor": 1
}
