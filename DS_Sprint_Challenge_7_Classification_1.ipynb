{
  "nbformat": 4,
  "nbformat_minor": 0,
  "metadata": {
    "colab": {
      "name": "DS_Sprint_Challenge_7_Classification_1.ipynb",
      "version": "0.3.2",
      "provenance": [],
      "include_colab_link": true
    },
    "kernelspec": {
      "display_name": "Python 3",
      "language": "python",
      "name": "python3"
    },
    "language_info": {
      "codemirror_mode": {
        "name": "ipython",
        "version": 3
      },
      "file_extension": ".py",
      "mimetype": "text/x-python",
      "name": "python",
      "nbconvert_exporter": "python",
      "pygments_lexer": "ipython3",
      "version": "3.7.1"
    }
  },
  "cells": [
    {
      "cell_type": "markdown",
      "metadata": {
        "id": "view-in-github",
        "colab_type": "text"
      },
      "source": [
        "<a href=\"https://colab.research.google.com/github/ElisabethShah/DS-Unit-2-Tree-Ensembles/blob/master/DS_Sprint_Challenge_7_Classification_1.ipynb\" target=\"_parent\"><img src=\"https://colab.research.google.com/assets/colab-badge.svg\" alt=\"Open In Colab\"/></a>"
      ]
    },
    {
      "cell_type": "markdown",
      "metadata": {
        "colab_type": "text",
        "id": "7NQhCv9N9NCo"
      },
      "source": [
        "_Lambda School Data Science, Unit 2_\n",
        " \n",
        "# Sprint Challenge: Predict Steph Curry's shots 🏀\n",
        "\n",
        "For your Sprint Challenge, you'll use a dataset with all Steph Curry's NBA field goal attempts. (Regular season and playoff games, from October 28, 2009, through June 5, 2019.) \n",
        "\n",
        "You'll use information about the shot and the game to predict whether the shot was made. This is hard to predict! Try for an accuracy score in the high 50's or low 60's. The dataset was collected with the [nba_api](https://github.com/swar/nba_api) Python library."
      ]
    },
    {
      "cell_type": "code",
      "metadata": {
        "id": "Wnfav6qSWrOA",
        "colab_type": "code",
        "colab": {
          "base_uri": "https://localhost:8080/",
          "height": 239
        },
        "outputId": "4d4152a0-0dad-4cea-c3f0-7bdd8d89f8e7"
      },
      "source": [
        "# Install dependencies.\n",
        "!pip install category_encoders"
      ],
      "execution_count": 1,
      "outputs": [
        {
          "output_type": "stream",
          "text": [
            "Requirement already satisfied: category_encoders in /usr/local/lib/python3.6/dist-packages (2.0.0)\n",
            "Requirement already satisfied: numpy>=1.11.3 in /usr/local/lib/python3.6/dist-packages (from category_encoders) (1.16.4)\n",
            "Requirement already satisfied: statsmodels>=0.6.1 in /usr/local/lib/python3.6/dist-packages (from category_encoders) (0.10.1)\n",
            "Requirement already satisfied: pandas>=0.21.1 in /usr/local/lib/python3.6/dist-packages (from category_encoders) (0.24.2)\n",
            "Requirement already satisfied: patsy>=0.4.1 in /usr/local/lib/python3.6/dist-packages (from category_encoders) (0.5.1)\n",
            "Requirement already satisfied: scikit-learn>=0.20.0 in /usr/local/lib/python3.6/dist-packages (from category_encoders) (0.21.3)\n",
            "Requirement already satisfied: scipy>=0.19.0 in /usr/local/lib/python3.6/dist-packages (from category_encoders) (1.3.0)\n",
            "Requirement already satisfied: python-dateutil>=2.5.0 in /usr/local/lib/python3.6/dist-packages (from pandas>=0.21.1->category_encoders) (2.5.3)\n",
            "Requirement already satisfied: pytz>=2011k in /usr/local/lib/python3.6/dist-packages (from pandas>=0.21.1->category_encoders) (2018.9)\n",
            "Requirement already satisfied: six in /usr/local/lib/python3.6/dist-packages (from patsy>=0.4.1->category_encoders) (1.12.0)\n",
            "Requirement already satisfied: joblib>=0.11 in /usr/local/lib/python3.6/dist-packages (from scikit-learn>=0.20.0->category_encoders) (0.13.2)\n"
          ],
          "name": "stdout"
        }
      ]
    },
    {
      "cell_type": "code",
      "metadata": {
        "id": "ScHReEEvTZO5",
        "colab_type": "code",
        "colab": {}
      },
      "source": [
        "# General imports.\n",
        "import category_encoders as ce\n",
        "import matplotlib.pyplot as plt\n",
        "import numpy as np\n",
        "import pandas as pd\n",
        "import pandas_profiling as pp\n",
        "import seaborn as sns\n",
        "\n",
        "# Scikit-learn imports.\n",
        "from sklearn.linear_model import LogisticRegression\n",
        "from sklearn.metrics import accuracy_score\n",
        "from sklearn.preprocessing import RobustScaler"
      ],
      "execution_count": 0,
      "outputs": []
    },
    {
      "cell_type": "code",
      "metadata": {
        "colab_type": "code",
        "id": "5RDEWI9c9NCr",
        "colab": {}
      },
      "source": [
        "# Load data.\n",
        "url = ('https://drive.google.com/uc?export=download'\n",
        "       '&id=1fL7KPyxgGYfQDsuJoBWHIWwCAf-HTFpX')\n",
        "df = pd.read_csv(url, parse_dates=['game_date']).set_index('game_date')\n",
        "assert df.shape == (13958, 19)"
      ],
      "execution_count": 0,
      "outputs": []
    },
    {
      "cell_type": "markdown",
      "metadata": {
        "colab_type": "text",
        "id": "gWRX4uaY9NCw"
      },
      "source": [
        "## Overview\n",
        "\n",
        "This Sprint Challenge has two parts. To demonstrate mastery on each part, do all the required, numbered instructions. To earn a score of \"3\" for the part, also do the stretch goals.\n",
        "\n",
        "## Part 1. Prepare to model\n",
        "\n",
        "### Required\n",
        "\n",
        "1. **Do train/validate/test split.** Use the 2009-10 season through 2016-17 season to train, the 2017-18 season to validate, and the 2018-19 season to test. NBA seasons begin in October and end in June. You'll know you've split the data correctly when your train set has 11081 observations, your validation set has 1168 observations, and your test set has 1709 observations.\n",
        "2. **Begin with baselines for classification.** Your target to predict is `shot_made_flag`. What is the baseline accuracy for the validation set, if you guessed the majority class for every prediction?\n",
        "3. **Use Ordinal Encoding _or_ One-Hot Encoding,** for the categorical features you select.\n",
        "4. **Train a Random Forest _or_ Logistic Regression** with the features you select.\n",
        "\n",
        "### Stretch goals\n",
        "Engineer at least 4 of these 5 features:\n",
        "\n",
        "- **Homecourt Advantage**: Is the home team (`htm`) the Golden State Warriors (`GSW`) ?\n",
        "- **Opponent**: Who is the other team playing the Golden State Warriors?\n",
        "- **Seconds remaining in the period**: Combine minutes remaining with seconds remaining, to get the total number of seconds remaining in the period.\n",
        "- **Seconds remaining in the game**: Combine period, and seconds remaining in the period, to get the total number of seconds remaining in the game. A basketball game has 4 periods, each 12 minutes long.\n",
        "- **Made previous shot**: Was Steph Curry's previous shot successful?\n",
        "    \n",
        "\n",
        "## Part 2. Evaluate models\n",
        "\n",
        "### Required\n",
        "1. Get your model's **validation accuracy.** (Multiple times if you try multiple iterations.)\n",
        "2. Get your model's **test accuracy.** (One time, at the end.)\n",
        "3. Get and plot your Random Forest's **feature importances** _or_ your Logistic Regression's **coefficients.**\n",
        "4. Imagine this is the confusion matrix for a binary classification model. **Calculate accuracy, precision, and recall for this confusion matrix:**\n",
        "\n",
        "<table>\n",
        "  <tr>\n",
        "    <td colspan=\"2\" rowspan=\"2\"></td>\n",
        "    <td colspan=\"2\">Predicted</td>\n",
        "  </tr>\n",
        "  <tr>\n",
        "    <td>Negative</td>\n",
        "    <td>Positive</td>\n",
        "  </tr>\n",
        "  <tr>\n",
        "    <td rowspan=\"2\">Actual</td>\n",
        "    <td>Negative</td>\n",
        "    <td style=\"border: solid\">85</td>\n",
        "    <td style=\"border: solid\">58</td>\n",
        "  </tr>\n",
        "  <tr>\n",
        "    <td>Positive</td>\n",
        "    <td style=\"border: solid\">8</td>\n",
        "    <td style=\"border: solid\"> 36</td>\n",
        "  </tr>\n",
        "</table>\n",
        "\n",
        "\n",
        "### Stretch goals\n",
        "- Calculate F1 score for the provided, imaginary confusion matrix.\n",
        "- Plot a real confusion matrix for your basketball model, with row and column labels.\n",
        "- Print the classification report for your model."
      ]
    },
    {
      "cell_type": "markdown",
      "metadata": {
        "id": "Y-0B02bGT_wI",
        "colab_type": "text"
      },
      "source": [
        "## Part 1.  Prepare to model"
      ]
    },
    {
      "cell_type": "markdown",
      "metadata": {
        "id": "sDysjxNBUGXQ",
        "colab_type": "text"
      },
      "source": [
        "### Required"
      ]
    },
    {
      "cell_type": "markdown",
      "metadata": {
        "id": "gCsCyADBUJsI",
        "colab_type": "text"
      },
      "source": [
        "#### 1. Do train/validate/test split\n",
        "\n",
        "Use the 2009-10 season through 2016-17 season to train, the 2017-18 season to validate, and the 2018-19 season to test. NBA seasons begin in October and end in June. You'll know you've split the data correctly when your train set has 11081 observations, your validation set has 1168 observations, and your test set has 1709 observations."
      ]
    },
    {
      "cell_type": "code",
      "metadata": {
        "id": "eTc_I0p5T7GY",
        "colab_type": "code",
        "colab": {}
      },
      "source": [
        "# Move game date from index position to column.\n",
        "df = df.reset_index()"
      ],
      "execution_count": 0,
      "outputs": []
    },
    {
      "cell_type": "code",
      "metadata": {
        "id": "7uZzGHipUx0E",
        "colab_type": "code",
        "colab": {}
      },
      "source": [
        "# Split training, validation, and testing sets. There should be no games from \n",
        "# July through September, so split dates anywhere in that range should work \n",
        "# equivalently.\n",
        "train = df[df['game_date'] < '2017-09-01']\n",
        "val = df[df['game_date'].between('2017-09-01', '2018-09-01')]\n",
        "test = df[df['game_date'] > '2018-09-01']"
      ],
      "execution_count": 0,
      "outputs": []
    },
    {
      "cell_type": "code",
      "metadata": {
        "id": "BWf7FV-pU5gE",
        "colab_type": "code",
        "colab": {
          "base_uri": "https://localhost:8080/",
          "height": 35
        },
        "outputId": "7877abe3-df7f-4ddd-a235-1171e9b06073"
      },
      "source": [
        "# Check dataset dimensions.\n",
        "train.shape, val.shape, test.shape"
      ],
      "execution_count": 6,
      "outputs": [
        {
          "output_type": "execute_result",
          "data": {
            "text/plain": [
              "((11081, 20), (1168, 20), (1709, 20))"
            ]
          },
          "metadata": {
            "tags": []
          },
          "execution_count": 6
        }
      ]
    },
    {
      "cell_type": "markdown",
      "metadata": {
        "id": "eKraq4yoUN9w",
        "colab_type": "text"
      },
      "source": [
        "#### 2. Begin with baselines for classification\n",
        "\n",
        "Your target to predict is shot_made_flag. What is the baseline accuracy for the validation set, if you guessed the majority class for every prediction?"
      ]
    },
    {
      "cell_type": "code",
      "metadata": {
        "id": "VN57y1JfT7oR",
        "colab_type": "code",
        "colab": {}
      },
      "source": [
        "# Split datasets into target vectors and feature matrices.\n",
        "target = 'shot_made_flag'\n",
        "\n",
        "y_train = train[target]\n",
        "y_val = val[target]\n",
        "y_test = test[target]\n",
        "\n",
        "X_train = train.drop(columns=[target])\n",
        "X_val = val.drop(columns=[target])\n",
        "X_test = test.drop(columns=[target])"
      ],
      "execution_count": 0,
      "outputs": []
    },
    {
      "cell_type": "code",
      "metadata": {
        "id": "1TkBrSFXVU7w",
        "colab_type": "code",
        "colab": {
          "base_uri": "https://localhost:8080/",
          "height": 72
        },
        "outputId": "a34ee4c7-e3de-4af3-80aa-27a14d1f27df"
      },
      "source": [
        "# Find majority class.\n",
        "y_train.value_counts(normalize=True)"
      ],
      "execution_count": 8,
      "outputs": [
        {
          "output_type": "execute_result",
          "data": {
            "text/plain": [
              "0    0.527209\n",
              "1    0.472791\n",
              "Name: shot_made_flag, dtype: float64"
            ]
          },
          "metadata": {
            "tags": []
          },
          "execution_count": 8
        }
      ]
    },
    {
      "cell_type": "code",
      "metadata": {
        "id": "fwxWEo4qVW7j",
        "colab_type": "code",
        "colab": {}
      },
      "source": [
        "# Make predictions on validation set.\n",
        "y_pred = np.full_like(y_val, y_train.mode())"
      ],
      "execution_count": 0,
      "outputs": []
    },
    {
      "cell_type": "code",
      "metadata": {
        "id": "723LpmQiVcBY",
        "colab_type": "code",
        "colab": {
          "base_uri": "https://localhost:8080/",
          "height": 35
        },
        "outputId": "a733b06b-1163-4aed-cd02-34073993bb52"
      },
      "source": [
        "# Evaluate predictions on validation set.\n",
        "accuracy_score(y_val, y_pred)"
      ],
      "execution_count": 10,
      "outputs": [
        {
          "output_type": "execute_result",
          "data": {
            "text/plain": [
              "0.5162671232876712"
            ]
          },
          "metadata": {
            "tags": []
          },
          "execution_count": 10
        }
      ]
    },
    {
      "cell_type": "markdown",
      "metadata": {
        "id": "b6IkoWuNUP8w",
        "colab_type": "text"
      },
      "source": [
        "#### 3. Use ordinal encoding or one-hot encoding"
      ]
    },
    {
      "cell_type": "code",
      "metadata": {
        "id": "H_jEM-iAWCQH",
        "colab_type": "code",
        "colab": {
          "base_uri": "https://localhost:8080/",
          "height": 313
        },
        "outputId": "e9312ffe-cdf8-4a1f-d69d-ae850ba47b7d"
      },
      "source": [
        "# Preview sample data.\n",
        "X_train.sample(random_state=0, n=5)"
      ],
      "execution_count": 11,
      "outputs": [
        {
          "output_type": "execute_result",
          "data": {
            "text/html": [
              "<div>\n",
              "<style scoped>\n",
              "    .dataframe tbody tr th:only-of-type {\n",
              "        vertical-align: middle;\n",
              "    }\n",
              "\n",
              "    .dataframe tbody tr th {\n",
              "        vertical-align: top;\n",
              "    }\n",
              "\n",
              "    .dataframe thead th {\n",
              "        text-align: right;\n",
              "    }\n",
              "</style>\n",
              "<table border=\"1\" class=\"dataframe\">\n",
              "  <thead>\n",
              "    <tr style=\"text-align: right;\">\n",
              "      <th></th>\n",
              "      <th>game_date</th>\n",
              "      <th>game_id</th>\n",
              "      <th>game_event_id</th>\n",
              "      <th>player_name</th>\n",
              "      <th>period</th>\n",
              "      <th>minutes_remaining</th>\n",
              "      <th>seconds_remaining</th>\n",
              "      <th>action_type</th>\n",
              "      <th>shot_type</th>\n",
              "      <th>shot_zone_basic</th>\n",
              "      <th>shot_zone_area</th>\n",
              "      <th>shot_zone_range</th>\n",
              "      <th>shot_distance</th>\n",
              "      <th>loc_x</th>\n",
              "      <th>loc_y</th>\n",
              "      <th>htm</th>\n",
              "      <th>vtm</th>\n",
              "      <th>season_type</th>\n",
              "      <th>scoremargin_before_shot</th>\n",
              "    </tr>\n",
              "  </thead>\n",
              "  <tbody>\n",
              "    <tr>\n",
              "      <th>3725</th>\n",
              "      <td>2013-04-03</td>\n",
              "      <td>21201122</td>\n",
              "      <td>59</td>\n",
              "      <td>Stephen Curry</td>\n",
              "      <td>1</td>\n",
              "      <td>6</td>\n",
              "      <td>43</td>\n",
              "      <td>Jump Shot</td>\n",
              "      <td>3PT Field Goal</td>\n",
              "      <td>Above the Break 3</td>\n",
              "      <td>Right Side Center(RC)</td>\n",
              "      <td>24+ ft.</td>\n",
              "      <td>25</td>\n",
              "      <td>211</td>\n",
              "      <td>137</td>\n",
              "      <td>GSW</td>\n",
              "      <td>NOH</td>\n",
              "      <td>Regular Season</td>\n",
              "      <td>-1.0</td>\n",
              "    </tr>\n",
              "    <tr>\n",
              "      <th>651</th>\n",
              "      <td>2010-02-17</td>\n",
              "      <td>20900800</td>\n",
              "      <td>284</td>\n",
              "      <td>Stephen Curry</td>\n",
              "      <td>3</td>\n",
              "      <td>11</td>\n",
              "      <td>0</td>\n",
              "      <td>Jump Shot</td>\n",
              "      <td>2PT Field Goal</td>\n",
              "      <td>Mid-Range</td>\n",
              "      <td>Right Side Center(RC)</td>\n",
              "      <td>16-24 ft.</td>\n",
              "      <td>17</td>\n",
              "      <td>124</td>\n",
              "      <td>124</td>\n",
              "      <td>GSW</td>\n",
              "      <td>SAC</td>\n",
              "      <td>Regular Season</td>\n",
              "      <td>29.0</td>\n",
              "    </tr>\n",
              "    <tr>\n",
              "      <th>4443</th>\n",
              "      <td>2013-12-09</td>\n",
              "      <td>21300304</td>\n",
              "      <td>417</td>\n",
              "      <td>Stephen Curry</td>\n",
              "      <td>3</td>\n",
              "      <td>0</td>\n",
              "      <td>0</td>\n",
              "      <td>Driving Jump shot</td>\n",
              "      <td>2PT Field Goal</td>\n",
              "      <td>In The Paint (Non-RA)</td>\n",
              "      <td>Center(C)</td>\n",
              "      <td>Less Than 8 ft.</td>\n",
              "      <td>4</td>\n",
              "      <td>-38</td>\n",
              "      <td>15</td>\n",
              "      <td>CHA</td>\n",
              "      <td>GSW</td>\n",
              "      <td>Regular Season</td>\n",
              "      <td>-8.0</td>\n",
              "    </tr>\n",
              "    <tr>\n",
              "      <th>5415</th>\n",
              "      <td>2014-04-10</td>\n",
              "      <td>21301175</td>\n",
              "      <td>290</td>\n",
              "      <td>Stephen Curry</td>\n",
              "      <td>3</td>\n",
              "      <td>9</td>\n",
              "      <td>52</td>\n",
              "      <td>Pullup Jump shot</td>\n",
              "      <td>3PT Field Goal</td>\n",
              "      <td>Above the Break 3</td>\n",
              "      <td>Right Side Center(RC)</td>\n",
              "      <td>24+ ft.</td>\n",
              "      <td>26</td>\n",
              "      <td>114</td>\n",
              "      <td>244</td>\n",
              "      <td>GSW</td>\n",
              "      <td>DEN</td>\n",
              "      <td>Regular Season</td>\n",
              "      <td>7.0</td>\n",
              "    </tr>\n",
              "    <tr>\n",
              "      <th>3941</th>\n",
              "      <td>2013-04-28</td>\n",
              "      <td>41200164</td>\n",
              "      <td>234</td>\n",
              "      <td>Stephen Curry</td>\n",
              "      <td>2</td>\n",
              "      <td>3</td>\n",
              "      <td>55</td>\n",
              "      <td>Floating Jump shot</td>\n",
              "      <td>2PT Field Goal</td>\n",
              "      <td>Restricted Area</td>\n",
              "      <td>Center(C)</td>\n",
              "      <td>Less Than 8 ft.</td>\n",
              "      <td>3</td>\n",
              "      <td>-16</td>\n",
              "      <td>31</td>\n",
              "      <td>GSW</td>\n",
              "      <td>DEN</td>\n",
              "      <td>Playoffs</td>\n",
              "      <td>3.0</td>\n",
              "    </tr>\n",
              "  </tbody>\n",
              "</table>\n",
              "</div>"
            ],
            "text/plain": [
              "      game_date   game_id  ...     season_type scoremargin_before_shot\n",
              "3725 2013-04-03  21201122  ...  Regular Season                    -1.0\n",
              "651  2010-02-17  20900800  ...  Regular Season                    29.0\n",
              "4443 2013-12-09  21300304  ...  Regular Season                    -8.0\n",
              "5415 2014-04-10  21301175  ...  Regular Season                     7.0\n",
              "3941 2013-04-28  41200164  ...        Playoffs                     3.0\n",
              "\n",
              "[5 rows x 19 columns]"
            ]
          },
          "metadata": {
            "tags": []
          },
          "execution_count": 11
        }
      ]
    },
    {
      "cell_type": "code",
      "metadata": {
        "id": "qe0QVgQbXCdy",
        "colab_type": "code",
        "colab": {
          "base_uri": "https://localhost:8080/",
          "height": 352
        },
        "outputId": "230f782e-32f3-4ff7-f4ca-3b5318e0ddc6"
      },
      "source": [
        "# Explore potential numeric features.\n",
        "X_train.describe(include='number').T"
      ],
      "execution_count": 12,
      "outputs": [
        {
          "output_type": "execute_result",
          "data": {
            "text/html": [
              "<div>\n",
              "<style scoped>\n",
              "    .dataframe tbody tr th:only-of-type {\n",
              "        vertical-align: middle;\n",
              "    }\n",
              "\n",
              "    .dataframe tbody tr th {\n",
              "        vertical-align: top;\n",
              "    }\n",
              "\n",
              "    .dataframe thead th {\n",
              "        text-align: right;\n",
              "    }\n",
              "</style>\n",
              "<table border=\"1\" class=\"dataframe\">\n",
              "  <thead>\n",
              "    <tr style=\"text-align: right;\">\n",
              "      <th></th>\n",
              "      <th>count</th>\n",
              "      <th>mean</th>\n",
              "      <th>std</th>\n",
              "      <th>min</th>\n",
              "      <th>25%</th>\n",
              "      <th>50%</th>\n",
              "      <th>75%</th>\n",
              "      <th>max</th>\n",
              "    </tr>\n",
              "  </thead>\n",
              "  <tbody>\n",
              "    <tr>\n",
              "      <th>game_id</th>\n",
              "      <td>11081.0</td>\n",
              "      <td>2.390649e+07</td>\n",
              "      <td>6.772101e+06</td>\n",
              "      <td>20900015.0</td>\n",
              "      <td>21200272.0</td>\n",
              "      <td>21400275.0</td>\n",
              "      <td>21600099.0</td>\n",
              "      <td>41600405.0</td>\n",
              "    </tr>\n",
              "    <tr>\n",
              "      <th>game_event_id</th>\n",
              "      <td>11081.0</td>\n",
              "      <td>2.566610e+02</td>\n",
              "      <td>1.604073e+02</td>\n",
              "      <td>2.0</td>\n",
              "      <td>102.0</td>\n",
              "      <td>263.0</td>\n",
              "      <td>377.0</td>\n",
              "      <td>703.0</td>\n",
              "    </tr>\n",
              "    <tr>\n",
              "      <th>period</th>\n",
              "      <td>11081.0</td>\n",
              "      <td>2.423518e+00</td>\n",
              "      <td>1.131651e+00</td>\n",
              "      <td>1.0</td>\n",
              "      <td>1.0</td>\n",
              "      <td>2.0</td>\n",
              "      <td>3.0</td>\n",
              "      <td>6.0</td>\n",
              "    </tr>\n",
              "    <tr>\n",
              "      <th>minutes_remaining</th>\n",
              "      <td>11081.0</td>\n",
              "      <td>4.765454e+00</td>\n",
              "      <td>3.334664e+00</td>\n",
              "      <td>0.0</td>\n",
              "      <td>2.0</td>\n",
              "      <td>5.0</td>\n",
              "      <td>7.0</td>\n",
              "      <td>11.0</td>\n",
              "    </tr>\n",
              "    <tr>\n",
              "      <th>seconds_remaining</th>\n",
              "      <td>11081.0</td>\n",
              "      <td>2.851277e+01</td>\n",
              "      <td>1.757202e+01</td>\n",
              "      <td>0.0</td>\n",
              "      <td>13.0</td>\n",
              "      <td>29.0</td>\n",
              "      <td>43.0</td>\n",
              "      <td>59.0</td>\n",
              "    </tr>\n",
              "    <tr>\n",
              "      <th>shot_distance</th>\n",
              "      <td>11081.0</td>\n",
              "      <td>1.729005e+01</td>\n",
              "      <td>1.018772e+01</td>\n",
              "      <td>0.0</td>\n",
              "      <td>8.0</td>\n",
              "      <td>21.0</td>\n",
              "      <td>25.0</td>\n",
              "      <td>83.0</td>\n",
              "    </tr>\n",
              "    <tr>\n",
              "      <th>loc_x</th>\n",
              "      <td>11081.0</td>\n",
              "      <td>8.112986e-02</td>\n",
              "      <td>1.230886e+02</td>\n",
              "      <td>-250.0</td>\n",
              "      <td>-92.0</td>\n",
              "      <td>1.0</td>\n",
              "      <td>94.0</td>\n",
              "      <td>247.0</td>\n",
              "    </tr>\n",
              "    <tr>\n",
              "      <th>loc_y</th>\n",
              "      <td>11081.0</td>\n",
              "      <td>1.287665e+02</td>\n",
              "      <td>1.013382e+02</td>\n",
              "      <td>-41.0</td>\n",
              "      <td>23.0</td>\n",
              "      <td>138.0</td>\n",
              "      <td>214.0</td>\n",
              "      <td>811.0</td>\n",
              "    </tr>\n",
              "    <tr>\n",
              "      <th>scoremargin_before_shot</th>\n",
              "      <td>11081.0</td>\n",
              "      <td>1.427940e+00</td>\n",
              "      <td>1.020311e+01</td>\n",
              "      <td>-39.0</td>\n",
              "      <td>-5.0</td>\n",
              "      <td>1.0</td>\n",
              "      <td>8.0</td>\n",
              "      <td>43.0</td>\n",
              "    </tr>\n",
              "  </tbody>\n",
              "</table>\n",
              "</div>"
            ],
            "text/plain": [
              "                           count          mean  ...         75%         max\n",
              "game_id                  11081.0  2.390649e+07  ...  21600099.0  41600405.0\n",
              "game_event_id            11081.0  2.566610e+02  ...       377.0       703.0\n",
              "period                   11081.0  2.423518e+00  ...         3.0         6.0\n",
              "minutes_remaining        11081.0  4.765454e+00  ...         7.0        11.0\n",
              "seconds_remaining        11081.0  2.851277e+01  ...        43.0        59.0\n",
              "shot_distance            11081.0  1.729005e+01  ...        25.0        83.0\n",
              "loc_x                    11081.0  8.112986e-02  ...        94.0       247.0\n",
              "loc_y                    11081.0  1.287665e+02  ...       214.0       811.0\n",
              "scoremargin_before_shot  11081.0  1.427940e+00  ...         8.0        43.0\n",
              "\n",
              "[9 rows x 8 columns]"
            ]
          },
          "metadata": {
            "tags": []
          },
          "execution_count": 12
        }
      ]
    },
    {
      "cell_type": "code",
      "metadata": {
        "id": "fbQxWmuSXU8L",
        "colab_type": "code",
        "colab": {
          "base_uri": "https://localhost:8080/",
          "height": 363
        },
        "outputId": "1929ecd1-a78f-48d5-dfd7-a017f5df4ad9"
      },
      "source": [
        "# Explore potential categorical and other features.\n",
        "X_train.describe(exclude='number').T"
      ],
      "execution_count": 13,
      "outputs": [
        {
          "output_type": "execute_result",
          "data": {
            "text/html": [
              "<div>\n",
              "<style scoped>\n",
              "    .dataframe tbody tr th:only-of-type {\n",
              "        vertical-align: middle;\n",
              "    }\n",
              "\n",
              "    .dataframe tbody tr th {\n",
              "        vertical-align: top;\n",
              "    }\n",
              "\n",
              "    .dataframe thead th {\n",
              "        text-align: right;\n",
              "    }\n",
              "</style>\n",
              "<table border=\"1\" class=\"dataframe\">\n",
              "  <thead>\n",
              "    <tr style=\"text-align: right;\">\n",
              "      <th></th>\n",
              "      <th>count</th>\n",
              "      <th>unique</th>\n",
              "      <th>top</th>\n",
              "      <th>freq</th>\n",
              "      <th>first</th>\n",
              "      <th>last</th>\n",
              "    </tr>\n",
              "  </thead>\n",
              "  <tbody>\n",
              "    <tr>\n",
              "      <th>game_date</th>\n",
              "      <td>11081</td>\n",
              "      <td>647</td>\n",
              "      <td>2013-05-06 00:00:00</td>\n",
              "      <td>35</td>\n",
              "      <td>2009-10-28 00:00:00</td>\n",
              "      <td>2017-06-12 00:00:00</td>\n",
              "    </tr>\n",
              "    <tr>\n",
              "      <th>player_name</th>\n",
              "      <td>11081</td>\n",
              "      <td>1</td>\n",
              "      <td>Stephen Curry</td>\n",
              "      <td>11081</td>\n",
              "      <td>NaN</td>\n",
              "      <td>NaN</td>\n",
              "    </tr>\n",
              "    <tr>\n",
              "      <th>action_type</th>\n",
              "      <td>11081</td>\n",
              "      <td>51</td>\n",
              "      <td>Jump Shot</td>\n",
              "      <td>5375</td>\n",
              "      <td>NaN</td>\n",
              "      <td>NaN</td>\n",
              "    </tr>\n",
              "    <tr>\n",
              "      <th>shot_type</th>\n",
              "      <td>11081</td>\n",
              "      <td>2</td>\n",
              "      <td>2PT Field Goal</td>\n",
              "      <td>5941</td>\n",
              "      <td>NaN</td>\n",
              "      <td>NaN</td>\n",
              "    </tr>\n",
              "    <tr>\n",
              "      <th>shot_zone_basic</th>\n",
              "      <td>11081</td>\n",
              "      <td>7</td>\n",
              "      <td>Above the Break 3</td>\n",
              "      <td>4298</td>\n",
              "      <td>NaN</td>\n",
              "      <td>NaN</td>\n",
              "    </tr>\n",
              "    <tr>\n",
              "      <th>shot_zone_area</th>\n",
              "      <td>11081</td>\n",
              "      <td>6</td>\n",
              "      <td>Center(C)</td>\n",
              "      <td>4820</td>\n",
              "      <td>NaN</td>\n",
              "      <td>NaN</td>\n",
              "    </tr>\n",
              "    <tr>\n",
              "      <th>shot_zone_range</th>\n",
              "      <td>11081</td>\n",
              "      <td>5</td>\n",
              "      <td>24+ ft.</td>\n",
              "      <td>5065</td>\n",
              "      <td>NaN</td>\n",
              "      <td>NaN</td>\n",
              "    </tr>\n",
              "    <tr>\n",
              "      <th>htm</th>\n",
              "      <td>11081</td>\n",
              "      <td>32</td>\n",
              "      <td>GSW</td>\n",
              "      <td>5512</td>\n",
              "      <td>NaN</td>\n",
              "      <td>NaN</td>\n",
              "    </tr>\n",
              "    <tr>\n",
              "      <th>vtm</th>\n",
              "      <td>11081</td>\n",
              "      <td>32</td>\n",
              "      <td>GSW</td>\n",
              "      <td>5569</td>\n",
              "      <td>NaN</td>\n",
              "      <td>NaN</td>\n",
              "    </tr>\n",
              "    <tr>\n",
              "      <th>season_type</th>\n",
              "      <td>11081</td>\n",
              "      <td>2</td>\n",
              "      <td>Regular Season</td>\n",
              "      <td>9642</td>\n",
              "      <td>NaN</td>\n",
              "      <td>NaN</td>\n",
              "    </tr>\n",
              "  </tbody>\n",
              "</table>\n",
              "</div>"
            ],
            "text/plain": [
              "                 count unique  ...                first                 last\n",
              "game_date        11081    647  ...  2009-10-28 00:00:00  2017-06-12 00:00:00\n",
              "player_name      11081      1  ...                  NaN                  NaN\n",
              "action_type      11081     51  ...                  NaN                  NaN\n",
              "shot_type        11081      2  ...                  NaN                  NaN\n",
              "shot_zone_basic  11081      7  ...                  NaN                  NaN\n",
              "shot_zone_area   11081      6  ...                  NaN                  NaN\n",
              "shot_zone_range  11081      5  ...                  NaN                  NaN\n",
              "htm              11081     32  ...                  NaN                  NaN\n",
              "vtm              11081     32  ...                  NaN                  NaN\n",
              "season_type      11081      2  ...                  NaN                  NaN\n",
              "\n",
              "[10 rows x 6 columns]"
            ]
          },
          "metadata": {
            "tags": []
          },
          "execution_count": 13
        }
      ]
    },
    {
      "cell_type": "code",
      "metadata": {
        "id": "4putmrkWUSNw",
        "colab_type": "code",
        "colab": {}
      },
      "source": [
        "# Select a numeric and a categorical feature.\n",
        "features = ['scoremargin_before_shot', 'shot_zone_range']"
      ],
      "execution_count": 0,
      "outputs": []
    },
    {
      "cell_type": "code",
      "metadata": {
        "id": "yvmbx3yLWIRZ",
        "colab_type": "code",
        "colab": {
          "base_uri": "https://localhost:8080/",
          "height": 127
        },
        "outputId": "7e9646d7-d2c2-467c-8322-57b6c01b6358"
      },
      "source": [
        "# Select a categorical feature and examine it.\n",
        "X_train.shot_zone_range.value_counts()"
      ],
      "execution_count": 15,
      "outputs": [
        {
          "output_type": "execute_result",
          "data": {
            "text/plain": [
              "24+ ft.            5065\n",
              "Less Than 8 ft.    2711\n",
              "16-24 ft.          2133\n",
              "8-16 ft.           1097\n",
              "Back Court Shot      75\n",
              "Name: shot_zone_range, dtype: int64"
            ]
          },
          "metadata": {
            "tags": []
          },
          "execution_count": 15
        }
      ]
    },
    {
      "cell_type": "code",
      "metadata": {
        "id": "XtQcc3z-WfaI",
        "colab_type": "code",
        "colab": {}
      },
      "source": [
        "# Define sensible mapping. This isn't strictly necessary for decision trees,\n",
        "# but it is important for logistic regression.\n",
        "ordinal_cols_mapping = [{\n",
        "    'col': 'shot_zone_range',\n",
        "    'mapping': {\n",
        "        'Back Court Shot': 4,\n",
        "        '24+ ft.': 3,\n",
        "        '16-24 ft.': 2,\n",
        "        '8-16 ft.': 1,\n",
        "        'Less Than 8 ft.': 0,\n",
        "    }},\n",
        "]"
      ],
      "execution_count": 0,
      "outputs": []
    },
    {
      "cell_type": "code",
      "metadata": {
        "id": "TXpe8GR6Wlmp",
        "colab_type": "code",
        "colab": {}
      },
      "source": [
        "# Instantiate and configure ordinal encoder.\n",
        "encoder = ce.OrdinalEncoder(mapping = ordinal_cols_mapping, return_df = True)"
      ],
      "execution_count": 0,
      "outputs": []
    },
    {
      "cell_type": "code",
      "metadata": {
        "id": "u01ztTTsXl3k",
        "colab_type": "code",
        "colab": {}
      },
      "source": [
        "# Encode training and validation data.\n",
        "X_train_encoded = encoder.fit_transform(X_train[features])\n",
        "X_val_encoded = encoder.transform(X_val[features])"
      ],
      "execution_count": 0,
      "outputs": []
    },
    {
      "cell_type": "markdown",
      "metadata": {
        "id": "nc8gcEfQUUrY",
        "colab_type": "text"
      },
      "source": [
        "#### 4. Scale data"
      ]
    },
    {
      "cell_type": "code",
      "metadata": {
        "id": "_qMtK-XLUVr4",
        "colab_type": "code",
        "colab": {}
      },
      "source": [
        "# Instantiate and configure scaler.\n",
        "scaler = RobustScaler()"
      ],
      "execution_count": 0,
      "outputs": []
    },
    {
      "cell_type": "code",
      "metadata": {
        "id": "RV2iZVYiX0ni",
        "colab_type": "code",
        "colab": {}
      },
      "source": [
        "# Scale training and validation data.\n",
        "X_train_scaled = scaler.fit_transform(X_train_encoded)\n",
        "X_val_scaled = scaler.transform(X_val_encoded)"
      ],
      "execution_count": 0,
      "outputs": []
    },
    {
      "cell_type": "markdown",
      "metadata": {
        "id": "3asbCC9tUXsB",
        "colab_type": "text"
      },
      "source": [
        "#### 5. Train a random forest or logistic regression classifier"
      ]
    },
    {
      "cell_type": "code",
      "metadata": {
        "id": "wN8KCB2oUgeA",
        "colab_type": "code",
        "colab": {}
      },
      "source": [
        "# Instantiate and configure model.\n",
        "lr_model = LogisticRegression(solver='lbfgs')"
      ],
      "execution_count": 0,
      "outputs": []
    },
    {
      "cell_type": "code",
      "metadata": {
        "id": "uskzh2TxYG-J",
        "colab_type": "code",
        "colab": {
          "base_uri": "https://localhost:8080/",
          "height": 109
        },
        "outputId": "69b3dccf-969c-4c25-8864-cc9506d36059"
      },
      "source": [
        "# Fit model.\n",
        "lr_model.fit(X_train_scaled, y_train)"
      ],
      "execution_count": 22,
      "outputs": [
        {
          "output_type": "execute_result",
          "data": {
            "text/plain": [
              "LogisticRegression(C=1.0, class_weight=None, dual=False, fit_intercept=True,\n",
              "                   intercept_scaling=1, l1_ratio=None, max_iter=100,\n",
              "                   multi_class='warn', n_jobs=None, penalty='l2',\n",
              "                   random_state=None, solver='lbfgs', tol=0.0001, verbose=0,\n",
              "                   warm_start=False)"
            ]
          },
          "metadata": {
            "tags": []
          },
          "execution_count": 22
        }
      ]
    },
    {
      "cell_type": "markdown",
      "metadata": {
        "id": "nyyTPeJhUk1Z",
        "colab_type": "text"
      },
      "source": [
        "## Part 2. Evaluate models"
      ]
    },
    {
      "cell_type": "markdown",
      "metadata": {
        "id": "gLuGOxWTYO_5",
        "colab_type": "text"
      },
      "source": [
        "### Required"
      ]
    },
    {
      "cell_type": "markdown",
      "metadata": {
        "id": "2CmWv0nEYRIZ",
        "colab_type": "text"
      },
      "source": [
        "#### 1. Get your model's training accuracy\n",
        "\n",
        "(Multiple times if you try multiple iterations.)"
      ]
    },
    {
      "cell_type": "code",
      "metadata": {
        "id": "yScz0Lj3YONq",
        "colab_type": "code",
        "colab": {}
      },
      "source": [
        "# Make predictions on training set.\n",
        "y_train_pred = lr_model.predict(X_train_scaled)"
      ],
      "execution_count": 0,
      "outputs": []
    },
    {
      "cell_type": "code",
      "metadata": {
        "id": "R2IU6dheaRTU",
        "colab_type": "code",
        "colab": {
          "base_uri": "https://localhost:8080/",
          "height": 35
        },
        "outputId": "8291d32d-228b-49c1-c8c5-c8f16ab71762"
      },
      "source": [
        "# Evaluate training accuracy.\n",
        "accuracy_score(y_train, y_train_pred)"
      ],
      "execution_count": 24,
      "outputs": [
        {
          "output_type": "execute_result",
          "data": {
            "text/plain": [
              "0.5494088981138886"
            ]
          },
          "metadata": {
            "tags": []
          },
          "execution_count": 24
        }
      ]
    },
    {
      "cell_type": "markdown",
      "metadata": {
        "id": "q_HLX4RdYVFS",
        "colab_type": "text"
      },
      "source": [
        "#### 2. Get your model's validation accuracy\n",
        "\n",
        "(Multiple times if you try multiple iterations.)"
      ]
    },
    {
      "cell_type": "code",
      "metadata": {
        "id": "GACyQn33YZpi",
        "colab_type": "code",
        "colab": {}
      },
      "source": [
        "# Make predictions on validation set.\n",
        "y_val_pred = lr_model.predict(X_val_scaled)"
      ],
      "execution_count": 0,
      "outputs": []
    },
    {
      "cell_type": "code",
      "metadata": {
        "id": "DVON9YuuaU7q",
        "colab_type": "code",
        "colab": {
          "base_uri": "https://localhost:8080/",
          "height": 35
        },
        "outputId": "49ea9ebd-fc15-4f80-96a7-9ab7d107dabd"
      },
      "source": [
        "# Evaluate validation accuracy.\n",
        "accuracy_score(y_val, y_val_pred)"
      ],
      "execution_count": 26,
      "outputs": [
        {
          "output_type": "execute_result",
          "data": {
            "text/plain": [
              "0.5710616438356164"
            ]
          },
          "metadata": {
            "tags": []
          },
          "execution_count": 26
        }
      ]
    },
    {
      "cell_type": "markdown",
      "metadata": {
        "id": "nRqG7nhyYb58",
        "colab_type": "text"
      },
      "source": [
        "#### 3. Get your model's test accuracy\n",
        "\n",
        "(One time, at the end.)"
      ]
    },
    {
      "cell_type": "code",
      "metadata": {
        "id": "Pd44zzmYYc5D",
        "colab_type": "code",
        "colab": {}
      },
      "source": [
        ""
      ],
      "execution_count": 0,
      "outputs": []
    },
    {
      "cell_type": "markdown",
      "metadata": {
        "id": "zxOsTaJXYfVh",
        "colab_type": "text"
      },
      "source": [
        "#### 4. Get and plot your Random Forest's feature importances or your Logistic Regression's coefficients"
      ]
    },
    {
      "cell_type": "code",
      "metadata": {
        "id": "LHfDFEWyasj6",
        "colab_type": "code",
        "colab": {
          "base_uri": "https://localhost:8080/",
          "height": 72
        },
        "outputId": "77be1e93-d064-40f8-e73c-4b5b63bd626d"
      },
      "source": [
        "# Get and print logistic regression coefficients.\n",
        "print(pd.Series(lr_model.coef_[0], features))"
      ],
      "execution_count": 27,
      "outputs": [
        {
          "output_type": "stream",
          "text": [
            "scoremargin_before_shot    0.001123\n",
            "shot_zone_range           -0.341113\n",
            "dtype: float64\n"
          ],
          "name": "stdout"
        }
      ]
    },
    {
      "cell_type": "code",
      "metadata": {
        "id": "HfEh2vFxYgkb",
        "colab_type": "code",
        "colab": {
          "base_uri": "https://localhost:8080/",
          "height": 269
        },
        "outputId": "26998a90-47f8-4519-8f3c-0a9b6ff8420a"
      },
      "source": [
        "# Plot logistic regression coefficients.\n",
        "%matplotlib inline\n",
        "coefs = pd.Series(lr_model.coef_[0], X_train_encoded.columns)\n",
        "coefs.sort_values().plot.barh();"
      ],
      "execution_count": 28,
      "outputs": [
        {
          "output_type": "display_data",
          "data": {
            "image/png": "[encoded data removed]",
            "text/plain": [
              "<Figure size 432x288 with 1 Axes>"
            ]
          },
          "metadata": {
            "tags": []
          }
        }
      ]
    },
    {
      "cell_type": "markdown",
      "metadata": {
        "id": "EiIznCYyYmHL",
        "colab_type": "text"
      },
      "source": [
        "#### 5. Imagine this is the confusion matrix for a binary classification model. **Calculate accuracy, precision, and recall for this confusion matrix:**\n",
        "\n",
        "<table>\n",
        "  <tr>\n",
        "    <td colspan=\"2\" rowspan=\"2\"></td>\n",
        "    <td colspan=\"2\">Predicted</td>\n",
        "  </tr>\n",
        "  <tr>\n",
        "    <td>Negative</td>\n",
        "    <td>Positive</td>\n",
        "  </tr>\n",
        "  <tr>\n",
        "    <td rowspan=\"2\">Actual</td>\n",
        "    <td>Negative</td>\n",
        "    <td style=\"border: solid\">85</td>\n",
        "    <td style=\"border: solid\">58</td>\n",
        "  </tr>\n",
        "  <tr>\n",
        "    <td>Positive</td>\n",
        "    <td style=\"border: solid\">8</td>\n",
        "    <td style=\"border: solid\"> 36</td>\n",
        "  </tr>\n",
        "</table>"
      ]
    },
    {
      "cell_type": "markdown",
      "metadata": {
        "id": "vV6KWcYOZZIL",
        "colab_type": "text"
      },
      "source": [
        "### Stretch goals"
      ]
    },
    {
      "cell_type": "markdown",
      "metadata": {
        "id": "J1TlJ8MqZhQB",
        "colab_type": "text"
      },
      "source": [
        "#### 1. Calculate F1 score for the provided, imaginary confusion matrix"
      ]
    },
    {
      "cell_type": "code",
      "metadata": {
        "id": "7F4ZuoECZcBr",
        "colab_type": "code",
        "colab": {}
      },
      "source": [
        ""
      ],
      "execution_count": 0,
      "outputs": []
    },
    {
      "cell_type": "markdown",
      "metadata": {
        "id": "mLYmhngUZoVO",
        "colab_type": "text"
      },
      "source": [
        "#### 2. Plot a real confusion matrix for your basketball model, with row and column labels"
      ]
    },
    {
      "cell_type": "code",
      "metadata": {
        "id": "Cg5KYnq3Y3iJ",
        "colab_type": "code",
        "colab": {}
      },
      "source": [
        ""
      ],
      "execution_count": 0,
      "outputs": []
    },
    {
      "cell_type": "markdown",
      "metadata": {
        "id": "OARlT3vPZsVZ",
        "colab_type": "text"
      },
      "source": [
        "#### 3. Print the classification report for your model"
      ]
    },
    {
      "cell_type": "code",
      "metadata": {
        "id": "vxzLyPYwZYEL",
        "colab_type": "code",
        "colab": {}
      },
      "source": [
        ""
      ],
      "execution_count": 0,
      "outputs": []
    }
  ]
}