{
 "cells": [
  {
   "cell_type": "markdown",
   "metadata": {
    "colab_type": "text",
    "id": "7NQhCv9N9NCo"
   },
   "source": [
    "_Lambda School Data Science, Unit 2_\n",
    " \n",
    "# Sprint Challenge: Predict Steph Curry's shots 🏀\n",
    "\n",
    "For your Sprint Challenge, you'll use a dataset with all Steph Curry's NBA field goal attempts. (Regular season and playoff games, from October 28, 2009, through June 5, 2019.) \n",
    "\n",
    "You'll use information about the shot and the game to predict whether the shot was made. This is hard to predict! Try for an accuracy score in the high 50's or low 60's. The dataset was collected with the [nba_api](https://github.com/swar/nba_api) Python library."
   ]
  },
  {
   "cell_type": "code",
   "execution_count": 1,
   "metadata": {},
   "outputs": [],
   "source": [
    "import numpy as np\n",
    "import category_encoders as ce\n",
    " \n",
    "from sklearn.preprocessing import StandardScaler\n",
    "from sklearn.impute import SimpleImputer\n",
    "from sklearn.ensemble import RandomForestClassifier\n",
    "from sklearn.utils.multiclass import unique_labels\n",
    "from sklearn.metrics import (roc_auc_score, roc_curve, \n",
    "                             classification_report,\n",
    "                             confusion_matrix,\n",
    "                             accuracy_score)"
   ]
  },
  {
   "cell_type": "code",
   "execution_count": 2,
   "metadata": {
    "colab": {},
    "colab_type": "code",
    "id": "5RDEWI9c9NCr"
   },
   "outputs": [],
   "source": [
    "import pandas as pd\n",
    "url = 'https://drive.google.com/uc?export=download&id=1fL7KPyxgGYfQDsuJoBWHIWwCAf-HTFpX'\n",
    "df = pd.read_csv(url, parse_dates=['game_date']).set_index('game_date')\n",
    "assert df.shape == (13958, 19)"
   ]
  },
  {
   "cell_type": "code",
   "execution_count": 3,
   "metadata": {},
   "outputs": [],
   "source": [
    "import datetime as dt\n",
    "\n",
    "#Train split\n",
    "train_season_start_date = dt.datetime(2009,10,1)\n",
    "train_season_end_date = dt.datetime(2017, 7, 1)\n",
    "X_train = df[(df.index >= train_season_start_date) & \n",
    "             (df.index <= train_season_end_date)]\n",
    "\n",
    "#validation split\n",
    "val_season_start_date = dt.datetime(2017,10,1)\n",
    "val_season_end_date = dt.datetime(2018,7,1)\n",
    "X_val = df[(df.index >= val_season_start_date) &\n",
    "           (df.index <= val_season_end_date)]\n",
    "\n",
    "#test split\n",
    "test_season_start_date = dt.datetime(2018,10,1)\n",
    "test_season_end_date = dt.datetime(2019,7,1)\n",
    "X_test = df[(df.index >= test_season_start_date) &\n",
    "            (df.index <= test_season_end_date)]"
   ]
  },
  {
   "cell_type": "code",
   "execution_count": 4,
   "metadata": {},
   "outputs": [
    {
     "name": "stdout",
     "output_type": "stream",
     "text": [
      "The baseline accuracy of this data is 0.5272087356736757\n"
     ]
    }
   ],
   "source": [
    "#Get baseline accuracy for the validation set\n",
    "target = 'shot_made_flag'\n",
    "\n",
    "#assemble baseline using tartget data\n",
    "y_train = X_train[target]\n",
    "majority_class = y_train.mode()\n",
    "y_test = [majority_class] * len(y_train)\n",
    "\n",
    "print(f'The baseline accuracy of this data is {accuracy_score(y_train,y_test)}')"
   ]
  },
  {
   "cell_type": "code",
   "execution_count": 5,
   "metadata": {},
   "outputs": [],
   "source": [
    "def wrangle(df):\n",
    "  X = df.copy()\n",
    "  \n",
    "  #drop columns no use columns\n",
    "  no_use = ['game_id', 'game_event_id', 'player_name']\n",
    "  X = X.drop(columns= no_use)\n",
    "  \n",
    "  #drop outliers\n",
    "  half_court_distance = 47\n",
    "  X.shot_distance = np.where(X.shot_distance >= half_court_distance,\n",
    "                             np.nan, X.shot_distance)\n",
    "  X.shot_zone_range = np.where(X.shot_zone_range == 'Back Court Shot',\n",
    "                               np.nan, X.shot_zone_range)\n",
    "  X = X.dropna()\n",
    "  \n",
    "  return X\n",
    "\n",
    "X_train = wrangle(X_train)\n",
    "X_val = wrangle(X_val)\n",
    "X_test = wrangle(X_test)\n",
    "\n",
    "\n",
    "#Chosen features for encoding\n",
    "cat_features = ['action_type', 'shot_type', 'shot_zone_area',\n",
    "                'shot_zone_basic', 'shot_zone_range', 'season_type']\n",
    "\n",
    "#pass features on initialization\n",
    "encoder = ce.OrdinalEncoder(cols = cat_features)\n",
    "\n",
    "#encode data\n",
    "X_train_encoded =  encoder.fit_transform(X_train)\n",
    "X_val_encoded = encoder.transform(X_val)\n",
    "\n",
    "unused = ['htm','vtm']\n",
    "X_train_encoded = X_train_encoded.drop(columns = unused)\n",
    "X_val_encoded = X_val_encoded.drop(columns = unused)\n",
    "\n",
    "y_train = X_train_encoded.pop('shot_made_flag')\n",
    "y_val = X_val_encoded.pop('shot_made_flag')"
   ]
  },
  {
   "cell_type": "code",
   "execution_count": 7,
   "metadata": {},
   "outputs": [],
   "source": [
    "#Fit model\n",
    "randomforest= RandomForestClassifier(n_estimators = 500,\n",
    "                            max_depth = 15,\n",
    "                            min_samples_leaf = 2,\n",
    "                            min_samples_split = 2,\n",
    "                            bootstrap = True)\n",
    "\n",
    "model = randomforest.fit(X_train_encoded, y_train)"
   ]
  },
  {
   "cell_type": "code",
   "execution_count": 8,
   "metadata": {},
   "outputs": [
    {
     "name": "stdout",
     "output_type": "stream",
     "text": [
      "The accuracy of this model is 0.6048317515099223\n"
     ]
    }
   ],
   "source": [
    "#Accuracy\n",
    "y_test = model.predict(X_val_encoded)\n",
    "print(f'The accuracy of this model is {accuracy_score(y_val, y_test)}')"
   ]
  },
  {
   "cell_type": "code",
   "execution_count": 9,
   "metadata": {},
   "outputs": [],
   "source": [
    "%matplotlib inline\n",
    "import category_encoders as ce\n",
    "import matplotlib.pyplot as plt\n",
    "import numpy as np\n",
    "import pandas as pd\n",
    "import seaborn as sns\n",
    "from sklearn.impute import SimpleImputer\n",
    "from sklearn.metrics import accuracy_score\n",
    "from sklearn.model_selection import train_test_split\n",
    "from sklearn.pipeline import make_pipeline\n",
    "from sklearn.ensemble import RandomForestClassifier\n",
    "\n",
    "\n",
    "# Split train into train & val. Make val the same size as test.\n",
    "#train, val = train_test_split(X, test_size=0.6, random_state=42)\n",
    "#test, = train_test_split(train, test_size=0.8, random_state=42)\n",
    "# Wrangle train, validate, and test sets in the same way\n",
    "#train = wrangle(train)\n",
    "#val = wrangle(val)\n",
    "#test = wrangle(test)\n",
    "\n",
    "# Arrange data into X features matrix and y target vector\n",
    "#target = 'shot_made_flag'\n",
    "#X_train = train.drop(columns=target)\n",
    "#y_train = train[target]\n",
    "#X_val = val.drop(columns=target)\n",
    "#y_val = val[target]\n",
    "#X_test = test\n",
    "\n",
    "# Make pipeline!\n",
    "#pipeline = make_pipeline(\n",
    " #   ce.OneHotEncoder(), \n",
    "  #  SimpleImputer(strategy='mean'), \n",
    "   # RandomForestClassifier(n_estimators=100, random_state=42, n_jobs=-1)\n",
    "#)\n",
    "\n",
    "# Fit on train, score on val\n",
    "#pipeline.fit(X_train, y_train)\n",
    "#y_pred = pipeline.predict(X_val)\n",
    "#print('Validation Accuracy', accuracy_score(y_val, y_pred))"
   ]
  },
  {
   "cell_type": "code",
   "execution_count": 11,
   "metadata": {},
   "outputs": [
    {
     "data": {
      "image/png": "[encoded data removed]",
      "text/plain": [
       "<Figure size 504x504 with 1 Axes>"
      ]
     },
     "metadata": {
      "needs_background": "light"
     },
     "output_type": "display_data"
    }
   ],
   "source": [
    "# Get feature importances\n",
    "encoder = pipeline.named_steps['onehotencoder']\n",
    "tree = pipeline.named_steps['randomforestclassifier']\n",
    "\n",
    "feature_names = encoder.transform(X_val).columns\n",
    "\n",
    "importances = pd.Series(tree.feature_importances_, feature_names)\n",
    "\n",
    "# Plot feature importances\n",
    "n = 20\n",
    "plt.figure(figsize=(7,7))\n",
    "plt.title(f'Top {n} features')\n",
    "importances.sort_values()[-n:].plot.barh(color='grey');"
   ]
  },
  {
   "cell_type": "code",
   "execution_count": null,
   "metadata": {},
   "outputs": [],
   "source": [
    "pip install mlxtend"
   ]
  },
  {
   "cell_type": "code",
   "execution_count": 12,
   "metadata": {},
   "outputs": [
    {
     "name": "stdout",
     "output_type": "stream",
     "text": [
      "              precision    recall  f1-score   support\n",
      "\n",
      "           0       1.00      1.00      1.00       594\n",
      "           1       1.00      1.00      1.00       565\n",
      "\n",
      "   micro avg       1.00      1.00      1.00      1159\n",
      "   macro avg       1.00      1.00      1.00      1159\n",
      "weighted avg       1.00      1.00      1.00      1159\n",
      "\n"
     ]
    },
    {
     "data": {
      "text/plain": [
       "array([[594,   0],\n",
       "       [  0, 565]])"
      ]
     },
     "execution_count": 12,
     "metadata": {},
     "output_type": "execute_result"
    }
   ],
   "source": [
    "%matplotlib inline\n",
    "from IPython.display import display\n",
    "import matplotlib.pyplot as plt\n",
    "from sklearn.datasets import make_classification\n",
    "from sklearn.metrics import accuracy_score, classification_report, confusion_matrix\n",
    "from sklearn.linear_model import LogisticRegression\n",
    "from mlxtend.plotting import plot_decision_regions\n",
    "from sklearn.metrics import confusion_matrix\n",
    "\n",
    "print(classification_report(y_val, y_pred))\n",
    "confusion_matrix(y_val, y_pred)\n",
    "\n",
    "#plt.figure(figsize=(10, 6))\n",
    "#plot_decision_regions(X_val, y_val, y_pred, legend=0);"
   ]
  },
  {
   "cell_type": "code",
   "execution_count": 13,
   "metadata": {},
   "outputs": [
    {
     "name": "stdout",
     "output_type": "stream",
     "text": [
      "The accuracy of this model the table represents is 0.6470588235294118\n",
      "The precision of the positive class is 0.3829787234042553\n",
      "The precision of the negative class is 0.9139784946236559\n",
      "The recall of the positive class is 0.8181818181818182\n",
      "The recall of the negative class is 0.5944055944055944\n"
     ]
    }
   ],
   "source": [
    "#Calculate accuracy, precision, and recall for this confusion matrix:\n",
    "true_negative = 85\n",
    "false_negative = 8\n",
    "\n",
    "true_positive = 36\n",
    "false_positive = 58\n",
    "\n",
    "total = 85 + 8 + 58 +36\n",
    "#accuracy is the sum of correct predictions divided by total predictions\n",
    "accuracy = (true_positive + true_negative) / (total)\n",
    "\n",
    "#precision is class accuracy of actual results\n",
    "pos_precision = true_positive / (true_positive + false_positive)\n",
    "neg_precision = true_negative / (true_negative + false_negative)\n",
    "\n",
    "#recall is class accuracy of predicted results\n",
    "pos_recall = true_positive / (true_positive + false_negative)\n",
    "neg_recall = true_negative / (true_negative + false_positive)\n",
    "\n",
    "print(f'The accuracy of this model the table represents is {accuracy}')\n",
    "print(f'The precision of the positive class is {pos_precision}')\n",
    "print(f'The precision of the negative class is {neg_precision}')\n",
    "print(f'The recall of the positive class is {pos_recall}')\n",
    "print(f'The recall of the negative class is {neg_recall}')"
   ]
  },
  {
   "cell_type": "markdown",
   "metadata": {
    "colab_type": "text",
    "id": "gWRX4uaY9NCw"
   },
   "source": [
    "This Sprint Challenge has two parts. To demonstrate mastery on each part, do all the required, numbered instructions. To earn a score of \"3\" for the part, also do the stretch goals.\n",
    "\n",
    "## Part 1. Prepare to model\n",
    "\n",
    "### Required\n",
    "\n",
    "1. **Do train/validate/test split.** Use the 2009-10 season through 2016-17 season to train, the 2017-18 season to validate, and the 2018-19 season to test. NBA seasons begin in October and end in June. You'll know you've split the data correctly when your train set has 11081 observations, your validation set has 1168 observations, and your test set has 1709 observations.\n",
    "2. **Begin with baselines for classification.** Your target to predict is `shot_made_flag`. What is the baseline accuracy for the validation set, if you guessed the majority class for every prediction?\n",
    "3. **Use Ordinal Encoding _or_ One-Hot Encoding,** for the categorical features you select.\n",
    "4. **Train a Random Forest _or_ Logistic Regression** with the features you select.\n",
    "\n",
    "### Stretch goals\n",
    "Engineer at least 4 of these 5 features:\n",
    "\n",
    "- **Homecourt Advantage**: Is the home team (`htm`) the Golden State Warriors (`GSW`) ?\n",
    "- **Opponent**: Who is the other team playing the Golden State Warriors?\n",
    "- **Seconds remaining in the period**: Combine minutes remaining with seconds remaining, to get the total number of seconds remaining in the period.\n",
    "- **Seconds remaining in the game**: Combine period, and seconds remaining in the period, to get the total number of seconds remaining in the game. A basketball game has 4 periods, each 12 minutes long.\n",
    "- **Made previous shot**: Was Steph Curry's previous shot successful?\n",
    "    \n",
    "\n",
    "## Part 2. Evaluate models\n",
    "\n",
    "### Required\n",
    "1. Get your model's **validation accuracy.** (Multiple times if you try multiple iterations.)\n",
    "2. Get your model's **test accuracy.** (One time, at the end.)\n",
    "3. Get and plot your Random Forest's **feature importances** _or_ your Logistic Regression's **coefficients.**\n",
    "4. Imagine this is the confusion matrix for a binary classification model. **Calculate accuracy, precision, and recall for this confusion matrix:**\n",
    "\n",
    "<table>\n",
    "  <tr>\n",
    "    <td colspan=\"2\" rowspan=\"2\"></td>\n",
    "    <td colspan=\"2\">Predicted</td>\n",
    "  </tr>\n",
    "  <tr>\n",
    "    <td>Negative</td>\n",
    "    <td>Positive</td>\n",
    "  </tr>\n",
    "  <tr>\n",
    "    <td rowspan=\"2\">Actual</td>\n",
    "    <td>Negative</td>\n",
    "    <td style=\"border: solid\">85</td>\n",
    "    <td style=\"border: solid\">58</td>\n",
    "  </tr>\n",
    "  <tr>\n",
    "    <td>Positive</td>\n",
    "    <td style=\"border: solid\">8</td>\n",
    "    <td style=\"border: solid\"> 36</td>\n",
    "  </tr>\n",
    "</table>\n",
    "\n",
    "\n",
    "### Stretch goals\n",
    "- Calculate F1 score for the provided, imaginary confusion matrix.\n",
    "- Plot a real confusion matrix for your basketball model, with row and column labels.\n",
    "- Print the classification report for your model."
   ]
  }
 ],
 "metadata": {
  "colab": {
   "name": "DS_Sprint_Challenge_7_Classification_1.ipynb",
   "provenance": [],
   "version": "0.3.2"
  },
  "kernelspec": {
   "display_name": "Python 3",
   "language": "python",
   "name": "python3"
  },
  "language_info": {
   "codemirror_mode": {
    "name": "ipython",
    "version": 3
   },
   "file_extension": ".py",
   "mimetype": "text/x-python",
   "name": "python",
   "nbconvert_exporter": "python",
   "pygments_lexer": "ipython3",
   "version": "3.7.3"
  }
 },
 "nbformat": 4,
 "nbformat_minor": 1
}
