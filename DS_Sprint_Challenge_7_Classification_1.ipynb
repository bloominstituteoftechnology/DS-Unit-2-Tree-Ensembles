{
  "nbformat": 4,
  "nbformat_minor": 0,
  "metadata": {
    "colab": {
      "name": "DS_Sprint_Challenge_7_Classification_1.ipynb",
      "version": "0.3.2",
      "provenance": [],
      "collapsed_sections": [],
      "include_colab_link": true
    },
    "kernelspec": {
      "display_name": "Python 3",
      "language": "python",
      "name": "python3"
    },
    "language_info": {
      "codemirror_mode": {
        "name": "ipython",
        "version": 3
      },
      "file_extension": ".py",
      "mimetype": "text/x-python",
      "name": "python",
      "nbconvert_exporter": "python",
      "pygments_lexer": "ipython3",
      "version": "3.7.1"
    }
  },
  "cells": [
    {
      "cell_type": "markdown",
      "metadata": {
        "id": "view-in-github",
        "colab_type": "text"
      },
      "source": [
        "<a href=\"https://colab.research.google.com/github/unburied/DS-Unit-2-Tree-Ensembles/blob/master/DS_Sprint_Challenge_7_Classification_1.ipynb\" target=\"_parent\"><img src=\"https://colab.research.google.com/assets/colab-badge.svg\" alt=\"Open In Colab\"/></a>"
      ]
    },
    {
      "cell_type": "markdown",
      "metadata": {
        "colab_type": "text",
        "id": "7NQhCv9N9NCo"
      },
      "source": [
        "_Lambda School Data Science, Unit 2_\n",
        " \n",
        "# Sprint Challenge: Predict Steph Curry's shots 🏀\n",
        "\n",
        "For your Sprint Challenge, you'll use a dataset with all Steph Curry's NBA field goal attempts. (Regular season and playoff games, from October 28, 2009, through June 5, 2019.) \n",
        "\n",
        "You'll use information about the shot and the game to predict whether the shot was made. This is hard to predict! Try for an accuracy score in the high 50's or low 60's. The dataset was collected with the [nba_api](https://github.com/swar/nba_api) Python library."
      ]
    },
    {
      "cell_type": "code",
      "metadata": {
        "colab_type": "code",
        "id": "5RDEWI9c9NCr",
        "colab": {}
      },
      "source": [
        "import pandas as pd\n",
        "url = 'https://drive.google.com/uc?export=download&id=1fL7KPyxgGYfQDsuJoBWHIWwCAf-HTFpX'\n",
        "df = pd.read_csv(url, parse_dates=['game_date']).set_index('game_date')\n",
        "assert df.shape == (13958, 19)"
      ],
      "execution_count": 0,
      "outputs": []
    },
    {
      "cell_type": "markdown",
      "metadata": {
        "colab_type": "text",
        "id": "gWRX4uaY9NCw"
      },
      "source": [
        "This Sprint Challenge has two parts. To demonstrate mastery on each part, do all the required, numbered instructions. To earn a score of \"3\" for the part, also do the stretch goals.\n",
        "\n",
        "## Part 1. Prepare to model\n",
        "\n",
        "### Required\n",
        "\n",
        "1. **Do train/validate/test split.** Use the 2009-10 season through 2016-17 season to train, the 2017-18 season to validate, and the 2018-19 season to test. NBA seasons begin in October and end in June. You'll know you've split the data correctly when your train set has 11081 observations, your validation set has 1168 observations, and your test set has 1709 observations.\n",
        "2. **Begin with baselines for classification.** Your target to predict is `shot_made_flag`. What is the baseline accuracy for the validation set, if you guessed the majority class for every prediction?\n",
        "3. **Use Ordinal Encoding _or_ One-Hot Encoding,** for the categorical features you select.\n",
        "4. **Train a Random Forest _or_ Logistic Regression** with the features you select.\n",
        "\n",
        "### Stretch goals\n",
        "Engineer at least 4 of these 5 features:\n",
        "\n",
        "- **Homecourt Advantage**: Is the home team (`htm`) the Golden State Warriors (`GSW`) ?\n",
        "- **Opponent**: Who is the other team playing the Golden State Warriors?\n",
        "- **Seconds remaining in the period**: Combine minutes remaining with seconds remaining, to get the total number of seconds remaining in the period.\n",
        "- **Seconds remaining in the game**: Combine period, and seconds remaining in the period, to get the total number of seconds remaining in the game. A basketball game has 4 periods, each 12 minutes long.\n",
        "- **Made previous shot**: Was Steph Curry's previous shot successful?\n",
        "    \n",
        "\n",
        "## Part 2. Evaluate models\n",
        "\n",
        "### Required\n",
        "1. Get your model's **validation accuracy.** (Multiple times if you try multiple iterations.)\n",
        "2. Get your model's **test accuracy.** (One time, at the end.)\n",
        "3. Get and plot your Random Forest's **feature importances** _or_ your Logistic Regression's **coefficients.**\n",
        "4. Imagine this is the confusion matrix for a binary classification model. **Calculate accuracy, precision, and recall for this confusion matrix:**\n",
        "\n",
        "<table>\n",
        "  <tr>\n",
        "    <td colspan=\"2\" rowspan=\"2\"></td>\n",
        "    <td colspan=\"2\">Predicted</td>\n",
        "  </tr>\n",
        "  <tr>\n",
        "    <td>Negative</td>\n",
        "    <td>Positive</td>\n",
        "  </tr>\n",
        "  <tr>\n",
        "    <td rowspan=\"2\">Actual</td>\n",
        "    <td>Negative</td>\n",
        "    <td style=\"border: solid\">85</td>\n",
        "    <td style=\"border: solid\">58</td>\n",
        "  </tr>\n",
        "  <tr>\n",
        "    <td>Positive</td>\n",
        "    <td style=\"border: solid\">8</td>\n",
        "    <td style=\"border: solid\"> 36</td>\n",
        "  </tr>\n",
        "</table>\n",
        "\n",
        "\n",
        "### Stretch goals\n",
        "- Calculate F1 score for the provided, imaginary confusion matrix.\n",
        "- Plot a real confusion matrix for your basketball model, with row and column labels.\n",
        "- Print the classification report for your model."
      ]
    },
    {
      "cell_type": "code",
      "metadata": {
        "id": "_CO-GhDJUkkv",
        "colab_type": "code",
        "colab": {}
      },
      "source": [
        "!pip install category_encoders"
      ],
      "execution_count": 0,
      "outputs": []
    },
    {
      "cell_type": "code",
      "metadata": {
        "id": "BLu-wEPdU3_q",
        "colab_type": "code",
        "colab": {}
      },
      "source": [
        "#imports\n",
        "import numpy as np\n",
        "import category_encoders as ce\n",
        " \n",
        "from sklearn.preprocessing import StandardScaler\n",
        "from sklearn.impute import SimpleImputer\n",
        "from sklearn.ensemble import RandomForestClassifier\n",
        "from sklearn.utils.multiclass import unique_labels\n",
        "from sklearn.metrics import (roc_auc_score, roc_curve, \n",
        "                             classification_report,\n",
        "                             confusion_matrix,\n",
        "                             accuracy_score)"
      ],
      "execution_count": 0,
      "outputs": []
    },
    {
      "cell_type": "code",
      "metadata": {
        "id": "EKft9fD-W-zD",
        "colab_type": "code",
        "colab": {}
      },
      "source": [
        "#2009-10 season through 2016-17 season to train, \n",
        "#2017-18 season to validate, \n",
        "#2018-19 season to test\n",
        "import datetime as dt\n",
        "\n",
        "#Train split\n",
        "train_season_start_date = dt.datetime(2009,10,1)\n",
        "train_season_end_date = dt.datetime(2017, 7, 1)\n",
        "X_train = df[(df.index >= train_season_start_date) & \n",
        "             (df.index <= train_season_end_date)]\n",
        "\n",
        "#validation split\n",
        "val_season_start_date = dt.datetime(2017,10,1)\n",
        "val_season_end_date = dt.datetime(2018,7,1)\n",
        "X_val = df[(df.index >= val_season_start_date) &\n",
        "           (df.index <= val_season_end_date)]\n",
        "\n",
        "#test split\n",
        "test_season_start_date = dt.datetime(2018,10,1)\n",
        "test_season_end_date = dt.datetime(2019,7,1)\n",
        "X_test = df[(df.index >= test_season_start_date) &\n",
        "            (df.index <= test_season_end_date)]                   "
      ],
      "execution_count": 0,
      "outputs": []
    },
    {
      "cell_type": "code",
      "metadata": {
        "id": "gtdbh20uXtY7",
        "colab_type": "code",
        "colab": {}
      },
      "source": [
        "#Train had 11081 observations\n",
        "assert X_train.shape[0] == 11081\n",
        "\n",
        "#validation set has 1168 observations\n",
        "assert X_val.shape[0] == 1168\n",
        "\n",
        "#test set has 1709 observations\n",
        "assert X_test.shape[0] == 1709"
      ],
      "execution_count": 0,
      "outputs": []
    },
    {
      "cell_type": "code",
      "metadata": {
        "id": "9QPIZC-fcQEj",
        "colab_type": "code",
        "colab": {
          "base_uri": "https://localhost:8080/",
          "height": 34
        },
        "outputId": "ec68a12c-0b2f-400f-c7c4-1d38d1ab6685"
      },
      "source": [
        "#Get baseline accuracy for the validation set\n",
        "target = 'shot_made_flag'\n",
        "\n",
        "#assemble baseline using tartget data\n",
        "y_train = X_train[target]\n",
        "majority_class = y_train.mode()\n",
        "y_test = [majority_class] * len(y_train)\n",
        "\n",
        "print(f'The baseline accuracy of this data is {accuracy_score(y_train,y_test)}')"
      ],
      "execution_count": 20,
      "outputs": [
        {
          "output_type": "stream",
          "text": [
            "The baseline accuracy of this data is 0.5272087356736757\n"
          ],
          "name": "stdout"
        }
      ]
    },
    {
      "cell_type": "code",
      "metadata": {
        "id": "jgtZdxtaenGn",
        "colab_type": "code",
        "colab": {}
      },
      "source": [
        "def wrangle(df):\n",
        "  X = df.copy()\n",
        "  \n",
        "  #drop columns that add no real value\n",
        "  no_val = ['game_id', 'game_event_id', 'player_name']\n",
        "  X = X.drop(columns= no_val)\n",
        "  \n",
        "  #drop outliers\n",
        "  half_court_distance = 47\n",
        "  X.shot_distance = np.where(X.shot_distance >= half_court_distance,\n",
        "                             np.nan, X.shot_distance)\n",
        "  X.shot_zone_range = np.where(X.shot_zone_range == 'Back Court Shot',\n",
        "                               np.nan, X.shot_zone_range)\n",
        "  X = X.dropna()\n",
        "  \n",
        "  return X"
      ],
      "execution_count": 0,
      "outputs": []
    },
    {
      "cell_type": "code",
      "metadata": {
        "id": "Dd_LwUdIiTxx",
        "colab_type": "code",
        "colab": {}
      },
      "source": [
        "#Wrangle data\n",
        "X_train = wrangle(X_train)\n",
        "X_val = wrangle(X_val)\n",
        "X_test = wrangle(X_test)"
      ],
      "execution_count": 0,
      "outputs": []
    },
    {
      "cell_type": "code",
      "metadata": {
        "id": "jdJGORM9fg_d",
        "colab_type": "code",
        "colab": {}
      },
      "source": [
        "#Chosen features for encoding\n",
        "cat_features = ['action_type', 'shot_type', 'shot_zone_area',\n",
        "                'shot_zone_basic', 'shot_zone_range', 'season_type']\n",
        "\n",
        "#pass features on initialization\n",
        "encoder = ce.OrdinalEncoder(cols = cat_features)\n",
        "\n",
        "#encode data\n",
        "X_train_encoded =  encoder.fit_transform(X_train)\n",
        "X_val_encoded = encoder.transform(X_val)\n",
        "\n",
        "#drop unused cols\n",
        "unused = ['htm','vtm']\n",
        "X_train_encoded = X_train_encoded.drop(columns = unused)\n",
        "X_val_encoded = X_val_encoded.drop(columns = unused)"
      ],
      "execution_count": 0,
      "outputs": []
    },
    {
      "cell_type": "code",
      "metadata": {
        "id": "PFwL2su7jloB",
        "colab_type": "code",
        "colab": {}
      },
      "source": [
        "#pop target variables\n",
        "y_train = X_train_encoded.pop('shot_made_flag')\n",
        "y_val = X_val_encoded.pop('shot_made_flag')"
      ],
      "execution_count": 0,
      "outputs": []
    },
    {
      "cell_type": "code",
      "metadata": {
        "id": "KA86YMsTjx3V",
        "colab_type": "code",
        "colab": {}
      },
      "source": [
        "#initialize and fit model\n",
        "rfc= RandomForestClassifier(n_estimators = 500,\n",
        "                            max_depth = 15,\n",
        "                            min_samples_leaf = 2,\n",
        "                            min_samples_split = 2,\n",
        "                            bootstrap = True)\n",
        "\n",
        "model = rfc.fit(X_train_encoded, y_train)"
      ],
      "execution_count": 0,
      "outputs": []
    },
    {
      "cell_type": "code",
      "metadata": {
        "id": "I4T93Hven9_E",
        "colab_type": "code",
        "colab": {
          "base_uri": "https://localhost:8080/",
          "height": 34
        },
        "outputId": "d4e18242-46a3-442c-e7e1-9663f09e20a0"
      },
      "source": [
        "#get accuracy\n",
        "y_test = model.predict(X_val_encoded)\n",
        "print(f'The accuracy of this model is {accuracy_score(y_val, y_test)}')"
      ],
      "execution_count": 61,
      "outputs": [
        {
          "output_type": "stream",
          "text": [
            "The accuracy of this model is 0.5936151855047455\n"
          ],
          "name": "stdout"
        }
      ]
    },
    {
      "cell_type": "code",
      "metadata": {
        "id": "xdg35AcRoVwx",
        "colab_type": "code",
        "colab": {
          "base_uri": "https://localhost:8080/",
          "height": 445
        },
        "outputId": "cfc14c95-3397-41af-abb0-4363b253ed06"
      },
      "source": [
        "%matplotlib inline\n",
        "import matplotlib.pyplot as plt\n",
        "\n",
        "#Clean up cloumn names and create a series of feature importances\n",
        "columns = X_train_encoded.columns.str.replace('_',' ').str.capitalize()\n",
        "importances = pd.Series(model.feature_importances_, columns)\n",
        "\n",
        "#Plot that figure\n",
        "fig = plt.figure(figsize = (7,7))\n",
        "plt.style.use('ggplot')\n",
        "\n",
        "ax = importances.sort_values().plot.barh()\n",
        "ax.set_title('Feature Importances')\n",
        "\n",
        "plt.show();"
      ],
      "execution_count": 71,
      "outputs": [
        {
          "output_type": "display_data",
          "data": {
            "image/png": "[encoded data removed]",
            "text/plain": [
              "<Figure size 504x504 with 1 Axes>"
            ]
          },
          "metadata": {
            "tags": []
          }
        }
      ]
    },
    {
      "cell_type": "markdown",
      "metadata": {
        "id": "LDCus5N2rR-A",
        "colab_type": "text"
      },
      "source": [
        "<table>\n",
        "  <tr>\n",
        "    <td colspan=\"2\" rowspan=\"2\"></td>\n",
        "    <td colspan=\"2\">Predicted</td>\n",
        "  </tr>\n",
        "  <tr>\n",
        "    <td>Negative</td>\n",
        "    <td>Positive</td>\n",
        "  </tr>\n",
        "  <tr>\n",
        "    <td rowspan=\"2\">Actual</td>\n",
        "    <td>Negative</td>\n",
        "    <td style=\"border: solid\">85</td>\n",
        "    <td style=\"border: solid\">58</td>\n",
        "  </tr>\n",
        "  <tr>\n",
        "    <td>Positive</td>\n",
        "    <td style=\"border: solid\">8</td>\n",
        "    <td style=\"border: solid\"> 36</td>\n",
        "  </tr>\n",
        "</table>"
      ]
    },
    {
      "cell_type": "code",
      "metadata": {
        "id": "O0KzgXYirTD8",
        "colab_type": "code",
        "colab": {
          "base_uri": "https://localhost:8080/",
          "height": 102
        },
        "outputId": "ab85f420-7b0b-475e-c0c8-49e644c92363"
      },
      "source": [
        "#Calculate accuracy, precision, and recall for this confusion matrix:\n",
        "true_negative = 85\n",
        "false_negative = 8\n",
        "\n",
        "true_positive = 36\n",
        "false_positive = 58\n",
        "\n",
        "total = 85 + 8 + 58 +36\n",
        "#accuracy is the sum of correct predictions divided by total predictions\n",
        "accuracy = (true_positive + true_negative) / (total)\n",
        "\n",
        "#precision is class accuracy of actual results\n",
        "pos_precision = true_positive / (true_positive + false_positive)\n",
        "neg_precision = true_negative / (true_negative + false_negative)\n",
        "\n",
        "#recall is class accuracy of predicted results\n",
        "pos_recall = true_positive / (true_positive + false_negative)\n",
        "neg_recall = true_negative / (true_negative + false_positive)\n",
        "\n",
        "print(f'The accuracy of this model the table represents is {accuracy}')\n",
        "print(f'The precision of the positive class is {pos_precision}')\n",
        "print(f'The precision of the negative class is {neg_precision}')\n",
        "print(f'The recall of the positive class is {pos_recall}')\n",
        "print(f'The recall of the negative class is {neg_recall}')"
      ],
      "execution_count": 72,
      "outputs": [
        {
          "output_type": "stream",
          "text": [
            "The accuracy of this model the table represents is 0.6470588235294118\n",
            "The precision of the positive class is 0.3829787234042553\n",
            "The precision of the negative class is 0.9139784946236559\n",
            "The recall of the positive class is 0.8181818181818182\n",
            "The recall of the negative class is 0.5944055944055944\n"
          ],
          "name": "stdout"
        }
      ]
    },
    {
      "cell_type": "code",
      "metadata": {
        "id": "v7gd5L0h5KkH",
        "colab_type": "code",
        "colab": {
          "base_uri": "https://localhost:8080/",
          "height": 51
        },
        "outputId": "ff78714d-84d6-4115-c49c-124a9cd32a27"
      },
      "source": [
        "#f1 score\n",
        "f1_pos = 2 / ((1/pos_precision) + (1/pos_recall))\n",
        "f1_neg = 2 / ((1/neg_precision) + (1/neg_recall))\n",
        "\n",
        "print(f'The f1 score of the positive class is {f1_pos}')\n",
        "print(f'The f1 score of the negative class is {f1_neg}')"
      ],
      "execution_count": 94,
      "outputs": [
        {
          "output_type": "stream",
          "text": [
            "The f1 score of the positive class is 0.5217391304347826\n",
            "The f1 score of the negative class is 0.7203389830508475\n"
          ],
          "name": "stdout"
        }
      ]
    },
    {
      "cell_type": "code",
      "metadata": {
        "id": "IJX-LuVOx9z8",
        "colab_type": "code",
        "colab": {}
      },
      "source": [
        "#feature engineering\n",
        "def fe(df):\n",
        "  X = df.copy()\n",
        "  \n",
        "  #Homecourt Advantage\n",
        "  X['hca'] = np.where(X.htm == 'GSW', 1, 0)\n",
        "  \n",
        "  #Determine Opponent\n",
        "  X['opp'] = np.where(X.htm != 'GSW', X.htm,\n",
        "                          np.where(X.vtm != 'GSW', X.vtm, np.nan))\n",
        "  \n",
        "  #Seconds remaining in period\n",
        "  X['srp'] = (X.minutes_remaining * 60) + X.seconds_remaining\n",
        "  \n",
        "  #Seconds remaining in game\n",
        "  X['srg'] = (X.period * 12 * 60) + X.seconds_remaining\n",
        "  \n",
        "  return X"
      ],
      "execution_count": 0,
      "outputs": []
    },
    {
      "cell_type": "code",
      "metadata": {
        "id": "6ETD_d9h2HjY",
        "colab_type": "code",
        "colab": {}
      },
      "source": [
        "#add new features to split data\n",
        "X_train = fe(X_train)\n",
        "X_val = fe(X_val)\n",
        "X_test = fe(X_test)"
      ],
      "execution_count": 0,
      "outputs": []
    },
    {
      "cell_type": "code",
      "metadata": {
        "id": "qxZN090e2HlW",
        "colab_type": "code",
        "colab": {
          "base_uri": "https://localhost:8080/",
          "height": 34
        },
        "outputId": "437ef914-ab72-4ed8-a7ac-c2e92aca0e13"
      },
      "source": [
        "#Recycle previous code to rerun model\n",
        "#Chosen features for encoding\n",
        "cat_features = ['action_type', 'shot_type', 'shot_zone_area',\n",
        "                'shot_zone_basic', 'shot_zone_range', 'season_type', \n",
        "                'hca', 'opp']\n",
        "\n",
        "#pass features on initialization\n",
        "encoder = ce.OrdinalEncoder(cols = cat_features)\n",
        "\n",
        "#encode data\n",
        "X_train_encoded =  encoder.fit_transform(X_train)\n",
        "X_val_encoded = encoder.transform(X_val)\n",
        "\n",
        "#drop unused cols\n",
        "unused = ['htm','vtm']\n",
        "X_train_encoded = X_train_encoded.drop(columns = unused)\n",
        "X_val_encoded = X_val_encoded.drop(columns = unused)\n",
        "\n",
        "#pop target variables\n",
        "y_train = X_train_encoded.pop('shot_made_flag')\n",
        "y_val = X_val_encoded.pop('shot_made_flag')\n",
        "\n",
        "#initialize and fit model\n",
        "rfc= RandomForestClassifier(n_estimators = 500,\n",
        "                            max_depth = 15,\n",
        "                            min_samples_leaf = 2,\n",
        "                            min_samples_split = 2,\n",
        "                            bootstrap = True)\n",
        "\n",
        "model = rfc.fit(X_train_encoded, y_train)\n",
        "\n",
        "#get accuracy\n",
        "y_pred = model.predict(X_val_encoded)\n",
        "print(f'The accuracy of this model is {accuracy_score(y_val, y_pred)}')"
      ],
      "execution_count": 86,
      "outputs": [
        {
          "output_type": "stream",
          "text": [
            "The accuracy of this model is 0.5979292493528904\n"
          ],
          "name": "stdout"
        }
      ]
    },
    {
      "cell_type": "code",
      "metadata": {
        "id": "WgUr9zxu2HpE",
        "colab_type": "code",
        "colab": {
          "base_uri": "https://localhost:8080/",
          "height": 34
        },
        "outputId": "74ead72b-3b70-400d-da07-619425240420"
      },
      "source": [
        "#using test data now\n",
        "X_test_encoded = encoder.transform(X_test)\n",
        "X_test_encoded =X_test_encoded.drop(columns = unused)\n",
        "\n",
        "y_test = X_test_encoded.pop('shot_made_flag')\n",
        "\n",
        "y_pred = model.predict(X_test_encoded)\n",
        "print(f'The accuracy using the test data is {accuracy_score(y_test, y_pred)}')"
      ],
      "execution_count": 87,
      "outputs": [
        {
          "output_type": "stream",
          "text": [
            "The accuracy using the test data is 0.6312056737588653\n"
          ],
          "name": "stdout"
        }
      ]
    },
    {
      "cell_type": "code",
      "metadata": {
        "id": "Aec_Zi4w35d6",
        "colab_type": "code",
        "colab": {}
      },
      "source": [
        "#Confusion matrix\n",
        "import seaborn as sns\n",
        "\n",
        "def plot_confusion_matrix(y_true, y_pred):\n",
        "    labels = unique_labels(y_true)\n",
        "    columns = [f'Predicted {label}' for label in labels]\n",
        "    index = [f'Actual {label}' for label in labels]\n",
        "    \n",
        "    cm = confusion_matrix(y_true, y_pred)\n",
        "    cm = cm/cm.sum(axis=1).reshape(len(labels), 1)\n",
        "   \n",
        "    table = pd.DataFrame(cm, columns=columns, index=index)\n",
        "    \n",
        "    return sns.heatmap(table, annot=True, fmt='.2f', cmap='viridis')"
      ],
      "execution_count": 0,
      "outputs": []
    },
    {
      "cell_type": "code",
      "metadata": {
        "id": "0a9gn4f83-P-",
        "colab_type": "code",
        "colab": {
          "base_uri": "https://localhost:8080/",
          "height": 269
        },
        "outputId": "ca6d4b57-5be0-4833-99d6-28c185e63f12"
      },
      "source": [
        "plot_confusion_matrix(y_test, y_pred);"
      ],
      "execution_count": 93,
      "outputs": [
        {
          "output_type": "display_data",
          "data": {
            "image/png": "[encoded data removed]",
            "text/plain": [
              "<Figure size 432x288 with 2 Axes>"
            ]
          },
          "metadata": {
            "tags": []
          }
        }
      ]
    },
    {
      "cell_type": "code",
      "metadata": {
        "id": "rRieDoHK4D1F",
        "colab_type": "code",
        "colab": {
          "base_uri": "https://localhost:8080/",
          "height": 170
        },
        "outputId": "ed10c7a8-5c1d-437f-8989-e71067463600"
      },
      "source": [
        "#classification report\n",
        "print(classification_report(y_test, y_pred))"
      ],
      "execution_count": 91,
      "outputs": [
        {
          "output_type": "stream",
          "text": [
            "              precision    recall  f1-score   support\n",
            "\n",
            "           0       0.67      0.59      0.63       896\n",
            "           1       0.59      0.68      0.63       796\n",
            "\n",
            "    accuracy                           0.63      1692\n",
            "   macro avg       0.63      0.63      0.63      1692\n",
            "weighted avg       0.64      0.63      0.63      1692\n",
            "\n"
          ],
          "name": "stdout"
        }
      ]
    }
  ]
}