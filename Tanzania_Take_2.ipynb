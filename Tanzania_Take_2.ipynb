{
  "nbformat": 4,
  "nbformat_minor": 0,
  "metadata": {
    "colab": {
      "name": "Tanzania Take 2",
      "version": "0.3.2",
      "provenance": [],
      "include_colab_link": true
    },
    "kernelspec": {
      "name": "python3",
      "display_name": "Python 3"
    }
  },
  "cells": [
    {
      "cell_type": "markdown",
      "metadata": {
        "id": "view-in-github",
        "colab_type": "text"
      },
      "source": [
        "<a href=\"https://colab.research.google.com/github/shmilyface/DS-Unit-2-Tree-Ensembles/blob/master/Tanzania_Take_2.ipynb\" target=\"_parent\"><img src=\"https://colab.research.google.com/assets/colab-badge.svg\" alt=\"Open In Colab\"/></a>"
      ]
    },
    {
      "cell_type": "code",
      "metadata": {
        "id": "N_6bfJJf-bvg",
        "colab_type": "code",
        "colab": {
          "base_uri": "https://localhost:8080/",
          "height": 224
        },
        "outputId": "f55b1a86-a45a-4ed6-acc0-28a65e00b574"
      },
      "source": [
        "#installs\n",
        "pip install category_encoders\n",
        "pip install matplotlib==3.1.0"
      ],
      "execution_count": 6,
      "outputs": [
        {
          "output_type": "stream",
          "text": [
            "Requirement already satisfied: category_encoders in /usr/local/lib/python3.6/dist-packages (2.0.0)\n",
            "Requirement already satisfied: pandas>=0.21.1 in /usr/local/lib/python3.6/dist-packages (from category_encoders) (0.24.2)\n",
            "Requirement already satisfied: numpy>=1.11.3 in /usr/local/lib/python3.6/dist-packages (from category_encoders) (1.16.4)\n",
            "Requirement already satisfied: patsy>=0.4.1 in /usr/local/lib/python3.6/dist-packages (from category_encoders) (0.5.1)\n",
            "Requirement already satisfied: scikit-learn>=0.20.0 in /usr/local/lib/python3.6/dist-packages (from category_encoders) (0.21.2)\n",
            "Requirement already satisfied: statsmodels>=0.6.1 in /usr/local/lib/python3.6/dist-packages (from category_encoders) (0.10.0)\n",
            "Requirement already satisfied: scipy>=0.19.0 in /usr/local/lib/python3.6/dist-packages (from category_encoders) (1.3.0)\n",
            "Requirement already satisfied: pytz>=2011k in /usr/local/lib/python3.6/dist-packages (from pandas>=0.21.1->category_encoders) (2018.9)\n",
            "Requirement already satisfied: python-dateutil>=2.5.0 in /usr/local/lib/python3.6/dist-packages (from pandas>=0.21.1->category_encoders) (2.5.3)\n",
            "Requirement already satisfied: six in /usr/local/lib/python3.6/dist-packages (from patsy>=0.4.1->category_encoders) (1.12.0)\n",
            "Requirement already satisfied: joblib>=0.11 in /usr/local/lib/python3.6/dist-packages (from scikit-learn>=0.20.0->category_encoders) (0.13.2)\n"
          ],
          "name": "stdout"
        }
      ]
    },
    {
      "cell_type": "code",
      "metadata": {
        "id": "03qCXB_2BOW2",
        "colab_type": "code",
        "colab": {}
      },
      "source": [
        "#imports\n",
        "%matplotlib inline\n",
        "import category_encoders as ce \n",
        "import matplotlib.pyplot as plt\n",
        "import numpy as np\n",
        "import pandas as pd\n",
        "import seaborn as sns \n",
        "from sklearn.impute import SimpleImputer\n",
        "from sklearn.metrics import accuracy_score\n",
        "from sklearn.model_selection import train_test_split\n",
        "from sklearn.pipeline import make_pipeline\n",
        "from sklearn.ensemble import RandomForestClassifier"
      ],
      "execution_count": 0,
      "outputs": []
    },
    {
      "cell_type": "code",
      "metadata": {
        "id": "IkIOjqcYBQ0V",
        "colab_type": "code",
        "colab": {
          "base_uri": "https://localhost:8080/",
          "height": 34
        },
        "outputId": "50f534cf-c4e3-4abc-84af-dd1fa7703502"
      },
      "source": [
        "#functions\n",
        "def wrangler(x):\n",
        "  x = x.copy()\n",
        "  x['date_recorded'] = pd.to_datetime(x['date_recorded'], infer_datetime_format=True)\n",
        "  x['year_recorded'] = x['date_recorded'].dt.year \n",
        "  x['month_recorded'] = x['date_recorded'].dt.month \n",
        "  x['day_recorded'] = x['date_recorded'].dt.day\n",
        "  x = x.drop(columns = 'date_recorded')\n",
        "  x['years'] = x['year_recorded'] - x['construction_year']\n",
        "  unusable_variance = ['recorded_by', 'id']\n",
        "  x = x.drop(columns=unusable_variance)\n",
        "  duplicate_columns = ['quantity_group']\n",
        "  x=x.drop(columns=duplicate_columns)\n",
        "  x['latitude'] = x['latitude'].replace(-2e-08, np.nan)\n",
        "  \n",
        "  cols_w_zeros = ['construction_year', 'longitude', 'latitude', 'gps_height', 'population']\n",
        "  for col in cols_w_zeros:\n",
        "    x[col] = x[col].replace(0, np.nan)\n",
        "\n",
        "  return x\n",
        "\n",
        "df_data = 'https://raw.githubusercontent.com/LambdaSchool/DS-Unit-2-Tree-Ensembles/master/data/tanzania/'\n",
        "\n",
        "train = pd.merge(pd.read_csv(df_data + 'train_features.csv'),\n",
        "                   pd.read_csv(df_data + 'train_labels.csv'))\n",
        "  \n",
        "test = pd.read_csv(df_data + 'test_features.csv')\n",
        "sample_submission = pd.read_csv(df_data + 'sample_submission.csv')\n",
        "\n",
        "train, val = train_test_split(train, test_size=len(test),\n",
        "                              stratify=train['status_group'], random_state=42)\n",
        "\n",
        "train = wrangler(train)\n",
        "val = wrangler(val)\n",
        "test = wrangler(test)\n",
        "\n",
        "target = 'status_group'\n",
        "x_train = train.drop(columns=target)\n",
        "y_train = train[target]\n",
        "x_val = val.drop(columns=target)\n",
        "y_val = val[target]\n",
        "x_test = test\n",
        "\n",
        "pipeline = make_pipeline(\n",
        "    ce.OrdinalEncoder(),\n",
        "    SimpleImputer(strategy='mean'),\n",
        "    RandomForestClassifier(n_estimators=100, random_state=42, n_jobs=-1)\n",
        ")\n",
        "\n",
        "pipeline.fit(x_train, y_train)\n",
        "y_pred = pipeline.predict(x_val)\n",
        "print('Validation Accuracy', accuracy_score(y_val, y_pred))\n"
      ],
      "execution_count": 13,
      "outputs": [
        {
          "output_type": "stream",
          "text": [
            "Validation Accuracy 0.8140409527789386\n"
          ],
          "name": "stdout"
        }
      ]
    },
    {
      "cell_type": "code",
      "metadata": {
        "id": "OJqvAzqfBTI9",
        "colab_type": "code",
        "colab": {}
      },
      "source": [
        "#submission\n",
        "submission = sample_submission.copy()\n",
        "submission['status_group'] = y_pred\n",
        "submission.to_csv('submission-02.csv', index=False)"
      ],
      "execution_count": 0,
      "outputs": []
    },
    {
      "cell_type": "code",
      "metadata": {
        "id": "T2ELMQPJBUHF",
        "colab_type": "code",
        "colab": {}
      },
      "source": [
        ""
      ],
      "execution_count": 0,
      "outputs": []
    },
    {
      "cell_type": "code",
      "metadata": {
        "id": "LQu_4oJJBVtV",
        "colab_type": "code",
        "colab": {}
      },
      "source": [
        ""
      ],
      "execution_count": 0,
      "outputs": []
    }
  ]
}