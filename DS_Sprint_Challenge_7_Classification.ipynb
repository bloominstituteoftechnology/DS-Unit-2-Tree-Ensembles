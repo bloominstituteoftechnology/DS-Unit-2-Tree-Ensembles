{
  "nbformat": 4,
  "nbformat_minor": 0,
  "metadata": {
    "colab": {
      "name": "DS_Sprint_Challenge_7_Classification_1.ipynb",
      "version": "0.3.2",
      "provenance": []
    },
    "kernelspec": {
      "display_name": "Python 3",
      "language": "python",
      "name": "python3"
    },
    "language_info": {
      "codemirror_mode": {
        "name": "ipython",
        "version": 3
      },
      "file_extension": ".py",
      "mimetype": "text/x-python",
      "name": "python",
      "nbconvert_exporter": "python",
      "pygments_lexer": "ipython3",
      "version": "3.7.3"
    }
  },
  "cells": [
    {
      "cell_type": "markdown",
      "metadata": {
        "colab_type": "text",
        "id": "7NQhCv9N9NCo"
      },
      "source": [
        "_Lambda School Data Science, Unit 2_\n",
        " \n",
        "# Sprint Challenge: Predict Steph Curry's shots 🏀\n",
        "\n",
        "For your Sprint Challenge, you'll use a dataset with all Steph Curry's NBA field goal attempts. (Regular season and playoff games, from October 28, 2009, through June 5, 2019.) \n",
        "\n",
        "You'll use information about the shot and the game to predict whether the shot was made. This is hard to predict! Try for an accuracy score in the high 50's or low 60's. The dataset was collected with the [nba_api](https://github.com/swar/nba_api) Python library."
      ]
    },
    {
      "cell_type": "markdown",
      "metadata": {
        "colab_type": "text",
        "id": "gWRX4uaY9NCw"
      },
      "source": [
        "This Sprint Challenge has two parts. To demonstrate mastery on each part, do all the required, numbered instructions. To earn a score of \"3\" for the part, also do the stretch goals.\n",
        "\n",
        "## Part 1. Prepare to model\n",
        "\n",
        "### Required\n",
        "\n",
        "1. **Do train/validate/test split.** Use the 2009-10 season through 2016-17 season to train, the 2017-18 season to validate, and the 2018-19 season to test. NBA seasons begin in October and end in June. You'll know you've split the data correctly when your train set has 11081 observations, your validation set has 1168 observations, and your test set has 1709 observations.\n",
        "2. **Begin with baselines for classification.** Your target to predict is `shot_made_flag`. What is the baseline accuracy for the validation set, if you guessed the majority class for every prediction?\n",
        "3. **Use Ordinal Encoding _or_ One-Hot Encoding,** for the categorical features you select.\n",
        "4. **Train a Random Forest _or_ Logistic Regression** with the features you select.\n",
        "\n",
        "### Stretch goals\n",
        "Engineer at least 4 of these 5 features:\n",
        "\n",
        "- **Homecourt Advantage**: Is the home team (`htm`) the Golden State Warriors (`GSW`) ?\n",
        "- **Opponent**: Who is the other team playing the Golden State Warriors?\n",
        "- **Seconds remaining in the period**: Combine minutes remaining with seconds remaining, to get the total number of seconds remaining in the period.\n",
        "- **Seconds remaining in the game**: Combine period, and seconds remaining in the period, to get the total number of seconds remaining in the game. A basketball game has 4 periods, each 12 minutes long.\n",
        "- **Made previous shot**: Was Steph Curry's previous shot successful?\n",
        "    \n",
        "\n",
        "## Part 2. Evaluate models\n",
        "\n",
        "### Required\n",
        "1. Get your model's **validation accuracy.** (Multiple times if you try multiple iterations.)\n",
        "2. Get your model's **test accuracy.** (One time, at the end.)\n",
        "3. Get and plot your Random Forest's **feature importances** _or_ your Logistic Regression's **coefficients.**\n",
        "4. Imagine this is the confusion matrix for a binary classification model. **Calculate accuracy, precision, and recall for this confusion matrix:**\n",
        "\n",
        "<table>\n",
        "  <tr>\n",
        "    <td colspan=\"2\" rowspan=\"2\"></td>\n",
        "    <td colspan=\"2\">Predicted</td>\n",
        "  </tr>\n",
        "  <tr>\n",
        "    <td>Negative</td>\n",
        "    <td>Positive</td>\n",
        "  </tr>\n",
        "  <tr>\n",
        "    <td rowspan=\"2\">Actual</td>\n",
        "    <td>Negative</td>\n",
        "    <td style=\"border: solid\">85</td>\n",
        "    <td style=\"border: solid\">58</td>\n",
        "  </tr>\n",
        "  <tr>\n",
        "    <td>Positive</td>\n",
        "    <td style=\"border: solid\">8</td>\n",
        "    <td style=\"border: solid\"> 36</td>\n",
        "  </tr>\n",
        "</table>\n",
        "\n",
        "\n",
        "### Stretch goals\n",
        "- Calculate F1 score for the provided, imaginary confusion matrix.\n",
        "- Plot a real confusion matrix for your basketball model, with row and column labels.\n",
        "- Print the classification report for your model."
      ]
    },
    {
      "cell_type": "code",
      "metadata": {
        "id": "iwFc9J3Zpbcy",
        "colab_type": "code",
        "colab": {
          "base_uri": "https://localhost:8080/",
          "height": 494
        },
        "outputId": "f63dfab5-af52-4bb1-9d1c-b6dc71a2b41c"
      },
      "source": [
        "! pip install category_encoders matplotlib==3.1.0"
      ],
      "execution_count": 1,
      "outputs": [
        {
          "output_type": "stream",
          "text": [
            "Requirement already satisfied: category_encoders in /usr/local/lib/python3.6/dist-packages (2.0.0)\n",
            "Collecting matplotlib==3.1.0\n",
            "  Using cached https://files.pythonhosted.org/packages/da/83/d989ee20c78117c737ab40e0318ea221f1aed4e3f5a40b4f93541b369b93/matplotlib-3.1.0-cp36-cp36m-manylinux1_x86_64.whl\n",
            "Requirement already satisfied: scipy>=0.19.0 in /usr/local/lib/python3.6/dist-packages (from category_encoders) (1.3.0)\n",
            "Requirement already satisfied: numpy>=1.11.3 in /usr/local/lib/python3.6/dist-packages (from category_encoders) (1.16.4)\n",
            "Requirement already satisfied: statsmodels>=0.6.1 in /usr/local/lib/python3.6/dist-packages (from category_encoders) (0.10.1)\n",
            "Requirement already satisfied: pandas>=0.21.1 in /usr/local/lib/python3.6/dist-packages (from category_encoders) (0.24.2)\n",
            "Requirement already satisfied: scikit-learn>=0.20.0 in /usr/local/lib/python3.6/dist-packages (from category_encoders) (0.21.3)\n",
            "Requirement already satisfied: patsy>=0.4.1 in /usr/local/lib/python3.6/dist-packages (from category_encoders) (0.5.1)\n",
            "Requirement already satisfied: python-dateutil>=2.1 in /usr/local/lib/python3.6/dist-packages (from matplotlib==3.1.0) (2.5.3)\n",
            "Requirement already satisfied: cycler>=0.10 in /usr/local/lib/python3.6/dist-packages (from matplotlib==3.1.0) (0.10.0)\n",
            "Requirement already satisfied: pyparsing!=2.0.4,!=2.1.2,!=2.1.6,>=2.0.1 in /usr/local/lib/python3.6/dist-packages (from matplotlib==3.1.0) (2.4.2)\n",
            "Requirement already satisfied: kiwisolver>=1.0.1 in /usr/local/lib/python3.6/dist-packages (from matplotlib==3.1.0) (1.1.0)\n",
            "Requirement already satisfied: pytz>=2011k in /usr/local/lib/python3.6/dist-packages (from pandas>=0.21.1->category_encoders) (2018.9)\n",
            "Requirement already satisfied: joblib>=0.11 in /usr/local/lib/python3.6/dist-packages (from scikit-learn>=0.20.0->category_encoders) (0.13.2)\n",
            "Requirement already satisfied: six in /usr/local/lib/python3.6/dist-packages (from patsy>=0.4.1->category_encoders) (1.12.0)\n",
            "Requirement already satisfied: setuptools in /usr/local/lib/python3.6/dist-packages (from kiwisolver>=1.0.1->matplotlib==3.1.0) (41.0.1)\n",
            "\u001b[31mERROR: albumentations 0.1.12 has requirement imgaug<0.2.7,>=0.2.5, but you'll have imgaug 0.2.9 which is incompatible.\u001b[0m\n",
            "Installing collected packages: matplotlib\n",
            "  Found existing installation: matplotlib 3.0.3\n",
            "    Uninstalling matplotlib-3.0.3:\n",
            "      Successfully uninstalled matplotlib-3.0.3\n",
            "Successfully installed matplotlib-3.1.0\n"
          ],
          "name": "stdout"
        },
        {
          "output_type": "display_data",
          "data": {
            "application/vnd.colab-display-data+json": {
              "pip_warning": {
                "packages": [
                  "matplotlib",
                  "mpl_toolkits"
                ]
              }
            }
          },
          "metadata": {
            "tags": []
          }
        }
      ]
    },
    {
      "cell_type": "code",
      "metadata": {
        "colab_type": "code",
        "id": "5RDEWI9c9NCr",
        "colab": {}
      },
      "source": [
        "# Import data \n",
        "\n",
        "import pandas as pd\n",
        "url = 'https://drive.google.com/uc?export=download&id=1fL7KPyxgGYfQDsuJoBWHIWwCAf-HTFpX'\n",
        "df = pd.read_csv(url, parse_dates=['game_date']).set_index('game_date')\n",
        "assert df.shape == (13958, 19)"
      ],
      "execution_count": 0,
      "outputs": []
    },
    {
      "cell_type": "code",
      "metadata": {
        "id": "AopHVao3pbc3",
        "colab_type": "code",
        "colab": {}
      },
      "source": [
        "# Import Libraries\n",
        "\n",
        "%matplotlib inline\n",
        "import category_encoders as ce\n",
        "import matplotlib.pyplot as plt\n",
        "import numpy as np\n",
        "import pandas as pd\n",
        "import seaborn as sns\n",
        "from sklearn.impute import SimpleImputer\n",
        "from sklearn.metrics import accuracy_score\n",
        "from sklearn.model_selection import train_test_split\n",
        "from sklearn.pipeline import make_pipeline\n",
        "from sklearn.ensemble import RandomForestClassifier\n",
        "from sklearn.utils.multiclass import unique_labels\n",
        "from sklearn.metrics import confusion_matrix\n",
        "from sklearn.metrics import classification_report"
      ],
      "execution_count": 0,
      "outputs": []
    },
    {
      "cell_type": "code",
      "metadata": {
        "id": "g3AvOuQGpbc5",
        "colab_type": "code",
        "colab": {
          "base_uri": "https://localhost:8080/",
          "height": 340
        },
        "outputId": "c15677b6-8ffd-44bc-fa9e-a228462dad66"
      },
      "source": [
        "# Quick look at the data\n",
        "\n",
        "df.head()"
      ],
      "execution_count": 4,
      "outputs": [
        {
          "output_type": "execute_result",
          "data": {
            "text/html": [
              "<div>\n",
              "<style scoped>\n",
              "    .dataframe tbody tr th:only-of-type {\n",
              "        vertical-align: middle;\n",
              "    }\n",
              "\n",
              "    .dataframe tbody tr th {\n",
              "        vertical-align: top;\n",
              "    }\n",
              "\n",
              "    .dataframe thead th {\n",
              "        text-align: right;\n",
              "    }\n",
              "</style>\n",
              "<table border=\"1\" class=\"dataframe\">\n",
              "  <thead>\n",
              "    <tr style=\"text-align: right;\">\n",
              "      <th></th>\n",
              "      <th>game_id</th>\n",
              "      <th>game_event_id</th>\n",
              "      <th>player_name</th>\n",
              "      <th>period</th>\n",
              "      <th>minutes_remaining</th>\n",
              "      <th>seconds_remaining</th>\n",
              "      <th>action_type</th>\n",
              "      <th>shot_type</th>\n",
              "      <th>shot_zone_basic</th>\n",
              "      <th>shot_zone_area</th>\n",
              "      <th>shot_zone_range</th>\n",
              "      <th>shot_distance</th>\n",
              "      <th>loc_x</th>\n",
              "      <th>loc_y</th>\n",
              "      <th>shot_made_flag</th>\n",
              "      <th>htm</th>\n",
              "      <th>vtm</th>\n",
              "      <th>season_type</th>\n",
              "      <th>scoremargin_before_shot</th>\n",
              "    </tr>\n",
              "    <tr>\n",
              "      <th>game_date</th>\n",
              "      <th></th>\n",
              "      <th></th>\n",
              "      <th></th>\n",
              "      <th></th>\n",
              "      <th></th>\n",
              "      <th></th>\n",
              "      <th></th>\n",
              "      <th></th>\n",
              "      <th></th>\n",
              "      <th></th>\n",
              "      <th></th>\n",
              "      <th></th>\n",
              "      <th></th>\n",
              "      <th></th>\n",
              "      <th></th>\n",
              "      <th></th>\n",
              "      <th></th>\n",
              "      <th></th>\n",
              "      <th></th>\n",
              "    </tr>\n",
              "  </thead>\n",
              "  <tbody>\n",
              "    <tr>\n",
              "      <th>2009-10-28</th>\n",
              "      <td>20900015</td>\n",
              "      <td>4</td>\n",
              "      <td>Stephen Curry</td>\n",
              "      <td>1</td>\n",
              "      <td>11</td>\n",
              "      <td>25</td>\n",
              "      <td>Jump Shot</td>\n",
              "      <td>3PT Field Goal</td>\n",
              "      <td>Above the Break 3</td>\n",
              "      <td>Right Side Center(RC)</td>\n",
              "      <td>24+ ft.</td>\n",
              "      <td>26</td>\n",
              "      <td>99</td>\n",
              "      <td>249</td>\n",
              "      <td>0</td>\n",
              "      <td>GSW</td>\n",
              "      <td>HOU</td>\n",
              "      <td>Regular Season</td>\n",
              "      <td>2.0</td>\n",
              "    </tr>\n",
              "    <tr>\n",
              "      <th>2009-10-28</th>\n",
              "      <td>20900015</td>\n",
              "      <td>17</td>\n",
              "      <td>Stephen Curry</td>\n",
              "      <td>1</td>\n",
              "      <td>9</td>\n",
              "      <td>31</td>\n",
              "      <td>Step Back Jump shot</td>\n",
              "      <td>2PT Field Goal</td>\n",
              "      <td>Mid-Range</td>\n",
              "      <td>Left Side Center(LC)</td>\n",
              "      <td>16-24 ft.</td>\n",
              "      <td>18</td>\n",
              "      <td>-122</td>\n",
              "      <td>145</td>\n",
              "      <td>1</td>\n",
              "      <td>GSW</td>\n",
              "      <td>HOU</td>\n",
              "      <td>Regular Season</td>\n",
              "      <td>0.0</td>\n",
              "    </tr>\n",
              "    <tr>\n",
              "      <th>2009-10-28</th>\n",
              "      <td>20900015</td>\n",
              "      <td>53</td>\n",
              "      <td>Stephen Curry</td>\n",
              "      <td>1</td>\n",
              "      <td>6</td>\n",
              "      <td>2</td>\n",
              "      <td>Jump Shot</td>\n",
              "      <td>2PT Field Goal</td>\n",
              "      <td>In The Paint (Non-RA)</td>\n",
              "      <td>Center(C)</td>\n",
              "      <td>8-16 ft.</td>\n",
              "      <td>14</td>\n",
              "      <td>-60</td>\n",
              "      <td>129</td>\n",
              "      <td>0</td>\n",
              "      <td>GSW</td>\n",
              "      <td>HOU</td>\n",
              "      <td>Regular Season</td>\n",
              "      <td>-4.0</td>\n",
              "    </tr>\n",
              "    <tr>\n",
              "      <th>2009-10-28</th>\n",
              "      <td>20900015</td>\n",
              "      <td>141</td>\n",
              "      <td>Stephen Curry</td>\n",
              "      <td>2</td>\n",
              "      <td>9</td>\n",
              "      <td>49</td>\n",
              "      <td>Jump Shot</td>\n",
              "      <td>2PT Field Goal</td>\n",
              "      <td>Mid-Range</td>\n",
              "      <td>Left Side(L)</td>\n",
              "      <td>16-24 ft.</td>\n",
              "      <td>19</td>\n",
              "      <td>-172</td>\n",
              "      <td>82</td>\n",
              "      <td>0</td>\n",
              "      <td>GSW</td>\n",
              "      <td>HOU</td>\n",
              "      <td>Regular Season</td>\n",
              "      <td>-4.0</td>\n",
              "    </tr>\n",
              "    <tr>\n",
              "      <th>2009-10-28</th>\n",
              "      <td>20900015</td>\n",
              "      <td>249</td>\n",
              "      <td>Stephen Curry</td>\n",
              "      <td>2</td>\n",
              "      <td>2</td>\n",
              "      <td>19</td>\n",
              "      <td>Jump Shot</td>\n",
              "      <td>2PT Field Goal</td>\n",
              "      <td>Mid-Range</td>\n",
              "      <td>Left Side Center(LC)</td>\n",
              "      <td>16-24 ft.</td>\n",
              "      <td>16</td>\n",
              "      <td>-68</td>\n",
              "      <td>148</td>\n",
              "      <td>0</td>\n",
              "      <td>GSW</td>\n",
              "      <td>HOU</td>\n",
              "      <td>Regular Season</td>\n",
              "      <td>0.0</td>\n",
              "    </tr>\n",
              "  </tbody>\n",
              "</table>\n",
              "</div>"
            ],
            "text/plain": [
              "             game_id  game_event_id  ...     season_type  scoremargin_before_shot\n",
              "game_date                            ...                                         \n",
              "2009-10-28  20900015              4  ...  Regular Season                      2.0\n",
              "2009-10-28  20900015             17  ...  Regular Season                      0.0\n",
              "2009-10-28  20900015             53  ...  Regular Season                     -4.0\n",
              "2009-10-28  20900015            141  ...  Regular Season                     -4.0\n",
              "2009-10-28  20900015            249  ...  Regular Season                      0.0\n",
              "\n",
              "[5 rows x 19 columns]"
            ]
          },
          "metadata": {
            "tags": []
          },
          "execution_count": 4
        }
      ]
    },
    {
      "cell_type": "code",
      "metadata": {
        "id": "s32iicoNpbc8",
        "colab_type": "code",
        "colab": {
          "base_uri": "https://localhost:8080/",
          "height": 357
        },
        "outputId": "59fa510c-01e8-4afc-e081-f48e70c2c140"
      },
      "source": [
        "# No null values... nice!\n",
        "\n",
        "df.isnull().sum()"
      ],
      "execution_count": 5,
      "outputs": [
        {
          "output_type": "execute_result",
          "data": {
            "text/plain": [
              "game_id                    0\n",
              "game_event_id              0\n",
              "player_name                0\n",
              "period                     0\n",
              "minutes_remaining          0\n",
              "seconds_remaining          0\n",
              "action_type                0\n",
              "shot_type                  0\n",
              "shot_zone_basic            0\n",
              "shot_zone_area             0\n",
              "shot_zone_range            0\n",
              "shot_distance              0\n",
              "loc_x                      0\n",
              "loc_y                      0\n",
              "shot_made_flag             0\n",
              "htm                        0\n",
              "vtm                        0\n",
              "season_type                0\n",
              "scoremargin_before_shot    0\n",
              "dtype: int64"
            ]
          },
          "metadata": {
            "tags": []
          },
          "execution_count": 5
        }
      ]
    },
    {
      "cell_type": "code",
      "metadata": {
        "id": "s3er5je6pbc-",
        "colab_type": "code",
        "colab": {
          "base_uri": "https://localhost:8080/",
          "height": 34
        },
        "outputId": "446f5c80-4118-4282-930b-4300676afb72"
      },
      "source": [
        "# Split data - train,val,test\n",
        "\n",
        "train = df[ ((df.index.year>=2009) & (df.index.year <=2016)) |    # 2009-2016 bulk data\n",
        "            ((df.index.year==2017) & (df.index.month <=6))  ]     # 2017 clipped to playoffs\n",
        "\n",
        "val   = df[ ((df.index.year==2017) & (df.index.month >=10))  |    # 2017 data begin where season starts\n",
        "            ((df.index.year==2018) & (df.index.month <=6))  ]     # 2018 clipped to playoffs\n",
        "\n",
        "test  = df[ ((df.index.year==2018) & (df.index.month >=10))  |    # 2018 data begin where season starts\n",
        "            ((df.index.year==2019) & (df.index.month <=6))  ]     # 2019 clipped to playoffs\n",
        "\n",
        "'''\n",
        "train = df.loc['2009-07-01' : '2017-6-30']\n",
        "val = df.loc['2017-07-07' : '2018-6-30']\n",
        "test = df.loc['2018-6-30' : '2019-6-5']\n",
        "\n",
        "Orrrrrrrrrrrr\n",
        "\n",
        "Or you can move index out into a column:\n",
        "  df = df.reset_index()\n",
        "And then \n",
        "  train = df[df['game_date'] <= '2017-09-01']\n",
        "  val = df[df['game_date'].between('2017-09-01', '2018-09-01')]\n",
        "  test = df[df['game_date'] >= '2018-09-01']\n",
        "  \n",
        "\n",
        "'''\n",
        "\n",
        "\n",
        "\n",
        "print(train.shape, val.shape, test.shape)"
      ],
      "execution_count": 51,
      "outputs": [
        {
          "output_type": "stream",
          "text": [
            "(11081, 19) (1168, 19) (1709, 19)\n"
          ],
          "name": "stdout"
        }
      ]
    },
    {
      "cell_type": "code",
      "metadata": {
        "id": "RJ_z-1oHpbdB",
        "colab_type": "code",
        "colab": {
          "base_uri": "https://localhost:8080/",
          "height": 34
        },
        "outputId": "430953b5-22ee-4ca6-871f-91fa9bdbced1"
      },
      "source": [
        "# Get baseline accuracy using majority class \n",
        "\n",
        "majority_class = train['shot_made_flag'].mode()\n",
        "y_pred = [majority_class]*len(train)    # Or do y_pred = np.full_like(y_val, y_train.mode())\n",
        "y_train = train['shot_made_flag']\n",
        "accuracy_score(y_train,y_pred)"
      ],
      "execution_count": 25,
      "outputs": [
        {
          "output_type": "execute_result",
          "data": {
            "text/plain": [
              "0.5272087356736757"
            ]
          },
          "metadata": {
            "tags": []
          },
          "execution_count": 25
        }
      ]
    },
    {
      "cell_type": "code",
      "metadata": {
        "id": "lY-VF5w5pbdD",
        "colab_type": "code",
        "colab": {
          "base_uri": "https://localhost:8080/",
          "height": 102
        },
        "outputId": "bae7acbf-5ff3-411f-c4c8-4309a82cfb59"
      },
      "source": [
        "# Engineer Features\n",
        "\n",
        "def wrangle(X):\n",
        "    X = X.copy()\n",
        "    \n",
        "    # Engineer feature: homecourt advantage\n",
        "    X['homecout_advantage'] = X['htm']=='GSW'\n",
        "    \n",
        "    # Engineer feature: opponent team\n",
        "    def find_opp(row):\n",
        "        if row['htm']=='GSW':\n",
        "            return row['vtm']\n",
        "        else:\n",
        "            return row['htm']\n",
        "    X['opponent_team'] = X.apply(find_opp, axis=1)\n",
        "     \n",
        "     #Try with lambda function\n",
        "    #X['opponent_team2'] = X.apply(lambda x: True if X['htm']=='GSW', axis=1)\n",
        "    \n",
        "      #Also, X['opponent'] = X['homecourt_advantage'] * X['vtm'] + X['homecourt_advantage'] * X['htm']\n",
        "    \n",
        "    \n",
        "    # Engineer feature: seconds remaining in period\n",
        "    X['seconds_remaining_in_period'] = X['minutes_remaining']*60 + X['seconds_remaining']\n",
        "    \n",
        "    # Engineer feature: seconds remaining in game\n",
        "    X['seconds_remaining_in_game'] = (4 - X['period'])*(12*60) + X['seconds_remaining_in_period']\n",
        "    \n",
        "    # Engineer feature: made previous shot?\n",
        "    X['made_previous_shot'] = X['shot_made_flag'].shift(1)\n",
        "    X['made_previous_shot'].iloc[0] = 0.0\n",
        "        \n",
        "    return X\n",
        "\n",
        "# Wrangle train, validate, and test sets in the same way\n",
        "train = wrangle(train)\n",
        "val = wrangle(val)\n",
        "test = wrangle(test)"
      ],
      "execution_count": 52,
      "outputs": [
        {
          "output_type": "stream",
          "text": [
            "/usr/local/lib/python3.6/dist-packages/pandas/core/indexing.py:190: SettingWithCopyWarning: \n",
            "A value is trying to be set on a copy of a slice from a DataFrame\n",
            "\n",
            "See the caveats in the documentation: http://pandas.pydata.org/pandas-docs/stable/indexing.html#indexing-view-versus-copy\n",
            "  self._setitem_with_indexer(indexer, value)\n"
          ],
          "name": "stderr"
        }
      ]
    },
    {
      "cell_type": "code",
      "metadata": {
        "id": "NN0Kw2Cwrvkf",
        "colab_type": "code",
        "colab": {
          "base_uri": "https://localhost:8080/",
          "height": 235
        },
        "outputId": "a8a961fb-ce88-47bd-aab7-6414844a682f"
      },
      "source": [
        "train[['htm','vtm','opponent_team']].sample(5)"
      ],
      "execution_count": 36,
      "outputs": [
        {
          "output_type": "execute_result",
          "data": {
            "text/html": [
              "<div>\n",
              "<style scoped>\n",
              "    .dataframe tbody tr th:only-of-type {\n",
              "        vertical-align: middle;\n",
              "    }\n",
              "\n",
              "    .dataframe tbody tr th {\n",
              "        vertical-align: top;\n",
              "    }\n",
              "\n",
              "    .dataframe thead th {\n",
              "        text-align: right;\n",
              "    }\n",
              "</style>\n",
              "<table border=\"1\" class=\"dataframe\">\n",
              "  <thead>\n",
              "    <tr style=\"text-align: right;\">\n",
              "      <th></th>\n",
              "      <th>htm</th>\n",
              "      <th>vtm</th>\n",
              "      <th>opponent_team</th>\n",
              "    </tr>\n",
              "    <tr>\n",
              "      <th>game_date</th>\n",
              "      <th></th>\n",
              "      <th></th>\n",
              "      <th></th>\n",
              "    </tr>\n",
              "  </thead>\n",
              "  <tbody>\n",
              "    <tr>\n",
              "      <th>2015-04-18</th>\n",
              "      <td>GSW</td>\n",
              "      <td>NOP</td>\n",
              "      <td>NOP</td>\n",
              "    </tr>\n",
              "    <tr>\n",
              "      <th>2015-04-25</th>\n",
              "      <td>NOP</td>\n",
              "      <td>GSW</td>\n",
              "      <td>NOP</td>\n",
              "    </tr>\n",
              "    <tr>\n",
              "      <th>2014-11-11</th>\n",
              "      <td>GSW</td>\n",
              "      <td>SAS</td>\n",
              "      <td>SAS</td>\n",
              "    </tr>\n",
              "    <tr>\n",
              "      <th>2014-12-14</th>\n",
              "      <td>NOP</td>\n",
              "      <td>GSW</td>\n",
              "      <td>NOP</td>\n",
              "    </tr>\n",
              "    <tr>\n",
              "      <th>2017-03-06</th>\n",
              "      <td>ATL</td>\n",
              "      <td>GSW</td>\n",
              "      <td>ATL</td>\n",
              "    </tr>\n",
              "  </tbody>\n",
              "</table>\n",
              "</div>"
            ],
            "text/plain": [
              "            htm  vtm opponent_team\n",
              "game_date                         \n",
              "2015-04-18  GSW  NOP           NOP\n",
              "2015-04-25  NOP  GSW           NOP\n",
              "2014-11-11  GSW  SAS           SAS\n",
              "2014-12-14  NOP  GSW           NOP\n",
              "2017-03-06  ATL  GSW           ATL"
            ]
          },
          "metadata": {
            "tags": []
          },
          "execution_count": 36
        }
      ]
    },
    {
      "cell_type": "code",
      "metadata": {
        "id": "wY9mA7ojpbdG",
        "colab_type": "code",
        "colab": {
          "base_uri": "https://localhost:8080/",
          "height": 340
        },
        "outputId": "a824bf72-42f2-4a79-ead8-450e12b2e98b"
      },
      "source": [
        "# Check wrangle function pt1\n",
        "\n",
        "train.head(5)"
      ],
      "execution_count": 47,
      "outputs": [
        {
          "output_type": "execute_result",
          "data": {
            "text/html": [
              "<div>\n",
              "<style scoped>\n",
              "    .dataframe tbody tr th:only-of-type {\n",
              "        vertical-align: middle;\n",
              "    }\n",
              "\n",
              "    .dataframe tbody tr th {\n",
              "        vertical-align: top;\n",
              "    }\n",
              "\n",
              "    .dataframe thead th {\n",
              "        text-align: right;\n",
              "    }\n",
              "</style>\n",
              "<table border=\"1\" class=\"dataframe\">\n",
              "  <thead>\n",
              "    <tr style=\"text-align: right;\">\n",
              "      <th></th>\n",
              "      <th>game_id</th>\n",
              "      <th>game_event_id</th>\n",
              "      <th>player_name</th>\n",
              "      <th>period</th>\n",
              "      <th>minutes_remaining</th>\n",
              "      <th>seconds_remaining</th>\n",
              "      <th>action_type</th>\n",
              "      <th>shot_type</th>\n",
              "      <th>shot_zone_basic</th>\n",
              "      <th>shot_zone_area</th>\n",
              "      <th>shot_zone_range</th>\n",
              "      <th>shot_distance</th>\n",
              "      <th>loc_x</th>\n",
              "      <th>loc_y</th>\n",
              "      <th>shot_made_flag</th>\n",
              "      <th>htm</th>\n",
              "      <th>vtm</th>\n",
              "      <th>season_type</th>\n",
              "      <th>scoremargin_before_shot</th>\n",
              "      <th>homecout_advantage</th>\n",
              "      <th>opponent_team</th>\n",
              "      <th>seconds_remaining_in_period</th>\n",
              "      <th>seconds_remaining_in_game</th>\n",
              "      <th>made_previous_shot</th>\n",
              "    </tr>\n",
              "    <tr>\n",
              "      <th>game_date</th>\n",
              "      <th></th>\n",
              "      <th></th>\n",
              "      <th></th>\n",
              "      <th></th>\n",
              "      <th></th>\n",
              "      <th></th>\n",
              "      <th></th>\n",
              "      <th></th>\n",
              "      <th></th>\n",
              "      <th></th>\n",
              "      <th></th>\n",
              "      <th></th>\n",
              "      <th></th>\n",
              "      <th></th>\n",
              "      <th></th>\n",
              "      <th></th>\n",
              "      <th></th>\n",
              "      <th></th>\n",
              "      <th></th>\n",
              "      <th></th>\n",
              "      <th></th>\n",
              "      <th></th>\n",
              "      <th></th>\n",
              "      <th></th>\n",
              "    </tr>\n",
              "  </thead>\n",
              "  <tbody>\n",
              "    <tr>\n",
              "      <th>2009-10-28</th>\n",
              "      <td>20900015</td>\n",
              "      <td>4</td>\n",
              "      <td>Stephen Curry</td>\n",
              "      <td>1</td>\n",
              "      <td>11</td>\n",
              "      <td>25</td>\n",
              "      <td>Jump Shot</td>\n",
              "      <td>3PT Field Goal</td>\n",
              "      <td>Above the Break 3</td>\n",
              "      <td>Right Side Center(RC)</td>\n",
              "      <td>24+ ft.</td>\n",
              "      <td>26</td>\n",
              "      <td>99</td>\n",
              "      <td>249</td>\n",
              "      <td>0</td>\n",
              "      <td>GSW</td>\n",
              "      <td>HOU</td>\n",
              "      <td>Regular Season</td>\n",
              "      <td>2.0</td>\n",
              "      <td>True</td>\n",
              "      <td>HOU</td>\n",
              "      <td>685</td>\n",
              "      <td>2845</td>\n",
              "      <td>0.0</td>\n",
              "    </tr>\n",
              "    <tr>\n",
              "      <th>2009-10-28</th>\n",
              "      <td>20900015</td>\n",
              "      <td>17</td>\n",
              "      <td>Stephen Curry</td>\n",
              "      <td>1</td>\n",
              "      <td>9</td>\n",
              "      <td>31</td>\n",
              "      <td>Step Back Jump shot</td>\n",
              "      <td>2PT Field Goal</td>\n",
              "      <td>Mid-Range</td>\n",
              "      <td>Left Side Center(LC)</td>\n",
              "      <td>16-24 ft.</td>\n",
              "      <td>18</td>\n",
              "      <td>-122</td>\n",
              "      <td>145</td>\n",
              "      <td>1</td>\n",
              "      <td>GSW</td>\n",
              "      <td>HOU</td>\n",
              "      <td>Regular Season</td>\n",
              "      <td>0.0</td>\n",
              "      <td>True</td>\n",
              "      <td>HOU</td>\n",
              "      <td>571</td>\n",
              "      <td>2731</td>\n",
              "      <td>0.0</td>\n",
              "    </tr>\n",
              "    <tr>\n",
              "      <th>2009-10-28</th>\n",
              "      <td>20900015</td>\n",
              "      <td>53</td>\n",
              "      <td>Stephen Curry</td>\n",
              "      <td>1</td>\n",
              "      <td>6</td>\n",
              "      <td>2</td>\n",
              "      <td>Jump Shot</td>\n",
              "      <td>2PT Field Goal</td>\n",
              "      <td>In The Paint (Non-RA)</td>\n",
              "      <td>Center(C)</td>\n",
              "      <td>8-16 ft.</td>\n",
              "      <td>14</td>\n",
              "      <td>-60</td>\n",
              "      <td>129</td>\n",
              "      <td>0</td>\n",
              "      <td>GSW</td>\n",
              "      <td>HOU</td>\n",
              "      <td>Regular Season</td>\n",
              "      <td>-4.0</td>\n",
              "      <td>True</td>\n",
              "      <td>HOU</td>\n",
              "      <td>362</td>\n",
              "      <td>2522</td>\n",
              "      <td>1.0</td>\n",
              "    </tr>\n",
              "    <tr>\n",
              "      <th>2009-10-28</th>\n",
              "      <td>20900015</td>\n",
              "      <td>141</td>\n",
              "      <td>Stephen Curry</td>\n",
              "      <td>2</td>\n",
              "      <td>9</td>\n",
              "      <td>49</td>\n",
              "      <td>Jump Shot</td>\n",
              "      <td>2PT Field Goal</td>\n",
              "      <td>Mid-Range</td>\n",
              "      <td>Left Side(L)</td>\n",
              "      <td>16-24 ft.</td>\n",
              "      <td>19</td>\n",
              "      <td>-172</td>\n",
              "      <td>82</td>\n",
              "      <td>0</td>\n",
              "      <td>GSW</td>\n",
              "      <td>HOU</td>\n",
              "      <td>Regular Season</td>\n",
              "      <td>-4.0</td>\n",
              "      <td>True</td>\n",
              "      <td>HOU</td>\n",
              "      <td>589</td>\n",
              "      <td>2029</td>\n",
              "      <td>0.0</td>\n",
              "    </tr>\n",
              "    <tr>\n",
              "      <th>2009-10-28</th>\n",
              "      <td>20900015</td>\n",
              "      <td>249</td>\n",
              "      <td>Stephen Curry</td>\n",
              "      <td>2</td>\n",
              "      <td>2</td>\n",
              "      <td>19</td>\n",
              "      <td>Jump Shot</td>\n",
              "      <td>2PT Field Goal</td>\n",
              "      <td>Mid-Range</td>\n",
              "      <td>Left Side Center(LC)</td>\n",
              "      <td>16-24 ft.</td>\n",
              "      <td>16</td>\n",
              "      <td>-68</td>\n",
              "      <td>148</td>\n",
              "      <td>0</td>\n",
              "      <td>GSW</td>\n",
              "      <td>HOU</td>\n",
              "      <td>Regular Season</td>\n",
              "      <td>0.0</td>\n",
              "      <td>True</td>\n",
              "      <td>HOU</td>\n",
              "      <td>139</td>\n",
              "      <td>1579</td>\n",
              "      <td>0.0</td>\n",
              "    </tr>\n",
              "  </tbody>\n",
              "</table>\n",
              "</div>"
            ],
            "text/plain": [
              "             game_id  game_event_id    player_name  period  minutes_remaining  \\\n",
              "game_date                                                                       \n",
              "2009-10-28  20900015              4  Stephen Curry       1                 11   \n",
              "2009-10-28  20900015             17  Stephen Curry       1                  9   \n",
              "2009-10-28  20900015             53  Stephen Curry       1                  6   \n",
              "2009-10-28  20900015            141  Stephen Curry       2                  9   \n",
              "2009-10-28  20900015            249  Stephen Curry       2                  2   \n",
              "\n",
              "            seconds_remaining          action_type       shot_type  \\\n",
              "game_date                                                            \n",
              "2009-10-28                 25            Jump Shot  3PT Field Goal   \n",
              "2009-10-28                 31  Step Back Jump shot  2PT Field Goal   \n",
              "2009-10-28                  2            Jump Shot  2PT Field Goal   \n",
              "2009-10-28                 49            Jump Shot  2PT Field Goal   \n",
              "2009-10-28                 19            Jump Shot  2PT Field Goal   \n",
              "\n",
              "                  shot_zone_basic         shot_zone_area shot_zone_range  \\\n",
              "game_date                                                                  \n",
              "2009-10-28      Above the Break 3  Right Side Center(RC)         24+ ft.   \n",
              "2009-10-28              Mid-Range   Left Side Center(LC)       16-24 ft.   \n",
              "2009-10-28  In The Paint (Non-RA)              Center(C)        8-16 ft.   \n",
              "2009-10-28              Mid-Range           Left Side(L)       16-24 ft.   \n",
              "2009-10-28              Mid-Range   Left Side Center(LC)       16-24 ft.   \n",
              "\n",
              "            shot_distance  loc_x  loc_y  shot_made_flag  htm  vtm  \\\n",
              "game_date                                                           \n",
              "2009-10-28             26     99    249               0  GSW  HOU   \n",
              "2009-10-28             18   -122    145               1  GSW  HOU   \n",
              "2009-10-28             14    -60    129               0  GSW  HOU   \n",
              "2009-10-28             19   -172     82               0  GSW  HOU   \n",
              "2009-10-28             16    -68    148               0  GSW  HOU   \n",
              "\n",
              "               season_type  scoremargin_before_shot  homecout_advantage  \\\n",
              "game_date                                                                 \n",
              "2009-10-28  Regular Season                      2.0                True   \n",
              "2009-10-28  Regular Season                      0.0                True   \n",
              "2009-10-28  Regular Season                     -4.0                True   \n",
              "2009-10-28  Regular Season                     -4.0                True   \n",
              "2009-10-28  Regular Season                      0.0                True   \n",
              "\n",
              "           opponent_team  seconds_remaining_in_period  \\\n",
              "game_date                                               \n",
              "2009-10-28           HOU                          685   \n",
              "2009-10-28           HOU                          571   \n",
              "2009-10-28           HOU                          362   \n",
              "2009-10-28           HOU                          589   \n",
              "2009-10-28           HOU                          139   \n",
              "\n",
              "            seconds_remaining_in_game  made_previous_shot  \n",
              "game_date                                                  \n",
              "2009-10-28                       2845                 0.0  \n",
              "2009-10-28                       2731                 0.0  \n",
              "2009-10-28                       2522                 1.0  \n",
              "2009-10-28                       2029                 0.0  \n",
              "2009-10-28                       1579                 0.0  "
            ]
          },
          "metadata": {
            "tags": []
          },
          "execution_count": 47
        }
      ]
    },
    {
      "cell_type": "code",
      "metadata": {
        "id": "0snxhTVZtCmH",
        "colab_type": "code",
        "colab": {
          "base_uri": "https://localhost:8080/",
          "height": 340
        },
        "outputId": "77f1c69b-c52b-47a3-95fe-0c5d49a90e86"
      },
      "source": [
        "# Check wrangle function pt2\n",
        "\n",
        "train.sample(5)"
      ],
      "execution_count": 48,
      "outputs": [
        {
          "output_type": "execute_result",
          "data": {
            "text/html": [
              "<div>\n",
              "<style scoped>\n",
              "    .dataframe tbody tr th:only-of-type {\n",
              "        vertical-align: middle;\n",
              "    }\n",
              "\n",
              "    .dataframe tbody tr th {\n",
              "        vertical-align: top;\n",
              "    }\n",
              "\n",
              "    .dataframe thead th {\n",
              "        text-align: right;\n",
              "    }\n",
              "</style>\n",
              "<table border=\"1\" class=\"dataframe\">\n",
              "  <thead>\n",
              "    <tr style=\"text-align: right;\">\n",
              "      <th></th>\n",
              "      <th>game_id</th>\n",
              "      <th>game_event_id</th>\n",
              "      <th>player_name</th>\n",
              "      <th>period</th>\n",
              "      <th>minutes_remaining</th>\n",
              "      <th>seconds_remaining</th>\n",
              "      <th>action_type</th>\n",
              "      <th>shot_type</th>\n",
              "      <th>shot_zone_basic</th>\n",
              "      <th>shot_zone_area</th>\n",
              "      <th>shot_zone_range</th>\n",
              "      <th>shot_distance</th>\n",
              "      <th>loc_x</th>\n",
              "      <th>loc_y</th>\n",
              "      <th>shot_made_flag</th>\n",
              "      <th>htm</th>\n",
              "      <th>vtm</th>\n",
              "      <th>season_type</th>\n",
              "      <th>scoremargin_before_shot</th>\n",
              "      <th>homecout_advantage</th>\n",
              "      <th>opponent_team</th>\n",
              "      <th>seconds_remaining_in_period</th>\n",
              "      <th>seconds_remaining_in_game</th>\n",
              "      <th>made_previous_shot</th>\n",
              "    </tr>\n",
              "    <tr>\n",
              "      <th>game_date</th>\n",
              "      <th></th>\n",
              "      <th></th>\n",
              "      <th></th>\n",
              "      <th></th>\n",
              "      <th></th>\n",
              "      <th></th>\n",
              "      <th></th>\n",
              "      <th></th>\n",
              "      <th></th>\n",
              "      <th></th>\n",
              "      <th></th>\n",
              "      <th></th>\n",
              "      <th></th>\n",
              "      <th></th>\n",
              "      <th></th>\n",
              "      <th></th>\n",
              "      <th></th>\n",
              "      <th></th>\n",
              "      <th></th>\n",
              "      <th></th>\n",
              "      <th></th>\n",
              "      <th></th>\n",
              "      <th></th>\n",
              "      <th></th>\n",
              "    </tr>\n",
              "  </thead>\n",
              "  <tbody>\n",
              "    <tr>\n",
              "      <th>2014-01-26</th>\n",
              "      <td>21300660</td>\n",
              "      <td>309</td>\n",
              "      <td>Stephen Curry</td>\n",
              "      <td>3</td>\n",
              "      <td>7</td>\n",
              "      <td>43</td>\n",
              "      <td>Layup Shot</td>\n",
              "      <td>2PT Field Goal</td>\n",
              "      <td>Restricted Area</td>\n",
              "      <td>Center(C)</td>\n",
              "      <td>Less Than 8 ft.</td>\n",
              "      <td>2</td>\n",
              "      <td>-15</td>\n",
              "      <td>20</td>\n",
              "      <td>0</td>\n",
              "      <td>GSW</td>\n",
              "      <td>POR</td>\n",
              "      <td>Regular Season</td>\n",
              "      <td>3.0</td>\n",
              "      <td>True</td>\n",
              "      <td>POR</td>\n",
              "      <td>463</td>\n",
              "      <td>1183</td>\n",
              "      <td>1.0</td>\n",
              "    </tr>\n",
              "    <tr>\n",
              "      <th>2012-11-21</th>\n",
              "      <td>21200170</td>\n",
              "      <td>266</td>\n",
              "      <td>Stephen Curry</td>\n",
              "      <td>3</td>\n",
              "      <td>7</td>\n",
              "      <td>58</td>\n",
              "      <td>Turnaround Jump Shot</td>\n",
              "      <td>2PT Field Goal</td>\n",
              "      <td>Mid-Range</td>\n",
              "      <td>Left Side(L)</td>\n",
              "      <td>16-24 ft.</td>\n",
              "      <td>18</td>\n",
              "      <td>-183</td>\n",
              "      <td>3</td>\n",
              "      <td>0</td>\n",
              "      <td>GSW</td>\n",
              "      <td>BKN</td>\n",
              "      <td>Regular Season</td>\n",
              "      <td>-3.0</td>\n",
              "      <td>True</td>\n",
              "      <td>BKN</td>\n",
              "      <td>478</td>\n",
              "      <td>1198</td>\n",
              "      <td>0.0</td>\n",
              "    </tr>\n",
              "    <tr>\n",
              "      <th>2011-02-13</th>\n",
              "      <td>21000811</td>\n",
              "      <td>233</td>\n",
              "      <td>Stephen Curry</td>\n",
              "      <td>2</td>\n",
              "      <td>2</td>\n",
              "      <td>38</td>\n",
              "      <td>Layup Shot</td>\n",
              "      <td>2PT Field Goal</td>\n",
              "      <td>Restricted Area</td>\n",
              "      <td>Center(C)</td>\n",
              "      <td>Less Than 8 ft.</td>\n",
              "      <td>2</td>\n",
              "      <td>28</td>\n",
              "      <td>7</td>\n",
              "      <td>0</td>\n",
              "      <td>GSW</td>\n",
              "      <td>OKC</td>\n",
              "      <td>Regular Season</td>\n",
              "      <td>-2.0</td>\n",
              "      <td>True</td>\n",
              "      <td>OKC</td>\n",
              "      <td>158</td>\n",
              "      <td>1598</td>\n",
              "      <td>1.0</td>\n",
              "    </tr>\n",
              "    <tr>\n",
              "      <th>2010-11-24</th>\n",
              "      <td>21000217</td>\n",
              "      <td>353</td>\n",
              "      <td>Stephen Curry</td>\n",
              "      <td>3</td>\n",
              "      <td>6</td>\n",
              "      <td>28</td>\n",
              "      <td>Layup Shot</td>\n",
              "      <td>2PT Field Goal</td>\n",
              "      <td>Restricted Area</td>\n",
              "      <td>Center(C)</td>\n",
              "      <td>Less Than 8 ft.</td>\n",
              "      <td>1</td>\n",
              "      <td>7</td>\n",
              "      <td>11</td>\n",
              "      <td>0</td>\n",
              "      <td>HOU</td>\n",
              "      <td>GSW</td>\n",
              "      <td>Regular Season</td>\n",
              "      <td>-3.0</td>\n",
              "      <td>False</td>\n",
              "      <td>HOU</td>\n",
              "      <td>388</td>\n",
              "      <td>1108</td>\n",
              "      <td>1.0</td>\n",
              "    </tr>\n",
              "    <tr>\n",
              "      <th>2012-12-28</th>\n",
              "      <td>21200436</td>\n",
              "      <td>265</td>\n",
              "      <td>Stephen Curry</td>\n",
              "      <td>3</td>\n",
              "      <td>11</td>\n",
              "      <td>12</td>\n",
              "      <td>Pullup Jump shot</td>\n",
              "      <td>3PT Field Goal</td>\n",
              "      <td>Above the Break 3</td>\n",
              "      <td>Right Side Center(RC)</td>\n",
              "      <td>24+ ft.</td>\n",
              "      <td>27</td>\n",
              "      <td>185</td>\n",
              "      <td>197</td>\n",
              "      <td>0</td>\n",
              "      <td>GSW</td>\n",
              "      <td>PHI</td>\n",
              "      <td>Regular Season</td>\n",
              "      <td>17.0</td>\n",
              "      <td>True</td>\n",
              "      <td>PHI</td>\n",
              "      <td>672</td>\n",
              "      <td>1392</td>\n",
              "      <td>0.0</td>\n",
              "    </tr>\n",
              "  </tbody>\n",
              "</table>\n",
              "</div>"
            ],
            "text/plain": [
              "             game_id  game_event_id    player_name  period  minutes_remaining  \\\n",
              "game_date                                                                       \n",
              "2014-01-26  21300660            309  Stephen Curry       3                  7   \n",
              "2012-11-21  21200170            266  Stephen Curry       3                  7   \n",
              "2011-02-13  21000811            233  Stephen Curry       2                  2   \n",
              "2010-11-24  21000217            353  Stephen Curry       3                  6   \n",
              "2012-12-28  21200436            265  Stephen Curry       3                 11   \n",
              "\n",
              "            seconds_remaining           action_type       shot_type  \\\n",
              "game_date                                                             \n",
              "2014-01-26                 43            Layup Shot  2PT Field Goal   \n",
              "2012-11-21                 58  Turnaround Jump Shot  2PT Field Goal   \n",
              "2011-02-13                 38            Layup Shot  2PT Field Goal   \n",
              "2010-11-24                 28            Layup Shot  2PT Field Goal   \n",
              "2012-12-28                 12      Pullup Jump shot  3PT Field Goal   \n",
              "\n",
              "              shot_zone_basic         shot_zone_area  shot_zone_range  \\\n",
              "game_date                                                               \n",
              "2014-01-26    Restricted Area              Center(C)  Less Than 8 ft.   \n",
              "2012-11-21          Mid-Range           Left Side(L)        16-24 ft.   \n",
              "2011-02-13    Restricted Area              Center(C)  Less Than 8 ft.   \n",
              "2010-11-24    Restricted Area              Center(C)  Less Than 8 ft.   \n",
              "2012-12-28  Above the Break 3  Right Side Center(RC)          24+ ft.   \n",
              "\n",
              "            shot_distance  loc_x  loc_y  shot_made_flag  htm  vtm  \\\n",
              "game_date                                                           \n",
              "2014-01-26              2    -15     20               0  GSW  POR   \n",
              "2012-11-21             18   -183      3               0  GSW  BKN   \n",
              "2011-02-13              2     28      7               0  GSW  OKC   \n",
              "2010-11-24              1      7     11               0  HOU  GSW   \n",
              "2012-12-28             27    185    197               0  GSW  PHI   \n",
              "\n",
              "               season_type  scoremargin_before_shot  homecout_advantage  \\\n",
              "game_date                                                                 \n",
              "2014-01-26  Regular Season                      3.0                True   \n",
              "2012-11-21  Regular Season                     -3.0                True   \n",
              "2011-02-13  Regular Season                     -2.0                True   \n",
              "2010-11-24  Regular Season                     -3.0               False   \n",
              "2012-12-28  Regular Season                     17.0                True   \n",
              "\n",
              "           opponent_team  seconds_remaining_in_period  \\\n",
              "game_date                                               \n",
              "2014-01-26           POR                          463   \n",
              "2012-11-21           BKN                          478   \n",
              "2011-02-13           OKC                          158   \n",
              "2010-11-24           HOU                          388   \n",
              "2012-12-28           PHI                          672   \n",
              "\n",
              "            seconds_remaining_in_game  made_previous_shot  \n",
              "game_date                                                  \n",
              "2014-01-26                       1183                 1.0  \n",
              "2012-11-21                       1198                 0.0  \n",
              "2011-02-13                       1598                 1.0  \n",
              "2010-11-24                       1108                 1.0  \n",
              "2012-12-28                       1392                 0.0  "
            ]
          },
          "metadata": {
            "tags": []
          },
          "execution_count": 48
        }
      ]
    },
    {
      "cell_type": "code",
      "metadata": {
        "id": "7oZcNgXJpbdI",
        "colab_type": "code",
        "colab": {}
      },
      "source": [
        "# Arrange data into X features matrix and y target vector\n",
        "\n",
        "target = 'shot_made_flag'\n",
        "X_train = train.drop(columns=target)\n",
        "y_train = train[target]\n",
        "X_val = val.drop(columns=target)\n",
        "y_val = val[target]\n",
        "X_test = test.drop(columns=target)\n",
        "y_test = test[target]"
      ],
      "execution_count": 0,
      "outputs": []
    },
    {
      "cell_type": "code",
      "metadata": {
        "id": "tgIEKrTPpbdK",
        "colab_type": "code",
        "colab": {}
      },
      "source": [
        "# Apply ordinal encoder\n",
        "\n",
        "encoder = ce.OrdinalEncoder()\n",
        "X_train_encoded = encoder.fit_transform(X_train)\n",
        "X_val_encoded = encoder.fit_transform(X_val)\n",
        "X_test_encoded = encoder.fit_transform(X_test)"
      ],
      "execution_count": 0,
      "outputs": []
    },
    {
      "cell_type": "code",
      "metadata": {
        "id": "y4uxjjyApbdN",
        "colab_type": "code",
        "colab": {}
      },
      "source": [
        "# Create RandomForest model\n",
        "\n",
        "rfc = RandomForestClassifier(n_estimators=100, random_state=42, n_jobs=-1)\n",
        "rfc.fit(X_train_encoded, y_train);"
      ],
      "execution_count": 0,
      "outputs": []
    },
    {
      "cell_type": "code",
      "metadata": {
        "id": "nOfxsCEKpbdP",
        "colab_type": "code",
        "colab": {
          "base_uri": "https://localhost:8080/",
          "height": 34
        },
        "outputId": "44ba21b2-de05-4935-9cb7-bbe04674fd79"
      },
      "source": [
        "# Get validation accuracy\n",
        "\n",
        "y_pred_val = rfc.predict(X_val_encoded)\n",
        "print('Validation Accuracy', accuracy_score(y_val, y_pred_val))"
      ],
      "execution_count": 13,
      "outputs": [
        {
          "output_type": "stream",
          "text": [
            "Validation Accuracy 0.5924657534246576\n"
          ],
          "name": "stdout"
        }
      ]
    },
    {
      "cell_type": "code",
      "metadata": {
        "id": "tIidHxWOpbdR",
        "colab_type": "code",
        "colab": {
          "base_uri": "https://localhost:8080/",
          "height": 34
        },
        "outputId": "d4e3d07e-cc3d-49ed-c89c-c155e1913e03"
      },
      "source": [
        "# Get test accuracy\n",
        "\n",
        "y_pred_test = rfc.predict(X_test_encoded)\n",
        "print('Validation Accuracy', accuracy_score(y_test, y_pred_test))"
      ],
      "execution_count": 14,
      "outputs": [
        {
          "output_type": "stream",
          "text": [
            "Validation Accuracy 0.6079578700994733\n"
          ],
          "name": "stdout"
        }
      ]
    },
    {
      "cell_type": "code",
      "metadata": {
        "id": "6xDmwrfIpbdU",
        "colab_type": "code",
        "colab": {
          "base_uri": "https://localhost:8080/",
          "height": 607
        },
        "outputId": "b56049af-803b-4801-9a59-142417290570"
      },
      "source": [
        "# Get feature importances\n",
        "\n",
        "feature_names = encoder.transform(X_val).columns\n",
        "importances = pd.Series(rfc.feature_importances_, feature_names)\n",
        "\n",
        "# Plot feature importances\n",
        "n = 20\n",
        "plt.figure(figsize=(10,n/2))\n",
        "plt.title(f'Top {n} features')\n",
        "importances.sort_values()[-n:].plot.barh(color='grey');"
      ],
      "execution_count": 15,
      "outputs": [
        {
          "output_type": "display_data",
          "data": {
            "image/png": "[encoded data removed]",
            "text/plain": [
              "<Figure size 720x720 with 1 Axes>"
            ]
          },
          "metadata": {
            "tags": []
          }
        }
      ]
    },
    {
      "cell_type": "code",
      "metadata": {
        "id": "pusar92TpbdW",
        "colab_type": "code",
        "colab": {}
      },
      "source": [
        ""
      ],
      "execution_count": 0,
      "outputs": []
    },
    {
      "cell_type": "code",
      "metadata": {
        "id": "Br9DjF7cpbdZ",
        "colab_type": "code",
        "colab": {
          "base_uri": "https://localhost:8080/",
          "height": 187
        },
        "outputId": "4906f377-7842-47f6-d07c-445744daa566"
      },
      "source": [
        "# Imaginary Confusion Matrix Calculations\n",
        "\n",
        "cm = np.array([[85, 58], [8, 36]])\n",
        "\n",
        "true_positive = 36\n",
        "false_positive = 58\n",
        "true_negative = 85\n",
        "false_negative = 8\n",
        "\n",
        "accurate_predictions = true_positive + true_negative\n",
        "inaccurate_predictions = false_positive + false_negative\n",
        "total_predictions = accurate_predictions + inaccurate_predictions\n",
        "accuracy = accurate_predictions / total_predictions\n",
        "\n",
        "precision_negative = (true_negative)/(true_negative+false_negative)\n",
        "precision_positive = (true_positive)/(true_positive+false_positive)\n",
        "recall_negative = (true_negative)/(true_negative+false_positive)\n",
        "recall_positive = (true_positive)/(true_positive+false_negative)\n",
        "\n",
        "f1_score_negative = (2*precision_negative*recall_negative) / (precision_negative+recall_negative)\n",
        "f1_score_positive = (2*precision_positive*recall_positive) / (precision_positive+recall_positive)\n",
        "\n",
        "print(cm)\n",
        "print()\n",
        "print(\"Accuracy: \", accuracy)\n",
        "print(\"Precision negative: \", precision_negative)\n",
        "print(\"Precision positive: \", precision_positive)\n",
        "print(\"Recall negative: \", recall_negative)\n",
        "print(\"Recall positive: \", recall_positive)\n",
        "print(\"F1-score negative: \", f1_score_negative)\n",
        "print(\"F1-score positive: \", f1_score_positive)"
      ],
      "execution_count": 54,
      "outputs": [
        {
          "output_type": "stream",
          "text": [
            "[[85 58]\n",
            " [ 8 36]]\n",
            "\n",
            "Accuracy:  0.6470588235294118\n",
            "Precision negative:  0.9139784946236559\n",
            "Precision positive:  0.3829787234042553\n",
            "Recall negative:  0.5944055944055944\n",
            "Recall positive:  0.8181818181818182\n",
            "F1-score negative:  0.7203389830508474\n",
            "F1-score positive:  0.5217391304347826\n"
          ],
          "name": "stdout"
        }
      ]
    },
    {
      "cell_type": "code",
      "metadata": {
        "id": "lnM4ujtqpbdb",
        "colab_type": "code",
        "colab": {}
      },
      "source": [
        ""
      ],
      "execution_count": 0,
      "outputs": []
    },
    {
      "cell_type": "code",
      "metadata": {
        "id": "eajnvPbnpbdd",
        "colab_type": "code",
        "colab": {
          "base_uri": "https://localhost:8080/",
          "height": 51
        },
        "outputId": "1ea50f98-fa78-4042-ba01-ddaf701d96b2"
      },
      "source": [
        "# Get Confusion Matrix for Steph Curry shots  on validation data\n",
        "\n",
        "cm = confusion_matrix(y_val, y_pred_val)\n",
        "cm"
      ],
      "execution_count": 17,
      "outputs": [
        {
          "output_type": "execute_result",
          "data": {
            "text/plain": [
              "array([[413, 190],\n",
              "       [286, 279]])"
            ]
          },
          "metadata": {
            "tags": []
          },
          "execution_count": 17
        }
      ]
    },
    {
      "cell_type": "code",
      "metadata": {
        "id": "Qg3hxwTCpbdg",
        "colab_type": "code",
        "colab": {
          "base_uri": "https://localhost:8080/",
          "height": 269
        },
        "outputId": "65682509-009a-4eac-9b4b-b5e69d728b6a"
      },
      "source": [
        "# Plot Confusion Matrix Heatmap for Steph Curry shots\n",
        "\n",
        "def plot_confusion_matrix(y_true,y_pred,normalize=False):\n",
        "    columns = [f'Predicted \"{c}\"' for c in unique_labels(y_true)]\n",
        "    index_names = [f'Actual \"{c}\"' for c in unique_labels(y_true)]\n",
        "    cm = confusion_matrix(y_val, y_pred)\n",
        "    if normalize:\n",
        "        cm = cm/cm.sum(axis=1).reshape(y_true.nunique(),1)\n",
        "    df = pd.DataFrame(cm, columns = columns , index= index_names)\n",
        "    sns.heatmap(df, cmap='viridis', annot=True, fmt='.2f');\n",
        "\n",
        "plot_confusion_matrix(y_val, y_pred_val, True)"
      ],
      "execution_count": 18,
      "outputs": [
        {
          "output_type": "display_data",
          "data": {
            "image/png": "[encoded data removed]",
            "text/plain": [
              "<Figure size 432x288 with 2 Axes>"
            ]
          },
          "metadata": {
            "tags": []
          }
        }
      ]
    },
    {
      "cell_type": "code",
      "metadata": {
        "id": "12iatZ5Mpbdl",
        "colab_type": "code",
        "colab": {
          "base_uri": "https://localhost:8080/",
          "height": 170
        },
        "outputId": "adc18704-1d0f-4578-89f0-7178baf46fe5"
      },
      "source": [
        "# Print Classification Report for Steph Curry Shots\n",
        "\n",
        "print(classification_report(y_val, y_pred_val))"
      ],
      "execution_count": 19,
      "outputs": [
        {
          "output_type": "stream",
          "text": [
            "              precision    recall  f1-score   support\n",
            "\n",
            "           0       0.59      0.68      0.63       603\n",
            "           1       0.59      0.49      0.54       565\n",
            "\n",
            "    accuracy                           0.59      1168\n",
            "   macro avg       0.59      0.59      0.59      1168\n",
            "weighted avg       0.59      0.59      0.59      1168\n",
            "\n"
          ],
          "name": "stdout"
        }
      ]
    },
    {
      "cell_type": "code",
      "metadata": {
        "id": "Ge4D5xzwpbdq",
        "colab_type": "code",
        "colab": {}
      },
      "source": [
        ""
      ],
      "execution_count": 0,
      "outputs": []
    }
  ]
}