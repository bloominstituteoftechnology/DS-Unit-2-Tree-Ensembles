{
  "nbformat": 4,
  "nbformat_minor": 0,
  "metadata": {
    "colab": {
      "name": "Trees, Forests, and Pumps.ipynb",
      "version": "0.3.2",
      "provenance": [],
      "include_colab_link": true
    },
    "kernelspec": {
      "name": "python3",
      "display_name": "Python 3"
    }
  },
  "cells": [
    {
      "cell_type": "markdown",
      "metadata": {
        "id": "view-in-github",
        "colab_type": "text"
      },
      "source": [
        "<a href=\"https://colab.research.google.com/github/zevan07/DS-Unit-2-Tree-Ensembles/blob/master/Trees%2C_Forests%2C_and_Pumps.ipynb\" target=\"_parent\"><img src=\"https://colab.research.google.com/assets/colab-badge.svg\" alt=\"Open In Colab\"/></a>"
      ]
    },
    {
      "cell_type": "code",
      "metadata": {
        "id": "ze8AmGikbQS0",
        "colab_type": "code",
        "outputId": "53ceaebe-0530-4df2-83b3-a9dc44304642",
        "colab": {
          "base_uri": "https://localhost:8080/",
          "height": 336
        }
      },
      "source": [
        "!pip install category_encoders"
      ],
      "execution_count": 1,
      "outputs": [
        {
          "output_type": "stream",
          "text": [
            "Collecting category_encoders\n",
            "\u001b[?25l  Downloading https://files.pythonhosted.org/packages/6e/a1/f7a22f144f33be78afeb06bfa78478e8284a64263a3c09b1ef54e673841e/category_encoders-2.0.0-py2.py3-none-any.whl (87kB)\n",
            "\u001b[K     |████████████████████████████████| 92kB 5.7MB/s \n",
            "\u001b[?25hRequirement already satisfied: patsy>=0.4.1 in /usr/local/lib/python3.6/dist-packages (from category_encoders) (0.5.1)\n",
            "Requirement already satisfied: statsmodels>=0.6.1 in /usr/local/lib/python3.6/dist-packages (from category_encoders) (0.10.0)\n",
            "Requirement already satisfied: numpy>=1.11.3 in /usr/local/lib/python3.6/dist-packages (from category_encoders) (1.16.4)\n",
            "Requirement already satisfied: pandas>=0.21.1 in /usr/local/lib/python3.6/dist-packages (from category_encoders) (0.24.2)\n",
            "Requirement already satisfied: scipy>=0.19.0 in /usr/local/lib/python3.6/dist-packages (from category_encoders) (1.3.0)\n",
            "Requirement already satisfied: scikit-learn>=0.20.0 in /usr/local/lib/python3.6/dist-packages (from category_encoders) (0.21.2)\n",
            "Requirement already satisfied: six in /usr/local/lib/python3.6/dist-packages (from patsy>=0.4.1->category_encoders) (1.12.0)\n",
            "Requirement already satisfied: python-dateutil>=2.5.0 in /usr/local/lib/python3.6/dist-packages (from pandas>=0.21.1->category_encoders) (2.5.3)\n",
            "Requirement already satisfied: pytz>=2011k in /usr/local/lib/python3.6/dist-packages (from pandas>=0.21.1->category_encoders) (2018.9)\n",
            "Requirement already satisfied: joblib>=0.11 in /usr/local/lib/python3.6/dist-packages (from scikit-learn>=0.20.0->category_encoders) (0.13.2)\n",
            "Installing collected packages: category-encoders\n",
            "Successfully installed category-encoders-2.0.0\n"
          ],
          "name": "stdout"
        }
      ]
    },
    {
      "cell_type": "code",
      "metadata": {
        "id": "CDZTH3wIajJF",
        "colab_type": "code",
        "colab": {}
      },
      "source": [
        "import pandas as pd\n",
        "import numpy as np\n",
        "import matplotlib.pyplot as plt\n",
        "import category_encoders as ce\n",
        "from sklearn.tree import DecisionTreeClassifier\n",
        "from sklearn.metrics import accuracy_score\n",
        "from sklearn.model_selection import train_test_split\n",
        "from sklearn.preprocessing import StandardScaler\n",
        "from sklearn.preprocessing import RobustScaler\n",
        "from sklearn.ensemble import RandomForestClassifier\n",
        "from sklearn.ensemble import RandomForestRegressor\n",
        "from sklearn.pipeline import make_pipeline\n",
        "from sklearn.impute import SimpleImputer\n",
        "import seaborn as sns"
      ],
      "execution_count": 0,
      "outputs": []
    },
    {
      "cell_type": "code",
      "metadata": {
        "id": "cg9xDOcWazwL",
        "colab_type": "code",
        "colab": {}
      },
      "source": [
        "WEB = 'https://raw.githubusercontent.com/LambdaSchool/DS-Unit-2-Linear-Models/master/data/tanzania/'\n",
        "train_features = pd.read_csv(WEB + 'train_features.csv')\n",
        "train_labels = pd.read_csv(WEB + 'train_labels.csv')\n",
        "test_features = pd.read_csv(WEB + 'test_features.csv')\n",
        "sample_submission = pd.read_csv(WEB + 'sample_submission.csv')"
      ],
      "execution_count": 0,
      "outputs": []
    },
    {
      "cell_type": "code",
      "metadata": {
        "id": "gPbvLfdpbDzD",
        "colab_type": "code",
        "outputId": "fe8f8ed3-4ea8-452f-8dd1-355860e456bb",
        "colab": {
          "base_uri": "https://localhost:8080/",
          "height": 34
        }
      },
      "source": [
        "X_train = train_features\n",
        "y_train = train_labels['status_group']\n",
        "\n",
        "X_train, X_val, y_train, y_val, = train_test_split(\n",
        "    X_train, y_train, train_size=.8, test_size=.2,\n",
        "    stratify=y_train, random_state=42)\n",
        "\n",
        "X_train.shape, X_val.shape, y_train.shape, y_val.shape"
      ],
      "execution_count": 4,
      "outputs": [
        {
          "output_type": "execute_result",
          "data": {
            "text/plain": [
              "((47520, 40), (11880, 40), (47520,), (11880,))"
            ]
          },
          "metadata": {
            "tags": []
          },
          "execution_count": 4
        }
      ]
    },
    {
      "cell_type": "code",
      "metadata": {
        "id": "pOlga1wRgI7E",
        "colab_type": "code",
        "colab": {}
      },
      "source": [
        "train = pd.merge(train_features, train_labels)\n",
        "test = test_features\n",
        "\n",
        "train, val = train_test_split(train, train_size=0.80, test_size=0.20, \n",
        "                             stratify=train['status_group'], random_state=42)"
      ],
      "execution_count": 0,
      "outputs": []
    },
    {
      "cell_type": "code",
      "metadata": {
        "id": "2nzg5cJ_eMT9",
        "colab_type": "code",
        "colab": {}
      },
      "source": [
        "def wrangle(X):\n",
        "    X = X.copy()\n",
        "    X['latitude'] = X['latitude'].replace(-2e-08, np.nan)\n",
        "    \n",
        "    cols_with_zeros = ['construction_year', 'longitude', 'latitude']\n",
        "    for col in cols_with_zeros:\n",
        "        X[col] = X[col].replace(0, np.nan)\n",
        "        X[col] = X[col].fillna(X[col].mean())\n",
        "        \n",
        "    X['date_recorded'] = pd.to_datetime(X['date_recorded'], infer_datetime_format=True)\n",
        "    X['year_recorded'] = X['date_recorded'].dt.year\n",
        "    X['month_recorded'] = X['date_recorded'].dt.month\n",
        "    X['day_recorded'] = X['date_recorded'].dt.day\n",
        "    X = X.drop(columns='date_recorded')\n",
        "    \n",
        "    # years from construction to date recorded\n",
        "    X['years'] = X['year_recorded'] - X['construction_year']\n",
        "    \n",
        "    # drop random and unvarying columns\n",
        "    X = X.drop(columns=['recorded_by', 'id'])\n",
        "    \n",
        "    # drop duplicate columns\n",
        "    X = X.drop(columns='quantity_group')\n",
        "    \n",
        "    \n",
        "    \n",
        "    categoricals = X.select_dtypes(exclude='number').columns\n",
        "    for col in categoricals:\n",
        "        X[col] = X[col].fillna('MISSING')\n",
        "        \n",
        "    return X\n",
        "\n",
        "train = wrangle(train)\n",
        "val = wrangle(val)\n",
        "test = wrangle(test)"
      ],
      "execution_count": 0,
      "outputs": []
    },
    {
      "cell_type": "code",
      "metadata": {
        "id": "lklriFaiW_99",
        "colab_type": "code",
        "colab": {}
      },
      "source": [
        "target = 'status_group'\n",
        "\n",
        "train_features = train.drop(columns=[target])\n",
        "\n",
        "numeric_features = train_features.select_dtypes(include='number').columns.tolist()\n",
        "\n",
        "cardinality = train_features.select_dtypes(exclude='number').nunique()\n",
        "\n",
        "categorical_features = cardinality[cardinality <= 50].index.tolist()\n",
        "\n",
        "features = numeric_features + categorical_features"
      ],
      "execution_count": 0,
      "outputs": []
    },
    {
      "cell_type": "code",
      "metadata": {
        "id": "M4JojvaZ5nfJ",
        "colab_type": "code",
        "outputId": "ce06b438-2405-45da-c8a4-a8ecf4d2db88",
        "colab": {
          "base_uri": "https://localhost:8080/",
          "height": 34
        }
      },
      "source": [
        "X_train = train[features]\n",
        "y_train = train[target]\n",
        "X_val = val[features]\n",
        "y_val = val[target]\n",
        "X_test = test[features]\n",
        "\n",
        "pipeline = make_pipeline(ce.OrdinalEncoder(),\n",
        "                         SimpleImputer(strategy='median'),\n",
        "                         RandomForestClassifier(n_estimators=100, random_state=42, n_jobs=1)\n",
        ")\n",
        "\n",
        "pipeline.fit(X_train, y_train)\n",
        "print('Validation Accuracy', pipeline.score(X_val, y_val))"
      ],
      "execution_count": 11,
      "outputs": [
        {
          "output_type": "stream",
          "text": [
            "Validation Accuracy 0.8089225589225589\n"
          ],
          "name": "stdout"
        }
      ]
    },
    {
      "cell_type": "markdown",
      "metadata": {
        "id": "DHUPGimtbpaK",
        "colab_type": "text"
      },
      "source": [
        "## Decision Tree Classifier"
      ]
    },
    {
      "cell_type": "code",
      "metadata": {
        "id": "l1WRvL2_bo8m",
        "colab_type": "code",
        "outputId": "e0d2fb72-3c11-4742-88d8-1e31433e782a",
        "colab": {
          "base_uri": "https://localhost:8080/",
          "height": 34
        }
      },
      "source": [
        "X_train = train[features]\n",
        "y_train = train[target]\n",
        "X_val = val[features]\n",
        "y_val = val[target]\n",
        "X_test = test[features]\n",
        "\n",
        "pipeline = make_pipeline(ce.OrdinalEncoder(),\n",
        "                         SimpleImputer(strategy='median'),\n",
        "                         DecisionTreeClassifier(max_depth=16, random_state=42)\n",
        ")\n",
        "\n",
        "pipeline.fit(X_train, y_train)\n",
        "print('Validation Accuracy', pipeline.score(X_val, y_val))"
      ],
      "execution_count": 9,
      "outputs": [
        {
          "output_type": "stream",
          "text": [
            "Validation Accuracy 0.7724747474747474\n"
          ],
          "name": "stdout"
        }
      ]
    },
    {
      "cell_type": "code",
      "metadata": {
        "id": "Uoza9xuYcHVc",
        "colab_type": "code",
        "outputId": "c9de8f34-3d1d-43bb-ee7f-c82e207a19cb",
        "colab": {
          "base_uri": "https://localhost:8080/",
          "height": 373
        }
      },
      "source": [
        "# get feature importances\n",
        "rf = pipeline.named_steps['randomforestclassifier']\n",
        "importances = pd.Series(rf.feature_importances_, X_train.columns)\n",
        "\n",
        "n = 10\n",
        "plt.figure(figsize = (10, n/2))\n",
        "plt.title(f'Top {n} features')\n",
        "importances.sort_values(ascending=False)[-n:].plot.barh(color='grey')"
      ],
      "execution_count": 12,
      "outputs": [
        {
          "output_type": "execute_result",
          "data": {
            "text/plain": [
              "<matplotlib.axes._subplots.AxesSubplot at 0x7fb29950c0b8>"
            ]
          },
          "metadata": {
            "tags": []
          },
          "execution_count": 12
        },
        {
          "output_type": "display_data",
          "data": {
            "image/png": "[encoded data removed]",
            "text/plain": [
              "<Figure size 720x360 with 1 Axes>"
            ]
          },
          "metadata": {
            "tags": []
          }
        }
      ]
    },
    {
      "cell_type": "markdown",
      "metadata": {
        "id": "uoeaRWRobmTi",
        "colab_type": "text"
      },
      "source": [
        "## Random Forest Classifier"
      ]
    },
    {
      "cell_type": "code",
      "metadata": {
        "id": "Jogga_f5XkEZ",
        "colab_type": "code",
        "colab": {}
      },
      "source": [
        "X_train = train[features]\n",
        "y_train = train[target]\n",
        "X_val = val[features]\n",
        "y_val = val[target]\n",
        "X_test = test[features]\n",
        "\n",
        "pipeline = make_pipeline(ce.OrdinalEncoder(),\n",
        "                         SimpleImputer(strategy='median'),\n",
        "                         RandomForestClassifier(n_estimators=100, random_state=42, n_jobs=1)\n",
        ")\n",
        "\n",
        "pipeline.fit(X_train, y_train)\n",
        "print('Validation Accuracy', pipeline.score(X_val, y_val))"
      ],
      "execution_count": 0,
      "outputs": []
    },
    {
      "cell_type": "code",
      "metadata": {
        "id": "Y2waqvVlXgmg",
        "colab_type": "code",
        "colab": {}
      },
      "source": [
        "# get feature importances\n",
        "encoder = pipeline.named_steps['ordinalencoder']\n",
        "tree = pipeline.named_steps['randomforestclassifier']\n",
        "feature_names = encoder.transform(X_val).columns\n",
        "importances = pd.Series(tree.feature_importances_, feature_names)\n",
        "\n",
        "n = 10\n",
        "plt.figure(figsize = (10, n/2))\n",
        "plt.title(f'Top {n} features')\n",
        "importances.sort_values(ascending=False)[-n:].plot.barh(color='grey')"
      ],
      "execution_count": 0,
      "outputs": []
    },
    {
      "cell_type": "code",
      "metadata": {
        "id": "IbVRdYILd-Rs",
        "colab_type": "code",
        "colab": {}
      },
      "source": [
        "X_train = train[features]\n",
        "y_train = train[target]\n",
        "X_val = val[features]\n",
        "y_val = val[target]\n",
        "X_test = test[features]\n",
        "\n",
        "pipeline = make_pipeline(ce.OrdinalEncoder(),\n",
        "                         SimpleImputer(strategy='median'),\n",
        "                         RandomForestClassifier(n_estimators=100, random_state=42, n_jobs=1)\n",
        ")\n",
        "\n",
        "pipeline.fit(X_train, y_train)\n",
        "print('Validation Accuracy', pipeline.score(X_val, y_val))"
      ],
      "execution_count": 0,
      "outputs": []
    },
    {
      "cell_type": "markdown",
      "metadata": {
        "id": "NeH-wI0d9oR7",
        "colab_type": "text"
      },
      "source": [
        "### Submission CSV"
      ]
    },
    {
      "cell_type": "code",
      "metadata": {
        "id": "JqzQLubYgWW9",
        "colab_type": "code",
        "colab": {}
      },
      "source": [
        "# y_pred = pipeline.predict(X_test)\n",
        "\n",
        "# # Write submission csv file\n",
        "# submission = sample_submission.copy()\n",
        "# submission['status_group'] = y_pred\n",
        "# submission.to_csv('submission-05.csv', index=False)"
      ],
      "execution_count": 0,
      "outputs": []
    },
    {
      "cell_type": "markdown",
      "metadata": {
        "id": "YhhPbZvQgvmb",
        "colab_type": "text"
      },
      "source": [
        "## Exploring Feature Effects"
      ]
    },
    {
      "cell_type": "code",
      "metadata": {
        "id": "kTN78c7Dgyup",
        "colab_type": "code",
        "colab": {}
      },
      "source": [
        "feature = 'quantity'"
      ],
      "execution_count": 0,
      "outputs": []
    },
    {
      "cell_type": "code",
      "metadata": {
        "id": "B4Ow_Otog0iP",
        "colab_type": "code",
        "colab": {}
      },
      "source": [
        "X_train[feature].value_counts()"
      ],
      "execution_count": 0,
      "outputs": []
    },
    {
      "cell_type": "code",
      "metadata": {
        "id": "-bbQ80TRg3zp",
        "colab_type": "code",
        "colab": {}
      },
      "source": [
        "for feature in categorical_features:\n",
        "    plt.figure()\n",
        "    sns.barplot(x=train[feature], \n",
        "                y=train['status_group'] == 'functional');"
      ],
      "execution_count": 0,
      "outputs": []
    },
    {
      "cell_type": "code",
      "metadata": {
        "id": "DpD7XfGFhAXg",
        "colab_type": "code",
        "colab": {}
      },
      "source": [
        "for feature in numeric_features:\n",
        "    plt.figure()\n",
        "    plt.scatter(train[feature], train['status_group'])\n",
        "    plt.title(feature)"
      ],
      "execution_count": 0,
      "outputs": []
    },
    {
      "cell_type": "markdown",
      "metadata": {
        "id": "wuB7wTT9_1TI",
        "colab_type": "text"
      },
      "source": [
        "## Confusion Matrix"
      ]
    },
    {
      "cell_type": "code",
      "metadata": {
        "id": "1sMW3YOXF2PP",
        "colab_type": "code",
        "colab": {}
      },
      "source": [
        "y_pred = pipeline.predict(X_val)"
      ],
      "execution_count": 0,
      "outputs": []
    },
    {
      "cell_type": "code",
      "metadata": {
        "id": "qvhOF2kqv00Z",
        "colab_type": "code",
        "outputId": "21cb0396-2e51-45f5-e033-eb1159b452ba",
        "colab": {
          "base_uri": "https://localhost:8080/",
          "height": 68
        }
      },
      "source": [
        "from sklearn.metrics import confusion_matrix\n",
        "confusion_matrix(y_val, y_pred)"
      ],
      "execution_count": 15,
      "outputs": [
        {
          "output_type": "execute_result",
          "data": {
            "text/plain": [
              "array([[5696,  205,  551],\n",
              "       [ 422,  294,  147],\n",
              "       [ 866,   79, 3620]])"
            ]
          },
          "metadata": {
            "tags": []
          },
          "execution_count": 15
        }
      ]
    },
    {
      "cell_type": "code",
      "metadata": {
        "id": "isZNPqyI_7MW",
        "colab_type": "code",
        "outputId": "f5575777-9002-4477-9c06-84f47eea4f0a",
        "colab": {
          "base_uri": "https://localhost:8080/",
          "height": 51
        }
      },
      "source": [
        "from sklearn.utils.multiclass import unique_labels\n",
        "unique_labels(y_val)"
      ],
      "execution_count": 16,
      "outputs": [
        {
          "output_type": "execute_result",
          "data": {
            "text/plain": [
              "array(['functional', 'functional needs repair', 'non functional'],\n",
              "      dtype='<U23')"
            ]
          },
          "metadata": {
            "tags": []
          },
          "execution_count": 16
        }
      ]
    },
    {
      "cell_type": "code",
      "metadata": {
        "id": "FmD4IeExGZJw",
        "colab_type": "code",
        "outputId": "3294001a-846f-4cc9-c8a4-05a450515632",
        "colab": {
          "base_uri": "https://localhost:8080/",
          "height": 51
        }
      },
      "source": [
        "pipeline.named_steps['randomforestclassifier'].classes_"
      ],
      "execution_count": 17,
      "outputs": [
        {
          "output_type": "execute_result",
          "data": {
            "text/plain": [
              "array(['functional', 'functional needs repair', 'non functional'],\n",
              "      dtype=object)"
            ]
          },
          "metadata": {
            "tags": []
          },
          "execution_count": 17
        }
      ]
    },
    {
      "cell_type": "code",
      "metadata": {
        "id": "s3SRQETzGjPM",
        "colab_type": "code",
        "outputId": "ef438357-1640-4b01-c267-8f2ff7d4b7cf",
        "colab": {
          "base_uri": "https://localhost:8080/",
          "height": 425
        }
      },
      "source": [
        "def plot_confusion_matrix(y_true, y_pred):\n",
        "    labels = unique_labels(y_true)\n",
        "    columns = [f'Predicted {label}' for label in labels]\n",
        "    index = [f'Actual {label}' for label in labels]\n",
        "    table = pd.DataFrame(confusion_matrix(y_true, y_pred),\n",
        "                         columns=columns, index=index)\n",
        "    return sns.heatmap(table, annot=True, fmt='d', cmap='viridis')\n",
        "\n",
        "plot_confusion_matrix(y_val, y_pred);"
      ],
      "execution_count": 18,
      "outputs": [
        {
          "output_type": "display_data",
          "data": {
            "image/png": "[encoded data removed]",
            "text/plain": [
              "<Figure size 432x288 with 2 Axes>"
            ]
          },
          "metadata": {
            "tags": []
          }
        }
      ]
    },
    {
      "cell_type": "code",
      "metadata": {
        "id": "fsPDGFfNIH0_",
        "colab_type": "code",
        "colab": {}
      },
      "source": [
        "from sklearn.metrics import classification_report\n",
        "print(classification_report(y_val, y_pred))"
      ],
      "execution_count": 0,
      "outputs": []
    },
    {
      "cell_type": "markdown",
      "metadata": {
        "id": "pcBUFodfU7MP",
        "colab_type": "text"
      },
      "source": [
        "## ROC AUC or Area Under the Receiver Operating Characteristic Curve"
      ]
    },
    {
      "cell_type": "code",
      "metadata": {
        "id": "Uk9DCFvcVVFW",
        "colab_type": "code",
        "colab": {}
      },
      "source": [
        ""
      ],
      "execution_count": 0,
      "outputs": []
    },
    {
      "cell_type": "markdown",
      "metadata": {
        "id": "T6vjBuEqPW73",
        "colab_type": "text"
      },
      "source": [
        "## Work from \"Visualizing Machine Learning Thresholds\""
      ]
    },
    {
      "cell_type": "markdown",
      "metadata": {
        "id": "AQ6C7cO3QG7W",
        "colab_type": "text"
      },
      "source": [
        "### Applied to article's data"
      ]
    },
    {
      "cell_type": "code",
      "metadata": {
        "id": "NPCdib-gTvmB",
        "colab_type": "code",
        "colab": {}
      },
      "source": [
        "df = pd.read_csv('bigml_59c28831336c6604c800002a.csv')\n",
        "\n",
        "df.head()"
      ],
      "execution_count": 0,
      "outputs": []
    },
    {
      "cell_type": "code",
      "metadata": {
        "id": "bpHicxvrMgNq",
        "colab_type": "code",
        "colab": {}
      },
      "source": [
        "from sklearn.metrics import precision_recall_curve\n",
        "from sklearn.preprocessing import LabelEncoder\n",
        "\n",
        "# df = pd.read_csv('bigml_59c28831336c6604c800002a.csv')\n",
        "\n",
        "# # Preprocessing\n",
        "# df.columns = [c.lower().replace(' ', '_').replace('?','').replace(\"'\", \"\") for c in df.columns]\n",
        "\n",
        "# state_encoder = LabelEncoder()\n",
        "# df.state = state_encoder.fit_transform(df.state)\n",
        "\n",
        "# del df['phone_number']\n",
        "# binary_columns = ['international_plan', 'voice_mail_plan', 'churn']\n",
        "# for col in binary_columns:\n",
        "#     df[col] = df[col].map({\n",
        "#          'no': 0\n",
        "#     ,    'False.': 0\n",
        "#     ,    'yes': 1\n",
        "#     ,    'True.': 1\n",
        "#     })\n",
        "    \n",
        "# Build classifier and get predictions\n",
        "clf = RandomForestClassifier(n_estimators=50, oob_score=True)\n",
        "test_size_percent = 0.1\n",
        "\n",
        "signals = df[[c for c in df.columns if c != 'churn']]\n",
        "labels = df['churn']\n",
        "\n",
        "train_signals, test_signals, train_labels, test_labels = train_test_split(signals, labels, test_size=test_size_percent)\n",
        "\n",
        "clf.fit(train_signals, train_labels)\n",
        "\n",
        "predictions = clf.predict_proba(test_signals)[:,1]"
      ],
      "execution_count": 0,
      "outputs": []
    },
    {
      "cell_type": "code",
      "metadata": {
        "id": "EmOPva_lQOsz",
        "colab_type": "code",
        "colab": {}
      },
      "source": [
        "precision, recall, thresholds = precision_recall_curve(test_labels, predictions)\n",
        "thresholds = np.append(thresholds, 1)\n",
        "\n",
        "queue_rate = []"
      ],
      "execution_count": 0,
      "outputs": []
    }
  ]
}