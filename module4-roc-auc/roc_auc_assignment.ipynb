{
 "cells": [
  {
   "cell_type": "code",
   "execution_count": 5,
   "metadata": {},
   "outputs": [
    {
     "name": "stdout",
     "output_type": "stream",
     "text": [
      "128334 historical loans\n",
      "128334 current loans\n"
     ]
    }
   ],
   "source": [
    "%matplotlib inline\n",
    "import pandas as pd\n",
    "import matplotlib.pyplot as plt\n",
    "from scipy.stats import percentileofscore\n",
    "import seaborn as sns\n",
    "from tqdm import tnrange\n",
    "\n",
    "pd.options.display.max_columns = 200\n",
    "pd.options.display.max_rows = 200\n",
    "\n",
    "source = '../data/lendingclub/'\n",
    "\n",
    "# Stratified sample, 10% of expired Lending Club loans, grades A-D\n",
    "# Source: https://www.lendingclub.com/info/download-data.action\n",
    "history = pd.read_csv(source + 'lending-club-subset.csv')\n",
    "history['issue_d'] = pd.to_datetime(history['issue_d'], infer_datetime_format = True)\n",
    "\n",
    "# Current loans available for manual investing, June 17, 2019\n",
    "# Source: https://www.lendingclub.com/browse/browse.action\n",
    "current = pd.read_csv(source + 'primaryMarketNotes_browseNotes_1-RETAIL.csv')\n",
    "\n",
    "# print # of observations\n",
    "print(f'{len(history)} historical loans')\n",
    "print(f'{len(history)} current loans')"
   ]
  },
  {
   "cell_type": "code",
   "execution_count": 7,
   "metadata": {},
   "outputs": [
    {
     "data": {
      "text/html": [
       "<div>\n",
       "<style scoped>\n",
       "    .dataframe tbody tr th:only-of-type {\n",
       "        vertical-align: middle;\n",
       "    }\n",
       "\n",
       "    .dataframe tbody tr th {\n",
       "        vertical-align: top;\n",
       "    }\n",
       "\n",
       "    .dataframe thead th {\n",
       "        text-align: right;\n",
       "    }\n",
       "</style>\n",
       "<table border=\"1\" class=\"dataframe\">\n",
       "  <thead>\n",
       "    <tr style=\"text-align: right;\">\n",
       "      <th></th>\n",
       "      <th>count</th>\n",
       "      <th>mean</th>\n",
       "      <th>std</th>\n",
       "      <th>min</th>\n",
       "      <th>25%</th>\n",
       "      <th>50%</th>\n",
       "      <th>75%</th>\n",
       "      <th>max</th>\n",
       "    </tr>\n",
       "    <tr>\n",
       "      <th>loan_status</th>\n",
       "      <th></th>\n",
       "      <th></th>\n",
       "      <th></th>\n",
       "      <th></th>\n",
       "      <th></th>\n",
       "      <th></th>\n",
       "      <th></th>\n",
       "      <th></th>\n",
       "    </tr>\n",
       "  </thead>\n",
       "  <tbody>\n",
       "    <tr>\n",
       "      <th>Charged Off</th>\n",
       "      <td>22477.0</td>\n",
       "      <td>0.546541</td>\n",
       "      <td>0.278077</td>\n",
       "      <td>0.0</td>\n",
       "      <td>0.327761</td>\n",
       "      <td>0.514006</td>\n",
       "      <td>0.742090</td>\n",
       "      <td>1.490546</td>\n",
       "    </tr>\n",
       "    <tr>\n",
       "      <th>Fully Paid</th>\n",
       "      <td>105857.0</td>\n",
       "      <td>1.146904</td>\n",
       "      <td>0.089759</td>\n",
       "      <td>1.0</td>\n",
       "      <td>1.083836</td>\n",
       "      <td>1.132098</td>\n",
       "      <td>1.195798</td>\n",
       "      <td>1.623628</td>\n",
       "    </tr>\n",
       "  </tbody>\n",
       "</table>\n",
       "</div>"
      ],
      "text/plain": [
       "                count      mean       std  min       25%       50%       75%  \\\n",
       "loan_status                                                                    \n",
       "Charged Off   22477.0  0.546541  0.278077  0.0  0.327761  0.514006  0.742090   \n",
       "Fully Paid   105857.0  1.146904  0.089759  1.0  1.083836  1.132098  1.195798   \n",
       "\n",
       "                  max  \n",
       "loan_status            \n",
       "Charged Off  1.490546  \n",
       "Fully Paid   1.623628  "
      ]
     },
     "execution_count": 7,
     "metadata": {},
     "output_type": "execute_result"
    }
   ],
   "source": [
    "# calculate % of each loan repaid\n",
    "history['percent_paid'] = history['total_pymnt'] / history['funded_amnt']\n",
    "\n",
    "# see % paid for charged off vs fully paid loans\n",
    "history.groupby('loan_status')['percent_paid'].describe()"
   ]
  },
  {
   "cell_type": "markdown",
   "metadata": {},
   "source": [
    "### Build baseline --> what would we get if we took a random decision"
   ]
  },
  {
   "cell_type": "code",
   "execution_count": 8,
   "metadata": {},
   "outputs": [
    {
     "data": {
      "application/vnd.jupyter.widget-view+json": {
       "model_id": "fef30112b20840519470f4a5aaaaed94",
       "version_major": 2,
       "version_minor": 0
      },
      "text/plain": [
       "HBox(children=(IntProgress(value=0, max=10000), HTML(value='')))"
      ]
     },
     "metadata": {},
     "output_type": "display_data"
    },
    {
     "name": "stdout",
     "output_type": "stream",
     "text": [
      "\n"
     ]
    },
    {
     "data": {
      "image/png": "[encoded data removed]",
      "text/plain": [
       "<Figure size 432x288 with 1 Axes>"
      ]
     },
     "metadata": {
      "needs_background": "light"
     },
     "output_type": "display_data"
    }
   ],
   "source": [
    "def simulate(n=10000, grades=['A','B','C','D'], \n",
    "             start_date='2007-07-01', \n",
    "             end_date='2019-03-01'):\n",
    "    \"\"\"\n",
    "    What if you picked 40 random loans for $25 investments?\n",
    "    How much would you have been paid back?\n",
    "    \n",
    "    Repeat the simulation many times, and plot the distribution \n",
    "    of probable outcomes.\n",
    "    \n",
    "    This doesn't consider fees or \"time value of money.\"\n",
    "    \"\"\"\n",
    "    \n",
    "    condition = ((history['grade'].isin(grades)) & \n",
    "                 (history['issue_d'] >= start_date) &\n",
    "                 (history['issue_d'] <= end_date))\n",
    "    possible = history[condition]\n",
    "    \n",
    "    simulations = []\n",
    "    for _ in tnrange(n):\n",
    "        picks = possible.sample(40).copy()\n",
    "        picks['paid'] = 25 * picks['percent_paid']\n",
    "        paid = picks['paid'].sum()\n",
    "        simulations.append(paid)\n",
    "        \n",
    "    simulations = pd.Series(simulations)\n",
    "    sns.distplot(simulations)\n",
    "    plt.axvline(x=1000)\n",
    "    percent = percentileofscore(simulations, 1000)\n",
    "    plt.title(f'{percent}% of simulations did not profit. {start_date}-{end_date}, {grades}')\n",
    "\n",
    "simulate()"
   ]
  },
  {
   "cell_type": "code",
   "execution_count": 9,
   "metadata": {},
   "outputs": [
    {
     "data": {
      "application/vnd.jupyter.widget-view+json": {
       "model_id": "c8d14192dbce49f6a3a8113738eea103",
       "version_major": 2,
       "version_minor": 0
      },
      "text/plain": [
       "HBox(children=(IntProgress(value=0, max=10000), HTML(value='')))"
      ]
     },
     "metadata": {},
     "output_type": "display_data"
    },
    {
     "name": "stdout",
     "output_type": "stream",
     "text": [
      "\n"
     ]
    },
    {
     "data": {
      "image/png": "[encoded data removed]",
      "text/plain": [
       "<Figure size 432x288 with 1 Axes>"
      ]
     },
     "metadata": {
      "needs_background": "light"
     },
     "output_type": "display_data"
    }
   ],
   "source": [
    "simulate(grades=['A'])"
   ]
  },
  {
   "cell_type": "code",
   "execution_count": 10,
   "metadata": {},
   "outputs": [
    {
     "data": {
      "application/vnd.jupyter.widget-view+json": {
       "model_id": "cb35334ef1764c5cb2af48f2b783462f",
       "version_major": 2,
       "version_minor": 0
      },
      "text/plain": [
       "HBox(children=(IntProgress(value=0, max=10000), HTML(value='')))"
      ]
     },
     "metadata": {},
     "output_type": "display_data"
    },
    {
     "name": "stdout",
     "output_type": "stream",
     "text": [
      "\n"
     ]
    },
    {
     "data": {
      "image/png": "[encoded data removed]",
      "text/plain": [
       "<Figure size 432x288 with 1 Axes>"
      ]
     },
     "metadata": {
      "needs_background": "light"
     },
     "output_type": "display_data"
    }
   ],
   "source": [
    "simulate(grades=['D'])"
   ]
  },
  {
   "cell_type": "markdown",
   "metadata": {},
   "source": [
    "## Wrangle data\n",
    "<br>\n",
    "<li> Engineer data based features\n",
    "<li> Remove features to avoid leakage\n",
    "<li> Do 3-way split, train / validate / test"
   ]
  },
  {
   "cell_type": "code",
   "execution_count": 11,
   "metadata": {},
   "outputs": [],
   "source": [
    "# Engineer date-based features\n",
    "\n",
    "# Transform earliest_cr_line to an integer:\n",
    "# How many days the earliest credit line was open, before the loan was issued.\n",
    "# For current loans available for manual investing, assume the loan will be issued today.\n",
    "history['earliest_cr_line'] = pd.to_datetime(history['earliest_cr_line'], infer_datetime_format=True)\n",
    "history['earliest_cr_line'] = history['issue_d'] - history['earliest_cr_line']\n",
    "history['earliest_cr_line'] = history['earliest_cr_line'].dt.days\n",
    "\n",
    "current['earliest_cr_line'] = pd.to_datetime(current['earliest_cr_line'], infer_datetime_format=True)\n",
    "current['earliest_cr_line'] = pd.Timestamp.today() - current['earliest_cr_line']\n",
    "current['earliest_cr_line'] = current['earliest_cr_line'].dt.days\n",
    "\n",
    "# Transform earliest_cr_line for the secondary applicant\n",
    "history['sec_app_earliest_cr_line'] = pd.to_datetime(history['sec_app_earliest_cr_line'], infer_datetime_format=True, errors='coerce')\n",
    "history['sec_app_earliest_cr_line'] = history['issue_d'] - history['sec_app_earliest_cr_line']\n",
    "history['sec_app_earliest_cr_line'] = history['sec_app_earliest_cr_line'].dt.days\n",
    "\n",
    "current['sec_app_earliest_cr_line'] = pd.to_datetime(current['sec_app_earliest_cr_line'], infer_datetime_format=True, errors='coerce')\n",
    "current['sec_app_earliest_cr_line'] = pd.Timestamp.today() - current['sec_app_earliest_cr_line']\n",
    "current['sec_app_earliest_cr_line'] = current['sec_app_earliest_cr_line'].dt.days\n",
    "\n",
    "# Engineer features for issue date year & month\n",
    "history['issue_d_year'] = history['issue_d'].dt.year\n",
    "history['issue_d_month'] = history['issue_d'].dt.month\n",
    "\n",
    "current['issue_d_year'] = pd.Timestamp.today().year\n",
    "current['issue_d_month'] = pd.Timestamp.today().month"
   ]
  },
  {
   "cell_type": "code",
   "execution_count": 12,
   "metadata": {},
   "outputs": [],
   "source": [
    "common_columns = set(history.columns) & set(current.columns)\n",
    "just_history = set(history.columns) - set(current.columns)\n",
    "just_current = set(current.columns) - set(history.columns)"
   ]
  },
  {
   "cell_type": "code",
   "execution_count": 13,
   "metadata": {},
   "outputs": [],
   "source": [
    "# Train on the historical data.\n",
    "# For features, use only the common columns shared by the historical & current data.\n",
    "# For the target, use `loan_status` ('Fully Paid' or 'Charged Off')\n",
    "\n",
    "features = list(common_columns)\n",
    "target = 'loan_status'\n",
    "X = history[features]\n",
    "y = history[target]"
   ]
  },
  {
   "cell_type": "code",
   "execution_count": 14,
   "metadata": {},
   "outputs": [
    {
     "name": "stdout",
     "output_type": "stream",
     "text": [
      "X_train shape (88334, 108)\n",
      "y_train shape (88334,)\n",
      "X_val shape (20000, 108)\n",
      "y_val shape (20000,)\n",
      "X_test shape (20000, 108)\n",
      "y_test shape (20000,)\n"
     ]
    }
   ],
   "source": [
    "# Do train/validate/test 3-way split\n",
    "\n",
    "from sklearn.model_selection import train_test_split\n",
    "\n",
    "X_trainval, X_test, y_trainval, y_test = train_test_split(\n",
    "    X, y, test_size=20000, stratify=y, random_state=42)\n",
    "\n",
    "X_train, X_val, y_train, y_val = train_test_split(\n",
    "    X_trainval, y_trainval, test_size=20000, \n",
    "    stratify=y_trainval, random_state=42)\n",
    "\n",
    "print('X_train shape', X_train.shape)\n",
    "print('y_train shape', y_train.shape)\n",
    "print('X_val shape', X_val.shape)\n",
    "print('y_val shape', y_val.shape)\n",
    "print('X_test shape', X_test.shape)\n",
    "print('y_test shape', y_test.shape)"
   ]
  },
  {
   "cell_type": "markdown",
   "metadata": {},
   "source": [
    "## Show why accuracy is misleading with imbalanced classes"
   ]
  },
  {
   "cell_type": "code",
   "execution_count": 15,
   "metadata": {},
   "outputs": [
    {
     "data": {
      "text/plain": [
       "Fully Paid     0.824858\n",
       "Charged Off    0.175142\n",
       "Name: loan_status, dtype: float64"
      ]
     },
     "execution_count": 15,
     "metadata": {},
     "output_type": "execute_result"
    }
   ],
   "source": [
    "y_train.value_counts(normalize=True)"
   ]
  },
  {
   "cell_type": "code",
   "execution_count": 16,
   "metadata": {},
   "outputs": [
    {
     "data": {
      "text/plain": [
       "0.82485"
      ]
     },
     "execution_count": 16,
     "metadata": {},
     "output_type": "execute_result"
    }
   ],
   "source": [
    "import numpy as np\n",
    "from sklearn.metrics import accuracy_score\n",
    "majority_class = y_train.mode()[0]\n",
    "y_pred = np.full_like(y_val, fill_value=majority_class)\n",
    "accuracy_score(y_val, y_pred)"
   ]
  },
  {
   "cell_type": "markdown",
   "metadata": {},
   "source": [
    "## confusion matrix for majority class baseline model"
   ]
  },
  {
   "cell_type": "code",
   "execution_count": 17,
   "metadata": {},
   "outputs": [],
   "source": [
    "from sklearn.metrics import confusion_matrix\n",
    "from sklearn.utils.multiclass import unique_labels\n",
    "\n",
    "def plot_confusion_matrix(y_true, y_pred):\n",
    "    labels = unique_labels(y_true)\n",
    "    columns = [f'Predicted {label}' for label in labels]\n",
    "    index = [f'Actual {label}' for label in labels]\n",
    "    table = pd.DataFrame(confusion_matrix(y_true, y_pred), \n",
    "                         columns=columns, index=index)\n",
    "    return sns.heatmap(table, annot=True, fmt='d', cmap='viridis')"
   ]
  },
  {
   "cell_type": "code",
   "execution_count": 18,
   "metadata": {},
   "outputs": [
    {
     "data": {
      "image/png": "[encoded data removed]",
      "text/plain": [
       "<Figure size 432x288 with 2 Axes>"
      ]
     },
     "metadata": {
      "needs_background": "light"
     },
     "output_type": "display_data"
    }
   ],
   "source": [
    "plot_confusion_matrix(y_val, y_pred);"
   ]
  },
  {
   "cell_type": "code",
   "execution_count": 19,
   "metadata": {},
   "outputs": [
    {
     "name": "stderr",
     "output_type": "stream",
     "text": [
      "C:\\Users\\andre\\AppData\\Roaming\\Python\\Python37\\site-packages\\sklearn\\metrics\\classification.py:1437: UndefinedMetricWarning: Precision and F-score are ill-defined and being set to 0.0 in labels with no predicted samples.\n",
      "  'precision', 'predicted', average, warn_for)\n"
     ]
    },
    {
     "name": "stdout",
     "output_type": "stream",
     "text": [
      "              precision    recall  f1-score   support\n",
      "\n",
      " Charged Off       0.00      0.00      0.00      3503\n",
      "  Fully Paid       0.82      1.00      0.90     16497\n",
      "\n",
      "    accuracy                           0.82     20000\n",
      "   macro avg       0.41      0.50      0.45     20000\n",
      "weighted avg       0.68      0.82      0.75     20000\n",
      "\n"
     ]
    }
   ],
   "source": [
    "from sklearn.metrics import classification_report\n",
    "print(classification_report(y_val, y_pred))"
   ]
  },
  {
   "cell_type": "markdown",
   "metadata": {},
   "source": [
    "## Get AUC score"
   ]
  },
  {
   "cell_type": "code",
   "execution_count": 28,
   "metadata": {},
   "outputs": [
    {
     "data": {
      "text/plain": [
       "0.5"
      ]
     },
     "execution_count": 28,
     "metadata": {},
     "output_type": "execute_result"
    }
   ],
   "source": [
    "from sklearn.metrics import roc_auc_score\n",
    "\n",
    "# What if we predicted 100% probability of the positive class for every prediction?\n",
    "# This is like the majority class baseline, but with predicted probabilities,\n",
    "# instead of just discrete classes.\n",
    "# VERY IMPORTANT — Use predicted probabilities with ROC AUC score!\n",
    "# Because, it's a metric of how well you rank/sort predicted probabilities.\n",
    "y_pred_proba = np.full_like(y_val, fill_value=1.00)\n",
    "roc_auc_score(y_val, y_pred_proba)"
   ]
  },
  {
   "cell_type": "code",
   "execution_count": 29,
   "metadata": {},
   "outputs": [
    {
     "data": {
      "text/plain": [
       "0.5"
      ]
     },
     "execution_count": 29,
     "metadata": {},
     "output_type": "execute_result"
    }
   ],
   "source": [
    "# ROC AUC is 0.50 by definition when predicting any constant probability value\n",
    "y_pred_proba = np.full_like(y_val, fill_value=0)\n",
    "roc_auc_score(y_val, y_pred_proba)"
   ]
  },
  {
   "cell_type": "code",
   "execution_count": 30,
   "metadata": {},
   "outputs": [
    {
     "data": {
      "text/plain": [
       "0.5"
      ]
     },
     "execution_count": 30,
     "metadata": {},
     "output_type": "execute_result"
    }
   ],
   "source": [
    "y_pred_proba = np.full_like(y_val, fill_value=0.50)\n",
    "roc_auc_score(y_val, y_pred_proba)"
   ]
  },
  {
   "cell_type": "code",
   "execution_count": 31,
   "metadata": {},
   "outputs": [
    {
     "data": {
      "text/plain": [
       "Fully Paid     16497\n",
       "Charged Off     3503\n",
       "Name: loan_status, dtype: int64"
      ]
     },
     "execution_count": 31,
     "metadata": {},
     "output_type": "execute_result"
    }
   ],
   "source": [
    "y_val.value_counts()"
   ]
  },
  {
   "cell_type": "code",
   "execution_count": 32,
   "metadata": {},
   "outputs": [
    {
     "ename": "TypeError",
     "evalue": "cannot unpack non-iterable numpy.float64 object",
     "output_type": "error",
     "traceback": [
      "\u001b[1;31m---------------------------------------------------------------------------\u001b[0m",
      "\u001b[1;31mTypeError\u001b[0m                                 Traceback (most recent call last)",
      "\u001b[1;32m<ipython-input-32-077734f01ab5>\u001b[0m in \u001b[0;36m<module>\u001b[1;34m\u001b[0m\n\u001b[0;32m      1\u001b[0m \u001b[1;31m# Plot ROC curve\u001b[0m\u001b[1;33m\u001b[0m\u001b[1;33m\u001b[0m\u001b[1;33m\u001b[0m\u001b[0m\n\u001b[1;32m----> 2\u001b[1;33m \u001b[0mfpr\u001b[0m\u001b[1;33m,\u001b[0m \u001b[0mtpr\u001b[0m\u001b[1;33m,\u001b[0m \u001b[0mthresholds\u001b[0m \u001b[1;33m=\u001b[0m \u001b[0mroc_auc_score\u001b[0m\u001b[1;33m(\u001b[0m\u001b[0my_val\u001b[0m\u001b[1;33m==\u001b[0m\u001b[1;34m'Charged Off'\u001b[0m\u001b[1;33m,\u001b[0m \u001b[0my_pred_proba\u001b[0m\u001b[1;33m)\u001b[0m\u001b[1;33m\u001b[0m\u001b[1;33m\u001b[0m\u001b[0m\n\u001b[0m\u001b[0;32m      3\u001b[0m \u001b[0mplt\u001b[0m\u001b[1;33m.\u001b[0m\u001b[0mplot\u001b[0m\u001b[1;33m(\u001b[0m\u001b[0mfpr\u001b[0m\u001b[1;33m,\u001b[0m \u001b[0mtpr\u001b[0m\u001b[1;33m)\u001b[0m\u001b[1;33m\u001b[0m\u001b[1;33m\u001b[0m\u001b[0m\n\u001b[0;32m      4\u001b[0m \u001b[0mplt\u001b[0m\u001b[1;33m.\u001b[0m\u001b[0mtitle\u001b[0m\u001b[1;33m(\u001b[0m\u001b[1;34m'ROC curve'\u001b[0m\u001b[1;33m)\u001b[0m\u001b[1;33m\u001b[0m\u001b[1;33m\u001b[0m\u001b[0m\n\u001b[0;32m      5\u001b[0m \u001b[0mplt\u001b[0m\u001b[1;33m.\u001b[0m\u001b[0mxlabel\u001b[0m\u001b[1;33m(\u001b[0m\u001b[1;34m'False Positive Rate'\u001b[0m\u001b[1;33m)\u001b[0m\u001b[1;33m\u001b[0m\u001b[1;33m\u001b[0m\u001b[0m\n",
      "\u001b[1;31mTypeError\u001b[0m: cannot unpack non-iterable numpy.float64 object"
     ]
    }
   ],
   "source": [
    "# Plot ROC curve\n",
    "fpr, tpr, thresholds = roc_auc_score(y_val=='Charged Off', y_pred_proba)\n",
    "plt.plot(fpr, tpr)\n",
    "plt.title('ROC curve')\n",
    "plt.xlabel('False Positive Rate')\n",
    "plt.ylabel('True Positive Rate');"
   ]
  },
  {
   "cell_type": "markdown",
   "metadata": {},
   "source": [
    "## Fit a model\n",
    "\n",
    "count missing values"
   ]
  },
  {
   "cell_type": "code",
   "execution_count": 33,
   "metadata": {},
   "outputs": [
    {
     "data": {
      "text/html": [
       "<div>\n",
       "<style scoped>\n",
       "    .dataframe tbody tr th:only-of-type {\n",
       "        vertical-align: middle;\n",
       "    }\n",
       "\n",
       "    .dataframe tbody tr th {\n",
       "        vertical-align: top;\n",
       "    }\n",
       "\n",
       "    .dataframe thead th {\n",
       "        text-align: right;\n",
       "    }\n",
       "</style>\n",
       "<table border=\"1\" class=\"dataframe\">\n",
       "  <thead>\n",
       "    <tr style=\"text-align: right;\">\n",
       "      <th></th>\n",
       "      <th>index</th>\n",
       "      <th>0</th>\n",
       "    </tr>\n",
       "  </thead>\n",
       "  <tbody>\n",
       "    <tr>\n",
       "      <th>0</th>\n",
       "      <td>member_id</td>\n",
       "      <td>88334</td>\n",
       "    </tr>\n",
       "    <tr>\n",
       "      <th>1</th>\n",
       "      <td>sec_app_mths_since_last_major_derog</td>\n",
       "      <td>87855</td>\n",
       "    </tr>\n",
       "    <tr>\n",
       "      <th>2</th>\n",
       "      <td>sec_app_revol_util</td>\n",
       "      <td>86968</td>\n",
       "    </tr>\n",
       "    <tr>\n",
       "      <th>3</th>\n",
       "      <td>sec_app_chargeoff_within_12_mths</td>\n",
       "      <td>86954</td>\n",
       "    </tr>\n",
       "    <tr>\n",
       "      <th>4</th>\n",
       "      <td>sec_app_fico_range_low</td>\n",
       "      <td>86954</td>\n",
       "    </tr>\n",
       "    <tr>\n",
       "      <th>5</th>\n",
       "      <td>sec_app_collections_12_mths_ex_med</td>\n",
       "      <td>86954</td>\n",
       "    </tr>\n",
       "    <tr>\n",
       "      <th>6</th>\n",
       "      <td>sec_app_mort_acc</td>\n",
       "      <td>86954</td>\n",
       "    </tr>\n",
       "    <tr>\n",
       "      <th>7</th>\n",
       "      <td>sec_app_fico_range_high</td>\n",
       "      <td>86954</td>\n",
       "    </tr>\n",
       "    <tr>\n",
       "      <th>8</th>\n",
       "      <td>sec_app_num_rev_accts</td>\n",
       "      <td>86954</td>\n",
       "    </tr>\n",
       "    <tr>\n",
       "      <th>9</th>\n",
       "      <td>revol_bal_joint</td>\n",
       "      <td>86954</td>\n",
       "    </tr>\n",
       "    <tr>\n",
       "      <th>10</th>\n",
       "      <td>sec_app_inq_last_6mths</td>\n",
       "      <td>86954</td>\n",
       "    </tr>\n",
       "    <tr>\n",
       "      <th>11</th>\n",
       "      <td>sec_app_earliest_cr_line</td>\n",
       "      <td>86954</td>\n",
       "    </tr>\n",
       "    <tr>\n",
       "      <th>12</th>\n",
       "      <td>sec_app_open_act_il</td>\n",
       "      <td>86954</td>\n",
       "    </tr>\n",
       "    <tr>\n",
       "      <th>13</th>\n",
       "      <td>sec_app_open_acc</td>\n",
       "      <td>86954</td>\n",
       "    </tr>\n",
       "    <tr>\n",
       "      <th>14</th>\n",
       "      <td>annual_inc_joint</td>\n",
       "      <td>86466</td>\n",
       "    </tr>\n",
       "    <tr>\n",
       "      <th>15</th>\n",
       "      <td>dti_joint</td>\n",
       "      <td>86466</td>\n",
       "    </tr>\n",
       "    <tr>\n",
       "      <th>16</th>\n",
       "      <td>desc</td>\n",
       "      <td>80636</td>\n",
       "    </tr>\n",
       "    <tr>\n",
       "      <th>17</th>\n",
       "      <td>mths_since_last_record</td>\n",
       "      <td>73555</td>\n",
       "    </tr>\n",
       "    <tr>\n",
       "      <th>18</th>\n",
       "      <td>mths_since_recent_bc_dlq</td>\n",
       "      <td>67516</td>\n",
       "    </tr>\n",
       "    <tr>\n",
       "      <th>19</th>\n",
       "      <td>mths_since_last_major_derog</td>\n",
       "      <td>65450</td>\n",
       "    </tr>\n",
       "    <tr>\n",
       "      <th>20</th>\n",
       "      <td>mths_since_recent_revol_delinq</td>\n",
       "      <td>58921</td>\n",
       "    </tr>\n",
       "    <tr>\n",
       "      <th>21</th>\n",
       "      <td>il_util</td>\n",
       "      <td>55438</td>\n",
       "    </tr>\n",
       "    <tr>\n",
       "      <th>22</th>\n",
       "      <td>mths_since_rcnt_il</td>\n",
       "      <td>51093</td>\n",
       "    </tr>\n",
       "    <tr>\n",
       "      <th>23</th>\n",
       "      <td>open_il_12m</td>\n",
       "      <td>50085</td>\n",
       "    </tr>\n",
       "    <tr>\n",
       "      <th>24</th>\n",
       "      <td>inq_last_12m</td>\n",
       "      <td>50085</td>\n",
       "    </tr>\n",
       "    <tr>\n",
       "      <th>25</th>\n",
       "      <td>max_bal_bc</td>\n",
       "      <td>50085</td>\n",
       "    </tr>\n",
       "    <tr>\n",
       "      <th>26</th>\n",
       "      <td>open_rv_24m</td>\n",
       "      <td>50085</td>\n",
       "    </tr>\n",
       "    <tr>\n",
       "      <th>27</th>\n",
       "      <td>open_rv_12m</td>\n",
       "      <td>50085</td>\n",
       "    </tr>\n",
       "    <tr>\n",
       "      <th>28</th>\n",
       "      <td>open_act_il</td>\n",
       "      <td>50085</td>\n",
       "    </tr>\n",
       "    <tr>\n",
       "      <th>29</th>\n",
       "      <td>open_acc_6m</td>\n",
       "      <td>50085</td>\n",
       "    </tr>\n",
       "    <tr>\n",
       "      <th>30</th>\n",
       "      <td>total_cu_tl</td>\n",
       "      <td>50085</td>\n",
       "    </tr>\n",
       "    <tr>\n",
       "      <th>31</th>\n",
       "      <td>inq_fi</td>\n",
       "      <td>50085</td>\n",
       "    </tr>\n",
       "    <tr>\n",
       "      <th>32</th>\n",
       "      <td>all_util</td>\n",
       "      <td>50085</td>\n",
       "    </tr>\n",
       "    <tr>\n",
       "      <th>33</th>\n",
       "      <td>open_il_24m</td>\n",
       "      <td>50085</td>\n",
       "    </tr>\n",
       "    <tr>\n",
       "      <th>34</th>\n",
       "      <td>total_bal_il</td>\n",
       "      <td>50085</td>\n",
       "    </tr>\n",
       "    <tr>\n",
       "      <th>35</th>\n",
       "      <td>mths_since_last_delinq</td>\n",
       "      <td>44913</td>\n",
       "    </tr>\n",
       "    <tr>\n",
       "      <th>36</th>\n",
       "      <td>mths_since_recent_inq</td>\n",
       "      <td>11771</td>\n",
       "    </tr>\n",
       "    <tr>\n",
       "      <th>37</th>\n",
       "      <td>num_tl_120dpd_2m</td>\n",
       "      <td>7490</td>\n",
       "    </tr>\n",
       "    <tr>\n",
       "      <th>38</th>\n",
       "      <td>mo_sin_old_il_acct</td>\n",
       "      <td>6685</td>\n",
       "    </tr>\n",
       "    <tr>\n",
       "      <th>39</th>\n",
       "      <td>emp_title</td>\n",
       "      <td>5733</td>\n",
       "    </tr>\n",
       "    <tr>\n",
       "      <th>40</th>\n",
       "      <td>emp_length</td>\n",
       "      <td>5218</td>\n",
       "    </tr>\n",
       "    <tr>\n",
       "      <th>41</th>\n",
       "      <td>pct_tl_nvr_dlq</td>\n",
       "      <td>4163</td>\n",
       "    </tr>\n",
       "    <tr>\n",
       "      <th>42</th>\n",
       "      <td>avg_cur_bal</td>\n",
       "      <td>4157</td>\n",
       "    </tr>\n",
       "    <tr>\n",
       "      <th>43</th>\n",
       "      <td>num_accts_ever_120_pd</td>\n",
       "      <td>4156</td>\n",
       "    </tr>\n",
       "    <tr>\n",
       "      <th>44</th>\n",
       "      <td>num_tl_op_past_12m</td>\n",
       "      <td>4156</td>\n",
       "    </tr>\n",
       "    <tr>\n",
       "      <th>45</th>\n",
       "      <td>total_il_high_credit_limit</td>\n",
       "      <td>4156</td>\n",
       "    </tr>\n",
       "    <tr>\n",
       "      <th>46</th>\n",
       "      <td>tot_hi_cred_lim</td>\n",
       "      <td>4156</td>\n",
       "    </tr>\n",
       "    <tr>\n",
       "      <th>47</th>\n",
       "      <td>tot_cur_bal</td>\n",
       "      <td>4156</td>\n",
       "    </tr>\n",
       "    <tr>\n",
       "      <th>48</th>\n",
       "      <td>num_tl_30dpd</td>\n",
       "      <td>4156</td>\n",
       "    </tr>\n",
       "    <tr>\n",
       "      <th>49</th>\n",
       "      <td>mo_sin_old_rev_tl_op</td>\n",
       "      <td>4156</td>\n",
       "    </tr>\n",
       "    <tr>\n",
       "      <th>50</th>\n",
       "      <td>num_actv_rev_tl</td>\n",
       "      <td>4156</td>\n",
       "    </tr>\n",
       "    <tr>\n",
       "      <th>51</th>\n",
       "      <td>num_op_rev_tl</td>\n",
       "      <td>4156</td>\n",
       "    </tr>\n",
       "    <tr>\n",
       "      <th>52</th>\n",
       "      <td>num_rev_accts</td>\n",
       "      <td>4156</td>\n",
       "    </tr>\n",
       "    <tr>\n",
       "      <th>53</th>\n",
       "      <td>num_rev_tl_bal_gt_0</td>\n",
       "      <td>4156</td>\n",
       "    </tr>\n",
       "    <tr>\n",
       "      <th>54</th>\n",
       "      <td>tot_coll_amt</td>\n",
       "      <td>4156</td>\n",
       "    </tr>\n",
       "    <tr>\n",
       "      <th>55</th>\n",
       "      <td>num_il_tl</td>\n",
       "      <td>4156</td>\n",
       "    </tr>\n",
       "    <tr>\n",
       "      <th>56</th>\n",
       "      <td>mo_sin_rcnt_tl</td>\n",
       "      <td>4156</td>\n",
       "    </tr>\n",
       "    <tr>\n",
       "      <th>57</th>\n",
       "      <td>num_actv_bc_tl</td>\n",
       "      <td>4156</td>\n",
       "    </tr>\n",
       "    <tr>\n",
       "      <th>58</th>\n",
       "      <td>num_bc_tl</td>\n",
       "      <td>4156</td>\n",
       "    </tr>\n",
       "    <tr>\n",
       "      <th>59</th>\n",
       "      <td>num_tl_90g_dpd_24m</td>\n",
       "      <td>4156</td>\n",
       "    </tr>\n",
       "    <tr>\n",
       "      <th>60</th>\n",
       "      <td>total_rev_hi_lim</td>\n",
       "      <td>4156</td>\n",
       "    </tr>\n",
       "    <tr>\n",
       "      <th>61</th>\n",
       "      <td>mo_sin_rcnt_rev_tl_op</td>\n",
       "      <td>4156</td>\n",
       "    </tr>\n",
       "    <tr>\n",
       "      <th>62</th>\n",
       "      <td>bc_util</td>\n",
       "      <td>3790</td>\n",
       "    </tr>\n",
       "    <tr>\n",
       "      <th>63</th>\n",
       "      <td>percent_bc_gt_75</td>\n",
       "      <td>3769</td>\n",
       "    </tr>\n",
       "    <tr>\n",
       "      <th>64</th>\n",
       "      <td>bc_open_to_buy</td>\n",
       "      <td>3742</td>\n",
       "    </tr>\n",
       "    <tr>\n",
       "      <th>65</th>\n",
       "      <td>mths_since_recent_bc</td>\n",
       "      <td>3689</td>\n",
       "    </tr>\n",
       "    <tr>\n",
       "      <th>66</th>\n",
       "      <td>num_sats</td>\n",
       "      <td>3447</td>\n",
       "    </tr>\n",
       "    <tr>\n",
       "      <th>67</th>\n",
       "      <td>num_bc_sats</td>\n",
       "      <td>3447</td>\n",
       "    </tr>\n",
       "    <tr>\n",
       "      <th>68</th>\n",
       "      <td>mort_acc</td>\n",
       "      <td>2926</td>\n",
       "    </tr>\n",
       "    <tr>\n",
       "      <th>69</th>\n",
       "      <td>total_bc_limit</td>\n",
       "      <td>2926</td>\n",
       "    </tr>\n",
       "    <tr>\n",
       "      <th>70</th>\n",
       "      <td>acc_open_past_24mths</td>\n",
       "      <td>2926</td>\n",
       "    </tr>\n",
       "    <tr>\n",
       "      <th>71</th>\n",
       "      <td>total_bal_ex_mort</td>\n",
       "      <td>2926</td>\n",
       "    </tr>\n",
       "    <tr>\n",
       "      <th>72</th>\n",
       "      <td>title</td>\n",
       "      <td>1175</td>\n",
       "    </tr>\n",
       "    <tr>\n",
       "      <th>73</th>\n",
       "      <td>revol_util</td>\n",
       "      <td>54</td>\n",
       "    </tr>\n",
       "    <tr>\n",
       "      <th>74</th>\n",
       "      <td>pub_rec_bankruptcies</td>\n",
       "      <td>44</td>\n",
       "    </tr>\n",
       "    <tr>\n",
       "      <th>75</th>\n",
       "      <td>dti</td>\n",
       "      <td>27</td>\n",
       "    </tr>\n",
       "    <tr>\n",
       "      <th>76</th>\n",
       "      <td>chargeoff_within_12_mths</td>\n",
       "      <td>3</td>\n",
       "    </tr>\n",
       "    <tr>\n",
       "      <th>77</th>\n",
       "      <td>collections_12_mths_ex_med</td>\n",
       "      <td>3</td>\n",
       "    </tr>\n",
       "    <tr>\n",
       "      <th>78</th>\n",
       "      <td>tax_liens</td>\n",
       "      <td>2</td>\n",
       "    </tr>\n",
       "    <tr>\n",
       "      <th>79</th>\n",
       "      <td>annual_inc</td>\n",
       "      <td>0</td>\n",
       "    </tr>\n",
       "    <tr>\n",
       "      <th>80</th>\n",
       "      <td>zip_code</td>\n",
       "      <td>0</td>\n",
       "    </tr>\n",
       "    <tr>\n",
       "      <th>81</th>\n",
       "      <td>total_acc</td>\n",
       "      <td>0</td>\n",
       "    </tr>\n",
       "    <tr>\n",
       "      <th>82</th>\n",
       "      <td>earliest_cr_line</td>\n",
       "      <td>0</td>\n",
       "    </tr>\n",
       "    <tr>\n",
       "      <th>83</th>\n",
       "      <td>fico_range_low</td>\n",
       "      <td>0</td>\n",
       "    </tr>\n",
       "    <tr>\n",
       "      <th>84</th>\n",
       "      <td>open_acc</td>\n",
       "      <td>0</td>\n",
       "    </tr>\n",
       "    <tr>\n",
       "      <th>85</th>\n",
       "      <td>revol_bal</td>\n",
       "      <td>0</td>\n",
       "    </tr>\n",
       "    <tr>\n",
       "      <th>86</th>\n",
       "      <td>addr_state</td>\n",
       "      <td>0</td>\n",
       "    </tr>\n",
       "    <tr>\n",
       "      <th>87</th>\n",
       "      <td>inq_last_6mths</td>\n",
       "      <td>0</td>\n",
       "    </tr>\n",
       "    <tr>\n",
       "      <th>88</th>\n",
       "      <td>int_rate</td>\n",
       "      <td>0</td>\n",
       "    </tr>\n",
       "    <tr>\n",
       "      <th>89</th>\n",
       "      <td>delinq_amnt</td>\n",
       "      <td>0</td>\n",
       "    </tr>\n",
       "    <tr>\n",
       "      <th>90</th>\n",
       "      <td>loan_amnt</td>\n",
       "      <td>0</td>\n",
       "    </tr>\n",
       "    <tr>\n",
       "      <th>91</th>\n",
       "      <td>issue_d_year</td>\n",
       "      <td>0</td>\n",
       "    </tr>\n",
       "    <tr>\n",
       "      <th>92</th>\n",
       "      <td>grade</td>\n",
       "      <td>0</td>\n",
       "    </tr>\n",
       "    <tr>\n",
       "      <th>93</th>\n",
       "      <td>pub_rec</td>\n",
       "      <td>0</td>\n",
       "    </tr>\n",
       "    <tr>\n",
       "      <th>94</th>\n",
       "      <td>issue_d_month</td>\n",
       "      <td>0</td>\n",
       "    </tr>\n",
       "    <tr>\n",
       "      <th>95</th>\n",
       "      <td>initial_list_status</td>\n",
       "      <td>0</td>\n",
       "    </tr>\n",
       "    <tr>\n",
       "      <th>96</th>\n",
       "      <td>application_type</td>\n",
       "      <td>0</td>\n",
       "    </tr>\n",
       "    <tr>\n",
       "      <th>97</th>\n",
       "      <td>installment</td>\n",
       "      <td>0</td>\n",
       "    </tr>\n",
       "    <tr>\n",
       "      <th>98</th>\n",
       "      <td>id</td>\n",
       "      <td>0</td>\n",
       "    </tr>\n",
       "    <tr>\n",
       "      <th>99</th>\n",
       "      <td>purpose</td>\n",
       "      <td>0</td>\n",
       "    </tr>\n",
       "    <tr>\n",
       "      <th>100</th>\n",
       "      <td>acc_now_delinq</td>\n",
       "      <td>0</td>\n",
       "    </tr>\n",
       "    <tr>\n",
       "      <th>101</th>\n",
       "      <td>term</td>\n",
       "      <td>0</td>\n",
       "    </tr>\n",
       "    <tr>\n",
       "      <th>102</th>\n",
       "      <td>delinq_2yrs</td>\n",
       "      <td>0</td>\n",
       "    </tr>\n",
       "    <tr>\n",
       "      <th>103</th>\n",
       "      <td>url</td>\n",
       "      <td>0</td>\n",
       "    </tr>\n",
       "    <tr>\n",
       "      <th>104</th>\n",
       "      <td>sub_grade</td>\n",
       "      <td>0</td>\n",
       "    </tr>\n",
       "    <tr>\n",
       "      <th>105</th>\n",
       "      <td>fico_range_high</td>\n",
       "      <td>0</td>\n",
       "    </tr>\n",
       "    <tr>\n",
       "      <th>106</th>\n",
       "      <td>home_ownership</td>\n",
       "      <td>0</td>\n",
       "    </tr>\n",
       "    <tr>\n",
       "      <th>107</th>\n",
       "      <td>funded_amnt</td>\n",
       "      <td>0</td>\n",
       "    </tr>\n",
       "  </tbody>\n",
       "</table>\n",
       "</div>"
      ],
      "text/plain": [
       "                                   index      0\n",
       "0                              member_id  88334\n",
       "1    sec_app_mths_since_last_major_derog  87855\n",
       "2                     sec_app_revol_util  86968\n",
       "3       sec_app_chargeoff_within_12_mths  86954\n",
       "4                 sec_app_fico_range_low  86954\n",
       "5     sec_app_collections_12_mths_ex_med  86954\n",
       "6                       sec_app_mort_acc  86954\n",
       "7                sec_app_fico_range_high  86954\n",
       "8                  sec_app_num_rev_accts  86954\n",
       "9                        revol_bal_joint  86954\n",
       "10                sec_app_inq_last_6mths  86954\n",
       "11              sec_app_earliest_cr_line  86954\n",
       "12                   sec_app_open_act_il  86954\n",
       "13                      sec_app_open_acc  86954\n",
       "14                      annual_inc_joint  86466\n",
       "15                             dti_joint  86466\n",
       "16                                  desc  80636\n",
       "17                mths_since_last_record  73555\n",
       "18              mths_since_recent_bc_dlq  67516\n",
       "19           mths_since_last_major_derog  65450\n",
       "20        mths_since_recent_revol_delinq  58921\n",
       "21                               il_util  55438\n",
       "22                    mths_since_rcnt_il  51093\n",
       "23                           open_il_12m  50085\n",
       "24                          inq_last_12m  50085\n",
       "25                            max_bal_bc  50085\n",
       "26                           open_rv_24m  50085\n",
       "27                           open_rv_12m  50085\n",
       "28                           open_act_il  50085\n",
       "29                           open_acc_6m  50085\n",
       "30                           total_cu_tl  50085\n",
       "31                                inq_fi  50085\n",
       "32                              all_util  50085\n",
       "33                           open_il_24m  50085\n",
       "34                          total_bal_il  50085\n",
       "35                mths_since_last_delinq  44913\n",
       "36                 mths_since_recent_inq  11771\n",
       "37                      num_tl_120dpd_2m   7490\n",
       "38                    mo_sin_old_il_acct   6685\n",
       "39                             emp_title   5733\n",
       "40                            emp_length   5218\n",
       "41                        pct_tl_nvr_dlq   4163\n",
       "42                           avg_cur_bal   4157\n",
       "43                 num_accts_ever_120_pd   4156\n",
       "44                    num_tl_op_past_12m   4156\n",
       "45            total_il_high_credit_limit   4156\n",
       "46                       tot_hi_cred_lim   4156\n",
       "47                           tot_cur_bal   4156\n",
       "48                          num_tl_30dpd   4156\n",
       "49                  mo_sin_old_rev_tl_op   4156\n",
       "50                       num_actv_rev_tl   4156\n",
       "51                         num_op_rev_tl   4156\n",
       "52                         num_rev_accts   4156\n",
       "53                   num_rev_tl_bal_gt_0   4156\n",
       "54                          tot_coll_amt   4156\n",
       "55                             num_il_tl   4156\n",
       "56                        mo_sin_rcnt_tl   4156\n",
       "57                        num_actv_bc_tl   4156\n",
       "58                             num_bc_tl   4156\n",
       "59                    num_tl_90g_dpd_24m   4156\n",
       "60                      total_rev_hi_lim   4156\n",
       "61                 mo_sin_rcnt_rev_tl_op   4156\n",
       "62                               bc_util   3790\n",
       "63                      percent_bc_gt_75   3769\n",
       "64                        bc_open_to_buy   3742\n",
       "65                  mths_since_recent_bc   3689\n",
       "66                              num_sats   3447\n",
       "67                           num_bc_sats   3447\n",
       "68                              mort_acc   2926\n",
       "69                        total_bc_limit   2926\n",
       "70                  acc_open_past_24mths   2926\n",
       "71                     total_bal_ex_mort   2926\n",
       "72                                 title   1175\n",
       "73                            revol_util     54\n",
       "74                  pub_rec_bankruptcies     44\n",
       "75                                   dti     27\n",
       "76              chargeoff_within_12_mths      3\n",
       "77            collections_12_mths_ex_med      3\n",
       "78                             tax_liens      2\n",
       "79                            annual_inc      0\n",
       "80                              zip_code      0\n",
       "81                             total_acc      0\n",
       "82                      earliest_cr_line      0\n",
       "83                        fico_range_low      0\n",
       "84                              open_acc      0\n",
       "85                             revol_bal      0\n",
       "86                            addr_state      0\n",
       "87                        inq_last_6mths      0\n",
       "88                              int_rate      0\n",
       "89                           delinq_amnt      0\n",
       "90                             loan_amnt      0\n",
       "91                          issue_d_year      0\n",
       "92                                 grade      0\n",
       "93                               pub_rec      0\n",
       "94                         issue_d_month      0\n",
       "95                   initial_list_status      0\n",
       "96                      application_type      0\n",
       "97                           installment      0\n",
       "98                                    id      0\n",
       "99                               purpose      0\n",
       "100                       acc_now_delinq      0\n",
       "101                                 term      0\n",
       "102                          delinq_2yrs      0\n",
       "103                                  url      0\n",
       "104                            sub_grade      0\n",
       "105                      fico_range_high      0\n",
       "106                       home_ownership      0\n",
       "107                          funded_amnt      0"
      ]
     },
     "execution_count": 33,
     "metadata": {},
     "output_type": "execute_result"
    }
   ],
   "source": [
    "null_counts = X_train.isnull().sum().sort_values(ascending=False)\n",
    "null_counts.reset_index()"
   ]
  },
  {
   "cell_type": "code",
   "execution_count": 34,
   "metadata": {},
   "outputs": [
    {
     "name": "stdout",
     "output_type": "stream",
     "text": [
      "['member_id', 'sec_app_mths_since_last_major_derog', 'sec_app_revol_util', 'sec_app_chargeoff_within_12_mths', 'sec_app_fico_range_low', 'sec_app_collections_12_mths_ex_med', 'sec_app_mort_acc', 'sec_app_fico_range_high', 'sec_app_num_rev_accts', 'revol_bal_joint', 'sec_app_inq_last_6mths', 'sec_app_earliest_cr_line', 'sec_app_open_act_il', 'sec_app_open_acc', 'annual_inc_joint', 'dti_joint', 'desc', 'mths_since_last_record', 'mths_since_recent_bc_dlq', 'mths_since_last_major_derog', 'mths_since_recent_revol_delinq', 'il_util', 'mths_since_rcnt_il', 'open_il_12m', 'inq_last_12m', 'max_bal_bc', 'open_rv_24m', 'open_rv_12m', 'open_act_il', 'open_acc_6m', 'total_cu_tl', 'inq_fi', 'all_util', 'open_il_24m', 'total_bal_il', 'mths_since_last_delinq', 'mths_since_recent_inq', 'num_tl_120dpd_2m', 'mo_sin_old_il_acct', 'emp_title', 'emp_length', 'pct_tl_nvr_dlq', 'avg_cur_bal', 'num_accts_ever_120_pd', 'num_tl_op_past_12m', 'total_il_high_credit_limit', 'tot_hi_cred_lim', 'tot_cur_bal', 'num_tl_30dpd', 'mo_sin_old_rev_tl_op', 'num_actv_rev_tl', 'num_op_rev_tl', 'num_rev_accts', 'num_rev_tl_bal_gt_0', 'tot_coll_amt', 'num_il_tl', 'mo_sin_rcnt_tl', 'num_actv_bc_tl', 'num_bc_tl', 'num_tl_90g_dpd_24m', 'total_rev_hi_lim', 'mo_sin_rcnt_rev_tl_op', 'bc_util', 'percent_bc_gt_75', 'bc_open_to_buy', 'mths_since_recent_bc', 'num_sats', 'num_bc_sats', 'mort_acc', 'total_bc_limit', 'acc_open_past_24mths', 'total_bal_ex_mort', 'title']\n"
     ]
    }
   ],
   "source": [
    "many_nulls = null_counts[:73].index\n",
    "print(list(many_nulls))"
   ]
  },
  {
   "cell_type": "code",
   "execution_count": 35,
   "metadata": {},
   "outputs": [],
   "source": [
    "def wrangle(X):\n",
    "    X = X.copy()\n",
    "\n",
    "    # Engineer new feature for every feature: is the feature null?\n",
    "    for col in X:\n",
    "        X[col+'_NULL'] = X[col].isnull()\n",
    "    \n",
    "    # Convert percentages from strings to floats\n",
    "    X['int_rate'] = X['int_rate'].str.strip('%').astype(float)\n",
    "    X['revol_util'] = X['revol_util'].str.strip('%').astype(float)\n",
    "    \n",
    "    # Convert employment length from string to float\n",
    "    X['emp_length'] = X['emp_length'].str.replace(r'\\D','').astype(float)\n",
    "        \n",
    "    # Create features for three employee titles: teacher, manager, owner\n",
    "    X['emp_title'] = X['emp_title'].str.lower()\n",
    "    X['emp_title_teacher'] = X['emp_title'].str.contains('teacher', na=False)\n",
    "    X['emp_title_manager'] = X['emp_title'].str.contains('manager', na=False)\n",
    "    X['emp_title_owner']   = X['emp_title'].str.contains('owner', na=False)\n",
    "\n",
    "    # Get length of free text fields\n",
    "    X['title'] = X['title'].str.len()\n",
    "    X['desc'] = X['desc'].str.len()\n",
    "    X['emp_title'] = X['emp_title'].str.len()\n",
    "    \n",
    "    # Convert sub_grade from string \"A1\"-\"D5\" to integer 1-20\n",
    "    sub_grade_ranks = {'A1': 1, 'A2': 2, 'A3': 3, 'A4': 4, 'A5': 5, 'B1': 6, 'B2': 7, \n",
    "                       'B3': 8, 'B4': 9, 'B5': 10, 'C1': 11, 'C2': 12, 'C3': 13, 'C4': 14, \n",
    "                       'C5': 15, 'D1': 16, 'D2': 17, 'D3': 18, 'D4': 19, 'D5': 20}\n",
    "    X['sub_grade'] = X['sub_grade'].map(sub_grade_ranks)\n",
    "    \n",
    "    # Drop some columns\n",
    "    X = X.drop(columns='id')        # Always unique\n",
    "    X = X.drop(columns='url')       # Always unique\n",
    "    X = X.drop(columns='member_id') # Always null\n",
    "    X = X.drop(columns='grade')     # Duplicative of sub_grade\n",
    "    X = X.drop(columns='zip_code')  # High cardinality\n",
    "    \n",
    "    # Only use these features which had nonzero permutation importances in earlier models    \n",
    "    features = ['acc_open_past_24mths', 'addr_state', 'all_util', 'annual_inc', \n",
    "                'annual_inc_joint', 'avg_cur_bal', 'bc_open_to_buy', 'bc_util', \n",
    "                'collections_12_mths_ex_med', 'delinq_amnt', 'desc_NULL', 'dti', \n",
    "                'dti_joint', 'earliest_cr_line', 'emp_length', 'emp_length_NULL', \n",
    "                'emp_title', 'emp_title_NULL', 'emp_title_owner', 'fico_range_high', \n",
    "                'funded_amnt', 'home_ownership', 'inq_last_12m', 'inq_last_6mths', \n",
    "                'installment', 'int_rate', 'issue_d_month', 'issue_d_year', 'loan_amnt', \n",
    "                'max_bal_bc', 'mo_sin_old_il_acct', 'mo_sin_old_rev_tl_op', \n",
    "                'mo_sin_rcnt_rev_tl_op', 'mort_acc', 'mths_since_last_major_derog_NULL', \n",
    "                'mths_since_last_record', 'mths_since_recent_bc', 'mths_since_recent_inq', \n",
    "                'num_actv_bc_tl', 'num_actv_rev_tl', 'num_op_rev_tl', 'num_rev_tl_bal_gt_0', \n",
    "                'num_tl_120dpd_2m_NULL', 'open_rv_12m_NULL', 'open_rv_24m', \n",
    "                'pct_tl_nvr_dlq', 'percent_bc_gt_75', 'pub_rec_bankruptcies', 'purpose', \n",
    "                'revol_bal', 'revol_bal_joint', 'sec_app_earliest_cr_line', \n",
    "                'sec_app_fico_range_high', 'sec_app_open_acc', 'sec_app_open_act_il', \n",
    "                'sub_grade', 'term', 'title', 'title_NULL', 'tot_coll_amt', \n",
    "                'tot_hi_cred_lim', 'total_acc', 'total_bal_il', 'total_bc_limit', \n",
    "                'total_cu_tl', 'total_rev_hi_lim']    \n",
    "    X = X[features]\n",
    "    \n",
    "    # Return the wrangled dataframe\n",
    "    return X\n",
    "\n",
    "\n",
    "X_train = wrangle(X_train)\n",
    "X_val   = wrangle(X_val)\n",
    "X_test  = wrangle(X_test)"
   ]
  },
  {
   "cell_type": "code",
   "execution_count": 44,
   "metadata": {},
   "outputs": [
    {
     "name": "stdout",
     "output_type": "stream",
     "text": [
      "Wall time: 7.57 s\n"
     ]
    }
   ],
   "source": [
    "%%time\n",
    "import category_encoders as ce\n",
    "from sklearn.ensemble import RandomForestClassifier\n",
    "from sklearn.impute import SimpleImputer\n",
    "from sklearn.pipeline import make_pipeline\n",
    "\n",
    "pipeline = make_pipeline(\n",
    "    ce.OrdinalEncoder(), \n",
    "    SimpleImputer(strategy='median'), \n",
    "    RandomForestClassifier(n_estimators=100, n_jobs=-1, random_state=42)\n",
    ")\n",
    "\n",
    "pipeline.fit(X_train, y_train)\n",
    "y_pred = pipeline.predict(X_val)\n",
    "y_pred_proba = pipeline.predict_proba(X_val)[:, 1]"
   ]
  },
  {
   "cell_type": "code",
   "execution_count": 40,
   "metadata": {},
   "outputs": [
    {
     "data": {
      "text/plain": [
       "0.82485"
      ]
     },
     "execution_count": 40,
     "metadata": {},
     "output_type": "execute_result"
    }
   ],
   "source": [
    "accuracy_score(y_val, y_pred)"
   ]
  },
  {
   "cell_type": "code",
   "execution_count": 41,
   "metadata": {},
   "outputs": [
    {
     "data": {
      "image/png": "[encoded data removed]",
      "text/plain": [
       "<Figure size 432x288 with 2 Axes>"
      ]
     },
     "metadata": {
      "needs_background": "light"
     },
     "output_type": "display_data"
    }
   ],
   "source": [
    "plot_confusion_matrix(y_val, y_pred);"
   ]
  },
  {
   "cell_type": "code",
   "execution_count": 42,
   "metadata": {},
   "outputs": [
    {
     "name": "stderr",
     "output_type": "stream",
     "text": [
      "C:\\Users\\andre\\AppData\\Roaming\\Python\\Python37\\site-packages\\sklearn\\metrics\\classification.py:1437: UndefinedMetricWarning: Precision and F-score are ill-defined and being set to 0.0 in labels with no predicted samples.\n",
      "  'precision', 'predicted', average, warn_for)\n"
     ]
    },
    {
     "name": "stdout",
     "output_type": "stream",
     "text": [
      "              precision    recall  f1-score   support\n",
      "\n",
      " Charged Off       0.00      0.00      0.00      3503\n",
      "  Fully Paid       0.82      1.00      0.90     16497\n",
      "\n",
      "    accuracy                           0.82     20000\n",
      "   macro avg       0.41      0.50      0.45     20000\n",
      "weighted avg       0.68      0.82      0.75     20000\n",
      "\n"
     ]
    }
   ],
   "source": [
    "print(classification_report(y_val, y_pred))"
   ]
  },
  {
   "cell_type": "code",
   "execution_count": 45,
   "metadata": {},
   "outputs": [
    {
     "data": {
      "text/plain": [
       "0.5"
      ]
     },
     "execution_count": 45,
     "metadata": {},
     "output_type": "execute_result"
    }
   ],
   "source": [
    "roc_auc_score(y_val, y_pred_proba)"
   ]
  },
  {
   "cell_type": "markdown",
   "metadata": {},
   "source": [
    "## Visualize the ROC curve by plotting true positive rate vs false positive rate at varying thresholds"
   ]
  },
  {
   "cell_type": "code",
   "execution_count": 46,
   "metadata": {},
   "outputs": [
    {
     "data": {
      "application/vnd.jupyter.widget-view+json": {
       "model_id": "5c31c3a2266e401292facdedb1983f13",
       "version_major": 2,
       "version_minor": 0
      },
      "text/plain": [
       "interactive(children=(FloatSlider(value=0.5, description='threshold', max=1.0, step=0.05), Output()), _dom_cla…"
      ]
     },
     "metadata": {},
     "output_type": "display_data"
    }
   ],
   "source": [
    "from ipywidgets import interact, fixed\n",
    "from sklearn.metrics import roc_auc_score, roc_curve\n",
    "from sklearn.utils.multiclass import unique_labels\n",
    "\n",
    "def set_threshold(y_true, y_pred_proba, threshold=0.5):\n",
    "    \"\"\"\n",
    "    For binary classification problems. \n",
    "    y_pred_proba : predicted probability of class 1\n",
    "    \"\"\"\n",
    "    \n",
    "    # Apply threshold to predicted probabilities\n",
    "    # to get discrete predictions\n",
    "    class_0, class_1 = unique_labels(y_true)\n",
    "    y_pred = np.full_like(y_true, fill_value=class_0)\n",
    "    y_pred[y_pred_proba > threshold] = class_1\n",
    "    \n",
    "    # Plot distribution of predicted probabilities\n",
    "    ax = sns.distplot(y_pred_proba)\n",
    "    ax.axvline(threshold, color='red')\n",
    "    plt.title('Distribution of predicted probabilities')\n",
    "    plt.show()\n",
    "\n",
    "    # Calculate true positive rate and false positive rate\n",
    "    true_positives = (y_pred==y_true) & (y_pred==class_1)\n",
    "    false_positives = (y_pred!=y_true) & (y_pred==class_1)\n",
    "    actual_positives = (y_true==class_1)\n",
    "    actual_negatives = (y_true==class_0)\n",
    "    true_positive_rate = true_positives.sum() / actual_positives.sum()\n",
    "    false_positive_rate = false_positives.sum() / actual_negatives.sum()\n",
    "    print('False Positive Rate', false_positive_rate)\n",
    "    print('True Positive Rate', true_positive_rate)\n",
    "    \n",
    "    # Plot ROC curve\n",
    "    fpr, tpr, thresholds = roc_curve(y_true==class_1, y_pred_proba)\n",
    "    plt.plot(fpr, tpr)\n",
    "    plt.title('ROC curve')\n",
    "    plt.xlabel('False Positive Rate')\n",
    "    plt.ylabel('True Positive Rate')\n",
    "    \n",
    "    # Plot point on ROC curve for the current threshold\n",
    "    plt.scatter(false_positive_rate, true_positive_rate)\n",
    "    plt.show()\n",
    "    \n",
    "    # Show ROC AUC score\n",
    "    print('Area under the Receiver Operating Characteristic curve:', \n",
    "          roc_auc_score(y_true, y_pred_proba))\n",
    "    \n",
    "    # Show confusion matrix & classification report\n",
    "    plot_confusion_matrix(y_true, y_pred)\n",
    "    print(classification_report(y_true, y_pred))\n",
    "\n",
    "interact(set_threshold, \n",
    "         y_true=fixed(y_val), \n",
    "         y_pred_proba=fixed(y_pred_proba), \n",
    "         threshold=(0,1,0.05));"
   ]
  },
  {
   "cell_type": "code",
   "execution_count": 47,
   "metadata": {},
   "outputs": [],
   "source": [
    "from sklearn.model_selection import train_test_split\n",
    "\n",
    "def train_validation_test_split(\n",
    "    X, y, train_size=0.8, val_size=0.1, test_size=0.1, \n",
    "    random_state=None, shuffle=True):\n",
    "        \n",
    "    assert train_size + val_size + test_size == 1\n",
    "    \n",
    "    X_train_val, X_test, y_train_val, y_test = train_test_split(\n",
    "        X, y, test_size=test_size, random_state=random_state, shuffle=shuffle)\n",
    "    \n",
    "    X_train, X_val, y_train, y_val = train_test_split(\n",
    "        X_train_val, y_train_val, test_size=val_size/(train_size+val_size), \n",
    "        random_state=random_state, shuffle=shuffle)\n",
    "    \n",
    "    return X_train, X_val, X_test, y_train, y_val, y_test"
   ]
  },
  {
   "cell_type": "code",
   "execution_count": 53,
   "metadata": {},
   "outputs": [
    {
     "name": "stdout",
     "output_type": "stream",
     "text": [
      "              precision    recall  f1-score   support\n",
      "\n",
      "           0       1.00      0.29      0.45        96\n",
      "           1       0.06      1.00      0.11         4\n",
      "\n",
      "    accuracy                           0.32       100\n",
      "   macro avg       0.53      0.65      0.28       100\n",
      "weighted avg       0.96      0.32      0.44       100\n",
      "\n"
     ]
    },
    {
     "data": {
      "image/png": "[encoded data removed]",
      "text/plain": [
       "<Figure size 432x288 with 2 Axes>"
      ]
     },
     "metadata": {
      "needs_background": "light"
     },
     "output_type": "display_data"
    },
    {
     "data": {
      "image/png": "[encoded data removed]",
      "text/plain": [
       "<Figure size 720x432 with 1 Axes>"
      ]
     },
     "metadata": {
      "needs_background": "light"
     },
     "output_type": "display_data"
    }
   ],
   "source": [
    "%matplotlib inline\n",
    "from IPython.display import display\n",
    "import matplotlib.pyplot as plt\n",
    "from sklearn.datasets import make_classification\n",
    "from sklearn.metrics import accuracy_score, classification_report\n",
    "from sklearn.linear_model import LogisticRegression\n",
    "from mlxtend.plotting import plot_decision_regions\n",
    "\n",
    "\n",
    "#1. Generate data\n",
    "\n",
    "# Try re-running the cell with different values for these parameters\n",
    "n_samples = 1000\n",
    "weights = (0.95, 0.05)\n",
    "class_sep = 0.8\n",
    "\n",
    "X, y = make_classification(n_samples=n_samples, n_features=2, n_informative=2, \n",
    "                           n_redundant=0, n_repeated=0, n_classes=2, \n",
    "                           n_clusters_per_class=1, weights=weights, \n",
    "                           class_sep=class_sep, random_state=0)\n",
    "\n",
    "\n",
    "# 2. Split data\n",
    "\n",
    "# Uses our custom train_validation_test_split function\n",
    "X_train, X_val, X_test, y_train, y_val, y_test = train_validation_test_split(\n",
    "    X, y, train_size=0.8, val_size=0.1, test_size=0.1, random_state=1)\n",
    "\n",
    "\n",
    "# 3. Fit model\n",
    "\n",
    "# Try re-running the cell with different values for this parameter\n",
    "class_weight = {0: 1, 1: 1000}\n",
    "\n",
    "model = LogisticRegression(solver='lbfgs', class_weight=class_weight)\n",
    "model.fit(X_train, y_train)\n",
    "\n",
    "\n",
    "# 4. Evaluate model\n",
    "\n",
    "y_pred = model.predict(X_val)\n",
    "print(classification_report(y_val, y_pred))\n",
    "plot_confusion_matrix(y_val, y_pred)\n",
    "\n",
    "# 5. Visualize decision regions\n",
    "\n",
    "plt.figure(figsize=(10, 6))\n",
    "plot_decision_regions(X_val, y_val, model, legend=0);"
   ]
  },
  {
   "cell_type": "code",
   "execution_count": null,
   "metadata": {},
   "outputs": [],
   "source": []
  },
  {
   "cell_type": "code",
   "execution_count": null,
   "metadata": {},
   "outputs": [],
   "source": []
  },
  {
   "cell_type": "code",
   "execution_count": null,
   "metadata": {},
   "outputs": [],
   "source": []
  },
  {
   "cell_type": "code",
   "execution_count": null,
   "metadata": {},
   "outputs": [],
   "source": []
  },
  {
   "cell_type": "code",
   "execution_count": null,
   "metadata": {},
   "outputs": [],
   "source": []
  },
  {
   "cell_type": "code",
   "execution_count": null,
   "metadata": {},
   "outputs": [],
   "source": []
  },
  {
   "cell_type": "code",
   "execution_count": null,
   "metadata": {},
   "outputs": [],
   "source": []
  },
  {
   "cell_type": "code",
   "execution_count": null,
   "metadata": {},
   "outputs": [],
   "source": []
  },
  {
   "cell_type": "code",
   "execution_count": null,
   "metadata": {},
   "outputs": [],
   "source": []
  },
  {
   "cell_type": "code",
   "execution_count": null,
   "metadata": {},
   "outputs": [],
   "source": []
  },
  {
   "cell_type": "code",
   "execution_count": null,
   "metadata": {},
   "outputs": [],
   "source": []
  }
 ],
 "metadata": {
  "kernelspec": {
   "display_name": "Python 3",
   "language": "python",
   "name": "python3"
  },
  "language_info": {
   "codemirror_mode": {
    "name": "ipython",
    "version": 3
   },
   "file_extension": ".py",
   "mimetype": "text/x-python",
   "name": "python",
   "nbconvert_exporter": "python",
   "pygments_lexer": "ipython3",
   "version": "3.7.3"
  }
 },
 "nbformat": 4,
 "nbformat_minor": 2
}
