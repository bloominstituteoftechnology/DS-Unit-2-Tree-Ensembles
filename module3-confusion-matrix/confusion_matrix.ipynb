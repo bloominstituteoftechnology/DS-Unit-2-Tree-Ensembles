{
 "cells": [
  {
   "cell_type": "markdown",
   "metadata": {
    "colab_type": "text",
    "id": "KMI2k-oBsS08"
   },
   "source": [
    "_Lambda School Data Science_ \n",
    "\n",
    "This sprint, your project is about water pumps in Tanzania. Can you predict which water pumps are faulty?\n",
    "\n",
    "# Confusion Matrix\n",
    "\n",
    "#### Objectives\n",
    "- get and interpret the confusion matrix for classification models\n",
    "- use classification metrics: precision, recall\n",
    "- understand the relationships between precision, recall, thresholds, and predicted probabilities\n",
    "- understand how Precision@K can help make decisions and allocate budgets"
   ]
  },
  {
   "cell_type": "markdown",
   "metadata": {
    "colab_type": "text",
    "id": "rU7RuVcjWdcp"
   },
   "source": [
    "#### Install category_encoders\n",
    "- Local, Anaconda: `conda install -c conda-forge category_encoders`\n",
    "- Google Colab: `pip install category_encoders`"
   ]
  },
  {
   "cell_type": "markdown",
   "metadata": {},
   "source": [
    "#### Downgrade Matplotlib? Need version != 3.1.1\n",
    "\n",
    "Because of this issue: [sns.heatmap top and bottom boxes are cut off](https://github.com/mwaskom/seaborn/issues/1773)\n",
    "\n",
    "> This was a matplotlib regression introduced in 3.1.1 which has been fixed in 3.1.2 (still forthcoming). For now the fix is to downgrade matplotlib to a prior version.\n",
    "\n",
    "This _isn't_ required for your homework, but is required to run this notebook. `pip install matplotlib==3.1.0`"
   ]
  },
  {
   "cell_type": "code",
   "execution_count": null,
   "metadata": {},
   "outputs": [],
   "source": [
    "# !pip install category_encoders matplotlib==3.1.0"
   ]
  },
  {
   "cell_type": "markdown",
   "metadata": {},
   "source": [
    "### Review: Load data, fit model"
   ]
  },
  {
   "cell_type": "code",
   "execution_count": 1,
   "metadata": {},
   "outputs": [
    {
     "name": "stdout",
     "output_type": "stream",
     "text": [
      "Validation Accuracy 0.8140409527789386\n"
     ]
    }
   ],
   "source": [
    "%matplotlib inline\n",
    "import category_encoders as ce\n",
    "import matplotlib.pyplot as plt\n",
    "import numpy as np\n",
    "import pandas as pd\n",
    "import seaborn as sns\n",
    "from sklearn.impute import SimpleImputer\n",
    "from sklearn.metrics import accuracy_score\n",
    "from sklearn.model_selection import train_test_split\n",
    "from sklearn.pipeline import make_pipeline\n",
    "from sklearn.ensemble import RandomForestClassifier\n",
    "\n",
    "def wrangle(X):\n",
    "    \"\"\"Wrangles train, validate, and test sets in the same way\"\"\"\n",
    "    X = X.copy()\n",
    "\n",
    "    # Convert date_recorded to datetime\n",
    "    X['date_recorded'] = pd.to_datetime(X['date_recorded'], infer_datetime_format=True)\n",
    "    \n",
    "    # Extract components from date_recorded, then drop the original column\n",
    "    X['year_recorded'] = X['date_recorded'].dt.year\n",
    "    X['month_recorded'] = X['date_recorded'].dt.month\n",
    "    X['day_recorded'] = X['date_recorded'].dt.day\n",
    "    X = X.drop(columns='date_recorded')\n",
    "    \n",
    "    # Engineer feature: how many years from construction_year to date_recorded\n",
    "    X['years'] = X['year_recorded'] - X['construction_year']    \n",
    "    \n",
    "    # Drop recorded_by (never varies) and id (always varies, random)\n",
    "    unusable_variance = ['recorded_by', 'id']\n",
    "    X = X.drop(columns=unusable_variance)\n",
    "    \n",
    "    # Drop duplicate columns\n",
    "    duplicate_columns = ['quantity_group']\n",
    "    X = X.drop(columns=duplicate_columns)\n",
    "    \n",
    "    # About 3% of the time, latitude has small values near zero,\n",
    "    # outside Tanzania, so we'll treat these like null values\n",
    "    X['latitude'] = X['latitude'].replace(-2e-08, np.nan)\n",
    "    \n",
    "    # When columns have zeros and shouldn't, they are like null values\n",
    "    cols_with_zeros = ['construction_year', 'longitude', 'latitude', 'gps_height', 'population']\n",
    "    for col in cols_with_zeros:\n",
    "        X[col] = X[col].replace(0, np.nan)\n",
    "        \n",
    "    return X\n",
    "\n",
    "\n",
    "LOCAL = '../data/tanzania/'\n",
    "WEB = 'https://raw.githubusercontent.com/LambdaSchool/DS-Unit-2-Tree-Ensembles/master/data/tanzania/'\n",
    "source = LOCAL\n",
    "\n",
    "# Merge train_features.csv & train_labels.csv\n",
    "train = pd.merge(pd.read_csv(source + 'train_features.csv'), \n",
    "                 pd.read_csv(source + 'train_labels.csv'))\n",
    "\n",
    "# Read test_features.csv & sample_submission.csv\n",
    "test = pd.read_csv(source + 'test_features.csv')\n",
    "sample_subm = pd.read_csv(source + 'sample_submission.csv')\n",
    "\n",
    "# Split train into train & val. Make val the same size as test.\n",
    "train, val = train_test_split(train, test_size=len(test),  \n",
    "                              stratify=train['status_group'], random_state=42)\n",
    "\n",
    "# Wrangle train, validate, and test sets in the same way\n",
    "train = wrangle(train)\n",
    "val = wrangle(val)\n",
    "test = wrangle(test)\n",
    "\n",
    "# Arrange data into X features matrix and y target vector\n",
    "target = 'status_group'\n",
    "xtrain = train.drop(columns=target)\n",
    "ytrain = train[target]\n",
    "xval = val.drop(columns=target)\n",
    "yval = val[target]\n",
    "xtest = test\n",
    "\n",
    "# Make pipeline!\n",
    "pipeline = make_pipeline(\n",
    "    ce.OrdinalEncoder(), \n",
    "    SimpleImputer(strategy='mean'), \n",
    "    RandomForestClassifier(n_estimators=100, random_state=42, n_jobs=-1)\n",
    ")\n",
    "\n",
    "# Fit on train, score on val\n",
    "pipeline.fit(xtrain, ytrain)\n",
    "ypred = pipeline.predict(xval)\n",
    "print('Validation Accuracy', accuracy_score(yval, ypred))"
   ]
  },
  {
   "cell_type": "markdown",
   "metadata": {},
   "source": [
    "## Get and interpret the confusion matrix for classification models\n",
    "\n",
    "[Scikit-Learn User Guide — Confusion Matrix](https://scikit-learn.org/stable/modules/model_evaluation.html#confusion-matrix)"
   ]
  },
  {
   "cell_type": "code",
   "execution_count": 4,
   "metadata": {},
   "outputs": [
    {
     "data": {
      "text/plain": [
       "array([[7005,  171,  622],\n",
       "       [ 555,  332,  156],\n",
       "       [1098,   68, 4351]], dtype=int64)"
      ]
     },
     "execution_count": 4,
     "metadata": {},
     "output_type": "execute_result"
    }
   ],
   "source": [
    "from sklearn.metrics import confusion_matrix\n",
    "cm = confusion_matrix (yval, ypred)\n",
    "cm"
   ]
  },
  {
   "cell_type": "code",
   "execution_count": null,
   "metadata": {},
   "outputs": [],
   "source": []
  },
  {
   "cell_type": "code",
   "execution_count": 7,
   "metadata": {},
   "outputs": [
    {
     "data": {
      "text/plain": [
       "<matplotlib.axes._subplots.AxesSubplot at 0x1fbc864c048>"
      ]
     },
     "execution_count": 7,
     "metadata": {},
     "output_type": "execute_result"
    },
    {
     "data": {
      "image/png": "[encoded data removed]",
      "text/plain": [
       "<Figure size 432x288 with 2 Axes>"
      ]
     },
     "metadata": {
      "needs_background": "light"
     },
     "output_type": "display_data"
    }
   ],
   "source": [
    "sns.heatmap(cm, cmap='viridis', annot=True, fmt='d')"
   ]
  },
  {
   "cell_type": "markdown",
   "metadata": {},
   "source": [
    "#### How many correct predictions were made?"
   ]
  },
  {
   "cell_type": "code",
   "execution_count": 10,
   "metadata": {},
   "outputs": [
    {
     "data": {
      "text/plain": [
       "['Predicted \"non functional\"',\n",
       " 'Predicted \"functional\"',\n",
       " 'Predicted \"functional needs repair\"']"
      ]
     },
     "execution_count": 10,
     "metadata": {},
     "output_type": "execute_result"
    }
   ],
   "source": [
    "columns=[f'Predicted \"{c}\"' for c in yval.unique()]\n",
    "columns"
   ]
  },
  {
   "cell_type": "code",
   "execution_count": 11,
   "metadata": {},
   "outputs": [
    {
     "data": {
      "text/plain": [
       "['Actual \"non functional\"',\n",
       " 'Actual \"functional\"',\n",
       " 'Actual \"functional needs repair\"']"
      ]
     },
     "execution_count": 11,
     "metadata": {},
     "output_type": "execute_result"
    }
   ],
   "source": [
    "index_names = [f'Actual \"{c}\"' for c in yval.unique()]\n",
    "index_names"
   ]
  },
  {
   "cell_type": "code",
   "execution_count": 47,
   "metadata": {},
   "outputs": [],
   "source": [
    "from sklearn.utils.multiclass import unique_labels"
   ]
  },
  {
   "cell_type": "code",
   "execution_count": 14,
   "metadata": {},
   "outputs": [],
   "source": [
    "# We want to fix the labels\n",
    "df = pd.DataFrame(cm, columns=columns, index=index_names)"
   ]
  },
  {
   "cell_type": "code",
   "execution_count": 15,
   "metadata": {},
   "outputs": [
    {
     "data": {
      "text/plain": [
       "<matplotlib.axes._subplots.AxesSubplot at 0x1fbc872a2e8>"
      ]
     },
     "execution_count": 15,
     "metadata": {},
     "output_type": "execute_result"
    },
    {
     "data": {
      "image/png": "[encoded data removed]",
      "text/plain": [
       "<Figure size 432x288 with 2 Axes>"
      ]
     },
     "metadata": {
      "needs_background": "light"
     },
     "output_type": "display_data"
    }
   ],
   "source": [
    "sns.heatmap(df, cmap='viridis', annot=True, fmt='d')"
   ]
  },
  {
   "cell_type": "code",
   "execution_count": 48,
   "metadata": {},
   "outputs": [
    {
     "data": {
      "image/png": "[encoded data removed]",
      "text/plain": [
       "<Figure size 432x288 with 2 Axes>"
      ]
     },
     "metadata": {
      "needs_background": "light"
     },
     "output_type": "display_data"
    }
   ],
   "source": [
    "def plot_confusion_matrix(ytrue, ypred, normalize=True):\n",
    "    columns =[f'Predicted \"{c}\"' for c in unique_labels(ytrue)]\n",
    "    index_names = [f'Actual \"{c}\"' for c in unique_labels(ytrue)]\n",
    "    df = pd.DataFrame(cm, columns=columns, index=index_names)\n",
    "    sns.heatmap(df, cmap='viridis', annot=True, fmt='d')\n",
    "\n",
    "plot_confusion_matrix(yval, ypred)"
   ]
  },
  {
   "cell_type": "code",
   "execution_count": 49,
   "metadata": {},
   "outputs": [
    {
     "data": {
      "image/png": "[encoded data removed]",
      "text/plain": [
       "<Figure size 432x288 with 2 Axes>"
      ]
     },
     "metadata": {
      "needs_background": "light"
     },
     "output_type": "display_data"
    }
   ],
   "source": [
    "# We want to normalize, let's divide by cm.sum\n",
    "\n",
    "def plot_confusion_matrix(ytrue, ypred, normalize=True):\n",
    "    columns =[f'Predicted \"{c}\"' for c in unique_labels(ytrue)]\n",
    "    index_names = [f'Actual \"{c}\"' for c in unique_labels(ytrue)]\n",
    "    df = pd.DataFrame(cm/cm.sum(), columns=columns, index=index_names)\n",
    "    sns.heatmap(df, cmap='viridis', annot=True, fmt='.2f')\n",
    "\n",
    "plot_confusion_matrix(yval, ypred)"
   ]
  },
  {
   "cell_type": "code",
   "execution_count": 22,
   "metadata": {},
   "outputs": [
    {
     "data": {
      "text/plain": [
       "array([[7005,  171,  622],\n",
       "       [ 555,  332,  156],\n",
       "       [1098,   68, 4351]], dtype=int64)"
      ]
     },
     "execution_count": 22,
     "metadata": {},
     "output_type": "execute_result"
    }
   ],
   "source": [
    "cm"
   ]
  },
  {
   "cell_type": "code",
   "execution_count": 21,
   "metadata": {},
   "outputs": [
    {
     "data": {
      "text/plain": [
       "array([7798, 1043, 5517], dtype=int64)"
      ]
     },
     "execution_count": 21,
     "metadata": {},
     "output_type": "execute_result"
    }
   ],
   "source": [
    "# What's with those numbers?\n",
    "cm.sum(axis=1)"
   ]
  },
  {
   "cell_type": "code",
   "execution_count": 24,
   "metadata": {},
   "outputs": [
    {
     "data": {
      "text/plain": [
       "array([[0.89830726, 0.16395014, 0.11274243],\n",
       "       [0.0711721 , 0.31831256, 0.02827624],\n",
       "       [0.14080533, 0.06519655, 0.78865325]])"
      ]
     },
     "execution_count": 24,
     "metadata": {},
     "output_type": "execute_result"
    }
   ],
   "source": [
    "cm/cm.sum(axis=1)"
   ]
  },
  {
   "cell_type": "code",
   "execution_count": 25,
   "metadata": {},
   "outputs": [
    {
     "data": {
      "text/plain": [
       "array([[0.89830726, 0.0219287 , 0.07976404],\n",
       "       [0.53211889, 0.31831256, 0.14956855],\n",
       "       [0.19902121, 0.01232554, 0.78865325]])"
      ]
     },
     "execution_count": 25,
     "metadata": {},
     "output_type": "execute_result"
    }
   ],
   "source": [
    "# Maybe a reshape will help\n",
    "cm/cm.sum(axis=1).reshape(3,1)"
   ]
  },
  {
   "cell_type": "code",
   "execution_count": 50,
   "metadata": {},
   "outputs": [
    {
     "data": {
      "image/png": "[encoded data removed]",
      "text/plain": [
       "<Figure size 432x288 with 2 Axes>"
      ]
     },
     "metadata": {
      "needs_background": "light"
     },
     "output_type": "display_data"
    }
   ],
   "source": [
    "def plot_confusion_matrix(ytrue, ypred, normalize=False):\n",
    "    columns =[f'Predicted \"{c}\"' for c in unique_labels(ytrue)]\n",
    "    index_names = [f'Actual \"{c}\"' for c in unique_labels(ytrue)]\n",
    "    cm = confusion_matrix(yval, ypred)\n",
    "    if normalize:\n",
    "        cm = cm/cm.sum(axis=1).reshape(ytrue.nunique(),1)\n",
    "    df = pd.DataFrame(cm, columns=columns, index=index_names)\n",
    "    sns.heatmap(df, cmap='viridis', annot=True, fmt='.2f')\n",
    "\n",
    "plot_confusion_matrix(yval, ypred, normalize=False)"
   ]
  },
  {
   "cell_type": "code",
   "execution_count": 37,
   "metadata": {},
   "outputs": [
    {
     "data": {
      "text/plain": [
       "14358"
      ]
     },
     "execution_count": 37,
     "metadata": {},
     "output_type": "execute_result"
    }
   ],
   "source": [
    "len(yval)"
   ]
  },
  {
   "cell_type": "markdown",
   "metadata": {},
   "source": [
    "#### How many total predictions were made?"
   ]
  },
  {
   "cell_type": "code",
   "execution_count": 38,
   "metadata": {},
   "outputs": [
    {
     "data": {
      "text/plain": [
       "11688"
      ]
     },
     "execution_count": 38,
     "metadata": {},
     "output_type": "execute_result"
    }
   ],
   "source": [
    "7005+332+4351"
   ]
  },
  {
   "cell_type": "code",
   "execution_count": 40,
   "metadata": {},
   "outputs": [
    {
     "data": {
      "text/plain": [
       "11688"
      ]
     },
     "execution_count": 40,
     "metadata": {},
     "output_type": "execute_result"
    }
   ],
   "source": [
    "sum(yval == ypred)"
   ]
  },
  {
   "cell_type": "code",
   "execution_count": 42,
   "metadata": {},
   "outputs": [
    {
     "data": {
      "text/plain": [
       "14358"
      ]
     },
     "execution_count": 42,
     "metadata": {},
     "output_type": "execute_result"
    }
   ],
   "source": [
    "cm.sum()"
   ]
  },
  {
   "cell_type": "markdown",
   "metadata": {},
   "source": [
    "#### What was the classification accuracy?"
   ]
  },
  {
   "cell_type": "code",
   "execution_count": 43,
   "metadata": {},
   "outputs": [
    {
     "data": {
      "text/plain": [
       "0.8140409527789386"
      ]
     },
     "execution_count": 43,
     "metadata": {},
     "output_type": "execute_result"
    }
   ],
   "source": [
    "11688/14358"
   ]
  },
  {
   "cell_type": "code",
   "execution_count": 44,
   "metadata": {},
   "outputs": [
    {
     "data": {
      "text/plain": [
       "0.8140409527789386"
      ]
     },
     "execution_count": 44,
     "metadata": {},
     "output_type": "execute_result"
    }
   ],
   "source": [
    "sum(yval == ypred)/len(yval)"
   ]
  },
  {
   "cell_type": "markdown",
   "metadata": {},
   "source": [
    "## Use classification metrics: precision, recall\n",
    "[Scikit-Learn User Guide — Classification Report](https://scikit-learn.org/stable/modules/model_evaluation.html#classification-report)"
   ]
  },
  {
   "cell_type": "code",
   "execution_count": 51,
   "metadata": {},
   "outputs": [
    {
     "name": "stdout",
     "output_type": "stream",
     "text": [
      "                         precision    recall  f1-score   support\n",
      "\n",
      "             functional       0.81      0.90      0.85      7798\n",
      "functional needs repair       0.58      0.32      0.41      1043\n",
      "         non functional       0.85      0.79      0.82      5517\n",
      "\n",
      "              micro avg       0.81      0.81      0.81     14358\n",
      "              macro avg       0.75      0.67      0.69     14358\n",
      "           weighted avg       0.81      0.81      0.81     14358\n",
      "\n"
     ]
    }
   ],
   "source": [
    "from sklearn.metrics import classification_report\n",
    "\n",
    "print(classification_report(yval, ypred))"
   ]
  },
  {
   "cell_type": "markdown",
   "metadata": {},
   "source": [
    "#### Wikipedia, [Precision and recall](https://en.wikipedia.org/wiki/Precision_and_recall)\n",
    "\n",
    "> Both precision and recall are based on an understanding and measure of relevance.\n",
    "\n",
    "> Suppose a computer program for recognizing dogs in photographs identifies 8 dogs in a picture containing 12 dogs and some cats. Of the 8 identified as dogs, 5 actually are dogs (true positives), while the rest are cats (false positives). The program's precision is 5/8 while its recall is 5/12.\n",
    "\n",
    "> High precision means that an algorithm returned substantially more relevant results than irrelevant ones, while high recall means that an algorithm returned most of the relevant results.\n",
    "\n",
    "<img src=\"https://upload.wikimedia.org/wikipedia/commons/thumb/2/26/Precisionrecall.svg/700px-Precisionrecall.svg.png\" width=\"400\">"
   ]
  },
  {
   "cell_type": "markdown",
   "metadata": {},
   "source": [
    "#### [We can get precision & recall from the confusion matrix](https://en.wikipedia.org/wiki/Precision_and_recall#Definition_(classification_context))"
   ]
  },
  {
   "cell_type": "code",
   "execution_count": 52,
   "metadata": {},
   "outputs": [
    {
     "data": {
      "image/png": "[encoded data removed]",
      "text/plain": [
       "<Figure size 432x288 with 2 Axes>"
      ]
     },
     "metadata": {
      "needs_background": "light"
     },
     "output_type": "display_data"
    }
   ],
   "source": [
    "plot_confusion_matrix(yval, ypred)"
   ]
  },
  {
   "cell_type": "markdown",
   "metadata": {},
   "source": [
    "#### How many correct predictions of \"non functional\"?"
   ]
  },
  {
   "cell_type": "code",
   "execution_count": 53,
   "metadata": {},
   "outputs": [],
   "source": [
    "correctpred_nonf = 4351"
   ]
  },
  {
   "cell_type": "markdown",
   "metadata": {},
   "source": [
    "#### How many total predictions of \"non functional\"?"
   ]
  },
  {
   "cell_type": "code",
   "execution_count": 55,
   "metadata": {},
   "outputs": [
    {
     "data": {
      "text/plain": [
       "5129"
      ]
     },
     "execution_count": 55,
     "metadata": {},
     "output_type": "execute_result"
    }
   ],
   "source": [
    "totalpred_nonf = 4351 + 156 + 622\n",
    "totalpred_nonf"
   ]
  },
  {
   "cell_type": "markdown",
   "metadata": {},
   "source": [
    "#### What's the precision for \"non functional\"?"
   ]
  },
  {
   "cell_type": "code",
   "execution_count": 56,
   "metadata": {},
   "outputs": [
    {
     "data": {
      "text/plain": [
       "0.8483135114057321"
      ]
     },
     "execution_count": 56,
     "metadata": {},
     "output_type": "execute_result"
    }
   ],
   "source": [
    "correctpred_nonf/totalpred_nonf"
   ]
  },
  {
   "cell_type": "markdown",
   "metadata": {},
   "source": [
    "#### How many actual \"non functional\" waterpumps?"
   ]
  },
  {
   "cell_type": "code",
   "execution_count": 57,
   "metadata": {},
   "outputs": [
    {
     "data": {
      "text/plain": [
       "5517"
      ]
     },
     "execution_count": 57,
     "metadata": {},
     "output_type": "execute_result"
    }
   ],
   "source": [
    "actual_nonf = 1098 + 68 + 4351\n",
    "actual_nonf"
   ]
  },
  {
   "cell_type": "markdown",
   "metadata": {},
   "source": [
    "#### What's the recall for \"non functional\"?"
   ]
  },
  {
   "cell_type": "code",
   "execution_count": 58,
   "metadata": {},
   "outputs": [
    {
     "data": {
      "text/plain": [
       "0.7886532535798442"
      ]
     },
     "execution_count": 58,
     "metadata": {},
     "output_type": "execute_result"
    }
   ],
   "source": [
    "correctpred_nonf/actual_nonf"
   ]
  },
  {
   "cell_type": "code",
   "execution_count": 59,
   "metadata": {},
   "outputs": [
    {
     "name": "stdout",
     "output_type": "stream",
     "text": [
      "                         precision    recall  f1-score   support\n",
      "\n",
      "             functional       0.81      0.90      0.85      7798\n",
      "functional needs repair       0.58      0.32      0.41      1043\n",
      "         non functional       0.85      0.79      0.82      5517\n",
      "\n",
      "              micro avg       0.81      0.81      0.81     14358\n",
      "              macro avg       0.75      0.67      0.69     14358\n",
      "           weighted avg       0.81      0.81      0.81     14358\n",
      "\n"
     ]
    }
   ],
   "source": [
    "print(classification_report(yval, ypred))"
   ]
  },
  {
   "cell_type": "code",
   "execution_count": 60,
   "metadata": {},
   "outputs": [
    {
     "data": {
      "text/plain": [
       "{'functional': {'precision': 0.8090783090783091,\n",
       "  'recall': 0.8983072582713516,\n",
       "  'f1-score': 0.8513612056392805,\n",
       "  'support': 7798},\n",
       " 'functional needs repair': {'precision': 0.5814360770577933,\n",
       "  'recall': 0.31831255992329816,\n",
       "  'f1-score': 0.4114002478314746,\n",
       "  'support': 1043},\n",
       " 'non functional': {'precision': 0.8483135114057321,\n",
       "  'recall': 0.7886532535798442,\n",
       "  'f1-score': 0.8173962051474731,\n",
       "  'support': 5517},\n",
       " 'micro avg': {'precision': 0.8140409527789386,\n",
       "  'recall': 0.8140409527789386,\n",
       "  'f1-score': 0.8140409527789386,\n",
       "  'support': 14358},\n",
       " 'macro avg': {'precision': 0.7462759658472781,\n",
       "  'recall': 0.6684243572581646,\n",
       "  'f1-score': 0.6933858862060761,\n",
       "  'support': 14358},\n",
       " 'weighted avg': {'precision': 0.8076177827684466,\n",
       "  'recall': 0.8140409527789386,\n",
       "  'f1-score': 0.8063504669077828,\n",
       "  'support': 14358}}"
      ]
     },
     "execution_count": 60,
     "metadata": {},
     "output_type": "execute_result"
    }
   ],
   "source": [
    "classification_report(yval, ypred, output_dict=True)"
   ]
  },
  {
   "cell_type": "code",
   "execution_count": 61,
   "metadata": {},
   "outputs": [
    {
     "data": {
      "text/plain": [
       "{'precision': 0.8483135114057321,\n",
       " 'recall': 0.7886532535798442,\n",
       " 'f1-score': 0.8173962051474731,\n",
       " 'support': 5517}"
      ]
     },
     "execution_count": 61,
     "metadata": {},
     "output_type": "execute_result"
    }
   ],
   "source": [
    "classification_report(yval, ypred, output_dict=True)['non functional']"
   ]
  },
  {
   "cell_type": "markdown",
   "metadata": {},
   "source": [
    "## Understand the relationships between precision, recall, thresholds, and predicted probabilities. Understand how Precision@K can help make decisions and allocate budgets"
   ]
  },
  {
   "cell_type": "markdown",
   "metadata": {},
   "source": [
    "### Imagine this scenario...\n",
    "\n",
    "Suppose there are over 14,000 waterpumps that you _do_ have some information about, but you _don't_ know whether they are currently functional, or functional but need repair, or non-functional."
   ]
  },
  {
   "cell_type": "code",
   "execution_count": null,
   "metadata": {},
   "outputs": [],
   "source": [
    "len(test)"
   ]
  },
  {
   "cell_type": "markdown",
   "metadata": {},
   "source": [
    "**You have the time and resources to go to just 2,000 waterpumps for proactive maintenance.** You want to predict, which 2,000 are most likely non-functional or in need of repair, to help you triage and prioritize your waterpump inspections.\n",
    "\n",
    "You have historical inspection data for over 59,000 other waterpumps, which you'll use to fit your predictive model."
   ]
  },
  {
   "cell_type": "code",
   "execution_count": null,
   "metadata": {},
   "outputs": [],
   "source": [
    "len(train) + len(val)"
   ]
  },
  {
   "cell_type": "markdown",
   "metadata": {},
   "source": [
    "You have historical inspection data for over 59,000 other waterpumps, which you'll use to fit your predictive model.\n",
    "\n",
    "Based on this historical data, if you randomly chose waterpumps to inspect, then about 46% of the waterpumps would need repairs, and 54% would not need repairs."
   ]
  },
  {
   "cell_type": "code",
   "execution_count": null,
   "metadata": {},
   "outputs": [],
   "source": [
    "y_train.value_counts(normalize=True)"
   ]
  },
  {
   "cell_type": "markdown",
   "metadata": {},
   "source": [
    "**Can you do better than random at prioritizing inspections?**"
   ]
  },
  {
   "cell_type": "markdown",
   "metadata": {},
   "source": [
    "In this scenario, we should define our target differently. We want to identify which waterpumps are non-functional _or_ are functional but needs repair:"
   ]
  },
  {
   "cell_type": "code",
   "execution_count": null,
   "metadata": {},
   "outputs": [],
   "source": [
    "y_train = y_train != 'functional'\n",
    "y_val = y_val != 'functional'\n",
    "y_train.value_counts(normalize=True)"
   ]
  },
  {
   "cell_type": "markdown",
   "metadata": {},
   "source": [
    "We already made our validation set the same size as our test set."
   ]
  },
  {
   "cell_type": "code",
   "execution_count": null,
   "metadata": {},
   "outputs": [],
   "source": [
    "len(val) == len(test)"
   ]
  },
  {
   "cell_type": "markdown",
   "metadata": {},
   "source": [
    "We can refit our model, using the redefined target.\n",
    "\n",
    "Then make predictions for the validation set."
   ]
  },
  {
   "cell_type": "code",
   "execution_count": null,
   "metadata": {},
   "outputs": [],
   "source": [
    "pipeline.fit(X_train, y_train)\n",
    "y_pred = pipeline.predict(X_val)"
   ]
  },
  {
   "cell_type": "markdown",
   "metadata": {},
   "source": [
    "And look at the confusion matrix:"
   ]
  },
  {
   "cell_type": "code",
   "execution_count": null,
   "metadata": {},
   "outputs": [],
   "source": []
  },
  {
   "cell_type": "markdown",
   "metadata": {},
   "source": [
    "#### How many total predictions of \"True\" (\"non functional\" or \"functional needs repair\") ?"
   ]
  },
  {
   "cell_type": "code",
   "execution_count": null,
   "metadata": {},
   "outputs": [],
   "source": []
  },
  {
   "cell_type": "markdown",
   "metadata": {},
   "source": [
    "#### We don't have \"budget\" to take action on all these predictions\n",
    "\n",
    "- But we can get predicted probabilities, to rank the predictions. \n",
    "- Then change the threshold, to change the number of positive predictions, based on our budget."
   ]
  },
  {
   "cell_type": "markdown",
   "metadata": {},
   "source": [
    "### Get predicted probabilities and plot the distribution"
   ]
  },
  {
   "cell_type": "code",
   "execution_count": null,
   "metadata": {},
   "outputs": [],
   "source": []
  },
  {
   "cell_type": "markdown",
   "metadata": {},
   "source": [
    "### Change the threshold"
   ]
  },
  {
   "cell_type": "code",
   "execution_count": null,
   "metadata": {},
   "outputs": [],
   "source": []
  },
  {
   "cell_type": "markdown",
   "metadata": {},
   "source": [
    "### In this scenario ... \n",
    "\n",
    "Accuracy _isn't_ the best metric!\n",
    "\n",
    "Instead, change the threshold, to change the number of positive predictions, based on the budget. (You have the time and resources to go to just 2,000 waterpumps for proactive maintenance.)\n",
    "\n",
    "Then, evaluate with the precision for \"non functional\"/\"functional needs repair\".\n",
    "\n",
    "This is conceptually like **Precision@K**, where k=2,000.\n",
    "\n",
    "Read more here: [Recall and Precision at k for Recommender Systems: Detailed Explanation with examples](https://medium.com/@m_n_malaeb/recall-and-precision-at-k-for-recommender-systems-618483226c54)\n",
    "\n",
    "> Precision at k is the proportion of recommended items in the top-k set that are relevant\n",
    "\n",
    "> Mathematically precision@k is defined as: `Precision@k = (# of recommended items @k that are relevant) / (# of recommended items @k)`\n",
    "\n",
    "> In the context of recommendation systems we are most likely interested in recommending top-N items to the user. So it makes more sense to compute precision and recall metrics in the first N items instead of all the items. Thus the notion of precision and recall at k where k is a user definable integer that is set by the user to match the top-N recommendations objective.\n",
    "\n",
    "We asked, can you do better than random at prioritizing inspections?\n",
    "\n",
    "If we had randomly chosen waterpumps to inspect, we estimate that only 920 waterpumps would be repaired after 2,000 maintenance visits. (46%)\n",
    "\n",
    "But using our predictive model, in the validation set, we succesfully identified over 1,600 waterpumps in need of repair!\n",
    "\n",
    "So we will use this predictive model with the dataset of over 14,000 waterpumps that we _do_ have some information about, but we _don't_ know whether they are currently functional, or functional but need repair, or non-functional.\n",
    "\n",
    "We will predict which 2,000 are most likely non-functional or in need of repair.\n",
    "\n",
    "We estimate that approximately 1,600 waterpumps will be repaired after these 2,000 maintenance visits.\n",
    "\n",
    "So we're confident that our predictive model will help triage and prioritize waterpump inspections."
   ]
  },
  {
   "cell_type": "markdown",
   "metadata": {
    "colab_type": "text",
    "id": "P_XjBTW5SBwZ"
   },
   "source": [
    "# Assignment\n",
    "- Read [Maximizing Scarce Maintenance Resources with Data: Applying predictive modeling, precision at k, and clustering to optimize impact](https://towardsdatascience.com/maximizing-scarce-maintenance-resources-with-data-8f3491133050), by Lambda DS3 student Michael Brady. His blog post extends the Tanzania Waterpumps scenario, far beyond what's in this lecture notebook.\n",
    "\n",
    "If your Kaggle Public Leaderboard score is:\n",
    "- **Nonexistent**: You need to work on your model and submit predictions\n",
    "- **< 70%**: You should work on your model and submit predictions\n",
    "- **70% < score < 80%**: You may want to work on visualizations and write a blog post\n",
    "- **> 80%**: You should work on visualizations and write a blog post\n",
    "\n",
    "\n",
    "## Stretch goals — Highly Recommended Links\n",
    "- Read Google Research's blog post, [Attacking discrimination with smarter machine learning](https://research.google.com/bigpicture/attacking-discrimination-in-ml/), and explore the interactive visualizations. _\"A threshold classifier essentially makes a yes/no decision, putting things in one category or another. We look at how these classifiers work, ways they can potentially be unfair, and how you might turn an unfair classifier into a fairer one. As an illustrative example, we focus on loan granting scenarios where a bank may grant or deny a loan based on a single, automatically computed number such as a credit score.\"_\n",
    "- Read the blog post, [Visualizing Machine Learning Thresholds to Make Better Business Decisions](https://blog.insightdatascience.com/visualizing-machine-learning-thresholds-to-make-better-business-decisions-4ab07f823415). You can replicate the code as-is,  [\"the hard way\"](https://docs.google.com/document/d/1ubOw9B3Hfip27hF2ZFnW3a3z9xAgrUDRReOEo-FHCVs/edit). Or you can apply it to the Tanzania Waterpumps data.\n",
    "- Read this [notebook about how to calculate expected value from a confusion matrix by treating it as a cost-benefit matrix](https://github.com/podopie/DAT18NYC/blob/master/classes/13-expected_value_cost_benefit_analysis.ipynb).\n",
    "- (Re)read the [Simple guide to confusion matrix terminology](https://www.dataschool.io/simple-guide-to-confusion-matrix-terminology/) and watch the 35 minute video."
   ]
  }
 ],
 "metadata": {
  "colab": {
   "collapsed_sections": [],
   "name": "LS_DS_242_Validate_classification_problems.ipynb",
   "provenance": [],
   "version": "0.3.2"
  },
  "kernelspec": {
   "display_name": "Python 3",
   "language": "python",
   "name": "python3"
  },
  "language_info": {
   "codemirror_mode": {
    "name": "ipython",
    "version": 3
   },
   "file_extension": ".py",
   "mimetype": "text/x-python",
   "name": "python",
   "nbconvert_exporter": "python",
   "pygments_lexer": "ipython3",
   "version": "3.7.3"
  }
 },
 "nbformat": 4,
 "nbformat_minor": 1
}
