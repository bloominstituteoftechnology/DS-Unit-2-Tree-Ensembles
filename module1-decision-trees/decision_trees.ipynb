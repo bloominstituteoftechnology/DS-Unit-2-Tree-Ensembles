{
 "cells": [
  {
   "cell_type": "markdown",
   "metadata": {
    "colab_type": "text",
    "id": "QX0jgn6FTo2I"
   },
   "source": [
    "_Lambda School Data Science_\n",
    "\n",
    "This sprint, your project is about water pumps in Tanzania. Can you predict which water pumps are faulty?\n",
    "\n",
    "# Decision Trees\n",
    "\n",
    "#### Objectives\n",
    "- clean data with outliers\n",
    "- impute missing values\n",
    "- use scikit-learn for decision trees\n",
    "- understand why decision trees are useful to model non-linear, non-monotonic relationships and feature interactions\n",
    "- get and interpret feature importances of a tree-based model\n",
    "\n",
    "#### Links\n",
    "\n",
    "- A Visual Introduction to Machine Learning\n",
    "  - [Part 1: A Decision Tree](http://www.r2d3.us/visual-intro-to-machine-learning-part-1/)\n",
    "  - [Part 2: Bias and Variance](http://www.r2d3.us/visual-intro-to-machine-learning-part-2/)\n",
    "- [Decision Trees: Advantages & Disadvantages](https://christophm.github.io/interpretable-ml-book/tree.html#advantages-2)\n",
    "- [How a Russian mathematician constructed a decision tree — by hand — to solve a medical problem](http://fastml.com/how-a-russian-mathematician-constructed-a-decision-tree-by-hand-to-solve-a-medical-problem/)\n",
    "- [How decision trees work](https://brohrer.github.io/how_decision_trees_work.html)\n",
    "- [Let’s Write a Decision Tree Classifier from Scratch](https://www.youtube.com/watch?v=LDRbO9a6XPU) — _Don’t worry about understanding the code, just get introduced to the concepts. This 10 minute video has excellent diagrams and explanations._\n",
    "- [Random Forests for Complete Beginners: The definitive guide to Random Forests and Decision Trees](https://victorzhou.com/blog/intro-to-random-forests/)\n",
    "\n",
    "### Libraries\n",
    "\n",
    "\n",
    "#### category_encoders\n",
    "\n",
    "You aren't required to use [category_encoders](https://github.com/scikit-learn-contrib/categorical-encoding), but it's recommended.\n",
    "\n",
    "If you're working locally, you already installed it, probably with this shell command: `conda install -c conda-forge category_encoders` \n",
    "\n",
    "If you're using Google Colab, you need to reinstall it every time you restart all runtimes: `pip install category_encoders`\n",
    "\n",
    "\n",
    "#### scikit-learn version 0.21.2\n",
    "\n",
    "Until recently, scikit-learn required graphviz to visualize decision trees, and it could be a pain to install. But sklearn's newest versions have a [plot_tree](https://scikit-learn.org/stable/modules/generated/sklearn.tree.plot_tree.html) function that uses matplotlib!\n",
    "\n",
    "Google Colab already has version 0.21.2. But if you're running Anaconda locally, you may need to upgrade.\n",
    "\n",
    "You can check your version with this Python code: `import sklearn; print(sklearn.__version__)`\n",
    "\n",
    "If necessary, you can update your version with this shell command: `conda update scikit-learn`\n",
    "\n",
    "This isn't required to do your assignment, but it's required to run this lecture notebook.\n",
    "\n",
    "#### pdpbox\n",
    "\n",
    "[PDPbox](https://github.com/SauceCat/PDPbox) stands for \"Partial Dependence Plot toolbox.\" It's a tool for model interpretation & visualization.\n",
    "\n",
    "You can install it on Colab or locally with this shell command: `pip install pdpbox`\n",
    "\n",
    "This also isn't required to do your assignment, but it's used in the lecture notebook."
   ]
  },
  {
   "cell_type": "code",
   "execution_count": 1,
   "metadata": {
    "colab": {},
    "colab_type": "code",
    "id": "hxCNx-MTySTI"
   },
   "outputs": [],
   "source": [
    "# !pip install pdpbox category_encoders first assignment"
   ]
  },
  {
   "cell_type": "markdown",
   "metadata": {
    "colab_type": "text",
    "id": "UFGmW4ijn4YN"
   },
   "source": [
    "## Clean data with outliers, impute missing values (example solutions)"
   ]
  },
  {
   "cell_type": "code",
   "execution_count": null,
   "metadata": {
    "colab": {},
    "colab_type": "code",
    "id": "vt_SrDYHT4jC"
   },
   "outputs": [],
   "source": [
    "# !pip install category_encoders"
   ]
  },
  {
   "cell_type": "code",
   "execution_count": null,
   "metadata": {
    "colab": {},
    "colab_type": "code",
    "id": "Dg8hVHaJTldG"
   },
   "outputs": [],
   "source": [
    "%matplotlib inline\n",
    "import category_encoders as ce\n",
    "import matplotlib.pyplot as plt\n",
    "import numpy as np\n",
    "import pandas as pd\n",
    "import seaborn as sns\n",
    "from sklearn.linear_model import LogisticRegression\n",
    "from sklearn.model_selection import train_test_split\n",
    "from sklearn.preprocessing import RobustScaler\n",
    "\n",
    "LOCAL = '../data/tanzania/'\n",
    "WEB = 'https://raw.githubusercontent.com/LambdaSchool/DS-Unit-2-Linear-Models/master/data/tanzania/'\n",
    "\n",
    "train = pd.merge(pd.read_csv(WEB + 'train_features.csv'), \n",
    "                 pd.read_csv(WEB + 'train_labels.csv'))\n",
    "test = pd.read_csv(WEB + 'test_features.csv')\n",
    "sample_submission = pd.read_csv(WEB + 'sample_submission.csv')\n",
    "\n",
    "# Split train into train & val\n",
    "train, val = train_test_split(train, train_size=0.80, test_size=0.20, \n",
    "                              stratify=train['status_group'], random_state=42)\n",
    "\n",
    "train.shape, val.shape, test.shape"
   ]
  },
  {
   "cell_type": "markdown",
   "metadata": {
    "colab_type": "text",
    "id": "DeIQ1lDmqAHY"
   },
   "source": [
    "Some of the locations are at [\"Null Island\"](https://en.wikipedia.org/wiki/Null_Island) instead of Tanzania."
   ]
  },
  {
   "cell_type": "code",
   "execution_count": null,
   "metadata": {
    "colab": {},
    "colab_type": "code",
    "id": "qVltyo5bpac7"
   },
   "outputs": [],
   "source": [
    "sns.jointplot(x='longitude', y='latitude', data=train);"
   ]
  },
  {
   "cell_type": "markdown",
   "metadata": {
    "colab_type": "text",
    "id": "V-OOtTMzqkhM"
   },
   "source": [
    "#### Define a function to wrangle train, validate, and test sets in the same way.\n",
    "\n",
    "Fix the location, and do more data cleaning and feature engineering."
   ]
  },
  {
   "cell_type": "code",
   "execution_count": null,
   "metadata": {
    "colab": {},
    "colab_type": "code",
    "id": "m81UBUsiaIzH"
   },
   "outputs": [],
   "source": [
    "def wrangle(X):\n",
    "    \"\"\"Wrangles train, validate, and test sets in the same way\"\"\"\n",
    "    X = X.copy()\n",
    "    \n",
    "    # About 3% of the time, latitude has small values near zero,\n",
    "    # outside Tanzania, so we'll treat these values like zero.\n",
    "    X['latitude'] = X['latitude'].replace(-2e-08, 0)\n",
    "    \n",
    "    # When columns have zeros and shouldn't, they are like null values.\n",
    "    # So we will replace them with the column mean.\n",
    "    cols_with_zeros = ['construction_year', 'longitude', 'latitude']\n",
    "    for col in cols_with_zeros:\n",
    "        X[col] = X[col].replace(0, np.nan)\n",
    "        X[col] = X[col].fillna(X[col].mean())\n",
    "        \n",
    "    # Convert date_recorded to datetime\n",
    "    X['date_recorded'] = pd.to_datetime(X['date_recorded'], infer_datetime_format=True)\n",
    "    \n",
    "    # Extract year from date_recorded\n",
    "    X['year_recorded'] = X['date_recorded'].dt.year\n",
    "    \n",
    "    # quantity & quantity_group are duplicates, so drop one\n",
    "    X = X.drop(columns='quantity_group')\n",
    "    \n",
    "    # for categoricals with missing values, fill with the category 'MISSING'\n",
    "    categoricals = X.select_dtypes(exclude='number').columns\n",
    "    for col in categoricals:\n",
    "        X[col] = X[col].fillna('MISSING')\n",
    "    \n",
    "    return X\n",
    "\n",
    "\n",
    "train = wrangle(train)\n",
    "val = wrangle(val)\n",
    "test = wrangle(test)"
   ]
  },
  {
   "cell_type": "markdown",
   "metadata": {
    "colab_type": "text",
    "id": "sMqlStuWqwde"
   },
   "source": [
    "Now the locations look better."
   ]
  },
  {
   "cell_type": "code",
   "execution_count": null,
   "metadata": {
    "colab": {},
    "colab_type": "code",
    "id": "JoIkLqHLpq3x"
   },
   "outputs": [],
   "source": [
    "sns.relplot(x='longitude', y='latitude', hue='status_group', \n",
    "            data=train, alpha=0.1);"
   ]
  },
  {
   "cell_type": "markdown",
   "metadata": {
    "colab_type": "text",
    "id": "ypjt052Lrmgn"
   },
   "source": [
    "#### Select features"
   ]
  },
  {
   "cell_type": "code",
   "execution_count": null,
   "metadata": {
    "colab": {},
    "colab_type": "code",
    "id": "666FUbXOXgL8"
   },
   "outputs": [],
   "source": [
    "# The status_group column is the target\n",
    "target = 'status_group'\n",
    "\n",
    "# Get a dataframe with all train columns except the target & id\n",
    "train_features = train.drop(columns=[target, 'id'])\n",
    "\n",
    "# Get a list of the numeric features\n",
    "numeric_features = train_features.select_dtypes(include='number').columns.tolist()\n",
    "\n",
    "# Get a series with the cardinality of the nonnumeric features\n",
    "cardinality = train_features.select_dtypes(exclude='number').nunique()\n",
    "\n",
    "# Get a list of all categorical features with cardinality <= 50\n",
    "categorical_features = cardinality[cardinality <= 50].index.tolist()\n",
    "\n",
    "# Combine the lists \n",
    "features = numeric_features + categorical_features"
   ]
  },
  {
   "cell_type": "markdown",
   "metadata": {
    "colab_type": "text",
    "id": "moC9WikFrqJV"
   },
   "source": [
    "#### Encode categoricals, scale features, fit and score Logistic Regression model, make predictions"
   ]
  },
  {
   "cell_type": "code",
   "execution_count": null,
   "metadata": {
    "colab": {},
    "colab_type": "code",
    "id": "rUUq8Zt5X1bD"
   },
   "outputs": [],
   "source": [
    "# Arrange data into X features matrix and y target vector \n",
    "X_train = train[features]\n",
    "y_train = train[target]\n",
    "X_val = val[features]\n",
    "y_val = val[target]\n",
    "X_test = test[features]\n",
    "\n",
    "# Encoder: fit_transform on train, transform on val & test\n",
    "encoder = ce.OneHotEncoder(use_cat_names=True)\n",
    "X_train_encoded = encoder.fit_transform(X_train)\n",
    "X_val_encoded = encoder.transform(X_val)\n",
    "X_test_encoded = encoder.transform(X_test)\n",
    "\n",
    "# Scaler: fit_transform on train, transform on val & test\n",
    "scaler = RobustScaler()\n",
    "X_train_scaled = scaler.fit_transform(X_train_encoded)\n",
    "X_val_scaled = scaler.transform(X_val_encoded)\n",
    "X_test_scaled = scaler.transform(X_test_encoded)\n",
    "\n",
    "# Model: Fit on train, score on val, predict on test\n",
    "model = LogisticRegression(solver='lbfgs', multi_class='auto', n_jobs=-1)\n",
    "model.fit(X_train_scaled, y_train)\n",
    "print('Validation Accuracy', model.score(X_val_scaled, y_val))\n",
    "y_pred = model.predict(X_test_scaled)\n",
    "\n",
    "# Write submission csv file\n",
    "submission = sample_submission.copy()\n",
    "submission['status_group'] = y_pred\n",
    "submission.to_csv('submission-02.csv', index=False)"
   ]
  },
  {
   "cell_type": "markdown",
   "metadata": {
    "colab_type": "text",
    "id": "7EQOYZtqr00F"
   },
   "source": [
    "#### Get and plot coefficients"
   ]
  },
  {
   "cell_type": "code",
   "execution_count": null,
   "metadata": {
    "colab": {},
    "colab_type": "code",
    "id": "RFlfjFN1gyjI"
   },
   "outputs": [],
   "source": [
    "coefficients = pd.Series(model.coef_[0], X_train_encoded.columns)\n",
    "plt.figure(figsize=(10,30))\n",
    "coefficients.sort_values().plot.barh(color='grey');"
   ]
  },
  {
   "cell_type": "markdown",
   "metadata": {
    "colab_type": "text",
    "id": "kMW9JbD6wZ28"
   },
   "source": [
    "## Use scikit-learn for decision trees"
   ]
  },
  {
   "cell_type": "markdown",
   "metadata": {
    "colab_type": "text",
    "id": "0s7t37euwd41"
   },
   "source": [
    "### Compare a Logistic Regression with 2 features, longitude & latitude ..."
   ]
  },
  {
   "cell_type": "code",
   "execution_count": null,
   "metadata": {
    "colab": {},
    "colab_type": "code",
    "id": "44TUfQpeo64d"
   },
   "outputs": [],
   "source": []
  },
  {
   "cell_type": "markdown",
   "metadata": {
    "colab_type": "text",
    "id": "yD31msBkwlVQ"
   },
   "source": [
    "### ... versus a Decision Tree Classifier with 2 features, longitude & latitude\n",
    "\n",
    "https://scikit-learn.org/stable/modules/generated/sklearn.tree.DecisionTreeClassifier.html"
   ]
  },
  {
   "cell_type": "code",
   "execution_count": null,
   "metadata": {
    "colab": {},
    "colab_type": "code",
    "id": "X_xIa_1Kozfl"
   },
   "outputs": [],
   "source": []
  },
  {
   "cell_type": "markdown",
   "metadata": {
    "colab_type": "text",
    "id": "KkV4TjcNAPzp"
   },
   "source": [
    "## Understand why decision trees are useful to model non-linear, non-monotonic relationships and feature interactions\n",
    "\n",
    "#### What does _(non)monotonic_ mean?!?!\n",
    "- See Figures 1-3 in Wikipedia's article, [Monotonic function](https://en.wikipedia.org/wiki/Monotonic_function)\n",
    "- See [World Population Growth, 1700-2010](https://ourworldindata.org/world-population-growth-past-future). World Population is non-linear and monotonic. Annual growth rate is non-linear and non-monotonic.\n",
    "- See [Accidents per Mile Driven, by Driver Age](http://howwedrive.com/2009/02/20/whats-the-real-risk-of-older-drivers/). This is non-linear and non-monotonic.\n",
    "\n",
    "#### What does _feature interactions_ mean?!?!\n",
    "- See the explanation in [_Interpretable Machine Learning_, Chapter 5.4.1, Feature Interaction](https://christophm.github.io/interpretable-ml-book/interaction.html#feature-interaction).\n",
    "- See the exploration in this notebook, under the heading ***Interlude #2: Simple housing***"
   ]
  },
  {
   "cell_type": "markdown",
   "metadata": {
    "colab_type": "text",
    "id": "KxBwjWHq_0xK"
   },
   "source": [
    "### Visualize decision tree\n",
    "\n",
    "https://scikit-learn.org/stable/modules/generated/sklearn.tree.plot_tree.html"
   ]
  },
  {
   "cell_type": "code",
   "execution_count": null,
   "metadata": {
    "colab": {},
    "colab_type": "code",
    "id": "lXF2Jkl4_3Lv"
   },
   "outputs": [],
   "source": []
  },
  {
   "cell_type": "markdown",
   "metadata": {
    "colab_type": "text",
    "id": "N5GYg5Ze7de3"
   },
   "source": [
    "### Make 3 heatmaps, with longitude & latitude\n",
    "- Actual % of functional waterpumps\n",
    "- Decision Tree predicted probability of functional waterpumps\n",
    "- Logistic Regression predicted probability of functional waterpumps"
   ]
  },
  {
   "cell_type": "code",
   "execution_count": null,
   "metadata": {
    "colab": {},
    "colab_type": "code",
    "id": "l6uVMTX3u7fN"
   },
   "outputs": [],
   "source": []
  },
  {
   "cell_type": "markdown",
   "metadata": {
    "colab_type": "text",
    "id": "5zlKegIZBbGr"
   },
   "source": [
    "### Interlude #1: predicting golf putts\n",
    "(1 feature, non-linear, regression)\n",
    "\n",
    "https://statmodeling.stat.columbia.edu/2008/12/04/the_golf_puttin/"
   ]
  },
  {
   "cell_type": "code",
   "execution_count": null,
   "metadata": {
    "colab": {},
    "colab_type": "code",
    "id": "GjvPHk-FBayo"
   },
   "outputs": [],
   "source": [
    "columns = ['distance', 'tries', 'successes']\n",
    "data = [[2, 1443, 1346],\n",
    "        [3, 694, 577],\n",
    "        [4, 455, 337],\n",
    "        [5, 353, 208],\n",
    "        [6, 272, 149],\n",
    "        [7, 256, 136],\n",
    "        [8, 240, 111],\n",
    "        [9, 217, 69],\n",
    "        [10, 200, 67],\n",
    "        [11, 237, 75],\n",
    "        [12, 202, 52],\n",
    "        [13, 192, 46],\n",
    "        [14, 174, 54],\n",
    "        [15, 167, 28],\n",
    "        [16, 201, 27],\n",
    "        [17, 195, 31],\n",
    "        [18, 191, 33],\n",
    "        [19, 147, 20],\n",
    "        [20, 152, 24]]\n",
    "\n",
    "putts = pd.DataFrame(columns=columns, data=data)\n",
    "putts['rate of success'] = putts['successes'] / putts['tries']\n",
    "putts.plot('distance', 'rate of success', kind='scatter', title='Golf Putts');"
   ]
  },
  {
   "cell_type": "markdown",
   "metadata": {
    "colab_type": "text",
    "id": "Tr-83jOEBsxK"
   },
   "source": [
    "#### Compare Linear Regression ... "
   ]
  },
  {
   "cell_type": "code",
   "execution_count": null,
   "metadata": {
    "colab": {},
    "colab_type": "code",
    "id": "x988kCamBpbn"
   },
   "outputs": [],
   "source": [
    "from sklearn.linear_model import LinearRegression\n",
    "\n",
    "putts_X = putts[['distance']]\n",
    "putts_y = putts['rate of success']\n",
    "lr = LinearRegression()\n",
    "lr.fit(putts_X, putts_y)\n",
    "print('R^2 Score', lr.score(putts_X, putts_y))\n",
    "ax = putts.plot('distance', 'rate of success', kind='scatter', title='Golf Putts')\n",
    "ax.plot(putts_X, lr.predict(putts_X));"
   ]
  },
  {
   "cell_type": "markdown",
   "metadata": {
    "colab_type": "text",
    "id": "MjLGrZjfFGD-"
   },
   "source": [
    "#### ... versus a Decision Tree Regressor\n",
    "https://scikit-learn.org/stable/modules/generated/sklearn.tree.DecisionTreeRegressor.html"
   ]
  },
  {
   "cell_type": "code",
   "execution_count": null,
   "metadata": {
    "colab": {},
    "colab_type": "code",
    "id": "EpFIetrsB2yc"
   },
   "outputs": [],
   "source": [
    "import graphviz\n",
    "from ipywidgets import interact\n",
    "from sklearn.tree import DecisionTreeRegressor, export_graphviz\n",
    "\n",
    "def viztree(decision_tree, feature_names):\n",
    "    dot_data = export_graphviz(decision_tree, out_file=None, feature_names=feature_names, \n",
    "                               filled=True, rounded=True)   \n",
    "    return graphviz.Source(dot_data)\n",
    "\n",
    "def putts_tree(max_depth=1):\n",
    "    tree = DecisionTreeRegressor(max_depth=max_depth)\n",
    "    tree.fit(putts_X, putts_y)\n",
    "    print('R^2 Score', tree.score(putts_X, putts_y))\n",
    "    ax = putts.plot('distance', 'rate of success', kind='scatter', title='Golf Putts')\n",
    "    ax.step(putts_X, tree.predict(putts_X), where='mid')\n",
    "    plt.show()\n",
    "    display(viztree(tree, feature_names=['distance']))\n",
    "\n",
    "interact(putts_tree, max_depth=(1,6,1));"
   ]
  },
  {
   "cell_type": "markdown",
   "metadata": {
    "colab_type": "text",
    "id": "WBQJB0PVFtIE"
   },
   "source": [
    "### Interlude #2: Simple housing \n",
    "(2 features, regression)\n",
    "\n",
    "https://christophm.github.io/interpretable-ml-book/interaction.html#feature-interaction"
   ]
  },
  {
   "cell_type": "code",
   "execution_count": null,
   "metadata": {
    "colab": {},
    "colab_type": "code",
    "id": "SHQ6oh1uFzHO"
   },
   "outputs": [],
   "source": [
    "columns = ['Price', 'Good Location', 'Big Size']\n",
    "\n",
    "data = [[300000, 1, 1], \n",
    "        [200000, 1, 0], \n",
    "        [250000, 0, 1], \n",
    "        [150000, 0, 0]]\n",
    "\n",
    "house = pd.DataFrame(columns=columns, data=data)\n",
    "house"
   ]
  },
  {
   "cell_type": "markdown",
   "metadata": {
    "colab_type": "text",
    "id": "cH8IVe6GGAsm"
   },
   "source": [
    "#### Compare Linear Regression ... "
   ]
  },
  {
   "cell_type": "code",
   "execution_count": null,
   "metadata": {
    "colab": {},
    "colab_type": "code",
    "id": "Z9uMiKdzF6Ud"
   },
   "outputs": [],
   "source": [
    "house_X = house.drop(columns='Price')\n",
    "house_y = house['Price']\n",
    "lr = LinearRegression()\n",
    "lr.fit(house_X, house_y)\n",
    "print('R^2', lr.score(house_X, house_y))\n",
    "print('Intercept \\t', lr.intercept_)\n",
    "coefficients = pd.Series(lr.coef_, house_X.columns)\n",
    "print(coefficients.to_string())"
   ]
  },
  {
   "cell_type": "markdown",
   "metadata": {
    "colab_type": "text",
    "id": "q7AASlWVGMD4"
   },
   "source": [
    "#### ... versus a Decision Tree Regressor"
   ]
  },
  {
   "cell_type": "code",
   "execution_count": null,
   "metadata": {
    "colab": {},
    "colab_type": "code",
    "id": "sWlqO_usGKS8"
   },
   "outputs": [],
   "source": [
    "tree = DecisionTreeRegressor()\n",
    "tree.fit(house_X, house_y)\n",
    "print('R^2', tree.score(house_X, house_y))\n",
    "viztree(tree, feature_names=house_X.columns)"
   ]
  },
  {
   "cell_type": "markdown",
   "metadata": {
    "colab_type": "text",
    "id": "MZkaOREUGzYp"
   },
   "source": [
    "### Simple housing, with a twist: _Feature Interaction_"
   ]
  },
  {
   "cell_type": "code",
   "execution_count": null,
   "metadata": {
    "colab": {},
    "colab_type": "code",
    "id": "6HE0_pibGzJj"
   },
   "outputs": [],
   "source": [
    "house.loc[0, 'Price'] = 400000\n",
    "house_X = house.drop(columns='Price')\n",
    "house_y = house['Price']\n",
    "house"
   ]
  },
  {
   "cell_type": "markdown",
   "metadata": {
    "colab_type": "text",
    "id": "rh7ZJe7GHCSp"
   },
   "source": [
    "#### Compare Linear Regression ... "
   ]
  },
  {
   "cell_type": "code",
   "execution_count": null,
   "metadata": {
    "colab": {},
    "colab_type": "code",
    "id": "YYINxJkdG_Q2"
   },
   "outputs": [],
   "source": [
    "lr = LinearRegression()\n",
    "lr.fit(house_X, house_y)\n",
    "print('R^2', lr.score(house_X, house_y))\n",
    "print('Intercept \\t', lr.intercept_)\n",
    "coefficients = pd.Series(lr.coef_, house_X.columns)\n",
    "print(coefficients.to_string())"
   ]
  },
  {
   "cell_type": "markdown",
   "metadata": {
    "colab_type": "text",
    "id": "9KIVsFO_HSmS"
   },
   "source": [
    "#### ... versus a Decision Tree Regressor"
   ]
  },
  {
   "cell_type": "code",
   "execution_count": null,
   "metadata": {
    "colab": {},
    "colab_type": "code",
    "id": "r6JYZBZBHIX2"
   },
   "outputs": [],
   "source": [
    "tree = DecisionTreeRegressor()\n",
    "tree.fit(house_X, house_y)\n",
    "print('R^2', tree.score(house_X, house_y))\n",
    "viztree(tree, feature_names=house_X.columns)"
   ]
  },
  {
   "cell_type": "markdown",
   "metadata": {
    "colab_type": "text",
    "id": "cUW3dabWAWPk"
   },
   "source": [
    "## Get and interpret feature importances of a tree-based model"
   ]
  },
  {
   "cell_type": "code",
   "execution_count": null,
   "metadata": {
    "colab": {},
    "colab_type": "code",
    "id": "-1_grdR-AVyJ"
   },
   "outputs": [],
   "source": []
  },
  {
   "cell_type": "markdown",
   "metadata": {
    "colab_type": "text",
    "id": "oOgglh_kCt_c"
   },
   "source": [
    "# Assignment\n",
    "- Start a clean notebook, or continue with yesterday's assignment notebook.\n",
    "- Continue to participate in our Kaggle competition with the Tanzania Waterpumps data. \n",
    "- Do more exploratory data analysis, data cleaning, feature engineering, and feature selection.\n",
    "- Try a Decision Tree Classifier. \n",
    "- Submit new predictions.\n",
    "- Commit your notebook to your fork of the GitHub repo.\n",
    "\n",
    "\n",
    "## Stretch Goals\n",
    "- Create visualizations and share on Slack.\n",
    "- Read more about decision trees and tree ensembles. You can start with the links at the top of this notebook.\n",
    "- Try [scikit-learn pipelines](https://scikit-learn.org/stable/modules/compose.html):\n",
    "\n",
    "> Pipeline can be used to chain multiple estimators into one. This is useful as there is often a fixed sequence of steps in processing the data, for example feature selection, normalization and classification. Pipeline serves multiple purposes here:\n",
    "\n",
    "> - **Convenience and encapsulation.** You only have to call fit and predict once on your data to fit a whole sequence of estimators.\n",
    "> - **Joint parameter selection.** You can grid search over parameters of all estimators in the pipeline at once.\n",
    "> - **Safety.** Pipelines help avoid leaking statistics from your test data into the trained model in cross-validation, by ensuring that the same samples are used to train the transformers and predictors.\n"
   ]
  }
 ],
 "metadata": {
  "colab": {
   "collapsed_sections": [],
   "name": "decision_trees.ipynb",
   "provenance": [],
   "version": "0.3.2"
  },
  "kernelspec": {
   "display_name": "Python 3",
   "language": "python",
   "name": "python3"
  },
  "language_info": {
   "codemirror_mode": {
    "name": "ipython",
    "version": 3
   },
   "file_extension": ".py",
   "mimetype": "text/x-python",
   "name": "python",
   "nbconvert_exporter": "python",
   "pygments_lexer": "ipython3",
   "version": "3.7.3"
  }
 },
 "nbformat": 4,
 "nbformat_minor": 1
}
