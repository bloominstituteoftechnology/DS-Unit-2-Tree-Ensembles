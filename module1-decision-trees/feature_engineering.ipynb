{
 "cells": [
  {
   "cell_type": "code",
   "execution_count": 72,
   "metadata": {},
   "outputs": [],
   "source": [
    "%matplotlib inline\n",
    "import category_encoders as ce\n",
    "import matplotlib.pyplot as plt\n",
    "import numpy as np\n",
    "import pandas as pd\n",
    "import seaborn as sns\n",
    "from sklearn.impute import SimpleImputer\n",
    "from sklearn.model_selection import train_test_split\n",
    "from sklearn.pipeline import make_pipeline\n",
    "from sklearn.preprocessing import RobustScaler\n",
    "from sklearn.tree import DecisionTreeClassifier\n",
    "\n",
    "LOCAL = '../data/tanzania/'\n",
    "WEB = 'https://raw.githubusercontent.com/LambdaSchool/DS-Unit-2-Tree-Ensembles/master/data/tanzania/'\n",
    "source = LOCAL\n",
    "\n",
    "# Merge train_features.csv & train_labels.csv\n",
    "train = pd.merge(pd.read_csv(source + 'train_features.csv'), \n",
    "                 pd.read_csv(source + 'train_labels.csv'))\n",
    "\n",
    "# Read test_features.csv & sample_submission.csv\n",
    "test = pd.read_csv(source + 'test_features.csv')\n",
    "sample_submission = pd.read_csv(source + 'sample_submission.csv')"
   ]
  },
  {
   "cell_type": "code",
   "execution_count": 73,
   "metadata": {},
   "outputs": [
    {
     "name": "stdout",
     "output_type": "stream",
     "text": [
      "(47520, 41) (11880, 41) (14358, 40)\n"
     ]
    }
   ],
   "source": [
    "# Split train into train & val\n",
    "train, val = train_test_split(train, train_size=0.80, test_size=0.20, \n",
    "                              stratify=train['status_group'], random_state=42)\n",
    "\n",
    "print(train.shape, val.shape, test.shape)"
   ]
  },
  {
   "cell_type": "code",
   "execution_count": 74,
   "metadata": {},
   "outputs": [],
   "source": [
    "def clean_data (X):\n",
    "    X = X.copy()\n",
    "    \n",
    "    # convert all strings to lowercase\n",
    "    cat_features = X.select_dtypes('object').columns.tolist()\n",
    "    for feat in cat_features:\n",
    "        X[feat] = X[feat].str.lower()\n",
    "        \n",
    "    # Replace -2.00000e-08 with np.nan\n",
    "    X['latitude'] = X['latitude'].replace(-2.000000e-08, np.nan)\n",
    "    \n",
    "    clean_features = [\n",
    "        'gps_height',\n",
    "        'population',\n",
    "        'amount_tsh',\n",
    "        'construction_year',\n",
    "        'latitude',\n",
    "        'longitude'\n",
    "    ]\n",
    "    \n",
    "    for feat in clean_features:\n",
    "        # Replace values=0.0 with np.nan\n",
    "        X[feat] = X[feat].replace(0, np.nan)\n",
    "        \n",
    "        # fill nan with mean using region and district code\n",
    "        X[feat] = X[feat].fillna(X.groupby(['region', 'district_code'])[feat].transform('mean'))\n",
    "        \n",
    "        # fill nan with mean of region if district code is missing\n",
    "        X[feat] = X[feat].fillna(X.groupby(['region'])[feat].transform('mean'))\n",
    "        \n",
    "        # fill nan with general mean if no region or district code\n",
    "        X[feat] = X[feat].fillna(X[feat].mean())\n",
    "        \n",
    "    # fillna of scheme_management with 'unknow' and combine low count values into 'other'\n",
    "    X['scheme_management'] = X['scheme_management'].fillna('unknown')\n",
    "    X['scheme_management'] = X['scheme_management'].replace({\n",
    "        'swc':'Other',\n",
    "        'trust':'Other',\n",
    "        'none':'Other',\n",
    "        'company': 'Other'\n",
    "    })\n",
    "    \n",
    "    # make date_recorded datetime type\n",
    "    X['date_recorded'] = pd.to_datetime(X['date_recorded'])\n",
    "        \n",
    "    return X"
   ]
  },
  {
   "cell_type": "code",
   "execution_count": 75,
   "metadata": {},
   "outputs": [
    {
     "data": {
      "text/plain": [
       "((47520, 41), (11880, 41), (14358, 40))"
      ]
     },
     "execution_count": 75,
     "metadata": {},
     "output_type": "execute_result"
    }
   ],
   "source": [
    "train = clean_data(train)\n",
    "val = clean_data(val)\n",
    "test = clean_data(test)\n",
    "\n",
    "train.shape, val.shape, test.shape"
   ]
  },
  {
   "cell_type": "code",
   "execution_count": 77,
   "metadata": {},
   "outputs": [],
   "source": [
    "def feature_eng(X):\n",
    "    X = X.copy()\n",
    "    \n",
    "    # create month and year features from date_recorded\n",
    "    X['month'] = X['date_recorded'].dt.month\n",
    "    X['year'] = X['date_recorded'].dt.year\n",
    "    \n",
    "    # create a pump age feature\n",
    "    X['pump_age'] = (X['year'].max() - X['construction_year'])\n",
    "    \n",
    "    # create seasons based on month\n",
    "    X['hot_dry'] = (X['month'] == 12) | (X['month'] < 3)     # Dec. - Feb.\n",
    "    X['cool_dry'] = (X['month'] > 5) & (X['month'] < 11)     # Jun. - Oct\n",
    "    X['light_rain'] = (X['month'] == 3) | (X['month'] == 11) # Mar. & Nov.\n",
    "    X['heavy_rain'] = (X['month'] == 4) | (X['month'] == 5)  # Apr. & May\n",
    "    \n",
    "    # create installer features\n",
    "    X['dwe_installer'] = (X['installer'] == 'dwe')\n",
    "    X['gov_installer'] = (X['installer'] == 'government')\n",
    "     \n",
    "    one_time_installer = X['installer'].value_counts()[X['installer'].value_counts() == 1]\n",
    "    X['one_time_installer'] = X['installer'].isin(one_time_installer.index)\n",
    "    \n",
    "    minor_installer = X['installer'].value_counts()[X['installer'].value_counts() <= 7]\n",
    "    X['minor_installer'] = X['installer'].isin(minor_installer.index)\n",
    "    \n",
    "    major_installer = X['installer'].value_counts()[X['installer'].value_counts() > 7]\n",
    "    X['major_installer'] = X['installer'].isin(major_installer.index)\n",
    "    \n",
    "    # create funder features\n",
    "    X['gov_funder'] = (X['funder'] == 'government of tanzania')\n",
    "     \n",
    "    one_time_funder = X['funder'].value_counts()[X['funder'].value_counts() == 1]\n",
    "    X['one_time_funder'] = X['funder'].isin(one_time_funder.index)\n",
    "    \n",
    "    minor_funder = X['funder'].value_counts()[X['funder'].value_counts() <= 7]\n",
    "    X['minor_funder'] = X['funder'].isin(minor_funder.index)\n",
    "    \n",
    "    major_funder = X['funder'].value_counts()[X['funder'].value_counts() > 7]\n",
    "    X['major_funder'] = X['funder'].isin(major_funder.index)\n",
    "    \n",
    "    # amount per person \n",
    "    X['amount_per_person'] = (X['amount_tsh'] / X['population'])\n",
    "    \n",
    "    # gps height / ampunt\n",
    "    X['gps_per_person'] = X['gps_height'] / X['amount_tsh']\n",
    "    \n",
    "    return X"
   ]
  },
  {
   "cell_type": "code",
   "execution_count": 78,
   "metadata": {
    "scrolled": true
   },
   "outputs": [
    {
     "data": {
      "text/plain": [
       "((47520, 59), (11880, 59), (14358, 58))"
      ]
     },
     "execution_count": 78,
     "metadata": {},
     "output_type": "execute_result"
    }
   ],
   "source": [
    "train = feature_eng(train)\n",
    "val = feature_eng(val)\n",
    "test = feature_eng(test)\n",
    "\n",
    "train.shape, val.shape, test.shape"
   ]
  },
  {
   "cell_type": "code",
   "execution_count": 79,
   "metadata": {},
   "outputs": [],
   "source": [
    "def drop_cols(X):\n",
    "    X = X.copy()\n",
    "    \n",
    "    # drop unneeded cols\n",
    "    drop_cols = [\n",
    "        'recorded_by',\n",
    "        'id',\n",
    "        'quantity_group'\n",
    "    ]\n",
    "    \n",
    "    X = X.drop(columns=drop_cols)\n",
    "    \n",
    "    return X"
   ]
  },
  {
   "cell_type": "code",
   "execution_count": 80,
   "metadata": {},
   "outputs": [
    {
     "data": {
      "text/plain": [
       "((47520, 56), (11880, 56), (14358, 55))"
      ]
     },
     "execution_count": 80,
     "metadata": {},
     "output_type": "execute_result"
    }
   ],
   "source": [
    "train = drop_cols(train)\n",
    "val = drop_cols(val)\n",
    "test = drop_cols(test)\n",
    "\n",
    "train.shape, val.shape, test.shape"
   ]
  },
  {
   "cell_type": "code",
   "execution_count": null,
   "metadata": {},
   "outputs": [],
   "source": []
  },
  {
   "cell_type": "code",
   "execution_count": null,
   "metadata": {},
   "outputs": [],
   "source": []
  },
  {
   "cell_type": "code",
   "execution_count": null,
   "metadata": {},
   "outputs": [],
   "source": []
  },
  {
   "cell_type": "code",
   "execution_count": null,
   "metadata": {},
   "outputs": [],
   "source": []
  }
 ],
 "metadata": {
  "kernelspec": {
   "display_name": "Python 3",
   "language": "python",
   "name": "python3"
  },
  "language_info": {
   "codemirror_mode": {
    "name": "ipython",
    "version": 3
   },
   "file_extension": ".py",
   "mimetype": "text/x-python",
   "name": "python",
   "nbconvert_exporter": "python",
   "pygments_lexer": "ipython3",
   "version": "3.7.3"
  }
 },
 "nbformat": 4,
 "nbformat_minor": 2
}
