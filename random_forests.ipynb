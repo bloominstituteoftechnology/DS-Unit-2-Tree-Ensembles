{
  "nbformat": 4,
  "nbformat_minor": 0,
  "metadata": {
    "colab": {
      "name": "random_forests.ipynb",
      "version": "0.3.2",
      "provenance": [],
      "include_colab_link": true
    },
    "language_info": {
      "codemirror_mode": {
        "name": "ipython",
        "version": 3
      },
      "file_extension": ".py",
      "mimetype": "text/x-python",
      "name": "python",
      "nbconvert_exporter": "python",
      "pygments_lexer": "ipython3",
      "version": "3.7.1"
    },
    "kernelspec": {
      "display_name": "Python 3",
      "language": "python",
      "name": "python3"
    }
  },
  "cells": [
    {
      "cell_type": "markdown",
      "metadata": {
        "id": "view-in-github",
        "colab_type": "text"
      },
      "source": [
        "<a href=\"https://colab.research.google.com/github/elizabethts/DS-Unit-2-Tree-Ensembles/blob/master/random_forests.ipynb\" target=\"_parent\"><img src=\"https://colab.research.google.com/assets/colab-badge.svg\" alt=\"Open In Colab\"/></a>"
      ]
    },
    {
      "cell_type": "markdown",
      "metadata": {
        "id": "EwxnOjRVQz0n",
        "colab_type": "text"
      },
      "source": [
        "_Lambda School Data Science — Tree Ensembles_ \n",
        "\n",
        "This sprint, your project is about water pumps in Tanzania. Can you predict which water pumps are faulty?\n",
        "\n",
        "# Random Forests, Ordinal Encoding"
      ]
    },
    {
      "cell_type": "markdown",
      "metadata": {
        "id": "JH1_FapcQz0z",
        "colab_type": "text"
      },
      "source": [
        "### Objectives\n",
        "- do feature engineering with dates\n",
        "- use scikit-learn for random forests\n",
        "- understand how tree ensembles reduce overfitting compared to a single decision tree with unlimited depth\n",
        "- do ordinal encoding with high-cardinality categoricals\n",
        "- understand how categorical encodings affect trees differently compared to linear models"
      ]
    },
    {
      "cell_type": "markdown",
      "metadata": {
        "id": "XRuzHN3XQz05",
        "colab_type": "text"
      },
      "source": [
        "### Summary \n",
        "\n",
        "#### Try Tree Ensembles when you do machine learning with labeled, tabular data\n",
        "- \"Tree Ensembles\" means Random Forest or Gradient Boosting models. \n",
        "- [Tree Ensembles often have the best predictive accuracy](https://arxiv.org/abs/1708.05070) with labeled, tabular data.\n",
        "- Why? Because trees can fit non-linear, non-[monotonic](https://en.wikipedia.org/wiki/Monotonic_function) relationships, and [interactions](https://christophm.github.io/interpretable-ml-book/interaction.html) between features.\n",
        "- A single decision tree, grown to unlimited depth, will [overfit](http://www.r2d3.us/visual-intro-to-machine-learning-part-1/). We solve this problem by ensembling trees, with bagging (Random Forest) or boosting (Gradient Boosting).\n",
        "- Random Forest's advantage: may be less sensitive to hyperparameters. Gradient Boosting's advantage: may get better predictive accuracy.\n",
        "\n",
        "#### One-hot encoding isn’t the only way, and may not be the best way, of categorical encoding for tree ensembles.\n",
        "- For example, tree ensembles can work with arbitrary \"ordinal\" encoding! (Randomly assigning an integer to each category.) Compared to one-hot encoding, the dimensionality will be lower, and the predictive accuracy may be just as good or even better.\n"
      ]
    },
    {
      "cell_type": "markdown",
      "metadata": {
        "id": "-NEsHZY8Qz09",
        "colab_type": "text"
      },
      "source": [
        "### Libraries\n",
        "\n",
        "#### category_encoders\n",
        "- Local, Anaconda: `conda install -c conda-forge category_encoders`\n",
        "- Google Colab: `pip install category_encoders`\n",
        "\n",
        "#### graphviz\n",
        "- Local, Anaconda: `conda install python-graphviz`\n",
        "- Google Colab:  `!pip install graphviz` `!apt-get install graphviz`"
      ]
    },
    {
      "cell_type": "code",
      "metadata": {
        "id": "9un49TlFqqOY",
        "colab_type": "code",
        "colab": {}
      },
      "source": [
        "import category_encoders as ce\n",
        "import matplotlib.pyplot as plt\n",
        "import numpy as np\n",
        "import pandas as pd\n",
        "import seaborn as sns\n",
        "from sklearn.impute import SimpleImputer\n",
        "from sklearn.model_selection import train_test_split\n",
        "from sklearn.pipeline import make_pipeline\n",
        "from sklearn.preprocessing import RobustScaler\n",
        "from sklearn.tree import DecisionTreeClassifier\n",
        "from sklearn.ensemble import RandomForestClassifier\n",
        "from sklearn.pipeline import make_pipeline"
      ],
      "execution_count": 0,
      "outputs": []
    },
    {
      "cell_type": "code",
      "metadata": {
        "id": "y_-1bK_6DUrv",
        "colab_type": "code",
        "colab": {
          "base_uri": "https://localhost:8080/",
          "height": 51
        },
        "outputId": "1a3fe141-b8ec-4d11-a3ce-8ba14ffae437"
      },
      "source": [
        "from google.colab import drive\n",
        "drive.mount('/content/drive')\n",
        "%env KAGGLE_CONFIG_DIR=/content/drive/My Drive/"
      ],
      "execution_count": 55,
      "outputs": [
        {
          "output_type": "stream",
          "text": [
            "Drive already mounted at /content/drive; to attempt to forcibly remount, call drive.mount(\"/content/drive\", force_remount=True).\n",
            "env: KAGGLE_CONFIG_DIR=/content/drive/My Drive/\n"
          ],
          "name": "stdout"
        }
      ]
    },
    {
      "cell_type": "code",
      "metadata": {
        "id": "rhDaq_U1DOZI",
        "colab_type": "code",
        "colab": {
          "base_uri": "https://localhost:8080/",
          "height": 233
        },
        "outputId": "f19bb72b-c46f-4e9b-cbb8-712be3fde05a"
      },
      "source": [
        "!pip install kaggle"
      ],
      "execution_count": 53,
      "outputs": [
        {
          "output_type": "stream",
          "text": [
            "Requirement already satisfied: kaggle in /usr/local/lib/python3.6/dist-packages (1.5.4)\n",
            "Requirement already satisfied: six>=1.10 in /usr/local/lib/python3.6/dist-packages (from kaggle) (1.12.0)\n",
            "Requirement already satisfied: python-dateutil in /usr/local/lib/python3.6/dist-packages (from kaggle) (2.5.3)\n",
            "Requirement already satisfied: tqdm in /usr/local/lib/python3.6/dist-packages (from kaggle) (4.28.1)\n",
            "Requirement already satisfied: python-slugify in /usr/local/lib/python3.6/dist-packages (from kaggle) (3.0.2)\n",
            "Requirement already satisfied: certifi in /usr/local/lib/python3.6/dist-packages (from kaggle) (2019.6.16)\n",
            "Requirement already satisfied: urllib3<1.25,>=1.21.1 in /usr/local/lib/python3.6/dist-packages (from kaggle) (1.24.3)\n",
            "Requirement already satisfied: requests in /usr/local/lib/python3.6/dist-packages (from kaggle) (2.21.0)\n",
            "Requirement already satisfied: text-unidecode==1.2 in /usr/local/lib/python3.6/dist-packages (from python-slugify->kaggle) (1.2)\n",
            "Requirement already satisfied: chardet<3.1.0,>=3.0.2 in /usr/local/lib/python3.6/dist-packages (from requests->kaggle) (3.0.4)\n",
            "Requirement already satisfied: idna<2.9,>=2.5 in /usr/local/lib/python3.6/dist-packages (from requests->kaggle) (2.8)\n"
          ],
          "name": "stdout"
        }
      ]
    },
    {
      "cell_type": "code",
      "metadata": {
        "id": "516lkYG_DQC2",
        "colab_type": "code",
        "colab": {
          "base_uri": "https://localhost:8080/",
          "height": 114
        },
        "outputId": "5fa682df-8bbf-4160-b8f4-c657034c9b62"
      },
      "source": [
        "!kaggle competitions download -c ds5-predictive-modeling-challenge"
      ],
      "execution_count": 56,
      "outputs": [
        {
          "output_type": "stream",
          "text": [
            "train_features.csv.zip: Skipping, found more recently modified local copy (use --force to force download)\n",
            "train_labels.csv.zip: Skipping, found more recently modified local copy (use --force to force download)\n",
            "test_features.csv.zip: Skipping, found more recently modified local copy (use --force to force download)\n",
            "sample_submission.csv: Skipping, found more recently modified local copy (use --force to force download)\n"
          ],
          "name": "stdout"
        }
      ]
    },
    {
      "cell_type": "markdown",
      "metadata": {
        "id": "zJpgkauZQz1A",
        "colab_type": "text"
      },
      "source": [
        "## Solution example\n",
        "- Do feature engineering with dates\n",
        "- Clean data with outliers\n",
        "- Impute missing values\n",
        "- Use scikit-learn for decision trees\n",
        "- Get and interpret feature importances of a tree-based model"
      ]
    },
    {
      "cell_type": "code",
      "metadata": {
        "id": "VMbfHISnQz1C",
        "colab_type": "code",
        "colab": {}
      },
      "source": [
        "%matplotlib inline\n",
        "\n",
        "LOCAL = '../data/tanzania/'\n",
        "WEB = 'https://raw.githubusercontent.com/LambdaSchool/DS-Unit-2-Tree-Ensembles/master/data/tanzania/'\n",
        "source = WEB\n",
        "\n",
        "# Merge train_features.csv & train_labels.csv\n",
        "train = pd.merge(pd.read_csv(source + 'train_features.csv'), \n",
        "                 pd.read_csv(source + 'train_labels.csv'))\n",
        "\n",
        "# Read test_features.csv & sample_submission.csv\n",
        "test = pd.read_csv(source + 'test_features.csv')\n",
        "sample_submission = pd.read_csv(source + 'sample_submission.csv')\n",
        "\n",
        "# Split train into train & val\n",
        "train, val = train_test_split(train, train_size=0.80, test_size=0.20, \n",
        "                              stratify=train['status_group'], random_state=42)\n",
        "\n",
        "\n",
        "def wrangle(X):\n",
        "    \"\"\"Wrangles train, validate, and test sets in the same way\"\"\"\n",
        "    X = X.copy()\n",
        "\n",
        "    # Convert date_recorded to datetime\n",
        "    X['date_recorded'] = pd.to_datetime(X['date_recorded'], infer_datetime_format=True)\n",
        "    \n",
        "    # Extract components from date_recorded, then drop the original column\n",
        "    X['year_recorded'] = X['date_recorded'].dt.year\n",
        "    X['month_recorded'] = X['date_recorded'].dt.month\n",
        "    X['day_recorded'] = X['date_recorded'].dt.day\n",
        "    X = X.drop(columns='date_recorded')\n",
        "    \n",
        "    # Engineer feature: how many years from construction_year to date_recorded\n",
        "    X['years'] = X['year_recorded'] - X['construction_year']    \n",
        "    \n",
        "    # Drop recorded_by (never varies) and id (always varies, random)\n",
        "    X = X.drop(columns=['recorded_by', 'id'])\n",
        "    \n",
        "    # Drop duplicate columns\n",
        "    duplicate_columns = ['quantity_group']\n",
        "    X = X.drop(columns=duplicate_columns)\n",
        "    \n",
        "    # About 3% of the time, latitude has small values near zero,\n",
        "    # outside Tanzania, so we'll treat these like null values\n",
        "    X['latitude'] = X['latitude'].replace(-2e-08, np.nan)\n",
        "    \n",
        "    # When columns have zeros and shouldn't, they are like null values\n",
        "    cols_with_zeros = ['construction_year', 'longitude', 'latitude', 'gps_height', 'population']\n",
        "    for col in cols_with_zeros:\n",
        "        X[col] = X[col].replace(0, np.nan)\n",
        "        \n",
        "    # fill permit and public meeting missing values\n",
        "    X.permit = X.permit.fillna(method='ffill')\n",
        "    X.public_meeting = X.public_meeting.fillna(method='ffill')\n",
        "\n",
        "    return X\n",
        "\n",
        "\n",
        "train = wrangle(train)\n",
        "val = wrangle(val)\n",
        "test = wrangle(test)"
      ],
      "execution_count": 0,
      "outputs": []
    },
    {
      "cell_type": "code",
      "metadata": {
        "id": "INdff-IbQz1i",
        "colab_type": "code",
        "colab": {}
      },
      "source": [
        "# The status_group column is the target\n",
        "target = 'status_group'\n",
        "\n",
        "# Get a dataframe with all train columns except the target\n",
        "train_features = train.drop(columns=[target])\n",
        "\n",
        "# Get a list of the numeric features\n",
        "numeric_features = train_features.select_dtypes(include='number').columns.tolist()\n",
        "\n",
        "# Get a series with the cardinality of the nonnumeric features\n",
        "cardinality = train_features.select_dtypes(exclude='number').nunique()\n",
        "\n",
        "# Get a list of all categorical features with cardinality <= 50\n",
        "categorical_features = cardinality[cardinality <= 150].index.tolist()\n",
        "\n",
        "# Combine the lists \n",
        "features = numeric_features + categorical_features"
      ],
      "execution_count": 0,
      "outputs": []
    },
    {
      "cell_type": "code",
      "metadata": {
        "id": "WnNLnO6WQz1l",
        "colab_type": "code",
        "colab": {
          "base_uri": "https://localhost:8080/",
          "height": 34
        },
        "outputId": "bb626f7f-ed51-4896-af16-bb6f9ab3020b"
      },
      "source": [
        "# Arrange data into X features matrix and y target vector \n",
        "X_train = train[features]\n",
        "y_train = train[target]\n",
        "X_val = val[features]\n",
        "y_val = val[target]\n",
        "X_test = test[features]\n",
        "\n",
        "# Make pipeline!\n",
        "pipeline = make_pipeline(\n",
        "    ce.OneHotEncoder(use_cat_names=True), \n",
        "    SimpleImputer(strategy='median'), \n",
        "    DecisionTreeClassifier(max_depth=20, random_state=42)\n",
        ")\n",
        "\n",
        "# Fit on train, score on val, predict on test\n",
        "pipeline.fit(X_train, y_train)\n",
        "print('Validation Accuracy', pipeline.score(X_val, y_val))\n",
        "y_pred = pipeline.predict(X_test)\n",
        "\n",
        "# Write submission csv file\n",
        "submission = sample_submission.copy()\n",
        "submission['status_group'] = y_pred\n",
        "submission.to_csv('submission-03.csv', index=False)"
      ],
      "execution_count": 0,
      "outputs": [
        {
          "output_type": "stream",
          "text": [
            "Validation Accuracy 0.8872053872053872\n"
          ],
          "name": "stdout"
        }
      ]
    },
    {
      "cell_type": "code",
      "metadata": {
        "id": "-1Y5thltQz1q",
        "colab_type": "code",
        "colab": {
          "base_uri": "https://localhost:8080/",
          "height": 607
        },
        "outputId": "be5e7140-74b6-4f49-ef7f-1b283d33444d"
      },
      "source": [
        "# Get feature importances\n",
        "encoder = pipeline.named_steps['onehotencoder']\n",
        "tree = pipeline.named_steps['decisiontreeclassifier']\n",
        "feature_names = encoder.transform(X_val).columns\n",
        "importances = pd.Series(tree.feature_importances_, feature_names)\n",
        "\n",
        "# Plot feature importances\n",
        "n = 20\n",
        "plt.figure(figsize=(10,n/2))\n",
        "plt.title(f'Top {n} features')\n",
        "importances.sort_values()[-n:].plot.barh(color='grey');"
      ],
      "execution_count": 0,
      "outputs": [
        {
          "output_type": "display_data",
          "data": {
            "image/png": "[encoded data removed]",
            "text/plain": [
              "<Figure size 720x720 with 1 Axes>"
            ]
          },
          "metadata": {
            "tags": []
          }
        }
      ]
    },
    {
      "cell_type": "code",
      "metadata": {
        "id": "mw9C9cF8Qz1t",
        "colab_type": "code",
        "colab": {
          "base_uri": "https://localhost:8080/",
          "height": 643
        },
        "outputId": "6ac6a736-3c3b-4ada-917d-e82f1b3ae087"
      },
      "source": [
        "import graphviz\n",
        "from sklearn.tree import export_graphviz\n",
        "\n",
        "dot_data = export_graphviz(tree, \n",
        "                           out_file=None, \n",
        "                           max_depth=2, \n",
        "                           feature_names=feature_names, \n",
        "                           class_names=tree.classes_, \n",
        "                           impurity=False, \n",
        "                           filled=True, \n",
        "                           proportion=True, \n",
        "                           rotate=True, \n",
        "                           rounded=True)\n",
        "\n",
        "graphviz.Source(dot_data)"
      ],
      "execution_count": 0,
      "outputs": [
        {
          "output_type": "execute_result",
          "data": {
            "text/plain": [
              "<graphviz.files.Source at 0x7fbf2e65f0b8>"
            ],
            "image/svg+xml": "<?xml version=\"1.0\" encoding=\"UTF-8\" standalone=\"no\"?>\n<!DOCTYPE svg PUBLIC \"-//W3C//DTD SVG 1.1//EN\"\n \"http://www.w3.org/Graphics/SVG/1.1/DTD/svg11.dtd\">\n<!-- Generated by graphviz version 2.40.1 (20161225.0304)\n -->\n<!-- Title: Tree Pages: 1 -->\n<svg width=\"981pt\" height=\"422pt\"\n viewBox=\"0.00 0.00 981.00 422.00\" xmlns=\"http://www.w3.org/2000/svg\" xmlns:xlink=\"http://www.w3.org/1999/xlink\">\n<g id=\"graph0\" class=\"graph\" transform=\"scale(1 1) rotate(0) translate(4 418)\">\n<title>Tree</title>\n<polygon fill=\"#ffffff\" stroke=\"transparent\" points=\"-4,4 -4,-418 977,-418 977,4 -4,4\"/>\n<!-- 0 -->\n<g id=\"node1\" class=\"node\">\n<title>0</title>\n<path fill=\"#f8decc\" stroke=\"#000000\" d=\"M188,-247C188,-247 12,-247 12,-247 6,-247 0,-241 0,-235 0,-235 0,-191 0,-191 0,-185 6,-179 12,-179 12,-179 188,-179 188,-179 194,-179 200,-185 200,-191 200,-191 200,-235 200,-235 200,-241 194,-247 188,-247\"/>\n<text text-anchor=\"middle\" x=\"100\" y=\"-231.8\" font-family=\"Helvetica,sans-Serif\" font-size=\"14.00\" fill=\"#000000\">quantity_dry &lt;= 0.5</text>\n<text text-anchor=\"middle\" x=\"100\" y=\"-216.8\" font-family=\"Helvetica,sans-Serif\" font-size=\"14.00\" fill=\"#000000\">samples = 100.0%</text>\n<text text-anchor=\"middle\" x=\"100\" y=\"-201.8\" font-family=\"Helvetica,sans-Serif\" font-size=\"14.00\" fill=\"#000000\">value = [0.543, 0.073, 0.384]</text>\n<text text-anchor=\"middle\" x=\"100\" y=\"-186.8\" font-family=\"Helvetica,sans-Serif\" font-size=\"14.00\" fill=\"#000000\">class = functional</text>\n</g>\n<!-- 1 -->\n<g id=\"node2\" class=\"node\">\n<title>1</title>\n<path fill=\"#f4caac\" stroke=\"#000000\" d=\"M475,-287C475,-287 248,-287 248,-287 242,-287 236,-281 236,-275 236,-275 236,-231 236,-231 236,-225 242,-219 248,-219 248,-219 475,-219 475,-219 481,-219 487,-225 487,-231 487,-231 487,-275 487,-275 487,-281 481,-287 475,-287\"/>\n<text text-anchor=\"middle\" x=\"361.5\" y=\"-271.8\" font-family=\"Helvetica,sans-Serif\" font-size=\"14.00\" fill=\"#000000\">waterpoint_type_group_other &lt;= 0.5</text>\n<text text-anchor=\"middle\" x=\"361.5\" y=\"-256.8\" font-family=\"Helvetica,sans-Serif\" font-size=\"14.00\" fill=\"#000000\">samples = 89.5%</text>\n<text text-anchor=\"middle\" x=\"361.5\" y=\"-241.8\" font-family=\"Helvetica,sans-Serif\" font-size=\"14.00\" fill=\"#000000\">value = [0.604, 0.081, 0.316]</text>\n<text text-anchor=\"middle\" x=\"361.5\" y=\"-226.8\" font-family=\"Helvetica,sans-Serif\" font-size=\"14.00\" fill=\"#000000\">class = functional</text>\n</g>\n<!-- 0&#45;&gt;1 -->\n<g id=\"edge1\" class=\"edge\">\n<title>0&#45;&gt;1</title>\n<path fill=\"none\" stroke=\"#000000\" d=\"M200.3549,-228.3506C208.7402,-229.6333 217.3022,-230.943 225.8921,-232.2569\"/>\n<polygon fill=\"#000000\" stroke=\"#000000\" points=\"225.5656,-235.7476 235.9799,-233.8 226.6241,-228.8281 225.5656,-235.7476\"/>\n<text text-anchor=\"middle\" x=\"215.8325\" y=\"-244.9014\" font-family=\"Helvetica,sans-Serif\" font-size=\"14.00\" fill=\"#000000\">True</text>\n</g>\n<!-- 8888 -->\n<g id=\"node9\" class=\"node\">\n<title>8888</title>\n<path fill=\"#853fe6\" stroke=\"#000000\" d=\"M449.5,-198C449.5,-198 273.5,-198 273.5,-198 267.5,-198 261.5,-192 261.5,-186 261.5,-186 261.5,-142 261.5,-142 261.5,-136 267.5,-130 273.5,-130 273.5,-130 449.5,-130 449.5,-130 455.5,-130 461.5,-136 461.5,-142 461.5,-142 461.5,-186 461.5,-186 461.5,-192 455.5,-198 449.5,-198\"/>\n<text text-anchor=\"middle\" x=\"361.5\" y=\"-182.8\" font-family=\"Helvetica,sans-Serif\" font-size=\"14.00\" fill=\"#000000\">lga_Shinyanga Rural &lt;= 0.5</text>\n<text text-anchor=\"middle\" x=\"361.5\" y=\"-167.8\" font-family=\"Helvetica,sans-Serif\" font-size=\"14.00\" fill=\"#000000\">samples = 10.5%</text>\n<text text-anchor=\"middle\" x=\"361.5\" y=\"-152.8\" font-family=\"Helvetica,sans-Serif\" font-size=\"14.00\" fill=\"#000000\">value = [0.025, 0.006, 0.969]</text>\n<text text-anchor=\"middle\" x=\"361.5\" y=\"-137.8\" font-family=\"Helvetica,sans-Serif\" font-size=\"14.00\" fill=\"#000000\">class = non functional</text>\n</g>\n<!-- 0&#45;&gt;8888 -->\n<g id=\"edge8\" class=\"edge\">\n<title>0&#45;&gt;8888</title>\n<path fill=\"none\" stroke=\"#000000\" d=\"M200.3549,-194.1955C217.0907,-191.0595 234.5299,-187.7917 251.4912,-184.6135\"/>\n<polygon fill=\"#000000\" stroke=\"#000000\" points=\"252.2294,-188.0362 261.4137,-182.7542 250.9401,-181.1559 252.2294,-188.0362\"/>\n<text text-anchor=\"middle\" x=\"240.7826\" y=\"-164.9347\" font-family=\"Helvetica,sans-Serif\" font-size=\"14.00\" fill=\"#000000\">False</text>\n</g>\n<!-- 2 -->\n<g id=\"node3\" class=\"node\">\n<title>2</title>\n<path fill=\"#f1bd98\" stroke=\"#000000\" d=\"M871,-376C871,-376 535,-376 535,-376 529,-376 523,-370 523,-364 523,-364 523,-320 523,-320 523,-314 529,-308 535,-308 535,-308 871,-308 871,-308 877,-308 883,-314 883,-320 883,-320 883,-364 883,-364 883,-370 877,-376 871,-376\"/>\n<text text-anchor=\"middle\" x=\"703\" y=\"-360.8\" font-family=\"Helvetica,sans-Serif\" font-size=\"14.00\" fill=\"#000000\">waterpoint_type_communal standpipe multiple &lt;= 0.5</text>\n<text text-anchor=\"middle\" x=\"703\" y=\"-345.8\" font-family=\"Helvetica,sans-Serif\" font-size=\"14.00\" fill=\"#000000\">samples = 81.1%</text>\n<text text-anchor=\"middle\" x=\"703\" y=\"-330.8\" font-family=\"Helvetica,sans-Serif\" font-size=\"14.00\" fill=\"#000000\">value = [0.649, 0.083, 0.268]</text>\n<text text-anchor=\"middle\" x=\"703\" y=\"-315.8\" font-family=\"Helvetica,sans-Serif\" font-size=\"14.00\" fill=\"#000000\">class = functional</text>\n</g>\n<!-- 1&#45;&gt;2 -->\n<g id=\"edge2\" class=\"edge\">\n<title>1&#45;&gt;2</title>\n<path fill=\"none\" stroke=\"#000000\" d=\"M487.104,-286.574C499.231,-289.776 511.3488,-292.9602 523,-296 534.8206,-299.084 547.0836,-302.2623 559.3992,-305.4396\"/>\n<polygon fill=\"#000000\" stroke=\"#000000\" points=\"558.7229,-308.8796 569.28,-307.9856 560.4696,-302.101 558.7229,-308.8796\"/>\n</g>\n<!-- 7969 -->\n<g id=\"node6\" class=\"node\">\n<title>7969</title>\n<path fill=\"#a36eec\" stroke=\"#000000\" d=\"M791,-287C791,-287 615,-287 615,-287 609,-287 603,-281 603,-275 603,-275 603,-231 603,-231 603,-225 609,-219 615,-219 615,-219 791,-219 791,-219 797,-219 803,-225 803,-231 803,-231 803,-275 803,-275 803,-281 797,-287 791,-287\"/>\n<text text-anchor=\"middle\" x=\"703\" y=\"-271.8\" font-family=\"Helvetica,sans-Serif\" font-size=\"14.00\" fill=\"#000000\">lga_Ngara &lt;= 0.5</text>\n<text text-anchor=\"middle\" x=\"703\" y=\"-256.8\" font-family=\"Helvetica,sans-Serif\" font-size=\"14.00\" fill=\"#000000\">samples = 8.4%</text>\n<text text-anchor=\"middle\" x=\"703\" y=\"-241.8\" font-family=\"Helvetica,sans-Serif\" font-size=\"14.00\" fill=\"#000000\">value = [0.167, 0.058, 0.775]</text>\n<text text-anchor=\"middle\" x=\"703\" y=\"-226.8\" font-family=\"Helvetica,sans-Serif\" font-size=\"14.00\" fill=\"#000000\">class = non functional</text>\n</g>\n<!-- 1&#45;&gt;7969 -->\n<g id=\"edge5\" class=\"edge\">\n<title>1&#45;&gt;7969</title>\n<path fill=\"none\" stroke=\"#000000\" d=\"M487.2071,-253C521.7636,-253 558.971,-253 592.5954,-253\"/>\n<polygon fill=\"#000000\" stroke=\"#000000\" points=\"592.9087,-256.5001 602.9086,-253 592.9086,-249.5001 592.9087,-256.5001\"/>\n</g>\n<!-- 3 -->\n<g id=\"node4\" class=\"node\">\n<title>3</title>\n<path fill=\"#c0c0c0\" stroke=\"#000000\" d=\"M961,-414C961,-414 931,-414 931,-414 925,-414 919,-408 919,-402 919,-402 919,-390 919,-390 919,-384 925,-378 931,-378 931,-378 961,-378 961,-378 967,-378 973,-384 973,-390 973,-390 973,-402 973,-402 973,-408 967,-414 961,-414\"/>\n<text text-anchor=\"middle\" x=\"946\" y=\"-392.3\" font-family=\"Helvetica,sans-Serif\" font-size=\"14.00\" fill=\"#000000\">(...)</text>\n</g>\n<!-- 2&#45;&gt;3 -->\n<g id=\"edge3\" class=\"edge\">\n<title>2&#45;&gt;3</title>\n<path fill=\"none\" stroke=\"#000000\" d=\"M856.2062,-376.0458C875.7651,-380.3922 894.1454,-384.4768 909.1195,-387.8043\"/>\n<polygon fill=\"#000000\" stroke=\"#000000\" points=\"908.3934,-391.2283 918.9146,-389.981 909.912,-384.395 908.3934,-391.2283\"/>\n</g>\n<!-- 6312 -->\n<g id=\"node5\" class=\"node\">\n<title>6312</title>\n<path fill=\"#c0c0c0\" stroke=\"#000000\" d=\"M961,-360C961,-360 931,-360 931,-360 925,-360 919,-354 919,-348 919,-348 919,-336 919,-336 919,-330 925,-324 931,-324 931,-324 961,-324 961,-324 967,-324 973,-330 973,-336 973,-336 973,-348 973,-348 973,-354 967,-360 961,-360\"/>\n<text text-anchor=\"middle\" x=\"946\" y=\"-338.3\" font-family=\"Helvetica,sans-Serif\" font-size=\"14.00\" fill=\"#000000\">(...)</text>\n</g>\n<!-- 2&#45;&gt;6312 -->\n<g id=\"edge4\" class=\"edge\">\n<title>2&#45;&gt;6312</title>\n<path fill=\"none\" stroke=\"#000000\" d=\"M883.1054,-342C892.2678,-342 900.8454,-342 908.5412,-342\"/>\n<polygon fill=\"#000000\" stroke=\"#000000\" points=\"908.8028,-345.5001 918.8028,-342 908.8028,-338.5001 908.8028,-345.5001\"/>\n</g>\n<!-- 7970 -->\n<g id=\"node7\" class=\"node\">\n<title>7970</title>\n<path fill=\"#c0c0c0\" stroke=\"#000000\" d=\"M961,-306C961,-306 931,-306 931,-306 925,-306 919,-300 919,-294 919,-294 919,-282 919,-282 919,-276 925,-270 931,-270 931,-270 961,-270 961,-270 967,-270 973,-276 973,-282 973,-282 973,-294 973,-294 973,-300 967,-306 961,-306\"/>\n<text text-anchor=\"middle\" x=\"946\" y=\"-284.3\" font-family=\"Helvetica,sans-Serif\" font-size=\"14.00\" fill=\"#000000\">(...)</text>\n</g>\n<!-- 7969&#45;&gt;7970 -->\n<g id=\"edge6\" class=\"edge\">\n<title>7969&#45;&gt;7970</title>\n<path fill=\"none\" stroke=\"#000000\" d=\"M803.2403,-267.4379C840.4528,-272.7977 880.4113,-278.5531 908.5618,-282.6077\"/>\n<polygon fill=\"#000000\" stroke=\"#000000\" points=\"908.3454,-286.1125 918.7423,-284.074 909.3434,-279.184 908.3454,-286.1125\"/>\n</g>\n<!-- 8807 -->\n<g id=\"node8\" class=\"node\">\n<title>8807</title>\n<path fill=\"#c0c0c0\" stroke=\"#000000\" d=\"M961,-252C961,-252 931,-252 931,-252 925,-252 919,-246 919,-240 919,-240 919,-228 919,-228 919,-222 925,-216 931,-216 931,-216 961,-216 961,-216 967,-216 973,-222 973,-228 973,-228 973,-240 973,-240 973,-246 967,-252 961,-252\"/>\n<text text-anchor=\"middle\" x=\"946\" y=\"-230.3\" font-family=\"Helvetica,sans-Serif\" font-size=\"14.00\" fill=\"#000000\">(...)</text>\n</g>\n<!-- 7969&#45;&gt;8807 -->\n<g id=\"edge7\" class=\"edge\">\n<title>7969&#45;&gt;8807</title>\n<path fill=\"none\" stroke=\"#000000\" d=\"M803.2403,-245.1623C840.4528,-242.2527 880.4113,-239.1283 908.5618,-236.9273\"/>\n<polygon fill=\"#000000\" stroke=\"#000000\" points=\"909.0456,-240.4002 918.7423,-236.1313 908.4999,-233.4215 909.0456,-240.4002\"/>\n</g>\n<!-- 8889 -->\n<g id=\"node10\" class=\"node\">\n<title>8889</title>\n<path fill=\"#853fe6\" stroke=\"#000000\" d=\"M791,-198C791,-198 615,-198 615,-198 609,-198 603,-192 603,-186 603,-186 603,-142 603,-142 603,-136 609,-130 615,-130 615,-130 791,-130 791,-130 797,-130 803,-136 803,-142 803,-142 803,-186 803,-186 803,-192 797,-198 791,-198\"/>\n<text text-anchor=\"middle\" x=\"703\" y=\"-182.8\" font-family=\"Helvetica,sans-Serif\" font-size=\"14.00\" fill=\"#000000\">lga_Sengerema &lt;= 0.5</text>\n<text text-anchor=\"middle\" x=\"703\" y=\"-167.8\" font-family=\"Helvetica,sans-Serif\" font-size=\"14.00\" fill=\"#000000\">samples = 10.5%</text>\n<text text-anchor=\"middle\" x=\"703\" y=\"-152.8\" font-family=\"Helvetica,sans-Serif\" font-size=\"14.00\" fill=\"#000000\">value = [0.022, 0.006, 0.972]</text>\n<text text-anchor=\"middle\" x=\"703\" y=\"-137.8\" font-family=\"Helvetica,sans-Serif\" font-size=\"14.00\" fill=\"#000000\">class = non functional</text>\n</g>\n<!-- 8888&#45;&gt;8889 -->\n<g id=\"edge9\" class=\"edge\">\n<title>8888&#45;&gt;8889</title>\n<path fill=\"none\" stroke=\"#000000\" d=\"M461.6538,-164C502.8317,-164 550.658,-164 592.8226,-164\"/>\n<polygon fill=\"#000000\" stroke=\"#000000\" points=\"592.848,-167.5001 602.848,-164 592.848,-160.5001 592.848,-167.5001\"/>\n</g>\n<!-- 9180 -->\n<g id=\"node13\" class=\"node\">\n<title>9180</title>\n<path fill=\"#f1bd97\" stroke=\"#000000\" d=\"M830,-106C830,-106 576,-106 576,-106 570,-106 564,-100 564,-94 564,-94 564,-50 564,-50 564,-44 570,-38 576,-38 576,-38 830,-38 830,-38 836,-38 842,-44 842,-50 842,-50 842,-94 842,-94 842,-100 836,-106 830,-106\"/>\n<text text-anchor=\"middle\" x=\"703\" y=\"-90.8\" font-family=\"Helvetica,sans-Serif\" font-size=\"14.00\" fill=\"#000000\">extraction_type_group_nira/tanira &lt;= 0.5</text>\n<text text-anchor=\"middle\" x=\"703\" y=\"-75.8\" font-family=\"Helvetica,sans-Serif\" font-size=\"14.00\" fill=\"#000000\">samples = 0.1%</text>\n<text text-anchor=\"middle\" x=\"703\" y=\"-60.8\" font-family=\"Helvetica,sans-Serif\" font-size=\"14.00\" fill=\"#000000\">value = [0.677, 0.0, 0.323]</text>\n<text text-anchor=\"middle\" x=\"703\" y=\"-45.8\" font-family=\"Helvetica,sans-Serif\" font-size=\"14.00\" fill=\"#000000\">class = functional</text>\n</g>\n<!-- 8888&#45;&gt;9180 -->\n<g id=\"edge12\" class=\"edge\">\n<title>8888&#45;&gt;9180</title>\n<path fill=\"none\" stroke=\"#000000\" d=\"M461.6538,-137.0186C494.5749,-128.1497 531.7455,-118.1359 566.875,-108.672\"/>\n<polygon fill=\"#000000\" stroke=\"#000000\" points=\"567.9787,-111.9996 576.724,-106.0187 566.1578,-105.2405 567.9787,-111.9996\"/>\n</g>\n<!-- 8890 -->\n<g id=\"node11\" class=\"node\">\n<title>8890</title>\n<path fill=\"#c0c0c0\" stroke=\"#000000\" d=\"M961,-198C961,-198 931,-198 931,-198 925,-198 919,-192 919,-186 919,-186 919,-174 919,-174 919,-168 925,-162 931,-162 931,-162 961,-162 961,-162 967,-162 973,-168 973,-174 973,-174 973,-186 973,-186 973,-192 967,-198 961,-198\"/>\n<text text-anchor=\"middle\" x=\"946\" y=\"-176.3\" font-family=\"Helvetica,sans-Serif\" font-size=\"14.00\" fill=\"#000000\">(...)</text>\n</g>\n<!-- 8889&#45;&gt;8890 -->\n<g id=\"edge10\" class=\"edge\">\n<title>8889&#45;&gt;8890</title>\n<path fill=\"none\" stroke=\"#000000\" d=\"M803.2403,-170.6002C840.4528,-173.0504 880.4113,-175.6814 908.5618,-177.5349\"/>\n<polygon fill=\"#000000\" stroke=\"#000000\" points=\"908.5339,-181.0406 918.7423,-178.2053 908.9939,-174.0557 908.5339,-181.0406\"/>\n</g>\n<!-- 9139 -->\n<g id=\"node12\" class=\"node\">\n<title>9139</title>\n<path fill=\"#c0c0c0\" stroke=\"#000000\" d=\"M961,-144C961,-144 931,-144 931,-144 925,-144 919,-138 919,-132 919,-132 919,-120 919,-120 919,-114 925,-108 931,-108 931,-108 961,-108 961,-108 967,-108 973,-114 973,-120 973,-120 973,-132 973,-132 973,-138 967,-144 961,-144\"/>\n<text text-anchor=\"middle\" x=\"946\" y=\"-122.3\" font-family=\"Helvetica,sans-Serif\" font-size=\"14.00\" fill=\"#000000\">(...)</text>\n</g>\n<!-- 8889&#45;&gt;9139 -->\n<g id=\"edge11\" class=\"edge\">\n<title>8889&#45;&gt;9139</title>\n<path fill=\"none\" stroke=\"#000000\" d=\"M803.2403,-148.3246C840.4528,-142.5053 880.4113,-136.2567 908.5618,-131.8545\"/>\n<polygon fill=\"#000000\" stroke=\"#000000\" points=\"909.4031,-135.2656 918.7423,-130.2625 908.3216,-128.3496 909.4031,-135.2656\"/>\n</g>\n<!-- 9181 -->\n<g id=\"node14\" class=\"node\">\n<title>9181</title>\n<path fill=\"#c0c0c0\" stroke=\"#000000\" d=\"M961,-90C961,-90 931,-90 931,-90 925,-90 919,-84 919,-78 919,-78 919,-66 919,-66 919,-60 925,-54 931,-54 931,-54 961,-54 961,-54 967,-54 973,-60 973,-66 973,-66 973,-78 973,-78 973,-84 967,-90 961,-90\"/>\n<text text-anchor=\"middle\" x=\"946\" y=\"-68.3\" font-family=\"Helvetica,sans-Serif\" font-size=\"14.00\" fill=\"#000000\">(...)</text>\n</g>\n<!-- 9180&#45;&gt;9181 -->\n<g id=\"edge13\" class=\"edge\">\n<title>9180&#45;&gt;9181</title>\n<path fill=\"none\" stroke=\"#000000\" d=\"M842.2413,-72C866.7076,-72 890.1931,-72 908.6136,-72\"/>\n<polygon fill=\"#000000\" stroke=\"#000000\" points=\"908.8432,-75.5001 918.8431,-72 908.8431,-68.5001 908.8432,-75.5001\"/>\n</g>\n<!-- 9194 -->\n<g id=\"node15\" class=\"node\">\n<title>9194</title>\n<path fill=\"#c0c0c0\" stroke=\"#000000\" d=\"M961,-36C961,-36 931,-36 931,-36 925,-36 919,-30 919,-24 919,-24 919,-12 919,-12 919,-6 925,0 931,0 931,0 961,0 961,0 967,0 973,-6 973,-12 973,-12 973,-24 973,-24 973,-30 967,-36 961,-36\"/>\n<text text-anchor=\"middle\" x=\"946\" y=\"-14.3\" font-family=\"Helvetica,sans-Serif\" font-size=\"14.00\" fill=\"#000000\">(...)</text>\n</g>\n<!-- 9180&#45;&gt;9194 -->\n<g id=\"edge14\" class=\"edge\">\n<title>9180&#45;&gt;9194</title>\n<path fill=\"none\" stroke=\"#000000\" d=\"M842.2413,-41.0575C866.822,-35.5951 890.4126,-30.3528 908.8715,-26.2508\"/>\n<polygon fill=\"#000000\" stroke=\"#000000\" points=\"909.8405,-29.6209 918.8431,-24.0349 908.322,-22.7876 909.8405,-29.6209\"/>\n</g>\n</g>\n</svg>\n"
          },
          "metadata": {
            "tags": []
          },
          "execution_count": 71
        }
      ]
    },
    {
      "cell_type": "markdown",
      "metadata": {
        "id": "M_LLzvf3Qz16",
        "colab_type": "text"
      },
      "source": [
        "## Use scikit-learn for random forests\n",
        "\n",
        "[Scikit-Learn User Guide: Random Forests](https://scikit-learn.org/stable/modules/ensemble.html#random-forests) "
      ]
    },
    {
      "cell_type": "code",
      "metadata": {
        "id": "S2bR9ak8Qz17",
        "colab_type": "code",
        "colab": {
          "base_uri": "https://localhost:8080/",
          "height": 85
        },
        "outputId": "fb1c4d6c-fa8c-4a4d-e597-be77ac75dc3c"
      },
      "source": [
        "%%time\n",
        "\n",
        "pipeline = make_pipeline(\n",
        "    ce.OneHotEncoder(use_cat_names='true'),\n",
        "    SimpleImputer(strategy='median'),\n",
        "    RandomForestClassifier(n_estimators=110, random_state=42, n_jobs=-1)\n",
        ")\n",
        "\n",
        "# fit on train, score on val\n",
        "pipeline.fit(X_train, y_train)\n",
        "print('Training accuracy', pipeline.score(X_train, y_train))\n",
        "print('Validation accuracy', pipeline.score(X_val, y_val))"
      ],
      "execution_count": 0,
      "outputs": [
        {
          "output_type": "stream",
          "text": [
            "Training accuracy 0.9976430976430977\n",
            "Validation accuracy 0.9956228956228956\n",
            "CPU times: user 1min 5s, sys: 935 ms, total: 1min 6s\n",
            "Wall time: 41.7 s\n"
          ],
          "name": "stdout"
        }
      ]
    },
    {
      "cell_type": "markdown",
      "metadata": {
        "id": "3lBbrpqEQz2F",
        "colab_type": "text"
      },
      "source": [
        "## Do ordinal encoding with high-cardinality categoricals\n",
        "\n",
        "http://contrib.scikit-learn.org/categorical-encoding/ordinal.html"
      ]
    },
    {
      "cell_type": "code",
      "metadata": {
        "id": "mo8vo4xiQz2G",
        "colab_type": "code",
        "colab": {
          "base_uri": "https://localhost:8080/",
          "height": 51
        },
        "outputId": "7014a2ae-702f-4bba-f115-a6d889bfa8f9"
      },
      "source": [
        "print('X train shape before encoding', X_train.shape)\n",
        "encoder = pipeline.named_steps['onehotencoder']\n",
        "shape = encoder.transform(X_train).shape\n",
        "print('X train shape after encoding', shape)"
      ],
      "execution_count": 0,
      "outputs": [
        {
          "output_type": "stream",
          "text": [
            "X train shape before encoding (59400, 34)\n",
            "X train shape after encoding (59400, 304)\n"
          ],
          "name": "stdout"
        }
      ]
    },
    {
      "cell_type": "markdown",
      "metadata": {
        "id": "cmpcimtTQz2H",
        "colab_type": "text"
      },
      "source": [
        "## Understand how tree ensembles reduce overfitting compared to a single decision tree with unlimited depth"
      ]
    },
    {
      "cell_type": "code",
      "metadata": {
        "id": "M9zqLgp3vgTd",
        "colab_type": "code",
        "colab": {
          "base_uri": "https://localhost:8080/",
          "height": 85
        },
        "outputId": "7abd2826-9f67-4fa1-bda9-d3801d851010"
      },
      "source": [
        "%%time\n",
        "\n",
        "# TODO\n",
        "\n",
        "# Arrange data into X features matrix and y target vector\n",
        "X_train = train.drop(columns=target)\n",
        "y_train = train[target]\n",
        "X_val = val.drop(columns=target)\n",
        "y_val = val[target]\n",
        "X_test = test\n",
        "\n",
        "pipeline = make_pipeline(\n",
        "    ce.OrdinalEncoder(), \n",
        "    SimpleImputer(strategy='median'), \n",
        "    RandomForestClassifier(n_estimators=100, random_state=42, n_jobs=-1)\n",
        ")\n",
        "\n",
        "# Fit on train, score on val\n",
        "pipeline.fit(X_train, y_train)\n",
        "print('Training accuracy', pipeline.score(X_train, y_train))\n",
        "print('Validation Accuracy', pipeline.score(X_val, y_val))"
      ],
      "execution_count": 0,
      "outputs": [
        {
          "output_type": "stream",
          "text": [
            "Training accuracy 0.999983164983165\n",
            "Validation Accuracy 0.9992424242424243\n",
            "CPU times: user 32.1 s, sys: 192 ms, total: 32.3 s\n",
            "Wall time: 17.7 s\n"
          ],
          "name": "stdout"
        }
      ]
    },
    {
      "cell_type": "code",
      "metadata": {
        "id": "TujcZ-XJvo3f",
        "colab_type": "code",
        "colab": {
          "base_uri": "https://localhost:8080/",
          "height": 204
        },
        "outputId": "35ff3d05-45e5-4526-f79f-b6d18e7c0fd8"
      },
      "source": [
        "y_pred = pipeline.predict(X_test)\n",
        "\n",
        "# write submission over csv file\n",
        "submit = sample_submission.copy()\n",
        "submit['status_group'] = y_pred\n",
        "submit.to_csv('submission-06.csv', index=False)\n",
        "\n",
        "submit.head()\n",
        "#submission-06.csv"
      ],
      "execution_count": 0,
      "outputs": [
        {
          "output_type": "execute_result",
          "data": {
            "text/html": [
              "<div>\n",
              "<style scoped>\n",
              "    .dataframe tbody tr th:only-of-type {\n",
              "        vertical-align: middle;\n",
              "    }\n",
              "\n",
              "    .dataframe tbody tr th {\n",
              "        vertical-align: top;\n",
              "    }\n",
              "\n",
              "    .dataframe thead th {\n",
              "        text-align: right;\n",
              "    }\n",
              "</style>\n",
              "<table border=\"1\" class=\"dataframe\">\n",
              "  <thead>\n",
              "    <tr style=\"text-align: right;\">\n",
              "      <th></th>\n",
              "      <th>id</th>\n",
              "      <th>status_group</th>\n",
              "    </tr>\n",
              "  </thead>\n",
              "  <tbody>\n",
              "    <tr>\n",
              "      <th>0</th>\n",
              "      <td>50785</td>\n",
              "      <td>non functional</td>\n",
              "    </tr>\n",
              "    <tr>\n",
              "      <th>1</th>\n",
              "      <td>51630</td>\n",
              "      <td>functional</td>\n",
              "    </tr>\n",
              "    <tr>\n",
              "      <th>2</th>\n",
              "      <td>17168</td>\n",
              "      <td>functional</td>\n",
              "    </tr>\n",
              "    <tr>\n",
              "      <th>3</th>\n",
              "      <td>45559</td>\n",
              "      <td>non functional</td>\n",
              "    </tr>\n",
              "    <tr>\n",
              "      <th>4</th>\n",
              "      <td>49871</td>\n",
              "      <td>functional</td>\n",
              "    </tr>\n",
              "  </tbody>\n",
              "</table>\n",
              "</div>"
            ],
            "text/plain": [
              "      id    status_group\n",
              "0  50785  non functional\n",
              "1  51630      functional\n",
              "2  17168      functional\n",
              "3  45559  non functional\n",
              "4  49871      functional"
            ]
          },
          "metadata": {
            "tags": []
          },
          "execution_count": 75
        }
      ]
    },
    {
      "cell_type": "code",
      "metadata": {
        "id": "tGHAs9p9C3k1",
        "colab_type": "code",
        "colab": {}
      },
      "source": [
        "# change competition name and file name\n",
        "\n",
        "#!kaggle competitions submit -c ds5-predictive-modeling-challenge -f submission-06.csv -m \"sixth submission\""
      ],
      "execution_count": 0,
      "outputs": []
    },
    {
      "cell_type": "code",
      "metadata": {
        "id": "U5x61QohxQPf",
        "colab_type": "code",
        "colab": {
          "base_uri": "https://localhost:8080/",
          "height": 607
        },
        "outputId": "59f6e698-3c09-47a0-a615-2ecd4be34dd8"
      },
      "source": [
        "# TODO\n",
        "\n",
        "# Get feature importances\n",
        "rf = pipeline.named_steps['randomforestclassifier']\n",
        "importances = pd.Series(rf.feature_importances_, X_train.columns)\n",
        "\n",
        "# Plot feature importances\n",
        "n = 20\n",
        "plt.figure(figsize=(10,n/2))\n",
        "plt.title(f'Top {n} features')\n",
        "importances.sort_values()[-n:].plot.barh(color='grey');"
      ],
      "execution_count": 0,
      "outputs": [
        {
          "output_type": "display_data",
          "data": {
            "image/png": "[encoded data removed]",
            "text/plain": [
              "<Figure size 720x720 with 1 Axes>"
            ]
          },
          "metadata": {
            "tags": []
          }
        }
      ]
    },
    {
      "cell_type": "code",
      "metadata": {
        "id": "anX7kQzKxXX0",
        "colab_type": "code",
        "colab": {
          "base_uri": "https://localhost:8080/",
          "height": 493
        },
        "outputId": "ce379a67-3aad-4aad-b695-a75eeee8f6b4"
      },
      "source": [
        "# Note that some of the features with the highest feature importances\n",
        "# also have the highest cardinality\n",
        "X_train.select_dtypes(exclude='number').nunique().sort_values(ascending=False)"
      ],
      "execution_count": 0,
      "outputs": [
        {
          "output_type": "execute_result",
          "data": {
            "text/plain": [
              "wpt_name                 37400\n",
              "subvillage               19287\n",
              "scheme_name               2696\n",
              "installer                 2145\n",
              "ward                      2092\n",
              "funder                    1897\n",
              "lga                        125\n",
              "region                      21\n",
              "extraction_type             18\n",
              "extraction_type_group       13\n",
              "scheme_management           12\n",
              "management                  12\n",
              "source                      10\n",
              "basin                        9\n",
              "water_quality                8\n",
              "extraction_type_class        7\n",
              "waterpoint_type              7\n",
              "payment                      7\n",
              "source_type                  7\n",
              "payment_type                 7\n",
              "waterpoint_type_group        6\n",
              "quality_group                6\n",
              "management_group             5\n",
              "quantity                     5\n",
              "source_class                 3\n",
              "permit                       2\n",
              "public_meeting               2\n",
              "dtype: int64"
            ]
          },
          "metadata": {
            "tags": []
          },
          "execution_count": 78
        }
      ]
    },
    {
      "cell_type": "code",
      "metadata": {
        "id": "49wxs7BExXwT",
        "colab_type": "code",
        "colab": {}
      },
      "source": [
        ""
      ],
      "execution_count": 0,
      "outputs": []
    },
    {
      "cell_type": "markdown",
      "metadata": {
        "id": "4tyg3zm7Qz2I",
        "colab_type": "text"
      },
      "source": [
        "### Interlude: [predicting golf putts](https://statmodeling.stat.columbia.edu/2008/12/04/the_golf_puttin/)\n",
        "(1 feature, non-linear, regression)"
      ]
    },
    {
      "cell_type": "code",
      "metadata": {
        "id": "CNyFkbEqQz2I",
        "colab_type": "code",
        "colab": {}
      },
      "source": [
        "putts = pd.DataFrame(\n",
        "    columns=['distance', 'tries', 'successes'], \n",
        "    data = [[2, 1443, 1346],\n",
        "            [3, 694, 577],\n",
        "            [4, 455, 337],\n",
        "            [5, 353, 208],\n",
        "            [6, 272, 149],\n",
        "            [7, 256, 136],\n",
        "            [8, 240, 111],\n",
        "            [9, 217, 69],\n",
        "            [10, 200, 67],\n",
        "            [11, 237, 75],\n",
        "            [12, 202, 52],\n",
        "            [13, 192, 46],\n",
        "            [14, 174, 54],\n",
        "            [15, 167, 28],\n",
        "            [16, 201, 27],\n",
        "            [17, 195, 31],\n",
        "            [18, 191, 33],\n",
        "            [19, 147, 20],\n",
        "            [20, 152, 24]]\n",
        ")\n",
        "\n",
        "putts['rate of success'] = putts['successes'] / putts['tries']\n",
        "putts_X = putts[['distance']]\n",
        "putts_y = putts['rate of success']"
      ],
      "execution_count": 0,
      "outputs": []
    },
    {
      "cell_type": "code",
      "metadata": {
        "id": "Wzlm8hGoQz2K",
        "colab_type": "code",
        "colab": {
          "base_uri": "https://localhost:8080/",
          "height": 17
        },
        "outputId": "8bbc1618-1369-48ea-f6ef-072750a1c21f"
      },
      "source": [
        "from ipywidgets import interact\n",
        "from sklearn.ensemble import RandomForestRegressor\n",
        "from sklearn.tree import DecisionTreeRegressor\n",
        "\n",
        "def putt_trees(max_depth=1, n_estimators=1):\n",
        "    models = [DecisionTreeRegressor(max_depth=max_depth), \n",
        "              RandomForestRegressor(max_depth=max_depth, n_estimators=n_estimators)]\n",
        "    \n",
        "    for model in models:\n",
        "        name = model.__class__.__name__\n",
        "        model.fit(putts_X, putts_y)\n",
        "        ax = putts.plot('distance', 'rate of success', kind='scatter', title=name)\n",
        "        ax.step(putts_X, model.predict(putts_X), where='mid')\n",
        "        plt.show()\n",
        "        \n",
        "interact(putt_trees, max_depth=(1,6,1), n_estimators=(10,40,10));"
      ],
      "execution_count": 0,
      "outputs": [
        {
          "output_type": "display_data",
          "data": {
            "application/vnd.jupyter.widget-view+json": {
              "model_id": "73c6c9363d2446c88ec2a620be381faa",
              "version_minor": 0,
              "version_major": 2
            },
            "text/plain": [
              "interactive(children=(IntSlider(value=1, description='max_depth', max=6, min=1), IntSlider(value=10, descripti…"
            ]
          },
          "metadata": {
            "tags": []
          }
        }
      ]
    },
    {
      "cell_type": "markdown",
      "metadata": {
        "id": "qBiSuaxTQz2M",
        "colab_type": "text"
      },
      "source": [
        "### What's \"random\" about random forests?\n",
        "1. Each tree trains on a random bootstrap sample of the data. (In scikit-learn, for `RandomForestRegressor` and `RandomForestClassifier`, the `bootstrap` parameter's default is `True`.) This type of ensembling is called Bagging.\n",
        "2. Each split considers a random subset of the features. (In scikit-learn, when the `max_features` parameter is not `None`.) \n",
        "\n",
        "For extra randomness, you can try [\"extremely randomized trees\"](https://scikit-learn.org/stable/modules/ensemble.html#extremely-randomized-trees)!\n",
        "\n",
        ">In extremely randomized trees (see [ExtraTreesClassifier](https://scikit-learn.org/stable/modules/generated/sklearn.ensemble.ExtraTreesClassifier.html) and [ExtraTreesRegressor](https://scikit-learn.org/stable/modules/generated/sklearn.ensemble.ExtraTreesRegressor.html) classes), randomness goes one step further in the way splits are computed. As in random forests, a random subset of candidate features is used, but instead of looking for the most discriminative thresholds, thresholds are drawn at random for each candidate feature and the best of these randomly-generated thresholds is picked as the splitting rule. This usually allows to reduce the variance of the model a bit more, at the expense of a slightly greater increase in bias"
      ]
    },
    {
      "cell_type": "markdown",
      "metadata": {
        "id": "9sENUR16Qz2M",
        "colab_type": "text"
      },
      "source": [
        "### Bagging demo, with golf putts data\n",
        "https://pandas.pydata.org/pandas-docs/stable/reference/api/pandas.DataFrame.sample.html"
      ]
    },
    {
      "cell_type": "code",
      "metadata": {
        "scrolled": false,
        "id": "PYEwMluZQz2N",
        "colab_type": "code",
        "colab": {
          "base_uri": "https://localhost:8080/",
          "height": 17
        },
        "outputId": "31bf26a9-b4f7-4b70-f4af-e59c02271771"
      },
      "source": [
        "# Do-it-yourself Bagging Ensemble of Decision Trees (like a Random Forest)\n",
        "def diy_bagging(max_depth=1, n_estimators=1):\n",
        "    y_preds = []\n",
        "    for i in range(n_estimators):\n",
        "        title = f'Tree {i+1}'\n",
        "        bootstrap_sample = putts.sample(n=len(putts), replace=True).sort_values(by='distance')\n",
        "        bootstrap_X = bootstrap_sample[['distance']]\n",
        "        bootstrap_y = bootstrap_sample['rate of success']\n",
        "        tree = DecisionTreeRegressor(max_depth=max_depth)\n",
        "        tree.fit(bootstrap_X, bootstrap_y)\n",
        "        y_pred = tree.predict(bootstrap_X)\n",
        "        y_preds.append(y_pred)\n",
        "        ax = bootstrap_sample.plot('distance', 'rate of success', kind='scatter', title=title)\n",
        "        ax.step(bootstrap_X, y_pred, where='mid')\n",
        "        plt.show()\n",
        "        \n",
        "    ensembled = np.vstack(y_preds).mean(axis=0)\n",
        "    title = f'Ensemble of {n_estimators} trees, with max_depth={max_depth}'\n",
        "    ax = putts.plot('distance', 'rate of success', kind='scatter', title=title)\n",
        "    ax.step(putts_X, ensembled, where='mid')\n",
        "    plt.show()\n",
        "    \n",
        "interact(diy_bagging, max_depth=(1,6,1), n_estimators=(2,5,1));"
      ],
      "execution_count": 0,
      "outputs": [
        {
          "output_type": "display_data",
          "data": {
            "application/vnd.jupyter.widget-view+json": {
              "model_id": "fa5e87a1d46f493180b0d9bf3e3e6b1c",
              "version_minor": 0,
              "version_major": 2
            },
            "text/plain": [
              "interactive(children=(IntSlider(value=1, description='max_depth', max=6, min=1), IntSlider(value=2, descriptio…"
            ]
          },
          "metadata": {
            "tags": []
          }
        }
      ]
    },
    {
      "cell_type": "markdown",
      "metadata": {
        "id": "4odTfkXTQz2a",
        "colab_type": "text"
      },
      "source": [
        "### Go back to Tanzania Waterpumps ...\n",
        "\n",
        "#### viz2D helper function"
      ]
    },
    {
      "cell_type": "code",
      "metadata": {
        "id": "9e_-wL7OQz2a",
        "colab_type": "code",
        "colab": {}
      },
      "source": [
        "def viz2D(fitted_model, X, feature1, feature2, num=100, title=''):\n",
        "    \"\"\"\n",
        "    Visualize model predictions as a 2D heatmap\n",
        "    For regression or binary classification models, fitted on 2 features\n",
        "    \n",
        "    Parameters\n",
        "    ----------\n",
        "    fitted_model : scikit-learn model, already fitted\n",
        "    X : pandas dataframe, which was used to fit model\n",
        "    feature1 : string, name of feature 1\n",
        "    feature2 : string, name of feature 2\n",
        "    target : string, name of target\n",
        "    num : int, number of grid points for each feature\n",
        "    \n",
        "    Returns\n",
        "    -------\n",
        "    predictions: numpy array, predictions/predicted probabilities at each grid point\n",
        "    \n",
        "    References\n",
        "    ----------\n",
        "    https://scikit-learn.org/stable/auto_examples/classification/plot_classification_probability.html\n",
        "    https://jakevdp.github.io/PythonDataScienceHandbook/04.04-density-and-contour-plots.html\n",
        "    \"\"\"\n",
        "    x1 = np.linspace(X[feature1].min(), X[feature1].max(), num)\n",
        "    x2 = np.linspace(X[feature2].min(), X[feature2].max(), num)\n",
        "    X1, X2 = np.meshgrid(x1, x2)\n",
        "    X = np.c_[X1.flatten(), X2.flatten()]\n",
        "    if hasattr(fitted_model, 'predict_proba'):\n",
        "        predicted = fitted_model.predict_proba(X)[:,0]\n",
        "    else:\n",
        "        predicted = fitted_model.predict(X)\n",
        "    \n",
        "    plt.imshow(predicted.reshape(num, num), cmap='viridis')\n",
        "    plt.title(title)\n",
        "    plt.xlabel(feature1)\n",
        "    plt.ylabel(feature2)\n",
        "    plt.xticks([])\n",
        "    plt.yticks([])\n",
        "    plt.colorbar()\n",
        "    plt.show()\n",
        "    return predicted"
      ],
      "execution_count": 0,
      "outputs": []
    },
    {
      "cell_type": "markdown",
      "metadata": {
        "id": "CN2p9So4Qz2b",
        "colab_type": "text"
      },
      "source": [
        "### Compare Decision Tree, Random Forest, Logistic Regression"
      ]
    },
    {
      "cell_type": "code",
      "metadata": {
        "id": "TRJTpuwhQz2c",
        "colab_type": "code",
        "colab": {
          "base_uri": "https://localhost:8080/",
          "height": 17
        },
        "outputId": "a878b7ae-1274-48ff-b5ce-e7b2a0741e41"
      },
      "source": [
        "# Instructions\n",
        "# 1. Choose two features\n",
        "# 2. Run this code cell\n",
        "# 3. Interact with the widget sliders\n",
        "feature1 = 'longitude'\n",
        "feature2 = 'latitude'\n",
        "\n",
        "from sklearn.linear_model import LogisticRegression\n",
        "\n",
        "def get_X_y(df, feature1, feature2, target):\n",
        "    features = [feature1, feature2]\n",
        "    X = df[features]\n",
        "    y = df[target]\n",
        "    X = X.fillna(X.median())\n",
        "    X = ce.OrdinalEncoder().fit_transform(X)\n",
        "    return X, y\n",
        "\n",
        "def compare_models(max_depth=1, n_estimators=1):\n",
        "    models = [DecisionTreeClassifier(max_depth=max_depth), \n",
        "              RandomForestClassifier(max_depth=max_depth, n_estimators=n_estimators), \n",
        "              LogisticRegression(solver='lbfgs', multi_class='auto')]\n",
        "    \n",
        "    for model in models:\n",
        "        name = model.__class__.__name__\n",
        "        model.fit(X, y)\n",
        "        viz2D(model, X, feature1, feature2, title=name)\n",
        "\n",
        "X, y = get_X_y(train, feature1, feature2, target='status_group')\n",
        "interact(compare_models, max_depth=(1,6,1), n_estimators=(10,40,10));"
      ],
      "execution_count": 0,
      "outputs": [
        {
          "output_type": "display_data",
          "data": {
            "application/vnd.jupyter.widget-view+json": {
              "model_id": "3fd72415381245e5b92c4b77bde6e5b0",
              "version_minor": 0,
              "version_major": 2
            },
            "text/plain": [
              "interactive(children=(IntSlider(value=1, description='max_depth', max=6, min=1), IntSlider(value=10, descripti…"
            ]
          },
          "metadata": {
            "tags": []
          }
        }
      ]
    },
    {
      "cell_type": "markdown",
      "metadata": {
        "id": "TN2YUg1XQz2i",
        "colab_type": "text"
      },
      "source": [
        "### Bagging"
      ]
    },
    {
      "cell_type": "code",
      "metadata": {
        "id": "RNb1fEi1Qz2i",
        "colab_type": "code",
        "colab": {
          "base_uri": "https://localhost:8080/",
          "height": 17
        },
        "outputId": "9df09601-0a8e-4648-d6fe-09ea8fc6c4d0"
      },
      "source": [
        "# Do-it-yourself Bagging Ensemble of Decision Trees (like a Random Forest)\n",
        "\n",
        "# Instructions\n",
        "# 1. Choose two features\n",
        "# 2. Run this code cell\n",
        "# 3. Interact with the widget sliders\n",
        "\n",
        "feature1 = 'longitude'\n",
        "feature2 = 'latitude'\n",
        "\n",
        "def waterpumps_bagging(max_depth=1, n_estimators=1):\n",
        "    predicteds = []\n",
        "    for i in range(n_estimators):\n",
        "        title = f'Tree {i+1}'\n",
        "        bootstrap_sample = train.sample(n=len(train), replace=True)\n",
        "        X, y = get_X_y(bootstrap_sample, feature1, feature2, target='status_group')\n",
        "        tree = DecisionTreeClassifier(max_depth=max_depth)\n",
        "        tree.fit(X, y)\n",
        "        predicted = viz2D(tree, X, feature1, feature2, title=title)\n",
        "        predicteds.append(predicted)\n",
        "    \n",
        "    ensembled = np.vstack(predicteds).mean(axis=0)\n",
        "    title = f'Ensemble of {n_estimators} trees, with max_depth={max_depth}'\n",
        "    plt.imshow(ensembled.reshape(100, 100), cmap='viridis')\n",
        "    plt.title(title)\n",
        "    plt.xlabel(feature1)\n",
        "    plt.ylabel(feature2)\n",
        "    plt.xticks([])\n",
        "    plt.yticks([])\n",
        "    plt.colorbar()\n",
        "    plt.show()\n",
        "        \n",
        "interact(waterpumps_bagging, max_depth=(1,6,1), n_estimators=(2,5,1));"
      ],
      "execution_count": 0,
      "outputs": [
        {
          "output_type": "display_data",
          "data": {
            "application/vnd.jupyter.widget-view+json": {
              "model_id": "53a2aa2e8c80441f985f4d9566e5192f",
              "version_minor": 0,
              "version_major": 2
            },
            "text/plain": [
              "interactive(children=(IntSlider(value=1, description='max_depth', max=6, min=1), IntSlider(value=2, descriptio…"
            ]
          },
          "metadata": {
            "tags": []
          }
        }
      ]
    },
    {
      "cell_type": "markdown",
      "metadata": {
        "id": "35We1ICyQz2k",
        "colab_type": "text"
      },
      "source": [
        "## Understand how categorical encodings affect trees differently compared to linear models"
      ]
    },
    {
      "cell_type": "markdown",
      "metadata": {
        "id": "mtYj66KkQz2k",
        "colab_type": "text"
      },
      "source": [
        "### Categorical exploration, 1 feature at a time\n",
        "\n",
        "Change `feature`, then re-run these cells!"
      ]
    },
    {
      "cell_type": "code",
      "metadata": {
        "id": "9xIWFss9Qz2l",
        "colab_type": "code",
        "colab": {}
      },
      "source": [
        "feature = 'quantity'"
      ],
      "execution_count": 0,
      "outputs": []
    },
    {
      "cell_type": "code",
      "metadata": {
        "id": "WI1XugMCQz2m",
        "colab_type": "code",
        "colab": {
          "base_uri": "https://localhost:8080/",
          "height": 119
        },
        "outputId": "2bd687e9-dacc-422c-e47c-211b23ff6a86"
      },
      "source": [
        "X_train[feature].value_counts()"
      ],
      "execution_count": 0,
      "outputs": [
        {
          "output_type": "execute_result",
          "data": {
            "text/plain": [
              "enough          33186\n",
              "insufficient    15129\n",
              "dry              6246\n",
              "seasonal         4050\n",
              "unknown           789\n",
              "Name: quantity, dtype: int64"
            ]
          },
          "metadata": {
            "tags": []
          },
          "execution_count": 86
        }
      ]
    },
    {
      "cell_type": "code",
      "metadata": {
        "id": "yJ2XzOouQz2p",
        "colab_type": "code",
        "colab": {
          "base_uri": "https://localhost:8080/",
          "height": 283
        },
        "outputId": "c5451d60-5fea-4882-adb2-369cbee17084"
      },
      "source": [
        "sns.barplot(x=train[feature], \n",
        "            y=train['status_group']=='functional');"
      ],
      "execution_count": 0,
      "outputs": [
        {
          "output_type": "display_data",
          "data": {
            "image/png": "[encoded data removed]",
            "text/plain": [
              "<Figure size 432x288 with 1 Axes>"
            ]
          },
          "metadata": {
            "tags": []
          }
        }
      ]
    },
    {
      "cell_type": "code",
      "metadata": {
        "id": "Bf3xUeZ_Qz2q",
        "colab_type": "code",
        "colab": {
          "base_uri": "https://localhost:8080/",
          "height": 119
        },
        "outputId": "5a87fdea-78a7-4061-a814-e54db98c2022"
      },
      "source": [
        "X_train[feature].head()"
      ],
      "execution_count": 0,
      "outputs": [
        {
          "output_type": "execute_result",
          "data": {
            "text/plain": [
              "0          enough\n",
              "1    insufficient\n",
              "2          enough\n",
              "3             dry\n",
              "4        seasonal\n",
              "Name: quantity, dtype: object"
            ]
          },
          "metadata": {
            "tags": []
          },
          "execution_count": 88
        }
      ]
    },
    {
      "cell_type": "markdown",
      "metadata": {
        "id": "BL4nWcXdQz2u",
        "colab_type": "text"
      },
      "source": [
        "### [One Hot Encoding](http://contrib.scikit-learn.org/categorical-encoding/onehot.html)\n",
        "\n",
        "> Onehot (or dummy) coding for categorical features, produces one feature per category, each binary.\n",
        "\n",
        "Warning: May run slow, or run out of memory, with high cardinality categoricals!"
      ]
    },
    {
      "cell_type": "code",
      "metadata": {
        "id": "aWW5B8B2Qz2v",
        "colab_type": "code",
        "colab": {
          "base_uri": "https://localhost:8080/",
          "height": 221
        },
        "outputId": "a929cb4b-931e-4f91-8b74-ccbd1d79e553"
      },
      "source": [
        "encoder = ce.OneHotEncoder(use_cat_names=True)\n",
        "encoded = encoder.fit_transform(X_train[[feature]])\n",
        "print(f'{len(encoded.columns)} columns')\n",
        "encoded.head()"
      ],
      "execution_count": 0,
      "outputs": [
        {
          "output_type": "stream",
          "text": [
            "5 columns\n"
          ],
          "name": "stdout"
        },
        {
          "output_type": "execute_result",
          "data": {
            "text/html": [
              "<div>\n",
              "<style scoped>\n",
              "    .dataframe tbody tr th:only-of-type {\n",
              "        vertical-align: middle;\n",
              "    }\n",
              "\n",
              "    .dataframe tbody tr th {\n",
              "        vertical-align: top;\n",
              "    }\n",
              "\n",
              "    .dataframe thead th {\n",
              "        text-align: right;\n",
              "    }\n",
              "</style>\n",
              "<table border=\"1\" class=\"dataframe\">\n",
              "  <thead>\n",
              "    <tr style=\"text-align: right;\">\n",
              "      <th></th>\n",
              "      <th>quantity_enough</th>\n",
              "      <th>quantity_insufficient</th>\n",
              "      <th>quantity_dry</th>\n",
              "      <th>quantity_seasonal</th>\n",
              "      <th>quantity_unknown</th>\n",
              "    </tr>\n",
              "  </thead>\n",
              "  <tbody>\n",
              "    <tr>\n",
              "      <th>0</th>\n",
              "      <td>1</td>\n",
              "      <td>0</td>\n",
              "      <td>0</td>\n",
              "      <td>0</td>\n",
              "      <td>0</td>\n",
              "    </tr>\n",
              "    <tr>\n",
              "      <th>1</th>\n",
              "      <td>0</td>\n",
              "      <td>1</td>\n",
              "      <td>0</td>\n",
              "      <td>0</td>\n",
              "      <td>0</td>\n",
              "    </tr>\n",
              "    <tr>\n",
              "      <th>2</th>\n",
              "      <td>1</td>\n",
              "      <td>0</td>\n",
              "      <td>0</td>\n",
              "      <td>0</td>\n",
              "      <td>0</td>\n",
              "    </tr>\n",
              "    <tr>\n",
              "      <th>3</th>\n",
              "      <td>0</td>\n",
              "      <td>0</td>\n",
              "      <td>1</td>\n",
              "      <td>0</td>\n",
              "      <td>0</td>\n",
              "    </tr>\n",
              "    <tr>\n",
              "      <th>4</th>\n",
              "      <td>0</td>\n",
              "      <td>0</td>\n",
              "      <td>0</td>\n",
              "      <td>1</td>\n",
              "      <td>0</td>\n",
              "    </tr>\n",
              "  </tbody>\n",
              "</table>\n",
              "</div>"
            ],
            "text/plain": [
              "   quantity_enough  quantity_insufficient  ...  quantity_seasonal  quantity_unknown\n",
              "0                1                      0  ...                  0                 0\n",
              "1                0                      1  ...                  0                 0\n",
              "2                1                      0  ...                  0                 0\n",
              "3                0                      0  ...                  0                 0\n",
              "4                0                      0  ...                  1                 0\n",
              "\n",
              "[5 rows x 5 columns]"
            ]
          },
          "metadata": {
            "tags": []
          },
          "execution_count": 89
        }
      ]
    },
    {
      "cell_type": "markdown",
      "metadata": {
        "id": "tYuMsMo6Qz2x",
        "colab_type": "text"
      },
      "source": [
        "### [Ordinal Encoding](http://contrib.scikit-learn.org/categorical-encoding/ordinal.html)\n",
        "\n",
        "> Ordinal encoding uses a single column of integers to represent the classes. An optional mapping dict can be passed in; in this case, we use the knowledge that there is some true order to the classes themselves. Otherwise, the classes are assumed to have no true order and integers are selected at random."
      ]
    },
    {
      "cell_type": "code",
      "metadata": {
        "id": "PshJJjdJQz2y",
        "colab_type": "code",
        "colab": {
          "base_uri": "https://localhost:8080/",
          "height": 221
        },
        "outputId": "a003b54b-a67d-494f-b778-6d82572c13c5"
      },
      "source": [
        "encoder = ce.OrdinalEncoder()\n",
        "encoded = encoder.fit_transform(X_train[[feature]])\n",
        "print(f'1 column, {encoded[feature].nunique()} unique values')\n",
        "encoded.head()"
      ],
      "execution_count": 0,
      "outputs": [
        {
          "output_type": "stream",
          "text": [
            "1 column, 5 unique values\n"
          ],
          "name": "stdout"
        },
        {
          "output_type": "execute_result",
          "data": {
            "text/html": [
              "<div>\n",
              "<style scoped>\n",
              "    .dataframe tbody tr th:only-of-type {\n",
              "        vertical-align: middle;\n",
              "    }\n",
              "\n",
              "    .dataframe tbody tr th {\n",
              "        vertical-align: top;\n",
              "    }\n",
              "\n",
              "    .dataframe thead th {\n",
              "        text-align: right;\n",
              "    }\n",
              "</style>\n",
              "<table border=\"1\" class=\"dataframe\">\n",
              "  <thead>\n",
              "    <tr style=\"text-align: right;\">\n",
              "      <th></th>\n",
              "      <th>quantity</th>\n",
              "    </tr>\n",
              "  </thead>\n",
              "  <tbody>\n",
              "    <tr>\n",
              "      <th>0</th>\n",
              "      <td>1</td>\n",
              "    </tr>\n",
              "    <tr>\n",
              "      <th>1</th>\n",
              "      <td>2</td>\n",
              "    </tr>\n",
              "    <tr>\n",
              "      <th>2</th>\n",
              "      <td>1</td>\n",
              "    </tr>\n",
              "    <tr>\n",
              "      <th>3</th>\n",
              "      <td>3</td>\n",
              "    </tr>\n",
              "    <tr>\n",
              "      <th>4</th>\n",
              "      <td>4</td>\n",
              "    </tr>\n",
              "  </tbody>\n",
              "</table>\n",
              "</div>"
            ],
            "text/plain": [
              "   quantity\n",
              "0         1\n",
              "1         2\n",
              "2         1\n",
              "3         3\n",
              "4         4"
            ]
          },
          "metadata": {
            "tags": []
          },
          "execution_count": 90
        }
      ]
    },
    {
      "cell_type": "markdown",
      "metadata": {
        "id": "QrWYz3xNQz2z",
        "colab_type": "text"
      },
      "source": [
        "# Assignment\n",
        "- Start a clean notebook, or continue with yesterday's assignment notebook.\n",
        "- Continue to participate in our Kaggle competition with the Tanzania Waterpumps data. \n",
        "- Do more exploratory data analysis, data cleaning, feature engineering, and feature selection.\n",
        "- Try a Random Forest Classifier. \n",
        "- Try Ordinal Encoding.\n",
        "- Submit new predictions.\n",
        "- Commit your notebook to your fork of the GitHub repo.\n",
        "\n",
        "## Stretch Goals\n",
        "- Create visualizations and share on Slack.\n",
        "- Read more about decision trees and tree ensembles. You can start with the links at the top & bottom of this notebook:"
      ]
    },
    {
      "cell_type": "markdown",
      "metadata": {
        "id": "XFTl6KrYQz21",
        "colab_type": "text"
      },
      "source": [
        "### Post-read links\n",
        "\n",
        "#### Decision Trees\n",
        "- A Visual Introduction to Machine Learning, [Part 1: A Decision Tree](http://www.r2d3.us/visual-intro-to-machine-learning-part-1/),  and [Part 2: Bias and Variance](http://www.r2d3.us/visual-intro-to-machine-learning-part-2/)\n",
        "- [Decision Trees: Advantages & Disadvantages](https://christophm.github.io/interpretable-ml-book/tree.html#advantages-2)\n",
        "- [How a Russian mathematician constructed a decision tree — by hand — to solve a medical problem](http://fastml.com/how-a-russian-mathematician-constructed-a-decision-tree-by-hand-to-solve-a-medical-problem/)\n",
        "- [How decision trees work](https://brohrer.github.io/how_decision_trees_work.html)\n",
        "- [Let’s Write a Decision Tree Classifier from Scratch](https://www.youtube.com/watch?v=LDRbO9a6XPU)\n",
        "\n",
        "#### Random Forests\n",
        "- [_An Introduction to Statistical Learning_](http://www-bcf.usc.edu/~gareth/ISL/), Chapter 8: Tree-Based Methods\n",
        "- [Coloring with Random Forests](http://structuringtheunstructured.blogspot.com/2017/11/coloring-with-random-forests.html)\n",
        "- [Random Forests for Complete Beginners: The definitive guide to Random Forests and Decision Trees](https://victorzhou.com/blog/intro-to-random-forests/)\n",
        "\n",
        "#### Categorical encoding for trees\n",
        "- [Are categorical variables getting lost in your random forests?](https://roamanalytics.com/2016/10/28/are-categorical-variables-getting-lost-in-your-random-forests/)\n",
        "- [Beyond One-Hot: An Exploration of Categorical Variables](http://www.willmcginnis.com/2015/11/29/beyond-one-hot-an-exploration-of-categorical-variables/)\n",
        "- [Categorical Features and Encoding in Decision Trees](https://medium.com/data-design/visiting-categorical-features-and-encoding-in-decision-trees-53400fa65931)\n",
        "- [Coursera — How to Win a Data Science Competition: Learn from Top Kagglers — Concept of mean encoding](https://www.coursera.org/lecture/competitive-data-science/concept-of-mean-encoding-b5Gxv)\n",
        "- [Mean (likelihood) encodings: a comprehensive study](https://www.kaggle.com/vprokopev/mean-likelihood-encodings-a-comprehensive-study)\n",
        "- [The Mechanics of Machine Learning, Chapter 6: Categorically Speaking](https://mlbook.explained.ai/catvars.html)"
      ]
    }
  ]
}