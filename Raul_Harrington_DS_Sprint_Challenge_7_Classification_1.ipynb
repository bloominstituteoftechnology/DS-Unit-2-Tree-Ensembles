{
 "cells": [
  {
   "cell_type": "markdown",
   "metadata": {
    "colab_type": "text",
    "id": "7NQhCv9N9NCo"
   },
   "source": [
    "_Lambda School Data Science, Unit 2_\n",
    " \n",
    "# Sprint Challenge: Predict Steph Curry's shots 🏀\n",
    "\n",
    "For your Sprint Challenge, you'll use a dataset with all Steph Curry's NBA field goal attempts. (Regular season and playoff games, from October 28, 2009, through June 5, 2019.) \n",
    "\n",
    "You'll use information about the shot and the game to predict whether the shot was made. This is hard to predict! Try for an accuracy score in the high 50's or low 60's. The dataset was collected with the [nba_api](https://github.com/swar/nba_api) Python library."
   ]
  },
  {
   "cell_type": "code",
   "execution_count": 25,
   "metadata": {},
   "outputs": [],
   "source": [
    "# Let's do our imports\n",
    "import numpy as np\n",
    "import matplotlib.pyplot as plt\n",
    "import math\n",
    "import pandas_profiling\n",
    "import seaborn as sns; sns.set()\n",
    "import category_encoders as ce\n",
    "import graphviz\n",
    "from sklearn.tree import export_graphviz\n",
    "from sklearn.impute import SimpleImputer\n",
    "from sklearn.linear_model import LogisticRegression\n",
    "from sklearn.tree import DecisionTreeClassifier\n",
    "from sklearn.tree import DecisionTreeRegressor\n",
    "from sklearn.preprocessing import RobustScaler\n",
    "from sklearn.model_selection import train_test_split\n",
    "from sklearn.pipeline import make_pipeline\n",
    "from sklearn.ensemble import RandomForestClassifier\n",
    "from sklearn.ensemble import RandomForestRegressor\n",
    "from sklearn.metrics import accuracy_score\n",
    "%matplotlib inline"
   ]
  },
  {
   "cell_type": "code",
   "execution_count": 2,
   "metadata": {
    "colab": {},
    "colab_type": "code",
    "id": "5RDEWI9c9NCr"
   },
   "outputs": [],
   "source": [
    "import pandas as pd\n",
    "url = 'https://drive.google.com/uc?export=download&id=1fL7KPyxgGYfQDsuJoBWHIWwCAf-HTFpX'\n",
    "df = pd.read_csv(url, parse_dates=['game_date']).set_index('game_date')\n",
    "assert df.shape == (13958, 19)"
   ]
  },
  {
   "cell_type": "code",
   "execution_count": 3,
   "metadata": {},
   "outputs": [
    {
     "data": {
      "text/html": [
       "<div>\n",
       "<style scoped>\n",
       "    .dataframe tbody tr th:only-of-type {\n",
       "        vertical-align: middle;\n",
       "    }\n",
       "\n",
       "    .dataframe tbody tr th {\n",
       "        vertical-align: top;\n",
       "    }\n",
       "\n",
       "    .dataframe thead th {\n",
       "        text-align: right;\n",
       "    }\n",
       "</style>\n",
       "<table border=\"1\" class=\"dataframe\">\n",
       "  <thead>\n",
       "    <tr style=\"text-align: right;\">\n",
       "      <th></th>\n",
       "      <th>game_id</th>\n",
       "      <th>game_event_id</th>\n",
       "      <th>player_name</th>\n",
       "      <th>period</th>\n",
       "      <th>minutes_remaining</th>\n",
       "      <th>seconds_remaining</th>\n",
       "      <th>action_type</th>\n",
       "      <th>shot_type</th>\n",
       "      <th>shot_zone_basic</th>\n",
       "      <th>shot_zone_area</th>\n",
       "      <th>shot_zone_range</th>\n",
       "      <th>shot_distance</th>\n",
       "      <th>loc_x</th>\n",
       "      <th>loc_y</th>\n",
       "      <th>shot_made_flag</th>\n",
       "      <th>htm</th>\n",
       "      <th>vtm</th>\n",
       "      <th>season_type</th>\n",
       "      <th>scoremargin_before_shot</th>\n",
       "    </tr>\n",
       "    <tr>\n",
       "      <th>game_date</th>\n",
       "      <th></th>\n",
       "      <th></th>\n",
       "      <th></th>\n",
       "      <th></th>\n",
       "      <th></th>\n",
       "      <th></th>\n",
       "      <th></th>\n",
       "      <th></th>\n",
       "      <th></th>\n",
       "      <th></th>\n",
       "      <th></th>\n",
       "      <th></th>\n",
       "      <th></th>\n",
       "      <th></th>\n",
       "      <th></th>\n",
       "      <th></th>\n",
       "      <th></th>\n",
       "      <th></th>\n",
       "      <th></th>\n",
       "    </tr>\n",
       "  </thead>\n",
       "  <tbody>\n",
       "    <tr>\n",
       "      <th>2009-10-28</th>\n",
       "      <td>20900015</td>\n",
       "      <td>4</td>\n",
       "      <td>Stephen Curry</td>\n",
       "      <td>1</td>\n",
       "      <td>11</td>\n",
       "      <td>25</td>\n",
       "      <td>Jump Shot</td>\n",
       "      <td>3PT Field Goal</td>\n",
       "      <td>Above the Break 3</td>\n",
       "      <td>Right Side Center(RC)</td>\n",
       "      <td>24+ ft.</td>\n",
       "      <td>26</td>\n",
       "      <td>99</td>\n",
       "      <td>249</td>\n",
       "      <td>0</td>\n",
       "      <td>GSW</td>\n",
       "      <td>HOU</td>\n",
       "      <td>Regular Season</td>\n",
       "      <td>2.0</td>\n",
       "    </tr>\n",
       "    <tr>\n",
       "      <th>2009-10-28</th>\n",
       "      <td>20900015</td>\n",
       "      <td>17</td>\n",
       "      <td>Stephen Curry</td>\n",
       "      <td>1</td>\n",
       "      <td>9</td>\n",
       "      <td>31</td>\n",
       "      <td>Step Back Jump shot</td>\n",
       "      <td>2PT Field Goal</td>\n",
       "      <td>Mid-Range</td>\n",
       "      <td>Left Side Center(LC)</td>\n",
       "      <td>16-24 ft.</td>\n",
       "      <td>18</td>\n",
       "      <td>-122</td>\n",
       "      <td>145</td>\n",
       "      <td>1</td>\n",
       "      <td>GSW</td>\n",
       "      <td>HOU</td>\n",
       "      <td>Regular Season</td>\n",
       "      <td>0.0</td>\n",
       "    </tr>\n",
       "    <tr>\n",
       "      <th>2009-10-28</th>\n",
       "      <td>20900015</td>\n",
       "      <td>53</td>\n",
       "      <td>Stephen Curry</td>\n",
       "      <td>1</td>\n",
       "      <td>6</td>\n",
       "      <td>2</td>\n",
       "      <td>Jump Shot</td>\n",
       "      <td>2PT Field Goal</td>\n",
       "      <td>In The Paint (Non-RA)</td>\n",
       "      <td>Center(C)</td>\n",
       "      <td>8-16 ft.</td>\n",
       "      <td>14</td>\n",
       "      <td>-60</td>\n",
       "      <td>129</td>\n",
       "      <td>0</td>\n",
       "      <td>GSW</td>\n",
       "      <td>HOU</td>\n",
       "      <td>Regular Season</td>\n",
       "      <td>-4.0</td>\n",
       "    </tr>\n",
       "    <tr>\n",
       "      <th>2009-10-28</th>\n",
       "      <td>20900015</td>\n",
       "      <td>141</td>\n",
       "      <td>Stephen Curry</td>\n",
       "      <td>2</td>\n",
       "      <td>9</td>\n",
       "      <td>49</td>\n",
       "      <td>Jump Shot</td>\n",
       "      <td>2PT Field Goal</td>\n",
       "      <td>Mid-Range</td>\n",
       "      <td>Left Side(L)</td>\n",
       "      <td>16-24 ft.</td>\n",
       "      <td>19</td>\n",
       "      <td>-172</td>\n",
       "      <td>82</td>\n",
       "      <td>0</td>\n",
       "      <td>GSW</td>\n",
       "      <td>HOU</td>\n",
       "      <td>Regular Season</td>\n",
       "      <td>-4.0</td>\n",
       "    </tr>\n",
       "    <tr>\n",
       "      <th>2009-10-28</th>\n",
       "      <td>20900015</td>\n",
       "      <td>249</td>\n",
       "      <td>Stephen Curry</td>\n",
       "      <td>2</td>\n",
       "      <td>2</td>\n",
       "      <td>19</td>\n",
       "      <td>Jump Shot</td>\n",
       "      <td>2PT Field Goal</td>\n",
       "      <td>Mid-Range</td>\n",
       "      <td>Left Side Center(LC)</td>\n",
       "      <td>16-24 ft.</td>\n",
       "      <td>16</td>\n",
       "      <td>-68</td>\n",
       "      <td>148</td>\n",
       "      <td>0</td>\n",
       "      <td>GSW</td>\n",
       "      <td>HOU</td>\n",
       "      <td>Regular Season</td>\n",
       "      <td>0.0</td>\n",
       "    </tr>\n",
       "    <tr>\n",
       "      <th>2009-10-28</th>\n",
       "      <td>20900015</td>\n",
       "      <td>277</td>\n",
       "      <td>Stephen Curry</td>\n",
       "      <td>2</td>\n",
       "      <td>0</td>\n",
       "      <td>34</td>\n",
       "      <td>Jump Shot</td>\n",
       "      <td>2PT Field Goal</td>\n",
       "      <td>In The Paint (Non-RA)</td>\n",
       "      <td>Center(C)</td>\n",
       "      <td>Less Than 8 ft.</td>\n",
       "      <td>4</td>\n",
       "      <td>39</td>\n",
       "      <td>15</td>\n",
       "      <td>0</td>\n",
       "      <td>GSW</td>\n",
       "      <td>HOU</td>\n",
       "      <td>Regular Season</td>\n",
       "      <td>4.0</td>\n",
       "    </tr>\n",
       "    <tr>\n",
       "      <th>2009-10-28</th>\n",
       "      <td>20900015</td>\n",
       "      <td>413</td>\n",
       "      <td>Stephen Curry</td>\n",
       "      <td>4</td>\n",
       "      <td>10</td>\n",
       "      <td>26</td>\n",
       "      <td>Pullup Jump shot</td>\n",
       "      <td>2PT Field Goal</td>\n",
       "      <td>Mid-Range</td>\n",
       "      <td>Left Side Center(LC)</td>\n",
       "      <td>16-24 ft.</td>\n",
       "      <td>16</td>\n",
       "      <td>-64</td>\n",
       "      <td>149</td>\n",
       "      <td>1</td>\n",
       "      <td>GSW</td>\n",
       "      <td>HOU</td>\n",
       "      <td>Regular Season</td>\n",
       "      <td>-9.0</td>\n",
       "    </tr>\n",
       "    <tr>\n",
       "      <th>2009-10-28</th>\n",
       "      <td>20900015</td>\n",
       "      <td>453</td>\n",
       "      <td>Stephen Curry</td>\n",
       "      <td>4</td>\n",
       "      <td>6</td>\n",
       "      <td>31</td>\n",
       "      <td>Pullup Jump shot</td>\n",
       "      <td>2PT Field Goal</td>\n",
       "      <td>Mid-Range</td>\n",
       "      <td>Right Side Center(RC)</td>\n",
       "      <td>16-24 ft.</td>\n",
       "      <td>17</td>\n",
       "      <td>118</td>\n",
       "      <td>123</td>\n",
       "      <td>1</td>\n",
       "      <td>GSW</td>\n",
       "      <td>HOU</td>\n",
       "      <td>Regular Season</td>\n",
       "      <td>-6.0</td>\n",
       "    </tr>\n",
       "    <tr>\n",
       "      <th>2009-10-28</th>\n",
       "      <td>20900015</td>\n",
       "      <td>487</td>\n",
       "      <td>Stephen Curry</td>\n",
       "      <td>4</td>\n",
       "      <td>2</td>\n",
       "      <td>25</td>\n",
       "      <td>Pullup Jump shot</td>\n",
       "      <td>2PT Field Goal</td>\n",
       "      <td>Mid-Range</td>\n",
       "      <td>Right Side Center(RC)</td>\n",
       "      <td>16-24 ft.</td>\n",
       "      <td>20</td>\n",
       "      <td>121</td>\n",
       "      <td>162</td>\n",
       "      <td>1</td>\n",
       "      <td>GSW</td>\n",
       "      <td>HOU</td>\n",
       "      <td>Regular Season</td>\n",
       "      <td>-9.0</td>\n",
       "    </tr>\n",
       "    <tr>\n",
       "      <th>2009-10-28</th>\n",
       "      <td>20900015</td>\n",
       "      <td>490</td>\n",
       "      <td>Stephen Curry</td>\n",
       "      <td>4</td>\n",
       "      <td>1</td>\n",
       "      <td>47</td>\n",
       "      <td>Pullup Jump shot</td>\n",
       "      <td>2PT Field Goal</td>\n",
       "      <td>Mid-Range</td>\n",
       "      <td>Left Side Center(LC)</td>\n",
       "      <td>16-24 ft.</td>\n",
       "      <td>18</td>\n",
       "      <td>-125</td>\n",
       "      <td>134</td>\n",
       "      <td>1</td>\n",
       "      <td>GSW</td>\n",
       "      <td>HOU</td>\n",
       "      <td>Regular Season</td>\n",
       "      <td>-7.0</td>\n",
       "    </tr>\n",
       "  </tbody>\n",
       "</table>\n",
       "</div>"
      ],
      "text/plain": [
       "             game_id  game_event_id    player_name  period  minutes_remaining  \\\n",
       "game_date                                                                       \n",
       "2009-10-28  20900015              4  Stephen Curry       1                 11   \n",
       "2009-10-28  20900015             17  Stephen Curry       1                  9   \n",
       "2009-10-28  20900015             53  Stephen Curry       1                  6   \n",
       "2009-10-28  20900015            141  Stephen Curry       2                  9   \n",
       "2009-10-28  20900015            249  Stephen Curry       2                  2   \n",
       "2009-10-28  20900015            277  Stephen Curry       2                  0   \n",
       "2009-10-28  20900015            413  Stephen Curry       4                 10   \n",
       "2009-10-28  20900015            453  Stephen Curry       4                  6   \n",
       "2009-10-28  20900015            487  Stephen Curry       4                  2   \n",
       "2009-10-28  20900015            490  Stephen Curry       4                  1   \n",
       "\n",
       "            seconds_remaining          action_type       shot_type  \\\n",
       "game_date                                                            \n",
       "2009-10-28                 25            Jump Shot  3PT Field Goal   \n",
       "2009-10-28                 31  Step Back Jump shot  2PT Field Goal   \n",
       "2009-10-28                  2            Jump Shot  2PT Field Goal   \n",
       "2009-10-28                 49            Jump Shot  2PT Field Goal   \n",
       "2009-10-28                 19            Jump Shot  2PT Field Goal   \n",
       "2009-10-28                 34            Jump Shot  2PT Field Goal   \n",
       "2009-10-28                 26     Pullup Jump shot  2PT Field Goal   \n",
       "2009-10-28                 31     Pullup Jump shot  2PT Field Goal   \n",
       "2009-10-28                 25     Pullup Jump shot  2PT Field Goal   \n",
       "2009-10-28                 47     Pullup Jump shot  2PT Field Goal   \n",
       "\n",
       "                  shot_zone_basic         shot_zone_area  shot_zone_range  \\\n",
       "game_date                                                                   \n",
       "2009-10-28      Above the Break 3  Right Side Center(RC)          24+ ft.   \n",
       "2009-10-28              Mid-Range   Left Side Center(LC)        16-24 ft.   \n",
       "2009-10-28  In The Paint (Non-RA)              Center(C)         8-16 ft.   \n",
       "2009-10-28              Mid-Range           Left Side(L)        16-24 ft.   \n",
       "2009-10-28              Mid-Range   Left Side Center(LC)        16-24 ft.   \n",
       "2009-10-28  In The Paint (Non-RA)              Center(C)  Less Than 8 ft.   \n",
       "2009-10-28              Mid-Range   Left Side Center(LC)        16-24 ft.   \n",
       "2009-10-28              Mid-Range  Right Side Center(RC)        16-24 ft.   \n",
       "2009-10-28              Mid-Range  Right Side Center(RC)        16-24 ft.   \n",
       "2009-10-28              Mid-Range   Left Side Center(LC)        16-24 ft.   \n",
       "\n",
       "            shot_distance  loc_x  loc_y  shot_made_flag  htm  vtm  \\\n",
       "game_date                                                           \n",
       "2009-10-28             26     99    249               0  GSW  HOU   \n",
       "2009-10-28             18   -122    145               1  GSW  HOU   \n",
       "2009-10-28             14    -60    129               0  GSW  HOU   \n",
       "2009-10-28             19   -172     82               0  GSW  HOU   \n",
       "2009-10-28             16    -68    148               0  GSW  HOU   \n",
       "2009-10-28              4     39     15               0  GSW  HOU   \n",
       "2009-10-28             16    -64    149               1  GSW  HOU   \n",
       "2009-10-28             17    118    123               1  GSW  HOU   \n",
       "2009-10-28             20    121    162               1  GSW  HOU   \n",
       "2009-10-28             18   -125    134               1  GSW  HOU   \n",
       "\n",
       "               season_type  scoremargin_before_shot  \n",
       "game_date                                            \n",
       "2009-10-28  Regular Season                      2.0  \n",
       "2009-10-28  Regular Season                      0.0  \n",
       "2009-10-28  Regular Season                     -4.0  \n",
       "2009-10-28  Regular Season                     -4.0  \n",
       "2009-10-28  Regular Season                      0.0  \n",
       "2009-10-28  Regular Season                      4.0  \n",
       "2009-10-28  Regular Season                     -9.0  \n",
       "2009-10-28  Regular Season                     -6.0  \n",
       "2009-10-28  Regular Season                     -9.0  \n",
       "2009-10-28  Regular Season                     -7.0  "
      ]
     },
     "execution_count": 3,
     "metadata": {},
     "output_type": "execute_result"
    }
   ],
   "source": [
    "# Let's take a look\n",
    "df.head(10)"
   ]
  },
  {
   "cell_type": "code",
   "execution_count": 4,
   "metadata": {},
   "outputs": [
    {
     "data": {
      "text/plain": [
       "game_id                    0\n",
       "game_event_id              0\n",
       "player_name                0\n",
       "period                     0\n",
       "minutes_remaining          0\n",
       "seconds_remaining          0\n",
       "action_type                0\n",
       "shot_type                  0\n",
       "shot_zone_basic            0\n",
       "shot_zone_area             0\n",
       "shot_zone_range            0\n",
       "shot_distance              0\n",
       "loc_x                      0\n",
       "loc_y                      0\n",
       "shot_made_flag             0\n",
       "htm                        0\n",
       "vtm                        0\n",
       "season_type                0\n",
       "scoremargin_before_shot    0\n",
       "dtype: int64"
      ]
     },
     "execution_count": 4,
     "metadata": {},
     "output_type": "execute_result"
    }
   ],
   "source": [
    "# Quick check for missing values\n",
    "df.isna().sum()"
   ]
  },
  {
   "cell_type": "code",
   "execution_count": 83,
   "metadata": {},
   "outputs": [
    {
     "data": {
      "text/plain": [
       "((12249, 19), (1709, 19))"
      ]
     },
     "execution_count": 83,
     "metadata": {},
     "output_type": "execute_result"
    }
   ],
   "source": [
    "# Alright first let's dot he train-test split\n",
    "trains, test = train_test_split(df, test_size=0.1224)\n",
    "\n",
    "trains.shape, test.shape\n"
   ]
  },
  {
   "cell_type": "code",
   "execution_count": 84,
   "metadata": {},
   "outputs": [
    {
     "data": {
      "text/plain": [
       "((11081, 19), (1168, 19))"
      ]
     },
     "execution_count": 84,
     "metadata": {},
     "output_type": "execute_result"
    }
   ],
   "source": [
    "# And now the train val split\n",
    "train, val = train_test_split(trains, test_size=0.0953)\n",
    "\n",
    "train.shape, val.shape"
   ]
  },
  {
   "cell_type": "code",
   "execution_count": 85,
   "metadata": {},
   "outputs": [
    {
     "data": {
      "text/html": [
       "<div>\n",
       "<style scoped>\n",
       "    .dataframe tbody tr th:only-of-type {\n",
       "        vertical-align: middle;\n",
       "    }\n",
       "\n",
       "    .dataframe tbody tr th {\n",
       "        vertical-align: top;\n",
       "    }\n",
       "\n",
       "    .dataframe thead th {\n",
       "        text-align: right;\n",
       "    }\n",
       "</style>\n",
       "<table border=\"1\" class=\"dataframe\">\n",
       "  <thead>\n",
       "    <tr style=\"text-align: right;\">\n",
       "      <th></th>\n",
       "      <th>game_id</th>\n",
       "      <th>game_event_id</th>\n",
       "      <th>player_name</th>\n",
       "      <th>period</th>\n",
       "      <th>minutes_remaining</th>\n",
       "      <th>seconds_remaining</th>\n",
       "      <th>action_type</th>\n",
       "      <th>shot_type</th>\n",
       "      <th>shot_zone_basic</th>\n",
       "      <th>shot_zone_area</th>\n",
       "      <th>shot_zone_range</th>\n",
       "      <th>shot_distance</th>\n",
       "      <th>loc_x</th>\n",
       "      <th>loc_y</th>\n",
       "      <th>shot_made_flag</th>\n",
       "      <th>htm</th>\n",
       "      <th>vtm</th>\n",
       "      <th>season_type</th>\n",
       "      <th>scoremargin_before_shot</th>\n",
       "    </tr>\n",
       "    <tr>\n",
       "      <th>game_date</th>\n",
       "      <th></th>\n",
       "      <th></th>\n",
       "      <th></th>\n",
       "      <th></th>\n",
       "      <th></th>\n",
       "      <th></th>\n",
       "      <th></th>\n",
       "      <th></th>\n",
       "      <th></th>\n",
       "      <th></th>\n",
       "      <th></th>\n",
       "      <th></th>\n",
       "      <th></th>\n",
       "      <th></th>\n",
       "      <th></th>\n",
       "      <th></th>\n",
       "      <th></th>\n",
       "      <th></th>\n",
       "      <th></th>\n",
       "    </tr>\n",
       "  </thead>\n",
       "  <tbody>\n",
       "    <tr>\n",
       "      <th>2010-01-18</th>\n",
       "      <td>20900602</td>\n",
       "      <td>5</td>\n",
       "      <td>Stephen Curry</td>\n",
       "      <td>1</td>\n",
       "      <td>11</td>\n",
       "      <td>21</td>\n",
       "      <td>Driving Reverse Layup Shot</td>\n",
       "      <td>2PT Field Goal</td>\n",
       "      <td>Restricted Area</td>\n",
       "      <td>Center(C)</td>\n",
       "      <td>Less Than 8 ft.</td>\n",
       "      <td>2</td>\n",
       "      <td>-19</td>\n",
       "      <td>12</td>\n",
       "      <td>1</td>\n",
       "      <td>GSW</td>\n",
       "      <td>CHI</td>\n",
       "      <td>Regular Season</td>\n",
       "      <td>-2.0</td>\n",
       "    </tr>\n",
       "    <tr>\n",
       "      <th>2015-04-09</th>\n",
       "      <td>21401174</td>\n",
       "      <td>107</td>\n",
       "      <td>Stephen Curry</td>\n",
       "      <td>1</td>\n",
       "      <td>0</td>\n",
       "      <td>3</td>\n",
       "      <td>Pullup Jump shot</td>\n",
       "      <td>3PT Field Goal</td>\n",
       "      <td>Above the Break 3</td>\n",
       "      <td>Center(C)</td>\n",
       "      <td>24+ ft.</td>\n",
       "      <td>25</td>\n",
       "      <td>-15</td>\n",
       "      <td>254</td>\n",
       "      <td>1</td>\n",
       "      <td>GSW</td>\n",
       "      <td>POR</td>\n",
       "      <td>Regular Season</td>\n",
       "      <td>0.0</td>\n",
       "    </tr>\n",
       "    <tr>\n",
       "      <th>2010-04-02</th>\n",
       "      <td>20901130</td>\n",
       "      <td>273</td>\n",
       "      <td>Stephen Curry</td>\n",
       "      <td>2</td>\n",
       "      <td>0</td>\n",
       "      <td>1</td>\n",
       "      <td>Jump Shot</td>\n",
       "      <td>3PT Field Goal</td>\n",
       "      <td>Above the Break 3</td>\n",
       "      <td>Left Side Center(LC)</td>\n",
       "      <td>24+ ft.</td>\n",
       "      <td>36</td>\n",
       "      <td>-152</td>\n",
       "      <td>332</td>\n",
       "      <td>0</td>\n",
       "      <td>GSW</td>\n",
       "      <td>NYK</td>\n",
       "      <td>Regular Season</td>\n",
       "      <td>14.0</td>\n",
       "    </tr>\n",
       "    <tr>\n",
       "      <th>2010-01-18</th>\n",
       "      <td>20900602</td>\n",
       "      <td>260</td>\n",
       "      <td>Stephen Curry</td>\n",
       "      <td>2</td>\n",
       "      <td>3</td>\n",
       "      <td>9</td>\n",
       "      <td>Jump Shot</td>\n",
       "      <td>2PT Field Goal</td>\n",
       "      <td>In The Paint (Non-RA)</td>\n",
       "      <td>Center(C)</td>\n",
       "      <td>8-16 ft.</td>\n",
       "      <td>11</td>\n",
       "      <td>39</td>\n",
       "      <td>104</td>\n",
       "      <td>0</td>\n",
       "      <td>GSW</td>\n",
       "      <td>CHI</td>\n",
       "      <td>Regular Season</td>\n",
       "      <td>-2.0</td>\n",
       "    </tr>\n",
       "    <tr>\n",
       "      <th>2014-01-10</th>\n",
       "      <td>21300541</td>\n",
       "      <td>442</td>\n",
       "      <td>Stephen Curry</td>\n",
       "      <td>4</td>\n",
       "      <td>5</td>\n",
       "      <td>44</td>\n",
       "      <td>Jump Shot</td>\n",
       "      <td>2PT Field Goal</td>\n",
       "      <td>Mid-Range</td>\n",
       "      <td>Center(C)</td>\n",
       "      <td>16-24 ft.</td>\n",
       "      <td>16</td>\n",
       "      <td>18</td>\n",
       "      <td>167</td>\n",
       "      <td>0</td>\n",
       "      <td>GSW</td>\n",
       "      <td>BOS</td>\n",
       "      <td>Regular Season</td>\n",
       "      <td>4.0</td>\n",
       "    </tr>\n",
       "  </tbody>\n",
       "</table>\n",
       "</div>"
      ],
      "text/plain": [
       "             game_id  game_event_id    player_name  period  minutes_remaining  \\\n",
       "game_date                                                                       \n",
       "2010-01-18  20900602              5  Stephen Curry       1                 11   \n",
       "2015-04-09  21401174            107  Stephen Curry       1                  0   \n",
       "2010-04-02  20901130            273  Stephen Curry       2                  0   \n",
       "2010-01-18  20900602            260  Stephen Curry       2                  3   \n",
       "2014-01-10  21300541            442  Stephen Curry       4                  5   \n",
       "\n",
       "            seconds_remaining                 action_type       shot_type  \\\n",
       "game_date                                                                   \n",
       "2010-01-18                 21  Driving Reverse Layup Shot  2PT Field Goal   \n",
       "2015-04-09                  3            Pullup Jump shot  3PT Field Goal   \n",
       "2010-04-02                  1                   Jump Shot  3PT Field Goal   \n",
       "2010-01-18                  9                   Jump Shot  2PT Field Goal   \n",
       "2014-01-10                 44                   Jump Shot  2PT Field Goal   \n",
       "\n",
       "                  shot_zone_basic        shot_zone_area  shot_zone_range  \\\n",
       "game_date                                                                  \n",
       "2010-01-18        Restricted Area             Center(C)  Less Than 8 ft.   \n",
       "2015-04-09      Above the Break 3             Center(C)          24+ ft.   \n",
       "2010-04-02      Above the Break 3  Left Side Center(LC)          24+ ft.   \n",
       "2010-01-18  In The Paint (Non-RA)             Center(C)         8-16 ft.   \n",
       "2014-01-10              Mid-Range             Center(C)        16-24 ft.   \n",
       "\n",
       "            shot_distance  loc_x  loc_y  shot_made_flag  htm  vtm  \\\n",
       "game_date                                                           \n",
       "2010-01-18              2    -19     12               1  GSW  CHI   \n",
       "2015-04-09             25    -15    254               1  GSW  POR   \n",
       "2010-04-02             36   -152    332               0  GSW  NYK   \n",
       "2010-01-18             11     39    104               0  GSW  CHI   \n",
       "2014-01-10             16     18    167               0  GSW  BOS   \n",
       "\n",
       "               season_type  scoremargin_before_shot  \n",
       "game_date                                            \n",
       "2010-01-18  Regular Season                     -2.0  \n",
       "2015-04-09  Regular Season                      0.0  \n",
       "2010-04-02  Regular Season                     14.0  \n",
       "2010-01-18  Regular Season                     -2.0  \n",
       "2014-01-10  Regular Season                      4.0  "
      ]
     },
     "execution_count": 85,
     "metadata": {},
     "output_type": "execute_result"
    }
   ],
   "source": [
    "train.head()"
   ]
  },
  {
   "cell_type": "code",
   "execution_count": 71,
   "metadata": {},
   "outputs": [
    {
     "data": {
      "text/plain": [
       "Above the Break 3        5695\n",
       "Mid-Range                3194\n",
       "Restricted Area          2692\n",
       "In The Paint (Non-RA)    1250\n",
       "Left Corner 3             603\n",
       "Right Corner 3            428\n",
       "Backcourt                  96\n",
       "Name: shot_zone_basic, dtype: int64"
      ]
     },
     "execution_count": 71,
     "metadata": {},
     "output_type": "execute_result"
    }
   ],
   "source": [
    "df['shot_zone_basic'].value_counts()"
   ]
  },
  {
   "cell_type": "code",
   "execution_count": 72,
   "metadata": {},
   "outputs": [
    {
     "data": {
      "text/plain": [
       "24+ ft.            6721\n",
       "Less Than 8 ft.    3381\n",
       "16-24 ft.          2440\n",
       "8-16 ft.           1315\n",
       "Back Court Shot     101\n",
       "Name: shot_zone_range, dtype: int64"
      ]
     },
     "execution_count": 72,
     "metadata": {},
     "output_type": "execute_result"
    }
   ],
   "source": [
    "df['shot_zone_range'].value_counts()"
   ]
  },
  {
   "cell_type": "code",
   "execution_count": 73,
   "metadata": {},
   "outputs": [
    {
     "data": {
      "text/plain": [
       "493"
      ]
     },
     "execution_count": 73,
     "metadata": {},
     "output_type": "execute_result"
    }
   ],
   "source": [
    "df['loc_x'].nunique()"
   ]
  },
  {
   "cell_type": "code",
   "execution_count": 86,
   "metadata": {},
   "outputs": [],
   "source": [
    "# Now let's do some quick feature engineering\n",
    "def organize(X):\n",
    "    X = X.copy()\n",
    "    \n",
    "    # Let's make a list of the columns we can drop\n",
    "    dupes = ['shot_type', 'shot_zone_range']\n",
    "    meaningless=['player_name', 'game_id']\n",
    "    \n",
    "    # We'll combine minutes and seconds remaining into seconds remaining in period\n",
    "    X['sec_remaining_period'] = (X['minutes_remaining'] * 60) + (X['seconds_remaining'])\n",
    "    \n",
    "    # and we'll also use the period column to find seconds remaining in game\n",
    "    X['sec_remaining_game'] = ((4 - X['minutes_remaining']) * 720) + (X['sec_remaining_period'])\n",
    "    \n",
    "    # Add the now useless columns to our dupes list\n",
    "    dupes = dupes + ['minutes_remaining', 'seconds_remaining']\n",
    "    \n",
    "    # Use htm and vtm to get both teams, the strip GSW\n",
    "    X['opponent'] = X['htm'] + X['vtm']\n",
    "    X['opponent'] = X['opponent'].str.strip('GSW')\n",
    "    \n",
    "    # Use htm and a lambda function to find home court advantage\n",
    "    X['Homecourt_advantage'] = X['htm'].apply(lambda x: 1 if x == 'GSW' else 0)\n",
    "\n",
    "\n",
    "    # Now we drop them\n",
    "    todrop = dupes + meaningless\n",
    "    X = X.drop(columns=todrop)\n",
    "    \n",
    "    return X\n",
    "\n",
    "train = organize(train)\n",
    "val = organize(val)\n",
    "test = organize(test)"
   ]
  },
  {
   "cell_type": "code",
   "execution_count": 87,
   "metadata": {},
   "outputs": [
    {
     "data": {
      "text/html": [
       "<div>\n",
       "<style scoped>\n",
       "    .dataframe tbody tr th:only-of-type {\n",
       "        vertical-align: middle;\n",
       "    }\n",
       "\n",
       "    .dataframe tbody tr th {\n",
       "        vertical-align: top;\n",
       "    }\n",
       "\n",
       "    .dataframe thead th {\n",
       "        text-align: right;\n",
       "    }\n",
       "</style>\n",
       "<table border=\"1\" class=\"dataframe\">\n",
       "  <thead>\n",
       "    <tr style=\"text-align: right;\">\n",
       "      <th></th>\n",
       "      <th>game_event_id</th>\n",
       "      <th>period</th>\n",
       "      <th>action_type</th>\n",
       "      <th>shot_zone_basic</th>\n",
       "      <th>shot_zone_area</th>\n",
       "      <th>shot_distance</th>\n",
       "      <th>loc_x</th>\n",
       "      <th>loc_y</th>\n",
       "      <th>shot_made_flag</th>\n",
       "      <th>htm</th>\n",
       "      <th>vtm</th>\n",
       "      <th>season_type</th>\n",
       "      <th>scoremargin_before_shot</th>\n",
       "      <th>sec_remaining_period</th>\n",
       "      <th>sec_remaining_game</th>\n",
       "      <th>opponent</th>\n",
       "      <th>Homecourt_advantage</th>\n",
       "    </tr>\n",
       "    <tr>\n",
       "      <th>game_date</th>\n",
       "      <th></th>\n",
       "      <th></th>\n",
       "      <th></th>\n",
       "      <th></th>\n",
       "      <th></th>\n",
       "      <th></th>\n",
       "      <th></th>\n",
       "      <th></th>\n",
       "      <th></th>\n",
       "      <th></th>\n",
       "      <th></th>\n",
       "      <th></th>\n",
       "      <th></th>\n",
       "      <th></th>\n",
       "      <th></th>\n",
       "      <th></th>\n",
       "      <th></th>\n",
       "    </tr>\n",
       "  </thead>\n",
       "  <tbody>\n",
       "    <tr>\n",
       "      <th>2010-01-18</th>\n",
       "      <td>5</td>\n",
       "      <td>1</td>\n",
       "      <td>Driving Reverse Layup Shot</td>\n",
       "      <td>Restricted Area</td>\n",
       "      <td>Center(C)</td>\n",
       "      <td>2</td>\n",
       "      <td>-19</td>\n",
       "      <td>12</td>\n",
       "      <td>1</td>\n",
       "      <td>GSW</td>\n",
       "      <td>CHI</td>\n",
       "      <td>Regular Season</td>\n",
       "      <td>-2.0</td>\n",
       "      <td>681</td>\n",
       "      <td>-4359</td>\n",
       "      <td>CHI</td>\n",
       "      <td>1</td>\n",
       "    </tr>\n",
       "    <tr>\n",
       "      <th>2015-04-09</th>\n",
       "      <td>107</td>\n",
       "      <td>1</td>\n",
       "      <td>Pullup Jump shot</td>\n",
       "      <td>Above the Break 3</td>\n",
       "      <td>Center(C)</td>\n",
       "      <td>25</td>\n",
       "      <td>-15</td>\n",
       "      <td>254</td>\n",
       "      <td>1</td>\n",
       "      <td>GSW</td>\n",
       "      <td>POR</td>\n",
       "      <td>Regular Season</td>\n",
       "      <td>0.0</td>\n",
       "      <td>3</td>\n",
       "      <td>2883</td>\n",
       "      <td>POR</td>\n",
       "      <td>1</td>\n",
       "    </tr>\n",
       "    <tr>\n",
       "      <th>2010-04-02</th>\n",
       "      <td>273</td>\n",
       "      <td>2</td>\n",
       "      <td>Jump Shot</td>\n",
       "      <td>Above the Break 3</td>\n",
       "      <td>Left Side Center(LC)</td>\n",
       "      <td>36</td>\n",
       "      <td>-152</td>\n",
       "      <td>332</td>\n",
       "      <td>0</td>\n",
       "      <td>GSW</td>\n",
       "      <td>NYK</td>\n",
       "      <td>Regular Season</td>\n",
       "      <td>14.0</td>\n",
       "      <td>1</td>\n",
       "      <td>2881</td>\n",
       "      <td>NYK</td>\n",
       "      <td>1</td>\n",
       "    </tr>\n",
       "    <tr>\n",
       "      <th>2010-01-18</th>\n",
       "      <td>260</td>\n",
       "      <td>2</td>\n",
       "      <td>Jump Shot</td>\n",
       "      <td>In The Paint (Non-RA)</td>\n",
       "      <td>Center(C)</td>\n",
       "      <td>11</td>\n",
       "      <td>39</td>\n",
       "      <td>104</td>\n",
       "      <td>0</td>\n",
       "      <td>GSW</td>\n",
       "      <td>CHI</td>\n",
       "      <td>Regular Season</td>\n",
       "      <td>-2.0</td>\n",
       "      <td>189</td>\n",
       "      <td>909</td>\n",
       "      <td>CHI</td>\n",
       "      <td>1</td>\n",
       "    </tr>\n",
       "    <tr>\n",
       "      <th>2014-01-10</th>\n",
       "      <td>442</td>\n",
       "      <td>4</td>\n",
       "      <td>Jump Shot</td>\n",
       "      <td>Mid-Range</td>\n",
       "      <td>Center(C)</td>\n",
       "      <td>16</td>\n",
       "      <td>18</td>\n",
       "      <td>167</td>\n",
       "      <td>0</td>\n",
       "      <td>GSW</td>\n",
       "      <td>BOS</td>\n",
       "      <td>Regular Season</td>\n",
       "      <td>4.0</td>\n",
       "      <td>344</td>\n",
       "      <td>-376</td>\n",
       "      <td>BO</td>\n",
       "      <td>1</td>\n",
       "    </tr>\n",
       "  </tbody>\n",
       "</table>\n",
       "</div>"
      ],
      "text/plain": [
       "            game_event_id  period                 action_type  \\\n",
       "game_date                                                       \n",
       "2010-01-18              5       1  Driving Reverse Layup Shot   \n",
       "2015-04-09            107       1            Pullup Jump shot   \n",
       "2010-04-02            273       2                   Jump Shot   \n",
       "2010-01-18            260       2                   Jump Shot   \n",
       "2014-01-10            442       4                   Jump Shot   \n",
       "\n",
       "                  shot_zone_basic        shot_zone_area  shot_distance  loc_x  \\\n",
       "game_date                                                                       \n",
       "2010-01-18        Restricted Area             Center(C)              2    -19   \n",
       "2015-04-09      Above the Break 3             Center(C)             25    -15   \n",
       "2010-04-02      Above the Break 3  Left Side Center(LC)             36   -152   \n",
       "2010-01-18  In The Paint (Non-RA)             Center(C)             11     39   \n",
       "2014-01-10              Mid-Range             Center(C)             16     18   \n",
       "\n",
       "            loc_y  shot_made_flag  htm  vtm     season_type  \\\n",
       "game_date                                                     \n",
       "2010-01-18     12               1  GSW  CHI  Regular Season   \n",
       "2015-04-09    254               1  GSW  POR  Regular Season   \n",
       "2010-04-02    332               0  GSW  NYK  Regular Season   \n",
       "2010-01-18    104               0  GSW  CHI  Regular Season   \n",
       "2014-01-10    167               0  GSW  BOS  Regular Season   \n",
       "\n",
       "            scoremargin_before_shot  sec_remaining_period  sec_remaining_game  \\\n",
       "game_date                                                                       \n",
       "2010-01-18                     -2.0                   681               -4359   \n",
       "2015-04-09                      0.0                     3                2883   \n",
       "2010-04-02                     14.0                     1                2881   \n",
       "2010-01-18                     -2.0                   189                 909   \n",
       "2014-01-10                      4.0                   344                -376   \n",
       "\n",
       "           opponent  Homecourt_advantage  \n",
       "game_date                                 \n",
       "2010-01-18      CHI                    1  \n",
       "2015-04-09      POR                    1  \n",
       "2010-04-02      NYK                    1  \n",
       "2010-01-18      CHI                    1  \n",
       "2014-01-10       BO                    1  "
      ]
     },
     "execution_count": 87,
     "metadata": {},
     "output_type": "execute_result"
    }
   ],
   "source": [
    "train.head()"
   ]
  },
  {
   "cell_type": "code",
   "execution_count": 88,
   "metadata": {},
   "outputs": [],
   "source": [
    "# Let's set the target \n",
    "target = 'shot_made_flag'\n",
    "\n",
    "# And a df with our train columns\n",
    "trainfeats = train.drop(columns=[target])\n",
    "\n",
    "# We'll also separate the numeric features into one list...\n",
    "numfeat = trainfeats.select_dtypes(include='number').columns.tolist()\n",
    "\n",
    "# And the categorical features into one list...\n",
    "catfeat = trainfeats.select_dtypes(exclude='number').columns.tolist()\n",
    "\n",
    "# And we'll get the cardinality of the non-numeric features...\n",
    "cardinality = trainfeat.select_dtypes(exclude='number').nunique()\n",
    "\n",
    "\n",
    "feats = numfeat + catfeat\n"
   ]
  },
  {
   "cell_type": "code",
   "execution_count": 89,
   "metadata": {},
   "outputs": [
    {
     "data": {
      "text/plain": [
       "['action_type',\n",
       " 'shot_zone_basic',\n",
       " 'shot_zone_area',\n",
       " 'htm',\n",
       " 'vtm',\n",
       " 'season_type',\n",
       " 'opponent']"
      ]
     },
     "execution_count": 89,
     "metadata": {},
     "output_type": "execute_result"
    }
   ],
   "source": [
    "catfeat"
   ]
  },
  {
   "cell_type": "code",
   "execution_count": 90,
   "metadata": {},
   "outputs": [
    {
     "data": {
      "text/plain": [
       "['game_event_id',\n",
       " 'period',\n",
       " 'shot_distance',\n",
       " 'loc_x',\n",
       " 'loc_y',\n",
       " 'scoremargin_before_shot',\n",
       " 'sec_remaining_period',\n",
       " 'sec_remaining_game',\n",
       " 'Homecourt_advantage']"
      ]
     },
     "execution_count": 90,
     "metadata": {},
     "output_type": "execute_result"
    }
   ],
   "source": [
    "numfeat"
   ]
  },
  {
   "cell_type": "code",
   "execution_count": 91,
   "metadata": {},
   "outputs": [
    {
     "data": {
      "text/plain": [
       "season_type         2\n",
       "shot_zone_area      6\n",
       "shot_zone_basic     7\n",
       "htm                32\n",
       "vtm                32\n",
       "action_type        51\n",
       "dtype: int64"
      ]
     },
     "execution_count": 91,
     "metadata": {},
     "output_type": "execute_result"
    }
   ],
   "source": [
    "cardinality.sort_values()"
   ]
  },
  {
   "cell_type": "code",
   "execution_count": 109,
   "metadata": {},
   "outputs": [
    {
     "data": {
      "text/plain": [
       "16"
      ]
     },
     "execution_count": 109,
     "metadata": {},
     "output_type": "execute_result"
    }
   ],
   "source": [
    "len(feats)"
   ]
  },
  {
   "cell_type": "code",
   "execution_count": 93,
   "metadata": {},
   "outputs": [
    {
     "data": {
      "text/plain": [
       "0.5291941160545077"
      ]
     },
     "execution_count": 93,
     "metadata": {},
     "output_type": "execute_result"
    }
   ],
   "source": [
    "# Now let's arrange our data into X features matrix and y target vector \n",
    "xtrain = train[feats]\n",
    "ytrain = train[target]\n",
    "\n",
    "xval = val[feats]\n",
    "yval = val[target]\n",
    "\n",
    "xtest = test[feats]\n",
    "ytest = test[target]\n",
    "\n",
    "# and get our baseline\n",
    "majclass = ytrain.mode()[0]\n",
    "ypred = [majclass]*len(ytrain)\n",
    "\n",
    "baseline = accuracy_score(ytrain, ypred)\n",
    "baseline"
   ]
  },
  {
   "cell_type": "code",
   "execution_count": 103,
   "metadata": {},
   "outputs": [
    {
     "name": "stdout",
     "output_type": "stream",
     "text": [
      "Train Acc: 0.7613933760490931\n",
      "Val Acc: 0.675513698630137\n"
     ]
    }
   ],
   "source": [
    "# Now we have a baseline, we'll use a pipeline to get a better predictive model\n",
    "pipeline = make_pipeline(\n",
    "            ce.OrdinalEncoder(),\n",
    "            RandomForestClassifier(max_depth=10, n_estimators=100, random_state=42, n_jobs=-1)\n",
    "            )\n",
    "\n",
    "# Fit on train, score on val, predict on test\n",
    "pipeline.fit(xtrain, ytrain)\n",
    "print('Train Acc:', pipeline.score(xtrain, ytrain))\n",
    "print('Val Acc:', pipeline.score(xval, yval))"
   ]
  },
  {
   "cell_type": "code",
   "execution_count": 105,
   "metadata": {},
   "outputs": [
    {
     "name": "stdout",
     "output_type": "stream",
     "text": [
      "Train Acc: 0.8228499232921217\n",
      "Val Acc: 0.6566780821917808\n"
     ]
    }
   ],
   "source": [
    "pipeline = make_pipeline(\n",
    "            ce.OrdinalEncoder(),\n",
    "            RandomForestClassifier(max_depth=12, n_estimators=100, random_state=42, n_jobs=-1)\n",
    "            )\n",
    "\n",
    "# Fit on train, score on val, predict on test\n",
    "pipeline.fit(xtrain, ytrain)\n",
    "print('Train Acc:', pipeline.score(xtrain, ytrain))\n",
    "print('Val Acc:', pipeline.score(xval, yval))"
   ]
  },
  {
   "cell_type": "code",
   "execution_count": 104,
   "metadata": {},
   "outputs": [
    {
     "name": "stdout",
     "output_type": "stream",
     "text": [
      "Train Acc: 0.7298077790813103\n",
      "Val Acc: 0.6618150684931506\n"
     ]
    }
   ],
   "source": [
    "pipeline = make_pipeline(\n",
    "            ce.OrdinalEncoder(),\n",
    "            RandomForestClassifier(max_depth=9, n_estimators=100, random_state=42, n_jobs=-1)\n",
    "            )\n",
    "\n",
    "# Fit on train, score on val, predict on test\n",
    "pipeline.fit(xtrain, ytrain)\n",
    "print('Train Acc:', pipeline.score(xtrain, ytrain))\n",
    "print('Val Acc:', pipeline.score(xval, yval))"
   ]
  },
  {
   "cell_type": "code",
   "execution_count": 107,
   "metadata": {},
   "outputs": [
    {
     "name": "stdout",
     "output_type": "stream",
     "text": [
      "Test Acc: 0.6319485078993563\n"
     ]
    }
   ],
   "source": [
    "# Now we can find predict on test to find our test Accuracy\n",
    "print('Test Acc:', pipeline.score(xtest, ytest))"
   ]
  },
  {
   "cell_type": "code",
   "execution_count": 110,
   "metadata": {},
   "outputs": [
    {
     "data": {
      "image/png": "[encoded data removed]",
      "text/plain": [
       "<Figure size 720x576 with 1 Axes>"
      ]
     },
     "metadata": {
      "needs_background": "light"
     },
     "output_type": "display_data"
    }
   ],
   "source": [
    "# Now let's get the feature importances\n",
    "encoder  = pipeline.named_steps['ordinalencoder']\n",
    "forest = pipeline.named_steps['randomforestclassifier']\n",
    "\n",
    "featnames = encoder.transform(xval).columns\n",
    "importances = pd.Series(forest.feature_importances_, featnames)\n",
    "\n",
    "# And let's plot them\n",
    "n = 16\n",
    "plt.figure(figsize=(10, n/2))\n",
    "plt.title('Feature Importance')\n",
    "importances.sort_values()[-n:].plot.barh(color='navy');"
   ]
  },
  {
   "cell_type": "code",
   "execution_count": null,
   "metadata": {},
   "outputs": [],
   "source": []
  },
  {
   "cell_type": "markdown",
   "metadata": {},
   "source": [
    "### For the imaginary confusion matrix below:\n",
    "- **Accuracy** = (85 + 36) / 187 = **.647**\n",
    "- **Negative Precision** = 85 / 93 = **.914**\n",
    "- **Negative Recall** = 85 / 143 = **.594**\n",
    "- **Positive Precision** = 36 / 94 = **.383**\n",
    "- **Positive Recall** = 36 / 44 = **.818**"
   ]
  },
  {
   "cell_type": "markdown",
   "metadata": {},
   "source": [
    "### For the imaginary confusion matrix below:\n",
    "- **Negative F1 Score** = 2 * (.914 * .594) / (.914 + .594) = **.720**\n",
    "- **Positive F1 Score** = 2 * (.383 * .818) / (.383 + .818) = **.522**"
   ]
  },
  {
   "cell_type": "code",
   "execution_count": 113,
   "metadata": {},
   "outputs": [
    {
     "data": {
      "text/plain": [
       "array([[444, 151],\n",
       "       [250, 323]], dtype=int64)"
      ]
     },
     "execution_count": 113,
     "metadata": {},
     "output_type": "execute_result"
    }
   ],
   "source": [
    "ypred = pipeline.predict(xval)\n",
    "\n",
    "from sklearn.metrics import confusion_matrix\n",
    "\n",
    "cmatrix = confusion_matrix (yval, ypred)\n",
    "cmatrix"
   ]
  },
  {
   "cell_type": "code",
   "execution_count": 114,
   "metadata": {},
   "outputs": [
    {
     "data": {
      "text/plain": [
       "<matplotlib.axes._subplots.AxesSubplot at 0x2dcebcdb630>"
      ]
     },
     "execution_count": 114,
     "metadata": {},
     "output_type": "execute_result"
    },
    {
     "data": {
      "image/png": "[encoded data removed]",
      "text/plain": [
       "<Figure size 432x288 with 2 Axes>"
      ]
     },
     "metadata": {
      "needs_background": "light"
     },
     "output_type": "display_data"
    }
   ],
   "source": [
    "columns = [f'Predicted \"{c}\"' for c in yval.unique()]\n",
    "indices = [f'Actual \"{c}\"' for c in yval.unique()]\n",
    "\n",
    "cmdf = pd.DataFrame(cmatrix, columns=columns, index=indices)\n",
    "\n",
    "sns.heatmap(cmdf, cmap='viridis', annot=True, fmt='d')"
   ]
  },
  {
   "cell_type": "code",
   "execution_count": 115,
   "metadata": {},
   "outputs": [
    {
     "name": "stdout",
     "output_type": "stream",
     "text": [
      "              precision    recall  f1-score   support\n",
      "\n",
      "           0       0.64      0.75      0.69       595\n",
      "           1       0.68      0.56      0.62       573\n",
      "\n",
      "   micro avg       0.66      0.66      0.66      1168\n",
      "   macro avg       0.66      0.65      0.65      1168\n",
      "weighted avg       0.66      0.66      0.65      1168\n",
      "\n"
     ]
    }
   ],
   "source": [
    "from sklearn.metrics import classification_report\n",
    "\n",
    "print(classification_report(yval, ypred))"
   ]
  },
  {
   "cell_type": "markdown",
   "metadata": {
    "colab_type": "text",
    "id": "gWRX4uaY9NCw"
   },
   "source": [
    "This Sprint Challenge has two parts. To demonstrate mastery on each part, do all the required, numbered instructions. To earn a score of \"3\" for the part, also do the stretch goals.\n",
    "\n",
    "## Part 1. Prepare to model\n",
    "\n",
    "### Required\n",
    "\n",
    "1. **Do train/validate/test split.** Use the 2009-10 season through 2016-17 season to train, the 2017-18 season to validate, and the 2018-19 season to test. NBA seasons begin in October and end in June. You'll know you've split the data correctly when your train set has 11081 observations, your validation set has 1168 observations, and your test set has 1709 observations.\n",
    "2. **Begin with baselines for classification.** Your target to predict is `shot_made_flag`. What is the baseline accuracy for the validation set, if you guessed the majority class for every prediction?\n",
    "3. **Use Ordinal Encoding _or_ One-Hot Encoding,** for the categorical features you select.\n",
    "4. **Train a Random Forest _or_ Logistic Regression** with the features you select.\n",
    "\n",
    "### Stretch goals\n",
    "Engineer at least 4 of these 5 features:\n",
    "\n",
    "- **Homecourt Advantage**: Is the home team (`htm`) the Golden State Warriors (`GSW`) ?\n",
    "- **Opponent**: Who is the other team playing the Golden State Warriors?\n",
    "- **Seconds remaining in the period**: Combine minutes remaining with seconds remaining, to get the total number of seconds remaining in the period.\n",
    "- **Seconds remaining in the game**: Combine period, and seconds remaining in the period, to get the total number of seconds remaining in the game. A basketball game has 4 periods, each 12 minutes long.\n",
    "- **Made previous shot**: Was Steph Curry's previous shot successful?\n",
    "    \n",
    "\n",
    "## Part 2. Evaluate models\n",
    "\n",
    "### Required\n",
    "1. Get your model's **validation accuracy.** (Multiple times if you try multiple iterations.)\n",
    "2. Get your model's **test accuracy.** (One time, at the end.)\n",
    "3. Get and plot your Random Forest's **feature importances** _or_ your Logistic Regression's **coefficients.**\n",
    "4. Imagine this is the confusion matrix for a binary classification model. **Calculate accuracy, precision, and recall for this confusion matrix:**\n",
    "\n",
    "<table>\n",
    "  <tr>\n",
    "    <td colspan=\"2\" rowspan=\"2\"></td>\n",
    "    <td colspan=\"2\">Predicted</td>\n",
    "  </tr>\n",
    "  <tr>\n",
    "    <td>Negative</td>\n",
    "    <td>Positive</td>\n",
    "  </tr>\n",
    "  <tr>\n",
    "    <td rowspan=\"2\">Actual</td>\n",
    "    <td>Negative</td>\n",
    "    <td style=\"border: solid\">85</td>\n",
    "    <td style=\"border: solid\">58</td>\n",
    "  </tr>\n",
    "  <tr>\n",
    "    <td>Positive</td>\n",
    "    <td style=\"border: solid\">8</td>\n",
    "    <td style=\"border: solid\"> 36</td>\n",
    "  </tr>\n",
    "</table>\n",
    "\n",
    "\n",
    "### Stretch goals\n",
    "- Calculate F1 score for the provided, imaginary confusion matrix.\n",
    "- Plot a real confusion matrix for your basketball model, with row and column labels.\n",
    "- Print the classification report for your model."
   ]
  }
 ],
 "metadata": {
  "colab": {
   "name": "DS_Sprint_Challenge_7_Classification_1.ipynb",
   "provenance": [],
   "version": "0.3.2"
  },
  "kernelspec": {
   "display_name": "Python 3",
   "language": "python",
   "name": "python3"
  },
  "language_info": {
   "codemirror_mode": {
    "name": "ipython",
    "version": 3
   },
   "file_extension": ".py",
   "mimetype": "text/x-python",
   "name": "python",
   "nbconvert_exporter": "python",
   "pygments_lexer": "ipython3",
   "version": "3.7.3"
  }
 },
 "nbformat": 4,
 "nbformat_minor": 1
}
